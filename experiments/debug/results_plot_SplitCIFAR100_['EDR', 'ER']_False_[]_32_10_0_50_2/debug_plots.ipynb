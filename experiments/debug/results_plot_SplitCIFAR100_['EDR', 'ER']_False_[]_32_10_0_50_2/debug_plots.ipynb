{
 "cells": [
  {
   "cell_type": "code",
   "execution_count": 15,
   "id": "ab446b5d",
   "metadata": {},
   "outputs": [],
   "source": [
    "import numpy as np\n",
    "import pandas as pd\n",
    "import plotly.express as px"
   ]
  },
  {
   "cell_type": "markdown",
   "id": "38db5f4c",
   "metadata": {},
   "source": [
    "##### Batch_size: 32\n",
    "##### Delay: 50 batches\n",
    "##### Number of batches available for training after the delay: 2"
   ]
  },
  {
   "cell_type": "markdown",
   "id": "7b68f3b3",
   "metadata": {},
   "source": [
    "<!-- results_plot_mnist_['EDR', 'ER']_False_[]_32_5_0_32_150_2/train_batches_y_ExperienceDelayReplay.log -->\n",
    "\n",
    "#### Task 0\n",
    "#### Classes 69, 37, 71, 44, 19, 53, 90, 91, 93, 95\n"
   ]
  },
  {
   "cell_type": "code",
   "execution_count": 16,
   "id": "9c53dfb6",
   "metadata": {},
   "outputs": [
    {
     "data": {
      "application/vnd.plotly.v1+json": {
       "config": {
        "plotlyServerURL": "https://plot.ly"
       },
       "data": [
        {
         "coloraxis": "coloraxis",
         "hovertemplate": "Classes: %{x}<br>Batches: %{y}<br>Number of Instances: %{z}<extra></extra>",
         "name": "0",
         "type": "heatmap",
         "x": [
          "class_0",
          "class_1",
          "class_2",
          "class_3",
          "class_4",
          "class_5",
          "class_6",
          "class_7",
          "class_8",
          "class_9",
          "class_10",
          "class_11",
          "class_12",
          "class_13",
          "class_14",
          "class_15",
          "class_16",
          "class_17",
          "class_18",
          "class_19",
          "class_20",
          "class_21",
          "class_22",
          "class_23",
          "class_24",
          "class_25",
          "class_26",
          "class_27",
          "class_28",
          "class_29",
          "class_30",
          "class_31",
          "class_32",
          "class_33",
          "class_34",
          "class_35",
          "class_36",
          "class_37",
          "class_38",
          "class_39",
          "class_40",
          "class_41",
          "class_42",
          "class_43",
          "class_44",
          "class_45",
          "class_46",
          "class_47",
          "class_48",
          "class_49",
          "class_50",
          "class_51",
          "class_52",
          "class_53",
          "class_54",
          "class_55",
          "class_56",
          "class_57",
          "class_58",
          "class_59",
          "class_60",
          "class_61",
          "class_62",
          "class_63",
          "class_64",
          "class_65",
          "class_66",
          "class_67",
          "class_68",
          "class_69",
          "class_70",
          "class_71",
          "class_72",
          "class_73",
          "class_74",
          "class_75",
          "class_76",
          "class_77",
          "class_78",
          "class_79",
          "class_80",
          "class_81",
          "class_82",
          "class_83",
          "class_84",
          "class_85",
          "class_86",
          "class_87",
          "class_88",
          "class_89",
          "class_90",
          "class_91",
          "class_92",
          "class_93",
          "class_94",
          "class_95",
          "class_96",
          "class_97",
          "class_98",
          "class_99"
         ],
         "xaxis": "x",
         "y": {
          "bdata": "AAECAwQFBgcICQoLDA0ODxAREhMUFRYXGBkaGxwdHh8gISI=",
          "dtype": "i1"
         },
         "yaxis": "y",
         "z": {
          "bdata": "AAAAAAAAAAAAAAAAAAAAAAAAAAoAAAAAAAAAAAAAAAAAAAAAAAAAAAAAAAAMAAAAAAAAAAAGAAAAAAAAAAAAAAAAAAAABQAEAAAAAAAAAAAAAAAAAAAAAAAAAQUACAANAAAAAAAAAAAAAAAAAAAAAAAAAAAAAAASAAAAAAAAAAAAAAAAAAAAAAADAAAAAAAABgAAAAAAAAAACQAAAAAAAAAAAAAAAAAAAAEAAwAAAAAAAAAAAAAAAAAAAAAAAAEIAAUACgAAAAAAAAAAAAAAAAAAAAAAAAAAAAAACAAAAAAAAAAAAAAAAAAAAAAAAgAAAAAAAAUAAAAAAAAAAAgAAAAAAAAAAAAAAAAAAAAKAAIAAAAAAAAAAAAAAAAAAAAAAAADBgANAAcAAAAAAAAAAAAAAAAAAAAAAAAAAAAAAAsAAAAAAAAAAAAAAAAAAAAAAAIAAAAAAAAFAAAAAAAAAAACAAAAAAAAAAAAAAAAAAAACQAGAAAAAAAAAAAAAAAAAAAAAAAAAQcADAAJAAAAAAAAAAAAAAAAAAAAAAAAAAAAAAAQAAAAAAAAAAAAAAAAAAAAAAACAAAAAAAABgAAAAAAAAAABAAAAAAAAAAAAAAAAAAAAAQAAgAAAAAAAAAAAAAAAAAAAAAAAAMKAAsABgAAAAAAAAAAAAAAAAAAAAAAAAAAAAAADQAAAAAAAAAAAAAAAAAAAAAAAwAAAAAAAAYAAAAAAAAAAAcAAAAAAAAAAAAAAAAAAAAHAAMAAAAAAAAAAAAAAAAAAAAAAAAFCAAFAAcAAAAAAAAAAAAAAAAAAAAAAAAAAAAAAAcAAAAAAAAAAAAAAAAAAAAAAAQAAAAAAAAHAAAAAAAAAAAFAAAAAAAAAAAAAAAAAAAABQACAAAAAAAAAAAAAAAAAAAAAAAAAwkABwAPAAAAAAAAAAAAAAAAAAAAAAAAAAAAAAAMAAAAAAAAAAAAAAAAAAAAAAAFAAAAAAAABQAAAAAAAAAABwAAAAAAAAAAAAAAAAAAAAUAAwAAAAAAAAAAAAAAAAAAAAAAAAMIAAgACAAAAAAAAAAAAAAAAAAAAAAAAAAAAAAADAAAAAAAAAAAAAAAAAAAAAAABQAAAAAAAAUAAAAAAAAAAAkAAAAAAAAAAAAAAAAAAAAIAAMAAAAAAAAAAAAAAAAAAAAAAAACAwAJAAgAAAAAAAAAAAAAAAAAAAAAAAAAAAAAAAYAAAAAAAAAAAAAAAAAAAAAAAQAAAAAAAAEAAAAAAAAAAAIAAAAAAAAAAAAAAAAAAAABgAEAAAAAAAAAAAAAAAAAAAAAAAABwUACwAJAAAAAAAAAAAAAAAAAAAAAAAAAAAAAAAOAAAAAAAAAAAAAAAAAAAAAAADAAAAAAAAAwAAAAAAAAAACgAAAAAAAAAAAAAAAAAAAAQAAgAAAAAAAAAAAAAAAAAAAAAAAAIIAAoACAAAAAAAAAAAAAAAAAAAAAAAAAAAAAAABwAAAAAAAAAAAAAAAAAAAAAABQAAAAAAAAgAAAAAAAAAAAYAAAAAAAAAAAAAAAAAAAAIAAMAAAAAAAAAAAAAAAAAAAAAAAADCQALAAQAAAAAAAAAAAAAAAAAAAAAAAAAAAAAAAkAAAAAAAAAAAAAAAAAAAAAAAMAAAAAAAAFAAAAAAAAAAAGAAAAAAAAAAAAAAAAAAAACgAGAAAAAAAAAAAAAAAAAAAAAAAAAgcABgAKAAAAAAAAAAAAAAAAAAAAAAAAAAAAAAAIAAAAAAAAAAAAAAAAAAAAAAADAAAAAAAABgAAAAAAAAAABgAAAAAAAAAAAAAAAAAAAAUABAAAAAAAAAAAAAAAAAAAAAAAAAIIAAsACwAAAAAAAAAAAAAAAAAAAAAAAAAAAAAACgAAAAAAAAAAAAAAAAAAAAAAAQAAAAAAAAQAAAAAAAAAAAgAAAAAAAAAAAAAAAAAAAAFAAQAAAAAAAAAAAAAAAAAAAAAAAAEBwAMAAkAAAAAAAAAAAAAAAAAAAAAAAAAAAAAAA4AAAAAAAAAAAAAAAAAAAAAAAIAAAAAAAADAAAAAAAAAAAEAAAAAAAAAAAAAAAAAAAACAAFAAAAAAAAAAAAAAAAAAAAAAAAAwUACwAJAAAAAAAAAAAAAAAAAAAAAAAAAAAAAAAIAAAAAAAAAAAAAAAAAAAAAAADAAAAAAAAAAAAAAAAAAAACwAAAAAAAAAAAAAAAAAAAAcAAAAAAAAAAAAAAAAAAAAAAAAAAAYEAA0ADAAAAAAAAAAAAAAAAAAAAAAAAAAAAAAACgAAAAAAAAAAAAAAAAAAAAAAAwAAAAAAAAIAAAAAAAAAAAcAAAAAAAAAAAAAAAAAAAACAAMAAAAAAAAAAAAAAAAAAAAAAAADCgAMAAwAAAAAAAAAAAAAAAAAAAAAAAAAAAAAAAoAAAAAAAAAAAAAAAAAAAAAAAIAAAAAAAADAAAAAAAAAAAHAAAAAAAAAAAAAAAAAAAACgADAAAAAAAAAAAAAAAAAAAAAAAAAgYACgALAAAAAAAAAAAAAAAAAAAAAAAAAAAAAAAKAAAAAAAAAAAAAAAAAAAAAAADAAAAAAAAAgAAAAAAAAAABgAAAAAAAAAAAAAAAAAAAAMABAAAAAAAAAAAAAAAAAAAAAAAAAAJAA0ADgAAAAAAAAAAAAAAAAAAAAAAAAAAAAAACgAAAAAAAAAAAAAAAAAAAAAAAgAAAAAAAAUAAAAAAAAAAAUAAAAAAAAAAAAAAAAAAAALAAEAAAAAAAAAAAAAAAAAAAAAAAAECwAJAAYAAAAAAAAAAAAAAAAAAAAAAAAAAAAAAAgAAAAAAAAAAAAAAAAAAAAAAAQAAAAAAAACAAAAAAAAAAAGAAAAAAAAAAAAAAAAAAAABQADAAAAAAAAAAAAAAAAAAAAAAAABAkADAALAAAAAAAAAAAAAAAAAAAAAAAAAAAAAAAJAAAAAAAAAAAAAAAAAAAAAAACAAAAAAAAAwAAAAAAAAAABQAAAAAAAAAAAAAAAAAAAAcAAwAAAAAAAAAAAAAAAAAAAAAAAAUFAAwADQAAAAAAAAAAAAAAAAAAAAAAAAAAAAAABwAAAAAAAAAAAAAAAAAAAAAAAQAAAAAAAAQAAAAAAAAAAAQAAAAAAAAAAAAAAAAAAAAFAAIAAAAAAAAAAAAAAAAAAAAAAAAFCAANAA8AAAAAAAAAAAAAAAAAAAAAAAAAAAAAAAcAAAAAAAAAAAAAAAAAAAAAAAMAAAAAAAAGAAAAAAAAAAAHAAAAAAAAAAAAAAAAAAAAAwACAAAAAAAAAAAAAAAAAAAAAAAABQgADAALAAAAAAAAAAAAAAAAAAAAAAAAAAAAAAAHAAAAAAAAAAAAAAAAAAAAAAAEAAAAAAAAAgAAAAAAAAAABwAAAAAAAAAAAAAAAAAAAAMAAwAAAAAAAAAAAAAAAAAAAAAAAAUIAA4ACwAAAAAAAAAAAAAAAAAAAAAAAAAAAAAABQAAAAAAAAAAAAAAAAAAAAAADQAAAAAAAAoAAAAAAAAAAAMAAAAAAAAAAAAAAAAAAAAEAA4AAAAAAAAAAAAAAAAAAAAAAAAFAQAGAAMAAAAAAAAAAAAAAAAAAAAAAAAAAAAAAAMAAAAAAAAAAAAAAAAAAAAAAAkAAAAAAAAIAAAAAAAAAAACAAAAAAAAAAAAAAAAAAAACAAHAAAAAAAAAAAAAAAAAAAAAAAADAQACAADAAAAAAAAAAAAAAAAAAAAAAAAAAAAAAACAAAAAAAAAAAAAAAAAAAAAAAMAAAAAAAABgAAAAAAAAAACAAAAAAAAAAAAAAAAAAAAAUAAwAAAAAAAAAAAAAAAAAAAAAAAAsCAAkABgAAAAAAAAAAAAAAAAAAAAAAAAAAAAAAAwAAAAAAAAAAAAAAAAAAAAAADAAAAAAAAAwAAAAAAAAAAAQAAAAAAAAAAAAAAAAAAAAEAAYAAAAAAAAAAAAAAAAAAAAAAAAJAgAHAAUAAAAAAAAAAAAAAAAAAAAAAAAAAAAAAAUAAAAAAAAAAAAAAAAAAAAAAAkAAAAAAAAIAAAAAAAAAAAGAAAAAAAAAAAAAAAAAAAAAgAIAAAAAAAAAAAAAAAAAAAAAAAACAMACAAHAAAAAAAAAAAAAAAAAAAAAAAAAAAAAAAEAAAAAAAAAAAAAAAAAAAAAAAIAAAAAAAACwAAAAAAAAAABgAAAAAAAAAAAAAAAAAAAAMABQAAAAAAAAAAAAAAAAAAAAAAAA0EAAMABwAAAAAAAAAAAAAAAAAAAAAAAAAAAAAAAgAAAAAAAAAAAAAAAAAAAAAADQAAAAAAAAcAAAAAAAAAAAMAAAAAAAAAAAAAAAAAAAAFAAcAAAAAAAAAAAAAAAAAAAAAAAAKAQAHAAkAAAAAAAAAAAAAAAAAAAAAAAAAAAAAAAYAAAAAAAAAAAAAAAAAAAAAAAQAAAAAAAAGAAAAAAAAAAAEAAAAAAAAAAAAAAAAAAAABgAKAAAAAAAAAAAAAAAAAAAAAAAADgMABgAFAAAAAAAAAAAAAAAAAAAAAAAAAAAAAAACAAAAAAAAAAAAAAAAAAAAAAAMAAAAAAAACgAAAAAAAAAAAgAAAAAAAAAAAAAAAAAAAAoACAAAAAAAAAAAAAAAAAAAAAAAAAoBAAUABAAAAAA=",
          "dtype": "i1",
          "shape": "35, 100"
         }
        }
       ],
       "layout": {
        "coloraxis": {
         "colorbar": {
          "title": {
           "text": "Number of Instances"
          }
         },
         "colorscale": [
          [
           0,
           "#440154"
          ],
          [
           0.1111111111111111,
           "#482878"
          ],
          [
           0.2222222222222222,
           "#3e4989"
          ],
          [
           0.3333333333333333,
           "#31688e"
          ],
          [
           0.4444444444444444,
           "#26828e"
          ],
          [
           0.5555555555555556,
           "#1f9e89"
          ],
          [
           0.6666666666666666,
           "#35b779"
          ],
          [
           0.7777777777777778,
           "#6ece58"
          ],
          [
           0.8888888888888888,
           "#b5de2b"
          ],
          [
           1,
           "#fde725"
          ]
         ]
        },
        "height": 900,
        "margin": {
         "t": 60
        },
        "template": {
         "data": {
          "bar": [
           {
            "error_x": {
             "color": "#2a3f5f"
            },
            "error_y": {
             "color": "#2a3f5f"
            },
            "marker": {
             "line": {
              "color": "#E5ECF6",
              "width": 0.5
             },
             "pattern": {
              "fillmode": "overlay",
              "size": 10,
              "solidity": 0.2
             }
            },
            "type": "bar"
           }
          ],
          "barpolar": [
           {
            "marker": {
             "line": {
              "color": "#E5ECF6",
              "width": 0.5
             },
             "pattern": {
              "fillmode": "overlay",
              "size": 10,
              "solidity": 0.2
             }
            },
            "type": "barpolar"
           }
          ],
          "carpet": [
           {
            "aaxis": {
             "endlinecolor": "#2a3f5f",
             "gridcolor": "white",
             "linecolor": "white",
             "minorgridcolor": "white",
             "startlinecolor": "#2a3f5f"
            },
            "baxis": {
             "endlinecolor": "#2a3f5f",
             "gridcolor": "white",
             "linecolor": "white",
             "minorgridcolor": "white",
             "startlinecolor": "#2a3f5f"
            },
            "type": "carpet"
           }
          ],
          "choropleth": [
           {
            "colorbar": {
             "outlinewidth": 0,
             "ticks": ""
            },
            "type": "choropleth"
           }
          ],
          "contour": [
           {
            "colorbar": {
             "outlinewidth": 0,
             "ticks": ""
            },
            "colorscale": [
             [
              0,
              "#0d0887"
             ],
             [
              0.1111111111111111,
              "#46039f"
             ],
             [
              0.2222222222222222,
              "#7201a8"
             ],
             [
              0.3333333333333333,
              "#9c179e"
             ],
             [
              0.4444444444444444,
              "#bd3786"
             ],
             [
              0.5555555555555556,
              "#d8576b"
             ],
             [
              0.6666666666666666,
              "#ed7953"
             ],
             [
              0.7777777777777778,
              "#fb9f3a"
             ],
             [
              0.8888888888888888,
              "#fdca26"
             ],
             [
              1,
              "#f0f921"
             ]
            ],
            "type": "contour"
           }
          ],
          "contourcarpet": [
           {
            "colorbar": {
             "outlinewidth": 0,
             "ticks": ""
            },
            "type": "contourcarpet"
           }
          ],
          "heatmap": [
           {
            "colorbar": {
             "outlinewidth": 0,
             "ticks": ""
            },
            "colorscale": [
             [
              0,
              "#0d0887"
             ],
             [
              0.1111111111111111,
              "#46039f"
             ],
             [
              0.2222222222222222,
              "#7201a8"
             ],
             [
              0.3333333333333333,
              "#9c179e"
             ],
             [
              0.4444444444444444,
              "#bd3786"
             ],
             [
              0.5555555555555556,
              "#d8576b"
             ],
             [
              0.6666666666666666,
              "#ed7953"
             ],
             [
              0.7777777777777778,
              "#fb9f3a"
             ],
             [
              0.8888888888888888,
              "#fdca26"
             ],
             [
              1,
              "#f0f921"
             ]
            ],
            "type": "heatmap"
           }
          ],
          "histogram": [
           {
            "marker": {
             "pattern": {
              "fillmode": "overlay",
              "size": 10,
              "solidity": 0.2
             }
            },
            "type": "histogram"
           }
          ],
          "histogram2d": [
           {
            "colorbar": {
             "outlinewidth": 0,
             "ticks": ""
            },
            "colorscale": [
             [
              0,
              "#0d0887"
             ],
             [
              0.1111111111111111,
              "#46039f"
             ],
             [
              0.2222222222222222,
              "#7201a8"
             ],
             [
              0.3333333333333333,
              "#9c179e"
             ],
             [
              0.4444444444444444,
              "#bd3786"
             ],
             [
              0.5555555555555556,
              "#d8576b"
             ],
             [
              0.6666666666666666,
              "#ed7953"
             ],
             [
              0.7777777777777778,
              "#fb9f3a"
             ],
             [
              0.8888888888888888,
              "#fdca26"
             ],
             [
              1,
              "#f0f921"
             ]
            ],
            "type": "histogram2d"
           }
          ],
          "histogram2dcontour": [
           {
            "colorbar": {
             "outlinewidth": 0,
             "ticks": ""
            },
            "colorscale": [
             [
              0,
              "#0d0887"
             ],
             [
              0.1111111111111111,
              "#46039f"
             ],
             [
              0.2222222222222222,
              "#7201a8"
             ],
             [
              0.3333333333333333,
              "#9c179e"
             ],
             [
              0.4444444444444444,
              "#bd3786"
             ],
             [
              0.5555555555555556,
              "#d8576b"
             ],
             [
              0.6666666666666666,
              "#ed7953"
             ],
             [
              0.7777777777777778,
              "#fb9f3a"
             ],
             [
              0.8888888888888888,
              "#fdca26"
             ],
             [
              1,
              "#f0f921"
             ]
            ],
            "type": "histogram2dcontour"
           }
          ],
          "mesh3d": [
           {
            "colorbar": {
             "outlinewidth": 0,
             "ticks": ""
            },
            "type": "mesh3d"
           }
          ],
          "parcoords": [
           {
            "line": {
             "colorbar": {
              "outlinewidth": 0,
              "ticks": ""
             }
            },
            "type": "parcoords"
           }
          ],
          "pie": [
           {
            "automargin": true,
            "type": "pie"
           }
          ],
          "scatter": [
           {
            "fillpattern": {
             "fillmode": "overlay",
             "size": 10,
             "solidity": 0.2
            },
            "type": "scatter"
           }
          ],
          "scatter3d": [
           {
            "line": {
             "colorbar": {
              "outlinewidth": 0,
              "ticks": ""
             }
            },
            "marker": {
             "colorbar": {
              "outlinewidth": 0,
              "ticks": ""
             }
            },
            "type": "scatter3d"
           }
          ],
          "scattercarpet": [
           {
            "marker": {
             "colorbar": {
              "outlinewidth": 0,
              "ticks": ""
             }
            },
            "type": "scattercarpet"
           }
          ],
          "scattergeo": [
           {
            "marker": {
             "colorbar": {
              "outlinewidth": 0,
              "ticks": ""
             }
            },
            "type": "scattergeo"
           }
          ],
          "scattergl": [
           {
            "marker": {
             "colorbar": {
              "outlinewidth": 0,
              "ticks": ""
             }
            },
            "type": "scattergl"
           }
          ],
          "scattermap": [
           {
            "marker": {
             "colorbar": {
              "outlinewidth": 0,
              "ticks": ""
             }
            },
            "type": "scattermap"
           }
          ],
          "scattermapbox": [
           {
            "marker": {
             "colorbar": {
              "outlinewidth": 0,
              "ticks": ""
             }
            },
            "type": "scattermapbox"
           }
          ],
          "scatterpolar": [
           {
            "marker": {
             "colorbar": {
              "outlinewidth": 0,
              "ticks": ""
             }
            },
            "type": "scatterpolar"
           }
          ],
          "scatterpolargl": [
           {
            "marker": {
             "colorbar": {
              "outlinewidth": 0,
              "ticks": ""
             }
            },
            "type": "scatterpolargl"
           }
          ],
          "scatterternary": [
           {
            "marker": {
             "colorbar": {
              "outlinewidth": 0,
              "ticks": ""
             }
            },
            "type": "scatterternary"
           }
          ],
          "surface": [
           {
            "colorbar": {
             "outlinewidth": 0,
             "ticks": ""
            },
            "colorscale": [
             [
              0,
              "#0d0887"
             ],
             [
              0.1111111111111111,
              "#46039f"
             ],
             [
              0.2222222222222222,
              "#7201a8"
             ],
             [
              0.3333333333333333,
              "#9c179e"
             ],
             [
              0.4444444444444444,
              "#bd3786"
             ],
             [
              0.5555555555555556,
              "#d8576b"
             ],
             [
              0.6666666666666666,
              "#ed7953"
             ],
             [
              0.7777777777777778,
              "#fb9f3a"
             ],
             [
              0.8888888888888888,
              "#fdca26"
             ],
             [
              1,
              "#f0f921"
             ]
            ],
            "type": "surface"
           }
          ],
          "table": [
           {
            "cells": {
             "fill": {
              "color": "#EBF0F8"
             },
             "line": {
              "color": "white"
             }
            },
            "header": {
             "fill": {
              "color": "#C8D4E3"
             },
             "line": {
              "color": "white"
             }
            },
            "type": "table"
           }
          ]
         },
         "layout": {
          "annotationdefaults": {
           "arrowcolor": "#2a3f5f",
           "arrowhead": 0,
           "arrowwidth": 1
          },
          "autotypenumbers": "strict",
          "coloraxis": {
           "colorbar": {
            "outlinewidth": 0,
            "ticks": ""
           }
          },
          "colorscale": {
           "diverging": [
            [
             0,
             "#8e0152"
            ],
            [
             0.1,
             "#c51b7d"
            ],
            [
             0.2,
             "#de77ae"
            ],
            [
             0.3,
             "#f1b6da"
            ],
            [
             0.4,
             "#fde0ef"
            ],
            [
             0.5,
             "#f7f7f7"
            ],
            [
             0.6,
             "#e6f5d0"
            ],
            [
             0.7,
             "#b8e186"
            ],
            [
             0.8,
             "#7fbc41"
            ],
            [
             0.9,
             "#4d9221"
            ],
            [
             1,
             "#276419"
            ]
           ],
           "sequential": [
            [
             0,
             "#0d0887"
            ],
            [
             0.1111111111111111,
             "#46039f"
            ],
            [
             0.2222222222222222,
             "#7201a8"
            ],
            [
             0.3333333333333333,
             "#9c179e"
            ],
            [
             0.4444444444444444,
             "#bd3786"
            ],
            [
             0.5555555555555556,
             "#d8576b"
            ],
            [
             0.6666666666666666,
             "#ed7953"
            ],
            [
             0.7777777777777778,
             "#fb9f3a"
            ],
            [
             0.8888888888888888,
             "#fdca26"
            ],
            [
             1,
             "#f0f921"
            ]
           ],
           "sequentialminus": [
            [
             0,
             "#0d0887"
            ],
            [
             0.1111111111111111,
             "#46039f"
            ],
            [
             0.2222222222222222,
             "#7201a8"
            ],
            [
             0.3333333333333333,
             "#9c179e"
            ],
            [
             0.4444444444444444,
             "#bd3786"
            ],
            [
             0.5555555555555556,
             "#d8576b"
            ],
            [
             0.6666666666666666,
             "#ed7953"
            ],
            [
             0.7777777777777778,
             "#fb9f3a"
            ],
            [
             0.8888888888888888,
             "#fdca26"
            ],
            [
             1,
             "#f0f921"
            ]
           ]
          },
          "colorway": [
           "#636efa",
           "#EF553B",
           "#00cc96",
           "#ab63fa",
           "#FFA15A",
           "#19d3f3",
           "#FF6692",
           "#B6E880",
           "#FF97FF",
           "#FECB52"
          ],
          "font": {
           "color": "#2a3f5f"
          },
          "geo": {
           "bgcolor": "white",
           "lakecolor": "white",
           "landcolor": "#E5ECF6",
           "showlakes": true,
           "showland": true,
           "subunitcolor": "white"
          },
          "hoverlabel": {
           "align": "left"
          },
          "hovermode": "closest",
          "mapbox": {
           "style": "light"
          },
          "paper_bgcolor": "white",
          "plot_bgcolor": "#E5ECF6",
          "polar": {
           "angularaxis": {
            "gridcolor": "white",
            "linecolor": "white",
            "ticks": ""
           },
           "bgcolor": "#E5ECF6",
           "radialaxis": {
            "gridcolor": "white",
            "linecolor": "white",
            "ticks": ""
           }
          },
          "scene": {
           "xaxis": {
            "backgroundcolor": "#E5ECF6",
            "gridcolor": "white",
            "gridwidth": 2,
            "linecolor": "white",
            "showbackground": true,
            "ticks": "",
            "zerolinecolor": "white"
           },
           "yaxis": {
            "backgroundcolor": "#E5ECF6",
            "gridcolor": "white",
            "gridwidth": 2,
            "linecolor": "white",
            "showbackground": true,
            "ticks": "",
            "zerolinecolor": "white"
           },
           "zaxis": {
            "backgroundcolor": "#E5ECF6",
            "gridcolor": "white",
            "gridwidth": 2,
            "linecolor": "white",
            "showbackground": true,
            "ticks": "",
            "zerolinecolor": "white"
           }
          },
          "shapedefaults": {
           "line": {
            "color": "#2a3f5f"
           }
          },
          "ternary": {
           "aaxis": {
            "gridcolor": "white",
            "linecolor": "white",
            "ticks": ""
           },
           "baxis": {
            "gridcolor": "white",
            "linecolor": "white",
            "ticks": ""
           },
           "bgcolor": "#E5ECF6",
           "caxis": {
            "gridcolor": "white",
            "linecolor": "white",
            "ticks": ""
           }
          },
          "title": {
           "x": 0.05
          },
          "xaxis": {
           "automargin": true,
           "gridcolor": "white",
           "linecolor": "white",
           "ticks": "",
           "title": {
            "standoff": 15
           },
           "zerolinecolor": "white",
           "zerolinewidth": 2
          },
          "yaxis": {
           "automargin": true,
           "gridcolor": "white",
           "linecolor": "white",
           "ticks": "",
           "title": {
            "standoff": 15
           },
           "zerolinecolor": "white",
           "zerolinewidth": 2
          }
         }
        },
        "title": {
         "text": "EDR Class Distribution in Each Batch - Task ID 0"
        },
        "xaxis": {
         "anchor": "y",
         "domain": [
          0,
          1
         ],
         "title": {
          "text": "Classes"
         }
        },
        "yaxis": {
         "anchor": "x",
         "autorange": "reversed",
         "domain": [
          0,
          1
         ],
         "title": {
          "text": "Batches"
         }
        }
       }
      }
     },
     "metadata": {},
     "output_type": "display_data"
    }
   ],
   "source": [
    "import numpy as np\n",
    "import plotly.express as px\n",
    "\n",
    "task_id = 0\n",
    "\n",
    "df = pd.read_csv(\"../results_plot_SplitCIFAR100_['EDR', 'ER']_False_[]_32_10_0_50_2/train_batches_y_ExperienceDelayReplay.log\", \n",
    "                 names=[\"task_id\", \"class_0\", \"class_1\", \"class_2\", \"class_3\", \"class_4\", \"class_5\", \"class_6\", \n",
    "                            \"class_7\", \"class_8\", \"class_9\", \"class_10\", \"class_11\", \"class_12\", \"class_13\", \"class_14\", \"class_15\", \"class_16\",\n",
    "                            \"class_17\", \"class_18\", \"class_19\", \"class_20\", \"class_21\", \"class_22\", \"class_23\", \"class_24\", \"class_25\", \"class_26\",\n",
    "                            \"class_27\", \"class_28\", \"class_29\", \"class_30\", \"class_31\", \"class_32\", \"class_33\", \"class_34\", \"class_35\", \"class_36\",\n",
    "                            \"class_37\", \"class_38\", \"class_39\", \"class_40\", \"class_41\", \"class_42\", \"class_43\", \"class_44\", \"class_45\", \"class_46\",\n",
    "                            \"class_47\", \"class_48\", \"class_49\", \"class_50\", \"class_51\", \"class_52\", \"class_53\", \"class_54\", \"class_55\", \"class_56\",\n",
    "                            \"class_57\", \"class_58\", \"class_59\", \"class_60\", \"class_61\", \"class_62\", \"class_63\", \"class_64\", \"class_65\", \"class_66\",\n",
    "                            \"class_67\", \"class_68\", \"class_69\", \"class_70\", \"class_71\", \"class_72\", \"class_73\", \"class_74\", \"class_75\", \"class_76\",\n",
    "                            \"class_77\", \"class_78\", \"class_79\", \"class_80\", \"class_81\", \"class_82\", \"class_83\", \"class_84\", \"class_85\", \"class_86\",\n",
    "                            \"class_87\", \"class_88\", \"class_89\", \"class_90\", \"class_91\", \"class_92\", \"class_93\", \"class_94\", \"class_95\", \"class_96\",\n",
    "                            \"class_97\", \"class_98\", \"class_99\"],)\n",
    "\n",
    "\n",
    "df_plot = df.loc[df.task_id == task_id].reset_index(drop=True).copy()\n",
    "# df_plot = pd.concat([df_plot[:10], df_plot[80:90], df_plot[115:125]], ignore_index=True)\n",
    "df_plot.drop(columns=[\"task_id\"], inplace=True)\n",
    "\n",
    "# Criação do heatmap interativo (classe no eixo Y, batch no eixo X)\n",
    "fig = px.imshow(\n",
    "    df_plot,\n",
    "    labels=dict(x=\"Classes\", y=\"Batches\", color=\"Number of Instances\"),\n",
    "    # x=[f\"Batch {i}\" for i in range(1, num_batches+1)],\n",
    "    # y=[f\"Classe {i}\" for i in range(num_classes)],\n",
    "    aspect=\"auto\",\n",
    "    color_continuous_scale=\"Viridis\",\n",
    "    origin=\"upper\",  # garante que Classe 0 fique em cima\n",
    "    # text_auto=True\n",
    ")\n",
    "\n",
    "fig.update_layout(\n",
    "    title=\"EDR Class Distribution in Each Batch - Task ID {}\".format(task_id),\n",
    "    xaxis_title=\"Classes\",\n",
    "    yaxis_title=\"Batches\",\n",
    "    height=900,\n",
    ")\n",
    "\n",
    "fig.show()"
   ]
  },
  {
   "cell_type": "code",
   "execution_count": 17,
   "id": "37b10e21",
   "metadata": {},
   "outputs": [
    {
     "data": {
      "application/vnd.plotly.v1+json": {
       "config": {
        "plotlyServerURL": "https://plot.ly"
       },
       "data": [
        {
         "coloraxis": "coloraxis",
         "hovertemplate": "Classes: %{x}<br>Batches: %{y}<br>Number of Instances: %{z}<extra></extra>",
         "name": "0",
         "type": "heatmap",
         "x": [
          "class_0",
          "class_1",
          "class_2",
          "class_3",
          "class_4",
          "class_5",
          "class_6",
          "class_7",
          "class_8",
          "class_9",
          "class_10",
          "class_11",
          "class_12",
          "class_13",
          "class_14",
          "class_15",
          "class_16",
          "class_17",
          "class_18",
          "class_19",
          "class_20",
          "class_21",
          "class_22",
          "class_23",
          "class_24",
          "class_25",
          "class_26",
          "class_27",
          "class_28",
          "class_29",
          "class_30",
          "class_31",
          "class_32",
          "class_33",
          "class_34",
          "class_35",
          "class_36",
          "class_37",
          "class_38",
          "class_39",
          "class_40",
          "class_41",
          "class_42",
          "class_43",
          "class_44",
          "class_45",
          "class_46",
          "class_47",
          "class_48",
          "class_49",
          "class_50",
          "class_51",
          "class_52",
          "class_53",
          "class_54",
          "class_55",
          "class_56",
          "class_57",
          "class_58",
          "class_59",
          "class_60",
          "class_61",
          "class_62",
          "class_63",
          "class_64",
          "class_65",
          "class_66",
          "class_67",
          "class_68",
          "class_69",
          "class_70",
          "class_71",
          "class_72",
          "class_73",
          "class_74",
          "class_75",
          "class_76",
          "class_77",
          "class_78",
          "class_79",
          "class_80",
          "class_81",
          "class_82",
          "class_83",
          "class_84",
          "class_85",
          "class_86",
          "class_87",
          "class_88",
          "class_89",
          "class_90",
          "class_91",
          "class_92",
          "class_93",
          "class_94",
          "class_95",
          "class_96",
          "class_97",
          "class_98",
          "class_99"
         ],
         "xaxis": "x",
         "y": {
          "bdata": "AAECAwQFBgcICQoLDA0ODxAREhMUFRYXGBkaGxwdHh8gISIjJCUmJygpKissLS4vMDEyMzQ=",
          "dtype": "i1"
         },
         "yaxis": "y",
         "z": {
          "bdata": "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",
          "dtype": "i1",
          "shape": "53, 100"
         }
        }
       ],
       "layout": {
        "coloraxis": {
         "colorbar": {
          "title": {
           "text": "Number of Instances"
          }
         },
         "colorscale": [
          [
           0,
           "#440154"
          ],
          [
           0.1111111111111111,
           "#482878"
          ],
          [
           0.2222222222222222,
           "#3e4989"
          ],
          [
           0.3333333333333333,
           "#31688e"
          ],
          [
           0.4444444444444444,
           "#26828e"
          ],
          [
           0.5555555555555556,
           "#1f9e89"
          ],
          [
           0.6666666666666666,
           "#35b779"
          ],
          [
           0.7777777777777778,
           "#6ece58"
          ],
          [
           0.8888888888888888,
           "#b5de2b"
          ],
          [
           1,
           "#fde725"
          ]
         ]
        },
        "height": 900,
        "margin": {
         "t": 60
        },
        "template": {
         "data": {
          "bar": [
           {
            "error_x": {
             "color": "#2a3f5f"
            },
            "error_y": {
             "color": "#2a3f5f"
            },
            "marker": {
             "line": {
              "color": "#E5ECF6",
              "width": 0.5
             },
             "pattern": {
              "fillmode": "overlay",
              "size": 10,
              "solidity": 0.2
             }
            },
            "type": "bar"
           }
          ],
          "barpolar": [
           {
            "marker": {
             "line": {
              "color": "#E5ECF6",
              "width": 0.5
             },
             "pattern": {
              "fillmode": "overlay",
              "size": 10,
              "solidity": 0.2
             }
            },
            "type": "barpolar"
           }
          ],
          "carpet": [
           {
            "aaxis": {
             "endlinecolor": "#2a3f5f",
             "gridcolor": "white",
             "linecolor": "white",
             "minorgridcolor": "white",
             "startlinecolor": "#2a3f5f"
            },
            "baxis": {
             "endlinecolor": "#2a3f5f",
             "gridcolor": "white",
             "linecolor": "white",
             "minorgridcolor": "white",
             "startlinecolor": "#2a3f5f"
            },
            "type": "carpet"
           }
          ],
          "choropleth": [
           {
            "colorbar": {
             "outlinewidth": 0,
             "ticks": ""
            },
            "type": "choropleth"
           }
          ],
          "contour": [
           {
            "colorbar": {
             "outlinewidth": 0,
             "ticks": ""
            },
            "colorscale": [
             [
              0,
              "#0d0887"
             ],
             [
              0.1111111111111111,
              "#46039f"
             ],
             [
              0.2222222222222222,
              "#7201a8"
             ],
             [
              0.3333333333333333,
              "#9c179e"
             ],
             [
              0.4444444444444444,
              "#bd3786"
             ],
             [
              0.5555555555555556,
              "#d8576b"
             ],
             [
              0.6666666666666666,
              "#ed7953"
             ],
             [
              0.7777777777777778,
              "#fb9f3a"
             ],
             [
              0.8888888888888888,
              "#fdca26"
             ],
             [
              1,
              "#f0f921"
             ]
            ],
            "type": "contour"
           }
          ],
          "contourcarpet": [
           {
            "colorbar": {
             "outlinewidth": 0,
             "ticks": ""
            },
            "type": "contourcarpet"
           }
          ],
          "heatmap": [
           {
            "colorbar": {
             "outlinewidth": 0,
             "ticks": ""
            },
            "colorscale": [
             [
              0,
              "#0d0887"
             ],
             [
              0.1111111111111111,
              "#46039f"
             ],
             [
              0.2222222222222222,
              "#7201a8"
             ],
             [
              0.3333333333333333,
              "#9c179e"
             ],
             [
              0.4444444444444444,
              "#bd3786"
             ],
             [
              0.5555555555555556,
              "#d8576b"
             ],
             [
              0.6666666666666666,
              "#ed7953"
             ],
             [
              0.7777777777777778,
              "#fb9f3a"
             ],
             [
              0.8888888888888888,
              "#fdca26"
             ],
             [
              1,
              "#f0f921"
             ]
            ],
            "type": "heatmap"
           }
          ],
          "histogram": [
           {
            "marker": {
             "pattern": {
              "fillmode": "overlay",
              "size": 10,
              "solidity": 0.2
             }
            },
            "type": "histogram"
           }
          ],
          "histogram2d": [
           {
            "colorbar": {
             "outlinewidth": 0,
             "ticks": ""
            },
            "colorscale": [
             [
              0,
              "#0d0887"
             ],
             [
              0.1111111111111111,
              "#46039f"
             ],
             [
              0.2222222222222222,
              "#7201a8"
             ],
             [
              0.3333333333333333,
              "#9c179e"
             ],
             [
              0.4444444444444444,
              "#bd3786"
             ],
             [
              0.5555555555555556,
              "#d8576b"
             ],
             [
              0.6666666666666666,
              "#ed7953"
             ],
             [
              0.7777777777777778,
              "#fb9f3a"
             ],
             [
              0.8888888888888888,
              "#fdca26"
             ],
             [
              1,
              "#f0f921"
             ]
            ],
            "type": "histogram2d"
           }
          ],
          "histogram2dcontour": [
           {
            "colorbar": {
             "outlinewidth": 0,
             "ticks": ""
            },
            "colorscale": [
             [
              0,
              "#0d0887"
             ],
             [
              0.1111111111111111,
              "#46039f"
             ],
             [
              0.2222222222222222,
              "#7201a8"
             ],
             [
              0.3333333333333333,
              "#9c179e"
             ],
             [
              0.4444444444444444,
              "#bd3786"
             ],
             [
              0.5555555555555556,
              "#d8576b"
             ],
             [
              0.6666666666666666,
              "#ed7953"
             ],
             [
              0.7777777777777778,
              "#fb9f3a"
             ],
             [
              0.8888888888888888,
              "#fdca26"
             ],
             [
              1,
              "#f0f921"
             ]
            ],
            "type": "histogram2dcontour"
           }
          ],
          "mesh3d": [
           {
            "colorbar": {
             "outlinewidth": 0,
             "ticks": ""
            },
            "type": "mesh3d"
           }
          ],
          "parcoords": [
           {
            "line": {
             "colorbar": {
              "outlinewidth": 0,
              "ticks": ""
             }
            },
            "type": "parcoords"
           }
          ],
          "pie": [
           {
            "automargin": true,
            "type": "pie"
           }
          ],
          "scatter": [
           {
            "fillpattern": {
             "fillmode": "overlay",
             "size": 10,
             "solidity": 0.2
            },
            "type": "scatter"
           }
          ],
          "scatter3d": [
           {
            "line": {
             "colorbar": {
              "outlinewidth": 0,
              "ticks": ""
             }
            },
            "marker": {
             "colorbar": {
              "outlinewidth": 0,
              "ticks": ""
             }
            },
            "type": "scatter3d"
           }
          ],
          "scattercarpet": [
           {
            "marker": {
             "colorbar": {
              "outlinewidth": 0,
              "ticks": ""
             }
            },
            "type": "scattercarpet"
           }
          ],
          "scattergeo": [
           {
            "marker": {
             "colorbar": {
              "outlinewidth": 0,
              "ticks": ""
             }
            },
            "type": "scattergeo"
           }
          ],
          "scattergl": [
           {
            "marker": {
             "colorbar": {
              "outlinewidth": 0,
              "ticks": ""
             }
            },
            "type": "scattergl"
           }
          ],
          "scattermap": [
           {
            "marker": {
             "colorbar": {
              "outlinewidth": 0,
              "ticks": ""
             }
            },
            "type": "scattermap"
           }
          ],
          "scattermapbox": [
           {
            "marker": {
             "colorbar": {
              "outlinewidth": 0,
              "ticks": ""
             }
            },
            "type": "scattermapbox"
           }
          ],
          "scatterpolar": [
           {
            "marker": {
             "colorbar": {
              "outlinewidth": 0,
              "ticks": ""
             }
            },
            "type": "scatterpolar"
           }
          ],
          "scatterpolargl": [
           {
            "marker": {
             "colorbar": {
              "outlinewidth": 0,
              "ticks": ""
             }
            },
            "type": "scatterpolargl"
           }
          ],
          "scatterternary": [
           {
            "marker": {
             "colorbar": {
              "outlinewidth": 0,
              "ticks": ""
             }
            },
            "type": "scatterternary"
           }
          ],
          "surface": [
           {
            "colorbar": {
             "outlinewidth": 0,
             "ticks": ""
            },
            "colorscale": [
             [
              0,
              "#0d0887"
             ],
             [
              0.1111111111111111,
              "#46039f"
             ],
             [
              0.2222222222222222,
              "#7201a8"
             ],
             [
              0.3333333333333333,
              "#9c179e"
             ],
             [
              0.4444444444444444,
              "#bd3786"
             ],
             [
              0.5555555555555556,
              "#d8576b"
             ],
             [
              0.6666666666666666,
              "#ed7953"
             ],
             [
              0.7777777777777778,
              "#fb9f3a"
             ],
             [
              0.8888888888888888,
              "#fdca26"
             ],
             [
              1,
              "#f0f921"
             ]
            ],
            "type": "surface"
           }
          ],
          "table": [
           {
            "cells": {
             "fill": {
              "color": "#EBF0F8"
             },
             "line": {
              "color": "white"
             }
            },
            "header": {
             "fill": {
              "color": "#C8D4E3"
             },
             "line": {
              "color": "white"
             }
            },
            "type": "table"
           }
          ]
         },
         "layout": {
          "annotationdefaults": {
           "arrowcolor": "#2a3f5f",
           "arrowhead": 0,
           "arrowwidth": 1
          },
          "autotypenumbers": "strict",
          "coloraxis": {
           "colorbar": {
            "outlinewidth": 0,
            "ticks": ""
           }
          },
          "colorscale": {
           "diverging": [
            [
             0,
             "#8e0152"
            ],
            [
             0.1,
             "#c51b7d"
            ],
            [
             0.2,
             "#de77ae"
            ],
            [
             0.3,
             "#f1b6da"
            ],
            [
             0.4,
             "#fde0ef"
            ],
            [
             0.5,
             "#f7f7f7"
            ],
            [
             0.6,
             "#e6f5d0"
            ],
            [
             0.7,
             "#b8e186"
            ],
            [
             0.8,
             "#7fbc41"
            ],
            [
             0.9,
             "#4d9221"
            ],
            [
             1,
             "#276419"
            ]
           ],
           "sequential": [
            [
             0,
             "#0d0887"
            ],
            [
             0.1111111111111111,
             "#46039f"
            ],
            [
             0.2222222222222222,
             "#7201a8"
            ],
            [
             0.3333333333333333,
             "#9c179e"
            ],
            [
             0.4444444444444444,
             "#bd3786"
            ],
            [
             0.5555555555555556,
             "#d8576b"
            ],
            [
             0.6666666666666666,
             "#ed7953"
            ],
            [
             0.7777777777777778,
             "#fb9f3a"
            ],
            [
             0.8888888888888888,
             "#fdca26"
            ],
            [
             1,
             "#f0f921"
            ]
           ],
           "sequentialminus": [
            [
             0,
             "#0d0887"
            ],
            [
             0.1111111111111111,
             "#46039f"
            ],
            [
             0.2222222222222222,
             "#7201a8"
            ],
            [
             0.3333333333333333,
             "#9c179e"
            ],
            [
             0.4444444444444444,
             "#bd3786"
            ],
            [
             0.5555555555555556,
             "#d8576b"
            ],
            [
             0.6666666666666666,
             "#ed7953"
            ],
            [
             0.7777777777777778,
             "#fb9f3a"
            ],
            [
             0.8888888888888888,
             "#fdca26"
            ],
            [
             1,
             "#f0f921"
            ]
           ]
          },
          "colorway": [
           "#636efa",
           "#EF553B",
           "#00cc96",
           "#ab63fa",
           "#FFA15A",
           "#19d3f3",
           "#FF6692",
           "#B6E880",
           "#FF97FF",
           "#FECB52"
          ],
          "font": {
           "color": "#2a3f5f"
          },
          "geo": {
           "bgcolor": "white",
           "lakecolor": "white",
           "landcolor": "#E5ECF6",
           "showlakes": true,
           "showland": true,
           "subunitcolor": "white"
          },
          "hoverlabel": {
           "align": "left"
          },
          "hovermode": "closest",
          "mapbox": {
           "style": "light"
          },
          "paper_bgcolor": "white",
          "plot_bgcolor": "#E5ECF6",
          "polar": {
           "angularaxis": {
            "gridcolor": "white",
            "linecolor": "white",
            "ticks": ""
           },
           "bgcolor": "#E5ECF6",
           "radialaxis": {
            "gridcolor": "white",
            "linecolor": "white",
            "ticks": ""
           }
          },
          "scene": {
           "xaxis": {
            "backgroundcolor": "#E5ECF6",
            "gridcolor": "white",
            "gridwidth": 2,
            "linecolor": "white",
            "showbackground": true,
            "ticks": "",
            "zerolinecolor": "white"
           },
           "yaxis": {
            "backgroundcolor": "#E5ECF6",
            "gridcolor": "white",
            "gridwidth": 2,
            "linecolor": "white",
            "showbackground": true,
            "ticks": "",
            "zerolinecolor": "white"
           },
           "zaxis": {
            "backgroundcolor": "#E5ECF6",
            "gridcolor": "white",
            "gridwidth": 2,
            "linecolor": "white",
            "showbackground": true,
            "ticks": "",
            "zerolinecolor": "white"
           }
          },
          "shapedefaults": {
           "line": {
            "color": "#2a3f5f"
           }
          },
          "ternary": {
           "aaxis": {
            "gridcolor": "white",
            "linecolor": "white",
            "ticks": ""
           },
           "baxis": {
            "gridcolor": "white",
            "linecolor": "white",
            "ticks": ""
           },
           "bgcolor": "#E5ECF6",
           "caxis": {
            "gridcolor": "white",
            "linecolor": "white",
            "ticks": ""
           }
          },
          "title": {
           "x": 0.05
          },
          "xaxis": {
           "automargin": true,
           "gridcolor": "white",
           "linecolor": "white",
           "ticks": "",
           "title": {
            "standoff": 15
           },
           "zerolinecolor": "white",
           "zerolinewidth": 2
          },
          "yaxis": {
           "automargin": true,
           "gridcolor": "white",
           "linecolor": "white",
           "ticks": "",
           "title": {
            "standoff": 15
           },
           "zerolinecolor": "white",
           "zerolinewidth": 2
          }
         }
        },
        "title": {
         "text": "ER Class Distribution in Each Batch - Task ID 0"
        },
        "xaxis": {
         "anchor": "y",
         "domain": [
          0,
          1
         ],
         "title": {
          "text": "Classes"
         }
        },
        "yaxis": {
         "anchor": "x",
         "autorange": "reversed",
         "domain": [
          0,
          1
         ],
         "title": {
          "text": "Batches"
         }
        }
       }
      }
     },
     "metadata": {},
     "output_type": "display_data"
    }
   ],
   "source": [
    "import numpy as np\n",
    "import plotly.express as px\n",
    "\n",
    "task_id = 0\n",
    "\n",
    "df = pd.read_csv(\"../results_plot_SplitCIFAR100_['EDR', 'ER']_False_[]_32_10_0_50_2/train_batches_y_ExperienceReplay.log\", \n",
    "                 names=[\"task_id\", \"class_0\", \"class_1\", \"class_2\", \"class_3\", \"class_4\", \"class_5\", \"class_6\", \n",
    "                            \"class_7\", \"class_8\", \"class_9\", \"class_10\", \"class_11\", \"class_12\", \"class_13\", \"class_14\", \"class_15\", \"class_16\",\n",
    "                            \"class_17\", \"class_18\", \"class_19\", \"class_20\", \"class_21\", \"class_22\", \"class_23\", \"class_24\", \"class_25\", \"class_26\",\n",
    "                            \"class_27\", \"class_28\", \"class_29\", \"class_30\", \"class_31\", \"class_32\", \"class_33\", \"class_34\", \"class_35\", \"class_36\",\n",
    "                            \"class_37\", \"class_38\", \"class_39\", \"class_40\", \"class_41\", \"class_42\", \"class_43\", \"class_44\", \"class_45\", \"class_46\",\n",
    "                            \"class_47\", \"class_48\", \"class_49\", \"class_50\", \"class_51\", \"class_52\", \"class_53\", \"class_54\", \"class_55\", \"class_56\",\n",
    "                            \"class_57\", \"class_58\", \"class_59\", \"class_60\", \"class_61\", \"class_62\", \"class_63\", \"class_64\", \"class_65\", \"class_66\",\n",
    "                            \"class_67\", \"class_68\", \"class_69\", \"class_70\", \"class_71\", \"class_72\", \"class_73\", \"class_74\", \"class_75\", \"class_76\",\n",
    "                            \"class_77\", \"class_78\", \"class_79\", \"class_80\", \"class_81\", \"class_82\", \"class_83\", \"class_84\", \"class_85\", \"class_86\",\n",
    "                            \"class_87\", \"class_88\", \"class_89\", \"class_90\", \"class_91\", \"class_92\", \"class_93\", \"class_94\", \"class_95\", \"class_96\",\n",
    "                            \"class_97\", \"class_98\", \"class_99\"],)\n",
    "\n",
    "df_plot = df.loc[df.task_id == task_id].reset_index(drop=True).copy()\n",
    "# df_plot = pd.concat([df_plot[:10], df_plot[80:90], df_plot[115:125]], ignore_index=True)\n",
    "df_plot.drop(columns=[\"task_id\"], inplace=True)\n",
    "\n",
    "# Criação do heatmap interativo (classe no eixo Y, batch no eixo X)\n",
    "fig = px.imshow(\n",
    "    df_plot,\n",
    "    labels=dict(x=\"Classes\", y=\"Batches\", color=\"Number of Instances\"),\n",
    "    # x=[f\"Batch {i}\" for i in range(1, num_batches+1)],\n",
    "    # y=[f\"Classe {i}\" for i in range(num_classes)],\n",
    "    aspect=\"auto\",\n",
    "    color_continuous_scale=\"Viridis\",\n",
    "    origin=\"upper\",  # garante que Classe 0 fique em cima\n",
    "    # text_auto=True\n",
    ")\n",
    "\n",
    "fig.update_layout(\n",
    "    title=\"ER Class Distribution in Each Batch - Task ID {}\".format(task_id),\n",
    "    xaxis_title=\"Classes\",\n",
    "    yaxis_title=\"Batches\",\n",
    "    height=900,\n",
    ")\n",
    "\n",
    "fig.show()"
   ]
  },
  {
   "cell_type": "markdown",
   "id": "59297e75",
   "metadata": {},
   "source": [
    "<!-- ### results_plot_mnist_['EDR', 'ER']_False_[]_32_5_0_32_150_2/train_batches_y_ExperienceDelayReplay.log -->\n",
    "#### Task 1\n",
    "#### Classes 40, 42, 74, 76, 80, 81, 82, 85, 56, 63"
   ]
  },
  {
   "cell_type": "code",
   "execution_count": 18,
   "id": "9d4f2639",
   "metadata": {},
   "outputs": [
    {
     "data": {
      "application/vnd.plotly.v1+json": {
       "config": {
        "plotlyServerURL": "https://plot.ly"
       },
       "data": [
        {
         "coloraxis": "coloraxis",
         "hovertemplate": "Classes: %{x}<br>Batches: %{y}<br>Number of Instances: %{z}<extra></extra>",
         "name": "0",
         "type": "heatmap",
         "x": [
          "class_0",
          "class_1",
          "class_2",
          "class_3",
          "class_4",
          "class_5",
          "class_6",
          "class_7",
          "class_8",
          "class_9",
          "class_10",
          "class_11",
          "class_12",
          "class_13",
          "class_14",
          "class_15",
          "class_16",
          "class_17",
          "class_18",
          "class_19",
          "class_20",
          "class_21",
          "class_22",
          "class_23",
          "class_24",
          "class_25",
          "class_26",
          "class_27",
          "class_28",
          "class_29",
          "class_30",
          "class_31",
          "class_32",
          "class_33",
          "class_34",
          "class_35",
          "class_36",
          "class_37",
          "class_38",
          "class_39",
          "class_40",
          "class_41",
          "class_42",
          "class_43",
          "class_44",
          "class_45",
          "class_46",
          "class_47",
          "class_48",
          "class_49",
          "class_50",
          "class_51",
          "class_52",
          "class_53",
          "class_54",
          "class_55",
          "class_56",
          "class_57",
          "class_58",
          "class_59",
          "class_60",
          "class_61",
          "class_62",
          "class_63",
          "class_64",
          "class_65",
          "class_66",
          "class_67",
          "class_68",
          "class_69",
          "class_70",
          "class_71",
          "class_72",
          "class_73",
          "class_74",
          "class_75",
          "class_76",
          "class_77",
          "class_78",
          "class_79",
          "class_80",
          "class_81",
          "class_82",
          "class_83",
          "class_84",
          "class_85",
          "class_86",
          "class_87",
          "class_88",
          "class_89",
          "class_90",
          "class_91",
          "class_92",
          "class_93",
          "class_94",
          "class_95",
          "class_96",
          "class_97",
          "class_98",
          "class_99"
         ],
         "xaxis": "x",
         "y": {
          "bdata": "AAECAwQFBgcICQoLDA0ODxAREhMUFRYXGBkaGxwdHh8gISIjJCUmJygpKissLS4vMDEyMzQ=",
          "dtype": "i1"
         },
         "yaxis": "y",
         "z": {
          "bdata": "AAAAAAAAAAAAAAAAAAAAAAAAAAMAAAAAAAAAAAAAAAAAAAAAAAgAAAAAAAAMAAAAAAAAAAAGAAAAAAAAAAAAAAAAAAAAAwAMAAAAAAAAAAAAAAAAAAAAAAAABwEABwAFAAAAAAAAAAAAAAAAAAAAAAAAAAAAAAABAAAAAAAAAAAAAAAAAAAAAAAIAAAAAAAACwAAAAAAAAAAAgAAAAAAAAAAAAAAAAAAAAUACgAAAAAAAAAAAAAAAAAAAAAAAA0CAAkAAwAAAAAAAAAAAAAAAAAAAAAAAAAAAAAABAAAAAAAAAAAAAAAAAAAAAAADQAAAAAAAA8AAAAAAAAAAAUAAAAAAAAAAAAAAAAAAAACAAQAAAAAAAAAAAAAAAAAAAAAAAAIAAAFAAgAAAAAAAAAAAAAAAAAAAAAAAAAAAAAAAYAAAAAAAAAAAAAAAAAAAAAAAkAAAAAAAAIAAAAAAAAAAADAAAAAAAAAAAAAAAAAAAABQAGAAAAAAAAAAAAAAAAAAAAAAAACwkAAwAEAAAAAAAAAAAAAAAAAAAAAAAAAAAAAAAHAAAAAAAAAAAAAAAAAAAAAAAKAAAAAAAABgAAAAAAAAAAAQAAAAAAAAAAAAAAAAAAAAcADAAAAAAAAAAAAAAAAAAAAAAAAAYHAAMABQAAAAAAAAAAAAAAAAAAAAAAAAAAAAAACAAAAAAAAAAAAAAAAAAAAAAABwAAAAAAAAQAAAAAAAAAAAIAAAAAAAAAAAAAAAAAAAACAAsAAAAAAAAAAAAAAAAAAAAAAAAJBwAIAAYAAAAAAAAAAAAAAAAAAAAAAAAAAAAAAA0AAAAAAAAAAAAAAAAAAAAAAAoAAAAAAAAIAAAAAAAAAAACAAAAAAAAAAAAAAAAAAAABQAGAAAAAAAAAAAAAAAAAAAAAAAACAQABgACAAAAAAAAAAAAAAAAAAAAAAAAAAAAAAACAAAAAAAAAAAAAAAAAAAAAAALAAAAAAAACAAAAAAAAAAABgAAAAAAAAAAAAAAAAAAAAIACQAAAAAAAAAAAAAAAAAAAAAAAAwAAAcABwAAAAAAAAAAAAAAAAAAAAAAAAAAAAAABQAAAAAAAAAAAAAAAAAAAAAABgAAAAAAAAoAAAAAAAAAAAMAAAAAAAAAAAAAAAAAAAAEAAoAAAAAAAAAAAAAAAAAAAAAAAANBAAFAAQAAAAAAAAAAAAAAAAAAAAAAAAAAAAAAAgAAAAAAAAAAAAAAAAAAAAAAAsAAAAAAAAEAAAAAAAAAAAHAAAAAAAAAAAAAAAAAAAAAgAIAAAAAAAAAAAAAAAAAAAAAAAACAgABQADAAAAAAAAAAAAAAAAAAAAAAAAAAAAAAAIAAAAAAAAAAAAAAAAAAAAAAAJAAAAAAAADAAAAAAAAAAABAAAAAAAAAAAAAAAAAAAAAUACQAAAAAAAAAAAAAAAAAAAAAAAAIJAAUAAQAAAAAAAAAAAAAAAAAAAAAAAAAAAAAACQAAAAAAAAAAAAAAAAAAAAAACQAAAAAAAAcAAAAAAAAAAAYAAAAAAAAAAAAAAAAAAAACAAoAAAAAAAAAAAAAAAAAAAAAAAAKAQAFAAUAAAAAAAAAAAAAAAAAAAAAAAAAAAAAAAYAAAAAAAAAAAAAAAAAAAAAAAoAAAAAAAARAAAAAAAAAAABAAAAAAAAAAAAAAAAAAAAAgALAAAAAAAAAAAAAAAAAAAAAAAACgAAAwAEAAAAAAAAAAAAAAAAAAAAAAAAAAAAAAAIAAAAAAAAAAAAAAAAAAAAAAAIAAAAAAAACwAAAAAAAAAABAAAAAAAAAAAAAAAAAAAAAUACwAAAAAAAAAAAAAAAAAAAAAAAAYCAAIABwAAAAAAAAAAAAAAAAAAAAAAAAAAAAAABgAAAAAAAAAAAAAAAAAAAAAADwAAAAAAAAcAAAAAAAAAAAQAAAAAAAAAAAAAAAAAAAAHAAcAAAAAAAAAAAAAAAAAAAAAAAAIAgAEAAQAAAAAAAAAAAAAAAAAAAAAAAAAAAAAAAcAAAAAAAAAAAAAAAAAAAAAAAoAAAAAAAAFAAAAAAAAAAAEAAAAAAAAAAAAAAAAAAAACQAKAAAAAAAAAAAAAAAAAAAAAAAACgEABAAEAAAAAAAAAAAAAAAAAAAAAAAAAAAAAAAEAAAAAAAAAAAAAAAAAAAAAAAOAAAAAAAABwAAAAAAAAAACQAAAAAAAAAAAAAAAAAAAAkABgAAAAAAAAAAAAAAAAAAAAAAAAgBAAEABQAAAAAAAAAAAAAAAAAAAAAAAAAAAAAACAAAAAAAAAAAAAAAAAAAAAAACgAAAAAAAAYAAAAAAAAAAAMAAAAAAAAAAAAAAAAAAAAHAAsAAAAAAAAAAAAAAAAAAAAAAAAIBAADAAQAAAAAAAAAAAAAAAAAAAAAAAAAAAAAAAcAAAAAAAAAAAAAAAAAAAAAAAoAAAAAAAAHAAAAAAAAAAAEAAAAAAAAAAAAAAAAAAAABAAHAAAAAAAAAAAAAAAAAAAAAAAACAIACAAHAAAAAAAAAAAAAAAAAAAAAAAAAAAAAAANAAAAAAAAAAAAAAAAAAAAAAAHAAAAAAAAAwAAAAAAAAAAAwAAAAAAAAAAAAAAAAAAAAQACAAAAAAAAAAAAAAAAAAAAAAAAAgIAAIACAAAAAAAAAAAAAAAAAAAAAAAAAAAAAAACgAAAAAAAAAAAAAAAAAAAAAACQAAAAAAAAIAAAAAAAAAAAIAAAAAAAAAAAAAAAAAAAAGAAIAAAAAAAAAAAAAAAAAAAAAAAAPBAAIAAYAAAAAAAAAAAAAAAAAAAAAAAAAAAAAAA4AAAAAAAAAAAAAAAAAAAAAAAcAAAAAAAAFAAAAAAAAAAADAAAAAAAAAAAAAAAAAAAABQAFAAAAAAAAAAAAAAAAAAAAAAAABgUACwADAAAAAAAAAAAAAAAAAAAAAAAAAAAAAAAJAAAAAAAAAAAAAAAAAAAAAAAIAAAAAAAABAAAAAAAAAAAAwAAAAAAAAAAAAAAAAAAAAgAAgAAAAAAAAAAAAAAAAAAAAAAAAYHAAkACAAAAAAAAAAAAAAAAAAAAAAAAAAAAAAADQAAAAAAAAAAAAAAAAAAAAAABAAAAAAAAAUAAAAAAAAAAAMAAAAAAAAAAAAAAAAAAAAEAAYAAAAAAAAAAAAAAAAAAAAAAAAHCwAEAAcAAAAAAAAAAAAAAAAAAAAAAAAAAAAAAAwAAAAAAAAAAAAAAAAAAAAAAAQAAAAAAAADAAAAAAAAAAAGAAAAAAAAAAAAAAAAAAAABgACAAAAAAAAAAAAAAAAAAAAAAAABAcACwAJAAAAAAAAAAAAAAAAAAAAAAAAAAAAAAALAAAAAAAAAAAAAAAAAAAAAAAKAAAAAAAABAAAAAAAAAAABgAAAAAAAAAAAAAAAAAAAAUABAAAAAAAAAAAAAAAAAAAAAAAAAILAAUABgAAAAAAAAAAAAAAAAAAAAAAAAAAAAAABQAAAAAAAAAAAAAAAAAAAAAAAgAAAQAAAAEAAAAAAAAAAAQAAAMAAAAAAAAFAAAAAAAFAAMAAAEAAwAAAAgAAwAACAAAAAADBAACAAMAAAAAAAAAAAAAAAAAAAAAAAAAAAAAAAYAAAAAAAAAAAAAAAAAAAAAAAUAAAYAAgABAAAAAAAAAAAEAAADAAAAAAAAAAAAAAAAAgADAAADAAYAAAACAAMAAAoAAAAAAAEABAADAAAAAAAAAAAAAAAAAAAAAAAAAAAAAAAEAAAAAAAAAAAAAAAAAAAAAAAFAAADAAMAAwAAAAAAAAAAAgAABgAAAAAAAAMAAAAAAAMABAAAAQABAAAABwABAAAHAAAAAAUCAAAABAAAAAAAAAAAAAAAAAAAAAAAAAAAAAAABgAAAAAAAAAAAAAAAAAAAAAAAwAAAwAAAAUAAAAAAAAAAAIAAAYAAAAAAAAGAAAAAAABAAIAAAIAAQAAAAoBAwAABAAAAAACAwACAAIAAAAAAAAAAAAAAAAAAAAAAAAAAAAAAAIAAAAAAAAAAAAAAAAAAAAAAAQAAAIAAQADAAAAAAAAAAAFAAAEAAAAAAAABgAAAAAAAwAHAAAEAAIAAAAHAAEAAAcAAAAAAwEAAAACAAAAAAAAAAAAAAAAAAAAAAAAAAAAAAAFAAAAAAAAAAAAAAAAAAAAAAACAAADAAEABAAAAAAAAAAAAgAAAwAAAAAAAAgAAAAAAAQAAgAAAgADAAAABQIBAAAGAAAAAAYAAAIAAwAAAAAAAAAAAAAAAAAAAAAAAAAAAAAABAAAAAAAAAAAAAAAAAAAAAAAAgAABgACAAQAAAAAAAAAAAMAAAQAAAAAAAAFAAAAAAAAAAYAAAQAAgAAAAQAAQAABAAAAAAEAwACAAQAAAAAAAAAAAAAAAAAAAAAAAAAAAAAAAIAAAAAAAAAAAAAAAAAAAAAAAQAAAEABQABAAAAAAAAAAAEAAACAAAAAAAABAAAAAAAAwAEAAACAAMAAAAFAAIAAAkAAAAABQQAAQADAAAAAAAAAAAAAAAAAAAAAAAAAAAAAAACAAAAAAAAAAAAAAAAAAAAAAAJAAADAAIAAgAAAAAAAAAAAgAABAAAAAAAAAkAAAAAAAEABAAAAgACAAAABgEAAAAFAAAAAAMCAAIAAwAAAAAAAAAAAAAAAAAAAAAAAAAAAAAAAQAAAAAAAAAAAAAAAAAAAAAABQAAAwABAAMAAAAAAAAAAAQAAAUAAAAAAAADAAAAAAABAAEAAAEAAwAAAAkAAAAACQAAAAAGAgACAAUAAAAAAAAAAAAAAAAAAAAAAAAAAAAAAAQAAAAAAAAAAAAAAAAAAAAAAAUAAAIAAQACAAAAAAAAAAACAAAGAAAAAAAACAAAAAAAAgADAAABAAEAAAAGAAMAAAgAAAAAAgEAAwAEAAAAAAAAAAAAAAAAAAAAAAAAAAAAAAACAAAAAAAAAAAAAAAAAAAAAAACAAAGAAAAAwAAAAAAAAAAAwAAAgAAAAAAAAQAAAAAAAAAAgAAAwAEAAAABgIEAAAIAAAAAAUBAAQAAwAAAAAAAAAAAAAAAAAAAAAAAAAAAAAAAgAAAAAAAAAAAAAAAAAAAAAABAAABQADAAMAAAAAAAAAAAUAAAUAAAAAAAADAAAAAAAEAAEAAAIABQAAAAYAAwAABAAAAAAEAwABAAEAAAAAAAAAAAAAAAAAAAAAAAAAAAAAAAQAAAAAAAAAAAAAAAAAAAAAAAIAAAAABAADAAAAAAAAAAAFAAAEAAAAAAAABwAAAAAAAAABAAAEAAIAAAAMAAMAAAIAAAAABQEAAAAFAAAAAAAAAAAAAAAAAAAAAAAAAAAAAAADAAAAAAAAAAAAAAAAAAAAAAADAAAGAAMAAwAAAAAAAAAABQAAAgAAAAAAAAUAAAAAAAAAAwAAAwACAAAACwACAAAFAAAAAAACAAEABQAAAAAAAAAAAAAAAAAAAAAAAAAAAAAABgAAAAAAAAAAAAAAAAAAAAAAAwAAAwAAAAQAAAAAAAAAAAQAAAQAAAAAAAAHAAAAAAAAAAQAAAEAAwAAAAUABAAACQAAAAACAgAAAAMAAAAAAAAAAAAAAAAAAAAAAAAAAAAAAAEAAAAAAAAAAAAAAAAAAAAAAAIAAAQAAAACAAAAAAAAAAAFAAAFAAAAAAAABgAAAAAAAQAGAAAEAAIAAAAIAAQAAAMAAAAABAMAAgACAAAAAAAAAAAAAAAAAAAAAAAAAAAAAAACAAAAAAAAAAAAAAAAAAAAAAAEAAAEAAIAAgAAAAAAAAAAAQAABAAAAAAAAAQAAAAAAAUABAAAAgACAAAABgEFAAAHAAAAAAIEAAIAAQAAAAAAAAAAAAAAAAAAAAAAAAAAAAAABAAAAAAAAAAAAAAAAAAAAAAABAAAAQAAAAIAAAAAAAAAAAYAAAIAAAAAAAAEAAAAAAACAAAAAAIAAwAAAAwABQAACAAAAAADAQABAAQAAAAAAAAAAAAAAAAAAAAAAAAAAAAAAAcAAAAAAAAAAAAAAAAAAAAAAAMAAAAAAgAAAAAAAAAAAAAAAAADAAAAAAAACAAAAAAAAAADAAACAAMAAAAHAAMAAAkAAAAAAgEABAAHAAAAAAAAAAAAAAAAAAAAAAAAAAAAAAAEAAAAAAAAAAAAAAAAAAAAAAACAAACAAEAAwAAAAAAAAAAAgAABQAAAAAAAAYAAAAAAAAAAwAAAwACAAAACwADAAAIAAAAAAICAAMAAgAAAAAAAAAAAAAAAAAAAAAAAAAAAAAAAwAAAAAAAAAAAAAAAAAAAAAABwAAAwADAAMAAAAAAAAAAAQAAAUAAAAAAAAIAAAAAAABAAMAAAMAAQAAAAYABAAABgAAAAABAAAAAAMAAAAAAAAAAAAAAAAAAAAAAAAAAAAAAAUAAAAAAAAAAAAAAAAAAAAAAAMAAAQABQADAAAAAAAAAAAEAAAEAAAAAAAAAwAAAAAAAgAAAAABAAIAAAAHAAcAAAcAAAAAAwIAAQABAAAAAAAAAAAAAAAAAAAAAAAAAAAAAAABAAAAAAAAAAAAAAAAAAAAAAACAAADAAEAAgAAAAAAAAAAAgAABwAAAAAAAAIAAAAAAAEAAQAABQABAAAAAgIFAAAKAAAAAAUEAAMABQAAAAAAAAAAAAAAAAAAAAAAAAAAAAAAAwAAAAAAAAAAAAAAAAAAAAAAAwAAAQABAAMAAAAAAAAAAAIAAAsAAAAAAAADAAAAAAAAAAEAAAMAAQAAAAsBBgAABAAAAAAEAQAAAAUAAAAAAAAAAAAAAAAAAAAAAAAAAAAAAAIAAAAAAAAAAAAAAAAAAAAAAAcAAAUAAgAFAAAAAAAAAAACAAADAAAAAAAACwAAAAAAAgAEAAABAAEAAAAIAgIAAAIAAAAAAgAAAAADAAAAAAAAAAAAAAAAAAAAAAAAAAAAAAADAAAAAAAAAAAAAAAAAAAAAAAFAAAFAAIAAAAAAAAAAAAAAwAAAwAAAAAAAAcAAAAAAAMAAQAAAgAAAAAACAIFAAAHAAAAAAMBAAIAAgAAAAA=",
          "dtype": "i1",
          "shape": "53, 100"
         }
        }
       ],
       "layout": {
        "coloraxis": {
         "colorbar": {
          "title": {
           "text": "Number of Instances"
          }
         },
         "colorscale": [
          [
           0,
           "#440154"
          ],
          [
           0.1111111111111111,
           "#482878"
          ],
          [
           0.2222222222222222,
           "#3e4989"
          ],
          [
           0.3333333333333333,
           "#31688e"
          ],
          [
           0.4444444444444444,
           "#26828e"
          ],
          [
           0.5555555555555556,
           "#1f9e89"
          ],
          [
           0.6666666666666666,
           "#35b779"
          ],
          [
           0.7777777777777778,
           "#6ece58"
          ],
          [
           0.8888888888888888,
           "#b5de2b"
          ],
          [
           1,
           "#fde725"
          ]
         ]
        },
        "height": 900,
        "margin": {
         "t": 60
        },
        "template": {
         "data": {
          "bar": [
           {
            "error_x": {
             "color": "#2a3f5f"
            },
            "error_y": {
             "color": "#2a3f5f"
            },
            "marker": {
             "line": {
              "color": "#E5ECF6",
              "width": 0.5
             },
             "pattern": {
              "fillmode": "overlay",
              "size": 10,
              "solidity": 0.2
             }
            },
            "type": "bar"
           }
          ],
          "barpolar": [
           {
            "marker": {
             "line": {
              "color": "#E5ECF6",
              "width": 0.5
             },
             "pattern": {
              "fillmode": "overlay",
              "size": 10,
              "solidity": 0.2
             }
            },
            "type": "barpolar"
           }
          ],
          "carpet": [
           {
            "aaxis": {
             "endlinecolor": "#2a3f5f",
             "gridcolor": "white",
             "linecolor": "white",
             "minorgridcolor": "white",
             "startlinecolor": "#2a3f5f"
            },
            "baxis": {
             "endlinecolor": "#2a3f5f",
             "gridcolor": "white",
             "linecolor": "white",
             "minorgridcolor": "white",
             "startlinecolor": "#2a3f5f"
            },
            "type": "carpet"
           }
          ],
          "choropleth": [
           {
            "colorbar": {
             "outlinewidth": 0,
             "ticks": ""
            },
            "type": "choropleth"
           }
          ],
          "contour": [
           {
            "colorbar": {
             "outlinewidth": 0,
             "ticks": ""
            },
            "colorscale": [
             [
              0,
              "#0d0887"
             ],
             [
              0.1111111111111111,
              "#46039f"
             ],
             [
              0.2222222222222222,
              "#7201a8"
             ],
             [
              0.3333333333333333,
              "#9c179e"
             ],
             [
              0.4444444444444444,
              "#bd3786"
             ],
             [
              0.5555555555555556,
              "#d8576b"
             ],
             [
              0.6666666666666666,
              "#ed7953"
             ],
             [
              0.7777777777777778,
              "#fb9f3a"
             ],
             [
              0.8888888888888888,
              "#fdca26"
             ],
             [
              1,
              "#f0f921"
             ]
            ],
            "type": "contour"
           }
          ],
          "contourcarpet": [
           {
            "colorbar": {
             "outlinewidth": 0,
             "ticks": ""
            },
            "type": "contourcarpet"
           }
          ],
          "heatmap": [
           {
            "colorbar": {
             "outlinewidth": 0,
             "ticks": ""
            },
            "colorscale": [
             [
              0,
              "#0d0887"
             ],
             [
              0.1111111111111111,
              "#46039f"
             ],
             [
              0.2222222222222222,
              "#7201a8"
             ],
             [
              0.3333333333333333,
              "#9c179e"
             ],
             [
              0.4444444444444444,
              "#bd3786"
             ],
             [
              0.5555555555555556,
              "#d8576b"
             ],
             [
              0.6666666666666666,
              "#ed7953"
             ],
             [
              0.7777777777777778,
              "#fb9f3a"
             ],
             [
              0.8888888888888888,
              "#fdca26"
             ],
             [
              1,
              "#f0f921"
             ]
            ],
            "type": "heatmap"
           }
          ],
          "histogram": [
           {
            "marker": {
             "pattern": {
              "fillmode": "overlay",
              "size": 10,
              "solidity": 0.2
             }
            },
            "type": "histogram"
           }
          ],
          "histogram2d": [
           {
            "colorbar": {
             "outlinewidth": 0,
             "ticks": ""
            },
            "colorscale": [
             [
              0,
              "#0d0887"
             ],
             [
              0.1111111111111111,
              "#46039f"
             ],
             [
              0.2222222222222222,
              "#7201a8"
             ],
             [
              0.3333333333333333,
              "#9c179e"
             ],
             [
              0.4444444444444444,
              "#bd3786"
             ],
             [
              0.5555555555555556,
              "#d8576b"
             ],
             [
              0.6666666666666666,
              "#ed7953"
             ],
             [
              0.7777777777777778,
              "#fb9f3a"
             ],
             [
              0.8888888888888888,
              "#fdca26"
             ],
             [
              1,
              "#f0f921"
             ]
            ],
            "type": "histogram2d"
           }
          ],
          "histogram2dcontour": [
           {
            "colorbar": {
             "outlinewidth": 0,
             "ticks": ""
            },
            "colorscale": [
             [
              0,
              "#0d0887"
             ],
             [
              0.1111111111111111,
              "#46039f"
             ],
             [
              0.2222222222222222,
              "#7201a8"
             ],
             [
              0.3333333333333333,
              "#9c179e"
             ],
             [
              0.4444444444444444,
              "#bd3786"
             ],
             [
              0.5555555555555556,
              "#d8576b"
             ],
             [
              0.6666666666666666,
              "#ed7953"
             ],
             [
              0.7777777777777778,
              "#fb9f3a"
             ],
             [
              0.8888888888888888,
              "#fdca26"
             ],
             [
              1,
              "#f0f921"
             ]
            ],
            "type": "histogram2dcontour"
           }
          ],
          "mesh3d": [
           {
            "colorbar": {
             "outlinewidth": 0,
             "ticks": ""
            },
            "type": "mesh3d"
           }
          ],
          "parcoords": [
           {
            "line": {
             "colorbar": {
              "outlinewidth": 0,
              "ticks": ""
             }
            },
            "type": "parcoords"
           }
          ],
          "pie": [
           {
            "automargin": true,
            "type": "pie"
           }
          ],
          "scatter": [
           {
            "fillpattern": {
             "fillmode": "overlay",
             "size": 10,
             "solidity": 0.2
            },
            "type": "scatter"
           }
          ],
          "scatter3d": [
           {
            "line": {
             "colorbar": {
              "outlinewidth": 0,
              "ticks": ""
             }
            },
            "marker": {
             "colorbar": {
              "outlinewidth": 0,
              "ticks": ""
             }
            },
            "type": "scatter3d"
           }
          ],
          "scattercarpet": [
           {
            "marker": {
             "colorbar": {
              "outlinewidth": 0,
              "ticks": ""
             }
            },
            "type": "scattercarpet"
           }
          ],
          "scattergeo": [
           {
            "marker": {
             "colorbar": {
              "outlinewidth": 0,
              "ticks": ""
             }
            },
            "type": "scattergeo"
           }
          ],
          "scattergl": [
           {
            "marker": {
             "colorbar": {
              "outlinewidth": 0,
              "ticks": ""
             }
            },
            "type": "scattergl"
           }
          ],
          "scattermap": [
           {
            "marker": {
             "colorbar": {
              "outlinewidth": 0,
              "ticks": ""
             }
            },
            "type": "scattermap"
           }
          ],
          "scattermapbox": [
           {
            "marker": {
             "colorbar": {
              "outlinewidth": 0,
              "ticks": ""
             }
            },
            "type": "scattermapbox"
           }
          ],
          "scatterpolar": [
           {
            "marker": {
             "colorbar": {
              "outlinewidth": 0,
              "ticks": ""
             }
            },
            "type": "scatterpolar"
           }
          ],
          "scatterpolargl": [
           {
            "marker": {
             "colorbar": {
              "outlinewidth": 0,
              "ticks": ""
             }
            },
            "type": "scatterpolargl"
           }
          ],
          "scatterternary": [
           {
            "marker": {
             "colorbar": {
              "outlinewidth": 0,
              "ticks": ""
             }
            },
            "type": "scatterternary"
           }
          ],
          "surface": [
           {
            "colorbar": {
             "outlinewidth": 0,
             "ticks": ""
            },
            "colorscale": [
             [
              0,
              "#0d0887"
             ],
             [
              0.1111111111111111,
              "#46039f"
             ],
             [
              0.2222222222222222,
              "#7201a8"
             ],
             [
              0.3333333333333333,
              "#9c179e"
             ],
             [
              0.4444444444444444,
              "#bd3786"
             ],
             [
              0.5555555555555556,
              "#d8576b"
             ],
             [
              0.6666666666666666,
              "#ed7953"
             ],
             [
              0.7777777777777778,
              "#fb9f3a"
             ],
             [
              0.8888888888888888,
              "#fdca26"
             ],
             [
              1,
              "#f0f921"
             ]
            ],
            "type": "surface"
           }
          ],
          "table": [
           {
            "cells": {
             "fill": {
              "color": "#EBF0F8"
             },
             "line": {
              "color": "white"
             }
            },
            "header": {
             "fill": {
              "color": "#C8D4E3"
             },
             "line": {
              "color": "white"
             }
            },
            "type": "table"
           }
          ]
         },
         "layout": {
          "annotationdefaults": {
           "arrowcolor": "#2a3f5f",
           "arrowhead": 0,
           "arrowwidth": 1
          },
          "autotypenumbers": "strict",
          "coloraxis": {
           "colorbar": {
            "outlinewidth": 0,
            "ticks": ""
           }
          },
          "colorscale": {
           "diverging": [
            [
             0,
             "#8e0152"
            ],
            [
             0.1,
             "#c51b7d"
            ],
            [
             0.2,
             "#de77ae"
            ],
            [
             0.3,
             "#f1b6da"
            ],
            [
             0.4,
             "#fde0ef"
            ],
            [
             0.5,
             "#f7f7f7"
            ],
            [
             0.6,
             "#e6f5d0"
            ],
            [
             0.7,
             "#b8e186"
            ],
            [
             0.8,
             "#7fbc41"
            ],
            [
             0.9,
             "#4d9221"
            ],
            [
             1,
             "#276419"
            ]
           ],
           "sequential": [
            [
             0,
             "#0d0887"
            ],
            [
             0.1111111111111111,
             "#46039f"
            ],
            [
             0.2222222222222222,
             "#7201a8"
            ],
            [
             0.3333333333333333,
             "#9c179e"
            ],
            [
             0.4444444444444444,
             "#bd3786"
            ],
            [
             0.5555555555555556,
             "#d8576b"
            ],
            [
             0.6666666666666666,
             "#ed7953"
            ],
            [
             0.7777777777777778,
             "#fb9f3a"
            ],
            [
             0.8888888888888888,
             "#fdca26"
            ],
            [
             1,
             "#f0f921"
            ]
           ],
           "sequentialminus": [
            [
             0,
             "#0d0887"
            ],
            [
             0.1111111111111111,
             "#46039f"
            ],
            [
             0.2222222222222222,
             "#7201a8"
            ],
            [
             0.3333333333333333,
             "#9c179e"
            ],
            [
             0.4444444444444444,
             "#bd3786"
            ],
            [
             0.5555555555555556,
             "#d8576b"
            ],
            [
             0.6666666666666666,
             "#ed7953"
            ],
            [
             0.7777777777777778,
             "#fb9f3a"
            ],
            [
             0.8888888888888888,
             "#fdca26"
            ],
            [
             1,
             "#f0f921"
            ]
           ]
          },
          "colorway": [
           "#636efa",
           "#EF553B",
           "#00cc96",
           "#ab63fa",
           "#FFA15A",
           "#19d3f3",
           "#FF6692",
           "#B6E880",
           "#FF97FF",
           "#FECB52"
          ],
          "font": {
           "color": "#2a3f5f"
          },
          "geo": {
           "bgcolor": "white",
           "lakecolor": "white",
           "landcolor": "#E5ECF6",
           "showlakes": true,
           "showland": true,
           "subunitcolor": "white"
          },
          "hoverlabel": {
           "align": "left"
          },
          "hovermode": "closest",
          "mapbox": {
           "style": "light"
          },
          "paper_bgcolor": "white",
          "plot_bgcolor": "#E5ECF6",
          "polar": {
           "angularaxis": {
            "gridcolor": "white",
            "linecolor": "white",
            "ticks": ""
           },
           "bgcolor": "#E5ECF6",
           "radialaxis": {
            "gridcolor": "white",
            "linecolor": "white",
            "ticks": ""
           }
          },
          "scene": {
           "xaxis": {
            "backgroundcolor": "#E5ECF6",
            "gridcolor": "white",
            "gridwidth": 2,
            "linecolor": "white",
            "showbackground": true,
            "ticks": "",
            "zerolinecolor": "white"
           },
           "yaxis": {
            "backgroundcolor": "#E5ECF6",
            "gridcolor": "white",
            "gridwidth": 2,
            "linecolor": "white",
            "showbackground": true,
            "ticks": "",
            "zerolinecolor": "white"
           },
           "zaxis": {
            "backgroundcolor": "#E5ECF6",
            "gridcolor": "white",
            "gridwidth": 2,
            "linecolor": "white",
            "showbackground": true,
            "ticks": "",
            "zerolinecolor": "white"
           }
          },
          "shapedefaults": {
           "line": {
            "color": "#2a3f5f"
           }
          },
          "ternary": {
           "aaxis": {
            "gridcolor": "white",
            "linecolor": "white",
            "ticks": ""
           },
           "baxis": {
            "gridcolor": "white",
            "linecolor": "white",
            "ticks": ""
           },
           "bgcolor": "#E5ECF6",
           "caxis": {
            "gridcolor": "white",
            "linecolor": "white",
            "ticks": ""
           }
          },
          "title": {
           "x": 0.05
          },
          "xaxis": {
           "automargin": true,
           "gridcolor": "white",
           "linecolor": "white",
           "ticks": "",
           "title": {
            "standoff": 15
           },
           "zerolinecolor": "white",
           "zerolinewidth": 2
          },
          "yaxis": {
           "automargin": true,
           "gridcolor": "white",
           "linecolor": "white",
           "ticks": "",
           "title": {
            "standoff": 15
           },
           "zerolinecolor": "white",
           "zerolinewidth": 2
          }
         }
        },
        "title": {
         "text": "EDR Class Distribution in Each Batch - Task ID 1"
        },
        "xaxis": {
         "anchor": "y",
         "domain": [
          0,
          1
         ],
         "title": {
          "text": "Classes"
         }
        },
        "yaxis": {
         "anchor": "x",
         "autorange": "reversed",
         "domain": [
          0,
          1
         ],
         "title": {
          "text": "Batches"
         }
        }
       }
      }
     },
     "metadata": {},
     "output_type": "display_data"
    }
   ],
   "source": [
    "import numpy as np\n",
    "import plotly.express as px\n",
    "\n",
    "task_id = 1\n",
    "\n",
    "df = pd.read_csv(\"../results_plot_SplitCIFAR100_['EDR', 'ER']_False_[]_32_10_0_50_2/train_batches_y_ExperienceDelayReplay.log\", \n",
    "                 names=[\"task_id\", \"class_0\", \"class_1\", \"class_2\", \"class_3\", \"class_4\", \"class_5\", \"class_6\", \n",
    "                            \"class_7\", \"class_8\", \"class_9\", \"class_10\", \"class_11\", \"class_12\", \"class_13\", \"class_14\", \"class_15\", \"class_16\",\n",
    "                            \"class_17\", \"class_18\", \"class_19\", \"class_20\", \"class_21\", \"class_22\", \"class_23\", \"class_24\", \"class_25\", \"class_26\",\n",
    "                            \"class_27\", \"class_28\", \"class_29\", \"class_30\", \"class_31\", \"class_32\", \"class_33\", \"class_34\", \"class_35\", \"class_36\",\n",
    "                            \"class_37\", \"class_38\", \"class_39\", \"class_40\", \"class_41\", \"class_42\", \"class_43\", \"class_44\", \"class_45\", \"class_46\",\n",
    "                            \"class_47\", \"class_48\", \"class_49\", \"class_50\", \"class_51\", \"class_52\", \"class_53\", \"class_54\", \"class_55\", \"class_56\",\n",
    "                            \"class_57\", \"class_58\", \"class_59\", \"class_60\", \"class_61\", \"class_62\", \"class_63\", \"class_64\", \"class_65\", \"class_66\",\n",
    "                            \"class_67\", \"class_68\", \"class_69\", \"class_70\", \"class_71\", \"class_72\", \"class_73\", \"class_74\", \"class_75\", \"class_76\",\n",
    "                            \"class_77\", \"class_78\", \"class_79\", \"class_80\", \"class_81\", \"class_82\", \"class_83\", \"class_84\", \"class_85\", \"class_86\",\n",
    "                            \"class_87\", \"class_88\", \"class_89\", \"class_90\", \"class_91\", \"class_92\", \"class_93\", \"class_94\", \"class_95\", \"class_96\",\n",
    "                            \"class_97\", \"class_98\", \"class_99\"],)\n",
    "\n",
    "\n",
    "df_plot = df.loc[df.task_id == task_id].reset_index(drop=True).copy()\n",
    "# df_plot = pd.concat([df_plot[:10], df_plot[80:90], df_plot[115:125]], ignore_index=True)\n",
    "df_plot.drop(columns=[\"task_id\"], inplace=True)\n",
    "\n",
    "# Criação do heatmap interativo (classe no eixo Y, batch no eixo X)\n",
    "fig = px.imshow(\n",
    "    df_plot,\n",
    "    labels=dict(x=\"Classes\", y=\"Batches\", color=\"Number of Instances\"),\n",
    "    # x=[f\"Batch {i}\" for i in range(1, num_batches+1)],\n",
    "    # y=[f\"Classe {i}\" for i in range(num_classes)],\n",
    "    aspect=\"auto\",\n",
    "    color_continuous_scale=\"Viridis\",\n",
    "    origin=\"upper\",  # garante que Classe 0 fique em cima\n",
    "    # text_auto=True\n",
    ")\n",
    "\n",
    "fig.update_layout(\n",
    "    title=\"EDR Class Distribution in Each Batch - Task ID {}\".format(task_id),\n",
    "    xaxis_title=\"Classes\",\n",
    "    yaxis_title=\"Batches\",\n",
    "    height=900,\n",
    ")\n",
    "\n",
    "fig.show()"
   ]
  },
  {
   "cell_type": "code",
   "execution_count": 19,
   "id": "a03ea372",
   "metadata": {},
   "outputs": [
    {
     "data": {
      "application/vnd.plotly.v1+json": {
       "config": {
        "plotlyServerURL": "https://plot.ly"
       },
       "data": [
        {
         "coloraxis": "coloraxis",
         "hovertemplate": "Classes: %{x}<br>Batches: %{y}<br>Number of Instances: %{z}<extra></extra>",
         "name": "0",
         "type": "heatmap",
         "x": [
          "class_0",
          "class_1",
          "class_2",
          "class_3",
          "class_4",
          "class_5",
          "class_6",
          "class_7",
          "class_8",
          "class_9",
          "class_10",
          "class_11",
          "class_12",
          "class_13",
          "class_14",
          "class_15",
          "class_16",
          "class_17",
          "class_18",
          "class_19",
          "class_20",
          "class_21",
          "class_22",
          "class_23",
          "class_24",
          "class_25",
          "class_26",
          "class_27",
          "class_28",
          "class_29",
          "class_30",
          "class_31",
          "class_32",
          "class_33",
          "class_34",
          "class_35",
          "class_36",
          "class_37",
          "class_38",
          "class_39",
          "class_40",
          "class_41",
          "class_42",
          "class_43",
          "class_44",
          "class_45",
          "class_46",
          "class_47",
          "class_48",
          "class_49",
          "class_50",
          "class_51",
          "class_52",
          "class_53",
          "class_54",
          "class_55",
          "class_56",
          "class_57",
          "class_58",
          "class_59",
          "class_60",
          "class_61",
          "class_62",
          "class_63",
          "class_64",
          "class_65",
          "class_66",
          "class_67",
          "class_68",
          "class_69",
          "class_70",
          "class_71",
          "class_72",
          "class_73",
          "class_74",
          "class_75",
          "class_76",
          "class_77",
          "class_78",
          "class_79",
          "class_80",
          "class_81",
          "class_82",
          "class_83",
          "class_84",
          "class_85",
          "class_86",
          "class_87",
          "class_88",
          "class_89",
          "class_90",
          "class_91",
          "class_92",
          "class_93",
          "class_94",
          "class_95",
          "class_96",
          "class_97",
          "class_98",
          "class_99"
         ],
         "xaxis": "x",
         "y": {
          "bdata": "AAECAwQFBgcICQoLDA0ODxAREhMUFRYXGBkaGxwdHh8gISIjJCUmJygpKissLS4vMDEyMzQ1Njc4OTo7PD0+P0BBQkNERUZHSElKS0xN",
          "dtype": "i1"
         },
         "yaxis": "y",
         "z": {
          "bdata": "AAAAAAAAAAAAAAAAAAAAAAAAAAYAAAAAAAAAAAAAAAAAAAAAAAQAAAAAAAAGAAAAAAAAAAAHAAAAAAAAAAAAAAAAAAAACgAHAAAAAAAAAAAAAAAAAAAAAAAABwUABwAFAAAAAAAAAAAAAAAAAAAAAAAAAAAAAAADAAAAAAAAAAAAAAAAAAAAAAAGAAAAAAAABAAAAAAAAAAABwAAAAAAAAAAAAAAAAAAAAYABgAAAAAAAAAAAAAAAAAAAAAAAAgHAAsABgAAAAAAAAAAAAAAAAAAAAAAAAAAAAAACwAAAAAAAAAAAAAAAAAAAAAABQAAAAAAAAEAAAAAAAAAAAQAAAAAAAAAAAAAAAAAAAAJAAUAAAAAAAAAAAAAAAAAAAAAAAAJBAAIAAgAAAAAAAAAAAAAAAAAAAAAAAAAAAAAAAUAAAAAAAAAAAAAAAAAAAAAAAUAAAAAAAADAAAAAAAAAAADAAAAAAAAAAAAAAAAAAAACgAHAAAAAAAAAAAAAAAAAAAAAAAACgQABwAKAAAAAAAAAAAAAAAAAAAAAAAAAAAAAAAGAAAAAAAAAAAAAAAAAAAAAAAIAAAAAAAABgAAAAAAAAAACQAAAAAAAAAAAAAAAAAAAAcABQAAAAAAAAAAAAAAAAAAAAAAAAkFAAgAAQAAAAAAAAAAAAAAAAAAAAAAAAAAAAAACgAAAAAAAAAAAAAAAAAAAAAACAAAAAAAAAYAAAAAAAAAAAUAAAAAAAAAAAAAAAAAAAAFAAQAAAAAAAAAAAAAAAAAAAAAAAAGBQAJAAYAAAAAAAAAAAAAAAAAAAAAAAAAAAAAAAYAAAAAAAAAAAAAAAAAAAAAAAkAAAAAAAAIAAAAAAAAAAAJAAAAAAAAAAAAAAAAAAAABAAKAAAAAAAAAAAAAAAAAAAAAAAABgQAAwAFAAAAAAAAAAAAAAAAAAAAAAAAAAAAAAAGAAAAAAAAAAAAAAAAAAAAAAAGAAAAAAAABQAAAAAAAAAABgAAAAAAAAAAAAAAAAAAAAYABQAAAAAAAAAAAAAAAAAAAAAAAAQJAAoABwAAAAAAAAAAAAAAAAAAAAAAAAAAAAAACgAAAAAAAAAAAAAAAAAAAAAACgAAAAAAAAYAAAAAAAAAAAgAAAAAAAAAAAAAAAAAAAACAAMAAAAAAAAAAAAAAAAAAAAAAAAGBgAHAAYAAAAAAAAAAAAAAAAAAAAAAAAAAAAAAAMAAAAAAAAAAAAAAAAAAAAAAAUAAAAAAAADAAAAAAAAAAAJAAAAAAAAAAAAAAAAAAAABwALAAAAAAAAAAAAAAAAAAAAAAAACQgAAgAHAAAAAAAAAAAAAAAAAAAAAAAAAAAAAAAGAAAAAAAAAAAAAAAAAAAAAAAEAAAAAAAAAwAAAAAAAAAACAAAAAAAAAAAAAAAAAAAAAUABgAAAAAAAAAAAAAAAAAAAAAAAAsGAAYACQAAAAAAAAAAAAAAAAAAAAAAAAAAAAAABwAAAAAAAAAAAAAAAAAAAAAABwAAAAAAAAMAAAAAAAAAAAUAAAAAAAAAAAAAAAAAAAALAAcAAAAAAAAAAAAAAAAAAAAAAAAFBwAHAAUAAAAAAAAAAAAAAAAAAAAAAAAAAAAAAAgAAAAAAAAAAAAAAAAAAAAAAAIAAAAAAAAHAAAAAAAAAAAGAAAAAAAAAAAAAAAAAAAABAAIAAAAAAAAAAAAAAAAAAAAAAAABwcABwAIAAAAAAAAAAAAAAAAAAAAAAAAAAAAAAAGAAAAAAAAAAAAAAAAAAAAAAAFAAAAAAAACAAAAAAAAAAABwAAAAAAAAAAAAAAAAAAAAYACAAAAAAAAAAAAAAAAAAAAAAAAAcEAAUACAAAAAAAAAAAAAAAAAAAAAAAAAAAAAAABwAAAAAAAAAAAAAAAAAAAAAABQAAAAAAAAcAAAAAAAAAAAUAAAAAAAAAAAAAAAAAAAAHAAYAAAAAAAAAAAAAAAAAAAAAAAAFCgAGAAYAAAAAAAAAAAAAAAAAAAAAAAAAAAAAAAcAAAAAAAAAAAAAAAAAAAAAAAYAAAAAAAAGAAAAAAAAAAAEAAAAAAAAAAAAAAAAAAAAAwAHAAAAAAAAAAAAAAAAAAAAAAAABwYADQAFAAAAAAAAAAAAAAAAAAAAAAAAAAAAAAAGAAAAAAAAAAAAAAAAAAAAAAALAAAAAAAACQAAAAAAAAAABAAAAAAAAAAAAAAAAAAAAAUABQAAAAAAAAAAAAAAAAAAAAAAAAUIAAYABQAAAAAAAAAAAAAAAAAAAAAAAAAAAAAABQAAAAAAAAAAAAAAAAAAAAAACgAAAAAAAAQAAAAAAAAAAAUAAAAAAAAAAAAAAAAAAAAIAAYAAAAAAAAAAAAAAAAAAAAAAAAGBAAGAAoAAAAAAAAAAAAAAAAAAAAAAAAAAAAAAAMAAAAAAAAAAAAAAAAAAAAAAAYAAAAAAAAGAAAAAAAAAAAFAAAAAAAAAAAAAAAAAAAACAAGAAAAAAAAAAAAAAAAAAAAAAAACQYABwAIAAAAAAAAAAAAAAAAAAAAAAAAAAAAAAAHAAAAAAAAAAAAAAAAAAAAAAAGAAAAAAAABAAAAAAAAAAABwAAAAAAAAAAAAAAAAAAAAUABgAAAAAAAAAAAAAAAAAAAAAAAAQIAAgACQAAAAAAAAAAAAAAAAAAAAAAAAAAAAAABgAAAAAAAAAAAAAAAAAAAAAABAAAAAAAAAYAAAAAAAAAAAkAAAAAAAAAAAAAAAAAAAAKAAYAAAAAAAAAAAAAAAAAAAAAAAACBQAIAAgAAAAAAAAAAAAAAAAAAAAAAAAAAAAAAAMAAAAAAAAAAAAAAAAAAAAAAAQAAAAAAAAKAAAAAAAAAAAEAAAAAAAAAAAAAAAAAAAABAAEAAAAAAAAAAAAAAAAAAAAAAAACQsABgAJAAAAAAAAAAAAAAAAAAAAAAAAAAAAAAAFAAAAAAAAAAAAAAAAAAAAAAAHAAAAAAAAAgAAAAAAAAAACgAAAAAAAAAAAAAAAAAAAAYABQAAAAAAAAAAAAAAAAAAAAAAAAcIAAYACAAAAAAAAAAAAAAAAAAAAAAAAAAAAAAAAQAAAAAAAAAAAAAAAAAAAAAABQAAAAAAAAUAAAAAAAAAAAUAAAAAAAAAAAAAAAAAAAAHAAkAAAAAAAAAAAAAAAAAAAAAAAAGCAALAAcAAAAAAAAAAAAAAAAAAAAAAAAAAAAAAAUAAAAAAAAAAAAAAAAAAAAAAAUAAAAAAAAFAAAAAAAAAAAHAAAAAAAAAAAAAAAAAAAABQAFAAAAAAAAAAAAAAAAAAAAAAAABQkACwAHAAAAAAAAAAAAAAAAAAAAAAAAAAAAAAACAAAAAAAAAAAAAAAAAAAAAAAFAAAAAAAABwAAAAAAAAAABwAAAAAAAAAAAAAAAAAAAAQACAAAAAAAAAAAAAAAAAAAAAAAAAUMAAYACAAAAAAAAAAAAAAAAAAAAAAAAAAAAAAABAAAAAAAAAAAAAAAAAAAAAAAAwAAAAAAAAMAAAAAAAAAAAoAAAAAAAAAAAAAAAAAAAADAAoAAAAAAAAAAAAAAAAAAAAAAAAFCwAFAAoAAAAAAAAAAAAAAAAAAAAAAAAAAAAAAAUAAAAAAAAAAAAAAAAAAAAAAAUAAAAAAAAGAAAAAAAAAAAFAAAAAAAAAAAAAAAAAAAACgAEAAAAAAAAAAAAAAAAAAAAAAAABQwACQADAAAAAAAAAAAAAAAAAAAAAAAAAAAAAAAIAAAAAAAAAAAAAAAAAAAAAAAGAAAAAAAABAAAAAAAAAAABQAAAAAAAAAAAAAAAAAAAAcABQAAAAAAAAAAAAAAAAAAAAAAAAMJAAcACgAAAAAAAAAAAAAAAAAAAAAAAAAAAAAACQAAAAAAAAAAAAAAAAAAAAAACAAAAAAAAAEAAAAAAAAAAAEAAAAAAAAAAAAAAAAAAAAHAAQAAAAAAAAAAAAAAAAAAAAAAAAHBQAIAA4AAAAAAAAAAAAAAAAAAAAAAAAAAAAAAAgAAAAAAAAAAAAAAAAAAAAAAAUAAAAAAAADAAAAAAAAAAAGAAAAAAAAAAAAAAAAAAAABAAFAAAAAAAAAAAAAAAAAAAAAAAABAgABgAPAAAAAAAAAAAAAAAAAAAAAAAAAAAAAAAGAAAAAAAAAAAAAAAAAAAAAAAHAAAAAAAADQAAAAAAAAAABwAAAAAAAAAAAAAAAAAAAAMABgAAAAAAAAAAAAAAAAAAAAAAAAcFAAUABQAAAAAAAAAAAAAAAAAAAAAAAAAAAAAACwAAAAAAAAAAAAAAAAAAAAAAAgAAAAAAAAYAAAAAAAAAAAkAAAAAAAAAAAAAAAAAAAAGAAYAAAAAAAAAAAAAAAAAAAAAAAAHBgAFAAYAAAAAAAAAAAAAAAAAAAAAAAAAAAAAAAgAAAAAAAAAAAAAAAAAAAAAAAoAAAAAAAAFAAAAAAAAAAAGAAAAAAAAAAAAAAAAAAAABgAGAAAAAAAAAAAAAAAAAAAAAAAABQUABQAIAAAAAAAAAAAAAAAAAAAAAAAAAAAAAAAHAAAAAAAAAAAAAAAAAAAAAAANAAAAAAAABwAAAAAAAAAABQAAAAAAAAAAAAAAAAAAAAMABwAAAAAAAAAAAAAAAAAAAAAAAAQGAAUABwAAAAAAAAAAAAAAAAAAAAAAAAAAAAAABgAAAAAAAAAAAAAAAAAAAAAACQAAAAAAAAcAAAAAAAAAAAkAAAAAAAAAAAAAAAAAAAAEAAYAAAAAAAAAAAAAAAAAAAAAAAAGAwAFAAkAAAAAAAAAAAAAAAAAAAAAAAAAAAAAAAYAAAAAAAAAAAAAAAAAAAAAAAMAAAAAAAAIAAAAAAAAAAAKAAAAAAAAAAAAAAAAAAAABwAEAAAAAAAAAAAAAAAAAAAAAAAACQYABQAGAAAAAAAAAAAAAAAAAAAAAAAAAAAAAAAEAAAAAAAAAAAAAAAAAAAAAAAMAAAAAAAABwAAAAAAAAAABAAAAAAAAAAAAAAAAAAAAAUABwAAAAAAAAAAAAAAAAAAAAAAAAgHAAUABQAAAAAAAAAAAAAAAAAAAAAAAAAAAAAACAAAAAAAAAAAAAAAAAAAAAAACgAAAAAAAAQAAAAAAAAAAAwAAAAAAAAAAAAAAAAAAAAEAAYAAAAAAAAAAAAAAAAAAAAAAAAIBAAFAAMAAAAAAAAAAAAAAAAAAAAAAAAAAAAAAAIAAAAAAAAAAAAAAAAAAAAAAAgAAAAAAAAFAAAAAAAAAAALAAAAAAAAAAAAAAAAAAAABwACAAAAAAAAAAAAAAAAAAAAAAAABQwAAwAJAAAAAAAAAAAAAAAAAAAAAAAAAAAAAAAEAAAAAAAAAAAAAAAAAAAAAAALAAAAAAAACAAAAAAAAAAABwAAAAAAAAAAAAAAAAAAAAYABwAAAAAAAAAAAAAAAAAAAAAAAAcEAAMABwAAAAAAAAAAAAAAAAAAAAAAAAAAAAAABgAAAAAAAAAAAAAAAAAAAAAACQAAAAAAAAYAAAAAAAAAAAMAAAAAAAAAAAAAAAAAAAAIAAgAAAAAAAAAAAAAAAAAAAAAAAAGAwAFAAoAAAAAAAAAAAAAAAAAAAAAAAAAAAAAAAEAAAAAAAAAAAAAAAAAAAAAAAcAAAAAAAAIAAAAAAAAAAAHAAAAAAAAAAAAAAAAAAAABQAIAAAAAAAAAAAAAAAAAAAAAAAABAcACQAIAAAAAAAAAAAAAAAAAAAAAAAAAAAAAAAEAAAAAAAAAAAAAAAAAAAAAAAFAAAAAAAADQAAAAAAAAAACAAAAAAAAAAAAAAAAAAAAAQABAAAAAAAAAAAAAAAAAAAAAAAAAQJAAYABwAAAAAAAAAAAAAAAAAAAAAAAAAAAAAABwAAAAAAAAAAAAAAAAAAAAAABwAAAAAAAAcAAAAAAAAAAAQAAAAAAAAAAAAAAAAAAAAGAAoAAAAAAAAAAAAAAAAAAAAAAAAEBwAGAAYAAAAAAAAAAAAAAAAAAAAAAAAAAAAAAAgAAAAAAAAAAAAAAAAAAAAAAAcAAAAAAAAEAAAAAAAAAAAHAAAAAAAAAAAAAAAAAAAABAAGAAAAAAAAAAAAAAAAAAAAAAAACQYABQAIAAAAAAAAAAAAAAAAAAAAAAAAAAAAAAAIAAAAAAAAAAAAAAAAAAAAAAAIAAAAAAAAAAAAAAAAAAAABQAAAAAAAAAAAAAAAAAAAAYACQAAAAAAAAAAAAAAAAAAAAAAAAUIAAcACAAAAAAAAAAAAAAAAAAAAAAAAAAAAAAABQAAAAAAAAAAAAAAAAAAAAAABwAAAAAAAAcAAAAAAAAAAAcAAAAAAAAAAAAAAAAAAAAEAAYAAAAAAAAAAAAAAAAAAAAAAAAKCAAGAAQAAAAAAAAAAAAAAAAAAAAAAAAAAAAAAAoAAAAAAAAAAAAAAAAAAAAAAAMAAAAAAAAFAAAAAAAAAAAIAAAAAAAAAAAAAAAAAAAAAgAJAAAAAAAAAAAAAAAAAAAAAAAADAgABAADAAAAAAAAAAAAAAAAAAAAAAAAAAAAAAAGAAAAAAAAAAAAAAAAAAAAAAAFAAAAAAAABgAAAAAAAAAACQAAAAAAAAAAAAAAAAAAAAYABQAAAAAAAAAAAAAAAAAAAAAAAAgGAAUACAAAAAAAAAAAAAAAAAAAAAAAAAAAAAAACgAAAAAAAAAAAAAAAAAAAAAACgAAAAAAAAQAAAAAAAAAAAcAAAAAAAAAAAAAAAAAAAAHAAcAAAAAAAAAAAAAAAAAAAAAAAACCAAEAAUAAAAAAAAAAAAAAAAAAAAAAAAAAAAAAAYAAAAAAAAAAAAAAAAAAAAAAAYAAAIABAABAAAAAAAAAAAEAAABAAAAAAAABAAAAAAAAAABAAAFAAIAAAAFAgMAAAQAAAAABwIAAgADAAAAAAAAAAAAAAAAAAAAAAAAAAAAAAADAAAAAAAAAAAAAAAAAAAAAAAFAAADAAAABAAAAAAAAAAAAQAAAwAAAAAAAAQAAAAAAAIABwAABAADAAAABwIEAAACAAAAAAIDAAAABQAAAAAAAAAAAAAAAAAAAAAAAAAAAAAAAgAAAAAAAAAAAAAAAAAAAAAAAwAABQADAAIAAAAAAAAAAAQAAAEAAAAAAAAAAAAAAAACAAMAAAQABwAAAAEEAwAABAAAAAADAwADAAcAAAAAAAAAAAAAAAAAAAAAAAAAAAAAAAIAAAAAAAAAAAAAAAAAAAAAAAYAAAIAAQACAAAAAAAAAAAEAAAEAAAAAAAAAAAAAAAAAwACAAACAAYAAAAFBwIAAAMAAAAAAwYAAAAEAAAAAAAAAAAAAAAAAAAAAAAAAAAAAAAFAAAAAAAAAAAAAAAAAAAAAAAGAAAHAAIABAAAAAAAAAAABAAABQAAAAAAAAEAAAAAAAEAAAAAAgADAAAAAwQDAAADAAAAAAIEAAIAAwAAAAAAAAAAAAAAAAAAAAAAAAAAAAAAAgAAAAAAAAAAAAAAAAAAAAAABgAAAwAAAAUAAAAAAAAAAAEAAAMAAAAAAAAFAAAAAAABAAMAAAMAAgAAAAYDBAAABQAAAAADAgACAAUAAAAAAAAAAAAAAAAAAAAAAAAAAAAAAAIAAAAAAAAAAAAAAAAAAAAAAAIAAAIAAwAEAAAAAAAAAAADAAADAAAAAAAABgAAAAAABAAHAAAGAAEAAAAEAAQAAAQAAAAABAMAAQABAAAAAAAAAAAAAAAAAAAAAAAAAAAAAAAEAAAAAAAAAAAAAAAAAAAAAAABAAADAAAAAQAAAAAAAAAACAAABAAAAAAAAAMAAAAAAAMAAwAABQABAAAAAwYEAAAFAAAAAAEDAAIABAAAAAAAAAAAAAAAAAAAAAAAAAAAAAAAAwAAAAAAAAAAAAAAAAAAAAAAAwAABAAEAAQAAAAAAAAAAAMAAAQAAAAAAAAHAAAAAAACAAEAAAIABQAAAAUCAQAAAwAAAAAGAwABAAEAAAAAAAAAAAAAAAAAAAAAAAAAAAAAAAIAAAAAAAAAAAAAAAAAAAAAAAIAAAMAAwAEAAAAAAAAAAAFAAACAAAAAAAABgAAAAAAAQAGAAABAAIAAAAEAwUAAAcAAAAAAgMAAgABAAAAAAAAAAAAAAAAAAAAAAAAAAAAAAADAAAAAAAAAAAAAAAAAAAAAAADAAAEAAEAAAAAAAAAAAAABAAAAgAAAAAAAAIAAAAAAAAAAQAACAAEAAAABAcEAAAEAAAAAAQDAAMAAwAAAAAAAAAAAAAAAAAAAAAAAAAAAAAAAwAAAAAAAAAAAAAAAAAAAAAAAgAAAwADAAQAAAAAAAAAAAQAAAQAAAAAAAADAAAAAAACAAAAAAQAAwAAAAUHAwAABAAAAAACAgAEAAIAAAAAAAAAAAAAAAAAAAAAAAAAAAAAAAMAAAAAAAAAAAAAAAAAAAAAAAEAAAMABAAEAAAAAAAAAAAGAAABAAAAAAAAAQAAAAAAAQADAAAIAAMAAAADBgQAAAIAAAAAAwQAAQADAAAAAAAAAAAAAAAAAAAAAAAAAAAAAAAGAAAAAAAAAAAAAAAAAAAAAAACAAAGAAIAAAAAAAAAAAAABwAAAgAAAAAAAAcAAAAAAAMAAQAABQAEAAAABAMBAAAEAAAAAAMBAAEAAgAAAAAAAAAAAAAAAAAAAAAAAAAAAAAABAAAAAAAAAAAAAAAAAAAAAAABAAABgAFAAMAAAAAAAAAAAMAAAIAAAAAAAADAAAAAAACAAMAAAQAAwAAAAMEBAAAAgAAAAAEAwABAAEAAAAAAAAAAAAAAAAAAAAAAAAAAAAAAAQAAAAAAAAAAAAAAAAAAAAAAAUAAAQAAgAFAAAAAAAAAAADAAAEAAAAAAAAAQAAAAAAAgAAAAAHAAcAAAABAwIAAAMAAAAAAwIAAwADAAAAAAAAAAAAAAAAAAAAAAAAAAAAAAAFAAAAAAAAAAAAAAAAAAAAAAADAAAFAAQABAAAAAAAAAAABgAABAAAAAAAAAIAAAAAAAIAAQAABAACAAAACAMCAAACAAAAAAEEAAIAAAAAAAAAAAAAAAAAAAAAAAAAAAAAAAAABgAAAAAAAAAAAAAAAAAAAAAAAgAABQABAAIAAAAAAAAAAAQAAAIAAAAAAAACAAAAAAACAAMAAAUABgAAAAIDBgAAAwAAAAACBAACAAIAAAAAAAAAAAAAAAAAAAAAAAAAAAAAAAUAAAAAAAAAAAAAAAAAAAAAAAQAAAIABQADAAAAAAAAAAACAAACAAAAAAAABAAAAAAAAgADAAAEAAYAAAACAwMAAAMAAAAAAwQAAwABAAAAAAAAAAAAAAAAAAAAAAAAAAAAAAAEAAAAAAAAAAAAAAAAAAAAAAABAAADAAIAAwAAAAAAAAAABQAAAwAAAAAAAAQAAAAAAAIAAgAAAwADAAAABAkFAAABAAAAAAMCAAIAAwAAAAAAAAAAAAAAAAAAAAAAAAAAAAAABAAAAAAAAAAAAAAAAAAAAAAAAwAAAwAEAAMAAAAAAAAAAAMAAAMAAAAAAAAFAAAAAAABAAIAAAcAAgAAAAUFAgAAAgAAAAACBQADAAAAAAAAAAAAAAAAAAAAAAAAAAAAAAAAAAMAAAAAAAAAAAAAAAAAAAAAAAYAAAIABQAAAAAAAAAAAAAFAAAGAAAAAAAABQAAAAAAAgABAAAFAAcAAAABBQEAAAEAAAAABAIAAQACAAAAAAAAAAAAAAAAAAAAAAAAAAAAAAAAAAAAAAAAAAAAAAAAAAAAAAAEAAAEAAUAAQAAAAAAAAAAAwAAAgAAAAAAAAEAAAAAAAEAAwAABgADAAAAAggGAAACAAAAAAUFAAEAAgAAAAAAAAAAAAAAAAAAAAAAAAAAAAAAAQAAAAAAAAAAAAAAAAAAAAAABAAABQAFAAEAAAAAAAAAAAUAAAMAAAAAAAADAAAAAAABAAIAAAUAAgAAAAIGBAAABgAAAAABBAADAAEAAAAAAAAAAAAAAAAAAAAAAAAAAAAAAAMAAAAAAAAAAAAAAAAAAAAAAAIAAAQABwAEAAAAAAAAAAACAAADAAAAAAAAAwAAAAAAAwAAAAAFAAEAAAAGAgUAAAcAAAAAAgIAAgABAAAAAAAAAAAAAAAAAAAAAAAAAAAAAAADAAAAAAAAAAAAAAAAAAAAAAACAAAIAAEAAAAAAAAAAAAABAAABAAAAAAAAAQAAAAAAAIAAgAAAwAGAAAABgICAAADAAAAAAcCAAEAAgAAAAAAAAAAAAAAAAAAAAAAAAAAAAAAAQAAAAAAAAAAAAAAAAAAAAAABAAABwADAAIAAAAAAAAAAAcAAAMAAAAAAAABAAAAAAABAAIAAAIABgAAAAUDBQAAAwAAAAADBAABAAEAAAAA",
          "dtype": "i1",
          "shape": "78, 100"
         }
        }
       ],
       "layout": {
        "coloraxis": {
         "colorbar": {
          "title": {
           "text": "Number of Instances"
          }
         },
         "colorscale": [
          [
           0,
           "#440154"
          ],
          [
           0.1111111111111111,
           "#482878"
          ],
          [
           0.2222222222222222,
           "#3e4989"
          ],
          [
           0.3333333333333333,
           "#31688e"
          ],
          [
           0.4444444444444444,
           "#26828e"
          ],
          [
           0.5555555555555556,
           "#1f9e89"
          ],
          [
           0.6666666666666666,
           "#35b779"
          ],
          [
           0.7777777777777778,
           "#6ece58"
          ],
          [
           0.8888888888888888,
           "#b5de2b"
          ],
          [
           1,
           "#fde725"
          ]
         ]
        },
        "height": 900,
        "margin": {
         "t": 60
        },
        "template": {
         "data": {
          "bar": [
           {
            "error_x": {
             "color": "#2a3f5f"
            },
            "error_y": {
             "color": "#2a3f5f"
            },
            "marker": {
             "line": {
              "color": "#E5ECF6",
              "width": 0.5
             },
             "pattern": {
              "fillmode": "overlay",
              "size": 10,
              "solidity": 0.2
             }
            },
            "type": "bar"
           }
          ],
          "barpolar": [
           {
            "marker": {
             "line": {
              "color": "#E5ECF6",
              "width": 0.5
             },
             "pattern": {
              "fillmode": "overlay",
              "size": 10,
              "solidity": 0.2
             }
            },
            "type": "barpolar"
           }
          ],
          "carpet": [
           {
            "aaxis": {
             "endlinecolor": "#2a3f5f",
             "gridcolor": "white",
             "linecolor": "white",
             "minorgridcolor": "white",
             "startlinecolor": "#2a3f5f"
            },
            "baxis": {
             "endlinecolor": "#2a3f5f",
             "gridcolor": "white",
             "linecolor": "white",
             "minorgridcolor": "white",
             "startlinecolor": "#2a3f5f"
            },
            "type": "carpet"
           }
          ],
          "choropleth": [
           {
            "colorbar": {
             "outlinewidth": 0,
             "ticks": ""
            },
            "type": "choropleth"
           }
          ],
          "contour": [
           {
            "colorbar": {
             "outlinewidth": 0,
             "ticks": ""
            },
            "colorscale": [
             [
              0,
              "#0d0887"
             ],
             [
              0.1111111111111111,
              "#46039f"
             ],
             [
              0.2222222222222222,
              "#7201a8"
             ],
             [
              0.3333333333333333,
              "#9c179e"
             ],
             [
              0.4444444444444444,
              "#bd3786"
             ],
             [
              0.5555555555555556,
              "#d8576b"
             ],
             [
              0.6666666666666666,
              "#ed7953"
             ],
             [
              0.7777777777777778,
              "#fb9f3a"
             ],
             [
              0.8888888888888888,
              "#fdca26"
             ],
             [
              1,
              "#f0f921"
             ]
            ],
            "type": "contour"
           }
          ],
          "contourcarpet": [
           {
            "colorbar": {
             "outlinewidth": 0,
             "ticks": ""
            },
            "type": "contourcarpet"
           }
          ],
          "heatmap": [
           {
            "colorbar": {
             "outlinewidth": 0,
             "ticks": ""
            },
            "colorscale": [
             [
              0,
              "#0d0887"
             ],
             [
              0.1111111111111111,
              "#46039f"
             ],
             [
              0.2222222222222222,
              "#7201a8"
             ],
             [
              0.3333333333333333,
              "#9c179e"
             ],
             [
              0.4444444444444444,
              "#bd3786"
             ],
             [
              0.5555555555555556,
              "#d8576b"
             ],
             [
              0.6666666666666666,
              "#ed7953"
             ],
             [
              0.7777777777777778,
              "#fb9f3a"
             ],
             [
              0.8888888888888888,
              "#fdca26"
             ],
             [
              1,
              "#f0f921"
             ]
            ],
            "type": "heatmap"
           }
          ],
          "histogram": [
           {
            "marker": {
             "pattern": {
              "fillmode": "overlay",
              "size": 10,
              "solidity": 0.2
             }
            },
            "type": "histogram"
           }
          ],
          "histogram2d": [
           {
            "colorbar": {
             "outlinewidth": 0,
             "ticks": ""
            },
            "colorscale": [
             [
              0,
              "#0d0887"
             ],
             [
              0.1111111111111111,
              "#46039f"
             ],
             [
              0.2222222222222222,
              "#7201a8"
             ],
             [
              0.3333333333333333,
              "#9c179e"
             ],
             [
              0.4444444444444444,
              "#bd3786"
             ],
             [
              0.5555555555555556,
              "#d8576b"
             ],
             [
              0.6666666666666666,
              "#ed7953"
             ],
             [
              0.7777777777777778,
              "#fb9f3a"
             ],
             [
              0.8888888888888888,
              "#fdca26"
             ],
             [
              1,
              "#f0f921"
             ]
            ],
            "type": "histogram2d"
           }
          ],
          "histogram2dcontour": [
           {
            "colorbar": {
             "outlinewidth": 0,
             "ticks": ""
            },
            "colorscale": [
             [
              0,
              "#0d0887"
             ],
             [
              0.1111111111111111,
              "#46039f"
             ],
             [
              0.2222222222222222,
              "#7201a8"
             ],
             [
              0.3333333333333333,
              "#9c179e"
             ],
             [
              0.4444444444444444,
              "#bd3786"
             ],
             [
              0.5555555555555556,
              "#d8576b"
             ],
             [
              0.6666666666666666,
              "#ed7953"
             ],
             [
              0.7777777777777778,
              "#fb9f3a"
             ],
             [
              0.8888888888888888,
              "#fdca26"
             ],
             [
              1,
              "#f0f921"
             ]
            ],
            "type": "histogram2dcontour"
           }
          ],
          "mesh3d": [
           {
            "colorbar": {
             "outlinewidth": 0,
             "ticks": ""
            },
            "type": "mesh3d"
           }
          ],
          "parcoords": [
           {
            "line": {
             "colorbar": {
              "outlinewidth": 0,
              "ticks": ""
             }
            },
            "type": "parcoords"
           }
          ],
          "pie": [
           {
            "automargin": true,
            "type": "pie"
           }
          ],
          "scatter": [
           {
            "fillpattern": {
             "fillmode": "overlay",
             "size": 10,
             "solidity": 0.2
            },
            "type": "scatter"
           }
          ],
          "scatter3d": [
           {
            "line": {
             "colorbar": {
              "outlinewidth": 0,
              "ticks": ""
             }
            },
            "marker": {
             "colorbar": {
              "outlinewidth": 0,
              "ticks": ""
             }
            },
            "type": "scatter3d"
           }
          ],
          "scattercarpet": [
           {
            "marker": {
             "colorbar": {
              "outlinewidth": 0,
              "ticks": ""
             }
            },
            "type": "scattercarpet"
           }
          ],
          "scattergeo": [
           {
            "marker": {
             "colorbar": {
              "outlinewidth": 0,
              "ticks": ""
             }
            },
            "type": "scattergeo"
           }
          ],
          "scattergl": [
           {
            "marker": {
             "colorbar": {
              "outlinewidth": 0,
              "ticks": ""
             }
            },
            "type": "scattergl"
           }
          ],
          "scattermap": [
           {
            "marker": {
             "colorbar": {
              "outlinewidth": 0,
              "ticks": ""
             }
            },
            "type": "scattermap"
           }
          ],
          "scattermapbox": [
           {
            "marker": {
             "colorbar": {
              "outlinewidth": 0,
              "ticks": ""
             }
            },
            "type": "scattermapbox"
           }
          ],
          "scatterpolar": [
           {
            "marker": {
             "colorbar": {
              "outlinewidth": 0,
              "ticks": ""
             }
            },
            "type": "scatterpolar"
           }
          ],
          "scatterpolargl": [
           {
            "marker": {
             "colorbar": {
              "outlinewidth": 0,
              "ticks": ""
             }
            },
            "type": "scatterpolargl"
           }
          ],
          "scatterternary": [
           {
            "marker": {
             "colorbar": {
              "outlinewidth": 0,
              "ticks": ""
             }
            },
            "type": "scatterternary"
           }
          ],
          "surface": [
           {
            "colorbar": {
             "outlinewidth": 0,
             "ticks": ""
            },
            "colorscale": [
             [
              0,
              "#0d0887"
             ],
             [
              0.1111111111111111,
              "#46039f"
             ],
             [
              0.2222222222222222,
              "#7201a8"
             ],
             [
              0.3333333333333333,
              "#9c179e"
             ],
             [
              0.4444444444444444,
              "#bd3786"
             ],
             [
              0.5555555555555556,
              "#d8576b"
             ],
             [
              0.6666666666666666,
              "#ed7953"
             ],
             [
              0.7777777777777778,
              "#fb9f3a"
             ],
             [
              0.8888888888888888,
              "#fdca26"
             ],
             [
              1,
              "#f0f921"
             ]
            ],
            "type": "surface"
           }
          ],
          "table": [
           {
            "cells": {
             "fill": {
              "color": "#EBF0F8"
             },
             "line": {
              "color": "white"
             }
            },
            "header": {
             "fill": {
              "color": "#C8D4E3"
             },
             "line": {
              "color": "white"
             }
            },
            "type": "table"
           }
          ]
         },
         "layout": {
          "annotationdefaults": {
           "arrowcolor": "#2a3f5f",
           "arrowhead": 0,
           "arrowwidth": 1
          },
          "autotypenumbers": "strict",
          "coloraxis": {
           "colorbar": {
            "outlinewidth": 0,
            "ticks": ""
           }
          },
          "colorscale": {
           "diverging": [
            [
             0,
             "#8e0152"
            ],
            [
             0.1,
             "#c51b7d"
            ],
            [
             0.2,
             "#de77ae"
            ],
            [
             0.3,
             "#f1b6da"
            ],
            [
             0.4,
             "#fde0ef"
            ],
            [
             0.5,
             "#f7f7f7"
            ],
            [
             0.6,
             "#e6f5d0"
            ],
            [
             0.7,
             "#b8e186"
            ],
            [
             0.8,
             "#7fbc41"
            ],
            [
             0.9,
             "#4d9221"
            ],
            [
             1,
             "#276419"
            ]
           ],
           "sequential": [
            [
             0,
             "#0d0887"
            ],
            [
             0.1111111111111111,
             "#46039f"
            ],
            [
             0.2222222222222222,
             "#7201a8"
            ],
            [
             0.3333333333333333,
             "#9c179e"
            ],
            [
             0.4444444444444444,
             "#bd3786"
            ],
            [
             0.5555555555555556,
             "#d8576b"
            ],
            [
             0.6666666666666666,
             "#ed7953"
            ],
            [
             0.7777777777777778,
             "#fb9f3a"
            ],
            [
             0.8888888888888888,
             "#fdca26"
            ],
            [
             1,
             "#f0f921"
            ]
           ],
           "sequentialminus": [
            [
             0,
             "#0d0887"
            ],
            [
             0.1111111111111111,
             "#46039f"
            ],
            [
             0.2222222222222222,
             "#7201a8"
            ],
            [
             0.3333333333333333,
             "#9c179e"
            ],
            [
             0.4444444444444444,
             "#bd3786"
            ],
            [
             0.5555555555555556,
             "#d8576b"
            ],
            [
             0.6666666666666666,
             "#ed7953"
            ],
            [
             0.7777777777777778,
             "#fb9f3a"
            ],
            [
             0.8888888888888888,
             "#fdca26"
            ],
            [
             1,
             "#f0f921"
            ]
           ]
          },
          "colorway": [
           "#636efa",
           "#EF553B",
           "#00cc96",
           "#ab63fa",
           "#FFA15A",
           "#19d3f3",
           "#FF6692",
           "#B6E880",
           "#FF97FF",
           "#FECB52"
          ],
          "font": {
           "color": "#2a3f5f"
          },
          "geo": {
           "bgcolor": "white",
           "lakecolor": "white",
           "landcolor": "#E5ECF6",
           "showlakes": true,
           "showland": true,
           "subunitcolor": "white"
          },
          "hoverlabel": {
           "align": "left"
          },
          "hovermode": "closest",
          "mapbox": {
           "style": "light"
          },
          "paper_bgcolor": "white",
          "plot_bgcolor": "#E5ECF6",
          "polar": {
           "angularaxis": {
            "gridcolor": "white",
            "linecolor": "white",
            "ticks": ""
           },
           "bgcolor": "#E5ECF6",
           "radialaxis": {
            "gridcolor": "white",
            "linecolor": "white",
            "ticks": ""
           }
          },
          "scene": {
           "xaxis": {
            "backgroundcolor": "#E5ECF6",
            "gridcolor": "white",
            "gridwidth": 2,
            "linecolor": "white",
            "showbackground": true,
            "ticks": "",
            "zerolinecolor": "white"
           },
           "yaxis": {
            "backgroundcolor": "#E5ECF6",
            "gridcolor": "white",
            "gridwidth": 2,
            "linecolor": "white",
            "showbackground": true,
            "ticks": "",
            "zerolinecolor": "white"
           },
           "zaxis": {
            "backgroundcolor": "#E5ECF6",
            "gridcolor": "white",
            "gridwidth": 2,
            "linecolor": "white",
            "showbackground": true,
            "ticks": "",
            "zerolinecolor": "white"
           }
          },
          "shapedefaults": {
           "line": {
            "color": "#2a3f5f"
           }
          },
          "ternary": {
           "aaxis": {
            "gridcolor": "white",
            "linecolor": "white",
            "ticks": ""
           },
           "baxis": {
            "gridcolor": "white",
            "linecolor": "white",
            "ticks": ""
           },
           "bgcolor": "#E5ECF6",
           "caxis": {
            "gridcolor": "white",
            "linecolor": "white",
            "ticks": ""
           }
          },
          "title": {
           "x": 0.05
          },
          "xaxis": {
           "automargin": true,
           "gridcolor": "white",
           "linecolor": "white",
           "ticks": "",
           "title": {
            "standoff": 15
           },
           "zerolinecolor": "white",
           "zerolinewidth": 2
          },
          "yaxis": {
           "automargin": true,
           "gridcolor": "white",
           "linecolor": "white",
           "ticks": "",
           "title": {
            "standoff": 15
           },
           "zerolinecolor": "white",
           "zerolinewidth": 2
          }
         }
        },
        "title": {
         "text": "ER Class Distribution in Each Batch - Task ID 1"
        },
        "xaxis": {
         "anchor": "y",
         "domain": [
          0,
          1
         ],
         "title": {
          "text": "Classes"
         }
        },
        "yaxis": {
         "anchor": "x",
         "autorange": "reversed",
         "domain": [
          0,
          1
         ],
         "title": {
          "text": "Batches"
         }
        }
       }
      }
     },
     "metadata": {},
     "output_type": "display_data"
    }
   ],
   "source": [
    "import numpy as np\n",
    "import plotly.express as px\n",
    "\n",
    "task_id = 1\n",
    "\n",
    "df = pd.read_csv(\"../results_plot_SplitCIFAR100_['EDR', 'ER']_False_[]_32_10_0_50_2/train_batches_y_ExperienceReplay.log\", \n",
    "                 names=[\"task_id\", \"class_0\", \"class_1\", \"class_2\", \"class_3\", \"class_4\", \"class_5\", \"class_6\", \n",
    "                            \"class_7\", \"class_8\", \"class_9\", \"class_10\", \"class_11\", \"class_12\", \"class_13\", \"class_14\", \"class_15\", \"class_16\",\n",
    "                            \"class_17\", \"class_18\", \"class_19\", \"class_20\", \"class_21\", \"class_22\", \"class_23\", \"class_24\", \"class_25\", \"class_26\",\n",
    "                            \"class_27\", \"class_28\", \"class_29\", \"class_30\", \"class_31\", \"class_32\", \"class_33\", \"class_34\", \"class_35\", \"class_36\",\n",
    "                            \"class_37\", \"class_38\", \"class_39\", \"class_40\", \"class_41\", \"class_42\", \"class_43\", \"class_44\", \"class_45\", \"class_46\",\n",
    "                            \"class_47\", \"class_48\", \"class_49\", \"class_50\", \"class_51\", \"class_52\", \"class_53\", \"class_54\", \"class_55\", \"class_56\",\n",
    "                            \"class_57\", \"class_58\", \"class_59\", \"class_60\", \"class_61\", \"class_62\", \"class_63\", \"class_64\", \"class_65\", \"class_66\",\n",
    "                            \"class_67\", \"class_68\", \"class_69\", \"class_70\", \"class_71\", \"class_72\", \"class_73\", \"class_74\", \"class_75\", \"class_76\",\n",
    "                            \"class_77\", \"class_78\", \"class_79\", \"class_80\", \"class_81\", \"class_82\", \"class_83\", \"class_84\", \"class_85\", \"class_86\",\n",
    "                            \"class_87\", \"class_88\", \"class_89\", \"class_90\", \"class_91\", \"class_92\", \"class_93\", \"class_94\", \"class_95\", \"class_96\",\n",
    "                            \"class_97\", \"class_98\", \"class_99\"],)\n",
    "\n",
    "df_plot = df.loc[df.task_id == task_id].reset_index(drop=True).copy()\n",
    "# df_plot = pd.concat([df_plot[:10], df_plot[80:90], df_plot[115:125]], ignore_index=True)\n",
    "df_plot.drop(columns=[\"task_id\"], inplace=True)\n",
    "\n",
    "# Criação do heatmap interativo (classe no eixo Y, batch no eixo X)\n",
    "fig = px.imshow(\n",
    "    df_plot,\n",
    "    labels=dict(x=\"Classes\", y=\"Batches\", color=\"Number of Instances\"),\n",
    "    # x=[f\"Batch {i}\" for i in range(1, num_batches+1)],\n",
    "    # y=[f\"Classe {i}\" for i in range(num_classes)],\n",
    "    aspect=\"auto\",\n",
    "    color_continuous_scale=\"Viridis\",\n",
    "    origin=\"upper\",  # garante que Classe 0 fique em cima\n",
    "    # text_auto=True\n",
    ")\n",
    "\n",
    "fig.update_layout(\n",
    "    title=\"ER Class Distribution in Each Batch - Task ID {}\".format(task_id),\n",
    "    xaxis_title=\"Classes\",\n",
    "    yaxis_title=\"Batches\",\n",
    "    height=900,\n",
    ")\n",
    "\n",
    "fig.show()"
   ]
  },
  {
   "cell_type": "markdown",
   "id": "775e0e20",
   "metadata": {},
   "source": [
    "<!--### results_plot_mnist_['EDR', 'ER']_False_[]_32_5_0_32_150_2/train_batches_y_ExperienceDelayReplay.log -->\n",
    "#### Task 2\n",
    "#### Classes 89, 97, 66, 8, 41, 10, 16, 57, 26, 92"
   ]
  },
  {
   "cell_type": "code",
   "execution_count": 20,
   "id": "2c8b3c5a",
   "metadata": {},
   "outputs": [
    {
     "data": {
      "application/vnd.plotly.v1+json": {
       "config": {
        "plotlyServerURL": "https://plot.ly"
       },
       "data": [
        {
         "coloraxis": "coloraxis",
         "hovertemplate": "Classes: %{x}<br>Batches: %{y}<br>Number of Instances: %{z}<extra></extra>",
         "name": "0",
         "type": "heatmap",
         "x": [
          "class_0",
          "class_1",
          "class_2",
          "class_3",
          "class_4",
          "class_5",
          "class_6",
          "class_7",
          "class_8",
          "class_9",
          "class_10",
          "class_11",
          "class_12",
          "class_13",
          "class_14",
          "class_15",
          "class_16",
          "class_17",
          "class_18",
          "class_19",
          "class_20",
          "class_21",
          "class_22",
          "class_23",
          "class_24",
          "class_25",
          "class_26",
          "class_27",
          "class_28",
          "class_29",
          "class_30",
          "class_31",
          "class_32",
          "class_33",
          "class_34",
          "class_35",
          "class_36",
          "class_37",
          "class_38",
          "class_39",
          "class_40",
          "class_41",
          "class_42",
          "class_43",
          "class_44",
          "class_45",
          "class_46",
          "class_47",
          "class_48",
          "class_49",
          "class_50",
          "class_51",
          "class_52",
          "class_53",
          "class_54",
          "class_55",
          "class_56",
          "class_57",
          "class_58",
          "class_59",
          "class_60",
          "class_61",
          "class_62",
          "class_63",
          "class_64",
          "class_65",
          "class_66",
          "class_67",
          "class_68",
          "class_69",
          "class_70",
          "class_71",
          "class_72",
          "class_73",
          "class_74",
          "class_75",
          "class_76",
          "class_77",
          "class_78",
          "class_79",
          "class_80",
          "class_81",
          "class_82",
          "class_83",
          "class_84",
          "class_85",
          "class_86",
          "class_87",
          "class_88",
          "class_89",
          "class_90",
          "class_91",
          "class_92",
          "class_93",
          "class_94",
          "class_95",
          "class_96",
          "class_97",
          "class_98",
          "class_99"
         ],
         "xaxis": "x",
         "y": {
          "bdata": "AAECAwQFBgcICQoLDA0ODxAREhMUFRYXGBkaGxwdHh8gISIjJCUmJygpKissLS4vMDEyMw==",
          "dtype": "i1"
         },
         "yaxis": "y",
         "z": {
          "bdata": "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",
          "dtype": "i1",
          "shape": "52, 100"
         }
        }
       ],
       "layout": {
        "coloraxis": {
         "colorbar": {
          "title": {
           "text": "Number of Instances"
          }
         },
         "colorscale": [
          [
           0,
           "#440154"
          ],
          [
           0.1111111111111111,
           "#482878"
          ],
          [
           0.2222222222222222,
           "#3e4989"
          ],
          [
           0.3333333333333333,
           "#31688e"
          ],
          [
           0.4444444444444444,
           "#26828e"
          ],
          [
           0.5555555555555556,
           "#1f9e89"
          ],
          [
           0.6666666666666666,
           "#35b779"
          ],
          [
           0.7777777777777778,
           "#6ece58"
          ],
          [
           0.8888888888888888,
           "#b5de2b"
          ],
          [
           1,
           "#fde725"
          ]
         ]
        },
        "height": 900,
        "margin": {
         "t": 60
        },
        "template": {
         "data": {
          "bar": [
           {
            "error_x": {
             "color": "#2a3f5f"
            },
            "error_y": {
             "color": "#2a3f5f"
            },
            "marker": {
             "line": {
              "color": "#E5ECF6",
              "width": 0.5
             },
             "pattern": {
              "fillmode": "overlay",
              "size": 10,
              "solidity": 0.2
             }
            },
            "type": "bar"
           }
          ],
          "barpolar": [
           {
            "marker": {
             "line": {
              "color": "#E5ECF6",
              "width": 0.5
             },
             "pattern": {
              "fillmode": "overlay",
              "size": 10,
              "solidity": 0.2
             }
            },
            "type": "barpolar"
           }
          ],
          "carpet": [
           {
            "aaxis": {
             "endlinecolor": "#2a3f5f",
             "gridcolor": "white",
             "linecolor": "white",
             "minorgridcolor": "white",
             "startlinecolor": "#2a3f5f"
            },
            "baxis": {
             "endlinecolor": "#2a3f5f",
             "gridcolor": "white",
             "linecolor": "white",
             "minorgridcolor": "white",
             "startlinecolor": "#2a3f5f"
            },
            "type": "carpet"
           }
          ],
          "choropleth": [
           {
            "colorbar": {
             "outlinewidth": 0,
             "ticks": ""
            },
            "type": "choropleth"
           }
          ],
          "contour": [
           {
            "colorbar": {
             "outlinewidth": 0,
             "ticks": ""
            },
            "colorscale": [
             [
              0,
              "#0d0887"
             ],
             [
              0.1111111111111111,
              "#46039f"
             ],
             [
              0.2222222222222222,
              "#7201a8"
             ],
             [
              0.3333333333333333,
              "#9c179e"
             ],
             [
              0.4444444444444444,
              "#bd3786"
             ],
             [
              0.5555555555555556,
              "#d8576b"
             ],
             [
              0.6666666666666666,
              "#ed7953"
             ],
             [
              0.7777777777777778,
              "#fb9f3a"
             ],
             [
              0.8888888888888888,
              "#fdca26"
             ],
             [
              1,
              "#f0f921"
             ]
            ],
            "type": "contour"
           }
          ],
          "contourcarpet": [
           {
            "colorbar": {
             "outlinewidth": 0,
             "ticks": ""
            },
            "type": "contourcarpet"
           }
          ],
          "heatmap": [
           {
            "colorbar": {
             "outlinewidth": 0,
             "ticks": ""
            },
            "colorscale": [
             [
              0,
              "#0d0887"
             ],
             [
              0.1111111111111111,
              "#46039f"
             ],
             [
              0.2222222222222222,
              "#7201a8"
             ],
             [
              0.3333333333333333,
              "#9c179e"
             ],
             [
              0.4444444444444444,
              "#bd3786"
             ],
             [
              0.5555555555555556,
              "#d8576b"
             ],
             [
              0.6666666666666666,
              "#ed7953"
             ],
             [
              0.7777777777777778,
              "#fb9f3a"
             ],
             [
              0.8888888888888888,
              "#fdca26"
             ],
             [
              1,
              "#f0f921"
             ]
            ],
            "type": "heatmap"
           }
          ],
          "histogram": [
           {
            "marker": {
             "pattern": {
              "fillmode": "overlay",
              "size": 10,
              "solidity": 0.2
             }
            },
            "type": "histogram"
           }
          ],
          "histogram2d": [
           {
            "colorbar": {
             "outlinewidth": 0,
             "ticks": ""
            },
            "colorscale": [
             [
              0,
              "#0d0887"
             ],
             [
              0.1111111111111111,
              "#46039f"
             ],
             [
              0.2222222222222222,
              "#7201a8"
             ],
             [
              0.3333333333333333,
              "#9c179e"
             ],
             [
              0.4444444444444444,
              "#bd3786"
             ],
             [
              0.5555555555555556,
              "#d8576b"
             ],
             [
              0.6666666666666666,
              "#ed7953"
             ],
             [
              0.7777777777777778,
              "#fb9f3a"
             ],
             [
              0.8888888888888888,
              "#fdca26"
             ],
             [
              1,
              "#f0f921"
             ]
            ],
            "type": "histogram2d"
           }
          ],
          "histogram2dcontour": [
           {
            "colorbar": {
             "outlinewidth": 0,
             "ticks": ""
            },
            "colorscale": [
             [
              0,
              "#0d0887"
             ],
             [
              0.1111111111111111,
              "#46039f"
             ],
             [
              0.2222222222222222,
              "#7201a8"
             ],
             [
              0.3333333333333333,
              "#9c179e"
             ],
             [
              0.4444444444444444,
              "#bd3786"
             ],
             [
              0.5555555555555556,
              "#d8576b"
             ],
             [
              0.6666666666666666,
              "#ed7953"
             ],
             [
              0.7777777777777778,
              "#fb9f3a"
             ],
             [
              0.8888888888888888,
              "#fdca26"
             ],
             [
              1,
              "#f0f921"
             ]
            ],
            "type": "histogram2dcontour"
           }
          ],
          "mesh3d": [
           {
            "colorbar": {
             "outlinewidth": 0,
             "ticks": ""
            },
            "type": "mesh3d"
           }
          ],
          "parcoords": [
           {
            "line": {
             "colorbar": {
              "outlinewidth": 0,
              "ticks": ""
             }
            },
            "type": "parcoords"
           }
          ],
          "pie": [
           {
            "automargin": true,
            "type": "pie"
           }
          ],
          "scatter": [
           {
            "fillpattern": {
             "fillmode": "overlay",
             "size": 10,
             "solidity": 0.2
            },
            "type": "scatter"
           }
          ],
          "scatter3d": [
           {
            "line": {
             "colorbar": {
              "outlinewidth": 0,
              "ticks": ""
             }
            },
            "marker": {
             "colorbar": {
              "outlinewidth": 0,
              "ticks": ""
             }
            },
            "type": "scatter3d"
           }
          ],
          "scattercarpet": [
           {
            "marker": {
             "colorbar": {
              "outlinewidth": 0,
              "ticks": ""
             }
            },
            "type": "scattercarpet"
           }
          ],
          "scattergeo": [
           {
            "marker": {
             "colorbar": {
              "outlinewidth": 0,
              "ticks": ""
             }
            },
            "type": "scattergeo"
           }
          ],
          "scattergl": [
           {
            "marker": {
             "colorbar": {
              "outlinewidth": 0,
              "ticks": ""
             }
            },
            "type": "scattergl"
           }
          ],
          "scattermap": [
           {
            "marker": {
             "colorbar": {
              "outlinewidth": 0,
              "ticks": ""
             }
            },
            "type": "scattermap"
           }
          ],
          "scattermapbox": [
           {
            "marker": {
             "colorbar": {
              "outlinewidth": 0,
              "ticks": ""
             }
            },
            "type": "scattermapbox"
           }
          ],
          "scatterpolar": [
           {
            "marker": {
             "colorbar": {
              "outlinewidth": 0,
              "ticks": ""
             }
            },
            "type": "scatterpolar"
           }
          ],
          "scatterpolargl": [
           {
            "marker": {
             "colorbar": {
              "outlinewidth": 0,
              "ticks": ""
             }
            },
            "type": "scatterpolargl"
           }
          ],
          "scatterternary": [
           {
            "marker": {
             "colorbar": {
              "outlinewidth": 0,
              "ticks": ""
             }
            },
            "type": "scatterternary"
           }
          ],
          "surface": [
           {
            "colorbar": {
             "outlinewidth": 0,
             "ticks": ""
            },
            "colorscale": [
             [
              0,
              "#0d0887"
             ],
             [
              0.1111111111111111,
              "#46039f"
             ],
             [
              0.2222222222222222,
              "#7201a8"
             ],
             [
              0.3333333333333333,
              "#9c179e"
             ],
             [
              0.4444444444444444,
              "#bd3786"
             ],
             [
              0.5555555555555556,
              "#d8576b"
             ],
             [
              0.6666666666666666,
              "#ed7953"
             ],
             [
              0.7777777777777778,
              "#fb9f3a"
             ],
             [
              0.8888888888888888,
              "#fdca26"
             ],
             [
              1,
              "#f0f921"
             ]
            ],
            "type": "surface"
           }
          ],
          "table": [
           {
            "cells": {
             "fill": {
              "color": "#EBF0F8"
             },
             "line": {
              "color": "white"
             }
            },
            "header": {
             "fill": {
              "color": "#C8D4E3"
             },
             "line": {
              "color": "white"
             }
            },
            "type": "table"
           }
          ]
         },
         "layout": {
          "annotationdefaults": {
           "arrowcolor": "#2a3f5f",
           "arrowhead": 0,
           "arrowwidth": 1
          },
          "autotypenumbers": "strict",
          "coloraxis": {
           "colorbar": {
            "outlinewidth": 0,
            "ticks": ""
           }
          },
          "colorscale": {
           "diverging": [
            [
             0,
             "#8e0152"
            ],
            [
             0.1,
             "#c51b7d"
            ],
            [
             0.2,
             "#de77ae"
            ],
            [
             0.3,
             "#f1b6da"
            ],
            [
             0.4,
             "#fde0ef"
            ],
            [
             0.5,
             "#f7f7f7"
            ],
            [
             0.6,
             "#e6f5d0"
            ],
            [
             0.7,
             "#b8e186"
            ],
            [
             0.8,
             "#7fbc41"
            ],
            [
             0.9,
             "#4d9221"
            ],
            [
             1,
             "#276419"
            ]
           ],
           "sequential": [
            [
             0,
             "#0d0887"
            ],
            [
             0.1111111111111111,
             "#46039f"
            ],
            [
             0.2222222222222222,
             "#7201a8"
            ],
            [
             0.3333333333333333,
             "#9c179e"
            ],
            [
             0.4444444444444444,
             "#bd3786"
            ],
            [
             0.5555555555555556,
             "#d8576b"
            ],
            [
             0.6666666666666666,
             "#ed7953"
            ],
            [
             0.7777777777777778,
             "#fb9f3a"
            ],
            [
             0.8888888888888888,
             "#fdca26"
            ],
            [
             1,
             "#f0f921"
            ]
           ],
           "sequentialminus": [
            [
             0,
             "#0d0887"
            ],
            [
             0.1111111111111111,
             "#46039f"
            ],
            [
             0.2222222222222222,
             "#7201a8"
            ],
            [
             0.3333333333333333,
             "#9c179e"
            ],
            [
             0.4444444444444444,
             "#bd3786"
            ],
            [
             0.5555555555555556,
             "#d8576b"
            ],
            [
             0.6666666666666666,
             "#ed7953"
            ],
            [
             0.7777777777777778,
             "#fb9f3a"
            ],
            [
             0.8888888888888888,
             "#fdca26"
            ],
            [
             1,
             "#f0f921"
            ]
           ]
          },
          "colorway": [
           "#636efa",
           "#EF553B",
           "#00cc96",
           "#ab63fa",
           "#FFA15A",
           "#19d3f3",
           "#FF6692",
           "#B6E880",
           "#FF97FF",
           "#FECB52"
          ],
          "font": {
           "color": "#2a3f5f"
          },
          "geo": {
           "bgcolor": "white",
           "lakecolor": "white",
           "landcolor": "#E5ECF6",
           "showlakes": true,
           "showland": true,
           "subunitcolor": "white"
          },
          "hoverlabel": {
           "align": "left"
          },
          "hovermode": "closest",
          "mapbox": {
           "style": "light"
          },
          "paper_bgcolor": "white",
          "plot_bgcolor": "#E5ECF6",
          "polar": {
           "angularaxis": {
            "gridcolor": "white",
            "linecolor": "white",
            "ticks": ""
           },
           "bgcolor": "#E5ECF6",
           "radialaxis": {
            "gridcolor": "white",
            "linecolor": "white",
            "ticks": ""
           }
          },
          "scene": {
           "xaxis": {
            "backgroundcolor": "#E5ECF6",
            "gridcolor": "white",
            "gridwidth": 2,
            "linecolor": "white",
            "showbackground": true,
            "ticks": "",
            "zerolinecolor": "white"
           },
           "yaxis": {
            "backgroundcolor": "#E5ECF6",
            "gridcolor": "white",
            "gridwidth": 2,
            "linecolor": "white",
            "showbackground": true,
            "ticks": "",
            "zerolinecolor": "white"
           },
           "zaxis": {
            "backgroundcolor": "#E5ECF6",
            "gridcolor": "white",
            "gridwidth": 2,
            "linecolor": "white",
            "showbackground": true,
            "ticks": "",
            "zerolinecolor": "white"
           }
          },
          "shapedefaults": {
           "line": {
            "color": "#2a3f5f"
           }
          },
          "ternary": {
           "aaxis": {
            "gridcolor": "white",
            "linecolor": "white",
            "ticks": ""
           },
           "baxis": {
            "gridcolor": "white",
            "linecolor": "white",
            "ticks": ""
           },
           "bgcolor": "#E5ECF6",
           "caxis": {
            "gridcolor": "white",
            "linecolor": "white",
            "ticks": ""
           }
          },
          "title": {
           "x": 0.05
          },
          "xaxis": {
           "automargin": true,
           "gridcolor": "white",
           "linecolor": "white",
           "ticks": "",
           "title": {
            "standoff": 15
           },
           "zerolinecolor": "white",
           "zerolinewidth": 2
          },
          "yaxis": {
           "automargin": true,
           "gridcolor": "white",
           "linecolor": "white",
           "ticks": "",
           "title": {
            "standoff": 15
           },
           "zerolinecolor": "white",
           "zerolinewidth": 2
          }
         }
        },
        "title": {
         "text": "EDR Class Distribution in Each Batch - Task ID 2"
        },
        "xaxis": {
         "anchor": "y",
         "domain": [
          0,
          1
         ],
         "title": {
          "text": "Classes"
         }
        },
        "yaxis": {
         "anchor": "x",
         "autorange": "reversed",
         "domain": [
          0,
          1
         ],
         "title": {
          "text": "Batches"
         }
        }
       }
      }
     },
     "metadata": {},
     "output_type": "display_data"
    }
   ],
   "source": [
    "import numpy as np\n",
    "import plotly.express as px\n",
    "\n",
    "task_id = 2\n",
    "\n",
    "df = pd.read_csv(\"../results_plot_SplitCIFAR100_['EDR', 'ER']_False_[]_32_10_0_50_2/train_batches_y_ExperienceDelayReplay.log\", \n",
    "                 names=[\"task_id\", \"class_0\", \"class_1\", \"class_2\", \"class_3\", \"class_4\", \"class_5\", \"class_6\", \n",
    "                            \"class_7\", \"class_8\", \"class_9\", \"class_10\", \"class_11\", \"class_12\", \"class_13\", \"class_14\", \"class_15\", \"class_16\",\n",
    "                            \"class_17\", \"class_18\", \"class_19\", \"class_20\", \"class_21\", \"class_22\", \"class_23\", \"class_24\", \"class_25\", \"class_26\",\n",
    "                            \"class_27\", \"class_28\", \"class_29\", \"class_30\", \"class_31\", \"class_32\", \"class_33\", \"class_34\", \"class_35\", \"class_36\",\n",
    "                            \"class_37\", \"class_38\", \"class_39\", \"class_40\", \"class_41\", \"class_42\", \"class_43\", \"class_44\", \"class_45\", \"class_46\",\n",
    "                            \"class_47\", \"class_48\", \"class_49\", \"class_50\", \"class_51\", \"class_52\", \"class_53\", \"class_54\", \"class_55\", \"class_56\",\n",
    "                            \"class_57\", \"class_58\", \"class_59\", \"class_60\", \"class_61\", \"class_62\", \"class_63\", \"class_64\", \"class_65\", \"class_66\",\n",
    "                            \"class_67\", \"class_68\", \"class_69\", \"class_70\", \"class_71\", \"class_72\", \"class_73\", \"class_74\", \"class_75\", \"class_76\",\n",
    "                            \"class_77\", \"class_78\", \"class_79\", \"class_80\", \"class_81\", \"class_82\", \"class_83\", \"class_84\", \"class_85\", \"class_86\",\n",
    "                            \"class_87\", \"class_88\", \"class_89\", \"class_90\", \"class_91\", \"class_92\", \"class_93\", \"class_94\", \"class_95\", \"class_96\",\n",
    "                            \"class_97\", \"class_98\", \"class_99\"],)\n",
    "\n",
    "df_plot = df.loc[df.task_id == task_id].reset_index(drop=True).copy()\n",
    "# df_plot = pd.concat([df_plot[:10], df_plot[80:90], df_plot[115:125]], ignore_index=True)\n",
    "df_plot.drop(columns=[\"task_id\"], inplace=True)\n",
    "\n",
    "# Criação do heatmap interativo (classe no eixo Y, batch no eixo X)\n",
    "fig = px.imshow(\n",
    "    df_plot,\n",
    "    labels=dict(x=\"Classes\", y=\"Batches\", color=\"Number of Instances\"),\n",
    "    # x=[f\"Batch {i}\" for i in range(1, num_batches+1)],\n",
    "    # y=[f\"Classe {i}\" for i in range(num_classes)],\n",
    "    aspect=\"auto\",\n",
    "    color_continuous_scale=\"Viridis\",\n",
    "    origin=\"upper\",  # garante que Classe 0 fique em cima\n",
    "    # text_auto=True\n",
    ")\n",
    "\n",
    "fig.update_layout(\n",
    "    title=\"EDR Class Distribution in Each Batch - Task ID {}\".format(task_id),\n",
    "    xaxis_title=\"Classes\",\n",
    "    yaxis_title=\"Batches\",\n",
    "    height=900,\n",
    ")\n",
    "\n",
    "fig.show()"
   ]
  },
  {
   "cell_type": "code",
   "execution_count": 21,
   "id": "b5b6cbc0",
   "metadata": {},
   "outputs": [
    {
     "data": {
      "application/vnd.plotly.v1+json": {
       "config": {
        "plotlyServerURL": "https://plot.ly"
       },
       "data": [
        {
         "coloraxis": "coloraxis",
         "hovertemplate": "Classes: %{x}<br>Batches: %{y}<br>Number of Instances: %{z}<extra></extra>",
         "name": "0",
         "type": "heatmap",
         "x": [
          "class_0",
          "class_1",
          "class_2",
          "class_3",
          "class_4",
          "class_5",
          "class_6",
          "class_7",
          "class_8",
          "class_9",
          "class_10",
          "class_11",
          "class_12",
          "class_13",
          "class_14",
          "class_15",
          "class_16",
          "class_17",
          "class_18",
          "class_19",
          "class_20",
          "class_21",
          "class_22",
          "class_23",
          "class_24",
          "class_25",
          "class_26",
          "class_27",
          "class_28",
          "class_29",
          "class_30",
          "class_31",
          "class_32",
          "class_33",
          "class_34",
          "class_35",
          "class_36",
          "class_37",
          "class_38",
          "class_39",
          "class_40",
          "class_41",
          "class_42",
          "class_43",
          "class_44",
          "class_45",
          "class_46",
          "class_47",
          "class_48",
          "class_49",
          "class_50",
          "class_51",
          "class_52",
          "class_53",
          "class_54",
          "class_55",
          "class_56",
          "class_57",
          "class_58",
          "class_59",
          "class_60",
          "class_61",
          "class_62",
          "class_63",
          "class_64",
          "class_65",
          "class_66",
          "class_67",
          "class_68",
          "class_69",
          "class_70",
          "class_71",
          "class_72",
          "class_73",
          "class_74",
          "class_75",
          "class_76",
          "class_77",
          "class_78",
          "class_79",
          "class_80",
          "class_81",
          "class_82",
          "class_83",
          "class_84",
          "class_85",
          "class_86",
          "class_87",
          "class_88",
          "class_89",
          "class_90",
          "class_91",
          "class_92",
          "class_93",
          "class_94",
          "class_95",
          "class_96",
          "class_97",
          "class_98",
          "class_99"
         ],
         "xaxis": "x",
         "y": {
          "bdata": "AAECAwQFBgcICQoLDA0ODxAREhMUFRYXGBkaGxwdHh8gISIjJCUmJygpKissLS4vMDEyMzQ1Njc4OTo7PD0+P0BBQkNERUZHSElKS0xNTg==",
          "dtype": "i1"
         },
         "yaxis": "y",
         "z": {
          "bdata": "AAAAAAAAAAAAAAAAAAAAAAAAAAUAAAAAAAAAAAAAAAAAAAAAAAEAAAQAAgAFAAAAAAAAAAAFAAABAAAAAAAAAgAAAAAAAQAEAAAIAAUAAAAFBwEAAAQAAAAAAgIAAAAAAAAAAAAAAAAAAAAAAAAAAAAAAAAAAAAFAAAAAAAAAAAAAAAAAAAAAAAEAAADAAUAAQAAAAAAAAAABQAAAQAAAAAAAAMAAAAAAAAABgAABAAAAAAACAMFAAAFAAAAAAMCAAEAAAAAAAAAAAAAAAAAAAAAAAAAAAAAAAAAAwAAAAAAAAAAAAAAAAAAAAAAAwAABAAFAAIAAAAAAAAAAAYAAAQAAAAAAAAEAAAAAAABAAMAAAIAAwAAAAUEBAAABAAAAAACBAABAAAAAAAAAAAAAAAAAAAAAAAAAAAAAAAAAAMAAAAAAAAAAAAAAAAAAAAAAAYAAAkABQAAAAAAAAAAAAACAAADAAAAAAAABQAAAAAABQADAAACAAEAAAAFAwMAAAQAAAAAAgEAAAACAAAAAAAAAAAAAAAAAAAAAAAAAAAAAAACAAAAAAAAAAAAAAAAAAAAAAACAAADAAMAAQAAAAAAAAAABAAABwAAAAAAAAIAAAAAAAIABQAABgADAAAABAIEAAAEAAAAAAQBAAIAAwAAAAAAAAAAAAAAAAAAAAAAAAAAAAAAAwAAAAAAAAAAAAAAAAAAAAAABgAACAAIAAIAAAAAAAAAAAQAAAIAAAAAAAAEAAAAAAADAAEAAAIABQAAAAIBBwAAAgAAAAABAAABAAIAAAAAAAAAAAAAAAAAAAAAAAAAAAAAAAIAAAAAAAAAAAAAAAAAAAAAAAMAAAcABgACAAAAAAAAAAADAAABAAAAAAAAAwAAAAAAAQAFAAAEAAQAAAAIBAEAAAQAAAAAAwEAAQABAAAAAAAAAAAAAAAAAAAAAAAAAAAAAAADAAAAAAAAAAAAAAAAAAAAAAACAAACAAcAAwAAAAAAAAAABwAAAwAAAAAAAAMAAAAAAAEAAAAABgAGAAAABQMEAAACAAAAAAIBAAEAAwAAAAAAAAAAAAAAAAAAAAAAAAAAAAAAAgAAAAAAAAAAAAAAAAAAAAAAAwAABAACAAIAAAAAAAAAAAEAAAMAAAAAAAADAAAAAAABAAEAAAYACAAAAAIGBQAABQAAAAACAwABAAQAAAAAAAAAAAAAAAAAAAAAAAAAAAAAAAIAAAAAAAAAAAAAAAAAAAAAAAYAAAQAAgADAAAAAAAAAAAFAAAGAAAAAAAAAgAAAAAAAQACAAAEAAMAAAADBQMAAAcAAAAAAwIAAAABAAAAAAAAAAAAAAAAAAAAAAAAAAAAAAADAAAAAAAAAAAAAAAAAAAAAAABAAACAAUAAgAAAAAAAAAABQAABQAAAAAAAAMAAAAAAAQAAwAAAgADAAAACAIGAAADAAAAAAQCAAEAAAAAAAAAAAAAAAAAAAAAAAAAAAAAAAAAAwAAAAAAAAAAAAAAAAAAAAAAAwAABwAIAAMAAAAAAAAAAAYAAAMAAAAAAAAEAAAAAAABAAEAAAIABAAAAAYEBAAAAgAAAAABAQAAAAEAAAAAAAAAAAAAAAAAAAAAAAAAAAAAAAIAAAAAAAAAAAAAAAAAAAAAAAIAAAEABAABAAAAAAAAAAABAAAEAAAAAAAABgAAAAAAAgADAAAFAAMAAAAGAgMAAAQAAAAABwMAAgADAAAAAAAAAAAAAAAAAAAAAAAAAAAAAAABAAAAAAAAAAAAAAAAAAAAAAAEAAAFAAQAAQAAAAAAAAAAAgAAAwAAAAAAAAcAAAAAAAUAAQAACQAEAAAAAQEEAAAEAAAAAAQDAAAAAQAAAAAAAAAAAAAAAAAAAAAAAAAAAAAAAwAAAAAAAAAAAAAAAAAAAAAAAgAABgAFAAQAAAAAAAAAAAIAAAUAAAAAAAAEAAAAAAACAAIAAAUAAwAAAAUEAwAAAgAAAAACAQAAAAQAAAAAAAAAAAAAAAAAAAAAAAAAAAAAAAUAAAAAAAAAAAAAAAAAAAAAAAMAAAYAAgABAAAAAAAAAAABAAAAAAAAAAAAAwAAAAAAAQABAAAHAAMAAAAIBgEAAAUAAAAABgEAAgACAAAAAAAAAAAAAAAAAAAAAAAAAAAAAAAHAAAAAAAAAAAAAAAAAAAAAAAEAAAFAAYAAgAAAAAAAAAAAgAAAwAAAAAAAAkAAAAAAAIAAAAABAACAAAABAYCAAADAAAAAAACAAAAAQAAAAAAAAAAAAAAAAAAAAAAAAAAAAAAAwAAAAAAAAAAAAAAAAAAAAAAAwAAAwAEAAEAAAAAAAAAAAQAAAMAAAAAAAADAAAAAAAEAAIAAAcABQAAAAEEAwAABgAAAAACAgADAAEAAAAAAAAAAAAAAAAAAAAAAAAAAAAAAAMAAAAAAAAAAAAAAAAAAAAAAAMAAAYABAADAAAAAAAAAAABAAACAAAAAAAABAAAAAAAAgADAAAEAAYAAAADBAIAAAUAAAAAAwQAAAACAAAAAAAAAAAAAAAAAAAAAAAAAAAAAAADAAAAAAAAAAAAAAAAAAAAAAADAAADAAcABQAAAAAAAAAAAQAAAwAAAAAAAAEAAAAAAAMAAgAAAgAGAAAABAYCAAAFAAAAAAMBAAMAAQAAAAAAAAAAAAAAAAAAAAAAAAAAAAAAAgAAAAAAAAAAAAAAAAAAAAAABQAABAADAAIAAAAAAAAAAAUAAAUAAAAAAAAFAAAAAAACAAAAAAcABAAAAAcCAQAAAQAAAAAAAgACAAUAAAAAAAAAAAAAAAAAAAAAAAAAAAAAAAIAAAAAAAAAAAAAAAAAAAAAAAIAAAYAAwADAAAAAAAAAAAEAAAFAAAAAAAABQAAAAAAAAADAAAGAAMAAAACBQUAAAMAAAAAAgMAAAACAAAAAAAAAAAAAAAAAAAAAAAAAAAAAAACAAAAAAAAAAAAAAAAAAAAAAAFAAAIAAQAAQAAAAAAAAAABAAAAAAAAAAAAAQAAAAAAAIAAgAAAwADAAAABAYFAAAEAAAAAAUAAAAAAgAAAAAAAAAAAAAAAAAAAAAAAAAAAAAAAQAAAAAAAAAAAAAAAAAAAAAAAwAACQAEAAEAAAAAAAAAAAMAAAcAAAAAAAAIAAAAAAABAAAAAAUAAgAAAAIEAQAAAwAAAAAEAQADAAIAAAAAAAAAAAAAAAAAAAAAAAAAAAAAAAEAAAAAAAAAAAAAAAAAAAAAAAIAAAcAAgADAAAAAAAAAAADAAAIAAAAAAAABgAAAAAAAQAEAAAEAAQAAAADAwEAAAUAAAAAAQIAAwABAAAAAAAAAAAAAAAAAAAAAAAAAAAAAAAEAAAAAAAAAAAAAAAAAAAAAAACAAAFAAQAAwAAAAAAAAAAAgAAAAAAAAAAAAIAAAAAAAIAAAAAAwAIAAAABg4EAAABAAAAAAIAAAAAAgAAAAAAAAAAAAAAAAAAAAAAAAAAAAAAAgAAAAAAAAAAAAAAAAAAAAAAAgAABwAFAAQAAAAAAAAAAAYAAAIAAAAAAAAFAAAAAAADAAEAAAYABAAAAAUDAQAAAwAAAAACAQAAAAIAAAAAAAAAAAAAAAAAAAAAAAAAAAAAAAMAAAAAAAAAAAAAAAAAAAAAAAYAAAcABAACAAAAAAAAAAAAAAAHAAAAAAAAAwAAAAAAAQAAAAAFAAMAAAAFAgIAAAQAAAAAAwQAAQACAAAAAAAAAAAAAAAAAAAAAAAAAAAAAAABAAAAAAAAAAAAAAAAAAAAAAAEAAAHAAQAAQAAAAAAAAAAAwAABAAAAAAAAAMAAAAAAAQAAQAAAgAHAAAABwIDAAAEAAAAAAQCAAAAAQAAAAAAAAAAAAAAAAAAAAAAAAAAAAAAAgAAAAAAAAAAAAAAAAAAAAAAAwAAAgAEAAIAAAAAAAAAAAMAAAMAAAAAAAACAAAAAAABAAIAAAYAAgAAAAQDBwAABwAAAAACBQABAAMAAAAAAAAAAAAAAAAAAAAAAAAAAAAAAAIAAAAAAAAAAAAAAAAAAAAAAAMAAAUABwACAAAAAAAAAAACAAAEAAAAAAAAAwAAAAAAAAABAAADAAcAAAAEAgEAAAUAAAAAAgUAAgAEAAAAAAAAAAAAAAAAAAAAAAAAAAAAAAACAAAAAAAAAAAAAAAAAAAAAAABAAAIAAgAAAAAAAAAAAAAAwAAAAAAAAAAAAUAAAAAAAIAAgAABQADAAAABAMHAAAEAAAAAAIEAAEAAAAAAAAAAAAAAAAAAAAAAAAAAAAAAAAAAgAAAAAAAAAAAAAAAAAAAAAAAwAABAAGAAMAAAAAAAAAAAEAAAMAAAAAAAADAAAAAAABAAIAAAQABAAAAAMHBAAABgAAAAADAQADAAEAAAAAAAAAAAAAAAAAAAAAAAAAAAAAAAIAAAAAAAAAAAAAAAAAAAAAAAIAAAYABQADAAAAAAAAAAAEAAACAAAAAAAABwAAAAAAAgACAAAFAAUAAAAFAgQAAAIAAAAAAgIAAAACAAAAAAAAAAAAAAAAAAAAAAAAAAAAAAACAAAAAAAAAAAAAAAAAAAAAAAEAAAEAAQAAwAAAAAAAAAAAgAABwAAAAAAAAUAAAAAAAIAAQAABAAFAAAAAgMDAAAFAAAAAAIBAAEABAAAAAAAAAAAAAAAAAAAAAAAAAAAAAAAAwAAAAAAAAAAAAAAAAAAAAAAAQAABgAIAAMAAAAAAAAAAAIAAAUAAAAAAAAFAAAAAAABAAEAAAMAAwAAAAYDCAAAAQAAAAABAgAAAAIAAAAAAAAAAAAAAAAAAAAAAAAAAAAAAAMAAAAAAAAAAAAAAAAAAAAAAAMAAAUABQACAAAAAAAAAAABAAAGAAAAAAAABQAAAAAAAwABAAACAAMAAAABBgQAAAQAAAAABAMAAgABAAAAAAAAAAAAAAAAAAAAAAAAAAAAAAADAAAAAAAAAAAAAAAAAAAAAAADAAAFAAQAAgAAAAAAAAAAAAAABQAAAAAAAAQAAAAAAAMAAAAABAACAAAABgcHAAABAAAAAAQEAAAAAAAAAAAAAAAAAAAAAAAAAAAAAAAAAAAAAgAAAAAAAAAAAAAAAAAAAAAABQAAAwAFAAMAAAAAAAAAAAEAAAEAAAAAAAAIAAAAAAABAAAAAAYAAgAAAAEDBgAABgAAAAAFAgACAAIAAAAAAAAAAAAAAAAAAAAAAAAAAAAAAAUAAAAAAAAAAAAAAAAAAAAAAAEAAAQABgAAAAAAAAAAAAACAAAEAAAAAAAABwAAAAAAAQADAAAGAAQAAAAFAwUAAAEAAAAAAgMAAgAAAAAAAAAAAAAAAAAAAAAAAAAAAAAAAAAHAAAAAAAAAAAAAAAAAAAAAAAEAAAEAAYAAgAAAAAAAAAAAQAAAgAAAAAAAAQAAAAAAAEAAQAACAADAAAAAQUAAAAGAAAAAAQBAAMAAQAAAAAAAAAAAAAAAAAAAAAAAAAAAAAABAAAAAAAAAAAAAAAAAAAAAAAAwAABAABAAAAAAAAAAAAAAUAAAMAAAAAAAAFAAAAAAAEAAMAAAUAAwAAAAUEBAAABQAAAAADAwAAAAAAAAAAAAAAAAAAAAAAAAAAAAAAAAAAAAIAAAAAAAAAAAAAAAAAAAAAAAAAAAYABwACAAAAAAAAAAACAAADAAAAAAAABgAAAAAAAQADAAADAAIAAAAFBgMAAAMAAAAABwIAAAABAAAAAAAAAAAAAAAAAAAAAAAAAAAAAAACAAAAAAAAAAAAAAAAAAAAAAABAAAHAAYAAQAAAAAAAAAAAwAABQAAAAAAAAIAAAAAAAEABQAAAQAEAAAAAwUFAAADAAAAAAIFAAIAAQAAAAAAAAAAAAAAAAAAAAAAAAAAAAAAAgAAAAAAAAAAAAAAAAAAAAAABQAABgAGAAMAAAAAAAAAAAIAAAMAAAAAAAAEAAAAAAAAAAEAAAIABgAAAAIEAwAABAAAAAADAwACAAMAAAAAAAAAAAAAAAAAAAAAAAAAAAAAAAEAAAAAAAAAAAAAAAAAAAAAAAMAAAUABgAAAAAAAAAAAAABAAAEAAAAAAAABwAAAAAAAgAAAAAEAAQAAAAGAwIAAAMAAAAABQQABAAAAAAAAAAAAAAAAAAAAAAAAAAAAAAAAAACAAAAAAAAAAAAAAAAAAAAAAACAAAFAAYAAgAAAAAAAAAAAgAABQAAAAAAAAcAAAAAAAAAAgAAAgAGAAAABQUBAAAFAAAAAAIDAAAAAgAAAAAAAAAAAAAAAAAAAAAAAAAAAAAAAwAAAAAAAAAAAAAAAAAAAAAAAgAABAAEAAIAAAAAAAAAAAMAAAUAAAAAAAAFAAAAAAACAAEAAAMABQAAAAUCCAAAAgAAAAAHAAABAAAAAAAAAAAAAAAAAAAAAAAAAAAAAAAAAAIAAAAAAAAAAAAAAAAAAAAAAAIAAAoACgAAAAAAAAAAAAAEAAACAAAAAAAABAAAAAAAAQABAAAEAAEAAAACBgUAAAQAAAAAAgIAAQABAAAAAAAAAAAAAAAAAAAAAAAAAAAAAAADAAAAAAAAAAAAAAAAAAAAAAAGAAAEAAQAAQAAAAAAAAAAAgAAAwAAAAAAAAQAAAAAAAIAAQAABgAFAAAABAEIAAAEAAAAAAECAAEAAgAAAAAAAAAAAAAAAAAAAAAAAAAAAAAAAgAAAAAAAAAAAAAAAAAAAAAAAQAABQAFAAIAAAAAAAAAAAUAAAQAAAAAAAAGAAAAAAAAAAAAAAEABwAAAAgDCAAAAwAAAAABAgAAAAEAAAAAAAAAAAAAAAAAAAAAAAAAAAAAAAAAAAAAAAAAAAAAAAAAAAAAAAEAAAEAAwAAAAAAAAAAAAACAAAAAAAAAAAAAQAAAAAAAAAAAAAAAAIAAAAAAwEAAAEAAAAAAAAAAQAAAAAAAAAAAAAAAAAABAAHAAAAAAADAAADAAAAAAAAAgAAAAAAAAAAAAADAAABBAAAAQAAAAAAAAAAAgAAAAEAAAAAAAAAAAMAAAMAAgAAAAAAAAAABAEBAAACAAAABQQBBAMAAAAAAAAAAAAAAAAAAAUAAgAAAAAAAwAAAQAAAAAAAAQAAAAAAAAAAAAABAAAAAQBAAAAAAAAAAAAAAEAAAADAAAAAAACAAAGAAAAAAEAAAMAAwAAAAEAAAAAAgAAAAMGAwEDAAEAAQAAAAAAAAAAAAACAAEAAAAAAAQAAAEAAAAAAAACAAAAAAAAAAAAAAYAAAICAQADAAAAAAAAAAAAAAAAAgAAAAAAAgAACAAAAQACAAABAAIAAAADAAAAAAEAAAACBAEDAQABAAYAAAAAAAAAAAAABAAEAAAAAAADAAACAAAAAAAAAAAAAAAAAAAAAAABAAACBAAAAAAAAAAAAAAAAgAAAAUAAAAAAAIAAAMAAAIAAQAABAACAAAAAgQAAAABAAAABAMCAgAAAgADAAAAAAAAAAAAAAMAAgAAAAAABAAAAgAAAAAAAAIAAAAAAAAAAAAABAAABAYBAAIAAAAAAAAAAAIAAAACAAAAAAABAAAFAAABAAIAAAEABAAAAAEBAAAAAgAAAAICAgUAAAAAAQAAAAAAAAAAAAADAAYAAAAAAAMAAAEAAAAAAAAEAAAAAAAAAAAAAAMAAAIGAQACAAAAAAAAAAABAAAAAwAAAAAAAQAAAgAAAAADAAABAAMAAAAAAQIAAAEAAAADAgACBAABAAMAAAAAAAAAAAAABQADAAAAAAAEAAAEAAAAAAAAAwAAAAAAAAAAAAABAAACAwEAAAAAAAAAAAAAAwAAAgIAAAAAAAAAAAEAAAMAAQAAAwACAAAAAQACAAABAAAABAIBBQIAAAADAAAAAAAAAAAAAAEABgAAAAAAAgAAAQAAAAAAAAUAAAAAAAAAAAAAAwAAAQMBAAUAAAAAAAAAAAAAAAABAAAAAAAAAAAFAAAAAAIAAAMAAQAAAAEBAQAAAQAAAAMDAwEDAAIABQAAAAAAAAAAAAACAAIAAAAAAAIAAAAAAAAAAAAFAAAAAAAAAAAAAAcAAAAEAQABAAAAAAAAAAADAAAABQAAAAAAAQAABAAAAAADAAAAAAIAAAABAAAAAAAAAAAEAwAFAgAEAAMAAAAAAAAAAAAAAwACAAAAAAAGAAAGAAAAAAAABAAAAAAAAAAAAAABAAABAgIAAQAAAAAAAAAABAAAAAUAAAAAAAAAAAUAAAMAAAAAAQACAAAAAwEAAAABAAAAAQACAgMAAQACAAAAAAAAAAAAAAIAAwAAAAAAAwAAAwAAAAAAAAUAAAAAAAAAAAAAAAAAAQUCAAIAAAAAAAAAAAEAAAABAAAAAAACAAAEAAACAAIAAAEAAQAAAAIDAgAAAAAAAAUBBAMBAAEAAgAAAAAAAAAAAAADAAQAAAAAAAEAAAIAAAAAAAACAAAAAAAAAAAAAAMAAAIDAAAAAAAAAAAAAAAEAAAAAQAAAAAAAAAAAwAAAgAFAAACAAEAAAADAAIAAAAAAAAFBAEDAAAAAAgAAAAAAAAAAAAABAAEAAAAAAABAAAEAAAAAAAAAwAAAAAAAAAAAAABAAAEBgIAAQAAAAAAAAAAAQAAAAQAAAAAAAAAAAMAAAAABAAAAAACAAAAAwEDAAAAAAAAAwIAAwAAAQAEAAAAAAAAAAAAAAQABQAAAAAABAAAAQAAAAAAAAIAAAAAAAAAAAAAAwAAAQUAAAIAAAAAAAAAAAQAAAEBAAAAAAACAAADAAAAAAEAAAIAAgAAAAMAAAAAAAAAAAECAwUBAAAABgAAAAAAAAAAAAADAAMAAAAAAAMAAAQAAAAAAAACAAAAAAAAAAAAAAAAAAIFAgACAAAAAAAAAAACAAABBQAAAAAAAgAABAAAAQABAAACAAEAAAAAAAAAAAEAAAADAQEBAQADAAgAAAAAAAAAAAAABAAHAAAAAAACAAACAAAAAAAAAgAAAAAAAAAAAAAEAAAAAQEAAwAAAAAAAAAAAgAAAAYAAAAAAAEAAAMAAAEAAgAAAAABAAAAAQIAAAABAAAAAQIBAwIAAgAHAAAAAAAAAAAAAAMAAwAAAAAABgAAAgAAAAAAAAIAAAAAAAAAAAAABQAABAMAAAAAAAAAAAAAAAEAAAAFAAAAAAABAAAFAAABAAIAAAAAAQAAAAIAAQAAAQAAAAIEAwEDAAAAAwAAAAAAAAAAAAAEAAUAAAAAAAIAAAEAAAAAAAAEAAAAAAAAAAAAAAIAAAIEAwAAAAAAAAAAAAAEAAAABAAAAAAAAAAABgAAAQACAAAAAAAAAAACAAEAAAAAAAACAgIDAQAFAAIAAAAAAAAAAAAAAwACAAAAAAADAAAEAAAAAAAABAAAAAAAAAAAAAADAAACAwAAAAAAAAAAAAAAAQAAAgUAAAAAAAIAAAEAAAIAAQAABAACAAAAAQAAAAABAAAABAEEBgIAAAABAAAAAAAAAAAAAAMABgAAAAAAAQAABAAAAAAAAAQAAAAAAAAAAAAAAwAAAQQCAAEAAAAAAAAAAAMAAAAEAAAAAAABAAAFAAAAAAQAAAEAAAAAAAACAAAAAQAAAAEBAQQBAAEABQAAAAAAAAAAAAADAAIAAAAAAAEAAAIAAAAAAAAIAAAAAAAAAAAAAAIAAAUDAQAAAAAAAAAAAAACAAAACAAAAAAAAAAABgAAAQACAAABAAEAAAAAAAIAAAEAAAADAAECAAAEAAMAAAAAAAAAAAAAAgACAAAAAAACAAAFAAAAAAAABAAAAAAAAAAAAAAEAAAAAwAAAwAAAAAAAAAABAAAAAcAAAAAAAEAAAQAAAEAAQAAAQABAAAAAQEAAAAAAAAABQEBAwEAAAAGAAAAAAAAAAAAAAYAAQAAAAAABQAAAQAAAAAAAAEAAAAAAAAAAAAABgAAAQIDAAAAAAAAAAAAAAIAAAAGAAAAAAAAAAAFAAACAAIAAAIAAQAAAAICAAAAAQAAAAMDAAIAAAAABQAAAAAAAAAAAAADAAQAAAAAAAUAAAMAAAAAAAADAAAAAAAAAAAAAAQAAAAEAgAAAAAAAAAAAAACAAAAAwAAAAAAAAAAAwAAAgABAAABAAIAAAABAAIAAAAAAAADBAEFAAACAAQAAAAAAAAAAAAAAwAFAAAAAAADAAACAAAAAAAAAgAAAAAAAAAAAAADAAABCAIAAQAAAAAAAAAAAAAAAQUAAAAAAAAAAAIAAAAAAQAAAQABAAAAAQACAAAAAAAABAIFAQEABAADAAAAAAAAAAAAAAMABgAAAAAAAQAABAAAAAAAAAkAAAAAAAAAAAAAAwAAAAMCAAEAAAAAAAAAAAIAAAACAAAAAAADAAAEAAAAAAEAAAEAAQAAAAIAAQAAAgAAAAIAAQQBAAIAAwAAAAAAAAAAAAAJAAUAAAAAAAQAAAIAAAAAAAAEAAAAAAAAAAAAAAEAAAICAQAEAAAAAAAAAAAAAAAAAQAAAAAAAQAABgAAAAACAAABAAIAAAACAQIAAAAAAAABAgMDAAABAAIAAA==",
          "dtype": "i1",
          "shape": "79, 100"
         }
        }
       ],
       "layout": {
        "coloraxis": {
         "colorbar": {
          "title": {
           "text": "Number of Instances"
          }
         },
         "colorscale": [
          [
           0,
           "#440154"
          ],
          [
           0.1111111111111111,
           "#482878"
          ],
          [
           0.2222222222222222,
           "#3e4989"
          ],
          [
           0.3333333333333333,
           "#31688e"
          ],
          [
           0.4444444444444444,
           "#26828e"
          ],
          [
           0.5555555555555556,
           "#1f9e89"
          ],
          [
           0.6666666666666666,
           "#35b779"
          ],
          [
           0.7777777777777778,
           "#6ece58"
          ],
          [
           0.8888888888888888,
           "#b5de2b"
          ],
          [
           1,
           "#fde725"
          ]
         ]
        },
        "height": 900,
        "margin": {
         "t": 60
        },
        "template": {
         "data": {
          "bar": [
           {
            "error_x": {
             "color": "#2a3f5f"
            },
            "error_y": {
             "color": "#2a3f5f"
            },
            "marker": {
             "line": {
              "color": "#E5ECF6",
              "width": 0.5
             },
             "pattern": {
              "fillmode": "overlay",
              "size": 10,
              "solidity": 0.2
             }
            },
            "type": "bar"
           }
          ],
          "barpolar": [
           {
            "marker": {
             "line": {
              "color": "#E5ECF6",
              "width": 0.5
             },
             "pattern": {
              "fillmode": "overlay",
              "size": 10,
              "solidity": 0.2
             }
            },
            "type": "barpolar"
           }
          ],
          "carpet": [
           {
            "aaxis": {
             "endlinecolor": "#2a3f5f",
             "gridcolor": "white",
             "linecolor": "white",
             "minorgridcolor": "white",
             "startlinecolor": "#2a3f5f"
            },
            "baxis": {
             "endlinecolor": "#2a3f5f",
             "gridcolor": "white",
             "linecolor": "white",
             "minorgridcolor": "white",
             "startlinecolor": "#2a3f5f"
            },
            "type": "carpet"
           }
          ],
          "choropleth": [
           {
            "colorbar": {
             "outlinewidth": 0,
             "ticks": ""
            },
            "type": "choropleth"
           }
          ],
          "contour": [
           {
            "colorbar": {
             "outlinewidth": 0,
             "ticks": ""
            },
            "colorscale": [
             [
              0,
              "#0d0887"
             ],
             [
              0.1111111111111111,
              "#46039f"
             ],
             [
              0.2222222222222222,
              "#7201a8"
             ],
             [
              0.3333333333333333,
              "#9c179e"
             ],
             [
              0.4444444444444444,
              "#bd3786"
             ],
             [
              0.5555555555555556,
              "#d8576b"
             ],
             [
              0.6666666666666666,
              "#ed7953"
             ],
             [
              0.7777777777777778,
              "#fb9f3a"
             ],
             [
              0.8888888888888888,
              "#fdca26"
             ],
             [
              1,
              "#f0f921"
             ]
            ],
            "type": "contour"
           }
          ],
          "contourcarpet": [
           {
            "colorbar": {
             "outlinewidth": 0,
             "ticks": ""
            },
            "type": "contourcarpet"
           }
          ],
          "heatmap": [
           {
            "colorbar": {
             "outlinewidth": 0,
             "ticks": ""
            },
            "colorscale": [
             [
              0,
              "#0d0887"
             ],
             [
              0.1111111111111111,
              "#46039f"
             ],
             [
              0.2222222222222222,
              "#7201a8"
             ],
             [
              0.3333333333333333,
              "#9c179e"
             ],
             [
              0.4444444444444444,
              "#bd3786"
             ],
             [
              0.5555555555555556,
              "#d8576b"
             ],
             [
              0.6666666666666666,
              "#ed7953"
             ],
             [
              0.7777777777777778,
              "#fb9f3a"
             ],
             [
              0.8888888888888888,
              "#fdca26"
             ],
             [
              1,
              "#f0f921"
             ]
            ],
            "type": "heatmap"
           }
          ],
          "histogram": [
           {
            "marker": {
             "pattern": {
              "fillmode": "overlay",
              "size": 10,
              "solidity": 0.2
             }
            },
            "type": "histogram"
           }
          ],
          "histogram2d": [
           {
            "colorbar": {
             "outlinewidth": 0,
             "ticks": ""
            },
            "colorscale": [
             [
              0,
              "#0d0887"
             ],
             [
              0.1111111111111111,
              "#46039f"
             ],
             [
              0.2222222222222222,
              "#7201a8"
             ],
             [
              0.3333333333333333,
              "#9c179e"
             ],
             [
              0.4444444444444444,
              "#bd3786"
             ],
             [
              0.5555555555555556,
              "#d8576b"
             ],
             [
              0.6666666666666666,
              "#ed7953"
             ],
             [
              0.7777777777777778,
              "#fb9f3a"
             ],
             [
              0.8888888888888888,
              "#fdca26"
             ],
             [
              1,
              "#f0f921"
             ]
            ],
            "type": "histogram2d"
           }
          ],
          "histogram2dcontour": [
           {
            "colorbar": {
             "outlinewidth": 0,
             "ticks": ""
            },
            "colorscale": [
             [
              0,
              "#0d0887"
             ],
             [
              0.1111111111111111,
              "#46039f"
             ],
             [
              0.2222222222222222,
              "#7201a8"
             ],
             [
              0.3333333333333333,
              "#9c179e"
             ],
             [
              0.4444444444444444,
              "#bd3786"
             ],
             [
              0.5555555555555556,
              "#d8576b"
             ],
             [
              0.6666666666666666,
              "#ed7953"
             ],
             [
              0.7777777777777778,
              "#fb9f3a"
             ],
             [
              0.8888888888888888,
              "#fdca26"
             ],
             [
              1,
              "#f0f921"
             ]
            ],
            "type": "histogram2dcontour"
           }
          ],
          "mesh3d": [
           {
            "colorbar": {
             "outlinewidth": 0,
             "ticks": ""
            },
            "type": "mesh3d"
           }
          ],
          "parcoords": [
           {
            "line": {
             "colorbar": {
              "outlinewidth": 0,
              "ticks": ""
             }
            },
            "type": "parcoords"
           }
          ],
          "pie": [
           {
            "automargin": true,
            "type": "pie"
           }
          ],
          "scatter": [
           {
            "fillpattern": {
             "fillmode": "overlay",
             "size": 10,
             "solidity": 0.2
            },
            "type": "scatter"
           }
          ],
          "scatter3d": [
           {
            "line": {
             "colorbar": {
              "outlinewidth": 0,
              "ticks": ""
             }
            },
            "marker": {
             "colorbar": {
              "outlinewidth": 0,
              "ticks": ""
             }
            },
            "type": "scatter3d"
           }
          ],
          "scattercarpet": [
           {
            "marker": {
             "colorbar": {
              "outlinewidth": 0,
              "ticks": ""
             }
            },
            "type": "scattercarpet"
           }
          ],
          "scattergeo": [
           {
            "marker": {
             "colorbar": {
              "outlinewidth": 0,
              "ticks": ""
             }
            },
            "type": "scattergeo"
           }
          ],
          "scattergl": [
           {
            "marker": {
             "colorbar": {
              "outlinewidth": 0,
              "ticks": ""
             }
            },
            "type": "scattergl"
           }
          ],
          "scattermap": [
           {
            "marker": {
             "colorbar": {
              "outlinewidth": 0,
              "ticks": ""
             }
            },
            "type": "scattermap"
           }
          ],
          "scattermapbox": [
           {
            "marker": {
             "colorbar": {
              "outlinewidth": 0,
              "ticks": ""
             }
            },
            "type": "scattermapbox"
           }
          ],
          "scatterpolar": [
           {
            "marker": {
             "colorbar": {
              "outlinewidth": 0,
              "ticks": ""
             }
            },
            "type": "scatterpolar"
           }
          ],
          "scatterpolargl": [
           {
            "marker": {
             "colorbar": {
              "outlinewidth": 0,
              "ticks": ""
             }
            },
            "type": "scatterpolargl"
           }
          ],
          "scatterternary": [
           {
            "marker": {
             "colorbar": {
              "outlinewidth": 0,
              "ticks": ""
             }
            },
            "type": "scatterternary"
           }
          ],
          "surface": [
           {
            "colorbar": {
             "outlinewidth": 0,
             "ticks": ""
            },
            "colorscale": [
             [
              0,
              "#0d0887"
             ],
             [
              0.1111111111111111,
              "#46039f"
             ],
             [
              0.2222222222222222,
              "#7201a8"
             ],
             [
              0.3333333333333333,
              "#9c179e"
             ],
             [
              0.4444444444444444,
              "#bd3786"
             ],
             [
              0.5555555555555556,
              "#d8576b"
             ],
             [
              0.6666666666666666,
              "#ed7953"
             ],
             [
              0.7777777777777778,
              "#fb9f3a"
             ],
             [
              0.8888888888888888,
              "#fdca26"
             ],
             [
              1,
              "#f0f921"
             ]
            ],
            "type": "surface"
           }
          ],
          "table": [
           {
            "cells": {
             "fill": {
              "color": "#EBF0F8"
             },
             "line": {
              "color": "white"
             }
            },
            "header": {
             "fill": {
              "color": "#C8D4E3"
             },
             "line": {
              "color": "white"
             }
            },
            "type": "table"
           }
          ]
         },
         "layout": {
          "annotationdefaults": {
           "arrowcolor": "#2a3f5f",
           "arrowhead": 0,
           "arrowwidth": 1
          },
          "autotypenumbers": "strict",
          "coloraxis": {
           "colorbar": {
            "outlinewidth": 0,
            "ticks": ""
           }
          },
          "colorscale": {
           "diverging": [
            [
             0,
             "#8e0152"
            ],
            [
             0.1,
             "#c51b7d"
            ],
            [
             0.2,
             "#de77ae"
            ],
            [
             0.3,
             "#f1b6da"
            ],
            [
             0.4,
             "#fde0ef"
            ],
            [
             0.5,
             "#f7f7f7"
            ],
            [
             0.6,
             "#e6f5d0"
            ],
            [
             0.7,
             "#b8e186"
            ],
            [
             0.8,
             "#7fbc41"
            ],
            [
             0.9,
             "#4d9221"
            ],
            [
             1,
             "#276419"
            ]
           ],
           "sequential": [
            [
             0,
             "#0d0887"
            ],
            [
             0.1111111111111111,
             "#46039f"
            ],
            [
             0.2222222222222222,
             "#7201a8"
            ],
            [
             0.3333333333333333,
             "#9c179e"
            ],
            [
             0.4444444444444444,
             "#bd3786"
            ],
            [
             0.5555555555555556,
             "#d8576b"
            ],
            [
             0.6666666666666666,
             "#ed7953"
            ],
            [
             0.7777777777777778,
             "#fb9f3a"
            ],
            [
             0.8888888888888888,
             "#fdca26"
            ],
            [
             1,
             "#f0f921"
            ]
           ],
           "sequentialminus": [
            [
             0,
             "#0d0887"
            ],
            [
             0.1111111111111111,
             "#46039f"
            ],
            [
             0.2222222222222222,
             "#7201a8"
            ],
            [
             0.3333333333333333,
             "#9c179e"
            ],
            [
             0.4444444444444444,
             "#bd3786"
            ],
            [
             0.5555555555555556,
             "#d8576b"
            ],
            [
             0.6666666666666666,
             "#ed7953"
            ],
            [
             0.7777777777777778,
             "#fb9f3a"
            ],
            [
             0.8888888888888888,
             "#fdca26"
            ],
            [
             1,
             "#f0f921"
            ]
           ]
          },
          "colorway": [
           "#636efa",
           "#EF553B",
           "#00cc96",
           "#ab63fa",
           "#FFA15A",
           "#19d3f3",
           "#FF6692",
           "#B6E880",
           "#FF97FF",
           "#FECB52"
          ],
          "font": {
           "color": "#2a3f5f"
          },
          "geo": {
           "bgcolor": "white",
           "lakecolor": "white",
           "landcolor": "#E5ECF6",
           "showlakes": true,
           "showland": true,
           "subunitcolor": "white"
          },
          "hoverlabel": {
           "align": "left"
          },
          "hovermode": "closest",
          "mapbox": {
           "style": "light"
          },
          "paper_bgcolor": "white",
          "plot_bgcolor": "#E5ECF6",
          "polar": {
           "angularaxis": {
            "gridcolor": "white",
            "linecolor": "white",
            "ticks": ""
           },
           "bgcolor": "#E5ECF6",
           "radialaxis": {
            "gridcolor": "white",
            "linecolor": "white",
            "ticks": ""
           }
          },
          "scene": {
           "xaxis": {
            "backgroundcolor": "#E5ECF6",
            "gridcolor": "white",
            "gridwidth": 2,
            "linecolor": "white",
            "showbackground": true,
            "ticks": "",
            "zerolinecolor": "white"
           },
           "yaxis": {
            "backgroundcolor": "#E5ECF6",
            "gridcolor": "white",
            "gridwidth": 2,
            "linecolor": "white",
            "showbackground": true,
            "ticks": "",
            "zerolinecolor": "white"
           },
           "zaxis": {
            "backgroundcolor": "#E5ECF6",
            "gridcolor": "white",
            "gridwidth": 2,
            "linecolor": "white",
            "showbackground": true,
            "ticks": "",
            "zerolinecolor": "white"
           }
          },
          "shapedefaults": {
           "line": {
            "color": "#2a3f5f"
           }
          },
          "ternary": {
           "aaxis": {
            "gridcolor": "white",
            "linecolor": "white",
            "ticks": ""
           },
           "baxis": {
            "gridcolor": "white",
            "linecolor": "white",
            "ticks": ""
           },
           "bgcolor": "#E5ECF6",
           "caxis": {
            "gridcolor": "white",
            "linecolor": "white",
            "ticks": ""
           }
          },
          "title": {
           "x": 0.05
          },
          "xaxis": {
           "automargin": true,
           "gridcolor": "white",
           "linecolor": "white",
           "ticks": "",
           "title": {
            "standoff": 15
           },
           "zerolinecolor": "white",
           "zerolinewidth": 2
          },
          "yaxis": {
           "automargin": true,
           "gridcolor": "white",
           "linecolor": "white",
           "ticks": "",
           "title": {
            "standoff": 15
           },
           "zerolinecolor": "white",
           "zerolinewidth": 2
          }
         }
        },
        "title": {
         "text": "ER Class Distribution in Each Batch - Task ID 2"
        },
        "xaxis": {
         "anchor": "y",
         "domain": [
          0,
          1
         ],
         "title": {
          "text": "Classes"
         }
        },
        "yaxis": {
         "anchor": "x",
         "autorange": "reversed",
         "domain": [
          0,
          1
         ],
         "title": {
          "text": "Batches"
         }
        }
       }
      }
     },
     "metadata": {},
     "output_type": "display_data"
    }
   ],
   "source": [
    "import numpy as np\n",
    "import plotly.express as px\n",
    "\n",
    "task_id = 2\n",
    "\n",
    "df = pd.read_csv(\"../results_plot_SplitCIFAR100_['EDR', 'ER']_False_[]_32_10_0_50_2/train_batches_y_ExperienceReplay.log\", \n",
    "                 names=[\"task_id\", \"class_0\", \"class_1\", \"class_2\", \"class_3\", \"class_4\", \"class_5\", \"class_6\", \n",
    "                            \"class_7\", \"class_8\", \"class_9\", \"class_10\", \"class_11\", \"class_12\", \"class_13\", \"class_14\", \"class_15\", \"class_16\",\n",
    "                            \"class_17\", \"class_18\", \"class_19\", \"class_20\", \"class_21\", \"class_22\", \"class_23\", \"class_24\", \"class_25\", \"class_26\",\n",
    "                            \"class_27\", \"class_28\", \"class_29\", \"class_30\", \"class_31\", \"class_32\", \"class_33\", \"class_34\", \"class_35\", \"class_36\",\n",
    "                            \"class_37\", \"class_38\", \"class_39\", \"class_40\", \"class_41\", \"class_42\", \"class_43\", \"class_44\", \"class_45\", \"class_46\",\n",
    "                            \"class_47\", \"class_48\", \"class_49\", \"class_50\", \"class_51\", \"class_52\", \"class_53\", \"class_54\", \"class_55\", \"class_56\",\n",
    "                            \"class_57\", \"class_58\", \"class_59\", \"class_60\", \"class_61\", \"class_62\", \"class_63\", \"class_64\", \"class_65\", \"class_66\",\n",
    "                            \"class_67\", \"class_68\", \"class_69\", \"class_70\", \"class_71\", \"class_72\", \"class_73\", \"class_74\", \"class_75\", \"class_76\",\n",
    "                            \"class_77\", \"class_78\", \"class_79\", \"class_80\", \"class_81\", \"class_82\", \"class_83\", \"class_84\", \"class_85\", \"class_86\",\n",
    "                            \"class_87\", \"class_88\", \"class_89\", \"class_90\", \"class_91\", \"class_92\", \"class_93\", \"class_94\", \"class_95\", \"class_96\",\n",
    "                            \"class_97\", \"class_98\", \"class_99\"])\n",
    "\n",
    "df_plot = df.loc[df.task_id == task_id].reset_index(drop=True).copy()\n",
    "# df_plot = pd.concat([df_plot[:10], df_plot[80:90], df_plot[115:125]], ignore_index=True)\n",
    "df_plot.drop(columns=[\"task_id\"], inplace=True)\n",
    "\n",
    "# Criação do heatmap interativo (classe no eixo Y, batch no eixo X)\n",
    "fig = px.imshow(\n",
    "    df_plot,\n",
    "    labels=dict(x=\"Classes\", y=\"Batches\", color=\"Number of Instances\"),\n",
    "    # x=[f\"Batch {i}\" for i in range(1, num_batches+1)],\n",
    "    # y=[f\"Classe {i}\" for i in range(num_classes)],\n",
    "    aspect=\"auto\",\n",
    "    color_continuous_scale=\"Viridis\",\n",
    "    origin=\"upper\",  # garante que Classe 0 fique em cima\n",
    "    # text_auto=True\n",
    ")\n",
    "\n",
    "fig.update_layout(\n",
    "    title=\"ER Class Distribution in Each Batch - Task ID {}\".format(task_id),\n",
    "    xaxis_title=\"Classes\",\n",
    "    yaxis_title=\"Batches\",\n",
    "    height=900,\n",
    ")\n",
    "\n",
    "fig.show()"
   ]
  },
  {
   "cell_type": "markdown",
   "id": "0537c173",
   "metadata": {},
   "source": [
    "<!-- ### results_plot_mnist_['EDR', 'ER']_False_[]_32_5_0_32_150_2/train_batches_y_ExperienceDelayReplay.log -->\n",
    "#### Task 3\n",
    "#### Classes 65, 98, 35, 7, 20, 23, 24, 29, 30, 31"
   ]
  },
  {
   "cell_type": "code",
   "execution_count": 22,
   "id": "198a1721",
   "metadata": {},
   "outputs": [
    {
     "data": {
      "application/vnd.plotly.v1+json": {
       "config": {
        "plotlyServerURL": "https://plot.ly"
       },
       "data": [
        {
         "coloraxis": "coloraxis",
         "hovertemplate": "Classes: %{x}<br>Batches: %{y}<br>Number of Instances: %{z}<extra></extra>",
         "name": "0",
         "type": "heatmap",
         "x": [
          "class_0",
          "class_1",
          "class_2",
          "class_3",
          "class_4",
          "class_5",
          "class_6",
          "class_7",
          "class_8",
          "class_9",
          "class_10",
          "class_11",
          "class_12",
          "class_13",
          "class_14",
          "class_15",
          "class_16",
          "class_17",
          "class_18",
          "class_19",
          "class_20",
          "class_21",
          "class_22",
          "class_23",
          "class_24",
          "class_25",
          "class_26",
          "class_27",
          "class_28",
          "class_29",
          "class_30",
          "class_31",
          "class_32",
          "class_33",
          "class_34",
          "class_35",
          "class_36",
          "class_37",
          "class_38",
          "class_39",
          "class_40",
          "class_41",
          "class_42",
          "class_43",
          "class_44",
          "class_45",
          "class_46",
          "class_47",
          "class_48",
          "class_49",
          "class_50",
          "class_51",
          "class_52",
          "class_53",
          "class_54",
          "class_55",
          "class_56",
          "class_57",
          "class_58",
          "class_59",
          "class_60",
          "class_61",
          "class_62",
          "class_63",
          "class_64",
          "class_65",
          "class_66",
          "class_67",
          "class_68",
          "class_69",
          "class_70",
          "class_71",
          "class_72",
          "class_73",
          "class_74",
          "class_75",
          "class_76",
          "class_77",
          "class_78",
          "class_79",
          "class_80",
          "class_81",
          "class_82",
          "class_83",
          "class_84",
          "class_85",
          "class_86",
          "class_87",
          "class_88",
          "class_89",
          "class_90",
          "class_91",
          "class_92",
          "class_93",
          "class_94",
          "class_95",
          "class_96",
          "class_97",
          "class_98",
          "class_99"
         ],
         "xaxis": "x",
         "y": {
          "bdata": "AAECAwQFBgcICQoLDA0ODxAREhMUFRYXGBkaGxwdHh8gISIjJCUmJygpKissLS4vMDEyMw==",
          "dtype": "i1"
         },
         "yaxis": "y",
         "z": {
          "bdata": "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",
          "dtype": "i1",
          "shape": "52, 100"
         }
        }
       ],
       "layout": {
        "coloraxis": {
         "colorbar": {
          "title": {
           "text": "Number of Instances"
          }
         },
         "colorscale": [
          [
           0,
           "#440154"
          ],
          [
           0.1111111111111111,
           "#482878"
          ],
          [
           0.2222222222222222,
           "#3e4989"
          ],
          [
           0.3333333333333333,
           "#31688e"
          ],
          [
           0.4444444444444444,
           "#26828e"
          ],
          [
           0.5555555555555556,
           "#1f9e89"
          ],
          [
           0.6666666666666666,
           "#35b779"
          ],
          [
           0.7777777777777778,
           "#6ece58"
          ],
          [
           0.8888888888888888,
           "#b5de2b"
          ],
          [
           1,
           "#fde725"
          ]
         ]
        },
        "height": 900,
        "margin": {
         "t": 60
        },
        "template": {
         "data": {
          "bar": [
           {
            "error_x": {
             "color": "#2a3f5f"
            },
            "error_y": {
             "color": "#2a3f5f"
            },
            "marker": {
             "line": {
              "color": "#E5ECF6",
              "width": 0.5
             },
             "pattern": {
              "fillmode": "overlay",
              "size": 10,
              "solidity": 0.2
             }
            },
            "type": "bar"
           }
          ],
          "barpolar": [
           {
            "marker": {
             "line": {
              "color": "#E5ECF6",
              "width": 0.5
             },
             "pattern": {
              "fillmode": "overlay",
              "size": 10,
              "solidity": 0.2
             }
            },
            "type": "barpolar"
           }
          ],
          "carpet": [
           {
            "aaxis": {
             "endlinecolor": "#2a3f5f",
             "gridcolor": "white",
             "linecolor": "white",
             "minorgridcolor": "white",
             "startlinecolor": "#2a3f5f"
            },
            "baxis": {
             "endlinecolor": "#2a3f5f",
             "gridcolor": "white",
             "linecolor": "white",
             "minorgridcolor": "white",
             "startlinecolor": "#2a3f5f"
            },
            "type": "carpet"
           }
          ],
          "choropleth": [
           {
            "colorbar": {
             "outlinewidth": 0,
             "ticks": ""
            },
            "type": "choropleth"
           }
          ],
          "contour": [
           {
            "colorbar": {
             "outlinewidth": 0,
             "ticks": ""
            },
            "colorscale": [
             [
              0,
              "#0d0887"
             ],
             [
              0.1111111111111111,
              "#46039f"
             ],
             [
              0.2222222222222222,
              "#7201a8"
             ],
             [
              0.3333333333333333,
              "#9c179e"
             ],
             [
              0.4444444444444444,
              "#bd3786"
             ],
             [
              0.5555555555555556,
              "#d8576b"
             ],
             [
              0.6666666666666666,
              "#ed7953"
             ],
             [
              0.7777777777777778,
              "#fb9f3a"
             ],
             [
              0.8888888888888888,
              "#fdca26"
             ],
             [
              1,
              "#f0f921"
             ]
            ],
            "type": "contour"
           }
          ],
          "contourcarpet": [
           {
            "colorbar": {
             "outlinewidth": 0,
             "ticks": ""
            },
            "type": "contourcarpet"
           }
          ],
          "heatmap": [
           {
            "colorbar": {
             "outlinewidth": 0,
             "ticks": ""
            },
            "colorscale": [
             [
              0,
              "#0d0887"
             ],
             [
              0.1111111111111111,
              "#46039f"
             ],
             [
              0.2222222222222222,
              "#7201a8"
             ],
             [
              0.3333333333333333,
              "#9c179e"
             ],
             [
              0.4444444444444444,
              "#bd3786"
             ],
             [
              0.5555555555555556,
              "#d8576b"
             ],
             [
              0.6666666666666666,
              "#ed7953"
             ],
             [
              0.7777777777777778,
              "#fb9f3a"
             ],
             [
              0.8888888888888888,
              "#fdca26"
             ],
             [
              1,
              "#f0f921"
             ]
            ],
            "type": "heatmap"
           }
          ],
          "histogram": [
           {
            "marker": {
             "pattern": {
              "fillmode": "overlay",
              "size": 10,
              "solidity": 0.2
             }
            },
            "type": "histogram"
           }
          ],
          "histogram2d": [
           {
            "colorbar": {
             "outlinewidth": 0,
             "ticks": ""
            },
            "colorscale": [
             [
              0,
              "#0d0887"
             ],
             [
              0.1111111111111111,
              "#46039f"
             ],
             [
              0.2222222222222222,
              "#7201a8"
             ],
             [
              0.3333333333333333,
              "#9c179e"
             ],
             [
              0.4444444444444444,
              "#bd3786"
             ],
             [
              0.5555555555555556,
              "#d8576b"
             ],
             [
              0.6666666666666666,
              "#ed7953"
             ],
             [
              0.7777777777777778,
              "#fb9f3a"
             ],
             [
              0.8888888888888888,
              "#fdca26"
             ],
             [
              1,
              "#f0f921"
             ]
            ],
            "type": "histogram2d"
           }
          ],
          "histogram2dcontour": [
           {
            "colorbar": {
             "outlinewidth": 0,
             "ticks": ""
            },
            "colorscale": [
             [
              0,
              "#0d0887"
             ],
             [
              0.1111111111111111,
              "#46039f"
             ],
             [
              0.2222222222222222,
              "#7201a8"
             ],
             [
              0.3333333333333333,
              "#9c179e"
             ],
             [
              0.4444444444444444,
              "#bd3786"
             ],
             [
              0.5555555555555556,
              "#d8576b"
             ],
             [
              0.6666666666666666,
              "#ed7953"
             ],
             [
              0.7777777777777778,
              "#fb9f3a"
             ],
             [
              0.8888888888888888,
              "#fdca26"
             ],
             [
              1,
              "#f0f921"
             ]
            ],
            "type": "histogram2dcontour"
           }
          ],
          "mesh3d": [
           {
            "colorbar": {
             "outlinewidth": 0,
             "ticks": ""
            },
            "type": "mesh3d"
           }
          ],
          "parcoords": [
           {
            "line": {
             "colorbar": {
              "outlinewidth": 0,
              "ticks": ""
             }
            },
            "type": "parcoords"
           }
          ],
          "pie": [
           {
            "automargin": true,
            "type": "pie"
           }
          ],
          "scatter": [
           {
            "fillpattern": {
             "fillmode": "overlay",
             "size": 10,
             "solidity": 0.2
            },
            "type": "scatter"
           }
          ],
          "scatter3d": [
           {
            "line": {
             "colorbar": {
              "outlinewidth": 0,
              "ticks": ""
             }
            },
            "marker": {
             "colorbar": {
              "outlinewidth": 0,
              "ticks": ""
             }
            },
            "type": "scatter3d"
           }
          ],
          "scattercarpet": [
           {
            "marker": {
             "colorbar": {
              "outlinewidth": 0,
              "ticks": ""
             }
            },
            "type": "scattercarpet"
           }
          ],
          "scattergeo": [
           {
            "marker": {
             "colorbar": {
              "outlinewidth": 0,
              "ticks": ""
             }
            },
            "type": "scattergeo"
           }
          ],
          "scattergl": [
           {
            "marker": {
             "colorbar": {
              "outlinewidth": 0,
              "ticks": ""
             }
            },
            "type": "scattergl"
           }
          ],
          "scattermap": [
           {
            "marker": {
             "colorbar": {
              "outlinewidth": 0,
              "ticks": ""
             }
            },
            "type": "scattermap"
           }
          ],
          "scattermapbox": [
           {
            "marker": {
             "colorbar": {
              "outlinewidth": 0,
              "ticks": ""
             }
            },
            "type": "scattermapbox"
           }
          ],
          "scatterpolar": [
           {
            "marker": {
             "colorbar": {
              "outlinewidth": 0,
              "ticks": ""
             }
            },
            "type": "scatterpolar"
           }
          ],
          "scatterpolargl": [
           {
            "marker": {
             "colorbar": {
              "outlinewidth": 0,
              "ticks": ""
             }
            },
            "type": "scatterpolargl"
           }
          ],
          "scatterternary": [
           {
            "marker": {
             "colorbar": {
              "outlinewidth": 0,
              "ticks": ""
             }
            },
            "type": "scatterternary"
           }
          ],
          "surface": [
           {
            "colorbar": {
             "outlinewidth": 0,
             "ticks": ""
            },
            "colorscale": [
             [
              0,
              "#0d0887"
             ],
             [
              0.1111111111111111,
              "#46039f"
             ],
             [
              0.2222222222222222,
              "#7201a8"
             ],
             [
              0.3333333333333333,
              "#9c179e"
             ],
             [
              0.4444444444444444,
              "#bd3786"
             ],
             [
              0.5555555555555556,
              "#d8576b"
             ],
             [
              0.6666666666666666,
              "#ed7953"
             ],
             [
              0.7777777777777778,
              "#fb9f3a"
             ],
             [
              0.8888888888888888,
              "#fdca26"
             ],
             [
              1,
              "#f0f921"
             ]
            ],
            "type": "surface"
           }
          ],
          "table": [
           {
            "cells": {
             "fill": {
              "color": "#EBF0F8"
             },
             "line": {
              "color": "white"
             }
            },
            "header": {
             "fill": {
              "color": "#C8D4E3"
             },
             "line": {
              "color": "white"
             }
            },
            "type": "table"
           }
          ]
         },
         "layout": {
          "annotationdefaults": {
           "arrowcolor": "#2a3f5f",
           "arrowhead": 0,
           "arrowwidth": 1
          },
          "autotypenumbers": "strict",
          "coloraxis": {
           "colorbar": {
            "outlinewidth": 0,
            "ticks": ""
           }
          },
          "colorscale": {
           "diverging": [
            [
             0,
             "#8e0152"
            ],
            [
             0.1,
             "#c51b7d"
            ],
            [
             0.2,
             "#de77ae"
            ],
            [
             0.3,
             "#f1b6da"
            ],
            [
             0.4,
             "#fde0ef"
            ],
            [
             0.5,
             "#f7f7f7"
            ],
            [
             0.6,
             "#e6f5d0"
            ],
            [
             0.7,
             "#b8e186"
            ],
            [
             0.8,
             "#7fbc41"
            ],
            [
             0.9,
             "#4d9221"
            ],
            [
             1,
             "#276419"
            ]
           ],
           "sequential": [
            [
             0,
             "#0d0887"
            ],
            [
             0.1111111111111111,
             "#46039f"
            ],
            [
             0.2222222222222222,
             "#7201a8"
            ],
            [
             0.3333333333333333,
             "#9c179e"
            ],
            [
             0.4444444444444444,
             "#bd3786"
            ],
            [
             0.5555555555555556,
             "#d8576b"
            ],
            [
             0.6666666666666666,
             "#ed7953"
            ],
            [
             0.7777777777777778,
             "#fb9f3a"
            ],
            [
             0.8888888888888888,
             "#fdca26"
            ],
            [
             1,
             "#f0f921"
            ]
           ],
           "sequentialminus": [
            [
             0,
             "#0d0887"
            ],
            [
             0.1111111111111111,
             "#46039f"
            ],
            [
             0.2222222222222222,
             "#7201a8"
            ],
            [
             0.3333333333333333,
             "#9c179e"
            ],
            [
             0.4444444444444444,
             "#bd3786"
            ],
            [
             0.5555555555555556,
             "#d8576b"
            ],
            [
             0.6666666666666666,
             "#ed7953"
            ],
            [
             0.7777777777777778,
             "#fb9f3a"
            ],
            [
             0.8888888888888888,
             "#fdca26"
            ],
            [
             1,
             "#f0f921"
            ]
           ]
          },
          "colorway": [
           "#636efa",
           "#EF553B",
           "#00cc96",
           "#ab63fa",
           "#FFA15A",
           "#19d3f3",
           "#FF6692",
           "#B6E880",
           "#FF97FF",
           "#FECB52"
          ],
          "font": {
           "color": "#2a3f5f"
          },
          "geo": {
           "bgcolor": "white",
           "lakecolor": "white",
           "landcolor": "#E5ECF6",
           "showlakes": true,
           "showland": true,
           "subunitcolor": "white"
          },
          "hoverlabel": {
           "align": "left"
          },
          "hovermode": "closest",
          "mapbox": {
           "style": "light"
          },
          "paper_bgcolor": "white",
          "plot_bgcolor": "#E5ECF6",
          "polar": {
           "angularaxis": {
            "gridcolor": "white",
            "linecolor": "white",
            "ticks": ""
           },
           "bgcolor": "#E5ECF6",
           "radialaxis": {
            "gridcolor": "white",
            "linecolor": "white",
            "ticks": ""
           }
          },
          "scene": {
           "xaxis": {
            "backgroundcolor": "#E5ECF6",
            "gridcolor": "white",
            "gridwidth": 2,
            "linecolor": "white",
            "showbackground": true,
            "ticks": "",
            "zerolinecolor": "white"
           },
           "yaxis": {
            "backgroundcolor": "#E5ECF6",
            "gridcolor": "white",
            "gridwidth": 2,
            "linecolor": "white",
            "showbackground": true,
            "ticks": "",
            "zerolinecolor": "white"
           },
           "zaxis": {
            "backgroundcolor": "#E5ECF6",
            "gridcolor": "white",
            "gridwidth": 2,
            "linecolor": "white",
            "showbackground": true,
            "ticks": "",
            "zerolinecolor": "white"
           }
          },
          "shapedefaults": {
           "line": {
            "color": "#2a3f5f"
           }
          },
          "ternary": {
           "aaxis": {
            "gridcolor": "white",
            "linecolor": "white",
            "ticks": ""
           },
           "baxis": {
            "gridcolor": "white",
            "linecolor": "white",
            "ticks": ""
           },
           "bgcolor": "#E5ECF6",
           "caxis": {
            "gridcolor": "white",
            "linecolor": "white",
            "ticks": ""
           }
          },
          "title": {
           "x": 0.05
          },
          "xaxis": {
           "automargin": true,
           "gridcolor": "white",
           "linecolor": "white",
           "ticks": "",
           "title": {
            "standoff": 15
           },
           "zerolinecolor": "white",
           "zerolinewidth": 2
          },
          "yaxis": {
           "automargin": true,
           "gridcolor": "white",
           "linecolor": "white",
           "ticks": "",
           "title": {
            "standoff": 15
           },
           "zerolinecolor": "white",
           "zerolinewidth": 2
          }
         }
        },
        "title": {
         "text": "EDR Class Distribution in Each Batch - Task ID 3"
        },
        "xaxis": {
         "anchor": "y",
         "domain": [
          0,
          1
         ],
         "title": {
          "text": "Classes"
         }
        },
        "yaxis": {
         "anchor": "x",
         "autorange": "reversed",
         "domain": [
          0,
          1
         ],
         "title": {
          "text": "Batches"
         }
        }
       }
      }
     },
     "metadata": {},
     "output_type": "display_data"
    }
   ],
   "source": [
    "import numpy as np\n",
    "import plotly.express as px\n",
    "\n",
    "task_id = 3\n",
    "\n",
    "df = pd.read_csv(\"../results_plot_SplitCIFAR100_['EDR', 'ER']_False_[]_32_10_0_50_2/train_batches_y_ExperienceDelayReplay.log\", \n",
    "                 names=[\"task_id\", \"class_0\", \"class_1\", \"class_2\", \"class_3\", \"class_4\", \"class_5\", \"class_6\", \n",
    "                            \"class_7\", \"class_8\", \"class_9\", \"class_10\", \"class_11\", \"class_12\", \"class_13\", \"class_14\", \"class_15\", \"class_16\",\n",
    "                            \"class_17\", \"class_18\", \"class_19\", \"class_20\", \"class_21\", \"class_22\", \"class_23\", \"class_24\", \"class_25\", \"class_26\",\n",
    "                            \"class_27\", \"class_28\", \"class_29\", \"class_30\", \"class_31\", \"class_32\", \"class_33\", \"class_34\", \"class_35\", \"class_36\",\n",
    "                            \"class_37\", \"class_38\", \"class_39\", \"class_40\", \"class_41\", \"class_42\", \"class_43\", \"class_44\", \"class_45\", \"class_46\",\n",
    "                            \"class_47\", \"class_48\", \"class_49\", \"class_50\", \"class_51\", \"class_52\", \"class_53\", \"class_54\", \"class_55\", \"class_56\",\n",
    "                            \"class_57\", \"class_58\", \"class_59\", \"class_60\", \"class_61\", \"class_62\", \"class_63\", \"class_64\", \"class_65\", \"class_66\",\n",
    "                            \"class_67\", \"class_68\", \"class_69\", \"class_70\", \"class_71\", \"class_72\", \"class_73\", \"class_74\", \"class_75\", \"class_76\",\n",
    "                            \"class_77\", \"class_78\", \"class_79\", \"class_80\", \"class_81\", \"class_82\", \"class_83\", \"class_84\", \"class_85\", \"class_86\",\n",
    "                            \"class_87\", \"class_88\", \"class_89\", \"class_90\", \"class_91\", \"class_92\", \"class_93\", \"class_94\", \"class_95\", \"class_96\",\n",
    "                            \"class_97\", \"class_98\", \"class_99\"])\n",
    "\n",
    "\n",
    "df_plot = df.loc[df.task_id == task_id].reset_index(drop=True).copy()\n",
    "# df_plot = pd.concat([df_plot[:10], df_plot[80:90], df_plot[115:125]], ignore_index=True)\n",
    "df_plot.drop(columns=[\"task_id\"], inplace=True)\n",
    "\n",
    "# Criação do heatmap interativo (classe no eixo Y, batch no eixo X)\n",
    "fig = px.imshow(\n",
    "    df_plot,\n",
    "    labels=dict(x=\"Classes\", y=\"Batches\", color=\"Number of Instances\"),\n",
    "    # x=[f\"Batch {i}\" for i in range(1, num_batches+1)],\n",
    "    # y=[f\"Classe {i}\" for i in range(num_classes)],\n",
    "    aspect=\"auto\",\n",
    "    color_continuous_scale=\"Viridis\",\n",
    "    origin=\"upper\",  # garante que Classe 0 fique em cima\n",
    "    # text_auto=True\n",
    ")\n",
    "\n",
    "fig.update_layout(\n",
    "    title=\"EDR Class Distribution in Each Batch - Task ID {}\".format(task_id),\n",
    "    xaxis_title=\"Classes\",\n",
    "    yaxis_title=\"Batches\",\n",
    "    height=900,\n",
    ")\n",
    "\n",
    "fig.show()"
   ]
  },
  {
   "cell_type": "code",
   "execution_count": 23,
   "id": "37aa02b7",
   "metadata": {},
   "outputs": [
    {
     "data": {
      "application/vnd.plotly.v1+json": {
       "config": {
        "plotlyServerURL": "https://plot.ly"
       },
       "data": [
        {
         "coloraxis": "coloraxis",
         "hovertemplate": "Classes: %{x}<br>Batches: %{y}<br>Number of Instances: %{z}<extra></extra>",
         "name": "0",
         "type": "heatmap",
         "x": [
          "class_0",
          "class_1",
          "class_2",
          "class_3",
          "class_4",
          "class_5",
          "class_6",
          "class_7",
          "class_8",
          "class_9",
          "class_10",
          "class_11",
          "class_12",
          "class_13",
          "class_14",
          "class_15",
          "class_16",
          "class_17",
          "class_18",
          "class_19",
          "class_20",
          "class_21",
          "class_22",
          "class_23",
          "class_24",
          "class_25",
          "class_26",
          "class_27",
          "class_28",
          "class_29",
          "class_30",
          "class_31",
          "class_32",
          "class_33",
          "class_34",
          "class_35",
          "class_36",
          "class_37",
          "class_38",
          "class_39",
          "class_40",
          "class_41",
          "class_42",
          "class_43",
          "class_44",
          "class_45",
          "class_46",
          "class_47",
          "class_48",
          "class_49",
          "class_50",
          "class_51",
          "class_52",
          "class_53",
          "class_54",
          "class_55",
          "class_56",
          "class_57",
          "class_58",
          "class_59",
          "class_60",
          "class_61",
          "class_62",
          "class_63",
          "class_64",
          "class_65",
          "class_66",
          "class_67",
          "class_68",
          "class_69",
          "class_70",
          "class_71",
          "class_72",
          "class_73",
          "class_74",
          "class_75",
          "class_76",
          "class_77",
          "class_78",
          "class_79",
          "class_80",
          "class_81",
          "class_82",
          "class_83",
          "class_84",
          "class_85",
          "class_86",
          "class_87",
          "class_88",
          "class_89",
          "class_90",
          "class_91",
          "class_92",
          "class_93",
          "class_94",
          "class_95",
          "class_96",
          "class_97",
          "class_98",
          "class_99"
         ],
         "xaxis": "x",
         "y": {
          "bdata": "AAECAwQFBgcICQoLDA0ODxAREhMUFRYXGBkaGxwdHh8gISIjJCUmJygpKissLS4vMDEyMzQ1Njc4OTo7PD0+P0BBQkNERUZHSElKS0xN",
          "dtype": "i1"
         },
         "yaxis": "y",
         "z": {
          "bdata": "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",
          "dtype": "i1",
          "shape": "78, 100"
         }
        }
       ],
       "layout": {
        "coloraxis": {
         "colorbar": {
          "title": {
           "text": "Number of Instances"
          }
         },
         "colorscale": [
          [
           0,
           "#440154"
          ],
          [
           0.1111111111111111,
           "#482878"
          ],
          [
           0.2222222222222222,
           "#3e4989"
          ],
          [
           0.3333333333333333,
           "#31688e"
          ],
          [
           0.4444444444444444,
           "#26828e"
          ],
          [
           0.5555555555555556,
           "#1f9e89"
          ],
          [
           0.6666666666666666,
           "#35b779"
          ],
          [
           0.7777777777777778,
           "#6ece58"
          ],
          [
           0.8888888888888888,
           "#b5de2b"
          ],
          [
           1,
           "#fde725"
          ]
         ]
        },
        "height": 900,
        "margin": {
         "t": 60
        },
        "template": {
         "data": {
          "bar": [
           {
            "error_x": {
             "color": "#2a3f5f"
            },
            "error_y": {
             "color": "#2a3f5f"
            },
            "marker": {
             "line": {
              "color": "#E5ECF6",
              "width": 0.5
             },
             "pattern": {
              "fillmode": "overlay",
              "size": 10,
              "solidity": 0.2
             }
            },
            "type": "bar"
           }
          ],
          "barpolar": [
           {
            "marker": {
             "line": {
              "color": "#E5ECF6",
              "width": 0.5
             },
             "pattern": {
              "fillmode": "overlay",
              "size": 10,
              "solidity": 0.2
             }
            },
            "type": "barpolar"
           }
          ],
          "carpet": [
           {
            "aaxis": {
             "endlinecolor": "#2a3f5f",
             "gridcolor": "white",
             "linecolor": "white",
             "minorgridcolor": "white",
             "startlinecolor": "#2a3f5f"
            },
            "baxis": {
             "endlinecolor": "#2a3f5f",
             "gridcolor": "white",
             "linecolor": "white",
             "minorgridcolor": "white",
             "startlinecolor": "#2a3f5f"
            },
            "type": "carpet"
           }
          ],
          "choropleth": [
           {
            "colorbar": {
             "outlinewidth": 0,
             "ticks": ""
            },
            "type": "choropleth"
           }
          ],
          "contour": [
           {
            "colorbar": {
             "outlinewidth": 0,
             "ticks": ""
            },
            "colorscale": [
             [
              0,
              "#0d0887"
             ],
             [
              0.1111111111111111,
              "#46039f"
             ],
             [
              0.2222222222222222,
              "#7201a8"
             ],
             [
              0.3333333333333333,
              "#9c179e"
             ],
             [
              0.4444444444444444,
              "#bd3786"
             ],
             [
              0.5555555555555556,
              "#d8576b"
             ],
             [
              0.6666666666666666,
              "#ed7953"
             ],
             [
              0.7777777777777778,
              "#fb9f3a"
             ],
             [
              0.8888888888888888,
              "#fdca26"
             ],
             [
              1,
              "#f0f921"
             ]
            ],
            "type": "contour"
           }
          ],
          "contourcarpet": [
           {
            "colorbar": {
             "outlinewidth": 0,
             "ticks": ""
            },
            "type": "contourcarpet"
           }
          ],
          "heatmap": [
           {
            "colorbar": {
             "outlinewidth": 0,
             "ticks": ""
            },
            "colorscale": [
             [
              0,
              "#0d0887"
             ],
             [
              0.1111111111111111,
              "#46039f"
             ],
             [
              0.2222222222222222,
              "#7201a8"
             ],
             [
              0.3333333333333333,
              "#9c179e"
             ],
             [
              0.4444444444444444,
              "#bd3786"
             ],
             [
              0.5555555555555556,
              "#d8576b"
             ],
             [
              0.6666666666666666,
              "#ed7953"
             ],
             [
              0.7777777777777778,
              "#fb9f3a"
             ],
             [
              0.8888888888888888,
              "#fdca26"
             ],
             [
              1,
              "#f0f921"
             ]
            ],
            "type": "heatmap"
           }
          ],
          "histogram": [
           {
            "marker": {
             "pattern": {
              "fillmode": "overlay",
              "size": 10,
              "solidity": 0.2
             }
            },
            "type": "histogram"
           }
          ],
          "histogram2d": [
           {
            "colorbar": {
             "outlinewidth": 0,
             "ticks": ""
            },
            "colorscale": [
             [
              0,
              "#0d0887"
             ],
             [
              0.1111111111111111,
              "#46039f"
             ],
             [
              0.2222222222222222,
              "#7201a8"
             ],
             [
              0.3333333333333333,
              "#9c179e"
             ],
             [
              0.4444444444444444,
              "#bd3786"
             ],
             [
              0.5555555555555556,
              "#d8576b"
             ],
             [
              0.6666666666666666,
              "#ed7953"
             ],
             [
              0.7777777777777778,
              "#fb9f3a"
             ],
             [
              0.8888888888888888,
              "#fdca26"
             ],
             [
              1,
              "#f0f921"
             ]
            ],
            "type": "histogram2d"
           }
          ],
          "histogram2dcontour": [
           {
            "colorbar": {
             "outlinewidth": 0,
             "ticks": ""
            },
            "colorscale": [
             [
              0,
              "#0d0887"
             ],
             [
              0.1111111111111111,
              "#46039f"
             ],
             [
              0.2222222222222222,
              "#7201a8"
             ],
             [
              0.3333333333333333,
              "#9c179e"
             ],
             [
              0.4444444444444444,
              "#bd3786"
             ],
             [
              0.5555555555555556,
              "#d8576b"
             ],
             [
              0.6666666666666666,
              "#ed7953"
             ],
             [
              0.7777777777777778,
              "#fb9f3a"
             ],
             [
              0.8888888888888888,
              "#fdca26"
             ],
             [
              1,
              "#f0f921"
             ]
            ],
            "type": "histogram2dcontour"
           }
          ],
          "mesh3d": [
           {
            "colorbar": {
             "outlinewidth": 0,
             "ticks": ""
            },
            "type": "mesh3d"
           }
          ],
          "parcoords": [
           {
            "line": {
             "colorbar": {
              "outlinewidth": 0,
              "ticks": ""
             }
            },
            "type": "parcoords"
           }
          ],
          "pie": [
           {
            "automargin": true,
            "type": "pie"
           }
          ],
          "scatter": [
           {
            "fillpattern": {
             "fillmode": "overlay",
             "size": 10,
             "solidity": 0.2
            },
            "type": "scatter"
           }
          ],
          "scatter3d": [
           {
            "line": {
             "colorbar": {
              "outlinewidth": 0,
              "ticks": ""
             }
            },
            "marker": {
             "colorbar": {
              "outlinewidth": 0,
              "ticks": ""
             }
            },
            "type": "scatter3d"
           }
          ],
          "scattercarpet": [
           {
            "marker": {
             "colorbar": {
              "outlinewidth": 0,
              "ticks": ""
             }
            },
            "type": "scattercarpet"
           }
          ],
          "scattergeo": [
           {
            "marker": {
             "colorbar": {
              "outlinewidth": 0,
              "ticks": ""
             }
            },
            "type": "scattergeo"
           }
          ],
          "scattergl": [
           {
            "marker": {
             "colorbar": {
              "outlinewidth": 0,
              "ticks": ""
             }
            },
            "type": "scattergl"
           }
          ],
          "scattermap": [
           {
            "marker": {
             "colorbar": {
              "outlinewidth": 0,
              "ticks": ""
             }
            },
            "type": "scattermap"
           }
          ],
          "scattermapbox": [
           {
            "marker": {
             "colorbar": {
              "outlinewidth": 0,
              "ticks": ""
             }
            },
            "type": "scattermapbox"
           }
          ],
          "scatterpolar": [
           {
            "marker": {
             "colorbar": {
              "outlinewidth": 0,
              "ticks": ""
             }
            },
            "type": "scatterpolar"
           }
          ],
          "scatterpolargl": [
           {
            "marker": {
             "colorbar": {
              "outlinewidth": 0,
              "ticks": ""
             }
            },
            "type": "scatterpolargl"
           }
          ],
          "scatterternary": [
           {
            "marker": {
             "colorbar": {
              "outlinewidth": 0,
              "ticks": ""
             }
            },
            "type": "scatterternary"
           }
          ],
          "surface": [
           {
            "colorbar": {
             "outlinewidth": 0,
             "ticks": ""
            },
            "colorscale": [
             [
              0,
              "#0d0887"
             ],
             [
              0.1111111111111111,
              "#46039f"
             ],
             [
              0.2222222222222222,
              "#7201a8"
             ],
             [
              0.3333333333333333,
              "#9c179e"
             ],
             [
              0.4444444444444444,
              "#bd3786"
             ],
             [
              0.5555555555555556,
              "#d8576b"
             ],
             [
              0.6666666666666666,
              "#ed7953"
             ],
             [
              0.7777777777777778,
              "#fb9f3a"
             ],
             [
              0.8888888888888888,
              "#fdca26"
             ],
             [
              1,
              "#f0f921"
             ]
            ],
            "type": "surface"
           }
          ],
          "table": [
           {
            "cells": {
             "fill": {
              "color": "#EBF0F8"
             },
             "line": {
              "color": "white"
             }
            },
            "header": {
             "fill": {
              "color": "#C8D4E3"
             },
             "line": {
              "color": "white"
             }
            },
            "type": "table"
           }
          ]
         },
         "layout": {
          "annotationdefaults": {
           "arrowcolor": "#2a3f5f",
           "arrowhead": 0,
           "arrowwidth": 1
          },
          "autotypenumbers": "strict",
          "coloraxis": {
           "colorbar": {
            "outlinewidth": 0,
            "ticks": ""
           }
          },
          "colorscale": {
           "diverging": [
            [
             0,
             "#8e0152"
            ],
            [
             0.1,
             "#c51b7d"
            ],
            [
             0.2,
             "#de77ae"
            ],
            [
             0.3,
             "#f1b6da"
            ],
            [
             0.4,
             "#fde0ef"
            ],
            [
             0.5,
             "#f7f7f7"
            ],
            [
             0.6,
             "#e6f5d0"
            ],
            [
             0.7,
             "#b8e186"
            ],
            [
             0.8,
             "#7fbc41"
            ],
            [
             0.9,
             "#4d9221"
            ],
            [
             1,
             "#276419"
            ]
           ],
           "sequential": [
            [
             0,
             "#0d0887"
            ],
            [
             0.1111111111111111,
             "#46039f"
            ],
            [
             0.2222222222222222,
             "#7201a8"
            ],
            [
             0.3333333333333333,
             "#9c179e"
            ],
            [
             0.4444444444444444,
             "#bd3786"
            ],
            [
             0.5555555555555556,
             "#d8576b"
            ],
            [
             0.6666666666666666,
             "#ed7953"
            ],
            [
             0.7777777777777778,
             "#fb9f3a"
            ],
            [
             0.8888888888888888,
             "#fdca26"
            ],
            [
             1,
             "#f0f921"
            ]
           ],
           "sequentialminus": [
            [
             0,
             "#0d0887"
            ],
            [
             0.1111111111111111,
             "#46039f"
            ],
            [
             0.2222222222222222,
             "#7201a8"
            ],
            [
             0.3333333333333333,
             "#9c179e"
            ],
            [
             0.4444444444444444,
             "#bd3786"
            ],
            [
             0.5555555555555556,
             "#d8576b"
            ],
            [
             0.6666666666666666,
             "#ed7953"
            ],
            [
             0.7777777777777778,
             "#fb9f3a"
            ],
            [
             0.8888888888888888,
             "#fdca26"
            ],
            [
             1,
             "#f0f921"
            ]
           ]
          },
          "colorway": [
           "#636efa",
           "#EF553B",
           "#00cc96",
           "#ab63fa",
           "#FFA15A",
           "#19d3f3",
           "#FF6692",
           "#B6E880",
           "#FF97FF",
           "#FECB52"
          ],
          "font": {
           "color": "#2a3f5f"
          },
          "geo": {
           "bgcolor": "white",
           "lakecolor": "white",
           "landcolor": "#E5ECF6",
           "showlakes": true,
           "showland": true,
           "subunitcolor": "white"
          },
          "hoverlabel": {
           "align": "left"
          },
          "hovermode": "closest",
          "mapbox": {
           "style": "light"
          },
          "paper_bgcolor": "white",
          "plot_bgcolor": "#E5ECF6",
          "polar": {
           "angularaxis": {
            "gridcolor": "white",
            "linecolor": "white",
            "ticks": ""
           },
           "bgcolor": "#E5ECF6",
           "radialaxis": {
            "gridcolor": "white",
            "linecolor": "white",
            "ticks": ""
           }
          },
          "scene": {
           "xaxis": {
            "backgroundcolor": "#E5ECF6",
            "gridcolor": "white",
            "gridwidth": 2,
            "linecolor": "white",
            "showbackground": true,
            "ticks": "",
            "zerolinecolor": "white"
           },
           "yaxis": {
            "backgroundcolor": "#E5ECF6",
            "gridcolor": "white",
            "gridwidth": 2,
            "linecolor": "white",
            "showbackground": true,
            "ticks": "",
            "zerolinecolor": "white"
           },
           "zaxis": {
            "backgroundcolor": "#E5ECF6",
            "gridcolor": "white",
            "gridwidth": 2,
            "linecolor": "white",
            "showbackground": true,
            "ticks": "",
            "zerolinecolor": "white"
           }
          },
          "shapedefaults": {
           "line": {
            "color": "#2a3f5f"
           }
          },
          "ternary": {
           "aaxis": {
            "gridcolor": "white",
            "linecolor": "white",
            "ticks": ""
           },
           "baxis": {
            "gridcolor": "white",
            "linecolor": "white",
            "ticks": ""
           },
           "bgcolor": "#E5ECF6",
           "caxis": {
            "gridcolor": "white",
            "linecolor": "white",
            "ticks": ""
           }
          },
          "title": {
           "x": 0.05
          },
          "xaxis": {
           "automargin": true,
           "gridcolor": "white",
           "linecolor": "white",
           "ticks": "",
           "title": {
            "standoff": 15
           },
           "zerolinecolor": "white",
           "zerolinewidth": 2
          },
          "yaxis": {
           "automargin": true,
           "gridcolor": "white",
           "linecolor": "white",
           "ticks": "",
           "title": {
            "standoff": 15
           },
           "zerolinecolor": "white",
           "zerolinewidth": 2
          }
         }
        },
        "title": {
         "text": "ER Class Distribution in Each Batch - Task ID 3"
        },
        "xaxis": {
         "anchor": "y",
         "domain": [
          0,
          1
         ],
         "title": {
          "text": "Classes"
         }
        },
        "yaxis": {
         "anchor": "x",
         "autorange": "reversed",
         "domain": [
          0,
          1
         ],
         "title": {
          "text": "Batches"
         }
        }
       }
      }
     },
     "metadata": {},
     "output_type": "display_data"
    }
   ],
   "source": [
    "import numpy as np\n",
    "import plotly.express as px\n",
    "\n",
    "task_id = 3\n",
    "\n",
    "df = pd.read_csv(\"../results_plot_SplitCIFAR100_['EDR', 'ER']_False_[]_32_10_0_50_2/train_batches_y_ExperienceReplay.log\", \n",
    "                 names=[\"task_id\", \"class_0\", \"class_1\", \"class_2\", \"class_3\", \"class_4\", \"class_5\", \"class_6\", \n",
    "                            \"class_7\", \"class_8\", \"class_9\", \"class_10\", \"class_11\", \"class_12\", \"class_13\", \"class_14\", \"class_15\", \"class_16\",\n",
    "                            \"class_17\", \"class_18\", \"class_19\", \"class_20\", \"class_21\", \"class_22\", \"class_23\", \"class_24\", \"class_25\", \"class_26\",\n",
    "                            \"class_27\", \"class_28\", \"class_29\", \"class_30\", \"class_31\", \"class_32\", \"class_33\", \"class_34\", \"class_35\", \"class_36\",\n",
    "                            \"class_37\", \"class_38\", \"class_39\", \"class_40\", \"class_41\", \"class_42\", \"class_43\", \"class_44\", \"class_45\", \"class_46\",\n",
    "                            \"class_47\", \"class_48\", \"class_49\", \"class_50\", \"class_51\", \"class_52\", \"class_53\", \"class_54\", \"class_55\", \"class_56\",\n",
    "                            \"class_57\", \"class_58\", \"class_59\", \"class_60\", \"class_61\", \"class_62\", \"class_63\", \"class_64\", \"class_65\", \"class_66\",\n",
    "                            \"class_67\", \"class_68\", \"class_69\", \"class_70\", \"class_71\", \"class_72\", \"class_73\", \"class_74\", \"class_75\", \"class_76\",\n",
    "                            \"class_77\", \"class_78\", \"class_79\", \"class_80\", \"class_81\", \"class_82\", \"class_83\", \"class_84\", \"class_85\", \"class_86\",\n",
    "                            \"class_87\", \"class_88\", \"class_89\", \"class_90\", \"class_91\", \"class_92\", \"class_93\", \"class_94\", \"class_95\", \"class_96\",\n",
    "                            \"class_97\", \"class_98\", \"class_99\"],)\n",
    "\n",
    "\n",
    "df_plot = df.loc[df.task_id == task_id].reset_index(drop=True).copy()\n",
    "# df_plot = pd.concat([df_plot[:10], df_plot[80:90], df_plot[115:125]], ignore_index=True)\n",
    "df_plot.drop(columns=[\"task_id\"], inplace=True)\n",
    "\n",
    "# Criação do heatmap interativo (classe no eixo Y, batch no eixo X)\n",
    "fig = px.imshow(\n",
    "    df_plot,\n",
    "    labels=dict(x=\"Classes\", y=\"Batches\", color=\"Number of Instances\"),\n",
    "    # x=[f\"Batch {i}\" for i in range(1, num_batches+1)],\n",
    "    # y=[f\"Classe {i}\" for i in range(num_classes)],\n",
    "    aspect=\"auto\",\n",
    "    color_continuous_scale=\"Viridis\",\n",
    "    origin=\"upper\",  # garante que Classe 0 fique em cima\n",
    "    # text_auto=True\n",
    ")\n",
    "\n",
    "fig.update_layout(\n",
    "    title=\"ER Class Distribution in Each Batch - Task ID {}\".format(task_id),\n",
    "    xaxis_title=\"Classes\",\n",
    "    yaxis_title=\"Batches\",\n",
    "    height=900,\n",
    ")\n",
    "\n",
    "fig.show()"
   ]
  },
  {
   "cell_type": "markdown",
   "id": "8d18c752",
   "metadata": {},
   "source": [
    "<!-- ### results_plot_mnist_['EDR', 'ER']_False_[]_32_5_0_32_150_2/train_batches_y_ExperienceDelayReplay.log -->\n",
    "#### Task 4\n",
    "#### Classes 4, 5, 78, 15, 46, 52, 54, 59, 61, 94"
   ]
  },
  {
   "cell_type": "code",
   "execution_count": 24,
   "id": "59e0dccc",
   "metadata": {},
   "outputs": [
    {
     "data": {
      "application/vnd.plotly.v1+json": {
       "config": {
        "plotlyServerURL": "https://plot.ly"
       },
       "data": [
        {
         "coloraxis": "coloraxis",
         "hovertemplate": "Classes: %{x}<br>Batches: %{y}<br>Number of Instances: %{z}<extra></extra>",
         "name": "0",
         "type": "heatmap",
         "x": [
          "class_0",
          "class_1",
          "class_2",
          "class_3",
          "class_4",
          "class_5",
          "class_6",
          "class_7",
          "class_8",
          "class_9",
          "class_10",
          "class_11",
          "class_12",
          "class_13",
          "class_14",
          "class_15",
          "class_16",
          "class_17",
          "class_18",
          "class_19",
          "class_20",
          "class_21",
          "class_22",
          "class_23",
          "class_24",
          "class_25",
          "class_26",
          "class_27",
          "class_28",
          "class_29",
          "class_30",
          "class_31",
          "class_32",
          "class_33",
          "class_34",
          "class_35",
          "class_36",
          "class_37",
          "class_38",
          "class_39",
          "class_40",
          "class_41",
          "class_42",
          "class_43",
          "class_44",
          "class_45",
          "class_46",
          "class_47",
          "class_48",
          "class_49",
          "class_50",
          "class_51",
          "class_52",
          "class_53",
          "class_54",
          "class_55",
          "class_56",
          "class_57",
          "class_58",
          "class_59",
          "class_60",
          "class_61",
          "class_62",
          "class_63",
          "class_64",
          "class_65",
          "class_66",
          "class_67",
          "class_68",
          "class_69",
          "class_70",
          "class_71",
          "class_72",
          "class_73",
          "class_74",
          "class_75",
          "class_76",
          "class_77",
          "class_78",
          "class_79",
          "class_80",
          "class_81",
          "class_82",
          "class_83",
          "class_84",
          "class_85",
          "class_86",
          "class_87",
          "class_88",
          "class_89",
          "class_90",
          "class_91",
          "class_92",
          "class_93",
          "class_94",
          "class_95",
          "class_96",
          "class_97",
          "class_98",
          "class_99"
         ],
         "xaxis": "x",
         "y": {
          "bdata": "AAECAwQFBgcICQoLDA0ODxAREhMUFRYXGBkaGxwdHh8gISIjJCUmJygpKissLS4vMDEyMzQ=",
          "dtype": "i1"
         },
         "yaxis": "y",
         "z": {
          "bdata": "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",
          "dtype": "i1",
          "shape": "53, 100"
         }
        }
       ],
       "layout": {
        "coloraxis": {
         "colorbar": {
          "title": {
           "text": "Number of Instances"
          }
         },
         "colorscale": [
          [
           0,
           "#440154"
          ],
          [
           0.1111111111111111,
           "#482878"
          ],
          [
           0.2222222222222222,
           "#3e4989"
          ],
          [
           0.3333333333333333,
           "#31688e"
          ],
          [
           0.4444444444444444,
           "#26828e"
          ],
          [
           0.5555555555555556,
           "#1f9e89"
          ],
          [
           0.6666666666666666,
           "#35b779"
          ],
          [
           0.7777777777777778,
           "#6ece58"
          ],
          [
           0.8888888888888888,
           "#b5de2b"
          ],
          [
           1,
           "#fde725"
          ]
         ]
        },
        "height": 900,
        "margin": {
         "t": 60
        },
        "template": {
         "data": {
          "bar": [
           {
            "error_x": {
             "color": "#2a3f5f"
            },
            "error_y": {
             "color": "#2a3f5f"
            },
            "marker": {
             "line": {
              "color": "#E5ECF6",
              "width": 0.5
             },
             "pattern": {
              "fillmode": "overlay",
              "size": 10,
              "solidity": 0.2
             }
            },
            "type": "bar"
           }
          ],
          "barpolar": [
           {
            "marker": {
             "line": {
              "color": "#E5ECF6",
              "width": 0.5
             },
             "pattern": {
              "fillmode": "overlay",
              "size": 10,
              "solidity": 0.2
             }
            },
            "type": "barpolar"
           }
          ],
          "carpet": [
           {
            "aaxis": {
             "endlinecolor": "#2a3f5f",
             "gridcolor": "white",
             "linecolor": "white",
             "minorgridcolor": "white",
             "startlinecolor": "#2a3f5f"
            },
            "baxis": {
             "endlinecolor": "#2a3f5f",
             "gridcolor": "white",
             "linecolor": "white",
             "minorgridcolor": "white",
             "startlinecolor": "#2a3f5f"
            },
            "type": "carpet"
           }
          ],
          "choropleth": [
           {
            "colorbar": {
             "outlinewidth": 0,
             "ticks": ""
            },
            "type": "choropleth"
           }
          ],
          "contour": [
           {
            "colorbar": {
             "outlinewidth": 0,
             "ticks": ""
            },
            "colorscale": [
             [
              0,
              "#0d0887"
             ],
             [
              0.1111111111111111,
              "#46039f"
             ],
             [
              0.2222222222222222,
              "#7201a8"
             ],
             [
              0.3333333333333333,
              "#9c179e"
             ],
             [
              0.4444444444444444,
              "#bd3786"
             ],
             [
              0.5555555555555556,
              "#d8576b"
             ],
             [
              0.6666666666666666,
              "#ed7953"
             ],
             [
              0.7777777777777778,
              "#fb9f3a"
             ],
             [
              0.8888888888888888,
              "#fdca26"
             ],
             [
              1,
              "#f0f921"
             ]
            ],
            "type": "contour"
           }
          ],
          "contourcarpet": [
           {
            "colorbar": {
             "outlinewidth": 0,
             "ticks": ""
            },
            "type": "contourcarpet"
           }
          ],
          "heatmap": [
           {
            "colorbar": {
             "outlinewidth": 0,
             "ticks": ""
            },
            "colorscale": [
             [
              0,
              "#0d0887"
             ],
             [
              0.1111111111111111,
              "#46039f"
             ],
             [
              0.2222222222222222,
              "#7201a8"
             ],
             [
              0.3333333333333333,
              "#9c179e"
             ],
             [
              0.4444444444444444,
              "#bd3786"
             ],
             [
              0.5555555555555556,
              "#d8576b"
             ],
             [
              0.6666666666666666,
              "#ed7953"
             ],
             [
              0.7777777777777778,
              "#fb9f3a"
             ],
             [
              0.8888888888888888,
              "#fdca26"
             ],
             [
              1,
              "#f0f921"
             ]
            ],
            "type": "heatmap"
           }
          ],
          "histogram": [
           {
            "marker": {
             "pattern": {
              "fillmode": "overlay",
              "size": 10,
              "solidity": 0.2
             }
            },
            "type": "histogram"
           }
          ],
          "histogram2d": [
           {
            "colorbar": {
             "outlinewidth": 0,
             "ticks": ""
            },
            "colorscale": [
             [
              0,
              "#0d0887"
             ],
             [
              0.1111111111111111,
              "#46039f"
             ],
             [
              0.2222222222222222,
              "#7201a8"
             ],
             [
              0.3333333333333333,
              "#9c179e"
             ],
             [
              0.4444444444444444,
              "#bd3786"
             ],
             [
              0.5555555555555556,
              "#d8576b"
             ],
             [
              0.6666666666666666,
              "#ed7953"
             ],
             [
              0.7777777777777778,
              "#fb9f3a"
             ],
             [
              0.8888888888888888,
              "#fdca26"
             ],
             [
              1,
              "#f0f921"
             ]
            ],
            "type": "histogram2d"
           }
          ],
          "histogram2dcontour": [
           {
            "colorbar": {
             "outlinewidth": 0,
             "ticks": ""
            },
            "colorscale": [
             [
              0,
              "#0d0887"
             ],
             [
              0.1111111111111111,
              "#46039f"
             ],
             [
              0.2222222222222222,
              "#7201a8"
             ],
             [
              0.3333333333333333,
              "#9c179e"
             ],
             [
              0.4444444444444444,
              "#bd3786"
             ],
             [
              0.5555555555555556,
              "#d8576b"
             ],
             [
              0.6666666666666666,
              "#ed7953"
             ],
             [
              0.7777777777777778,
              "#fb9f3a"
             ],
             [
              0.8888888888888888,
              "#fdca26"
             ],
             [
              1,
              "#f0f921"
             ]
            ],
            "type": "histogram2dcontour"
           }
          ],
          "mesh3d": [
           {
            "colorbar": {
             "outlinewidth": 0,
             "ticks": ""
            },
            "type": "mesh3d"
           }
          ],
          "parcoords": [
           {
            "line": {
             "colorbar": {
              "outlinewidth": 0,
              "ticks": ""
             }
            },
            "type": "parcoords"
           }
          ],
          "pie": [
           {
            "automargin": true,
            "type": "pie"
           }
          ],
          "scatter": [
           {
            "fillpattern": {
             "fillmode": "overlay",
             "size": 10,
             "solidity": 0.2
            },
            "type": "scatter"
           }
          ],
          "scatter3d": [
           {
            "line": {
             "colorbar": {
              "outlinewidth": 0,
              "ticks": ""
             }
            },
            "marker": {
             "colorbar": {
              "outlinewidth": 0,
              "ticks": ""
             }
            },
            "type": "scatter3d"
           }
          ],
          "scattercarpet": [
           {
            "marker": {
             "colorbar": {
              "outlinewidth": 0,
              "ticks": ""
             }
            },
            "type": "scattercarpet"
           }
          ],
          "scattergeo": [
           {
            "marker": {
             "colorbar": {
              "outlinewidth": 0,
              "ticks": ""
             }
            },
            "type": "scattergeo"
           }
          ],
          "scattergl": [
           {
            "marker": {
             "colorbar": {
              "outlinewidth": 0,
              "ticks": ""
             }
            },
            "type": "scattergl"
           }
          ],
          "scattermap": [
           {
            "marker": {
             "colorbar": {
              "outlinewidth": 0,
              "ticks": ""
             }
            },
            "type": "scattermap"
           }
          ],
          "scattermapbox": [
           {
            "marker": {
             "colorbar": {
              "outlinewidth": 0,
              "ticks": ""
             }
            },
            "type": "scattermapbox"
           }
          ],
          "scatterpolar": [
           {
            "marker": {
             "colorbar": {
              "outlinewidth": 0,
              "ticks": ""
             }
            },
            "type": "scatterpolar"
           }
          ],
          "scatterpolargl": [
           {
            "marker": {
             "colorbar": {
              "outlinewidth": 0,
              "ticks": ""
             }
            },
            "type": "scatterpolargl"
           }
          ],
          "scatterternary": [
           {
            "marker": {
             "colorbar": {
              "outlinewidth": 0,
              "ticks": ""
             }
            },
            "type": "scatterternary"
           }
          ],
          "surface": [
           {
            "colorbar": {
             "outlinewidth": 0,
             "ticks": ""
            },
            "colorscale": [
             [
              0,
              "#0d0887"
             ],
             [
              0.1111111111111111,
              "#46039f"
             ],
             [
              0.2222222222222222,
              "#7201a8"
             ],
             [
              0.3333333333333333,
              "#9c179e"
             ],
             [
              0.4444444444444444,
              "#bd3786"
             ],
             [
              0.5555555555555556,
              "#d8576b"
             ],
             [
              0.6666666666666666,
              "#ed7953"
             ],
             [
              0.7777777777777778,
              "#fb9f3a"
             ],
             [
              0.8888888888888888,
              "#fdca26"
             ],
             [
              1,
              "#f0f921"
             ]
            ],
            "type": "surface"
           }
          ],
          "table": [
           {
            "cells": {
             "fill": {
              "color": "#EBF0F8"
             },
             "line": {
              "color": "white"
             }
            },
            "header": {
             "fill": {
              "color": "#C8D4E3"
             },
             "line": {
              "color": "white"
             }
            },
            "type": "table"
           }
          ]
         },
         "layout": {
          "annotationdefaults": {
           "arrowcolor": "#2a3f5f",
           "arrowhead": 0,
           "arrowwidth": 1
          },
          "autotypenumbers": "strict",
          "coloraxis": {
           "colorbar": {
            "outlinewidth": 0,
            "ticks": ""
           }
          },
          "colorscale": {
           "diverging": [
            [
             0,
             "#8e0152"
            ],
            [
             0.1,
             "#c51b7d"
            ],
            [
             0.2,
             "#de77ae"
            ],
            [
             0.3,
             "#f1b6da"
            ],
            [
             0.4,
             "#fde0ef"
            ],
            [
             0.5,
             "#f7f7f7"
            ],
            [
             0.6,
             "#e6f5d0"
            ],
            [
             0.7,
             "#b8e186"
            ],
            [
             0.8,
             "#7fbc41"
            ],
            [
             0.9,
             "#4d9221"
            ],
            [
             1,
             "#276419"
            ]
           ],
           "sequential": [
            [
             0,
             "#0d0887"
            ],
            [
             0.1111111111111111,
             "#46039f"
            ],
            [
             0.2222222222222222,
             "#7201a8"
            ],
            [
             0.3333333333333333,
             "#9c179e"
            ],
            [
             0.4444444444444444,
             "#bd3786"
            ],
            [
             0.5555555555555556,
             "#d8576b"
            ],
            [
             0.6666666666666666,
             "#ed7953"
            ],
            [
             0.7777777777777778,
             "#fb9f3a"
            ],
            [
             0.8888888888888888,
             "#fdca26"
            ],
            [
             1,
             "#f0f921"
            ]
           ],
           "sequentialminus": [
            [
             0,
             "#0d0887"
            ],
            [
             0.1111111111111111,
             "#46039f"
            ],
            [
             0.2222222222222222,
             "#7201a8"
            ],
            [
             0.3333333333333333,
             "#9c179e"
            ],
            [
             0.4444444444444444,
             "#bd3786"
            ],
            [
             0.5555555555555556,
             "#d8576b"
            ],
            [
             0.6666666666666666,
             "#ed7953"
            ],
            [
             0.7777777777777778,
             "#fb9f3a"
            ],
            [
             0.8888888888888888,
             "#fdca26"
            ],
            [
             1,
             "#f0f921"
            ]
           ]
          },
          "colorway": [
           "#636efa",
           "#EF553B",
           "#00cc96",
           "#ab63fa",
           "#FFA15A",
           "#19d3f3",
           "#FF6692",
           "#B6E880",
           "#FF97FF",
           "#FECB52"
          ],
          "font": {
           "color": "#2a3f5f"
          },
          "geo": {
           "bgcolor": "white",
           "lakecolor": "white",
           "landcolor": "#E5ECF6",
           "showlakes": true,
           "showland": true,
           "subunitcolor": "white"
          },
          "hoverlabel": {
           "align": "left"
          },
          "hovermode": "closest",
          "mapbox": {
           "style": "light"
          },
          "paper_bgcolor": "white",
          "plot_bgcolor": "#E5ECF6",
          "polar": {
           "angularaxis": {
            "gridcolor": "white",
            "linecolor": "white",
            "ticks": ""
           },
           "bgcolor": "#E5ECF6",
           "radialaxis": {
            "gridcolor": "white",
            "linecolor": "white",
            "ticks": ""
           }
          },
          "scene": {
           "xaxis": {
            "backgroundcolor": "#E5ECF6",
            "gridcolor": "white",
            "gridwidth": 2,
            "linecolor": "white",
            "showbackground": true,
            "ticks": "",
            "zerolinecolor": "white"
           },
           "yaxis": {
            "backgroundcolor": "#E5ECF6",
            "gridcolor": "white",
            "gridwidth": 2,
            "linecolor": "white",
            "showbackground": true,
            "ticks": "",
            "zerolinecolor": "white"
           },
           "zaxis": {
            "backgroundcolor": "#E5ECF6",
            "gridcolor": "white",
            "gridwidth": 2,
            "linecolor": "white",
            "showbackground": true,
            "ticks": "",
            "zerolinecolor": "white"
           }
          },
          "shapedefaults": {
           "line": {
            "color": "#2a3f5f"
           }
          },
          "ternary": {
           "aaxis": {
            "gridcolor": "white",
            "linecolor": "white",
            "ticks": ""
           },
           "baxis": {
            "gridcolor": "white",
            "linecolor": "white",
            "ticks": ""
           },
           "bgcolor": "#E5ECF6",
           "caxis": {
            "gridcolor": "white",
            "linecolor": "white",
            "ticks": ""
           }
          },
          "title": {
           "x": 0.05
          },
          "xaxis": {
           "automargin": true,
           "gridcolor": "white",
           "linecolor": "white",
           "ticks": "",
           "title": {
            "standoff": 15
           },
           "zerolinecolor": "white",
           "zerolinewidth": 2
          },
          "yaxis": {
           "automargin": true,
           "gridcolor": "white",
           "linecolor": "white",
           "ticks": "",
           "title": {
            "standoff": 15
           },
           "zerolinecolor": "white",
           "zerolinewidth": 2
          }
         }
        },
        "title": {
         "text": "EDR Class Distribution in Each Batch - Task ID 4"
        },
        "xaxis": {
         "anchor": "y",
         "domain": [
          0,
          1
         ],
         "title": {
          "text": "Classes"
         }
        },
        "yaxis": {
         "anchor": "x",
         "autorange": "reversed",
         "domain": [
          0,
          1
         ],
         "title": {
          "text": "Batches"
         }
        }
       }
      }
     },
     "metadata": {},
     "output_type": "display_data"
    }
   ],
   "source": [
    "import numpy as np\n",
    "import plotly.express as px\n",
    "\n",
    "task_id = 4\n",
    "\n",
    "df = pd.read_csv(\"../results_plot_SplitCIFAR100_['EDR', 'ER']_False_[]_32_10_0_50_2/train_batches_y_ExperienceDelayReplay.log\", \n",
    "                 names=[\"task_id\", \"class_0\", \"class_1\", \"class_2\", \"class_3\", \"class_4\", \"class_5\", \"class_6\", \n",
    "                            \"class_7\", \"class_8\", \"class_9\", \"class_10\", \"class_11\", \"class_12\", \"class_13\", \"class_14\", \"class_15\", \"class_16\",\n",
    "                            \"class_17\", \"class_18\", \"class_19\", \"class_20\", \"class_21\", \"class_22\", \"class_23\", \"class_24\", \"class_25\", \"class_26\",\n",
    "                            \"class_27\", \"class_28\", \"class_29\", \"class_30\", \"class_31\", \"class_32\", \"class_33\", \"class_34\", \"class_35\", \"class_36\",\n",
    "                            \"class_37\", \"class_38\", \"class_39\", \"class_40\", \"class_41\", \"class_42\", \"class_43\", \"class_44\", \"class_45\", \"class_46\",\n",
    "                            \"class_47\", \"class_48\", \"class_49\", \"class_50\", \"class_51\", \"class_52\", \"class_53\", \"class_54\", \"class_55\", \"class_56\",\n",
    "                            \"class_57\", \"class_58\", \"class_59\", \"class_60\", \"class_61\", \"class_62\", \"class_63\", \"class_64\", \"class_65\", \"class_66\",\n",
    "                            \"class_67\", \"class_68\", \"class_69\", \"class_70\", \"class_71\", \"class_72\", \"class_73\", \"class_74\", \"class_75\", \"class_76\",\n",
    "                            \"class_77\", \"class_78\", \"class_79\", \"class_80\", \"class_81\", \"class_82\", \"class_83\", \"class_84\", \"class_85\", \"class_86\",\n",
    "                            \"class_87\", \"class_88\", \"class_89\", \"class_90\", \"class_91\", \"class_92\", \"class_93\", \"class_94\", \"class_95\", \"class_96\",\n",
    "                            \"class_97\", \"class_98\", \"class_99\"],)\n",
    "\n",
    "\n",
    "df_plot = df.loc[df.task_id == task_id].reset_index(drop=True).copy()\n",
    "# df_plot = pd.concat([df_plot[:10], df_plot[80:90], df_plot[115:125]], ignore_index=True)\n",
    "df_plot.drop(columns=[\"task_id\"], inplace=True)\n",
    "\n",
    "# Criação do heatmap interativo (classe no eixo Y, batch no eixo X)\n",
    "fig = px.imshow(\n",
    "    df_plot,\n",
    "    labels=dict(x=\"Classes\", y=\"Batches\", color=\"Number of Instances\"),\n",
    "    # x=[f\"Batch {i}\" for i in range(1, num_batches+1)],\n",
    "    # y=[f\"Classe {i}\" for i in range(num_classes)],\n",
    "    aspect=\"auto\",\n",
    "    color_continuous_scale=\"Viridis\",\n",
    "    origin=\"upper\",  # garante que Classe 0 fique em cima\n",
    "    # text_auto=True\n",
    ")\n",
    "\n",
    "fig.update_layout(\n",
    "    title=\"EDR Class Distribution in Each Batch - Task ID {}\".format(task_id),\n",
    "    xaxis_title=\"Classes\",\n",
    "    yaxis_title=\"Batches\",\n",
    "    height=900,\n",
    ")\n",
    "\n",
    "fig.show()\n"
   ]
  },
  {
   "cell_type": "code",
   "execution_count": 25,
   "id": "65f2c510",
   "metadata": {},
   "outputs": [
    {
     "data": {
      "application/vnd.plotly.v1+json": {
       "config": {
        "plotlyServerURL": "https://plot.ly"
       },
       "data": [
        {
         "coloraxis": "coloraxis",
         "hovertemplate": "Classes: %{x}<br>Batches: %{y}<br>Number of Instances: %{z}<extra></extra>",
         "name": "0",
         "type": "heatmap",
         "x": [
          "class_0",
          "class_1",
          "class_2",
          "class_3",
          "class_4",
          "class_5",
          "class_6",
          "class_7",
          "class_8",
          "class_9",
          "class_10",
          "class_11",
          "class_12",
          "class_13",
          "class_14",
          "class_15",
          "class_16",
          "class_17",
          "class_18",
          "class_19",
          "class_20",
          "class_21",
          "class_22",
          "class_23",
          "class_24",
          "class_25",
          "class_26",
          "class_27",
          "class_28",
          "class_29",
          "class_30",
          "class_31",
          "class_32",
          "class_33",
          "class_34",
          "class_35",
          "class_36",
          "class_37",
          "class_38",
          "class_39",
          "class_40",
          "class_41",
          "class_42",
          "class_43",
          "class_44",
          "class_45",
          "class_46",
          "class_47",
          "class_48",
          "class_49",
          "class_50",
          "class_51",
          "class_52",
          "class_53",
          "class_54",
          "class_55",
          "class_56",
          "class_57",
          "class_58",
          "class_59",
          "class_60",
          "class_61",
          "class_62",
          "class_63",
          "class_64",
          "class_65",
          "class_66",
          "class_67",
          "class_68",
          "class_69",
          "class_70",
          "class_71",
          "class_72",
          "class_73",
          "class_74",
          "class_75",
          "class_76",
          "class_77",
          "class_78",
          "class_79",
          "class_80",
          "class_81",
          "class_82",
          "class_83",
          "class_84",
          "class_85",
          "class_86",
          "class_87",
          "class_88",
          "class_89",
          "class_90",
          "class_91",
          "class_92",
          "class_93",
          "class_94",
          "class_95",
          "class_96",
          "class_97",
          "class_98",
          "class_99"
         ],
         "xaxis": "x",
         "y": {
          "bdata": "AAECAwQFBgcICQoLDA0ODxAREhMUFRYXGBkaGxwdHh8gISIjJCUmJygpKissLS4vMDEyMzQ1Njc4OTo7PD0+P0BBQkNERUZHSElKS0xNTg==",
          "dtype": "i1"
         },
         "yaxis": "y",
         "z": {
          "bdata": "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",
          "dtype": "i1",
          "shape": "79, 100"
         }
        }
       ],
       "layout": {
        "coloraxis": {
         "colorbar": {
          "title": {
           "text": "Number of Instances"
          }
         },
         "colorscale": [
          [
           0,
           "#440154"
          ],
          [
           0.1111111111111111,
           "#482878"
          ],
          [
           0.2222222222222222,
           "#3e4989"
          ],
          [
           0.3333333333333333,
           "#31688e"
          ],
          [
           0.4444444444444444,
           "#26828e"
          ],
          [
           0.5555555555555556,
           "#1f9e89"
          ],
          [
           0.6666666666666666,
           "#35b779"
          ],
          [
           0.7777777777777778,
           "#6ece58"
          ],
          [
           0.8888888888888888,
           "#b5de2b"
          ],
          [
           1,
           "#fde725"
          ]
         ]
        },
        "height": 1000,
        "margin": {
         "t": 60
        },
        "template": {
         "data": {
          "bar": [
           {
            "error_x": {
             "color": "#2a3f5f"
            },
            "error_y": {
             "color": "#2a3f5f"
            },
            "marker": {
             "line": {
              "color": "#E5ECF6",
              "width": 0.5
             },
             "pattern": {
              "fillmode": "overlay",
              "size": 10,
              "solidity": 0.2
             }
            },
            "type": "bar"
           }
          ],
          "barpolar": [
           {
            "marker": {
             "line": {
              "color": "#E5ECF6",
              "width": 0.5
             },
             "pattern": {
              "fillmode": "overlay",
              "size": 10,
              "solidity": 0.2
             }
            },
            "type": "barpolar"
           }
          ],
          "carpet": [
           {
            "aaxis": {
             "endlinecolor": "#2a3f5f",
             "gridcolor": "white",
             "linecolor": "white",
             "minorgridcolor": "white",
             "startlinecolor": "#2a3f5f"
            },
            "baxis": {
             "endlinecolor": "#2a3f5f",
             "gridcolor": "white",
             "linecolor": "white",
             "minorgridcolor": "white",
             "startlinecolor": "#2a3f5f"
            },
            "type": "carpet"
           }
          ],
          "choropleth": [
           {
            "colorbar": {
             "outlinewidth": 0,
             "ticks": ""
            },
            "type": "choropleth"
           }
          ],
          "contour": [
           {
            "colorbar": {
             "outlinewidth": 0,
             "ticks": ""
            },
            "colorscale": [
             [
              0,
              "#0d0887"
             ],
             [
              0.1111111111111111,
              "#46039f"
             ],
             [
              0.2222222222222222,
              "#7201a8"
             ],
             [
              0.3333333333333333,
              "#9c179e"
             ],
             [
              0.4444444444444444,
              "#bd3786"
             ],
             [
              0.5555555555555556,
              "#d8576b"
             ],
             [
              0.6666666666666666,
              "#ed7953"
             ],
             [
              0.7777777777777778,
              "#fb9f3a"
             ],
             [
              0.8888888888888888,
              "#fdca26"
             ],
             [
              1,
              "#f0f921"
             ]
            ],
            "type": "contour"
           }
          ],
          "contourcarpet": [
           {
            "colorbar": {
             "outlinewidth": 0,
             "ticks": ""
            },
            "type": "contourcarpet"
           }
          ],
          "heatmap": [
           {
            "colorbar": {
             "outlinewidth": 0,
             "ticks": ""
            },
            "colorscale": [
             [
              0,
              "#0d0887"
             ],
             [
              0.1111111111111111,
              "#46039f"
             ],
             [
              0.2222222222222222,
              "#7201a8"
             ],
             [
              0.3333333333333333,
              "#9c179e"
             ],
             [
              0.4444444444444444,
              "#bd3786"
             ],
             [
              0.5555555555555556,
              "#d8576b"
             ],
             [
              0.6666666666666666,
              "#ed7953"
             ],
             [
              0.7777777777777778,
              "#fb9f3a"
             ],
             [
              0.8888888888888888,
              "#fdca26"
             ],
             [
              1,
              "#f0f921"
             ]
            ],
            "type": "heatmap"
           }
          ],
          "histogram": [
           {
            "marker": {
             "pattern": {
              "fillmode": "overlay",
              "size": 10,
              "solidity": 0.2
             }
            },
            "type": "histogram"
           }
          ],
          "histogram2d": [
           {
            "colorbar": {
             "outlinewidth": 0,
             "ticks": ""
            },
            "colorscale": [
             [
              0,
              "#0d0887"
             ],
             [
              0.1111111111111111,
              "#46039f"
             ],
             [
              0.2222222222222222,
              "#7201a8"
             ],
             [
              0.3333333333333333,
              "#9c179e"
             ],
             [
              0.4444444444444444,
              "#bd3786"
             ],
             [
              0.5555555555555556,
              "#d8576b"
             ],
             [
              0.6666666666666666,
              "#ed7953"
             ],
             [
              0.7777777777777778,
              "#fb9f3a"
             ],
             [
              0.8888888888888888,
              "#fdca26"
             ],
             [
              1,
              "#f0f921"
             ]
            ],
            "type": "histogram2d"
           }
          ],
          "histogram2dcontour": [
           {
            "colorbar": {
             "outlinewidth": 0,
             "ticks": ""
            },
            "colorscale": [
             [
              0,
              "#0d0887"
             ],
             [
              0.1111111111111111,
              "#46039f"
             ],
             [
              0.2222222222222222,
              "#7201a8"
             ],
             [
              0.3333333333333333,
              "#9c179e"
             ],
             [
              0.4444444444444444,
              "#bd3786"
             ],
             [
              0.5555555555555556,
              "#d8576b"
             ],
             [
              0.6666666666666666,
              "#ed7953"
             ],
             [
              0.7777777777777778,
              "#fb9f3a"
             ],
             [
              0.8888888888888888,
              "#fdca26"
             ],
             [
              1,
              "#f0f921"
             ]
            ],
            "type": "histogram2dcontour"
           }
          ],
          "mesh3d": [
           {
            "colorbar": {
             "outlinewidth": 0,
             "ticks": ""
            },
            "type": "mesh3d"
           }
          ],
          "parcoords": [
           {
            "line": {
             "colorbar": {
              "outlinewidth": 0,
              "ticks": ""
             }
            },
            "type": "parcoords"
           }
          ],
          "pie": [
           {
            "automargin": true,
            "type": "pie"
           }
          ],
          "scatter": [
           {
            "fillpattern": {
             "fillmode": "overlay",
             "size": 10,
             "solidity": 0.2
            },
            "type": "scatter"
           }
          ],
          "scatter3d": [
           {
            "line": {
             "colorbar": {
              "outlinewidth": 0,
              "ticks": ""
             }
            },
            "marker": {
             "colorbar": {
              "outlinewidth": 0,
              "ticks": ""
             }
            },
            "type": "scatter3d"
           }
          ],
          "scattercarpet": [
           {
            "marker": {
             "colorbar": {
              "outlinewidth": 0,
              "ticks": ""
             }
            },
            "type": "scattercarpet"
           }
          ],
          "scattergeo": [
           {
            "marker": {
             "colorbar": {
              "outlinewidth": 0,
              "ticks": ""
             }
            },
            "type": "scattergeo"
           }
          ],
          "scattergl": [
           {
            "marker": {
             "colorbar": {
              "outlinewidth": 0,
              "ticks": ""
             }
            },
            "type": "scattergl"
           }
          ],
          "scattermap": [
           {
            "marker": {
             "colorbar": {
              "outlinewidth": 0,
              "ticks": ""
             }
            },
            "type": "scattermap"
           }
          ],
          "scattermapbox": [
           {
            "marker": {
             "colorbar": {
              "outlinewidth": 0,
              "ticks": ""
             }
            },
            "type": "scattermapbox"
           }
          ],
          "scatterpolar": [
           {
            "marker": {
             "colorbar": {
              "outlinewidth": 0,
              "ticks": ""
             }
            },
            "type": "scatterpolar"
           }
          ],
          "scatterpolargl": [
           {
            "marker": {
             "colorbar": {
              "outlinewidth": 0,
              "ticks": ""
             }
            },
            "type": "scatterpolargl"
           }
          ],
          "scatterternary": [
           {
            "marker": {
             "colorbar": {
              "outlinewidth": 0,
              "ticks": ""
             }
            },
            "type": "scatterternary"
           }
          ],
          "surface": [
           {
            "colorbar": {
             "outlinewidth": 0,
             "ticks": ""
            },
            "colorscale": [
             [
              0,
              "#0d0887"
             ],
             [
              0.1111111111111111,
              "#46039f"
             ],
             [
              0.2222222222222222,
              "#7201a8"
             ],
             [
              0.3333333333333333,
              "#9c179e"
             ],
             [
              0.4444444444444444,
              "#bd3786"
             ],
             [
              0.5555555555555556,
              "#d8576b"
             ],
             [
              0.6666666666666666,
              "#ed7953"
             ],
             [
              0.7777777777777778,
              "#fb9f3a"
             ],
             [
              0.8888888888888888,
              "#fdca26"
             ],
             [
              1,
              "#f0f921"
             ]
            ],
            "type": "surface"
           }
          ],
          "table": [
           {
            "cells": {
             "fill": {
              "color": "#EBF0F8"
             },
             "line": {
              "color": "white"
             }
            },
            "header": {
             "fill": {
              "color": "#C8D4E3"
             },
             "line": {
              "color": "white"
             }
            },
            "type": "table"
           }
          ]
         },
         "layout": {
          "annotationdefaults": {
           "arrowcolor": "#2a3f5f",
           "arrowhead": 0,
           "arrowwidth": 1
          },
          "autotypenumbers": "strict",
          "coloraxis": {
           "colorbar": {
            "outlinewidth": 0,
            "ticks": ""
           }
          },
          "colorscale": {
           "diverging": [
            [
             0,
             "#8e0152"
            ],
            [
             0.1,
             "#c51b7d"
            ],
            [
             0.2,
             "#de77ae"
            ],
            [
             0.3,
             "#f1b6da"
            ],
            [
             0.4,
             "#fde0ef"
            ],
            [
             0.5,
             "#f7f7f7"
            ],
            [
             0.6,
             "#e6f5d0"
            ],
            [
             0.7,
             "#b8e186"
            ],
            [
             0.8,
             "#7fbc41"
            ],
            [
             0.9,
             "#4d9221"
            ],
            [
             1,
             "#276419"
            ]
           ],
           "sequential": [
            [
             0,
             "#0d0887"
            ],
            [
             0.1111111111111111,
             "#46039f"
            ],
            [
             0.2222222222222222,
             "#7201a8"
            ],
            [
             0.3333333333333333,
             "#9c179e"
            ],
            [
             0.4444444444444444,
             "#bd3786"
            ],
            [
             0.5555555555555556,
             "#d8576b"
            ],
            [
             0.6666666666666666,
             "#ed7953"
            ],
            [
             0.7777777777777778,
             "#fb9f3a"
            ],
            [
             0.8888888888888888,
             "#fdca26"
            ],
            [
             1,
             "#f0f921"
            ]
           ],
           "sequentialminus": [
            [
             0,
             "#0d0887"
            ],
            [
             0.1111111111111111,
             "#46039f"
            ],
            [
             0.2222222222222222,
             "#7201a8"
            ],
            [
             0.3333333333333333,
             "#9c179e"
            ],
            [
             0.4444444444444444,
             "#bd3786"
            ],
            [
             0.5555555555555556,
             "#d8576b"
            ],
            [
             0.6666666666666666,
             "#ed7953"
            ],
            [
             0.7777777777777778,
             "#fb9f3a"
            ],
            [
             0.8888888888888888,
             "#fdca26"
            ],
            [
             1,
             "#f0f921"
            ]
           ]
          },
          "colorway": [
           "#636efa",
           "#EF553B",
           "#00cc96",
           "#ab63fa",
           "#FFA15A",
           "#19d3f3",
           "#FF6692",
           "#B6E880",
           "#FF97FF",
           "#FECB52"
          ],
          "font": {
           "color": "#2a3f5f"
          },
          "geo": {
           "bgcolor": "white",
           "lakecolor": "white",
           "landcolor": "#E5ECF6",
           "showlakes": true,
           "showland": true,
           "subunitcolor": "white"
          },
          "hoverlabel": {
           "align": "left"
          },
          "hovermode": "closest",
          "mapbox": {
           "style": "light"
          },
          "paper_bgcolor": "white",
          "plot_bgcolor": "#E5ECF6",
          "polar": {
           "angularaxis": {
            "gridcolor": "white",
            "linecolor": "white",
            "ticks": ""
           },
           "bgcolor": "#E5ECF6",
           "radialaxis": {
            "gridcolor": "white",
            "linecolor": "white",
            "ticks": ""
           }
          },
          "scene": {
           "xaxis": {
            "backgroundcolor": "#E5ECF6",
            "gridcolor": "white",
            "gridwidth": 2,
            "linecolor": "white",
            "showbackground": true,
            "ticks": "",
            "zerolinecolor": "white"
           },
           "yaxis": {
            "backgroundcolor": "#E5ECF6",
            "gridcolor": "white",
            "gridwidth": 2,
            "linecolor": "white",
            "showbackground": true,
            "ticks": "",
            "zerolinecolor": "white"
           },
           "zaxis": {
            "backgroundcolor": "#E5ECF6",
            "gridcolor": "white",
            "gridwidth": 2,
            "linecolor": "white",
            "showbackground": true,
            "ticks": "",
            "zerolinecolor": "white"
           }
          },
          "shapedefaults": {
           "line": {
            "color": "#2a3f5f"
           }
          },
          "ternary": {
           "aaxis": {
            "gridcolor": "white",
            "linecolor": "white",
            "ticks": ""
           },
           "baxis": {
            "gridcolor": "white",
            "linecolor": "white",
            "ticks": ""
           },
           "bgcolor": "#E5ECF6",
           "caxis": {
            "gridcolor": "white",
            "linecolor": "white",
            "ticks": ""
           }
          },
          "title": {
           "x": 0.05
          },
          "xaxis": {
           "automargin": true,
           "gridcolor": "white",
           "linecolor": "white",
           "ticks": "",
           "title": {
            "standoff": 15
           },
           "zerolinecolor": "white",
           "zerolinewidth": 2
          },
          "yaxis": {
           "automargin": true,
           "gridcolor": "white",
           "linecolor": "white",
           "ticks": "",
           "title": {
            "standoff": 15
           },
           "zerolinecolor": "white",
           "zerolinewidth": 2
          }
         }
        },
        "title": {
         "text": "ER Class Distribution in Each Batch - Task ID 4"
        },
        "xaxis": {
         "anchor": "y",
         "domain": [
          0,
          1
         ],
         "title": {
          "text": "Classes"
         }
        },
        "yaxis": {
         "anchor": "x",
         "autorange": "reversed",
         "domain": [
          0,
          1
         ],
         "title": {
          "text": "Batches"
         }
        }
       }
      }
     },
     "metadata": {},
     "output_type": "display_data"
    }
   ],
   "source": [
    "import numpy as np\n",
    "import plotly.express as px\n",
    "\n",
    "task_id = 4\n",
    "\n",
    "df = pd.read_csv(\"../results_plot_SplitCIFAR100_['EDR', 'ER']_False_[]_32_10_0_50_2/train_batches_y_ExperienceReplay.log\", \n",
    "                 names=[\"task_id\", \"class_0\", \"class_1\", \"class_2\", \"class_3\", \"class_4\", \"class_5\", \"class_6\", \n",
    "                            \"class_7\", \"class_8\", \"class_9\", \"class_10\", \"class_11\", \"class_12\", \"class_13\", \"class_14\", \"class_15\", \"class_16\",\n",
    "                            \"class_17\", \"class_18\", \"class_19\", \"class_20\", \"class_21\", \"class_22\", \"class_23\", \"class_24\", \"class_25\", \"class_26\",\n",
    "                            \"class_27\", \"class_28\", \"class_29\", \"class_30\", \"class_31\", \"class_32\", \"class_33\", \"class_34\", \"class_35\", \"class_36\",\n",
    "                            \"class_37\", \"class_38\", \"class_39\", \"class_40\", \"class_41\", \"class_42\", \"class_43\", \"class_44\", \"class_45\", \"class_46\",\n",
    "                            \"class_47\", \"class_48\", \"class_49\", \"class_50\", \"class_51\", \"class_52\", \"class_53\", \"class_54\", \"class_55\", \"class_56\",\n",
    "                            \"class_57\", \"class_58\", \"class_59\", \"class_60\", \"class_61\", \"class_62\", \"class_63\", \"class_64\", \"class_65\", \"class_66\",\n",
    "                            \"class_67\", \"class_68\", \"class_69\", \"class_70\", \"class_71\", \"class_72\", \"class_73\", \"class_74\", \"class_75\", \"class_76\",\n",
    "                            \"class_77\", \"class_78\", \"class_79\", \"class_80\", \"class_81\", \"class_82\", \"class_83\", \"class_84\", \"class_85\", \"class_86\",\n",
    "                            \"class_87\", \"class_88\", \"class_89\", \"class_90\", \"class_91\", \"class_92\", \"class_93\", \"class_94\", \"class_95\", \"class_96\",\n",
    "                            \"class_97\", \"class_98\", \"class_99\"],)\n",
    "\n",
    "df_plot = df.loc[df.task_id == task_id].reset_index(drop=True).copy()\n",
    "df_plot.drop(columns=[\"task_id\"], inplace=True)\n",
    "\n",
    "# Criação do heatmap interativo (classe no eixo Y, batch no eixo X)\n",
    "fig = px.imshow(\n",
    "    df_plot,\n",
    "    labels=dict(x=\"Classes\", y=\"Batches\", color=\"Number of Instances\"),\n",
    "    # x=[f\"Batch {i}\" for i in range(1, num_batches+1)],\n",
    "    # y=[f\"Classe {i}\" for i in range(num_classes)],\n",
    "    aspect=\"auto\",\n",
    "    color_continuous_scale=\"Viridis\",\n",
    "    origin=\"upper\",  # garante que Classe 0 fique em cima\n",
    "    # text_auto=True\n",
    ")\n",
    "\n",
    "fig.update_layout(\n",
    "    title=\"ER Class Distribution in Each Batch - Task ID {}\".format(task_id),\n",
    "    xaxis_title=\"Classes\",\n",
    "    yaxis_title=\"Batches\",\n",
    "    height=1000,\n",
    ")\n",
    "\n",
    "fig.show()"
   ]
  },
  {
   "cell_type": "markdown",
   "id": "ce122b2a",
   "metadata": {},
   "source": [
    "\n",
    "#### Task 5\n",
    "#### Classes 2, 3, 68, 70, 6, 72, 60, 49, 55, 28"
   ]
  },
  {
   "cell_type": "code",
   "execution_count": 26,
   "id": "dba8d862",
   "metadata": {},
   "outputs": [
    {
     "data": {
      "application/vnd.plotly.v1+json": {
       "config": {
        "plotlyServerURL": "https://plot.ly"
       },
       "data": [
        {
         "coloraxis": "coloraxis",
         "hovertemplate": "Classes: %{x}<br>Batches: %{y}<br>Number of Instances: %{z}<extra></extra>",
         "name": "0",
         "type": "heatmap",
         "x": [
          "class_0",
          "class_1",
          "class_2",
          "class_3",
          "class_4",
          "class_5",
          "class_6",
          "class_7",
          "class_8",
          "class_9",
          "class_10",
          "class_11",
          "class_12",
          "class_13",
          "class_14",
          "class_15",
          "class_16",
          "class_17",
          "class_18",
          "class_19",
          "class_20",
          "class_21",
          "class_22",
          "class_23",
          "class_24",
          "class_25",
          "class_26",
          "class_27",
          "class_28",
          "class_29",
          "class_30",
          "class_31",
          "class_32",
          "class_33",
          "class_34",
          "class_35",
          "class_36",
          "class_37",
          "class_38",
          "class_39",
          "class_40",
          "class_41",
          "class_42",
          "class_43",
          "class_44",
          "class_45",
          "class_46",
          "class_47",
          "class_48",
          "class_49",
          "class_50",
          "class_51",
          "class_52",
          "class_53",
          "class_54",
          "class_55",
          "class_56",
          "class_57",
          "class_58",
          "class_59",
          "class_60",
          "class_61",
          "class_62",
          "class_63",
          "class_64",
          "class_65",
          "class_66",
          "class_67",
          "class_68",
          "class_69",
          "class_70",
          "class_71",
          "class_72",
          "class_73",
          "class_74",
          "class_75",
          "class_76",
          "class_77",
          "class_78",
          "class_79",
          "class_80",
          "class_81",
          "class_82",
          "class_83",
          "class_84",
          "class_85",
          "class_86",
          "class_87",
          "class_88",
          "class_89",
          "class_90",
          "class_91",
          "class_92",
          "class_93",
          "class_94",
          "class_95",
          "class_96",
          "class_97",
          "class_98",
          "class_99"
         ],
         "xaxis": "x",
         "y": {
          "bdata": "AAECAwQFBgcICQoLDA0ODxAREhMUFRYXGBkaGxwdHh8gISIjJCUmJygpKissLS4vMDEyMw==",
          "dtype": "i1"
         },
         "yaxis": "y",
         "z": {
          "bdata": "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",
          "dtype": "i1",
          "shape": "52, 100"
         }
        }
       ],
       "layout": {
        "coloraxis": {
         "colorbar": {
          "title": {
           "text": "Number of Instances"
          }
         },
         "colorscale": [
          [
           0,
           "#440154"
          ],
          [
           0.1111111111111111,
           "#482878"
          ],
          [
           0.2222222222222222,
           "#3e4989"
          ],
          [
           0.3333333333333333,
           "#31688e"
          ],
          [
           0.4444444444444444,
           "#26828e"
          ],
          [
           0.5555555555555556,
           "#1f9e89"
          ],
          [
           0.6666666666666666,
           "#35b779"
          ],
          [
           0.7777777777777778,
           "#6ece58"
          ],
          [
           0.8888888888888888,
           "#b5de2b"
          ],
          [
           1,
           "#fde725"
          ]
         ]
        },
        "height": 900,
        "margin": {
         "t": 60
        },
        "template": {
         "data": {
          "bar": [
           {
            "error_x": {
             "color": "#2a3f5f"
            },
            "error_y": {
             "color": "#2a3f5f"
            },
            "marker": {
             "line": {
              "color": "#E5ECF6",
              "width": 0.5
             },
             "pattern": {
              "fillmode": "overlay",
              "size": 10,
              "solidity": 0.2
             }
            },
            "type": "bar"
           }
          ],
          "barpolar": [
           {
            "marker": {
             "line": {
              "color": "#E5ECF6",
              "width": 0.5
             },
             "pattern": {
              "fillmode": "overlay",
              "size": 10,
              "solidity": 0.2
             }
            },
            "type": "barpolar"
           }
          ],
          "carpet": [
           {
            "aaxis": {
             "endlinecolor": "#2a3f5f",
             "gridcolor": "white",
             "linecolor": "white",
             "minorgridcolor": "white",
             "startlinecolor": "#2a3f5f"
            },
            "baxis": {
             "endlinecolor": "#2a3f5f",
             "gridcolor": "white",
             "linecolor": "white",
             "minorgridcolor": "white",
             "startlinecolor": "#2a3f5f"
            },
            "type": "carpet"
           }
          ],
          "choropleth": [
           {
            "colorbar": {
             "outlinewidth": 0,
             "ticks": ""
            },
            "type": "choropleth"
           }
          ],
          "contour": [
           {
            "colorbar": {
             "outlinewidth": 0,
             "ticks": ""
            },
            "colorscale": [
             [
              0,
              "#0d0887"
             ],
             [
              0.1111111111111111,
              "#46039f"
             ],
             [
              0.2222222222222222,
              "#7201a8"
             ],
             [
              0.3333333333333333,
              "#9c179e"
             ],
             [
              0.4444444444444444,
              "#bd3786"
             ],
             [
              0.5555555555555556,
              "#d8576b"
             ],
             [
              0.6666666666666666,
              "#ed7953"
             ],
             [
              0.7777777777777778,
              "#fb9f3a"
             ],
             [
              0.8888888888888888,
              "#fdca26"
             ],
             [
              1,
              "#f0f921"
             ]
            ],
            "type": "contour"
           }
          ],
          "contourcarpet": [
           {
            "colorbar": {
             "outlinewidth": 0,
             "ticks": ""
            },
            "type": "contourcarpet"
           }
          ],
          "heatmap": [
           {
            "colorbar": {
             "outlinewidth": 0,
             "ticks": ""
            },
            "colorscale": [
             [
              0,
              "#0d0887"
             ],
             [
              0.1111111111111111,
              "#46039f"
             ],
             [
              0.2222222222222222,
              "#7201a8"
             ],
             [
              0.3333333333333333,
              "#9c179e"
             ],
             [
              0.4444444444444444,
              "#bd3786"
             ],
             [
              0.5555555555555556,
              "#d8576b"
             ],
             [
              0.6666666666666666,
              "#ed7953"
             ],
             [
              0.7777777777777778,
              "#fb9f3a"
             ],
             [
              0.8888888888888888,
              "#fdca26"
             ],
             [
              1,
              "#f0f921"
             ]
            ],
            "type": "heatmap"
           }
          ],
          "histogram": [
           {
            "marker": {
             "pattern": {
              "fillmode": "overlay",
              "size": 10,
              "solidity": 0.2
             }
            },
            "type": "histogram"
           }
          ],
          "histogram2d": [
           {
            "colorbar": {
             "outlinewidth": 0,
             "ticks": ""
            },
            "colorscale": [
             [
              0,
              "#0d0887"
             ],
             [
              0.1111111111111111,
              "#46039f"
             ],
             [
              0.2222222222222222,
              "#7201a8"
             ],
             [
              0.3333333333333333,
              "#9c179e"
             ],
             [
              0.4444444444444444,
              "#bd3786"
             ],
             [
              0.5555555555555556,
              "#d8576b"
             ],
             [
              0.6666666666666666,
              "#ed7953"
             ],
             [
              0.7777777777777778,
              "#fb9f3a"
             ],
             [
              0.8888888888888888,
              "#fdca26"
             ],
             [
              1,
              "#f0f921"
             ]
            ],
            "type": "histogram2d"
           }
          ],
          "histogram2dcontour": [
           {
            "colorbar": {
             "outlinewidth": 0,
             "ticks": ""
            },
            "colorscale": [
             [
              0,
              "#0d0887"
             ],
             [
              0.1111111111111111,
              "#46039f"
             ],
             [
              0.2222222222222222,
              "#7201a8"
             ],
             [
              0.3333333333333333,
              "#9c179e"
             ],
             [
              0.4444444444444444,
              "#bd3786"
             ],
             [
              0.5555555555555556,
              "#d8576b"
             ],
             [
              0.6666666666666666,
              "#ed7953"
             ],
             [
              0.7777777777777778,
              "#fb9f3a"
             ],
             [
              0.8888888888888888,
              "#fdca26"
             ],
             [
              1,
              "#f0f921"
             ]
            ],
            "type": "histogram2dcontour"
           }
          ],
          "mesh3d": [
           {
            "colorbar": {
             "outlinewidth": 0,
             "ticks": ""
            },
            "type": "mesh3d"
           }
          ],
          "parcoords": [
           {
            "line": {
             "colorbar": {
              "outlinewidth": 0,
              "ticks": ""
             }
            },
            "type": "parcoords"
           }
          ],
          "pie": [
           {
            "automargin": true,
            "type": "pie"
           }
          ],
          "scatter": [
           {
            "fillpattern": {
             "fillmode": "overlay",
             "size": 10,
             "solidity": 0.2
            },
            "type": "scatter"
           }
          ],
          "scatter3d": [
           {
            "line": {
             "colorbar": {
              "outlinewidth": 0,
              "ticks": ""
             }
            },
            "marker": {
             "colorbar": {
              "outlinewidth": 0,
              "ticks": ""
             }
            },
            "type": "scatter3d"
           }
          ],
          "scattercarpet": [
           {
            "marker": {
             "colorbar": {
              "outlinewidth": 0,
              "ticks": ""
             }
            },
            "type": "scattercarpet"
           }
          ],
          "scattergeo": [
           {
            "marker": {
             "colorbar": {
              "outlinewidth": 0,
              "ticks": ""
             }
            },
            "type": "scattergeo"
           }
          ],
          "scattergl": [
           {
            "marker": {
             "colorbar": {
              "outlinewidth": 0,
              "ticks": ""
             }
            },
            "type": "scattergl"
           }
          ],
          "scattermap": [
           {
            "marker": {
             "colorbar": {
              "outlinewidth": 0,
              "ticks": ""
             }
            },
            "type": "scattermap"
           }
          ],
          "scattermapbox": [
           {
            "marker": {
             "colorbar": {
              "outlinewidth": 0,
              "ticks": ""
             }
            },
            "type": "scattermapbox"
           }
          ],
          "scatterpolar": [
           {
            "marker": {
             "colorbar": {
              "outlinewidth": 0,
              "ticks": ""
             }
            },
            "type": "scatterpolar"
           }
          ],
          "scatterpolargl": [
           {
            "marker": {
             "colorbar": {
              "outlinewidth": 0,
              "ticks": ""
             }
            },
            "type": "scatterpolargl"
           }
          ],
          "scatterternary": [
           {
            "marker": {
             "colorbar": {
              "outlinewidth": 0,
              "ticks": ""
             }
            },
            "type": "scatterternary"
           }
          ],
          "surface": [
           {
            "colorbar": {
             "outlinewidth": 0,
             "ticks": ""
            },
            "colorscale": [
             [
              0,
              "#0d0887"
             ],
             [
              0.1111111111111111,
              "#46039f"
             ],
             [
              0.2222222222222222,
              "#7201a8"
             ],
             [
              0.3333333333333333,
              "#9c179e"
             ],
             [
              0.4444444444444444,
              "#bd3786"
             ],
             [
              0.5555555555555556,
              "#d8576b"
             ],
             [
              0.6666666666666666,
              "#ed7953"
             ],
             [
              0.7777777777777778,
              "#fb9f3a"
             ],
             [
              0.8888888888888888,
              "#fdca26"
             ],
             [
              1,
              "#f0f921"
             ]
            ],
            "type": "surface"
           }
          ],
          "table": [
           {
            "cells": {
             "fill": {
              "color": "#EBF0F8"
             },
             "line": {
              "color": "white"
             }
            },
            "header": {
             "fill": {
              "color": "#C8D4E3"
             },
             "line": {
              "color": "white"
             }
            },
            "type": "table"
           }
          ]
         },
         "layout": {
          "annotationdefaults": {
           "arrowcolor": "#2a3f5f",
           "arrowhead": 0,
           "arrowwidth": 1
          },
          "autotypenumbers": "strict",
          "coloraxis": {
           "colorbar": {
            "outlinewidth": 0,
            "ticks": ""
           }
          },
          "colorscale": {
           "diverging": [
            [
             0,
             "#8e0152"
            ],
            [
             0.1,
             "#c51b7d"
            ],
            [
             0.2,
             "#de77ae"
            ],
            [
             0.3,
             "#f1b6da"
            ],
            [
             0.4,
             "#fde0ef"
            ],
            [
             0.5,
             "#f7f7f7"
            ],
            [
             0.6,
             "#e6f5d0"
            ],
            [
             0.7,
             "#b8e186"
            ],
            [
             0.8,
             "#7fbc41"
            ],
            [
             0.9,
             "#4d9221"
            ],
            [
             1,
             "#276419"
            ]
           ],
           "sequential": [
            [
             0,
             "#0d0887"
            ],
            [
             0.1111111111111111,
             "#46039f"
            ],
            [
             0.2222222222222222,
             "#7201a8"
            ],
            [
             0.3333333333333333,
             "#9c179e"
            ],
            [
             0.4444444444444444,
             "#bd3786"
            ],
            [
             0.5555555555555556,
             "#d8576b"
            ],
            [
             0.6666666666666666,
             "#ed7953"
            ],
            [
             0.7777777777777778,
             "#fb9f3a"
            ],
            [
             0.8888888888888888,
             "#fdca26"
            ],
            [
             1,
             "#f0f921"
            ]
           ],
           "sequentialminus": [
            [
             0,
             "#0d0887"
            ],
            [
             0.1111111111111111,
             "#46039f"
            ],
            [
             0.2222222222222222,
             "#7201a8"
            ],
            [
             0.3333333333333333,
             "#9c179e"
            ],
            [
             0.4444444444444444,
             "#bd3786"
            ],
            [
             0.5555555555555556,
             "#d8576b"
            ],
            [
             0.6666666666666666,
             "#ed7953"
            ],
            [
             0.7777777777777778,
             "#fb9f3a"
            ],
            [
             0.8888888888888888,
             "#fdca26"
            ],
            [
             1,
             "#f0f921"
            ]
           ]
          },
          "colorway": [
           "#636efa",
           "#EF553B",
           "#00cc96",
           "#ab63fa",
           "#FFA15A",
           "#19d3f3",
           "#FF6692",
           "#B6E880",
           "#FF97FF",
           "#FECB52"
          ],
          "font": {
           "color": "#2a3f5f"
          },
          "geo": {
           "bgcolor": "white",
           "lakecolor": "white",
           "landcolor": "#E5ECF6",
           "showlakes": true,
           "showland": true,
           "subunitcolor": "white"
          },
          "hoverlabel": {
           "align": "left"
          },
          "hovermode": "closest",
          "mapbox": {
           "style": "light"
          },
          "paper_bgcolor": "white",
          "plot_bgcolor": "#E5ECF6",
          "polar": {
           "angularaxis": {
            "gridcolor": "white",
            "linecolor": "white",
            "ticks": ""
           },
           "bgcolor": "#E5ECF6",
           "radialaxis": {
            "gridcolor": "white",
            "linecolor": "white",
            "ticks": ""
           }
          },
          "scene": {
           "xaxis": {
            "backgroundcolor": "#E5ECF6",
            "gridcolor": "white",
            "gridwidth": 2,
            "linecolor": "white",
            "showbackground": true,
            "ticks": "",
            "zerolinecolor": "white"
           },
           "yaxis": {
            "backgroundcolor": "#E5ECF6",
            "gridcolor": "white",
            "gridwidth": 2,
            "linecolor": "white",
            "showbackground": true,
            "ticks": "",
            "zerolinecolor": "white"
           },
           "zaxis": {
            "backgroundcolor": "#E5ECF6",
            "gridcolor": "white",
            "gridwidth": 2,
            "linecolor": "white",
            "showbackground": true,
            "ticks": "",
            "zerolinecolor": "white"
           }
          },
          "shapedefaults": {
           "line": {
            "color": "#2a3f5f"
           }
          },
          "ternary": {
           "aaxis": {
            "gridcolor": "white",
            "linecolor": "white",
            "ticks": ""
           },
           "baxis": {
            "gridcolor": "white",
            "linecolor": "white",
            "ticks": ""
           },
           "bgcolor": "#E5ECF6",
           "caxis": {
            "gridcolor": "white",
            "linecolor": "white",
            "ticks": ""
           }
          },
          "title": {
           "x": 0.05
          },
          "xaxis": {
           "automargin": true,
           "gridcolor": "white",
           "linecolor": "white",
           "ticks": "",
           "title": {
            "standoff": 15
           },
           "zerolinecolor": "white",
           "zerolinewidth": 2
          },
          "yaxis": {
           "automargin": true,
           "gridcolor": "white",
           "linecolor": "white",
           "ticks": "",
           "title": {
            "standoff": 15
           },
           "zerolinecolor": "white",
           "zerolinewidth": 2
          }
         }
        },
        "title": {
         "text": "EDR Class Distribution in Each Batch - Task ID 5"
        },
        "xaxis": {
         "anchor": "y",
         "domain": [
          0,
          1
         ],
         "title": {
          "text": "Classes"
         }
        },
        "yaxis": {
         "anchor": "x",
         "autorange": "reversed",
         "domain": [
          0,
          1
         ],
         "title": {
          "text": "Batches"
         }
        }
       }
      }
     },
     "metadata": {},
     "output_type": "display_data"
    }
   ],
   "source": [
    "import numpy as np\n",
    "import plotly.express as px\n",
    "\n",
    "task_id = 5\n",
    "\n",
    "df = pd.read_csv(\"../results_plot_SplitCIFAR100_['EDR', 'ER']_False_[]_32_10_0_50_2/train_batches_y_ExperienceDelayReplay.log\", \n",
    "                 names=[\"task_id\", \"class_0\", \"class_1\", \"class_2\", \"class_3\", \"class_4\", \"class_5\", \"class_6\", \n",
    "                            \"class_7\", \"class_8\", \"class_9\", \"class_10\", \"class_11\", \"class_12\", \"class_13\", \"class_14\", \"class_15\", \"class_16\",\n",
    "                            \"class_17\", \"class_18\", \"class_19\", \"class_20\", \"class_21\", \"class_22\", \"class_23\", \"class_24\", \"class_25\", \"class_26\",\n",
    "                            \"class_27\", \"class_28\", \"class_29\", \"class_30\", \"class_31\", \"class_32\", \"class_33\", \"class_34\", \"class_35\", \"class_36\",\n",
    "                            \"class_37\", \"class_38\", \"class_39\", \"class_40\", \"class_41\", \"class_42\", \"class_43\", \"class_44\", \"class_45\", \"class_46\",\n",
    "                            \"class_47\", \"class_48\", \"class_49\", \"class_50\", \"class_51\", \"class_52\", \"class_53\", \"class_54\", \"class_55\", \"class_56\",\n",
    "                            \"class_57\", \"class_58\", \"class_59\", \"class_60\", \"class_61\", \"class_62\", \"class_63\", \"class_64\", \"class_65\", \"class_66\",\n",
    "                            \"class_67\", \"class_68\", \"class_69\", \"class_70\", \"class_71\", \"class_72\", \"class_73\", \"class_74\", \"class_75\", \"class_76\",\n",
    "                            \"class_77\", \"class_78\", \"class_79\", \"class_80\", \"class_81\", \"class_82\", \"class_83\", \"class_84\", \"class_85\", \"class_86\",\n",
    "                            \"class_87\", \"class_88\", \"class_89\", \"class_90\", \"class_91\", \"class_92\", \"class_93\", \"class_94\", \"class_95\", \"class_96\",\n",
    "                            \"class_97\", \"class_98\", \"class_99\"],)\n",
    "\n",
    "\n",
    "df_plot = df.loc[df.task_id == task_id].reset_index(drop=True).copy()\n",
    "# df_plot = pd.concat([df_plot[:10], df_plot[80:90], df_plot[115:125]], ignore_index=True)\n",
    "df_plot.drop(columns=[\"task_id\"], inplace=True)\n",
    "\n",
    "# Criação do heatmap interativo (classe no eixo Y, batch no eixo X)\n",
    "fig = px.imshow(\n",
    "    df_plot,\n",
    "    labels=dict(x=\"Classes\", y=\"Batches\", color=\"Number of Instances\"),\n",
    "    # x=[f\"Batch {i}\" for i in range(1, num_batches+1)],\n",
    "    # y=[f\"Classe {i}\" for i in range(num_classes)],\n",
    "    aspect=\"auto\",\n",
    "    color_continuous_scale=\"Viridis\",\n",
    "    origin=\"upper\",  # garante que Classe 0 fique em cima\n",
    "    # text_auto=True\n",
    ")\n",
    "\n",
    "fig.update_layout(\n",
    "    title=\"EDR Class Distribution in Each Batch - Task ID {}\".format(task_id),\n",
    "    xaxis_title=\"Classes\",\n",
    "    yaxis_title=\"Batches\",\n",
    "    height=900,\n",
    ")\n",
    "\n",
    "fig.show()"
   ]
  },
  {
   "cell_type": "code",
   "execution_count": 27,
   "id": "0f0a1f9a",
   "metadata": {},
   "outputs": [
    {
     "data": {
      "application/vnd.plotly.v1+json": {
       "config": {
        "plotlyServerURL": "https://plot.ly"
       },
       "data": [
        {
         "coloraxis": "coloraxis",
         "hovertemplate": "Classes: %{x}<br>Batches: %{y}<br>Number of Instances: %{z}<extra></extra>",
         "name": "0",
         "type": "heatmap",
         "x": [
          "class_0",
          "class_1",
          "class_2",
          "class_3",
          "class_4",
          "class_5",
          "class_6",
          "class_7",
          "class_8",
          "class_9",
          "class_10",
          "class_11",
          "class_12",
          "class_13",
          "class_14",
          "class_15",
          "class_16",
          "class_17",
          "class_18",
          "class_19",
          "class_20",
          "class_21",
          "class_22",
          "class_23",
          "class_24",
          "class_25",
          "class_26",
          "class_27",
          "class_28",
          "class_29",
          "class_30",
          "class_31",
          "class_32",
          "class_33",
          "class_34",
          "class_35",
          "class_36",
          "class_37",
          "class_38",
          "class_39",
          "class_40",
          "class_41",
          "class_42",
          "class_43",
          "class_44",
          "class_45",
          "class_46",
          "class_47",
          "class_48",
          "class_49",
          "class_50",
          "class_51",
          "class_52",
          "class_53",
          "class_54",
          "class_55",
          "class_56",
          "class_57",
          "class_58",
          "class_59",
          "class_60",
          "class_61",
          "class_62",
          "class_63",
          "class_64",
          "class_65",
          "class_66",
          "class_67",
          "class_68",
          "class_69",
          "class_70",
          "class_71",
          "class_72",
          "class_73",
          "class_74",
          "class_75",
          "class_76",
          "class_77",
          "class_78",
          "class_79",
          "class_80",
          "class_81",
          "class_82",
          "class_83",
          "class_84",
          "class_85",
          "class_86",
          "class_87",
          "class_88",
          "class_89",
          "class_90",
          "class_91",
          "class_92",
          "class_93",
          "class_94",
          "class_95",
          "class_96",
          "class_97",
          "class_98",
          "class_99"
         ],
         "xaxis": "x",
         "y": {
          "bdata": "AAECAwQFBgcICQoLDA0ODxAREhMUFRYXGBkaGxwdHh8gISIjJCUmJygpKissLS4vMDEyMzQ1Njc4OTo7PD0+P0BBQkNERUZHSElKS0xN",
          "dtype": "i1"
         },
         "yaxis": "y",
         "z": {
          "bdata": "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",
          "dtype": "i1",
          "shape": "78, 100"
         }
        }
       ],
       "layout": {
        "coloraxis": {
         "colorbar": {
          "title": {
           "text": "Number of Instances"
          }
         },
         "colorscale": [
          [
           0,
           "#440154"
          ],
          [
           0.1111111111111111,
           "#482878"
          ],
          [
           0.2222222222222222,
           "#3e4989"
          ],
          [
           0.3333333333333333,
           "#31688e"
          ],
          [
           0.4444444444444444,
           "#26828e"
          ],
          [
           0.5555555555555556,
           "#1f9e89"
          ],
          [
           0.6666666666666666,
           "#35b779"
          ],
          [
           0.7777777777777778,
           "#6ece58"
          ],
          [
           0.8888888888888888,
           "#b5de2b"
          ],
          [
           1,
           "#fde725"
          ]
         ]
        },
        "height": 1000,
        "margin": {
         "t": 60
        },
        "template": {
         "data": {
          "bar": [
           {
            "error_x": {
             "color": "#2a3f5f"
            },
            "error_y": {
             "color": "#2a3f5f"
            },
            "marker": {
             "line": {
              "color": "#E5ECF6",
              "width": 0.5
             },
             "pattern": {
              "fillmode": "overlay",
              "size": 10,
              "solidity": 0.2
             }
            },
            "type": "bar"
           }
          ],
          "barpolar": [
           {
            "marker": {
             "line": {
              "color": "#E5ECF6",
              "width": 0.5
             },
             "pattern": {
              "fillmode": "overlay",
              "size": 10,
              "solidity": 0.2
             }
            },
            "type": "barpolar"
           }
          ],
          "carpet": [
           {
            "aaxis": {
             "endlinecolor": "#2a3f5f",
             "gridcolor": "white",
             "linecolor": "white",
             "minorgridcolor": "white",
             "startlinecolor": "#2a3f5f"
            },
            "baxis": {
             "endlinecolor": "#2a3f5f",
             "gridcolor": "white",
             "linecolor": "white",
             "minorgridcolor": "white",
             "startlinecolor": "#2a3f5f"
            },
            "type": "carpet"
           }
          ],
          "choropleth": [
           {
            "colorbar": {
             "outlinewidth": 0,
             "ticks": ""
            },
            "type": "choropleth"
           }
          ],
          "contour": [
           {
            "colorbar": {
             "outlinewidth": 0,
             "ticks": ""
            },
            "colorscale": [
             [
              0,
              "#0d0887"
             ],
             [
              0.1111111111111111,
              "#46039f"
             ],
             [
              0.2222222222222222,
              "#7201a8"
             ],
             [
              0.3333333333333333,
              "#9c179e"
             ],
             [
              0.4444444444444444,
              "#bd3786"
             ],
             [
              0.5555555555555556,
              "#d8576b"
             ],
             [
              0.6666666666666666,
              "#ed7953"
             ],
             [
              0.7777777777777778,
              "#fb9f3a"
             ],
             [
              0.8888888888888888,
              "#fdca26"
             ],
             [
              1,
              "#f0f921"
             ]
            ],
            "type": "contour"
           }
          ],
          "contourcarpet": [
           {
            "colorbar": {
             "outlinewidth": 0,
             "ticks": ""
            },
            "type": "contourcarpet"
           }
          ],
          "heatmap": [
           {
            "colorbar": {
             "outlinewidth": 0,
             "ticks": ""
            },
            "colorscale": [
             [
              0,
              "#0d0887"
             ],
             [
              0.1111111111111111,
              "#46039f"
             ],
             [
              0.2222222222222222,
              "#7201a8"
             ],
             [
              0.3333333333333333,
              "#9c179e"
             ],
             [
              0.4444444444444444,
              "#bd3786"
             ],
             [
              0.5555555555555556,
              "#d8576b"
             ],
             [
              0.6666666666666666,
              "#ed7953"
             ],
             [
              0.7777777777777778,
              "#fb9f3a"
             ],
             [
              0.8888888888888888,
              "#fdca26"
             ],
             [
              1,
              "#f0f921"
             ]
            ],
            "type": "heatmap"
           }
          ],
          "histogram": [
           {
            "marker": {
             "pattern": {
              "fillmode": "overlay",
              "size": 10,
              "solidity": 0.2
             }
            },
            "type": "histogram"
           }
          ],
          "histogram2d": [
           {
            "colorbar": {
             "outlinewidth": 0,
             "ticks": ""
            },
            "colorscale": [
             [
              0,
              "#0d0887"
             ],
             [
              0.1111111111111111,
              "#46039f"
             ],
             [
              0.2222222222222222,
              "#7201a8"
             ],
             [
              0.3333333333333333,
              "#9c179e"
             ],
             [
              0.4444444444444444,
              "#bd3786"
             ],
             [
              0.5555555555555556,
              "#d8576b"
             ],
             [
              0.6666666666666666,
              "#ed7953"
             ],
             [
              0.7777777777777778,
              "#fb9f3a"
             ],
             [
              0.8888888888888888,
              "#fdca26"
             ],
             [
              1,
              "#f0f921"
             ]
            ],
            "type": "histogram2d"
           }
          ],
          "histogram2dcontour": [
           {
            "colorbar": {
             "outlinewidth": 0,
             "ticks": ""
            },
            "colorscale": [
             [
              0,
              "#0d0887"
             ],
             [
              0.1111111111111111,
              "#46039f"
             ],
             [
              0.2222222222222222,
              "#7201a8"
             ],
             [
              0.3333333333333333,
              "#9c179e"
             ],
             [
              0.4444444444444444,
              "#bd3786"
             ],
             [
              0.5555555555555556,
              "#d8576b"
             ],
             [
              0.6666666666666666,
              "#ed7953"
             ],
             [
              0.7777777777777778,
              "#fb9f3a"
             ],
             [
              0.8888888888888888,
              "#fdca26"
             ],
             [
              1,
              "#f0f921"
             ]
            ],
            "type": "histogram2dcontour"
           }
          ],
          "mesh3d": [
           {
            "colorbar": {
             "outlinewidth": 0,
             "ticks": ""
            },
            "type": "mesh3d"
           }
          ],
          "parcoords": [
           {
            "line": {
             "colorbar": {
              "outlinewidth": 0,
              "ticks": ""
             }
            },
            "type": "parcoords"
           }
          ],
          "pie": [
           {
            "automargin": true,
            "type": "pie"
           }
          ],
          "scatter": [
           {
            "fillpattern": {
             "fillmode": "overlay",
             "size": 10,
             "solidity": 0.2
            },
            "type": "scatter"
           }
          ],
          "scatter3d": [
           {
            "line": {
             "colorbar": {
              "outlinewidth": 0,
              "ticks": ""
             }
            },
            "marker": {
             "colorbar": {
              "outlinewidth": 0,
              "ticks": ""
             }
            },
            "type": "scatter3d"
           }
          ],
          "scattercarpet": [
           {
            "marker": {
             "colorbar": {
              "outlinewidth": 0,
              "ticks": ""
             }
            },
            "type": "scattercarpet"
           }
          ],
          "scattergeo": [
           {
            "marker": {
             "colorbar": {
              "outlinewidth": 0,
              "ticks": ""
             }
            },
            "type": "scattergeo"
           }
          ],
          "scattergl": [
           {
            "marker": {
             "colorbar": {
              "outlinewidth": 0,
              "ticks": ""
             }
            },
            "type": "scattergl"
           }
          ],
          "scattermap": [
           {
            "marker": {
             "colorbar": {
              "outlinewidth": 0,
              "ticks": ""
             }
            },
            "type": "scattermap"
           }
          ],
          "scattermapbox": [
           {
            "marker": {
             "colorbar": {
              "outlinewidth": 0,
              "ticks": ""
             }
            },
            "type": "scattermapbox"
           }
          ],
          "scatterpolar": [
           {
            "marker": {
             "colorbar": {
              "outlinewidth": 0,
              "ticks": ""
             }
            },
            "type": "scatterpolar"
           }
          ],
          "scatterpolargl": [
           {
            "marker": {
             "colorbar": {
              "outlinewidth": 0,
              "ticks": ""
             }
            },
            "type": "scatterpolargl"
           }
          ],
          "scatterternary": [
           {
            "marker": {
             "colorbar": {
              "outlinewidth": 0,
              "ticks": ""
             }
            },
            "type": "scatterternary"
           }
          ],
          "surface": [
           {
            "colorbar": {
             "outlinewidth": 0,
             "ticks": ""
            },
            "colorscale": [
             [
              0,
              "#0d0887"
             ],
             [
              0.1111111111111111,
              "#46039f"
             ],
             [
              0.2222222222222222,
              "#7201a8"
             ],
             [
              0.3333333333333333,
              "#9c179e"
             ],
             [
              0.4444444444444444,
              "#bd3786"
             ],
             [
              0.5555555555555556,
              "#d8576b"
             ],
             [
              0.6666666666666666,
              "#ed7953"
             ],
             [
              0.7777777777777778,
              "#fb9f3a"
             ],
             [
              0.8888888888888888,
              "#fdca26"
             ],
             [
              1,
              "#f0f921"
             ]
            ],
            "type": "surface"
           }
          ],
          "table": [
           {
            "cells": {
             "fill": {
              "color": "#EBF0F8"
             },
             "line": {
              "color": "white"
             }
            },
            "header": {
             "fill": {
              "color": "#C8D4E3"
             },
             "line": {
              "color": "white"
             }
            },
            "type": "table"
           }
          ]
         },
         "layout": {
          "annotationdefaults": {
           "arrowcolor": "#2a3f5f",
           "arrowhead": 0,
           "arrowwidth": 1
          },
          "autotypenumbers": "strict",
          "coloraxis": {
           "colorbar": {
            "outlinewidth": 0,
            "ticks": ""
           }
          },
          "colorscale": {
           "diverging": [
            [
             0,
             "#8e0152"
            ],
            [
             0.1,
             "#c51b7d"
            ],
            [
             0.2,
             "#de77ae"
            ],
            [
             0.3,
             "#f1b6da"
            ],
            [
             0.4,
             "#fde0ef"
            ],
            [
             0.5,
             "#f7f7f7"
            ],
            [
             0.6,
             "#e6f5d0"
            ],
            [
             0.7,
             "#b8e186"
            ],
            [
             0.8,
             "#7fbc41"
            ],
            [
             0.9,
             "#4d9221"
            ],
            [
             1,
             "#276419"
            ]
           ],
           "sequential": [
            [
             0,
             "#0d0887"
            ],
            [
             0.1111111111111111,
             "#46039f"
            ],
            [
             0.2222222222222222,
             "#7201a8"
            ],
            [
             0.3333333333333333,
             "#9c179e"
            ],
            [
             0.4444444444444444,
             "#bd3786"
            ],
            [
             0.5555555555555556,
             "#d8576b"
            ],
            [
             0.6666666666666666,
             "#ed7953"
            ],
            [
             0.7777777777777778,
             "#fb9f3a"
            ],
            [
             0.8888888888888888,
             "#fdca26"
            ],
            [
             1,
             "#f0f921"
            ]
           ],
           "sequentialminus": [
            [
             0,
             "#0d0887"
            ],
            [
             0.1111111111111111,
             "#46039f"
            ],
            [
             0.2222222222222222,
             "#7201a8"
            ],
            [
             0.3333333333333333,
             "#9c179e"
            ],
            [
             0.4444444444444444,
             "#bd3786"
            ],
            [
             0.5555555555555556,
             "#d8576b"
            ],
            [
             0.6666666666666666,
             "#ed7953"
            ],
            [
             0.7777777777777778,
             "#fb9f3a"
            ],
            [
             0.8888888888888888,
             "#fdca26"
            ],
            [
             1,
             "#f0f921"
            ]
           ]
          },
          "colorway": [
           "#636efa",
           "#EF553B",
           "#00cc96",
           "#ab63fa",
           "#FFA15A",
           "#19d3f3",
           "#FF6692",
           "#B6E880",
           "#FF97FF",
           "#FECB52"
          ],
          "font": {
           "color": "#2a3f5f"
          },
          "geo": {
           "bgcolor": "white",
           "lakecolor": "white",
           "landcolor": "#E5ECF6",
           "showlakes": true,
           "showland": true,
           "subunitcolor": "white"
          },
          "hoverlabel": {
           "align": "left"
          },
          "hovermode": "closest",
          "mapbox": {
           "style": "light"
          },
          "paper_bgcolor": "white",
          "plot_bgcolor": "#E5ECF6",
          "polar": {
           "angularaxis": {
            "gridcolor": "white",
            "linecolor": "white",
            "ticks": ""
           },
           "bgcolor": "#E5ECF6",
           "radialaxis": {
            "gridcolor": "white",
            "linecolor": "white",
            "ticks": ""
           }
          },
          "scene": {
           "xaxis": {
            "backgroundcolor": "#E5ECF6",
            "gridcolor": "white",
            "gridwidth": 2,
            "linecolor": "white",
            "showbackground": true,
            "ticks": "",
            "zerolinecolor": "white"
           },
           "yaxis": {
            "backgroundcolor": "#E5ECF6",
            "gridcolor": "white",
            "gridwidth": 2,
            "linecolor": "white",
            "showbackground": true,
            "ticks": "",
            "zerolinecolor": "white"
           },
           "zaxis": {
            "backgroundcolor": "#E5ECF6",
            "gridcolor": "white",
            "gridwidth": 2,
            "linecolor": "white",
            "showbackground": true,
            "ticks": "",
            "zerolinecolor": "white"
           }
          },
          "shapedefaults": {
           "line": {
            "color": "#2a3f5f"
           }
          },
          "ternary": {
           "aaxis": {
            "gridcolor": "white",
            "linecolor": "white",
            "ticks": ""
           },
           "baxis": {
            "gridcolor": "white",
            "linecolor": "white",
            "ticks": ""
           },
           "bgcolor": "#E5ECF6",
           "caxis": {
            "gridcolor": "white",
            "linecolor": "white",
            "ticks": ""
           }
          },
          "title": {
           "x": 0.05
          },
          "xaxis": {
           "automargin": true,
           "gridcolor": "white",
           "linecolor": "white",
           "ticks": "",
           "title": {
            "standoff": 15
           },
           "zerolinecolor": "white",
           "zerolinewidth": 2
          },
          "yaxis": {
           "automargin": true,
           "gridcolor": "white",
           "linecolor": "white",
           "ticks": "",
           "title": {
            "standoff": 15
           },
           "zerolinecolor": "white",
           "zerolinewidth": 2
          }
         }
        },
        "title": {
         "text": "ER Class Distribution in Each Batch - Task ID 5"
        },
        "xaxis": {
         "anchor": "y",
         "domain": [
          0,
          1
         ],
         "title": {
          "text": "Classes"
         }
        },
        "yaxis": {
         "anchor": "x",
         "autorange": "reversed",
         "domain": [
          0,
          1
         ],
         "title": {
          "text": "Batches"
         }
        }
       }
      }
     },
     "metadata": {},
     "output_type": "display_data"
    }
   ],
   "source": [
    "import numpy as np\n",
    "import plotly.express as px\n",
    "\n",
    "task_id = 5\n",
    "\n",
    "df = pd.read_csv(\"../results_plot_SplitCIFAR100_['EDR', 'ER']_False_[]_32_10_0_50_2/train_batches_y_ExperienceReplay.log\", \n",
    "                 names=[\"task_id\", \"class_0\", \"class_1\", \"class_2\", \"class_3\", \"class_4\", \"class_5\", \"class_6\", \n",
    "                            \"class_7\", \"class_8\", \"class_9\", \"class_10\", \"class_11\", \"class_12\", \"class_13\", \"class_14\", \"class_15\", \"class_16\",\n",
    "                            \"class_17\", \"class_18\", \"class_19\", \"class_20\", \"class_21\", \"class_22\", \"class_23\", \"class_24\", \"class_25\", \"class_26\",\n",
    "                            \"class_27\", \"class_28\", \"class_29\", \"class_30\", \"class_31\", \"class_32\", \"class_33\", \"class_34\", \"class_35\", \"class_36\",\n",
    "                            \"class_37\", \"class_38\", \"class_39\", \"class_40\", \"class_41\", \"class_42\", \"class_43\", \"class_44\", \"class_45\", \"class_46\",\n",
    "                            \"class_47\", \"class_48\", \"class_49\", \"class_50\", \"class_51\", \"class_52\", \"class_53\", \"class_54\", \"class_55\", \"class_56\",\n",
    "                            \"class_57\", \"class_58\", \"class_59\", \"class_60\", \"class_61\", \"class_62\", \"class_63\", \"class_64\", \"class_65\", \"class_66\",\n",
    "                            \"class_67\", \"class_68\", \"class_69\", \"class_70\", \"class_71\", \"class_72\", \"class_73\", \"class_74\", \"class_75\", \"class_76\",\n",
    "                            \"class_77\", \"class_78\", \"class_79\", \"class_80\", \"class_81\", \"class_82\", \"class_83\", \"class_84\", \"class_85\", \"class_86\",\n",
    "                            \"class_87\", \"class_88\", \"class_89\", \"class_90\", \"class_91\", \"class_92\", \"class_93\", \"class_94\", \"class_95\", \"class_96\",\n",
    "                            \"class_97\", \"class_98\", \"class_99\"],)\n",
    "\n",
    "df_plot = df.loc[df.task_id == task_id].reset_index(drop=True).copy()\n",
    "df_plot.drop(columns=[\"task_id\"], inplace=True)\n",
    "\n",
    "# Criação do heatmap interativo (classe no eixo Y, batch no eixo X)\n",
    "fig = px.imshow(\n",
    "    df_plot,\n",
    "    labels=dict(x=\"Classes\", y=\"Batches\", color=\"Number of Instances\"),\n",
    "    # x=[f\"Batch {i}\" for i in range(1, num_batches+1)],\n",
    "    # y=[f\"Classe {i}\" for i in range(num_classes)],\n",
    "    aspect=\"auto\",\n",
    "    color_continuous_scale=\"Viridis\",\n",
    "    origin=\"upper\",  # garante que Classe 0 fique em cima\n",
    "    # text_auto=True\n",
    ")\n",
    "\n",
    "fig.update_layout(\n",
    "    title=\"ER Class Distribution in Each Batch - Task ID {}\".format(task_id),\n",
    "    xaxis_title=\"Classes\",\n",
    "    yaxis_title=\"Batches\",\n",
    "    height=1000,\n",
    ")\n",
    "\n",
    "fig.show()"
   ]
  },
  {
   "cell_type": "markdown",
   "id": "cc7c5b3c",
   "metadata": {},
   "source": [
    "\n",
    "#### Task 6\n",
    "#### Classes 32, 1, 34, 0, 11, 12, 45, 77, 79, 22"
   ]
  },
  {
   "cell_type": "code",
   "execution_count": 28,
   "id": "2adf615b",
   "metadata": {},
   "outputs": [
    {
     "data": {
      "application/vnd.plotly.v1+json": {
       "config": {
        "plotlyServerURL": "https://plot.ly"
       },
       "data": [
        {
         "coloraxis": "coloraxis",
         "hovertemplate": "Classes: %{x}<br>Batches: %{y}<br>Number of Instances: %{z}<extra></extra>",
         "name": "0",
         "type": "heatmap",
         "x": [
          "class_0",
          "class_1",
          "class_2",
          "class_3",
          "class_4",
          "class_5",
          "class_6",
          "class_7",
          "class_8",
          "class_9",
          "class_10",
          "class_11",
          "class_12",
          "class_13",
          "class_14",
          "class_15",
          "class_16",
          "class_17",
          "class_18",
          "class_19",
          "class_20",
          "class_21",
          "class_22",
          "class_23",
          "class_24",
          "class_25",
          "class_26",
          "class_27",
          "class_28",
          "class_29",
          "class_30",
          "class_31",
          "class_32",
          "class_33",
          "class_34",
          "class_35",
          "class_36",
          "class_37",
          "class_38",
          "class_39",
          "class_40",
          "class_41",
          "class_42",
          "class_43",
          "class_44",
          "class_45",
          "class_46",
          "class_47",
          "class_48",
          "class_49",
          "class_50",
          "class_51",
          "class_52",
          "class_53",
          "class_54",
          "class_55",
          "class_56",
          "class_57",
          "class_58",
          "class_59",
          "class_60",
          "class_61",
          "class_62",
          "class_63",
          "class_64",
          "class_65",
          "class_66",
          "class_67",
          "class_68",
          "class_69",
          "class_70",
          "class_71",
          "class_72",
          "class_73",
          "class_74",
          "class_75",
          "class_76",
          "class_77",
          "class_78",
          "class_79",
          "class_80",
          "class_81",
          "class_82",
          "class_83",
          "class_84",
          "class_85",
          "class_86",
          "class_87",
          "class_88",
          "class_89",
          "class_90",
          "class_91",
          "class_92",
          "class_93",
          "class_94",
          "class_95",
          "class_96",
          "class_97",
          "class_98",
          "class_99"
         ],
         "xaxis": "x",
         "y": {
          "bdata": "AAECAwQFBgcICQoLDA0ODxAREhMUFRYXGBkaGxwdHh8gISIjJCUmJygpKissLS4vMDEyMw==",
          "dtype": "i1"
         },
         "yaxis": "y",
         "z": {
          "bdata": "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",
          "dtype": "i1",
          "shape": "52, 100"
         }
        }
       ],
       "layout": {
        "coloraxis": {
         "colorbar": {
          "title": {
           "text": "Number of Instances"
          }
         },
         "colorscale": [
          [
           0,
           "#440154"
          ],
          [
           0.1111111111111111,
           "#482878"
          ],
          [
           0.2222222222222222,
           "#3e4989"
          ],
          [
           0.3333333333333333,
           "#31688e"
          ],
          [
           0.4444444444444444,
           "#26828e"
          ],
          [
           0.5555555555555556,
           "#1f9e89"
          ],
          [
           0.6666666666666666,
           "#35b779"
          ],
          [
           0.7777777777777778,
           "#6ece58"
          ],
          [
           0.8888888888888888,
           "#b5de2b"
          ],
          [
           1,
           "#fde725"
          ]
         ]
        },
        "height": 900,
        "margin": {
         "t": 60
        },
        "template": {
         "data": {
          "bar": [
           {
            "error_x": {
             "color": "#2a3f5f"
            },
            "error_y": {
             "color": "#2a3f5f"
            },
            "marker": {
             "line": {
              "color": "#E5ECF6",
              "width": 0.5
             },
             "pattern": {
              "fillmode": "overlay",
              "size": 10,
              "solidity": 0.2
             }
            },
            "type": "bar"
           }
          ],
          "barpolar": [
           {
            "marker": {
             "line": {
              "color": "#E5ECF6",
              "width": 0.5
             },
             "pattern": {
              "fillmode": "overlay",
              "size": 10,
              "solidity": 0.2
             }
            },
            "type": "barpolar"
           }
          ],
          "carpet": [
           {
            "aaxis": {
             "endlinecolor": "#2a3f5f",
             "gridcolor": "white",
             "linecolor": "white",
             "minorgridcolor": "white",
             "startlinecolor": "#2a3f5f"
            },
            "baxis": {
             "endlinecolor": "#2a3f5f",
             "gridcolor": "white",
             "linecolor": "white",
             "minorgridcolor": "white",
             "startlinecolor": "#2a3f5f"
            },
            "type": "carpet"
           }
          ],
          "choropleth": [
           {
            "colorbar": {
             "outlinewidth": 0,
             "ticks": ""
            },
            "type": "choropleth"
           }
          ],
          "contour": [
           {
            "colorbar": {
             "outlinewidth": 0,
             "ticks": ""
            },
            "colorscale": [
             [
              0,
              "#0d0887"
             ],
             [
              0.1111111111111111,
              "#46039f"
             ],
             [
              0.2222222222222222,
              "#7201a8"
             ],
             [
              0.3333333333333333,
              "#9c179e"
             ],
             [
              0.4444444444444444,
              "#bd3786"
             ],
             [
              0.5555555555555556,
              "#d8576b"
             ],
             [
              0.6666666666666666,
              "#ed7953"
             ],
             [
              0.7777777777777778,
              "#fb9f3a"
             ],
             [
              0.8888888888888888,
              "#fdca26"
             ],
             [
              1,
              "#f0f921"
             ]
            ],
            "type": "contour"
           }
          ],
          "contourcarpet": [
           {
            "colorbar": {
             "outlinewidth": 0,
             "ticks": ""
            },
            "type": "contourcarpet"
           }
          ],
          "heatmap": [
           {
            "colorbar": {
             "outlinewidth": 0,
             "ticks": ""
            },
            "colorscale": [
             [
              0,
              "#0d0887"
             ],
             [
              0.1111111111111111,
              "#46039f"
             ],
             [
              0.2222222222222222,
              "#7201a8"
             ],
             [
              0.3333333333333333,
              "#9c179e"
             ],
             [
              0.4444444444444444,
              "#bd3786"
             ],
             [
              0.5555555555555556,
              "#d8576b"
             ],
             [
              0.6666666666666666,
              "#ed7953"
             ],
             [
              0.7777777777777778,
              "#fb9f3a"
             ],
             [
              0.8888888888888888,
              "#fdca26"
             ],
             [
              1,
              "#f0f921"
             ]
            ],
            "type": "heatmap"
           }
          ],
          "histogram": [
           {
            "marker": {
             "pattern": {
              "fillmode": "overlay",
              "size": 10,
              "solidity": 0.2
             }
            },
            "type": "histogram"
           }
          ],
          "histogram2d": [
           {
            "colorbar": {
             "outlinewidth": 0,
             "ticks": ""
            },
            "colorscale": [
             [
              0,
              "#0d0887"
             ],
             [
              0.1111111111111111,
              "#46039f"
             ],
             [
              0.2222222222222222,
              "#7201a8"
             ],
             [
              0.3333333333333333,
              "#9c179e"
             ],
             [
              0.4444444444444444,
              "#bd3786"
             ],
             [
              0.5555555555555556,
              "#d8576b"
             ],
             [
              0.6666666666666666,
              "#ed7953"
             ],
             [
              0.7777777777777778,
              "#fb9f3a"
             ],
             [
              0.8888888888888888,
              "#fdca26"
             ],
             [
              1,
              "#f0f921"
             ]
            ],
            "type": "histogram2d"
           }
          ],
          "histogram2dcontour": [
           {
            "colorbar": {
             "outlinewidth": 0,
             "ticks": ""
            },
            "colorscale": [
             [
              0,
              "#0d0887"
             ],
             [
              0.1111111111111111,
              "#46039f"
             ],
             [
              0.2222222222222222,
              "#7201a8"
             ],
             [
              0.3333333333333333,
              "#9c179e"
             ],
             [
              0.4444444444444444,
              "#bd3786"
             ],
             [
              0.5555555555555556,
              "#d8576b"
             ],
             [
              0.6666666666666666,
              "#ed7953"
             ],
             [
              0.7777777777777778,
              "#fb9f3a"
             ],
             [
              0.8888888888888888,
              "#fdca26"
             ],
             [
              1,
              "#f0f921"
             ]
            ],
            "type": "histogram2dcontour"
           }
          ],
          "mesh3d": [
           {
            "colorbar": {
             "outlinewidth": 0,
             "ticks": ""
            },
            "type": "mesh3d"
           }
          ],
          "parcoords": [
           {
            "line": {
             "colorbar": {
              "outlinewidth": 0,
              "ticks": ""
             }
            },
            "type": "parcoords"
           }
          ],
          "pie": [
           {
            "automargin": true,
            "type": "pie"
           }
          ],
          "scatter": [
           {
            "fillpattern": {
             "fillmode": "overlay",
             "size": 10,
             "solidity": 0.2
            },
            "type": "scatter"
           }
          ],
          "scatter3d": [
           {
            "line": {
             "colorbar": {
              "outlinewidth": 0,
              "ticks": ""
             }
            },
            "marker": {
             "colorbar": {
              "outlinewidth": 0,
              "ticks": ""
             }
            },
            "type": "scatter3d"
           }
          ],
          "scattercarpet": [
           {
            "marker": {
             "colorbar": {
              "outlinewidth": 0,
              "ticks": ""
             }
            },
            "type": "scattercarpet"
           }
          ],
          "scattergeo": [
           {
            "marker": {
             "colorbar": {
              "outlinewidth": 0,
              "ticks": ""
             }
            },
            "type": "scattergeo"
           }
          ],
          "scattergl": [
           {
            "marker": {
             "colorbar": {
              "outlinewidth": 0,
              "ticks": ""
             }
            },
            "type": "scattergl"
           }
          ],
          "scattermap": [
           {
            "marker": {
             "colorbar": {
              "outlinewidth": 0,
              "ticks": ""
             }
            },
            "type": "scattermap"
           }
          ],
          "scattermapbox": [
           {
            "marker": {
             "colorbar": {
              "outlinewidth": 0,
              "ticks": ""
             }
            },
            "type": "scattermapbox"
           }
          ],
          "scatterpolar": [
           {
            "marker": {
             "colorbar": {
              "outlinewidth": 0,
              "ticks": ""
             }
            },
            "type": "scatterpolar"
           }
          ],
          "scatterpolargl": [
           {
            "marker": {
             "colorbar": {
              "outlinewidth": 0,
              "ticks": ""
             }
            },
            "type": "scatterpolargl"
           }
          ],
          "scatterternary": [
           {
            "marker": {
             "colorbar": {
              "outlinewidth": 0,
              "ticks": ""
             }
            },
            "type": "scatterternary"
           }
          ],
          "surface": [
           {
            "colorbar": {
             "outlinewidth": 0,
             "ticks": ""
            },
            "colorscale": [
             [
              0,
              "#0d0887"
             ],
             [
              0.1111111111111111,
              "#46039f"
             ],
             [
              0.2222222222222222,
              "#7201a8"
             ],
             [
              0.3333333333333333,
              "#9c179e"
             ],
             [
              0.4444444444444444,
              "#bd3786"
             ],
             [
              0.5555555555555556,
              "#d8576b"
             ],
             [
              0.6666666666666666,
              "#ed7953"
             ],
             [
              0.7777777777777778,
              "#fb9f3a"
             ],
             [
              0.8888888888888888,
              "#fdca26"
             ],
             [
              1,
              "#f0f921"
             ]
            ],
            "type": "surface"
           }
          ],
          "table": [
           {
            "cells": {
             "fill": {
              "color": "#EBF0F8"
             },
             "line": {
              "color": "white"
             }
            },
            "header": {
             "fill": {
              "color": "#C8D4E3"
             },
             "line": {
              "color": "white"
             }
            },
            "type": "table"
           }
          ]
         },
         "layout": {
          "annotationdefaults": {
           "arrowcolor": "#2a3f5f",
           "arrowhead": 0,
           "arrowwidth": 1
          },
          "autotypenumbers": "strict",
          "coloraxis": {
           "colorbar": {
            "outlinewidth": 0,
            "ticks": ""
           }
          },
          "colorscale": {
           "diverging": [
            [
             0,
             "#8e0152"
            ],
            [
             0.1,
             "#c51b7d"
            ],
            [
             0.2,
             "#de77ae"
            ],
            [
             0.3,
             "#f1b6da"
            ],
            [
             0.4,
             "#fde0ef"
            ],
            [
             0.5,
             "#f7f7f7"
            ],
            [
             0.6,
             "#e6f5d0"
            ],
            [
             0.7,
             "#b8e186"
            ],
            [
             0.8,
             "#7fbc41"
            ],
            [
             0.9,
             "#4d9221"
            ],
            [
             1,
             "#276419"
            ]
           ],
           "sequential": [
            [
             0,
             "#0d0887"
            ],
            [
             0.1111111111111111,
             "#46039f"
            ],
            [
             0.2222222222222222,
             "#7201a8"
            ],
            [
             0.3333333333333333,
             "#9c179e"
            ],
            [
             0.4444444444444444,
             "#bd3786"
            ],
            [
             0.5555555555555556,
             "#d8576b"
            ],
            [
             0.6666666666666666,
             "#ed7953"
            ],
            [
             0.7777777777777778,
             "#fb9f3a"
            ],
            [
             0.8888888888888888,
             "#fdca26"
            ],
            [
             1,
             "#f0f921"
            ]
           ],
           "sequentialminus": [
            [
             0,
             "#0d0887"
            ],
            [
             0.1111111111111111,
             "#46039f"
            ],
            [
             0.2222222222222222,
             "#7201a8"
            ],
            [
             0.3333333333333333,
             "#9c179e"
            ],
            [
             0.4444444444444444,
             "#bd3786"
            ],
            [
             0.5555555555555556,
             "#d8576b"
            ],
            [
             0.6666666666666666,
             "#ed7953"
            ],
            [
             0.7777777777777778,
             "#fb9f3a"
            ],
            [
             0.8888888888888888,
             "#fdca26"
            ],
            [
             1,
             "#f0f921"
            ]
           ]
          },
          "colorway": [
           "#636efa",
           "#EF553B",
           "#00cc96",
           "#ab63fa",
           "#FFA15A",
           "#19d3f3",
           "#FF6692",
           "#B6E880",
           "#FF97FF",
           "#FECB52"
          ],
          "font": {
           "color": "#2a3f5f"
          },
          "geo": {
           "bgcolor": "white",
           "lakecolor": "white",
           "landcolor": "#E5ECF6",
           "showlakes": true,
           "showland": true,
           "subunitcolor": "white"
          },
          "hoverlabel": {
           "align": "left"
          },
          "hovermode": "closest",
          "mapbox": {
           "style": "light"
          },
          "paper_bgcolor": "white",
          "plot_bgcolor": "#E5ECF6",
          "polar": {
           "angularaxis": {
            "gridcolor": "white",
            "linecolor": "white",
            "ticks": ""
           },
           "bgcolor": "#E5ECF6",
           "radialaxis": {
            "gridcolor": "white",
            "linecolor": "white",
            "ticks": ""
           }
          },
          "scene": {
           "xaxis": {
            "backgroundcolor": "#E5ECF6",
            "gridcolor": "white",
            "gridwidth": 2,
            "linecolor": "white",
            "showbackground": true,
            "ticks": "",
            "zerolinecolor": "white"
           },
           "yaxis": {
            "backgroundcolor": "#E5ECF6",
            "gridcolor": "white",
            "gridwidth": 2,
            "linecolor": "white",
            "showbackground": true,
            "ticks": "",
            "zerolinecolor": "white"
           },
           "zaxis": {
            "backgroundcolor": "#E5ECF6",
            "gridcolor": "white",
            "gridwidth": 2,
            "linecolor": "white",
            "showbackground": true,
            "ticks": "",
            "zerolinecolor": "white"
           }
          },
          "shapedefaults": {
           "line": {
            "color": "#2a3f5f"
           }
          },
          "ternary": {
           "aaxis": {
            "gridcolor": "white",
            "linecolor": "white",
            "ticks": ""
           },
           "baxis": {
            "gridcolor": "white",
            "linecolor": "white",
            "ticks": ""
           },
           "bgcolor": "#E5ECF6",
           "caxis": {
            "gridcolor": "white",
            "linecolor": "white",
            "ticks": ""
           }
          },
          "title": {
           "x": 0.05
          },
          "xaxis": {
           "automargin": true,
           "gridcolor": "white",
           "linecolor": "white",
           "ticks": "",
           "title": {
            "standoff": 15
           },
           "zerolinecolor": "white",
           "zerolinewidth": 2
          },
          "yaxis": {
           "automargin": true,
           "gridcolor": "white",
           "linecolor": "white",
           "ticks": "",
           "title": {
            "standoff": 15
           },
           "zerolinecolor": "white",
           "zerolinewidth": 2
          }
         }
        },
        "title": {
         "text": "EDR Class Distribution in Each Batch - Task ID 6"
        },
        "xaxis": {
         "anchor": "y",
         "domain": [
          0,
          1
         ],
         "title": {
          "text": "Classes"
         }
        },
        "yaxis": {
         "anchor": "x",
         "autorange": "reversed",
         "domain": [
          0,
          1
         ],
         "title": {
          "text": "Batches"
         }
        }
       }
      }
     },
     "metadata": {},
     "output_type": "display_data"
    }
   ],
   "source": [
    "import numpy as np\n",
    "import plotly.express as px\n",
    "\n",
    "task_id = 6\n",
    "\n",
    "df = pd.read_csv(\"../results_plot_SplitCIFAR100_['EDR', 'ER']_False_[]_32_10_0_50_2/train_batches_y_ExperienceDelayReplay.log\", \n",
    "                 names=[\"task_id\", \"class_0\", \"class_1\", \"class_2\", \"class_3\", \"class_4\", \"class_5\", \"class_6\", \n",
    "                            \"class_7\", \"class_8\", \"class_9\", \"class_10\", \"class_11\", \"class_12\", \"class_13\", \"class_14\", \"class_15\", \"class_16\",\n",
    "                            \"class_17\", \"class_18\", \"class_19\", \"class_20\", \"class_21\", \"class_22\", \"class_23\", \"class_24\", \"class_25\", \"class_26\",\n",
    "                            \"class_27\", \"class_28\", \"class_29\", \"class_30\", \"class_31\", \"class_32\", \"class_33\", \"class_34\", \"class_35\", \"class_36\",\n",
    "                            \"class_37\", \"class_38\", \"class_39\", \"class_40\", \"class_41\", \"class_42\", \"class_43\", \"class_44\", \"class_45\", \"class_46\",\n",
    "                            \"class_47\", \"class_48\", \"class_49\", \"class_50\", \"class_51\", \"class_52\", \"class_53\", \"class_54\", \"class_55\", \"class_56\",\n",
    "                            \"class_57\", \"class_58\", \"class_59\", \"class_60\", \"class_61\", \"class_62\", \"class_63\", \"class_64\", \"class_65\", \"class_66\",\n",
    "                            \"class_67\", \"class_68\", \"class_69\", \"class_70\", \"class_71\", \"class_72\", \"class_73\", \"class_74\", \"class_75\", \"class_76\",\n",
    "                            \"class_77\", \"class_78\", \"class_79\", \"class_80\", \"class_81\", \"class_82\", \"class_83\", \"class_84\", \"class_85\", \"class_86\",\n",
    "                            \"class_87\", \"class_88\", \"class_89\", \"class_90\", \"class_91\", \"class_92\", \"class_93\", \"class_94\", \"class_95\", \"class_96\",\n",
    "                            \"class_97\", \"class_98\", \"class_99\"],)\n",
    "\n",
    "\n",
    "df_plot = df.loc[df.task_id == task_id].reset_index(drop=True).copy()\n",
    "# df_plot = pd.concat([df_plot[:10], df_plot[80:90], df_plot[115:125]], ignore_index=True)\n",
    "df_plot.drop(columns=[\"task_id\"], inplace=True)\n",
    "\n",
    "# Criação do heatmap interativo (classe no eixo Y, batch no eixo X)\n",
    "fig = px.imshow(\n",
    "    df_plot,\n",
    "    labels=dict(x=\"Classes\", y=\"Batches\", color=\"Number of Instances\"),\n",
    "    # x=[f\"Batch {i}\" for i in range(1, num_batches+1)],\n",
    "    # y=[f\"Classe {i}\" for i in range(num_classes)],\n",
    "    aspect=\"auto\",\n",
    "    color_continuous_scale=\"Viridis\",\n",
    "    origin=\"upper\",  # garante que Classe 0 fique em cima\n",
    "    # text_auto=True\n",
    ")\n",
    "\n",
    "fig.update_layout(\n",
    "    title=\"EDR Class Distribution in Each Batch - Task ID {}\".format(task_id),\n",
    "    xaxis_title=\"Classes\",\n",
    "    yaxis_title=\"Batches\",\n",
    "    height=900,\n",
    ")\n",
    "\n",
    "fig.show()"
   ]
  },
  {
   "cell_type": "code",
   "execution_count": 29,
   "id": "6827a1e3",
   "metadata": {},
   "outputs": [
    {
     "data": {
      "application/vnd.plotly.v1+json": {
       "config": {
        "plotlyServerURL": "https://plot.ly"
       },
       "data": [
        {
         "coloraxis": "coloraxis",
         "hovertemplate": "Classes: %{x}<br>Batches: %{y}<br>Number of Instances: %{z}<extra></extra>",
         "name": "0",
         "type": "heatmap",
         "x": [
          "class_0",
          "class_1",
          "class_2",
          "class_3",
          "class_4",
          "class_5",
          "class_6",
          "class_7",
          "class_8",
          "class_9",
          "class_10",
          "class_11",
          "class_12",
          "class_13",
          "class_14",
          "class_15",
          "class_16",
          "class_17",
          "class_18",
          "class_19",
          "class_20",
          "class_21",
          "class_22",
          "class_23",
          "class_24",
          "class_25",
          "class_26",
          "class_27",
          "class_28",
          "class_29",
          "class_30",
          "class_31",
          "class_32",
          "class_33",
          "class_34",
          "class_35",
          "class_36",
          "class_37",
          "class_38",
          "class_39",
          "class_40",
          "class_41",
          "class_42",
          "class_43",
          "class_44",
          "class_45",
          "class_46",
          "class_47",
          "class_48",
          "class_49",
          "class_50",
          "class_51",
          "class_52",
          "class_53",
          "class_54",
          "class_55",
          "class_56",
          "class_57",
          "class_58",
          "class_59",
          "class_60",
          "class_61",
          "class_62",
          "class_63",
          "class_64",
          "class_65",
          "class_66",
          "class_67",
          "class_68",
          "class_69",
          "class_70",
          "class_71",
          "class_72",
          "class_73",
          "class_74",
          "class_75",
          "class_76",
          "class_77",
          "class_78",
          "class_79",
          "class_80",
          "class_81",
          "class_82",
          "class_83",
          "class_84",
          "class_85",
          "class_86",
          "class_87",
          "class_88",
          "class_89",
          "class_90",
          "class_91",
          "class_92",
          "class_93",
          "class_94",
          "class_95",
          "class_96",
          "class_97",
          "class_98",
          "class_99"
         ],
         "xaxis": "x",
         "y": {
          "bdata": "AAECAwQFBgcICQoLDA0ODxAREhMUFRYXGBkaGxwdHh8gISIjJCUmJygpKissLS4vMDEyMzQ1Njc4OTo7PD0+P0BBQkNERUZHSElKS0xNTg==",
          "dtype": "i1"
         },
         "yaxis": "y",
         "z": {
          "bdata": "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",
          "dtype": "i1",
          "shape": "79, 100"
         }
        }
       ],
       "layout": {
        "coloraxis": {
         "colorbar": {
          "title": {
           "text": "Number of Instances"
          }
         },
         "colorscale": [
          [
           0,
           "#440154"
          ],
          [
           0.1111111111111111,
           "#482878"
          ],
          [
           0.2222222222222222,
           "#3e4989"
          ],
          [
           0.3333333333333333,
           "#31688e"
          ],
          [
           0.4444444444444444,
           "#26828e"
          ],
          [
           0.5555555555555556,
           "#1f9e89"
          ],
          [
           0.6666666666666666,
           "#35b779"
          ],
          [
           0.7777777777777778,
           "#6ece58"
          ],
          [
           0.8888888888888888,
           "#b5de2b"
          ],
          [
           1,
           "#fde725"
          ]
         ]
        },
        "height": 1000,
        "margin": {
         "t": 60
        },
        "template": {
         "data": {
          "bar": [
           {
            "error_x": {
             "color": "#2a3f5f"
            },
            "error_y": {
             "color": "#2a3f5f"
            },
            "marker": {
             "line": {
              "color": "#E5ECF6",
              "width": 0.5
             },
             "pattern": {
              "fillmode": "overlay",
              "size": 10,
              "solidity": 0.2
             }
            },
            "type": "bar"
           }
          ],
          "barpolar": [
           {
            "marker": {
             "line": {
              "color": "#E5ECF6",
              "width": 0.5
             },
             "pattern": {
              "fillmode": "overlay",
              "size": 10,
              "solidity": 0.2
             }
            },
            "type": "barpolar"
           }
          ],
          "carpet": [
           {
            "aaxis": {
             "endlinecolor": "#2a3f5f",
             "gridcolor": "white",
             "linecolor": "white",
             "minorgridcolor": "white",
             "startlinecolor": "#2a3f5f"
            },
            "baxis": {
             "endlinecolor": "#2a3f5f",
             "gridcolor": "white",
             "linecolor": "white",
             "minorgridcolor": "white",
             "startlinecolor": "#2a3f5f"
            },
            "type": "carpet"
           }
          ],
          "choropleth": [
           {
            "colorbar": {
             "outlinewidth": 0,
             "ticks": ""
            },
            "type": "choropleth"
           }
          ],
          "contour": [
           {
            "colorbar": {
             "outlinewidth": 0,
             "ticks": ""
            },
            "colorscale": [
             [
              0,
              "#0d0887"
             ],
             [
              0.1111111111111111,
              "#46039f"
             ],
             [
              0.2222222222222222,
              "#7201a8"
             ],
             [
              0.3333333333333333,
              "#9c179e"
             ],
             [
              0.4444444444444444,
              "#bd3786"
             ],
             [
              0.5555555555555556,
              "#d8576b"
             ],
             [
              0.6666666666666666,
              "#ed7953"
             ],
             [
              0.7777777777777778,
              "#fb9f3a"
             ],
             [
              0.8888888888888888,
              "#fdca26"
             ],
             [
              1,
              "#f0f921"
             ]
            ],
            "type": "contour"
           }
          ],
          "contourcarpet": [
           {
            "colorbar": {
             "outlinewidth": 0,
             "ticks": ""
            },
            "type": "contourcarpet"
           }
          ],
          "heatmap": [
           {
            "colorbar": {
             "outlinewidth": 0,
             "ticks": ""
            },
            "colorscale": [
             [
              0,
              "#0d0887"
             ],
             [
              0.1111111111111111,
              "#46039f"
             ],
             [
              0.2222222222222222,
              "#7201a8"
             ],
             [
              0.3333333333333333,
              "#9c179e"
             ],
             [
              0.4444444444444444,
              "#bd3786"
             ],
             [
              0.5555555555555556,
              "#d8576b"
             ],
             [
              0.6666666666666666,
              "#ed7953"
             ],
             [
              0.7777777777777778,
              "#fb9f3a"
             ],
             [
              0.8888888888888888,
              "#fdca26"
             ],
             [
              1,
              "#f0f921"
             ]
            ],
            "type": "heatmap"
           }
          ],
          "histogram": [
           {
            "marker": {
             "pattern": {
              "fillmode": "overlay",
              "size": 10,
              "solidity": 0.2
             }
            },
            "type": "histogram"
           }
          ],
          "histogram2d": [
           {
            "colorbar": {
             "outlinewidth": 0,
             "ticks": ""
            },
            "colorscale": [
             [
              0,
              "#0d0887"
             ],
             [
              0.1111111111111111,
              "#46039f"
             ],
             [
              0.2222222222222222,
              "#7201a8"
             ],
             [
              0.3333333333333333,
              "#9c179e"
             ],
             [
              0.4444444444444444,
              "#bd3786"
             ],
             [
              0.5555555555555556,
              "#d8576b"
             ],
             [
              0.6666666666666666,
              "#ed7953"
             ],
             [
              0.7777777777777778,
              "#fb9f3a"
             ],
             [
              0.8888888888888888,
              "#fdca26"
             ],
             [
              1,
              "#f0f921"
             ]
            ],
            "type": "histogram2d"
           }
          ],
          "histogram2dcontour": [
           {
            "colorbar": {
             "outlinewidth": 0,
             "ticks": ""
            },
            "colorscale": [
             [
              0,
              "#0d0887"
             ],
             [
              0.1111111111111111,
              "#46039f"
             ],
             [
              0.2222222222222222,
              "#7201a8"
             ],
             [
              0.3333333333333333,
              "#9c179e"
             ],
             [
              0.4444444444444444,
              "#bd3786"
             ],
             [
              0.5555555555555556,
              "#d8576b"
             ],
             [
              0.6666666666666666,
              "#ed7953"
             ],
             [
              0.7777777777777778,
              "#fb9f3a"
             ],
             [
              0.8888888888888888,
              "#fdca26"
             ],
             [
              1,
              "#f0f921"
             ]
            ],
            "type": "histogram2dcontour"
           }
          ],
          "mesh3d": [
           {
            "colorbar": {
             "outlinewidth": 0,
             "ticks": ""
            },
            "type": "mesh3d"
           }
          ],
          "parcoords": [
           {
            "line": {
             "colorbar": {
              "outlinewidth": 0,
              "ticks": ""
             }
            },
            "type": "parcoords"
           }
          ],
          "pie": [
           {
            "automargin": true,
            "type": "pie"
           }
          ],
          "scatter": [
           {
            "fillpattern": {
             "fillmode": "overlay",
             "size": 10,
             "solidity": 0.2
            },
            "type": "scatter"
           }
          ],
          "scatter3d": [
           {
            "line": {
             "colorbar": {
              "outlinewidth": 0,
              "ticks": ""
             }
            },
            "marker": {
             "colorbar": {
              "outlinewidth": 0,
              "ticks": ""
             }
            },
            "type": "scatter3d"
           }
          ],
          "scattercarpet": [
           {
            "marker": {
             "colorbar": {
              "outlinewidth": 0,
              "ticks": ""
             }
            },
            "type": "scattercarpet"
           }
          ],
          "scattergeo": [
           {
            "marker": {
             "colorbar": {
              "outlinewidth": 0,
              "ticks": ""
             }
            },
            "type": "scattergeo"
           }
          ],
          "scattergl": [
           {
            "marker": {
             "colorbar": {
              "outlinewidth": 0,
              "ticks": ""
             }
            },
            "type": "scattergl"
           }
          ],
          "scattermap": [
           {
            "marker": {
             "colorbar": {
              "outlinewidth": 0,
              "ticks": ""
             }
            },
            "type": "scattermap"
           }
          ],
          "scattermapbox": [
           {
            "marker": {
             "colorbar": {
              "outlinewidth": 0,
              "ticks": ""
             }
            },
            "type": "scattermapbox"
           }
          ],
          "scatterpolar": [
           {
            "marker": {
             "colorbar": {
              "outlinewidth": 0,
              "ticks": ""
             }
            },
            "type": "scatterpolar"
           }
          ],
          "scatterpolargl": [
           {
            "marker": {
             "colorbar": {
              "outlinewidth": 0,
              "ticks": ""
             }
            },
            "type": "scatterpolargl"
           }
          ],
          "scatterternary": [
           {
            "marker": {
             "colorbar": {
              "outlinewidth": 0,
              "ticks": ""
             }
            },
            "type": "scatterternary"
           }
          ],
          "surface": [
           {
            "colorbar": {
             "outlinewidth": 0,
             "ticks": ""
            },
            "colorscale": [
             [
              0,
              "#0d0887"
             ],
             [
              0.1111111111111111,
              "#46039f"
             ],
             [
              0.2222222222222222,
              "#7201a8"
             ],
             [
              0.3333333333333333,
              "#9c179e"
             ],
             [
              0.4444444444444444,
              "#bd3786"
             ],
             [
              0.5555555555555556,
              "#d8576b"
             ],
             [
              0.6666666666666666,
              "#ed7953"
             ],
             [
              0.7777777777777778,
              "#fb9f3a"
             ],
             [
              0.8888888888888888,
              "#fdca26"
             ],
             [
              1,
              "#f0f921"
             ]
            ],
            "type": "surface"
           }
          ],
          "table": [
           {
            "cells": {
             "fill": {
              "color": "#EBF0F8"
             },
             "line": {
              "color": "white"
             }
            },
            "header": {
             "fill": {
              "color": "#C8D4E3"
             },
             "line": {
              "color": "white"
             }
            },
            "type": "table"
           }
          ]
         },
         "layout": {
          "annotationdefaults": {
           "arrowcolor": "#2a3f5f",
           "arrowhead": 0,
           "arrowwidth": 1
          },
          "autotypenumbers": "strict",
          "coloraxis": {
           "colorbar": {
            "outlinewidth": 0,
            "ticks": ""
           }
          },
          "colorscale": {
           "diverging": [
            [
             0,
             "#8e0152"
            ],
            [
             0.1,
             "#c51b7d"
            ],
            [
             0.2,
             "#de77ae"
            ],
            [
             0.3,
             "#f1b6da"
            ],
            [
             0.4,
             "#fde0ef"
            ],
            [
             0.5,
             "#f7f7f7"
            ],
            [
             0.6,
             "#e6f5d0"
            ],
            [
             0.7,
             "#b8e186"
            ],
            [
             0.8,
             "#7fbc41"
            ],
            [
             0.9,
             "#4d9221"
            ],
            [
             1,
             "#276419"
            ]
           ],
           "sequential": [
            [
             0,
             "#0d0887"
            ],
            [
             0.1111111111111111,
             "#46039f"
            ],
            [
             0.2222222222222222,
             "#7201a8"
            ],
            [
             0.3333333333333333,
             "#9c179e"
            ],
            [
             0.4444444444444444,
             "#bd3786"
            ],
            [
             0.5555555555555556,
             "#d8576b"
            ],
            [
             0.6666666666666666,
             "#ed7953"
            ],
            [
             0.7777777777777778,
             "#fb9f3a"
            ],
            [
             0.8888888888888888,
             "#fdca26"
            ],
            [
             1,
             "#f0f921"
            ]
           ],
           "sequentialminus": [
            [
             0,
             "#0d0887"
            ],
            [
             0.1111111111111111,
             "#46039f"
            ],
            [
             0.2222222222222222,
             "#7201a8"
            ],
            [
             0.3333333333333333,
             "#9c179e"
            ],
            [
             0.4444444444444444,
             "#bd3786"
            ],
            [
             0.5555555555555556,
             "#d8576b"
            ],
            [
             0.6666666666666666,
             "#ed7953"
            ],
            [
             0.7777777777777778,
             "#fb9f3a"
            ],
            [
             0.8888888888888888,
             "#fdca26"
            ],
            [
             1,
             "#f0f921"
            ]
           ]
          },
          "colorway": [
           "#636efa",
           "#EF553B",
           "#00cc96",
           "#ab63fa",
           "#FFA15A",
           "#19d3f3",
           "#FF6692",
           "#B6E880",
           "#FF97FF",
           "#FECB52"
          ],
          "font": {
           "color": "#2a3f5f"
          },
          "geo": {
           "bgcolor": "white",
           "lakecolor": "white",
           "landcolor": "#E5ECF6",
           "showlakes": true,
           "showland": true,
           "subunitcolor": "white"
          },
          "hoverlabel": {
           "align": "left"
          },
          "hovermode": "closest",
          "mapbox": {
           "style": "light"
          },
          "paper_bgcolor": "white",
          "plot_bgcolor": "#E5ECF6",
          "polar": {
           "angularaxis": {
            "gridcolor": "white",
            "linecolor": "white",
            "ticks": ""
           },
           "bgcolor": "#E5ECF6",
           "radialaxis": {
            "gridcolor": "white",
            "linecolor": "white",
            "ticks": ""
           }
          },
          "scene": {
           "xaxis": {
            "backgroundcolor": "#E5ECF6",
            "gridcolor": "white",
            "gridwidth": 2,
            "linecolor": "white",
            "showbackground": true,
            "ticks": "",
            "zerolinecolor": "white"
           },
           "yaxis": {
            "backgroundcolor": "#E5ECF6",
            "gridcolor": "white",
            "gridwidth": 2,
            "linecolor": "white",
            "showbackground": true,
            "ticks": "",
            "zerolinecolor": "white"
           },
           "zaxis": {
            "backgroundcolor": "#E5ECF6",
            "gridcolor": "white",
            "gridwidth": 2,
            "linecolor": "white",
            "showbackground": true,
            "ticks": "",
            "zerolinecolor": "white"
           }
          },
          "shapedefaults": {
           "line": {
            "color": "#2a3f5f"
           }
          },
          "ternary": {
           "aaxis": {
            "gridcolor": "white",
            "linecolor": "white",
            "ticks": ""
           },
           "baxis": {
            "gridcolor": "white",
            "linecolor": "white",
            "ticks": ""
           },
           "bgcolor": "#E5ECF6",
           "caxis": {
            "gridcolor": "white",
            "linecolor": "white",
            "ticks": ""
           }
          },
          "title": {
           "x": 0.05
          },
          "xaxis": {
           "automargin": true,
           "gridcolor": "white",
           "linecolor": "white",
           "ticks": "",
           "title": {
            "standoff": 15
           },
           "zerolinecolor": "white",
           "zerolinewidth": 2
          },
          "yaxis": {
           "automargin": true,
           "gridcolor": "white",
           "linecolor": "white",
           "ticks": "",
           "title": {
            "standoff": 15
           },
           "zerolinecolor": "white",
           "zerolinewidth": 2
          }
         }
        },
        "title": {
         "text": "ER Class Distribution in Each Batch - Task ID 6"
        },
        "xaxis": {
         "anchor": "y",
         "domain": [
          0,
          1
         ],
         "title": {
          "text": "Classes"
         }
        },
        "yaxis": {
         "anchor": "x",
         "autorange": "reversed",
         "domain": [
          0,
          1
         ],
         "title": {
          "text": "Batches"
         }
        }
       }
      }
     },
     "metadata": {},
     "output_type": "display_data"
    }
   ],
   "source": [
    "import numpy as np\n",
    "import plotly.express as px\n",
    "\n",
    "task_id = 6\n",
    "\n",
    "df = pd.read_csv(\"../results_plot_SplitCIFAR100_['EDR', 'ER']_False_[]_32_10_0_50_2/train_batches_y_ExperienceReplay.log\", \n",
    "                 names=[\"task_id\", \"class_0\", \"class_1\", \"class_2\", \"class_3\", \"class_4\", \"class_5\", \"class_6\", \n",
    "                            \"class_7\", \"class_8\", \"class_9\", \"class_10\", \"class_11\", \"class_12\", \"class_13\", \"class_14\", \"class_15\", \"class_16\",\n",
    "                            \"class_17\", \"class_18\", \"class_19\", \"class_20\", \"class_21\", \"class_22\", \"class_23\", \"class_24\", \"class_25\", \"class_26\",\n",
    "                            \"class_27\", \"class_28\", \"class_29\", \"class_30\", \"class_31\", \"class_32\", \"class_33\", \"class_34\", \"class_35\", \"class_36\",\n",
    "                            \"class_37\", \"class_38\", \"class_39\", \"class_40\", \"class_41\", \"class_42\", \"class_43\", \"class_44\", \"class_45\", \"class_46\",\n",
    "                            \"class_47\", \"class_48\", \"class_49\", \"class_50\", \"class_51\", \"class_52\", \"class_53\", \"class_54\", \"class_55\", \"class_56\",\n",
    "                            \"class_57\", \"class_58\", \"class_59\", \"class_60\", \"class_61\", \"class_62\", \"class_63\", \"class_64\", \"class_65\", \"class_66\",\n",
    "                            \"class_67\", \"class_68\", \"class_69\", \"class_70\", \"class_71\", \"class_72\", \"class_73\", \"class_74\", \"class_75\", \"class_76\",\n",
    "                            \"class_77\", \"class_78\", \"class_79\", \"class_80\", \"class_81\", \"class_82\", \"class_83\", \"class_84\", \"class_85\", \"class_86\",\n",
    "                            \"class_87\", \"class_88\", \"class_89\", \"class_90\", \"class_91\", \"class_92\", \"class_93\", \"class_94\", \"class_95\", \"class_96\",\n",
    "                            \"class_97\", \"class_98\", \"class_99\"],)\n",
    "\n",
    "df_plot = df.loc[df.task_id == task_id].reset_index(drop=True).copy()\n",
    "df_plot.drop(columns=[\"task_id\"], inplace=True)\n",
    "\n",
    "# Criação do heatmap interativo (classe no eixo Y, batch no eixo X)\n",
    "fig = px.imshow(\n",
    "    df_plot,\n",
    "    labels=dict(x=\"Classes\", y=\"Batches\", color=\"Number of Instances\"),\n",
    "    # x=[f\"Batch {i}\" for i in range(1, num_batches+1)],\n",
    "    # y=[f\"Classe {i}\" for i in range(num_classes)],\n",
    "    aspect=\"auto\",\n",
    "    color_continuous_scale=\"Viridis\",\n",
    "    origin=\"upper\",  # garante que Classe 0 fique em cima\n",
    "    # text_auto=True\n",
    ")\n",
    "\n",
    "fig.update_layout(\n",
    "    title=\"ER Class Distribution in Each Batch - Task ID {}\".format(task_id),\n",
    "    xaxis_title=\"Classes\",\n",
    "    yaxis_title=\"Batches\",\n",
    "    height=1000,\n",
    ")\n",
    "\n",
    "fig.show()"
   ]
  },
  {
   "cell_type": "markdown",
   "id": "e00203d1",
   "metadata": {},
   "source": [
    "\n",
    "#### Task 7\n",
    "#### Classes 96, 36, 9, 47, 50, 83, 84, 87, 25, 62"
   ]
  },
  {
   "cell_type": "code",
   "execution_count": 30,
   "id": "f871c911",
   "metadata": {},
   "outputs": [
    {
     "data": {
      "application/vnd.plotly.v1+json": {
       "config": {
        "plotlyServerURL": "https://plot.ly"
       },
       "data": [
        {
         "coloraxis": "coloraxis",
         "hovertemplate": "Classes: %{x}<br>Batches: %{y}<br>Number of Instances: %{z}<extra></extra>",
         "name": "0",
         "type": "heatmap",
         "x": [
          "class_0",
          "class_1",
          "class_2",
          "class_3",
          "class_4",
          "class_5",
          "class_6",
          "class_7",
          "class_8",
          "class_9",
          "class_10",
          "class_11",
          "class_12",
          "class_13",
          "class_14",
          "class_15",
          "class_16",
          "class_17",
          "class_18",
          "class_19",
          "class_20",
          "class_21",
          "class_22",
          "class_23",
          "class_24",
          "class_25",
          "class_26",
          "class_27",
          "class_28",
          "class_29",
          "class_30",
          "class_31",
          "class_32",
          "class_33",
          "class_34",
          "class_35",
          "class_36",
          "class_37",
          "class_38",
          "class_39",
          "class_40",
          "class_41",
          "class_42",
          "class_43",
          "class_44",
          "class_45",
          "class_46",
          "class_47",
          "class_48",
          "class_49",
          "class_50",
          "class_51",
          "class_52",
          "class_53",
          "class_54",
          "class_55",
          "class_56",
          "class_57",
          "class_58",
          "class_59",
          "class_60",
          "class_61",
          "class_62",
          "class_63",
          "class_64",
          "class_65",
          "class_66",
          "class_67",
          "class_68",
          "class_69",
          "class_70",
          "class_71",
          "class_72",
          "class_73",
          "class_74",
          "class_75",
          "class_76",
          "class_77",
          "class_78",
          "class_79",
          "class_80",
          "class_81",
          "class_82",
          "class_83",
          "class_84",
          "class_85",
          "class_86",
          "class_87",
          "class_88",
          "class_89",
          "class_90",
          "class_91",
          "class_92",
          "class_93",
          "class_94",
          "class_95",
          "class_96",
          "class_97",
          "class_98",
          "class_99"
         ],
         "xaxis": "x",
         "y": {
          "bdata": "AAECAwQFBgcICQoLDA0ODxAREhMUFRYXGBkaGxwdHh8gISIjJCUmJygpKissLS4vMDEyMzQ=",
          "dtype": "i1"
         },
         "yaxis": "y",
         "z": {
          "bdata": "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",
          "dtype": "i1",
          "shape": "53, 100"
         }
        }
       ],
       "layout": {
        "coloraxis": {
         "colorbar": {
          "title": {
           "text": "Number of Instances"
          }
         },
         "colorscale": [
          [
           0,
           "#440154"
          ],
          [
           0.1111111111111111,
           "#482878"
          ],
          [
           0.2222222222222222,
           "#3e4989"
          ],
          [
           0.3333333333333333,
           "#31688e"
          ],
          [
           0.4444444444444444,
           "#26828e"
          ],
          [
           0.5555555555555556,
           "#1f9e89"
          ],
          [
           0.6666666666666666,
           "#35b779"
          ],
          [
           0.7777777777777778,
           "#6ece58"
          ],
          [
           0.8888888888888888,
           "#b5de2b"
          ],
          [
           1,
           "#fde725"
          ]
         ]
        },
        "height": 900,
        "margin": {
         "t": 60
        },
        "template": {
         "data": {
          "bar": [
           {
            "error_x": {
             "color": "#2a3f5f"
            },
            "error_y": {
             "color": "#2a3f5f"
            },
            "marker": {
             "line": {
              "color": "#E5ECF6",
              "width": 0.5
             },
             "pattern": {
              "fillmode": "overlay",
              "size": 10,
              "solidity": 0.2
             }
            },
            "type": "bar"
           }
          ],
          "barpolar": [
           {
            "marker": {
             "line": {
              "color": "#E5ECF6",
              "width": 0.5
             },
             "pattern": {
              "fillmode": "overlay",
              "size": 10,
              "solidity": 0.2
             }
            },
            "type": "barpolar"
           }
          ],
          "carpet": [
           {
            "aaxis": {
             "endlinecolor": "#2a3f5f",
             "gridcolor": "white",
             "linecolor": "white",
             "minorgridcolor": "white",
             "startlinecolor": "#2a3f5f"
            },
            "baxis": {
             "endlinecolor": "#2a3f5f",
             "gridcolor": "white",
             "linecolor": "white",
             "minorgridcolor": "white",
             "startlinecolor": "#2a3f5f"
            },
            "type": "carpet"
           }
          ],
          "choropleth": [
           {
            "colorbar": {
             "outlinewidth": 0,
             "ticks": ""
            },
            "type": "choropleth"
           }
          ],
          "contour": [
           {
            "colorbar": {
             "outlinewidth": 0,
             "ticks": ""
            },
            "colorscale": [
             [
              0,
              "#0d0887"
             ],
             [
              0.1111111111111111,
              "#46039f"
             ],
             [
              0.2222222222222222,
              "#7201a8"
             ],
             [
              0.3333333333333333,
              "#9c179e"
             ],
             [
              0.4444444444444444,
              "#bd3786"
             ],
             [
              0.5555555555555556,
              "#d8576b"
             ],
             [
              0.6666666666666666,
              "#ed7953"
             ],
             [
              0.7777777777777778,
              "#fb9f3a"
             ],
             [
              0.8888888888888888,
              "#fdca26"
             ],
             [
              1,
              "#f0f921"
             ]
            ],
            "type": "contour"
           }
          ],
          "contourcarpet": [
           {
            "colorbar": {
             "outlinewidth": 0,
             "ticks": ""
            },
            "type": "contourcarpet"
           }
          ],
          "heatmap": [
           {
            "colorbar": {
             "outlinewidth": 0,
             "ticks": ""
            },
            "colorscale": [
             [
              0,
              "#0d0887"
             ],
             [
              0.1111111111111111,
              "#46039f"
             ],
             [
              0.2222222222222222,
              "#7201a8"
             ],
             [
              0.3333333333333333,
              "#9c179e"
             ],
             [
              0.4444444444444444,
              "#bd3786"
             ],
             [
              0.5555555555555556,
              "#d8576b"
             ],
             [
              0.6666666666666666,
              "#ed7953"
             ],
             [
              0.7777777777777778,
              "#fb9f3a"
             ],
             [
              0.8888888888888888,
              "#fdca26"
             ],
             [
              1,
              "#f0f921"
             ]
            ],
            "type": "heatmap"
           }
          ],
          "histogram": [
           {
            "marker": {
             "pattern": {
              "fillmode": "overlay",
              "size": 10,
              "solidity": 0.2
             }
            },
            "type": "histogram"
           }
          ],
          "histogram2d": [
           {
            "colorbar": {
             "outlinewidth": 0,
             "ticks": ""
            },
            "colorscale": [
             [
              0,
              "#0d0887"
             ],
             [
              0.1111111111111111,
              "#46039f"
             ],
             [
              0.2222222222222222,
              "#7201a8"
             ],
             [
              0.3333333333333333,
              "#9c179e"
             ],
             [
              0.4444444444444444,
              "#bd3786"
             ],
             [
              0.5555555555555556,
              "#d8576b"
             ],
             [
              0.6666666666666666,
              "#ed7953"
             ],
             [
              0.7777777777777778,
              "#fb9f3a"
             ],
             [
              0.8888888888888888,
              "#fdca26"
             ],
             [
              1,
              "#f0f921"
             ]
            ],
            "type": "histogram2d"
           }
          ],
          "histogram2dcontour": [
           {
            "colorbar": {
             "outlinewidth": 0,
             "ticks": ""
            },
            "colorscale": [
             [
              0,
              "#0d0887"
             ],
             [
              0.1111111111111111,
              "#46039f"
             ],
             [
              0.2222222222222222,
              "#7201a8"
             ],
             [
              0.3333333333333333,
              "#9c179e"
             ],
             [
              0.4444444444444444,
              "#bd3786"
             ],
             [
              0.5555555555555556,
              "#d8576b"
             ],
             [
              0.6666666666666666,
              "#ed7953"
             ],
             [
              0.7777777777777778,
              "#fb9f3a"
             ],
             [
              0.8888888888888888,
              "#fdca26"
             ],
             [
              1,
              "#f0f921"
             ]
            ],
            "type": "histogram2dcontour"
           }
          ],
          "mesh3d": [
           {
            "colorbar": {
             "outlinewidth": 0,
             "ticks": ""
            },
            "type": "mesh3d"
           }
          ],
          "parcoords": [
           {
            "line": {
             "colorbar": {
              "outlinewidth": 0,
              "ticks": ""
             }
            },
            "type": "parcoords"
           }
          ],
          "pie": [
           {
            "automargin": true,
            "type": "pie"
           }
          ],
          "scatter": [
           {
            "fillpattern": {
             "fillmode": "overlay",
             "size": 10,
             "solidity": 0.2
            },
            "type": "scatter"
           }
          ],
          "scatter3d": [
           {
            "line": {
             "colorbar": {
              "outlinewidth": 0,
              "ticks": ""
             }
            },
            "marker": {
             "colorbar": {
              "outlinewidth": 0,
              "ticks": ""
             }
            },
            "type": "scatter3d"
           }
          ],
          "scattercarpet": [
           {
            "marker": {
             "colorbar": {
              "outlinewidth": 0,
              "ticks": ""
             }
            },
            "type": "scattercarpet"
           }
          ],
          "scattergeo": [
           {
            "marker": {
             "colorbar": {
              "outlinewidth": 0,
              "ticks": ""
             }
            },
            "type": "scattergeo"
           }
          ],
          "scattergl": [
           {
            "marker": {
             "colorbar": {
              "outlinewidth": 0,
              "ticks": ""
             }
            },
            "type": "scattergl"
           }
          ],
          "scattermap": [
           {
            "marker": {
             "colorbar": {
              "outlinewidth": 0,
              "ticks": ""
             }
            },
            "type": "scattermap"
           }
          ],
          "scattermapbox": [
           {
            "marker": {
             "colorbar": {
              "outlinewidth": 0,
              "ticks": ""
             }
            },
            "type": "scattermapbox"
           }
          ],
          "scatterpolar": [
           {
            "marker": {
             "colorbar": {
              "outlinewidth": 0,
              "ticks": ""
             }
            },
            "type": "scatterpolar"
           }
          ],
          "scatterpolargl": [
           {
            "marker": {
             "colorbar": {
              "outlinewidth": 0,
              "ticks": ""
             }
            },
            "type": "scatterpolargl"
           }
          ],
          "scatterternary": [
           {
            "marker": {
             "colorbar": {
              "outlinewidth": 0,
              "ticks": ""
             }
            },
            "type": "scatterternary"
           }
          ],
          "surface": [
           {
            "colorbar": {
             "outlinewidth": 0,
             "ticks": ""
            },
            "colorscale": [
             [
              0,
              "#0d0887"
             ],
             [
              0.1111111111111111,
              "#46039f"
             ],
             [
              0.2222222222222222,
              "#7201a8"
             ],
             [
              0.3333333333333333,
              "#9c179e"
             ],
             [
              0.4444444444444444,
              "#bd3786"
             ],
             [
              0.5555555555555556,
              "#d8576b"
             ],
             [
              0.6666666666666666,
              "#ed7953"
             ],
             [
              0.7777777777777778,
              "#fb9f3a"
             ],
             [
              0.8888888888888888,
              "#fdca26"
             ],
             [
              1,
              "#f0f921"
             ]
            ],
            "type": "surface"
           }
          ],
          "table": [
           {
            "cells": {
             "fill": {
              "color": "#EBF0F8"
             },
             "line": {
              "color": "white"
             }
            },
            "header": {
             "fill": {
              "color": "#C8D4E3"
             },
             "line": {
              "color": "white"
             }
            },
            "type": "table"
           }
          ]
         },
         "layout": {
          "annotationdefaults": {
           "arrowcolor": "#2a3f5f",
           "arrowhead": 0,
           "arrowwidth": 1
          },
          "autotypenumbers": "strict",
          "coloraxis": {
           "colorbar": {
            "outlinewidth": 0,
            "ticks": ""
           }
          },
          "colorscale": {
           "diverging": [
            [
             0,
             "#8e0152"
            ],
            [
             0.1,
             "#c51b7d"
            ],
            [
             0.2,
             "#de77ae"
            ],
            [
             0.3,
             "#f1b6da"
            ],
            [
             0.4,
             "#fde0ef"
            ],
            [
             0.5,
             "#f7f7f7"
            ],
            [
             0.6,
             "#e6f5d0"
            ],
            [
             0.7,
             "#b8e186"
            ],
            [
             0.8,
             "#7fbc41"
            ],
            [
             0.9,
             "#4d9221"
            ],
            [
             1,
             "#276419"
            ]
           ],
           "sequential": [
            [
             0,
             "#0d0887"
            ],
            [
             0.1111111111111111,
             "#46039f"
            ],
            [
             0.2222222222222222,
             "#7201a8"
            ],
            [
             0.3333333333333333,
             "#9c179e"
            ],
            [
             0.4444444444444444,
             "#bd3786"
            ],
            [
             0.5555555555555556,
             "#d8576b"
            ],
            [
             0.6666666666666666,
             "#ed7953"
            ],
            [
             0.7777777777777778,
             "#fb9f3a"
            ],
            [
             0.8888888888888888,
             "#fdca26"
            ],
            [
             1,
             "#f0f921"
            ]
           ],
           "sequentialminus": [
            [
             0,
             "#0d0887"
            ],
            [
             0.1111111111111111,
             "#46039f"
            ],
            [
             0.2222222222222222,
             "#7201a8"
            ],
            [
             0.3333333333333333,
             "#9c179e"
            ],
            [
             0.4444444444444444,
             "#bd3786"
            ],
            [
             0.5555555555555556,
             "#d8576b"
            ],
            [
             0.6666666666666666,
             "#ed7953"
            ],
            [
             0.7777777777777778,
             "#fb9f3a"
            ],
            [
             0.8888888888888888,
             "#fdca26"
            ],
            [
             1,
             "#f0f921"
            ]
           ]
          },
          "colorway": [
           "#636efa",
           "#EF553B",
           "#00cc96",
           "#ab63fa",
           "#FFA15A",
           "#19d3f3",
           "#FF6692",
           "#B6E880",
           "#FF97FF",
           "#FECB52"
          ],
          "font": {
           "color": "#2a3f5f"
          },
          "geo": {
           "bgcolor": "white",
           "lakecolor": "white",
           "landcolor": "#E5ECF6",
           "showlakes": true,
           "showland": true,
           "subunitcolor": "white"
          },
          "hoverlabel": {
           "align": "left"
          },
          "hovermode": "closest",
          "mapbox": {
           "style": "light"
          },
          "paper_bgcolor": "white",
          "plot_bgcolor": "#E5ECF6",
          "polar": {
           "angularaxis": {
            "gridcolor": "white",
            "linecolor": "white",
            "ticks": ""
           },
           "bgcolor": "#E5ECF6",
           "radialaxis": {
            "gridcolor": "white",
            "linecolor": "white",
            "ticks": ""
           }
          },
          "scene": {
           "xaxis": {
            "backgroundcolor": "#E5ECF6",
            "gridcolor": "white",
            "gridwidth": 2,
            "linecolor": "white",
            "showbackground": true,
            "ticks": "",
            "zerolinecolor": "white"
           },
           "yaxis": {
            "backgroundcolor": "#E5ECF6",
            "gridcolor": "white",
            "gridwidth": 2,
            "linecolor": "white",
            "showbackground": true,
            "ticks": "",
            "zerolinecolor": "white"
           },
           "zaxis": {
            "backgroundcolor": "#E5ECF6",
            "gridcolor": "white",
            "gridwidth": 2,
            "linecolor": "white",
            "showbackground": true,
            "ticks": "",
            "zerolinecolor": "white"
           }
          },
          "shapedefaults": {
           "line": {
            "color": "#2a3f5f"
           }
          },
          "ternary": {
           "aaxis": {
            "gridcolor": "white",
            "linecolor": "white",
            "ticks": ""
           },
           "baxis": {
            "gridcolor": "white",
            "linecolor": "white",
            "ticks": ""
           },
           "bgcolor": "#E5ECF6",
           "caxis": {
            "gridcolor": "white",
            "linecolor": "white",
            "ticks": ""
           }
          },
          "title": {
           "x": 0.05
          },
          "xaxis": {
           "automargin": true,
           "gridcolor": "white",
           "linecolor": "white",
           "ticks": "",
           "title": {
            "standoff": 15
           },
           "zerolinecolor": "white",
           "zerolinewidth": 2
          },
          "yaxis": {
           "automargin": true,
           "gridcolor": "white",
           "linecolor": "white",
           "ticks": "",
           "title": {
            "standoff": 15
           },
           "zerolinecolor": "white",
           "zerolinewidth": 2
          }
         }
        },
        "title": {
         "text": "EDR Class Distribution in Each Batch - Task ID 7"
        },
        "xaxis": {
         "anchor": "y",
         "domain": [
          0,
          1
         ],
         "title": {
          "text": "Classes"
         }
        },
        "yaxis": {
         "anchor": "x",
         "autorange": "reversed",
         "domain": [
          0,
          1
         ],
         "title": {
          "text": "Batches"
         }
        }
       }
      }
     },
     "metadata": {},
     "output_type": "display_data"
    }
   ],
   "source": [
    "import numpy as np\n",
    "import plotly.express as px\n",
    "\n",
    "task_id = 7\n",
    "\n",
    "df = pd.read_csv(\"../results_plot_SplitCIFAR100_['EDR', 'ER']_False_[]_32_10_0_50_2/train_batches_y_ExperienceDelayReplay.log\", \n",
    "                 names=[\"task_id\", \"class_0\", \"class_1\", \"class_2\", \"class_3\", \"class_4\", \"class_5\", \"class_6\", \n",
    "                            \"class_7\", \"class_8\", \"class_9\", \"class_10\", \"class_11\", \"class_12\", \"class_13\", \"class_14\", \"class_15\", \"class_16\",\n",
    "                            \"class_17\", \"class_18\", \"class_19\", \"class_20\", \"class_21\", \"class_22\", \"class_23\", \"class_24\", \"class_25\", \"class_26\",\n",
    "                            \"class_27\", \"class_28\", \"class_29\", \"class_30\", \"class_31\", \"class_32\", \"class_33\", \"class_34\", \"class_35\", \"class_36\",\n",
    "                            \"class_37\", \"class_38\", \"class_39\", \"class_40\", \"class_41\", \"class_42\", \"class_43\", \"class_44\", \"class_45\", \"class_46\",\n",
    "                            \"class_47\", \"class_48\", \"class_49\", \"class_50\", \"class_51\", \"class_52\", \"class_53\", \"class_54\", \"class_55\", \"class_56\",\n",
    "                            \"class_57\", \"class_58\", \"class_59\", \"class_60\", \"class_61\", \"class_62\", \"class_63\", \"class_64\", \"class_65\", \"class_66\",\n",
    "                            \"class_67\", \"class_68\", \"class_69\", \"class_70\", \"class_71\", \"class_72\", \"class_73\", \"class_74\", \"class_75\", \"class_76\",\n",
    "                            \"class_77\", \"class_78\", \"class_79\", \"class_80\", \"class_81\", \"class_82\", \"class_83\", \"class_84\", \"class_85\", \"class_86\",\n",
    "                            \"class_87\", \"class_88\", \"class_89\", \"class_90\", \"class_91\", \"class_92\", \"class_93\", \"class_94\", \"class_95\", \"class_96\",\n",
    "                            \"class_97\", \"class_98\", \"class_99\"],)\n",
    "\n",
    "\n",
    "df_plot = df.loc[df.task_id == task_id].reset_index(drop=True).copy()\n",
    "# df_plot = pd.concat([df_plot[:10], df_plot[80:90], df_plot[115:125]], ignore_index=True)\n",
    "df_plot.drop(columns=[\"task_id\"], inplace=True)\n",
    "\n",
    "# Criação do heatmap interativo (classe no eixo Y, batch no eixo X)\n",
    "fig = px.imshow(\n",
    "    df_plot,\n",
    "    labels=dict(x=\"Classes\", y=\"Batches\", color=\"Number of Instances\"),\n",
    "    # x=[f\"Batch {i}\" for i in range(1, num_batches+1)],\n",
    "    # y=[f\"Classe {i}\" for i in range(num_classes)],\n",
    "    aspect=\"auto\",\n",
    "    color_continuous_scale=\"Viridis\",\n",
    "    origin=\"upper\",  # garante que Classe 0 fique em cima\n",
    "    # text_auto=True\n",
    ")\n",
    "\n",
    "fig.update_layout(\n",
    "    title=\"EDR Class Distribution in Each Batch - Task ID {}\".format(task_id),\n",
    "    xaxis_title=\"Classes\",\n",
    "    yaxis_title=\"Batches\",\n",
    "    height=900,\n",
    ")\n",
    "\n",
    "fig.show()"
   ]
  },
  {
   "cell_type": "code",
   "execution_count": 31,
   "id": "f3941ff1",
   "metadata": {},
   "outputs": [
    {
     "data": {
      "application/vnd.plotly.v1+json": {
       "config": {
        "plotlyServerURL": "https://plot.ly"
       },
       "data": [
        {
         "coloraxis": "coloraxis",
         "hovertemplate": "Classes: %{x}<br>Batches: %{y}<br>Number of Instances: %{z}<extra></extra>",
         "name": "0",
         "type": "heatmap",
         "x": [
          "class_0",
          "class_1",
          "class_2",
          "class_3",
          "class_4",
          "class_5",
          "class_6",
          "class_7",
          "class_8",
          "class_9",
          "class_10",
          "class_11",
          "class_12",
          "class_13",
          "class_14",
          "class_15",
          "class_16",
          "class_17",
          "class_18",
          "class_19",
          "class_20",
          "class_21",
          "class_22",
          "class_23",
          "class_24",
          "class_25",
          "class_26",
          "class_27",
          "class_28",
          "class_29",
          "class_30",
          "class_31",
          "class_32",
          "class_33",
          "class_34",
          "class_35",
          "class_36",
          "class_37",
          "class_38",
          "class_39",
          "class_40",
          "class_41",
          "class_42",
          "class_43",
          "class_44",
          "class_45",
          "class_46",
          "class_47",
          "class_48",
          "class_49",
          "class_50",
          "class_51",
          "class_52",
          "class_53",
          "class_54",
          "class_55",
          "class_56",
          "class_57",
          "class_58",
          "class_59",
          "class_60",
          "class_61",
          "class_62",
          "class_63",
          "class_64",
          "class_65",
          "class_66",
          "class_67",
          "class_68",
          "class_69",
          "class_70",
          "class_71",
          "class_72",
          "class_73",
          "class_74",
          "class_75",
          "class_76",
          "class_77",
          "class_78",
          "class_79",
          "class_80",
          "class_81",
          "class_82",
          "class_83",
          "class_84",
          "class_85",
          "class_86",
          "class_87",
          "class_88",
          "class_89",
          "class_90",
          "class_91",
          "class_92",
          "class_93",
          "class_94",
          "class_95",
          "class_96",
          "class_97",
          "class_98",
          "class_99"
         ],
         "xaxis": "x",
         "y": {
          "bdata": "AAECAwQFBgcICQoLDA0ODxAREhMUFRYXGBkaGxwdHh8gISIjJCUmJygpKissLS4vMDEyMzQ1Njc4OTo7PD0+P0BBQkNERUZHSElKS0xN",
          "dtype": "i1"
         },
         "yaxis": "y",
         "z": {
          "bdata": "AgMBAAABAAAAAAIDAwAAAAAAAAAAAAUAAQADAAEAAAACAAMAAAIAAAIAAgABAgAAAAAAAAIDAAEBAAAAAAAAAQAAAAABAAEAAQAAAAAFAAQCAQAAAAAAAAAAAAAAAQEAAAAAAAEFAgAAAAAAAAAAAQYAAAEBAAACAAACAAIAAgADAAACAgADAAADAAABAAAAAQUAAAAAAAACAAEAAAAAAAAAAAAAAAAAAAEAAQEAAAAACQABAAAAAAABAAAAAAAAAAABAQAAAAAGAwAAAAEAAAAAAQECAAADAAAAAAAAAgABAAIAAAAAAAQABQEAAQAAAAEAAAIFAAAAAQAAAwABAAAAAAAAAAABAAAAAAIAAAAAAAEAAAMAAwAAAQAAAAAAAAEAAAECAQEAAQAABQQAAAAAAAAAAAEDAQAAAAAAAAEAAAQBBQAGAAAAAQECAAIAAAAAAAAAAAACAgAAAAAAAAEBAAAAAAAAAAAAAAAAAAABAAAAAgABAAAEAgUAAAEAAAAAAAAAAAIAAQEAAAEAAAEAAAAAAAAAAAAAAwIAAAEAAAACAAAFAgIAAgABAAAABQAGAQABAAABAQAAAAQAAAAAAAAEAAEAAAAAAAAAAAAAAQAAAgEAAAAAAAAAAQAFAQABAAAAAAAAAgABAAECAQAAAAADBgIAAAEAAAEAAAIEAAABAAAAAQAAAwABAAAAAAAAAgQABAAAAgAAAAEAAAMAAAAAAAAAAwEAAAABAAEAAAAAAAIAAAAAAQAAAAAAAAICBQAAAgAAAAAAAAAAAQEBAAAAAAAAAwUAAQAAAAABAAEEAQAAAgAAAAAAAAIAAQADAAIAAAAHAAcBAAEAAAEBAAABAwAAAAAAAAEAAgAAAAABAAEAAAAAAAABAAABAQAAAAAAAAIAAgEAAAAAAAAAAAEAAQAAAAEAAAUEAAAAAAAAAAABAQEAAAEAAAAAAAAFAQEAAQAAAAIABQAFAAAEAAABAQAAAAMAAAAAAAACAQEBAAAAAAABAAEAAQAAAAEAAAAAAAAAAgEEAgABAAABAAAAAAEAAAABAAAAAAACAgEAAAEAAAAAAQAFAAAAAAAAAAAABQECAAAAAAAAAQUABAEAAQAAAgAAAAAHAAAAAAAAAQAAAQAAAAEAAQAAAAEAAAADAQEAAAAAAAQDAgEBAAAAAAAAAAAAAAABAAAAAQAAAwYCAAACAAAAAAIHBAAAAgAAAAIAAAQBAQABAAIAAQABAAMAAAAAAAIAAAABAgAAAAAAAAIBAgAAAAABAAEAAAAAAAAAAAAAAQAAAAABAAEAAAEAAAAAAAAAAAEBAgAAAAAAAAICAQAAAAAAAgABAwgAAAEAAAAAAAABAQIAAgABAAECAwABAAAAAAAFAAAAAAYAAAABAAAAAAAAAAAAAAABAAAAAAAAAQAAAAAAAAAABQIEAQEBAAAAAAAAAAEAAAEAAAAAAAAEAQAAAAAAAAEAAgMDAAADAAAAAgAAAgAAAAEAAQACAwcAAgEAAQAAAAAAAAADAAAAAAAAAQICAAAAAAEAAAAAAAAAAAEAAAEAAAAAAAUBBAABAgAAAAAAAAAAAAAAAAAAAQAAAQUBAAACAAAAAAACBwAAAQAAAAIAAAUBAgACAAAAAAMBAAIAAAAAAAAAAAACBQAAAAAAAAAAAQAAAQABAAAAAAAAAAAAAQAAAQABAAADAgMAAQEAAAAAAAAAAAAAAAMBAAAAAAMGAAIAAQAAAQAABQUAAAIAAAABAAACAgEAAQAAAAABAgADAQAAAAAAAQAAAAIAAAAAAAABAgEBAAAAAAAAAAIAAAAAAAEBAQEAAAAABQABAAABAAAAAAAAAAABAAECAAAAAAAEAgAAAAEAAAEAAAUHAAAAAAAAAgAAAAEBAAAAAQAAAgIACQEAAQAAAAIAAAABAAAAAQAAAgEBAAAAAAEAAAAAAAAAAAABAAEAAAEAAAAABgEAAgAAAAAAAAAAAAIAAQAAAAAABAECAAABAAACAAACBQAAAQAAAAAAAAEAAQABAAIAAAIEAAMBAAAAAAICAAABAgAAAAAAAAEBAAAAAAAAAAAAAAAAAAABAAAAAgAAAAAIAwQAAAEAAAAAAAAAAAACAAEAAAAAAAIEAAIAAgAAAAABAwYAAAEAAAABAAAFAAAAAAABAAACAgAFAAAAAAABAAAAAAAAAAAAAAACAQIAAAAAAQAAAAEAAAAAAQEAAQEAAQAAAQAHAQACAAAAAAAAAQABAQAAAAAAAAACBAEAAAAAAAEAAAQGAAACAAAAAAAAAQAFAAEAAQAAAQEAAwAAAgAAAQAAAAAFAAAAAAAAAQAAAQAAAAIAAAAAAAEAAAIAAAEBAAAAAAUBAgEAAQAAAQAAAAAAAgABAAAAAAAABAMAAQACAAAAAAAAAwAAAQEAAAAAAAMCAAADAAEAAAEEAAUAAAAAAAEAAAAABAAAAAAAAAQBAQEBAAAAAAAAAQAAAAAAAAAAAgABAAACAQQBAgAAAAAAAAAAAAAAAQIAAAAAAAQFAQAAAwAAAAAAAwEAAAIAAAAAAAADAgAAAgAAAAEAAwAFAAAAAAABAAEAAQUAAAAAAAABAQABAAAAAAAAAAAAAQAAAAEAAQIAAQAAAgICAQAAAAABAAAAAAEBAAIAAAAAAAADAwEAAAIAAAEAAQIFAAABAAAAAAAAAwEAAAEAAQAAAwgABAAAAQAAAQMAAAECAAAAAAAAAgEBAgABAAAAAAABAAAAAAAAAAEAAAAAAAMAAgAAAAAAAAAAAAEAAAAAAQAAAAAAAgIAAAAAAAAAAAADAwAAAQEAAAEAAAMBAgADAAEAAAIGAAEAAAAAAAIAAAAABQAAAAAAAAACAQICAAAAAAEAAAACAAABAQABAQAAAAAEAQQAAAEAAAAAAAABAAAAAAAAAAAAAAEIAAEAAgAAAAAAAwMAAAEAAAABAAABAQUAAQAAAAIABQAAAAABAAABAgAAAAMAAAAAAAABAAAAAQIAAQAAAAAAAQAAAAAAAAAAAQAAAgAIAAABAAACAAAAAAAAAAACAAAAAAAEAgMAAAEAAAEAAAUFAAAAAAAAAAAAAQEAAAAAAAAAAQAABwAAAAAAAQAAAAAEAAAAAAAAAQEBAgEAAAAAAAABAAIAAAEAAgACAAAAAAUCAgAAAgAAAAAAAAAAAAACAAAAAQAABAQDAAABAAAAAAICAwAAAgAAAAIAAAcAAwAAAAEAAAQDAAQBAAAAAAAAAAAAAgAAAAAAAAEBAAAAAAAAAAAAAQACAAAAAAAAAQABAAACAAUAAAEAAAAAAAAAAAAAAAEAAAAAAAcFAQEAAQAAAQAABAIAAAAAAAABAAAFAAEAAgACAAABAwAEAAABAAABAAAAAAEAAAAAAAAEAAIAAAAAAAABAAAAAAEAAAEAAAAAAAAAAAADAQEDAAAAAAAAAAAAAgEAAAAAAAACBgIBAAMAAAAAAAQDAAACAAAAAgAAAgEBAAAAAQABAAQAAgEAAQAAAwIAAAAEAAAAAAAAAQAAAQEAAAAAAAAAAAEAAAEAAAEAAAAAAAMBAwAAAQAAAQAAAAAAAAAAAAEAAAAAAgQDAAAAAAAAAAABAwAAAwEAAAIAAAQDAAAAAAIAAAEDAAcBAAEAAAABAAAAAwAAAAAAAAABAAEAAQABAAAAAQABAQABAAAAAAAAAAACAgMAAAEAAAAAAAAAAgAAAAABAAAAAAMCAQAAAQAAAgABBAMAAAEAAAACAAACAgEAAQAAAAACBAADAQABAAAAAAAAAgIAAAAAAAAEAwAAAAAAAAAAAAEAAAEAAAAAAAEAAAAABgEEAAABAAABAAAAAAAAAAAAAAAAAAABAwAAAAAAAAAAAAQCAAAAAAAAAAAAAQEBAAEAAAAAAgMABAAABAAAAQEAAAAEAAAAAQAAAwMAAAAAAAAAAAAAAAEBAAAAAAACAAAAAAcDBQAAAAAAAAAAAAIAAAECAAAAAAAABAIAAAABAAABAAIDBAAAAQAAAAAAAAIBAAACAAEAAQEEAAIBAAEAAAIBAQABAQAAAAEAAAAAAQEAAAAAAAAAAQAAAAAAAQAAAQAAAAAEAQYAAAIAAAEAAAAAAQAAAAIAAAEAAAUCAAEAAQAAAAABBQMAAAAAAAAAAAAFAAQAAQABAAACAwAFAAABAAABAAAAAAEAAAABAAABAQACAQEAAQAAAAEAAAAAAAABAAIAAAAABAACAQABAAAAAAAAAQAAAAEAAAAAAAADAAEAAAEAAAAAAgUFAAABAAAAAwAAAwACAAAAAQAAAAAAAQAAAQAAAgAAAAAFAAAAAgAAAQAAAAAAAAEAAAAAAAAAAAEAAAEAAAEAAAQABwABAgAAAAAAAAACAAECAQEAAAAABwYAAAACAAAAAAAGAgAAAgEAAAAAAAMCAgAAAAAAAQEDAAECAAEAAAEBAAABBAAAAAAAAAEAAAAAAAAAAAEAAAAAAAAAAAABAQAAAAADAgECAAAAAAAAAAAAAQABAQAAAAAAAAIBAwAAAwAAAQAACQMAAAAAAAABAAADAAAAAAAAAAABAgACAAABAAABAAAAAwYAAAAAAAAAAAEAAAAAAAAAAAEAAgAAAAEAAQAAAAAAAwEEAAABAAABAAAAAAEAAQMAAQAAAAAEAwAAAAEAAAAAAAEEAAAAAAAAAAAAAwEBAAMAAQABAwMAAgAAAQAAAQAAAAEHAAAAAAAAAQIAAQAAAAAAAAABAAAAAAABAQABAAAAAAIABAIBAwAAAAAAAAABAQAAAAAAAQAAAgIAAAAAAAABAAABBAAAAAEAAAIAAAQCAAAAAAEAAgAHAAQAAAEAAAMAAAABBQAAAAAAAAIBAAAAAgAAAAAAAQABAAAAAQAAAQAAAAADAAMBAAEAAAEAAAAAAQAAAQEAAAAAAAUCAAAAAQAAAAACAgEAAAAAAAABAAACAAAAAAAAAAABAgAFAAAAAAABAQAAAwQAAAACAAADAAEBAAAAAgAAAAAAAAAAAwAAAAEAAAAABQIHAAEAAAABAAAAAAAAAAAAAgAAAAAFAwEAAAAAAAAAAgIEAAAAAQAAAQAAAwECAAIAAwACAQIABgAAAAAAAAABAAIEAAAAAAAAAQAAAQAAAAAAAQABAAEAAAEAAAAAAAAAAAQBAQAAAAAAAAAAAAAAAAECAQAAAAAABAAAAgABAAABAAEFBQAAAAAAAAAAAAICAAABAAEAAAABAAcAAAEAAAEBAgAABwAAAAAAAAEBAQABAAAAAAAAAAACAAABAwAAAAAAAAACAQEBAgAAAAAAAAAAAQAAAAEAAAAAAAMFAQAAAQAAAAACAQQAAAAAAAAAAAAFAAAAAQABAAACBgAGAAAAAAAAAAAAAAMAAAAAAAABAQAAAQAAAAAAAAAAAQEAAAEAAAIAAAAAAQEFAAECAAABAAAAAAAAAAMAAAABAAAEBAAAAAAAAAAAAgEFAAADAAAAAAAAAwIAAAEAAQAABAIABgAAAAAAAQIAAAAEAAAAAQAAAQEAAAABAAAAAQAAAAAAAAAAAAIAAAEAAAYBAgEAAAAAAQAAAAAAAAAAAAAAAAAAAwUEAAACAAABAAIEBgAAAAAAAAIAAAMAAQAAAAIAAQABAAIAAAAAAAACAAAABAAAAAAAAAAAAQEAAAAAAAAAAAABAAAAAAAAAAABAAACAQUAAAIAAAEAAAABAAABAAIAAAAAAAMBAgAAAQAAAQAAAgkAAAIAAAADAAAGAgIAAAABAAEBBgAHAAAAAAAAAAAAAAIAAAAAAAADAAAAAAAAAAAAAAIAAAEAAAAAAAAAAAAAAQIBAAABAAAAAAAAAAAAAAABAAAAAAAEAwEAAAAAAAAAAAMDAAAAAAAAAAAAAwADAAIAAgACAQUABAAAAgAAAAAAAAACAAAAAAAAAgIAAAAAAAEAAAAAAAABAAEAAQACAAAAAAQBAwECAAAAAAAAAAABAAEAAAEAAAAABgQCAAADAAABAAADBAAAAAAAAAAAAAAAAQAAAAEAAQABAAYBAAAAAAIAAAABBQAAAAAAAAIAAQAAAAABAAAAAAABAAAAAAABAQABAAAEAgMAAAEAAAAAAAAAAAAAAgEBAAAAAAMBAQAAAAAAAAABAggAAAEBAAABAAAEAAAAAQACAAACAwAFAQAAAAAAAAAAAQMAAAAAAAADAAEAAQAAAAAAAAEAAQAAAAAAAAEAAAAABAADAgACAAAAAAAAAAAAAAECAQAAAAACAgAAAAAAAAAABAQFAAAAAAAAAgAABAICAAAAAAAAAQUABAAAAQAAAQAAAAECAAAAAAAAAwMBAQABAAAAAQAAAAAAAAACAAAAAAAAAAIAAgAAAQAAAAAAAAAAAAACAQAAAgAABAQAAAACAAABAAEAAwAAAAAAAAEAAAUAAAAEAAAAAAEEAAMAAAEAAAIAAQAAAgAAAAEAAAIAAQAAAAAAAAAAAQAAAgAAAAAAAAABAAAGAAIDAAAAAAAAAAABAQABAQEBAAAAAAUDAAAAAwAAAAACAgEAAAEAAAADAAAGAgMAAAABAAAAAgAHAAABAAACAQAAAAMAAAAAAAACAAEAAQAAAAAAAAAAAAAAAAABAAAAAQAAAwADAQABAAAAAAAAAAAAAQEAAAAAAAACAQEAAAAAAAEAAAcJAAACAAAAAgAAAgEBAAEAAQAAAQQAAgAAAAAABAAAAAAFAAAAAAAAAgEAAAAAAAAAAAAAAAAAAAAAAAECAAEAAAABBAAAAQAAAAAAAAAAAQIBAAAAAAAAAQABAAABAAABAgEBAQAAAQAAAAEAAAAAAAQCAAMAAAEAAAEAAQAAAAAAAQACAAACAAAEAAQAAAAAAAAAAAACAQABAAAAAQAAAgAAAAAAAgAAAAADAgAABgAAAAAAAAABBgEAAAAAAgEAAAAAAAQAAAEAAAAAAAAAAAAAAQADAAADAAEAAQAAAAEBAAABAQMAAAAAAgAABAAAAQABAAIAAAAAAgAAAAAAAAEBAAIAAAAAAAEAAQACAwIAAAMAAgAAAAACAAgAAAABAAIAAAMAAAEFAAABAAAAAAAAAQAAAAAAAQMAAgAAAgAAAQECAAAAAQAAAAAAAAYAAAEAAQEAAAAAAAAAAAMBAAIAAAAAAAAAAAAAAAEBAAABAAQEAQADAAEBAAACAAADAAAAAAAAAAABAAAAAgABAgAAAAAAAAAAAAABAgQAAAEAAAAAAAEBBAAAAAIAAAAAAAABAAAGAAMAAAAAAAAAAAAEAQACAAAAAgAAAQAAAAAAAQAEAAIBAwAAAQAAAAACAQEABgAAAAIAAQAAAQAAAAMBAAEAAAEAAAAAAAAAAAAFAQAAAAIAAQACAAMAAAABAAAAAQAAAgABBQACAQEBAAAAAAAAAgEAAQAAAAAAAAAAAAAAAAIAAQABBAMAAAMAAQAAAAEBAAMBAAABAAEAAAEAAAAEAAEBAAABAgAAAwAAAAAAAwEAAgABAAAAAAAFAAAAAwAAAAEAAAQAAAIAAQAAAQAAAAAAAQYCAAAAAAAAAQABAAAAAAEAAAAAAQMBAAADAAAAAAACAQACAAAAAQAAAAABAAAABAEAAAAAAQAAAAAAAAABBQIEAAAAAAAAAAAAAgAAAAAAAgABAAADAAEDAAEBAQAAAQAAAAEGAAABAAABAQAAAwAAAAAAAgAAAAADAgAABQAAAAAAAAABAgAAAAAAAQEAAgAAAAIAAAEAAAAAAAABAAAAAwEFAAAAAAEBAAAAAAMAAAADAAAAAgAAAgAAAgABAAAAAAAAAAAAAwIAAQAAAQIAAAEAAAAAAAMAAQABAgYAAAQAAAEAAQAAAAMAAAAAAAAAAAIAAAADAgAAAAABAQAAAgAAAAABBAEAAAABAAAAAQACAAAAAAEAAAAAAAUAAAMAAgABAQAAAAAAAAIBAAABAAABAAABAAAAAAEBAAAAAgIFAAAFAAAAAAEBAwACAQAAAAAAAAAAAAAAAgAAAQAABAAAAAEAAAAAAQEAAAEAAQIAAAEAAQIAAAAAAQABAAAFAAAFAAEBAgAAAAABAAAEAQABAAAAAAAAAAAAAAAAAgABAAEEAQAABwAAAAAAAQMAAgEAAAAAAAAAAgAAAQEAAAMAAAEBAAADAAAAAQEHAwACAAEAAAABAAUAAAAAAAAAAAAAAwAAAgAABQAAAAAAAQAAAQAAAAAAAAAAAAEAAAAAAAEAAAACAQMAAAYAAAACAAAAAAMAAAAAAAAAAAAAAAAEAQABAAACAAAAAQAAAAABAgEAAgAAAQAAAQADAQAAAgAAAAAAAAcAAAUAAgEAAAACAAAAAAICAAEBAAAAAQABAAAAAAACAAAAAAQCAAABAAAAAAEBAQADAQAAAQAAAAACAAAAAwABAAAAAQAAAAIAAAADAQgDAAEAAAABAAAAAQAAAAEBAQAAAAAEAAAEAAEAAAABAAAAAAECAAAAAAAAAAAAAQAAAAAAAQABAAACAwEAAwAAAQACAQEAAwAAAAAAAAEAAgAAAQIAAAAAAAAAAAABAAAAAwECAwAAAAIAAQABAAQBAAAAAAEAAQAAAwAAAwADAQAAAAAAAAAAAQAAAQIAAAAAAAAAAAAAAAEAAAAACAIBAAMAAAECAAABAAQAAAAAAAIAAAMAAAADAQACAAABAAAAAQAAAAEBAgEAAQADAAAAAQACAQAAAQEBAAIAAAUAAAQAAAAAAAAAAAAAAAIAAAACAAEAAAAAAAEAAAABAAAAAAYFAAACAAEAAAEAAQABAAAAAQACAAACAAAAAgEABQAAAQAAAAIAAAAAAAMAAAIAAAEAAAAAAwAAAAIBAAABAAAAAAAEAAEAAAAAAAAAAAAHAAABAAAAAQABAAAAAAAAAAADAAACBQAABQABAgAAAQAAAQAAAAEAAgAAAQAAAAMEAQAAAAMAAAAAAAAAAQEGAQAAAAEAAAABAAIAAAAAAgAAAQAABwAABAABAAAAAAAAAQAAAQAAAAAAAAEAAAIAAAAAAAEAAAEBAgQAAAMAAQAAAAABAAEBAAAAAAIAAAIAAAADAAABAAAEAAAAAAAAAAEABQAAAAAAAQAAAAAEAAAAAAAAAAEAAAQAAAUAAAEAAQAAAAAAAAIAAAAAAAABAAABAAEAAAADAAIBAgICAAACAAABAgMAAAAEAAAAAQABAAACAAAABwIAAQAAAgAAAAEAAAAAAQUAAAIAAAABAAACAQAAAAABAAAAAAABAAAEAAABAAAAAAABAAABAAABAQAAAwAAAQABAAAAAwABAAAHAgAABQAAAAABAAAAAAAAAAAAAQAAAQAAAAYBAAAAAAAAAAAAAAAAAQACAQABAAEDAAACAAQAAAABAQAAAQAABgAAAgAAAAEAAAAAAAABAwEAAQAAAAAAAAEAAAAAAAEAAQEBAQYAAAEAAQEAAAICAAIBAAAAAAAAAAEAAAAEAgABAAAAAQAAAQAAAAAABAEAAgAAAQAAAAEEAAAAAAIAAAEAAAMAAAMAAQEBAAAAAAAAAQQBAAAAAAABAQABAAAAAAACAAEAAgcAAAADAAAAAAIAAAACAQAAAAAAAAABAAABAwEAAQAAAAAAAAEAAAACAQIBAAAAAAEAAAEAAgAAAAMAAAAAAAAIAAACAAEBAAAAAQAAAAACAQAAAAABAgEAAAAAAAAAAAABAAEABAAAAwAAAQAAAgEACQEAAAAAAgIAAgAAAAQAAAAAAAEAAAAAAAAAAQAEAAAAAAABAAABAQIBAAABAwAAAAAABAAABQAAAAEAAAAAAAABBAEAAAAAAAABAAAAAQAAAAAAAQAABQQBAAQAAAAAAAMBAAEAAAABAAEAAAAAAAEHAAACAAAAAAAAAgAAAAEAAgIAAAAAAQAAAgEDAQAAAAABAAEAAAEAAAYAAQEAAAAAAAAAAAQAAAAAAAACAgABAAAAAAABAAAAAAICAAACAAAAAAEAAwAFAQAAAQAAAAAAAAABAgMAAgAAAwEAAAAAAAAAAAYDAAAAAAAAAAEABAAAAAEDAAAAAAAGAAAEAAABAAABAAAAAAACAAABAAAAAQAAAwAAAAAAAQAAAAACBAEAAgAAAAAAAAAAAgIAAAIAAQAAAQAAAAMAAQAAAAAAAAAAAAAAAgIDAQABAAAAAAAAAAQBAAABAQAAAgAAAgAAAQABAQAAAQAAAAAAAwEAAQEAAAECAAEAAAAAAAIAAgABAwMAAAQAAAAAAAABAAYAAAAAAAABAAEAAAACAgAAAAAAAAAAAQAAAAECAwEAAgAAAQAAAAAEAAAAAAAAAAAAAAMAAAYAAgIBAQAAAAIAAAIAAAAAAAAAAAAAAAIAAAAAAAAAAAMEAAADAAAAAQECAAAHAQAA",
          "dtype": "i1",
          "shape": "78, 100"
         }
        }
       ],
       "layout": {
        "coloraxis": {
         "colorbar": {
          "title": {
           "text": "Number of Instances"
          }
         },
         "colorscale": [
          [
           0,
           "#440154"
          ],
          [
           0.1111111111111111,
           "#482878"
          ],
          [
           0.2222222222222222,
           "#3e4989"
          ],
          [
           0.3333333333333333,
           "#31688e"
          ],
          [
           0.4444444444444444,
           "#26828e"
          ],
          [
           0.5555555555555556,
           "#1f9e89"
          ],
          [
           0.6666666666666666,
           "#35b779"
          ],
          [
           0.7777777777777778,
           "#6ece58"
          ],
          [
           0.8888888888888888,
           "#b5de2b"
          ],
          [
           1,
           "#fde725"
          ]
         ]
        },
        "height": 1000,
        "margin": {
         "t": 60
        },
        "template": {
         "data": {
          "bar": [
           {
            "error_x": {
             "color": "#2a3f5f"
            },
            "error_y": {
             "color": "#2a3f5f"
            },
            "marker": {
             "line": {
              "color": "#E5ECF6",
              "width": 0.5
             },
             "pattern": {
              "fillmode": "overlay",
              "size": 10,
              "solidity": 0.2
             }
            },
            "type": "bar"
           }
          ],
          "barpolar": [
           {
            "marker": {
             "line": {
              "color": "#E5ECF6",
              "width": 0.5
             },
             "pattern": {
              "fillmode": "overlay",
              "size": 10,
              "solidity": 0.2
             }
            },
            "type": "barpolar"
           }
          ],
          "carpet": [
           {
            "aaxis": {
             "endlinecolor": "#2a3f5f",
             "gridcolor": "white",
             "linecolor": "white",
             "minorgridcolor": "white",
             "startlinecolor": "#2a3f5f"
            },
            "baxis": {
             "endlinecolor": "#2a3f5f",
             "gridcolor": "white",
             "linecolor": "white",
             "minorgridcolor": "white",
             "startlinecolor": "#2a3f5f"
            },
            "type": "carpet"
           }
          ],
          "choropleth": [
           {
            "colorbar": {
             "outlinewidth": 0,
             "ticks": ""
            },
            "type": "choropleth"
           }
          ],
          "contour": [
           {
            "colorbar": {
             "outlinewidth": 0,
             "ticks": ""
            },
            "colorscale": [
             [
              0,
              "#0d0887"
             ],
             [
              0.1111111111111111,
              "#46039f"
             ],
             [
              0.2222222222222222,
              "#7201a8"
             ],
             [
              0.3333333333333333,
              "#9c179e"
             ],
             [
              0.4444444444444444,
              "#bd3786"
             ],
             [
              0.5555555555555556,
              "#d8576b"
             ],
             [
              0.6666666666666666,
              "#ed7953"
             ],
             [
              0.7777777777777778,
              "#fb9f3a"
             ],
             [
              0.8888888888888888,
              "#fdca26"
             ],
             [
              1,
              "#f0f921"
             ]
            ],
            "type": "contour"
           }
          ],
          "contourcarpet": [
           {
            "colorbar": {
             "outlinewidth": 0,
             "ticks": ""
            },
            "type": "contourcarpet"
           }
          ],
          "heatmap": [
           {
            "colorbar": {
             "outlinewidth": 0,
             "ticks": ""
            },
            "colorscale": [
             [
              0,
              "#0d0887"
             ],
             [
              0.1111111111111111,
              "#46039f"
             ],
             [
              0.2222222222222222,
              "#7201a8"
             ],
             [
              0.3333333333333333,
              "#9c179e"
             ],
             [
              0.4444444444444444,
              "#bd3786"
             ],
             [
              0.5555555555555556,
              "#d8576b"
             ],
             [
              0.6666666666666666,
              "#ed7953"
             ],
             [
              0.7777777777777778,
              "#fb9f3a"
             ],
             [
              0.8888888888888888,
              "#fdca26"
             ],
             [
              1,
              "#f0f921"
             ]
            ],
            "type": "heatmap"
           }
          ],
          "histogram": [
           {
            "marker": {
             "pattern": {
              "fillmode": "overlay",
              "size": 10,
              "solidity": 0.2
             }
            },
            "type": "histogram"
           }
          ],
          "histogram2d": [
           {
            "colorbar": {
             "outlinewidth": 0,
             "ticks": ""
            },
            "colorscale": [
             [
              0,
              "#0d0887"
             ],
             [
              0.1111111111111111,
              "#46039f"
             ],
             [
              0.2222222222222222,
              "#7201a8"
             ],
             [
              0.3333333333333333,
              "#9c179e"
             ],
             [
              0.4444444444444444,
              "#bd3786"
             ],
             [
              0.5555555555555556,
              "#d8576b"
             ],
             [
              0.6666666666666666,
              "#ed7953"
             ],
             [
              0.7777777777777778,
              "#fb9f3a"
             ],
             [
              0.8888888888888888,
              "#fdca26"
             ],
             [
              1,
              "#f0f921"
             ]
            ],
            "type": "histogram2d"
           }
          ],
          "histogram2dcontour": [
           {
            "colorbar": {
             "outlinewidth": 0,
             "ticks": ""
            },
            "colorscale": [
             [
              0,
              "#0d0887"
             ],
             [
              0.1111111111111111,
              "#46039f"
             ],
             [
              0.2222222222222222,
              "#7201a8"
             ],
             [
              0.3333333333333333,
              "#9c179e"
             ],
             [
              0.4444444444444444,
              "#bd3786"
             ],
             [
              0.5555555555555556,
              "#d8576b"
             ],
             [
              0.6666666666666666,
              "#ed7953"
             ],
             [
              0.7777777777777778,
              "#fb9f3a"
             ],
             [
              0.8888888888888888,
              "#fdca26"
             ],
             [
              1,
              "#f0f921"
             ]
            ],
            "type": "histogram2dcontour"
           }
          ],
          "mesh3d": [
           {
            "colorbar": {
             "outlinewidth": 0,
             "ticks": ""
            },
            "type": "mesh3d"
           }
          ],
          "parcoords": [
           {
            "line": {
             "colorbar": {
              "outlinewidth": 0,
              "ticks": ""
             }
            },
            "type": "parcoords"
           }
          ],
          "pie": [
           {
            "automargin": true,
            "type": "pie"
           }
          ],
          "scatter": [
           {
            "fillpattern": {
             "fillmode": "overlay",
             "size": 10,
             "solidity": 0.2
            },
            "type": "scatter"
           }
          ],
          "scatter3d": [
           {
            "line": {
             "colorbar": {
              "outlinewidth": 0,
              "ticks": ""
             }
            },
            "marker": {
             "colorbar": {
              "outlinewidth": 0,
              "ticks": ""
             }
            },
            "type": "scatter3d"
           }
          ],
          "scattercarpet": [
           {
            "marker": {
             "colorbar": {
              "outlinewidth": 0,
              "ticks": ""
             }
            },
            "type": "scattercarpet"
           }
          ],
          "scattergeo": [
           {
            "marker": {
             "colorbar": {
              "outlinewidth": 0,
              "ticks": ""
             }
            },
            "type": "scattergeo"
           }
          ],
          "scattergl": [
           {
            "marker": {
             "colorbar": {
              "outlinewidth": 0,
              "ticks": ""
             }
            },
            "type": "scattergl"
           }
          ],
          "scattermap": [
           {
            "marker": {
             "colorbar": {
              "outlinewidth": 0,
              "ticks": ""
             }
            },
            "type": "scattermap"
           }
          ],
          "scattermapbox": [
           {
            "marker": {
             "colorbar": {
              "outlinewidth": 0,
              "ticks": ""
             }
            },
            "type": "scattermapbox"
           }
          ],
          "scatterpolar": [
           {
            "marker": {
             "colorbar": {
              "outlinewidth": 0,
              "ticks": ""
             }
            },
            "type": "scatterpolar"
           }
          ],
          "scatterpolargl": [
           {
            "marker": {
             "colorbar": {
              "outlinewidth": 0,
              "ticks": ""
             }
            },
            "type": "scatterpolargl"
           }
          ],
          "scatterternary": [
           {
            "marker": {
             "colorbar": {
              "outlinewidth": 0,
              "ticks": ""
             }
            },
            "type": "scatterternary"
           }
          ],
          "surface": [
           {
            "colorbar": {
             "outlinewidth": 0,
             "ticks": ""
            },
            "colorscale": [
             [
              0,
              "#0d0887"
             ],
             [
              0.1111111111111111,
              "#46039f"
             ],
             [
              0.2222222222222222,
              "#7201a8"
             ],
             [
              0.3333333333333333,
              "#9c179e"
             ],
             [
              0.4444444444444444,
              "#bd3786"
             ],
             [
              0.5555555555555556,
              "#d8576b"
             ],
             [
              0.6666666666666666,
              "#ed7953"
             ],
             [
              0.7777777777777778,
              "#fb9f3a"
             ],
             [
              0.8888888888888888,
              "#fdca26"
             ],
             [
              1,
              "#f0f921"
             ]
            ],
            "type": "surface"
           }
          ],
          "table": [
           {
            "cells": {
             "fill": {
              "color": "#EBF0F8"
             },
             "line": {
              "color": "white"
             }
            },
            "header": {
             "fill": {
              "color": "#C8D4E3"
             },
             "line": {
              "color": "white"
             }
            },
            "type": "table"
           }
          ]
         },
         "layout": {
          "annotationdefaults": {
           "arrowcolor": "#2a3f5f",
           "arrowhead": 0,
           "arrowwidth": 1
          },
          "autotypenumbers": "strict",
          "coloraxis": {
           "colorbar": {
            "outlinewidth": 0,
            "ticks": ""
           }
          },
          "colorscale": {
           "diverging": [
            [
             0,
             "#8e0152"
            ],
            [
             0.1,
             "#c51b7d"
            ],
            [
             0.2,
             "#de77ae"
            ],
            [
             0.3,
             "#f1b6da"
            ],
            [
             0.4,
             "#fde0ef"
            ],
            [
             0.5,
             "#f7f7f7"
            ],
            [
             0.6,
             "#e6f5d0"
            ],
            [
             0.7,
             "#b8e186"
            ],
            [
             0.8,
             "#7fbc41"
            ],
            [
             0.9,
             "#4d9221"
            ],
            [
             1,
             "#276419"
            ]
           ],
           "sequential": [
            [
             0,
             "#0d0887"
            ],
            [
             0.1111111111111111,
             "#46039f"
            ],
            [
             0.2222222222222222,
             "#7201a8"
            ],
            [
             0.3333333333333333,
             "#9c179e"
            ],
            [
             0.4444444444444444,
             "#bd3786"
            ],
            [
             0.5555555555555556,
             "#d8576b"
            ],
            [
             0.6666666666666666,
             "#ed7953"
            ],
            [
             0.7777777777777778,
             "#fb9f3a"
            ],
            [
             0.8888888888888888,
             "#fdca26"
            ],
            [
             1,
             "#f0f921"
            ]
           ],
           "sequentialminus": [
            [
             0,
             "#0d0887"
            ],
            [
             0.1111111111111111,
             "#46039f"
            ],
            [
             0.2222222222222222,
             "#7201a8"
            ],
            [
             0.3333333333333333,
             "#9c179e"
            ],
            [
             0.4444444444444444,
             "#bd3786"
            ],
            [
             0.5555555555555556,
             "#d8576b"
            ],
            [
             0.6666666666666666,
             "#ed7953"
            ],
            [
             0.7777777777777778,
             "#fb9f3a"
            ],
            [
             0.8888888888888888,
             "#fdca26"
            ],
            [
             1,
             "#f0f921"
            ]
           ]
          },
          "colorway": [
           "#636efa",
           "#EF553B",
           "#00cc96",
           "#ab63fa",
           "#FFA15A",
           "#19d3f3",
           "#FF6692",
           "#B6E880",
           "#FF97FF",
           "#FECB52"
          ],
          "font": {
           "color": "#2a3f5f"
          },
          "geo": {
           "bgcolor": "white",
           "lakecolor": "white",
           "landcolor": "#E5ECF6",
           "showlakes": true,
           "showland": true,
           "subunitcolor": "white"
          },
          "hoverlabel": {
           "align": "left"
          },
          "hovermode": "closest",
          "mapbox": {
           "style": "light"
          },
          "paper_bgcolor": "white",
          "plot_bgcolor": "#E5ECF6",
          "polar": {
           "angularaxis": {
            "gridcolor": "white",
            "linecolor": "white",
            "ticks": ""
           },
           "bgcolor": "#E5ECF6",
           "radialaxis": {
            "gridcolor": "white",
            "linecolor": "white",
            "ticks": ""
           }
          },
          "scene": {
           "xaxis": {
            "backgroundcolor": "#E5ECF6",
            "gridcolor": "white",
            "gridwidth": 2,
            "linecolor": "white",
            "showbackground": true,
            "ticks": "",
            "zerolinecolor": "white"
           },
           "yaxis": {
            "backgroundcolor": "#E5ECF6",
            "gridcolor": "white",
            "gridwidth": 2,
            "linecolor": "white",
            "showbackground": true,
            "ticks": "",
            "zerolinecolor": "white"
           },
           "zaxis": {
            "backgroundcolor": "#E5ECF6",
            "gridcolor": "white",
            "gridwidth": 2,
            "linecolor": "white",
            "showbackground": true,
            "ticks": "",
            "zerolinecolor": "white"
           }
          },
          "shapedefaults": {
           "line": {
            "color": "#2a3f5f"
           }
          },
          "ternary": {
           "aaxis": {
            "gridcolor": "white",
            "linecolor": "white",
            "ticks": ""
           },
           "baxis": {
            "gridcolor": "white",
            "linecolor": "white",
            "ticks": ""
           },
           "bgcolor": "#E5ECF6",
           "caxis": {
            "gridcolor": "white",
            "linecolor": "white",
            "ticks": ""
           }
          },
          "title": {
           "x": 0.05
          },
          "xaxis": {
           "automargin": true,
           "gridcolor": "white",
           "linecolor": "white",
           "ticks": "",
           "title": {
            "standoff": 15
           },
           "zerolinecolor": "white",
           "zerolinewidth": 2
          },
          "yaxis": {
           "automargin": true,
           "gridcolor": "white",
           "linecolor": "white",
           "ticks": "",
           "title": {
            "standoff": 15
           },
           "zerolinecolor": "white",
           "zerolinewidth": 2
          }
         }
        },
        "title": {
         "text": "ER Class Distribution in Each Batch - Task ID 7"
        },
        "xaxis": {
         "anchor": "y",
         "domain": [
          0,
          1
         ],
         "title": {
          "text": "Classes"
         }
        },
        "yaxis": {
         "anchor": "x",
         "autorange": "reversed",
         "domain": [
          0,
          1
         ],
         "title": {
          "text": "Batches"
         }
        }
       }
      }
     },
     "metadata": {},
     "output_type": "display_data"
    }
   ],
   "source": [
    "import numpy as np\n",
    "import plotly.express as px\n",
    "\n",
    "task_id = 7\n",
    "\n",
    "df = pd.read_csv(\"../results_plot_SplitCIFAR100_['EDR', 'ER']_False_[]_32_10_0_50_2/train_batches_y_ExperienceReplay.log\", \n",
    "                 names=[\"task_id\", \"class_0\", \"class_1\", \"class_2\", \"class_3\", \"class_4\", \"class_5\", \"class_6\", \n",
    "                            \"class_7\", \"class_8\", \"class_9\", \"class_10\", \"class_11\", \"class_12\", \"class_13\", \"class_14\", \"class_15\", \"class_16\",\n",
    "                            \"class_17\", \"class_18\", \"class_19\", \"class_20\", \"class_21\", \"class_22\", \"class_23\", \"class_24\", \"class_25\", \"class_26\",\n",
    "                            \"class_27\", \"class_28\", \"class_29\", \"class_30\", \"class_31\", \"class_32\", \"class_33\", \"class_34\", \"class_35\", \"class_36\",\n",
    "                            \"class_37\", \"class_38\", \"class_39\", \"class_40\", \"class_41\", \"class_42\", \"class_43\", \"class_44\", \"class_45\", \"class_46\",\n",
    "                            \"class_47\", \"class_48\", \"class_49\", \"class_50\", \"class_51\", \"class_52\", \"class_53\", \"class_54\", \"class_55\", \"class_56\",\n",
    "                            \"class_57\", \"class_58\", \"class_59\", \"class_60\", \"class_61\", \"class_62\", \"class_63\", \"class_64\", \"class_65\", \"class_66\",\n",
    "                            \"class_67\", \"class_68\", \"class_69\", \"class_70\", \"class_71\", \"class_72\", \"class_73\", \"class_74\", \"class_75\", \"class_76\",\n",
    "                            \"class_77\", \"class_78\", \"class_79\", \"class_80\", \"class_81\", \"class_82\", \"class_83\", \"class_84\", \"class_85\", \"class_86\",\n",
    "                            \"class_87\", \"class_88\", \"class_89\", \"class_90\", \"class_91\", \"class_92\", \"class_93\", \"class_94\", \"class_95\", \"class_96\",\n",
    "                            \"class_97\", \"class_98\", \"class_99\"],)\n",
    "\n",
    "df_plot = df.loc[df.task_id == task_id].reset_index(drop=True).copy()\n",
    "df_plot.drop(columns=[\"task_id\"], inplace=True)\n",
    "\n",
    "# Criação do heatmap interativo (classe no eixo Y, batch no eixo X)\n",
    "fig = px.imshow(\n",
    "    df_plot,\n",
    "    labels=dict(x=\"Classes\", y=\"Batches\", color=\"Number of Instances\"),\n",
    "    # x=[f\"Batch {i}\" for i in range(1, num_batches+1)],\n",
    "    # y=[f\"Classe {i}\" for i in range(num_classes)],\n",
    "    aspect=\"auto\",\n",
    "    color_continuous_scale=\"Viridis\",\n",
    "    origin=\"upper\",  # garante que Classe 0 fique em cima\n",
    "    # text_auto=True\n",
    ")\n",
    "\n",
    "fig.update_layout(\n",
    "    title=\"ER Class Distribution in Each Batch - Task ID {}\".format(task_id),\n",
    "    xaxis_title=\"Classes\",\n",
    "    yaxis_title=\"Batches\",\n",
    "    height=1000,\n",
    ")\n",
    "\n",
    "fig.show()"
   ]
  },
  {
   "cell_type": "markdown",
   "id": "c080e20e",
   "metadata": {},
   "source": [
    "\n",
    "#### Task 8\n",
    "#### Classes 64, 67, 39, 75, 13, 48, 17, 18, 21, 88"
   ]
  },
  {
   "cell_type": "code",
   "execution_count": 32,
   "id": "2c0ed41e",
   "metadata": {},
   "outputs": [
    {
     "data": {
      "application/vnd.plotly.v1+json": {
       "config": {
        "plotlyServerURL": "https://plot.ly"
       },
       "data": [
        {
         "coloraxis": "coloraxis",
         "hovertemplate": "Classes: %{x}<br>Batches: %{y}<br>Number of Instances: %{z}<extra></extra>",
         "name": "0",
         "type": "heatmap",
         "x": [
          "class_0",
          "class_1",
          "class_2",
          "class_3",
          "class_4",
          "class_5",
          "class_6",
          "class_7",
          "class_8",
          "class_9",
          "class_10",
          "class_11",
          "class_12",
          "class_13",
          "class_14",
          "class_15",
          "class_16",
          "class_17",
          "class_18",
          "class_19",
          "class_20",
          "class_21",
          "class_22",
          "class_23",
          "class_24",
          "class_25",
          "class_26",
          "class_27",
          "class_28",
          "class_29",
          "class_30",
          "class_31",
          "class_32",
          "class_33",
          "class_34",
          "class_35",
          "class_36",
          "class_37",
          "class_38",
          "class_39",
          "class_40",
          "class_41",
          "class_42",
          "class_43",
          "class_44",
          "class_45",
          "class_46",
          "class_47",
          "class_48",
          "class_49",
          "class_50",
          "class_51",
          "class_52",
          "class_53",
          "class_54",
          "class_55",
          "class_56",
          "class_57",
          "class_58",
          "class_59",
          "class_60",
          "class_61",
          "class_62",
          "class_63",
          "class_64",
          "class_65",
          "class_66",
          "class_67",
          "class_68",
          "class_69",
          "class_70",
          "class_71",
          "class_72",
          "class_73",
          "class_74",
          "class_75",
          "class_76",
          "class_77",
          "class_78",
          "class_79",
          "class_80",
          "class_81",
          "class_82",
          "class_83",
          "class_84",
          "class_85",
          "class_86",
          "class_87",
          "class_88",
          "class_89",
          "class_90",
          "class_91",
          "class_92",
          "class_93",
          "class_94",
          "class_95",
          "class_96",
          "class_97",
          "class_98",
          "class_99"
         ],
         "xaxis": "x",
         "y": {
          "bdata": "AAECAwQFBgcICQoLDA0ODxAREhMUFRYXGBkaGxwdHh8gISIjJCUmJygpKissLS4vMDEyMw==",
          "dtype": "i1"
         },
         "yaxis": "y",
         "z": {
          "bdata": "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",
          "dtype": "i1",
          "shape": "52, 100"
         }
        }
       ],
       "layout": {
        "coloraxis": {
         "colorbar": {
          "title": {
           "text": "Number of Instances"
          }
         },
         "colorscale": [
          [
           0,
           "#440154"
          ],
          [
           0.1111111111111111,
           "#482878"
          ],
          [
           0.2222222222222222,
           "#3e4989"
          ],
          [
           0.3333333333333333,
           "#31688e"
          ],
          [
           0.4444444444444444,
           "#26828e"
          ],
          [
           0.5555555555555556,
           "#1f9e89"
          ],
          [
           0.6666666666666666,
           "#35b779"
          ],
          [
           0.7777777777777778,
           "#6ece58"
          ],
          [
           0.8888888888888888,
           "#b5de2b"
          ],
          [
           1,
           "#fde725"
          ]
         ]
        },
        "height": 900,
        "margin": {
         "t": 60
        },
        "template": {
         "data": {
          "bar": [
           {
            "error_x": {
             "color": "#2a3f5f"
            },
            "error_y": {
             "color": "#2a3f5f"
            },
            "marker": {
             "line": {
              "color": "#E5ECF6",
              "width": 0.5
             },
             "pattern": {
              "fillmode": "overlay",
              "size": 10,
              "solidity": 0.2
             }
            },
            "type": "bar"
           }
          ],
          "barpolar": [
           {
            "marker": {
             "line": {
              "color": "#E5ECF6",
              "width": 0.5
             },
             "pattern": {
              "fillmode": "overlay",
              "size": 10,
              "solidity": 0.2
             }
            },
            "type": "barpolar"
           }
          ],
          "carpet": [
           {
            "aaxis": {
             "endlinecolor": "#2a3f5f",
             "gridcolor": "white",
             "linecolor": "white",
             "minorgridcolor": "white",
             "startlinecolor": "#2a3f5f"
            },
            "baxis": {
             "endlinecolor": "#2a3f5f",
             "gridcolor": "white",
             "linecolor": "white",
             "minorgridcolor": "white",
             "startlinecolor": "#2a3f5f"
            },
            "type": "carpet"
           }
          ],
          "choropleth": [
           {
            "colorbar": {
             "outlinewidth": 0,
             "ticks": ""
            },
            "type": "choropleth"
           }
          ],
          "contour": [
           {
            "colorbar": {
             "outlinewidth": 0,
             "ticks": ""
            },
            "colorscale": [
             [
              0,
              "#0d0887"
             ],
             [
              0.1111111111111111,
              "#46039f"
             ],
             [
              0.2222222222222222,
              "#7201a8"
             ],
             [
              0.3333333333333333,
              "#9c179e"
             ],
             [
              0.4444444444444444,
              "#bd3786"
             ],
             [
              0.5555555555555556,
              "#d8576b"
             ],
             [
              0.6666666666666666,
              "#ed7953"
             ],
             [
              0.7777777777777778,
              "#fb9f3a"
             ],
             [
              0.8888888888888888,
              "#fdca26"
             ],
             [
              1,
              "#f0f921"
             ]
            ],
            "type": "contour"
           }
          ],
          "contourcarpet": [
           {
            "colorbar": {
             "outlinewidth": 0,
             "ticks": ""
            },
            "type": "contourcarpet"
           }
          ],
          "heatmap": [
           {
            "colorbar": {
             "outlinewidth": 0,
             "ticks": ""
            },
            "colorscale": [
             [
              0,
              "#0d0887"
             ],
             [
              0.1111111111111111,
              "#46039f"
             ],
             [
              0.2222222222222222,
              "#7201a8"
             ],
             [
              0.3333333333333333,
              "#9c179e"
             ],
             [
              0.4444444444444444,
              "#bd3786"
             ],
             [
              0.5555555555555556,
              "#d8576b"
             ],
             [
              0.6666666666666666,
              "#ed7953"
             ],
             [
              0.7777777777777778,
              "#fb9f3a"
             ],
             [
              0.8888888888888888,
              "#fdca26"
             ],
             [
              1,
              "#f0f921"
             ]
            ],
            "type": "heatmap"
           }
          ],
          "histogram": [
           {
            "marker": {
             "pattern": {
              "fillmode": "overlay",
              "size": 10,
              "solidity": 0.2
             }
            },
            "type": "histogram"
           }
          ],
          "histogram2d": [
           {
            "colorbar": {
             "outlinewidth": 0,
             "ticks": ""
            },
            "colorscale": [
             [
              0,
              "#0d0887"
             ],
             [
              0.1111111111111111,
              "#46039f"
             ],
             [
              0.2222222222222222,
              "#7201a8"
             ],
             [
              0.3333333333333333,
              "#9c179e"
             ],
             [
              0.4444444444444444,
              "#bd3786"
             ],
             [
              0.5555555555555556,
              "#d8576b"
             ],
             [
              0.6666666666666666,
              "#ed7953"
             ],
             [
              0.7777777777777778,
              "#fb9f3a"
             ],
             [
              0.8888888888888888,
              "#fdca26"
             ],
             [
              1,
              "#f0f921"
             ]
            ],
            "type": "histogram2d"
           }
          ],
          "histogram2dcontour": [
           {
            "colorbar": {
             "outlinewidth": 0,
             "ticks": ""
            },
            "colorscale": [
             [
              0,
              "#0d0887"
             ],
             [
              0.1111111111111111,
              "#46039f"
             ],
             [
              0.2222222222222222,
              "#7201a8"
             ],
             [
              0.3333333333333333,
              "#9c179e"
             ],
             [
              0.4444444444444444,
              "#bd3786"
             ],
             [
              0.5555555555555556,
              "#d8576b"
             ],
             [
              0.6666666666666666,
              "#ed7953"
             ],
             [
              0.7777777777777778,
              "#fb9f3a"
             ],
             [
              0.8888888888888888,
              "#fdca26"
             ],
             [
              1,
              "#f0f921"
             ]
            ],
            "type": "histogram2dcontour"
           }
          ],
          "mesh3d": [
           {
            "colorbar": {
             "outlinewidth": 0,
             "ticks": ""
            },
            "type": "mesh3d"
           }
          ],
          "parcoords": [
           {
            "line": {
             "colorbar": {
              "outlinewidth": 0,
              "ticks": ""
             }
            },
            "type": "parcoords"
           }
          ],
          "pie": [
           {
            "automargin": true,
            "type": "pie"
           }
          ],
          "scatter": [
           {
            "fillpattern": {
             "fillmode": "overlay",
             "size": 10,
             "solidity": 0.2
            },
            "type": "scatter"
           }
          ],
          "scatter3d": [
           {
            "line": {
             "colorbar": {
              "outlinewidth": 0,
              "ticks": ""
             }
            },
            "marker": {
             "colorbar": {
              "outlinewidth": 0,
              "ticks": ""
             }
            },
            "type": "scatter3d"
           }
          ],
          "scattercarpet": [
           {
            "marker": {
             "colorbar": {
              "outlinewidth": 0,
              "ticks": ""
             }
            },
            "type": "scattercarpet"
           }
          ],
          "scattergeo": [
           {
            "marker": {
             "colorbar": {
              "outlinewidth": 0,
              "ticks": ""
             }
            },
            "type": "scattergeo"
           }
          ],
          "scattergl": [
           {
            "marker": {
             "colorbar": {
              "outlinewidth": 0,
              "ticks": ""
             }
            },
            "type": "scattergl"
           }
          ],
          "scattermap": [
           {
            "marker": {
             "colorbar": {
              "outlinewidth": 0,
              "ticks": ""
             }
            },
            "type": "scattermap"
           }
          ],
          "scattermapbox": [
           {
            "marker": {
             "colorbar": {
              "outlinewidth": 0,
              "ticks": ""
             }
            },
            "type": "scattermapbox"
           }
          ],
          "scatterpolar": [
           {
            "marker": {
             "colorbar": {
              "outlinewidth": 0,
              "ticks": ""
             }
            },
            "type": "scatterpolar"
           }
          ],
          "scatterpolargl": [
           {
            "marker": {
             "colorbar": {
              "outlinewidth": 0,
              "ticks": ""
             }
            },
            "type": "scatterpolargl"
           }
          ],
          "scatterternary": [
           {
            "marker": {
             "colorbar": {
              "outlinewidth": 0,
              "ticks": ""
             }
            },
            "type": "scatterternary"
           }
          ],
          "surface": [
           {
            "colorbar": {
             "outlinewidth": 0,
             "ticks": ""
            },
            "colorscale": [
             [
              0,
              "#0d0887"
             ],
             [
              0.1111111111111111,
              "#46039f"
             ],
             [
              0.2222222222222222,
              "#7201a8"
             ],
             [
              0.3333333333333333,
              "#9c179e"
             ],
             [
              0.4444444444444444,
              "#bd3786"
             ],
             [
              0.5555555555555556,
              "#d8576b"
             ],
             [
              0.6666666666666666,
              "#ed7953"
             ],
             [
              0.7777777777777778,
              "#fb9f3a"
             ],
             [
              0.8888888888888888,
              "#fdca26"
             ],
             [
              1,
              "#f0f921"
             ]
            ],
            "type": "surface"
           }
          ],
          "table": [
           {
            "cells": {
             "fill": {
              "color": "#EBF0F8"
             },
             "line": {
              "color": "white"
             }
            },
            "header": {
             "fill": {
              "color": "#C8D4E3"
             },
             "line": {
              "color": "white"
             }
            },
            "type": "table"
           }
          ]
         },
         "layout": {
          "annotationdefaults": {
           "arrowcolor": "#2a3f5f",
           "arrowhead": 0,
           "arrowwidth": 1
          },
          "autotypenumbers": "strict",
          "coloraxis": {
           "colorbar": {
            "outlinewidth": 0,
            "ticks": ""
           }
          },
          "colorscale": {
           "diverging": [
            [
             0,
             "#8e0152"
            ],
            [
             0.1,
             "#c51b7d"
            ],
            [
             0.2,
             "#de77ae"
            ],
            [
             0.3,
             "#f1b6da"
            ],
            [
             0.4,
             "#fde0ef"
            ],
            [
             0.5,
             "#f7f7f7"
            ],
            [
             0.6,
             "#e6f5d0"
            ],
            [
             0.7,
             "#b8e186"
            ],
            [
             0.8,
             "#7fbc41"
            ],
            [
             0.9,
             "#4d9221"
            ],
            [
             1,
             "#276419"
            ]
           ],
           "sequential": [
            [
             0,
             "#0d0887"
            ],
            [
             0.1111111111111111,
             "#46039f"
            ],
            [
             0.2222222222222222,
             "#7201a8"
            ],
            [
             0.3333333333333333,
             "#9c179e"
            ],
            [
             0.4444444444444444,
             "#bd3786"
            ],
            [
             0.5555555555555556,
             "#d8576b"
            ],
            [
             0.6666666666666666,
             "#ed7953"
            ],
            [
             0.7777777777777778,
             "#fb9f3a"
            ],
            [
             0.8888888888888888,
             "#fdca26"
            ],
            [
             1,
             "#f0f921"
            ]
           ],
           "sequentialminus": [
            [
             0,
             "#0d0887"
            ],
            [
             0.1111111111111111,
             "#46039f"
            ],
            [
             0.2222222222222222,
             "#7201a8"
            ],
            [
             0.3333333333333333,
             "#9c179e"
            ],
            [
             0.4444444444444444,
             "#bd3786"
            ],
            [
             0.5555555555555556,
             "#d8576b"
            ],
            [
             0.6666666666666666,
             "#ed7953"
            ],
            [
             0.7777777777777778,
             "#fb9f3a"
            ],
            [
             0.8888888888888888,
             "#fdca26"
            ],
            [
             1,
             "#f0f921"
            ]
           ]
          },
          "colorway": [
           "#636efa",
           "#EF553B",
           "#00cc96",
           "#ab63fa",
           "#FFA15A",
           "#19d3f3",
           "#FF6692",
           "#B6E880",
           "#FF97FF",
           "#FECB52"
          ],
          "font": {
           "color": "#2a3f5f"
          },
          "geo": {
           "bgcolor": "white",
           "lakecolor": "white",
           "landcolor": "#E5ECF6",
           "showlakes": true,
           "showland": true,
           "subunitcolor": "white"
          },
          "hoverlabel": {
           "align": "left"
          },
          "hovermode": "closest",
          "mapbox": {
           "style": "light"
          },
          "paper_bgcolor": "white",
          "plot_bgcolor": "#E5ECF6",
          "polar": {
           "angularaxis": {
            "gridcolor": "white",
            "linecolor": "white",
            "ticks": ""
           },
           "bgcolor": "#E5ECF6",
           "radialaxis": {
            "gridcolor": "white",
            "linecolor": "white",
            "ticks": ""
           }
          },
          "scene": {
           "xaxis": {
            "backgroundcolor": "#E5ECF6",
            "gridcolor": "white",
            "gridwidth": 2,
            "linecolor": "white",
            "showbackground": true,
            "ticks": "",
            "zerolinecolor": "white"
           },
           "yaxis": {
            "backgroundcolor": "#E5ECF6",
            "gridcolor": "white",
            "gridwidth": 2,
            "linecolor": "white",
            "showbackground": true,
            "ticks": "",
            "zerolinecolor": "white"
           },
           "zaxis": {
            "backgroundcolor": "#E5ECF6",
            "gridcolor": "white",
            "gridwidth": 2,
            "linecolor": "white",
            "showbackground": true,
            "ticks": "",
            "zerolinecolor": "white"
           }
          },
          "shapedefaults": {
           "line": {
            "color": "#2a3f5f"
           }
          },
          "ternary": {
           "aaxis": {
            "gridcolor": "white",
            "linecolor": "white",
            "ticks": ""
           },
           "baxis": {
            "gridcolor": "white",
            "linecolor": "white",
            "ticks": ""
           },
           "bgcolor": "#E5ECF6",
           "caxis": {
            "gridcolor": "white",
            "linecolor": "white",
            "ticks": ""
           }
          },
          "title": {
           "x": 0.05
          },
          "xaxis": {
           "automargin": true,
           "gridcolor": "white",
           "linecolor": "white",
           "ticks": "",
           "title": {
            "standoff": 15
           },
           "zerolinecolor": "white",
           "zerolinewidth": 2
          },
          "yaxis": {
           "automargin": true,
           "gridcolor": "white",
           "linecolor": "white",
           "ticks": "",
           "title": {
            "standoff": 15
           },
           "zerolinecolor": "white",
           "zerolinewidth": 2
          }
         }
        },
        "title": {
         "text": "EDR Class Distribution in Each Batch - Task ID 8"
        },
        "xaxis": {
         "anchor": "y",
         "domain": [
          0,
          1
         ],
         "title": {
          "text": "Classes"
         }
        },
        "yaxis": {
         "anchor": "x",
         "autorange": "reversed",
         "domain": [
          0,
          1
         ],
         "title": {
          "text": "Batches"
         }
        }
       }
      }
     },
     "metadata": {},
     "output_type": "display_data"
    }
   ],
   "source": [
    "import numpy as np\n",
    "import plotly.express as px\n",
    "\n",
    "task_id = 8\n",
    "\n",
    "df = pd.read_csv(\"../results_plot_SplitCIFAR100_['EDR', 'ER']_False_[]_32_10_0_50_2/train_batches_y_ExperienceDelayReplay.log\", \n",
    "                 names=[\"task_id\", \"class_0\", \"class_1\", \"class_2\", \"class_3\", \"class_4\", \"class_5\", \"class_6\", \n",
    "                            \"class_7\", \"class_8\", \"class_9\", \"class_10\", \"class_11\", \"class_12\", \"class_13\", \"class_14\", \"class_15\", \"class_16\",\n",
    "                            \"class_17\", \"class_18\", \"class_19\", \"class_20\", \"class_21\", \"class_22\", \"class_23\", \"class_24\", \"class_25\", \"class_26\",\n",
    "                            \"class_27\", \"class_28\", \"class_29\", \"class_30\", \"class_31\", \"class_32\", \"class_33\", \"class_34\", \"class_35\", \"class_36\",\n",
    "                            \"class_37\", \"class_38\", \"class_39\", \"class_40\", \"class_41\", \"class_42\", \"class_43\", \"class_44\", \"class_45\", \"class_46\",\n",
    "                            \"class_47\", \"class_48\", \"class_49\", \"class_50\", \"class_51\", \"class_52\", \"class_53\", \"class_54\", \"class_55\", \"class_56\",\n",
    "                            \"class_57\", \"class_58\", \"class_59\", \"class_60\", \"class_61\", \"class_62\", \"class_63\", \"class_64\", \"class_65\", \"class_66\",\n",
    "                            \"class_67\", \"class_68\", \"class_69\", \"class_70\", \"class_71\", \"class_72\", \"class_73\", \"class_74\", \"class_75\", \"class_76\",\n",
    "                            \"class_77\", \"class_78\", \"class_79\", \"class_80\", \"class_81\", \"class_82\", \"class_83\", \"class_84\", \"class_85\", \"class_86\",\n",
    "                            \"class_87\", \"class_88\", \"class_89\", \"class_90\", \"class_91\", \"class_92\", \"class_93\", \"class_94\", \"class_95\", \"class_96\",\n",
    "                            \"class_97\", \"class_98\", \"class_99\"],)\n",
    "\n",
    "\n",
    "df_plot = df.loc[df.task_id == task_id].reset_index(drop=True).copy()\n",
    "# df_plot = pd.concat([df_plot[:10], df_plot[80:90], df_plot[115:125]], ignore_index=True)\n",
    "df_plot.drop(columns=[\"task_id\"], inplace=True)\n",
    "\n",
    "# Criação do heatmap interativo (classe no eixo Y, batch no eixo X)\n",
    "fig = px.imshow(\n",
    "    df_plot,\n",
    "    labels=dict(x=\"Classes\", y=\"Batches\", color=\"Number of Instances\"),\n",
    "    # x=[f\"Batch {i}\" for i in range(1, num_batches+1)],\n",
    "    # y=[f\"Classe {i}\" for i in range(num_classes)],\n",
    "    aspect=\"auto\",\n",
    "    color_continuous_scale=\"Viridis\",\n",
    "    origin=\"upper\",  # garante que Classe 0 fique em cima\n",
    "    # text_auto=True\n",
    ")\n",
    "\n",
    "fig.update_layout(\n",
    "    title=\"EDR Class Distribution in Each Batch - Task ID {}\".format(task_id),\n",
    "    xaxis_title=\"Classes\",\n",
    "    yaxis_title=\"Batches\",\n",
    "    height=900,\n",
    ")\n",
    "\n",
    "fig.show()"
   ]
  },
  {
   "cell_type": "code",
   "execution_count": 33,
   "id": "ea41fae6",
   "metadata": {},
   "outputs": [
    {
     "data": {
      "application/vnd.plotly.v1+json": {
       "config": {
        "plotlyServerURL": "https://plot.ly"
       },
       "data": [
        {
         "coloraxis": "coloraxis",
         "hovertemplate": "Classes: %{x}<br>Batches: %{y}<br>Number of Instances: %{z}<extra></extra>",
         "name": "0",
         "type": "heatmap",
         "x": [
          "class_0",
          "class_1",
          "class_2",
          "class_3",
          "class_4",
          "class_5",
          "class_6",
          "class_7",
          "class_8",
          "class_9",
          "class_10",
          "class_11",
          "class_12",
          "class_13",
          "class_14",
          "class_15",
          "class_16",
          "class_17",
          "class_18",
          "class_19",
          "class_20",
          "class_21",
          "class_22",
          "class_23",
          "class_24",
          "class_25",
          "class_26",
          "class_27",
          "class_28",
          "class_29",
          "class_30",
          "class_31",
          "class_32",
          "class_33",
          "class_34",
          "class_35",
          "class_36",
          "class_37",
          "class_38",
          "class_39",
          "class_40",
          "class_41",
          "class_42",
          "class_43",
          "class_44",
          "class_45",
          "class_46",
          "class_47",
          "class_48",
          "class_49",
          "class_50",
          "class_51",
          "class_52",
          "class_53",
          "class_54",
          "class_55",
          "class_56",
          "class_57",
          "class_58",
          "class_59",
          "class_60",
          "class_61",
          "class_62",
          "class_63",
          "class_64",
          "class_65",
          "class_66",
          "class_67",
          "class_68",
          "class_69",
          "class_70",
          "class_71",
          "class_72",
          "class_73",
          "class_74",
          "class_75",
          "class_76",
          "class_77",
          "class_78",
          "class_79",
          "class_80",
          "class_81",
          "class_82",
          "class_83",
          "class_84",
          "class_85",
          "class_86",
          "class_87",
          "class_88",
          "class_89",
          "class_90",
          "class_91",
          "class_92",
          "class_93",
          "class_94",
          "class_95",
          "class_96",
          "class_97",
          "class_98",
          "class_99"
         ],
         "xaxis": "x",
         "y": {
          "bdata": "AAECAwQFBgcICQoLDA0ODxAREhMUFRYXGBkaGxwdHh8gISIjJCUmJygpKissLS4vMDEyMzQ1Njc4OTo7PD0+P0BBQkNERUZHSElKS0xNTg==",
          "dtype": "i1"
         },
         "yaxis": "y",
         "z": {
          "bdata": "AAABAAAAAAABBQEAAwAAAAAAAAEAAAABAQMBAAAAAQEAAAAACAEAAAMAAAABAAACAAECAAEAAQAAAAABAAACAQABAAABAAAAAAABAAAAAQABAAEBBQAAAAAAAQABAAAABgAAAAAAAAIAAQAAAAIBAQEAAAAAAAAAAAAAAQMFAAABAAEAAAABAQIAAAABAAAAAAAABQAAAgABAwIAAAAAAQAABQAAAgAAAAAAAAEAAAAAAAIAAQACAQUAAAMAAAAAAAAAAAMBAAAAAAEAAAAAAAEDAQACAAAAAAAAAAAAAAADBQEAAQAAAQAAAAEEAAAAAQAAAAAAAAUAAAIAAAAAAgABAAAAAAMBAAEAAAABAAABAAAAAAACAAIBAgMFAAACAAABAAABAgABAAAAAQACAAAEAAABAQEAAAAAAQAAAAEAAAABAQMBAAAAAAEAAAAAAQEAAAMBAAAAAAAGAAEDAAEAAAAAAAAAAAABAAABAAAAAQAAAgAAAAAAAgAAAAEGBgAABQAAAAAAAAAAAgEAAAAAAgAAAQAAAAIAAAAAAAEAAAAAAAAAAQADAwABAAIBAAABAQIBAAAAAQAAAAAABQABAwABAwEAAAAAAAAABQAAAAAAAAIAAAIAAAAAAAMAAAABAwIAAAIAAAEAAAABAAUAAAAAAAEAAAEAAAAHAwABAAABAAAAAQAAAAACAQEAAAABAAAAAAECAAAAAAEAAAEAAAUAAAIAAAAAAAAAAAEAAgIAAAAAAAABAAACAAAAAAABAAAAAgEEAgAIAAAAAQACAAADAAAAAAABAAABAAAABAEAAQAAAAAAAAIAAAABAAYBAAEAAAAAAAEAAAIAAAEAAAAAAAACAAACAAIDAAEAAQABAAAGAQAAAAAAAAAAAQAAAAAAAwAAAQEEAgAACAABAAAAAAAAAQAAAAAAAAAAAAAAAAQDAQEAAAAAAAABAAAAAAICAQAAAAABAAACAAIBAAACAQAAAAAAAwAAAwAAAQEAAQAAAQAACAEAAAAAAQAAAAEAAAAAAAEAAQABAgMAAAIAAAIAAAECAAQAAAAAAQIAAAIAAAAFAAECAAACAAAAAAAAAAIBBwIAAAABAAAAAAADAAAAAQABAAEAAAIAAAQAAQIAAAAAAAAAAAMAAAAAAAACAAAAAAAAAAABAAEBAAIBAQADAAAAAAAAAgADAQAAAQECAAABAAAABQAAAwAAAAAAAAAAAAACAgEAAAEAAAMCAAECAQAAAAEAAAAAAAACAAABAAEAAAAAAAABAAAEAAABAAAAAAAAAQABAAAAAQAAAQAEBQEAAwAAAAABAAEABgAAAAIAAAAAAAAAAAMAAAMAAAEAAAABAAAAAQABAgABAAABAAAAAQMBAAABAAEAAQAAAwAABgAAAQEAAAAAAAAABgIAAAAAAAAAAQAAAAAAAAMAAAACBAQAAAMAAAAAAAAAAAMBAAACAAIAAAMAAAECAgAAAAABAQAAAAAAAAAABgEAAgABAQAAAQADAQAAAAEAAAAAAAUAAgIAAQEAAQABAAAAAAMAAAAAAAAAAAAAAAAAAAABAAABAgMCAAAFAAAAAAABAAACAAAAAAEAAQABAAAAAgQBAAAAAAAAAAAAAAACAgIBAAEAAQEAAAAAAgAAAAEBAAACAAAHAAEFAAACAQEAAAAAAAACAQAAAAAAAQAAAAAAAAAAAAAAAAACBAAAAwAAAAABAgAABQAAAAAAAAAAAQAAAAICAQAAAAEAAAAAAAAAAgIFAwAAAAEBAAABAAgAAAAEAQAAAAAAAgAAAQABAAEAAAAAAQAAAgAAAAAAAAAAAAEAAAAAAAAAAAECBAEAAAUAAAABAAEAAAQBAAAAAAAAAAMAAAAAAQAAAAAAAAAAAAAAAAAAAQIAAAAAAAAAAQACAQAAAgABAAEAAAMAAAcAAwEBAQEAAAAAAAMBAAAAAAAAAAABAAEAAAAAAAEBAQQFAAADAAEAAAABAAAIAQAAAQADAAAAAAAACAIAAQAAAQAAAAEAAAACAQMBAAAAAgAAAAAAAgAAAAABAAABAAAEAAADAAACAAAAAAAAAAABAQAAAAABAQEBAAAAAAAAAAAAAAEDBQAAAwABAAAAAgEAAwAAAAABAQAAAQAAAQQAAAAAAAIAAAAAAAAAAQEDAAAAAAAAAAAAAQEAAAAAAgAAAAAAAAAABAABAgEAAAEAAAABAgAAAAAAAAICAAAAAAAAAAEAAAECCAQBAAUAAAEAAAACAAQAAAAAAAAAAAAAAAADAAQAAAACAAAAAAAAAAEBBgMAAAAAAgAAAAICAQAAAgMAAAEAAAIAAQMAAQAAAAAAAAAAAAQAAAAAAAAAAAAAAAEAAAACAAEAAQMCAAAEAAAAAAAAAAAGAAAAAAABAQABAAABAwIAAAAAAQAAAAAAAAAAAgQCAAAAAAEBAAEAAwQAAAIAAAAAAAACAAEFAAEBAAAAAAAAAAAEAQAAAAABAAABAAAAAAAAAQAAAAECAwAAAgAAAAEBAAEABAEAAAEAAAAAAAAAAAIAAAAAAAAAAAABAAAAAgICBQAAAAEAAAAAAAMAAAABAAAAAAAABAABAQADAAAAAAAAAAAABAAAAAAAAAABAgEAAgAAAAEAAwAABAMAAAYAAAEAAAEAAAQCAAAAAAAAAAUAAAADAQAAAAABAAAAAAAAAAEDAwEAAAAAAAAAAAADAAAAAQABAAAAAAMAAAIAAgEAAAABAAEAAQMAAAEBAAAAAAABAAAAAAADAAAAAAQCAAAGAAAAAAABAQAHAAAAAAABAQABAAAABAABAgAAAAAAAAEAAAAAAAICAAEAAAACAAAABAIAAAAAAQABAAADAAEDAAIDAAAAAAAAAAAEAAAAAAABAAABAQABAAAAAQAAAQAHAgAAAgAAAQAAAAEAAQIAAAIBAAEAAAAAAQQBAAEAAAEAAAAAAAAAAAABAgAAAAEAAAABAAIBAAAAAAAAAAAAAQAABAABAQAAAQAAAAAABAEAAAAAAAABAQEAAQAAAAIAAQEAAgUAAAIAAAEAAAECAAkBAAAAAAABAAAAAAADBAABAAACAAAAAAAAAAABBQIAAQABAAAAAQAEAAAAAAAAAAAAAAIAAQUAAAAAAAEAAAAAAAIAAAAAAAADAAACAAAAAAABAAAAAQQEAAAEAAIAAAABAQAEAAAAAAEAAAACAAAABAEBAQAAAAAAAAAAAAAAAgEAAAEAAAABAAIBBgAAAAABAQAAAAAEAAACAAICAAAAAAAAAAABAQABAAAAAAABAQABAAAAAQABAAADBAAABwAAAAAAAQMAAgAAAAAAAAEAAQAAAAMDAAAAAAAAAAAAAAAAAAQBAAABAAAAAAAAAAMAAAAAAAAAAQAABgAABQAAAQEBAQMAAAAAAgAAAQAAAAEBAAIAAAAAAAAAAAEBBAEBAAMAAAEAAAECAAYAAAAAAQEAAAAAAAACAgABAAABAAAAAAAAAAACAgIAAAAAAAEAAAAEAAAAAQEAAAEAAAQAAAMAAgICAAABAAEAAgIBAAABAAAAAAACAAAAAAAAAAAAAQQDAAAGAAEAAAAAAAAEAAAAAgABAQAAAAAABQEAAAAAAQAAAAAAAAABAgQBAAEAAAAAAAEAAwAAAAIAAAAAAAAEAAECAAMAAAABAQAAAAAEAQABAAAAAAAAAAAAAAAAAQAAAQACBwAAAwAAAQABAQAAAQIAAAAAAAAAAwAAAAQCAAIAAAABAAAAAAAAAAEEAQABAAAAAQAAAAMAAAACAAAAAQAAAwAAAwABAAEAAQAAAAAABgEAAgAAAAAAAAMAAAAAAAAAAwAABAMAAAIAAAAAAAABAAQAAAAAAQAAAAAAAAAHAQAAAAACAAAAAQAAAAIBBAAAAQAAAAAAAQICAAAAAgEAAAAAAAQAAAMAAAABAQEBAAAAAAABAAAAAAAAAAEAAAAAAAAAAAABAAQGAAAEAAEBAAABAAAFAAAAAQAAAAAAAAAAAwAAAQAAAAAAAAEAAAABAwQEAAEAAAEAAAAABgAAAAQBAgAAAAAFAAAAAAABAAAAAAAAAAAFAAABAAAAAAAAAgABAAAAAAABAAACBAAAAwAAAAAAAwEAAgAAAAAAAQAAAQAAAAQBAAEAAAEAAAAAAAAAAQIFAAACAAAAAQABAQUAAAAAAQAAAgAAAwAABAADAQEBAAAAAAAAAgEAAAAAAAAAAQEAAAAAAAEAAAABBQMAAAMAAAAAAAEBAAEAAAAAAAAAAAIAAAEFAQABAAAAAQAAAAAAAAEGAgEAAAAAAAAAAgACAAAAAAEAAAAAAAEAAAQABAABAAABAAAAAAUAAAEAAAABAAAAAAAAAAABAAAAAAUFAAABAAAAAAEAAAAFAgAAAAAAAAABAAAAAgEAAQAAAQAAAAEAAAAAAQYCAAAAAAAAAAAAAgAAAAAAAAACAAADAAEHAAMAAwAAAAAAAAADAAACAAAAAAEAAQAAAAAAAgABAAADBgAAAwABAAAAAAMAAQAAAAAAAAAAAQAAAAYAAgAAAAAAAAAAAAAABAEHAAABAAABAAACAQQCAAABAQAAAAAAAgAAAgAAAAIAAAAAAQAABAAAAAAAAAAAAAIAAAAAAAAAAQABAwEAAAEAAAEAAQECAAUAAAAAAQIAAAAAAAACAgABAAACAAAAAAAAAAABAgEAAAAAAAEAAQAFAQAAAQEAAAAAAAQAAAUAAgEBAAEAAAIAAAEAAAABAAABAAABAAAAAAAAAAIAAQYDAAACAAEAAAEAAAAEAAAAAQAAAAABAAAABAIAAQAAAQAAAAAAAAABAgIBAAAAAAAAAAEAAwAAAAABAAABAAADAAAAAAMAAgAAAAAAAAAHAAAAAAAAAAEAAgAAAAAAAQAAAAMDAwAACAAAAAABAQIAAgAAAAIBAAAAAAAAAAIBAAEAAAIAAAAAAAAAAQIBAAABAAAAAAAAAAQBAAABAAAAAQAABAAABwABAQACAAAAAQAABAAAAAEAAAAAAAAAAAAAAAQAAAAAAwIAAAYAAAAAAAEAAAUBAAACAAIAAAAAAAAEAAABAAADAAAAAQAAAAABBQAAAgAAAAAAAQACAAAAAAAAAAAAAAIAAAEAAwEBAAAAAAAAAAQBAAAAAAABAAAAAAEAAAACAAAAAAMFAAAFAAAAAAEAAwAGAAAAAAAAAAAAAAAAAwIAAQAAAwEAAAIAAAACBAQBAAAAAQABAAAAAwEAAAAAAAAAAAAFAAEBAAAAAAAAAAAAAAAGAAABAAAAAQAAAAAAAAAAAgAAAAACBAAABAABAAIBAQAAAwAAAAAAAAEAAgAAAAMBAAAAAAAAAAADAAAAAAECAQAAAAIAAAABAAIBAAACAAAAAgAABAAABQADAAABAAAAAAABBQAAAAAAAAAAAAEAAAAAAAAAAQACAQUAAAQAAAAAAQEAAAQBAAABAAAAAAIAAAAJAgACAAACAAAAAAAAAAACBQEAAQAAAAAAAQACAQAAAgEAAAAAAAIAAAUAAQAAAAAAAAEAAQMAAAAAAAEAAAEAAAAAAAABAAEAAAQBAAACAAABAAEAAQADAAAAAQAAAAACAAAABQIAAAAAAgAAAAAAAAABAQMCAAIAAAAAAAAAAwAAAAQCAAAAAAACAAEBAAEAAQAAAAABAAAGAAACAAAAAgABAAAAAAAAAQAAAAAEBQAAAgABAAAAAAAAAwAAAAABAAEAAAAAAAICAAAAAAEAAAABAAAAAAEFAgAAAAAAAAAAAQEBAAACAAAAAQAABQABBAABAQAAAAAAAAABBQAAAAAAAAABAQAAAAAAAAAAAAABAwQAAAUAAQEAAAIBAAMBAAAAAAAAAAIAAAEFAwABAAABAAAAAAAAAAIABgIAAQAAAAEAAAAGAAAAAQEAAAAAAAQAAAIAAQIAAAAAAAAAAAEAAAEBAAABAAABAAEAAAABAAAAAAMEAAACAAAAAAEBAQADAAAAAgAAAAAAAAAABAAAAQAAAgAAAAAAAAABAgIAAAEAAAAAAAEABQEAAAEAAAAAAAAGAAADAAIBAAAAAAAAAAADAAABAAAAAQAAAQAAAAAABAAAAAACBAIAAQAAAAABAQIABQEAAAEAAAAAAAAAAgQAAAAAAAAAAAABAAAAAAIFAAABAAEBAAABAQYAAAABAAAAAAAAAAAAAwAAAgEAAAEAAAAABQAAAAAAAAEAAAEAAAAAAAAAAQADBAMAAAMAAQEAAgEAAAMBAAAAAAEAAAAAAAEEAgABAAABAAAAAAAAAAACAwEAAAAAAAEAAQAFAAAAAAEBAAAAAAQAAAQAAgEAAQEAAAIAAAIAAAAAAAAAAQAAAAIAAAABAAEAAAMDAQADAAEAAQEBAQACAAAAAAACAAACAAAABQAAAAAAAAAAAAEAAAACAQMCAAAAAAAAAAEBAQEAAAAAAAACAAAEAAAFAAMBAAAAAAAAAAEDAAABAAACAAABAAABAAAAAAAAAAACAwAAAgAAAQAAAgAABgIAAAABAQAAAQAAAAYAAAAAAAEAAAAAAAAAAAIDAgACAAAAAAAAAQMAAAAAAAAAAQAAAAAABAAAAQAAAAAAAQACAgAAAQAAAAIBAQEAAAAAAAAAAAABAwUAAAUAAQAAAAEBAAYBAAAAAAIAAAEAAAACAQAAAAAAAAAAAQAAAAEAAAMAAAAAAQAAAQEEAQAAAQEBAAAAAAMAAAUAAwABAAABAAAAAAYAAAABAAAAAAAAAAAAAAACAAEBAwMFAAAAAAEBAAAAAQAEAAAAAAAAAAABAAAAAwIAAAAAAAAAAAAAAAAAAAEAAAAAAAAAAAAAAAAAAAAAAAAAAAAAAAABAAAAAgAAAAAAAAABAAAAAAAAAAAAAAAAAAAAAAACAAACAAAAAAAAAAAAAAAAAQAAAAEAAAAAAAAAAQAAAAECAAEAAgIAAAEAAgABAAAAAAEAAAAAAAAAAAIBAAAAAAAAAQUAAAAAAgMBAAAAAAAAAQAFAQAFAAECAAEAAAMAAAEAAAAAAAEAAAAFAAEBAQEDAAABAAABAAAAAAAAAAAAAgAABAACAAQEAQACAAEAAAEAAAAAAAEAAQEAAQAEAgEAAAAAAAAEAQEAAgAAAAAAAAAAAAAABAAAAgAAAAAAAAACAAADAAEAAQEBAAAAAgEAAQIAAQAAAQAAAAABAAABAAAAAAAAAQQAAAAFAgAABAAAAQAAAAEAAAAAAAEBAAAAAQEAAAABAAABAgAEAAICAgAAAAAAAAAAAAQAAAQAAAACAgAABAAAAgAAAAEAAAAAAAIBAAAAAgEAAQAAAAEAAAAAAgAAAAAAAQEAAAABBAcBAAIAAQEAAQAAAAIAAAABAQABAAMCAAAAAAAAAAEAAAADAAEAAAEAAAABAAEEAAEFAAAAAAEAAAQAAAAAAAABAAAAAAACAAAAAQIAAAEBAAAAAAAAAAAAAAAAAgABBgABAAICAAAFAAMCAgIAAQAAAAAAAAAAAQADAAABAAAAAAECAAAAAQAAAAAAAAEAAAABBAAAAwAAAQEBAAADAAACAAEBAQAAAAAAAgAAAAAAAQADAAAAAQABAAAAAAABAAAAAAMAAAACBQAAAwAFAgACAAIAAAEAAAIAAAAABAIBAAABAAAAAgEAAAECAAAAAAAAAAAAAAIAAQMAAQAAAQAAAwAAAQAAAAAAAAAAAAUAAQAAAQEAAAAAAAIAAAAAAAAAAAACAAEDAAEABQMAAAIAAQAAAgAAAAABAAABAAAAAAMDAAAAAAAAAAMAAgABAgEAAAAAAAAAAAACAwAFAQABAAAAAgYAAAAAAAAAAAAAAAEAAQAAAAACAAEAAAAAAAIAAAEAAAABAAEBBQAAAQkAAAACAAMAAAEAAQAAAAAAAQEAAAADAAEAAAAAAAAAAQAAAAEAAAAAAAEAAAAAAgABBQAAAAEBAAACAAACAAEAAgAAAQABBAABAAABAQAAAQAAAAAAAAAAAAAAAAAAAQIAAAEFAQAAAwABAgACAAAAAQABAAEAAAEAAQQBAAAAAAAAAgAAAAIAAgABAAAAAAAAAAYBAAAAAgEAAAACBwAAAgAAAAABAAAAAAUAAAABAAAAAAEAAAAAAAEAAAAAAAABAAEFAAAABQICAAEAAAAABgABAAAAAAAAAAAAAAIBAQAAAAAAAAYAAQAAAQEBAAEAAAAAAAABAAADAQABAQAAAAIAAAEAAwABAAAAAAAFAAAAAQABAAMAAAABAAABAAAAAAAAAQAAAgAAAQIDAAACAAAAAAMAAAAAAQAAAwEAAQADAwEAAAAAAAABAAAAAAAAAAEAAAAAAAABBAEABwABAAACAAAEAAAAAAIAAgAAAAAABAAAAAACAgABAAAAAAAAAAAAAAAAAAIAAQIAAQEEAwAABQABAQABAAAAAQABAAIAAAAAAwAAAAABAAAABAABAAABAAAAAAAAAAEAAAMAAAEBAQABAAAABAAAAgAAAQEAAAAAAgMAAAEAAgEAAgEAAAEAAAAAAgAAAQAAAAABAAEAAgQBAAMAAAEBAQAAAAEAAQACAAACAAIAAQAAAAAAAAMAAQAAAAIAAAAAAAAAAQAGAAADAAEAAAAAAgQAAAEAAAAEAAAAAAEEAAEAAQEAAAAAAAAAAQAAAAMAAAEAAAACAwADAAACAQADAAAAAAEAAAAAAgAAAQAAAQABAAAAAAIAAAEFAQAAAQABAQAAAAAAAAAAAwEABQEAAQABAAAGAAABAAAAAQEAAAAABAAAAAEBAAAAAAAAAAABAAAAAAAAAQAAAAIAAgAEBAIAAwACAgEAAAAAAAAAAAEAAAEABgADAAAAAAABAgEBAAEAAQAAAAAAAAAAAAIBAAMBAAABAQAAAwAAAAAAAAEBAQEAAAMBAQEAAAAAAAAAAAACAAAAAQAAAAADAAAEAAAAAwUBAAEAAAAAAAAAAAAAAQACAAAAAAMAAAAAAQAAAAEAAAAAAQEAAAIAAQAAAAAAAQAHAAEBAAEAAAcAAAIAAgEAAgAAAAABAAEAAgABAAEAAAAAAAAAAAMAAAEAAgABAwAAAAICAAADAAECAQAAAAABAAEAAAAAAAAIAQEAAAAAAAADAQAAAQEAAAABAAAAAQEAAwEAAAAAAAEBAAAEAAAAAAAAAAABAAACBAAAAAICAQAAAAAAAAEAAAAAAAAAAQECAAQAAAEBAwAAAwACAAAAAAAAAAEBAAABAAAAAgEBAAACAAAABwAAAAIBAQEAAAAAAAIAAAIBAAMAAAAAAQAABQAAAAABAAEAAAAAAAIAAAABAAEABAAAAAAAAAAAAQAAAQEBAAEEAAAAAgQAAAMAAQAAAQAAAAAAAAAAAAAAAAIAAAEAAAAAAAECAAACAgEAAQAAAgAAAQAEAAEEAQEAAQIAAQQAAAEAAAEBAAABAAAEAQAAAAAAAAEAAAAAAAABAAAAAAAAAAABBAACAgIDAgAEAAEAAAAAAQAAAAAAAAAAAAADAAEAAAEAAAADAQAAAgEBAAEAAAAAAQEAAwEABQAAAgABAAAEAAABAAAAAQECAQAAAQABAAAAAAABAAAAAAADAAABAAAAAAAAAAMAAgEDBgEABAABAAABAAEAAAAAAAEAAAAAAwIBAAAAAAABAwAAAAABAAAAAQAAAAEAAAIBAAIAAgAAAAAABAAAAQABAAACAAAAAQIBAAEAAAIAAQAAAAAAAQAAAQAAAQECAAIDAAABAAMAAAMAAQAAAAAAAAEBAQABAAAAAAUBAQAAAAAAAQUAAAAAAQIAAAAAAAAAAAADAAAEAQAAAAAAAAMAAAEAAAEBAAEBAAADAQAAAAEDAAEAAAABAAIAAAAAAAABAQABBAAEAAEDAQAFAAECAAAAAAAAAAAAAAEAAAAFAQAAAAEAAAAGAQAAAAABAAAAAAEAAAEAAgAABQEAAAAAAAABAAADAAAAAAAAAAABAgAAAAACAQAAAQAAAAEAAAAAAAAAAQEBAAMAAQAEAQEABgACAQAAAAAAAAEAAAAAAAEAAgEAAAABAAAABQACAAIBAAAAAAAAAAAAAAMBAgMCAAEBAQAAAQAAAQABAAAAAAAAAAUAAAABAAEAAAEAAAAAAAEAAQAAAAABAAACAAEBBAcBAAQAAgIBAgAAAAIAAAACAAACAAIAAAAAAAAAAQABAAAAAAEAAAAAAAABAAABAAAFAQEAAAAAAAIAAAAAAAAAAQAAAAAFAQAAAAECAAIAAAAAAQAAAAAAAAEAAQABBAAFAAECAAADAAABAQIAAAAAAAAAAAAAAgAEAAAAAAEAAAAEAQAAAQEAAAAAAAAAAAABAwEAAgAAAAEBAAEEAAABAAEBAAEAAAABBgAAAQEAAAAAAAAAAAAAAAABAAAAAAAAAQIAAQAEAwAABwADAgABAAEAAAAAAAEAAAAAAwAAAAAAAAABBwABAAIBAQAAAAAAAAABAQMAAAQCAQAAAQACAAAAAAAAAAAAAAAAAQEAAQAAAQIAAAAAAA==",
          "dtype": "i1",
          "shape": "79, 100"
         }
        }
       ],
       "layout": {
        "coloraxis": {
         "colorbar": {
          "title": {
           "text": "Number of Instances"
          }
         },
         "colorscale": [
          [
           0,
           "#440154"
          ],
          [
           0.1111111111111111,
           "#482878"
          ],
          [
           0.2222222222222222,
           "#3e4989"
          ],
          [
           0.3333333333333333,
           "#31688e"
          ],
          [
           0.4444444444444444,
           "#26828e"
          ],
          [
           0.5555555555555556,
           "#1f9e89"
          ],
          [
           0.6666666666666666,
           "#35b779"
          ],
          [
           0.7777777777777778,
           "#6ece58"
          ],
          [
           0.8888888888888888,
           "#b5de2b"
          ],
          [
           1,
           "#fde725"
          ]
         ]
        },
        "height": 1000,
        "margin": {
         "t": 60
        },
        "template": {
         "data": {
          "bar": [
           {
            "error_x": {
             "color": "#2a3f5f"
            },
            "error_y": {
             "color": "#2a3f5f"
            },
            "marker": {
             "line": {
              "color": "#E5ECF6",
              "width": 0.5
             },
             "pattern": {
              "fillmode": "overlay",
              "size": 10,
              "solidity": 0.2
             }
            },
            "type": "bar"
           }
          ],
          "barpolar": [
           {
            "marker": {
             "line": {
              "color": "#E5ECF6",
              "width": 0.5
             },
             "pattern": {
              "fillmode": "overlay",
              "size": 10,
              "solidity": 0.2
             }
            },
            "type": "barpolar"
           }
          ],
          "carpet": [
           {
            "aaxis": {
             "endlinecolor": "#2a3f5f",
             "gridcolor": "white",
             "linecolor": "white",
             "minorgridcolor": "white",
             "startlinecolor": "#2a3f5f"
            },
            "baxis": {
             "endlinecolor": "#2a3f5f",
             "gridcolor": "white",
             "linecolor": "white",
             "minorgridcolor": "white",
             "startlinecolor": "#2a3f5f"
            },
            "type": "carpet"
           }
          ],
          "choropleth": [
           {
            "colorbar": {
             "outlinewidth": 0,
             "ticks": ""
            },
            "type": "choropleth"
           }
          ],
          "contour": [
           {
            "colorbar": {
             "outlinewidth": 0,
             "ticks": ""
            },
            "colorscale": [
             [
              0,
              "#0d0887"
             ],
             [
              0.1111111111111111,
              "#46039f"
             ],
             [
              0.2222222222222222,
              "#7201a8"
             ],
             [
              0.3333333333333333,
              "#9c179e"
             ],
             [
              0.4444444444444444,
              "#bd3786"
             ],
             [
              0.5555555555555556,
              "#d8576b"
             ],
             [
              0.6666666666666666,
              "#ed7953"
             ],
             [
              0.7777777777777778,
              "#fb9f3a"
             ],
             [
              0.8888888888888888,
              "#fdca26"
             ],
             [
              1,
              "#f0f921"
             ]
            ],
            "type": "contour"
           }
          ],
          "contourcarpet": [
           {
            "colorbar": {
             "outlinewidth": 0,
             "ticks": ""
            },
            "type": "contourcarpet"
           }
          ],
          "heatmap": [
           {
            "colorbar": {
             "outlinewidth": 0,
             "ticks": ""
            },
            "colorscale": [
             [
              0,
              "#0d0887"
             ],
             [
              0.1111111111111111,
              "#46039f"
             ],
             [
              0.2222222222222222,
              "#7201a8"
             ],
             [
              0.3333333333333333,
              "#9c179e"
             ],
             [
              0.4444444444444444,
              "#bd3786"
             ],
             [
              0.5555555555555556,
              "#d8576b"
             ],
             [
              0.6666666666666666,
              "#ed7953"
             ],
             [
              0.7777777777777778,
              "#fb9f3a"
             ],
             [
              0.8888888888888888,
              "#fdca26"
             ],
             [
              1,
              "#f0f921"
             ]
            ],
            "type": "heatmap"
           }
          ],
          "histogram": [
           {
            "marker": {
             "pattern": {
              "fillmode": "overlay",
              "size": 10,
              "solidity": 0.2
             }
            },
            "type": "histogram"
           }
          ],
          "histogram2d": [
           {
            "colorbar": {
             "outlinewidth": 0,
             "ticks": ""
            },
            "colorscale": [
             [
              0,
              "#0d0887"
             ],
             [
              0.1111111111111111,
              "#46039f"
             ],
             [
              0.2222222222222222,
              "#7201a8"
             ],
             [
              0.3333333333333333,
              "#9c179e"
             ],
             [
              0.4444444444444444,
              "#bd3786"
             ],
             [
              0.5555555555555556,
              "#d8576b"
             ],
             [
              0.6666666666666666,
              "#ed7953"
             ],
             [
              0.7777777777777778,
              "#fb9f3a"
             ],
             [
              0.8888888888888888,
              "#fdca26"
             ],
             [
              1,
              "#f0f921"
             ]
            ],
            "type": "histogram2d"
           }
          ],
          "histogram2dcontour": [
           {
            "colorbar": {
             "outlinewidth": 0,
             "ticks": ""
            },
            "colorscale": [
             [
              0,
              "#0d0887"
             ],
             [
              0.1111111111111111,
              "#46039f"
             ],
             [
              0.2222222222222222,
              "#7201a8"
             ],
             [
              0.3333333333333333,
              "#9c179e"
             ],
             [
              0.4444444444444444,
              "#bd3786"
             ],
             [
              0.5555555555555556,
              "#d8576b"
             ],
             [
              0.6666666666666666,
              "#ed7953"
             ],
             [
              0.7777777777777778,
              "#fb9f3a"
             ],
             [
              0.8888888888888888,
              "#fdca26"
             ],
             [
              1,
              "#f0f921"
             ]
            ],
            "type": "histogram2dcontour"
           }
          ],
          "mesh3d": [
           {
            "colorbar": {
             "outlinewidth": 0,
             "ticks": ""
            },
            "type": "mesh3d"
           }
          ],
          "parcoords": [
           {
            "line": {
             "colorbar": {
              "outlinewidth": 0,
              "ticks": ""
             }
            },
            "type": "parcoords"
           }
          ],
          "pie": [
           {
            "automargin": true,
            "type": "pie"
           }
          ],
          "scatter": [
           {
            "fillpattern": {
             "fillmode": "overlay",
             "size": 10,
             "solidity": 0.2
            },
            "type": "scatter"
           }
          ],
          "scatter3d": [
           {
            "line": {
             "colorbar": {
              "outlinewidth": 0,
              "ticks": ""
             }
            },
            "marker": {
             "colorbar": {
              "outlinewidth": 0,
              "ticks": ""
             }
            },
            "type": "scatter3d"
           }
          ],
          "scattercarpet": [
           {
            "marker": {
             "colorbar": {
              "outlinewidth": 0,
              "ticks": ""
             }
            },
            "type": "scattercarpet"
           }
          ],
          "scattergeo": [
           {
            "marker": {
             "colorbar": {
              "outlinewidth": 0,
              "ticks": ""
             }
            },
            "type": "scattergeo"
           }
          ],
          "scattergl": [
           {
            "marker": {
             "colorbar": {
              "outlinewidth": 0,
              "ticks": ""
             }
            },
            "type": "scattergl"
           }
          ],
          "scattermap": [
           {
            "marker": {
             "colorbar": {
              "outlinewidth": 0,
              "ticks": ""
             }
            },
            "type": "scattermap"
           }
          ],
          "scattermapbox": [
           {
            "marker": {
             "colorbar": {
              "outlinewidth": 0,
              "ticks": ""
             }
            },
            "type": "scattermapbox"
           }
          ],
          "scatterpolar": [
           {
            "marker": {
             "colorbar": {
              "outlinewidth": 0,
              "ticks": ""
             }
            },
            "type": "scatterpolar"
           }
          ],
          "scatterpolargl": [
           {
            "marker": {
             "colorbar": {
              "outlinewidth": 0,
              "ticks": ""
             }
            },
            "type": "scatterpolargl"
           }
          ],
          "scatterternary": [
           {
            "marker": {
             "colorbar": {
              "outlinewidth": 0,
              "ticks": ""
             }
            },
            "type": "scatterternary"
           }
          ],
          "surface": [
           {
            "colorbar": {
             "outlinewidth": 0,
             "ticks": ""
            },
            "colorscale": [
             [
              0,
              "#0d0887"
             ],
             [
              0.1111111111111111,
              "#46039f"
             ],
             [
              0.2222222222222222,
              "#7201a8"
             ],
             [
              0.3333333333333333,
              "#9c179e"
             ],
             [
              0.4444444444444444,
              "#bd3786"
             ],
             [
              0.5555555555555556,
              "#d8576b"
             ],
             [
              0.6666666666666666,
              "#ed7953"
             ],
             [
              0.7777777777777778,
              "#fb9f3a"
             ],
             [
              0.8888888888888888,
              "#fdca26"
             ],
             [
              1,
              "#f0f921"
             ]
            ],
            "type": "surface"
           }
          ],
          "table": [
           {
            "cells": {
             "fill": {
              "color": "#EBF0F8"
             },
             "line": {
              "color": "white"
             }
            },
            "header": {
             "fill": {
              "color": "#C8D4E3"
             },
             "line": {
              "color": "white"
             }
            },
            "type": "table"
           }
          ]
         },
         "layout": {
          "annotationdefaults": {
           "arrowcolor": "#2a3f5f",
           "arrowhead": 0,
           "arrowwidth": 1
          },
          "autotypenumbers": "strict",
          "coloraxis": {
           "colorbar": {
            "outlinewidth": 0,
            "ticks": ""
           }
          },
          "colorscale": {
           "diverging": [
            [
             0,
             "#8e0152"
            ],
            [
             0.1,
             "#c51b7d"
            ],
            [
             0.2,
             "#de77ae"
            ],
            [
             0.3,
             "#f1b6da"
            ],
            [
             0.4,
             "#fde0ef"
            ],
            [
             0.5,
             "#f7f7f7"
            ],
            [
             0.6,
             "#e6f5d0"
            ],
            [
             0.7,
             "#b8e186"
            ],
            [
             0.8,
             "#7fbc41"
            ],
            [
             0.9,
             "#4d9221"
            ],
            [
             1,
             "#276419"
            ]
           ],
           "sequential": [
            [
             0,
             "#0d0887"
            ],
            [
             0.1111111111111111,
             "#46039f"
            ],
            [
             0.2222222222222222,
             "#7201a8"
            ],
            [
             0.3333333333333333,
             "#9c179e"
            ],
            [
             0.4444444444444444,
             "#bd3786"
            ],
            [
             0.5555555555555556,
             "#d8576b"
            ],
            [
             0.6666666666666666,
             "#ed7953"
            ],
            [
             0.7777777777777778,
             "#fb9f3a"
            ],
            [
             0.8888888888888888,
             "#fdca26"
            ],
            [
             1,
             "#f0f921"
            ]
           ],
           "sequentialminus": [
            [
             0,
             "#0d0887"
            ],
            [
             0.1111111111111111,
             "#46039f"
            ],
            [
             0.2222222222222222,
             "#7201a8"
            ],
            [
             0.3333333333333333,
             "#9c179e"
            ],
            [
             0.4444444444444444,
             "#bd3786"
            ],
            [
             0.5555555555555556,
             "#d8576b"
            ],
            [
             0.6666666666666666,
             "#ed7953"
            ],
            [
             0.7777777777777778,
             "#fb9f3a"
            ],
            [
             0.8888888888888888,
             "#fdca26"
            ],
            [
             1,
             "#f0f921"
            ]
           ]
          },
          "colorway": [
           "#636efa",
           "#EF553B",
           "#00cc96",
           "#ab63fa",
           "#FFA15A",
           "#19d3f3",
           "#FF6692",
           "#B6E880",
           "#FF97FF",
           "#FECB52"
          ],
          "font": {
           "color": "#2a3f5f"
          },
          "geo": {
           "bgcolor": "white",
           "lakecolor": "white",
           "landcolor": "#E5ECF6",
           "showlakes": true,
           "showland": true,
           "subunitcolor": "white"
          },
          "hoverlabel": {
           "align": "left"
          },
          "hovermode": "closest",
          "mapbox": {
           "style": "light"
          },
          "paper_bgcolor": "white",
          "plot_bgcolor": "#E5ECF6",
          "polar": {
           "angularaxis": {
            "gridcolor": "white",
            "linecolor": "white",
            "ticks": ""
           },
           "bgcolor": "#E5ECF6",
           "radialaxis": {
            "gridcolor": "white",
            "linecolor": "white",
            "ticks": ""
           }
          },
          "scene": {
           "xaxis": {
            "backgroundcolor": "#E5ECF6",
            "gridcolor": "white",
            "gridwidth": 2,
            "linecolor": "white",
            "showbackground": true,
            "ticks": "",
            "zerolinecolor": "white"
           },
           "yaxis": {
            "backgroundcolor": "#E5ECF6",
            "gridcolor": "white",
            "gridwidth": 2,
            "linecolor": "white",
            "showbackground": true,
            "ticks": "",
            "zerolinecolor": "white"
           },
           "zaxis": {
            "backgroundcolor": "#E5ECF6",
            "gridcolor": "white",
            "gridwidth": 2,
            "linecolor": "white",
            "showbackground": true,
            "ticks": "",
            "zerolinecolor": "white"
           }
          },
          "shapedefaults": {
           "line": {
            "color": "#2a3f5f"
           }
          },
          "ternary": {
           "aaxis": {
            "gridcolor": "white",
            "linecolor": "white",
            "ticks": ""
           },
           "baxis": {
            "gridcolor": "white",
            "linecolor": "white",
            "ticks": ""
           },
           "bgcolor": "#E5ECF6",
           "caxis": {
            "gridcolor": "white",
            "linecolor": "white",
            "ticks": ""
           }
          },
          "title": {
           "x": 0.05
          },
          "xaxis": {
           "automargin": true,
           "gridcolor": "white",
           "linecolor": "white",
           "ticks": "",
           "title": {
            "standoff": 15
           },
           "zerolinecolor": "white",
           "zerolinewidth": 2
          },
          "yaxis": {
           "automargin": true,
           "gridcolor": "white",
           "linecolor": "white",
           "ticks": "",
           "title": {
            "standoff": 15
           },
           "zerolinecolor": "white",
           "zerolinewidth": 2
          }
         }
        },
        "title": {
         "text": "ER Class Distribution in Each Batch - Task ID 8"
        },
        "xaxis": {
         "anchor": "y",
         "domain": [
          0,
          1
         ],
         "title": {
          "text": "Classes"
         }
        },
        "yaxis": {
         "anchor": "x",
         "autorange": "reversed",
         "domain": [
          0,
          1
         ],
         "title": {
          "text": "Batches"
         }
        }
       }
      }
     },
     "metadata": {},
     "output_type": "display_data"
    }
   ],
   "source": [
    "import numpy as np\n",
    "import plotly.express as px\n",
    "\n",
    "task_id = 8\n",
    "\n",
    "df = pd.read_csv(\"../results_plot_SplitCIFAR100_['EDR', 'ER']_False_[]_32_10_0_50_2/train_batches_y_ExperienceReplay.log\", \n",
    "                 names=[\"task_id\", \"class_0\", \"class_1\", \"class_2\", \"class_3\", \"class_4\", \"class_5\", \"class_6\", \n",
    "                            \"class_7\", \"class_8\", \"class_9\", \"class_10\", \"class_11\", \"class_12\", \"class_13\", \"class_14\", \"class_15\", \"class_16\",\n",
    "                            \"class_17\", \"class_18\", \"class_19\", \"class_20\", \"class_21\", \"class_22\", \"class_23\", \"class_24\", \"class_25\", \"class_26\",\n",
    "                            \"class_27\", \"class_28\", \"class_29\", \"class_30\", \"class_31\", \"class_32\", \"class_33\", \"class_34\", \"class_35\", \"class_36\",\n",
    "                            \"class_37\", \"class_38\", \"class_39\", \"class_40\", \"class_41\", \"class_42\", \"class_43\", \"class_44\", \"class_45\", \"class_46\",\n",
    "                            \"class_47\", \"class_48\", \"class_49\", \"class_50\", \"class_51\", \"class_52\", \"class_53\", \"class_54\", \"class_55\", \"class_56\",\n",
    "                            \"class_57\", \"class_58\", \"class_59\", \"class_60\", \"class_61\", \"class_62\", \"class_63\", \"class_64\", \"class_65\", \"class_66\",\n",
    "                            \"class_67\", \"class_68\", \"class_69\", \"class_70\", \"class_71\", \"class_72\", \"class_73\", \"class_74\", \"class_75\", \"class_76\",\n",
    "                            \"class_77\", \"class_78\", \"class_79\", \"class_80\", \"class_81\", \"class_82\", \"class_83\", \"class_84\", \"class_85\", \"class_86\",\n",
    "                            \"class_87\", \"class_88\", \"class_89\", \"class_90\", \"class_91\", \"class_92\", \"class_93\", \"class_94\", \"class_95\", \"class_96\",\n",
    "                            \"class_97\", \"class_98\", \"class_99\"],)\n",
    "\n",
    "df_plot = df.loc[df.task_id == task_id].reset_index(drop=True).copy()\n",
    "df_plot.drop(columns=[\"task_id\"], inplace=True)\n",
    "\n",
    "# Criação do heatmap interativo (classe no eixo Y, batch no eixo X)\n",
    "fig = px.imshow(\n",
    "    df_plot,\n",
    "    labels=dict(x=\"Classes\", y=\"Batches\", color=\"Number of Instances\"),\n",
    "    # x=[f\"Batch {i}\" for i in range(1, num_batches+1)],\n",
    "    # y=[f\"Classe {i}\" for i in range(num_classes)],\n",
    "    aspect=\"auto\",\n",
    "    color_continuous_scale=\"Viridis\",\n",
    "    origin=\"upper\",  # garante que Classe 0 fique em cima\n",
    "    # text_auto=True\n",
    ")\n",
    "\n",
    "fig.update_layout(\n",
    "    title=\"ER Class Distribution in Each Batch - Task ID {}\".format(task_id),\n",
    "    xaxis_title=\"Classes\",\n",
    "    yaxis_title=\"Batches\",\n",
    "    height=1000,\n",
    ")\n",
    "\n",
    "fig.show()"
   ]
  },
  {
   "cell_type": "markdown",
   "id": "116f6903",
   "metadata": {},
   "source": [
    "\n",
    "#### Task 9\n",
    "#### Classes 33, 99, 38, 73, 43, 14, 51, 86, 58, 27"
   ]
  },
  {
   "cell_type": "code",
   "execution_count": 34,
   "id": "d58eaaee",
   "metadata": {},
   "outputs": [
    {
     "data": {
      "application/vnd.plotly.v1+json": {
       "config": {
        "plotlyServerURL": "https://plot.ly"
       },
       "data": [
        {
         "coloraxis": "coloraxis",
         "hovertemplate": "Classes: %{x}<br>Batches: %{y}<br>Number of Instances: %{z}<extra></extra>",
         "name": "0",
         "type": "heatmap",
         "x": [
          "class_0",
          "class_1",
          "class_2",
          "class_3",
          "class_4",
          "class_5",
          "class_6",
          "class_7",
          "class_8",
          "class_9",
          "class_10",
          "class_11",
          "class_12",
          "class_13",
          "class_14",
          "class_15",
          "class_16",
          "class_17",
          "class_18",
          "class_19",
          "class_20",
          "class_21",
          "class_22",
          "class_23",
          "class_24",
          "class_25",
          "class_26",
          "class_27",
          "class_28",
          "class_29",
          "class_30",
          "class_31",
          "class_32",
          "class_33",
          "class_34",
          "class_35",
          "class_36",
          "class_37",
          "class_38",
          "class_39",
          "class_40",
          "class_41",
          "class_42",
          "class_43",
          "class_44",
          "class_45",
          "class_46",
          "class_47",
          "class_48",
          "class_49",
          "class_50",
          "class_51",
          "class_52",
          "class_53",
          "class_54",
          "class_55",
          "class_56",
          "class_57",
          "class_58",
          "class_59",
          "class_60",
          "class_61",
          "class_62",
          "class_63",
          "class_64",
          "class_65",
          "class_66",
          "class_67",
          "class_68",
          "class_69",
          "class_70",
          "class_71",
          "class_72",
          "class_73",
          "class_74",
          "class_75",
          "class_76",
          "class_77",
          "class_78",
          "class_79",
          "class_80",
          "class_81",
          "class_82",
          "class_83",
          "class_84",
          "class_85",
          "class_86",
          "class_87",
          "class_88",
          "class_89",
          "class_90",
          "class_91",
          "class_92",
          "class_93",
          "class_94",
          "class_95",
          "class_96",
          "class_97",
          "class_98",
          "class_99"
         ],
         "xaxis": "x",
         "y": {
          "bdata": "AAECAwQFBgcICQoLDA0ODxAREhMUFRYXGBkaGxwdHh8gISIjJCUmJygpKissLS4vMDEyMw==",
          "dtype": "i1"
         },
         "yaxis": "y",
         "z": {
          "bdata": "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",
          "dtype": "i1",
          "shape": "52, 100"
         }
        }
       ],
       "layout": {
        "coloraxis": {
         "colorbar": {
          "title": {
           "text": "Number of Instances"
          }
         },
         "colorscale": [
          [
           0,
           "#440154"
          ],
          [
           0.1111111111111111,
           "#482878"
          ],
          [
           0.2222222222222222,
           "#3e4989"
          ],
          [
           0.3333333333333333,
           "#31688e"
          ],
          [
           0.4444444444444444,
           "#26828e"
          ],
          [
           0.5555555555555556,
           "#1f9e89"
          ],
          [
           0.6666666666666666,
           "#35b779"
          ],
          [
           0.7777777777777778,
           "#6ece58"
          ],
          [
           0.8888888888888888,
           "#b5de2b"
          ],
          [
           1,
           "#fde725"
          ]
         ]
        },
        "height": 900,
        "margin": {
         "t": 60
        },
        "template": {
         "data": {
          "bar": [
           {
            "error_x": {
             "color": "#2a3f5f"
            },
            "error_y": {
             "color": "#2a3f5f"
            },
            "marker": {
             "line": {
              "color": "#E5ECF6",
              "width": 0.5
             },
             "pattern": {
              "fillmode": "overlay",
              "size": 10,
              "solidity": 0.2
             }
            },
            "type": "bar"
           }
          ],
          "barpolar": [
           {
            "marker": {
             "line": {
              "color": "#E5ECF6",
              "width": 0.5
             },
             "pattern": {
              "fillmode": "overlay",
              "size": 10,
              "solidity": 0.2
             }
            },
            "type": "barpolar"
           }
          ],
          "carpet": [
           {
            "aaxis": {
             "endlinecolor": "#2a3f5f",
             "gridcolor": "white",
             "linecolor": "white",
             "minorgridcolor": "white",
             "startlinecolor": "#2a3f5f"
            },
            "baxis": {
             "endlinecolor": "#2a3f5f",
             "gridcolor": "white",
             "linecolor": "white",
             "minorgridcolor": "white",
             "startlinecolor": "#2a3f5f"
            },
            "type": "carpet"
           }
          ],
          "choropleth": [
           {
            "colorbar": {
             "outlinewidth": 0,
             "ticks": ""
            },
            "type": "choropleth"
           }
          ],
          "contour": [
           {
            "colorbar": {
             "outlinewidth": 0,
             "ticks": ""
            },
            "colorscale": [
             [
              0,
              "#0d0887"
             ],
             [
              0.1111111111111111,
              "#46039f"
             ],
             [
              0.2222222222222222,
              "#7201a8"
             ],
             [
              0.3333333333333333,
              "#9c179e"
             ],
             [
              0.4444444444444444,
              "#bd3786"
             ],
             [
              0.5555555555555556,
              "#d8576b"
             ],
             [
              0.6666666666666666,
              "#ed7953"
             ],
             [
              0.7777777777777778,
              "#fb9f3a"
             ],
             [
              0.8888888888888888,
              "#fdca26"
             ],
             [
              1,
              "#f0f921"
             ]
            ],
            "type": "contour"
           }
          ],
          "contourcarpet": [
           {
            "colorbar": {
             "outlinewidth": 0,
             "ticks": ""
            },
            "type": "contourcarpet"
           }
          ],
          "heatmap": [
           {
            "colorbar": {
             "outlinewidth": 0,
             "ticks": ""
            },
            "colorscale": [
             [
              0,
              "#0d0887"
             ],
             [
              0.1111111111111111,
              "#46039f"
             ],
             [
              0.2222222222222222,
              "#7201a8"
             ],
             [
              0.3333333333333333,
              "#9c179e"
             ],
             [
              0.4444444444444444,
              "#bd3786"
             ],
             [
              0.5555555555555556,
              "#d8576b"
             ],
             [
              0.6666666666666666,
              "#ed7953"
             ],
             [
              0.7777777777777778,
              "#fb9f3a"
             ],
             [
              0.8888888888888888,
              "#fdca26"
             ],
             [
              1,
              "#f0f921"
             ]
            ],
            "type": "heatmap"
           }
          ],
          "histogram": [
           {
            "marker": {
             "pattern": {
              "fillmode": "overlay",
              "size": 10,
              "solidity": 0.2
             }
            },
            "type": "histogram"
           }
          ],
          "histogram2d": [
           {
            "colorbar": {
             "outlinewidth": 0,
             "ticks": ""
            },
            "colorscale": [
             [
              0,
              "#0d0887"
             ],
             [
              0.1111111111111111,
              "#46039f"
             ],
             [
              0.2222222222222222,
              "#7201a8"
             ],
             [
              0.3333333333333333,
              "#9c179e"
             ],
             [
              0.4444444444444444,
              "#bd3786"
             ],
             [
              0.5555555555555556,
              "#d8576b"
             ],
             [
              0.6666666666666666,
              "#ed7953"
             ],
             [
              0.7777777777777778,
              "#fb9f3a"
             ],
             [
              0.8888888888888888,
              "#fdca26"
             ],
             [
              1,
              "#f0f921"
             ]
            ],
            "type": "histogram2d"
           }
          ],
          "histogram2dcontour": [
           {
            "colorbar": {
             "outlinewidth": 0,
             "ticks": ""
            },
            "colorscale": [
             [
              0,
              "#0d0887"
             ],
             [
              0.1111111111111111,
              "#46039f"
             ],
             [
              0.2222222222222222,
              "#7201a8"
             ],
             [
              0.3333333333333333,
              "#9c179e"
             ],
             [
              0.4444444444444444,
              "#bd3786"
             ],
             [
              0.5555555555555556,
              "#d8576b"
             ],
             [
              0.6666666666666666,
              "#ed7953"
             ],
             [
              0.7777777777777778,
              "#fb9f3a"
             ],
             [
              0.8888888888888888,
              "#fdca26"
             ],
             [
              1,
              "#f0f921"
             ]
            ],
            "type": "histogram2dcontour"
           }
          ],
          "mesh3d": [
           {
            "colorbar": {
             "outlinewidth": 0,
             "ticks": ""
            },
            "type": "mesh3d"
           }
          ],
          "parcoords": [
           {
            "line": {
             "colorbar": {
              "outlinewidth": 0,
              "ticks": ""
             }
            },
            "type": "parcoords"
           }
          ],
          "pie": [
           {
            "automargin": true,
            "type": "pie"
           }
          ],
          "scatter": [
           {
            "fillpattern": {
             "fillmode": "overlay",
             "size": 10,
             "solidity": 0.2
            },
            "type": "scatter"
           }
          ],
          "scatter3d": [
           {
            "line": {
             "colorbar": {
              "outlinewidth": 0,
              "ticks": ""
             }
            },
            "marker": {
             "colorbar": {
              "outlinewidth": 0,
              "ticks": ""
             }
            },
            "type": "scatter3d"
           }
          ],
          "scattercarpet": [
           {
            "marker": {
             "colorbar": {
              "outlinewidth": 0,
              "ticks": ""
             }
            },
            "type": "scattercarpet"
           }
          ],
          "scattergeo": [
           {
            "marker": {
             "colorbar": {
              "outlinewidth": 0,
              "ticks": ""
             }
            },
            "type": "scattergeo"
           }
          ],
          "scattergl": [
           {
            "marker": {
             "colorbar": {
              "outlinewidth": 0,
              "ticks": ""
             }
            },
            "type": "scattergl"
           }
          ],
          "scattermap": [
           {
            "marker": {
             "colorbar": {
              "outlinewidth": 0,
              "ticks": ""
             }
            },
            "type": "scattermap"
           }
          ],
          "scattermapbox": [
           {
            "marker": {
             "colorbar": {
              "outlinewidth": 0,
              "ticks": ""
             }
            },
            "type": "scattermapbox"
           }
          ],
          "scatterpolar": [
           {
            "marker": {
             "colorbar": {
              "outlinewidth": 0,
              "ticks": ""
             }
            },
            "type": "scatterpolar"
           }
          ],
          "scatterpolargl": [
           {
            "marker": {
             "colorbar": {
              "outlinewidth": 0,
              "ticks": ""
             }
            },
            "type": "scatterpolargl"
           }
          ],
          "scatterternary": [
           {
            "marker": {
             "colorbar": {
              "outlinewidth": 0,
              "ticks": ""
             }
            },
            "type": "scatterternary"
           }
          ],
          "surface": [
           {
            "colorbar": {
             "outlinewidth": 0,
             "ticks": ""
            },
            "colorscale": [
             [
              0,
              "#0d0887"
             ],
             [
              0.1111111111111111,
              "#46039f"
             ],
             [
              0.2222222222222222,
              "#7201a8"
             ],
             [
              0.3333333333333333,
              "#9c179e"
             ],
             [
              0.4444444444444444,
              "#bd3786"
             ],
             [
              0.5555555555555556,
              "#d8576b"
             ],
             [
              0.6666666666666666,
              "#ed7953"
             ],
             [
              0.7777777777777778,
              "#fb9f3a"
             ],
             [
              0.8888888888888888,
              "#fdca26"
             ],
             [
              1,
              "#f0f921"
             ]
            ],
            "type": "surface"
           }
          ],
          "table": [
           {
            "cells": {
             "fill": {
              "color": "#EBF0F8"
             },
             "line": {
              "color": "white"
             }
            },
            "header": {
             "fill": {
              "color": "#C8D4E3"
             },
             "line": {
              "color": "white"
             }
            },
            "type": "table"
           }
          ]
         },
         "layout": {
          "annotationdefaults": {
           "arrowcolor": "#2a3f5f",
           "arrowhead": 0,
           "arrowwidth": 1
          },
          "autotypenumbers": "strict",
          "coloraxis": {
           "colorbar": {
            "outlinewidth": 0,
            "ticks": ""
           }
          },
          "colorscale": {
           "diverging": [
            [
             0,
             "#8e0152"
            ],
            [
             0.1,
             "#c51b7d"
            ],
            [
             0.2,
             "#de77ae"
            ],
            [
             0.3,
             "#f1b6da"
            ],
            [
             0.4,
             "#fde0ef"
            ],
            [
             0.5,
             "#f7f7f7"
            ],
            [
             0.6,
             "#e6f5d0"
            ],
            [
             0.7,
             "#b8e186"
            ],
            [
             0.8,
             "#7fbc41"
            ],
            [
             0.9,
             "#4d9221"
            ],
            [
             1,
             "#276419"
            ]
           ],
           "sequential": [
            [
             0,
             "#0d0887"
            ],
            [
             0.1111111111111111,
             "#46039f"
            ],
            [
             0.2222222222222222,
             "#7201a8"
            ],
            [
             0.3333333333333333,
             "#9c179e"
            ],
            [
             0.4444444444444444,
             "#bd3786"
            ],
            [
             0.5555555555555556,
             "#d8576b"
            ],
            [
             0.6666666666666666,
             "#ed7953"
            ],
            [
             0.7777777777777778,
             "#fb9f3a"
            ],
            [
             0.8888888888888888,
             "#fdca26"
            ],
            [
             1,
             "#f0f921"
            ]
           ],
           "sequentialminus": [
            [
             0,
             "#0d0887"
            ],
            [
             0.1111111111111111,
             "#46039f"
            ],
            [
             0.2222222222222222,
             "#7201a8"
            ],
            [
             0.3333333333333333,
             "#9c179e"
            ],
            [
             0.4444444444444444,
             "#bd3786"
            ],
            [
             0.5555555555555556,
             "#d8576b"
            ],
            [
             0.6666666666666666,
             "#ed7953"
            ],
            [
             0.7777777777777778,
             "#fb9f3a"
            ],
            [
             0.8888888888888888,
             "#fdca26"
            ],
            [
             1,
             "#f0f921"
            ]
           ]
          },
          "colorway": [
           "#636efa",
           "#EF553B",
           "#00cc96",
           "#ab63fa",
           "#FFA15A",
           "#19d3f3",
           "#FF6692",
           "#B6E880",
           "#FF97FF",
           "#FECB52"
          ],
          "font": {
           "color": "#2a3f5f"
          },
          "geo": {
           "bgcolor": "white",
           "lakecolor": "white",
           "landcolor": "#E5ECF6",
           "showlakes": true,
           "showland": true,
           "subunitcolor": "white"
          },
          "hoverlabel": {
           "align": "left"
          },
          "hovermode": "closest",
          "mapbox": {
           "style": "light"
          },
          "paper_bgcolor": "white",
          "plot_bgcolor": "#E5ECF6",
          "polar": {
           "angularaxis": {
            "gridcolor": "white",
            "linecolor": "white",
            "ticks": ""
           },
           "bgcolor": "#E5ECF6",
           "radialaxis": {
            "gridcolor": "white",
            "linecolor": "white",
            "ticks": ""
           }
          },
          "scene": {
           "xaxis": {
            "backgroundcolor": "#E5ECF6",
            "gridcolor": "white",
            "gridwidth": 2,
            "linecolor": "white",
            "showbackground": true,
            "ticks": "",
            "zerolinecolor": "white"
           },
           "yaxis": {
            "backgroundcolor": "#E5ECF6",
            "gridcolor": "white",
            "gridwidth": 2,
            "linecolor": "white",
            "showbackground": true,
            "ticks": "",
            "zerolinecolor": "white"
           },
           "zaxis": {
            "backgroundcolor": "#E5ECF6",
            "gridcolor": "white",
            "gridwidth": 2,
            "linecolor": "white",
            "showbackground": true,
            "ticks": "",
            "zerolinecolor": "white"
           }
          },
          "shapedefaults": {
           "line": {
            "color": "#2a3f5f"
           }
          },
          "ternary": {
           "aaxis": {
            "gridcolor": "white",
            "linecolor": "white",
            "ticks": ""
           },
           "baxis": {
            "gridcolor": "white",
            "linecolor": "white",
            "ticks": ""
           },
           "bgcolor": "#E5ECF6",
           "caxis": {
            "gridcolor": "white",
            "linecolor": "white",
            "ticks": ""
           }
          },
          "title": {
           "x": 0.05
          },
          "xaxis": {
           "automargin": true,
           "gridcolor": "white",
           "linecolor": "white",
           "ticks": "",
           "title": {
            "standoff": 15
           },
           "zerolinecolor": "white",
           "zerolinewidth": 2
          },
          "yaxis": {
           "automargin": true,
           "gridcolor": "white",
           "linecolor": "white",
           "ticks": "",
           "title": {
            "standoff": 15
           },
           "zerolinecolor": "white",
           "zerolinewidth": 2
          }
         }
        },
        "title": {
         "text": "EDR Class Distribution in Each Batch - Task ID 9"
        },
        "xaxis": {
         "anchor": "y",
         "domain": [
          0,
          1
         ],
         "title": {
          "text": "Classes"
         }
        },
        "yaxis": {
         "anchor": "x",
         "autorange": "reversed",
         "domain": [
          0,
          1
         ],
         "title": {
          "text": "Batches"
         }
        }
       }
      }
     },
     "metadata": {},
     "output_type": "display_data"
    }
   ],
   "source": [
    "import numpy as np\n",
    "import plotly.express as px\n",
    "\n",
    "task_id = 9\n",
    "\n",
    "df = pd.read_csv(\"../results_plot_SplitCIFAR100_['EDR', 'ER']_False_[]_32_10_0_50_2/train_batches_y_ExperienceDelayReplay.log\", \n",
    "                 names=[\"task_id\", \"class_0\", \"class_1\", \"class_2\", \"class_3\", \"class_4\", \"class_5\", \"class_6\", \n",
    "                            \"class_7\", \"class_8\", \"class_9\", \"class_10\", \"class_11\", \"class_12\", \"class_13\", \"class_14\", \"class_15\", \"class_16\",\n",
    "                            \"class_17\", \"class_18\", \"class_19\", \"class_20\", \"class_21\", \"class_22\", \"class_23\", \"class_24\", \"class_25\", \"class_26\",\n",
    "                            \"class_27\", \"class_28\", \"class_29\", \"class_30\", \"class_31\", \"class_32\", \"class_33\", \"class_34\", \"class_35\", \"class_36\",\n",
    "                            \"class_37\", \"class_38\", \"class_39\", \"class_40\", \"class_41\", \"class_42\", \"class_43\", \"class_44\", \"class_45\", \"class_46\",\n",
    "                            \"class_47\", \"class_48\", \"class_49\", \"class_50\", \"class_51\", \"class_52\", \"class_53\", \"class_54\", \"class_55\", \"class_56\",\n",
    "                            \"class_57\", \"class_58\", \"class_59\", \"class_60\", \"class_61\", \"class_62\", \"class_63\", \"class_64\", \"class_65\", \"class_66\",\n",
    "                            \"class_67\", \"class_68\", \"class_69\", \"class_70\", \"class_71\", \"class_72\", \"class_73\", \"class_74\", \"class_75\", \"class_76\",\n",
    "                            \"class_77\", \"class_78\", \"class_79\", \"class_80\", \"class_81\", \"class_82\", \"class_83\", \"class_84\", \"class_85\", \"class_86\",\n",
    "                            \"class_87\", \"class_88\", \"class_89\", \"class_90\", \"class_91\", \"class_92\", \"class_93\", \"class_94\", \"class_95\", \"class_96\",\n",
    "                            \"class_97\", \"class_98\", \"class_99\"],)\n",
    "\n",
    "\n",
    "df_plot = df.loc[df.task_id == task_id].reset_index(drop=True).copy()\n",
    "# df_plot = pd.concat([df_plot[:10], df_plot[80:90], df_plot[115:125]], ignore_index=True)\n",
    "df_plot.drop(columns=[\"task_id\"], inplace=True)\n",
    "\n",
    "# Criação do heatmap interativo (classe no eixo Y, batch no eixo X)\n",
    "fig = px.imshow(\n",
    "    df_plot,\n",
    "    labels=dict(x=\"Classes\", y=\"Batches\", color=\"Number of Instances\"),\n",
    "    # x=[f\"Batch {i}\" for i in range(1, num_batches+1)],\n",
    "    # y=[f\"Classe {i}\" for i in range(num_classes)],\n",
    "    aspect=\"auto\",\n",
    "    color_continuous_scale=\"Viridis\",\n",
    "    origin=\"upper\",  # garante que Classe 0 fique em cima\n",
    "    # text_auto=True\n",
    ")\n",
    "\n",
    "fig.update_layout(\n",
    "    title=\"EDR Class Distribution in Each Batch - Task ID {}\".format(task_id),\n",
    "    xaxis_title=\"Classes\",\n",
    "    yaxis_title=\"Batches\",\n",
    "    height=900,\n",
    ")\n",
    "\n",
    "fig.show()"
   ]
  },
  {
   "cell_type": "code",
   "execution_count": 35,
   "id": "8715bd78",
   "metadata": {},
   "outputs": [
    {
     "data": {
      "application/vnd.plotly.v1+json": {
       "config": {
        "plotlyServerURL": "https://plot.ly"
       },
       "data": [
        {
         "coloraxis": "coloraxis",
         "hovertemplate": "Classes: %{x}<br>Batches: %{y}<br>Number of Instances: %{z}<extra></extra>",
         "name": "0",
         "type": "heatmap",
         "x": [
          "class_0",
          "class_1",
          "class_2",
          "class_3",
          "class_4",
          "class_5",
          "class_6",
          "class_7",
          "class_8",
          "class_9",
          "class_10",
          "class_11",
          "class_12",
          "class_13",
          "class_14",
          "class_15",
          "class_16",
          "class_17",
          "class_18",
          "class_19",
          "class_20",
          "class_21",
          "class_22",
          "class_23",
          "class_24",
          "class_25",
          "class_26",
          "class_27",
          "class_28",
          "class_29",
          "class_30",
          "class_31",
          "class_32",
          "class_33",
          "class_34",
          "class_35",
          "class_36",
          "class_37",
          "class_38",
          "class_39",
          "class_40",
          "class_41",
          "class_42",
          "class_43",
          "class_44",
          "class_45",
          "class_46",
          "class_47",
          "class_48",
          "class_49",
          "class_50",
          "class_51",
          "class_52",
          "class_53",
          "class_54",
          "class_55",
          "class_56",
          "class_57",
          "class_58",
          "class_59",
          "class_60",
          "class_61",
          "class_62",
          "class_63",
          "class_64",
          "class_65",
          "class_66",
          "class_67",
          "class_68",
          "class_69",
          "class_70",
          "class_71",
          "class_72",
          "class_73",
          "class_74",
          "class_75",
          "class_76",
          "class_77",
          "class_78",
          "class_79",
          "class_80",
          "class_81",
          "class_82",
          "class_83",
          "class_84",
          "class_85",
          "class_86",
          "class_87",
          "class_88",
          "class_89",
          "class_90",
          "class_91",
          "class_92",
          "class_93",
          "class_94",
          "class_95",
          "class_96",
          "class_97",
          "class_98",
          "class_99"
         ],
         "xaxis": "x",
         "y": {
          "bdata": "AAECAwQFBgcICQoLDA0ODxAREhMUFRYXGBkaGxwdHh8gISIjJCUmJygpKissLS4vMDEyMzQ1Njc4OTo7PD0+P0BBQkNERUZHSElKS0xN",
          "dtype": "i1"
         },
         "yaxis": "y",
         "z": {
          "bdata": "AAEBAQAAAAAAAQABAAQAAAACBQAAAwAAAwIAAAAAAAAAAAEAAAEABgABAQABAAAAAQABAAEAAAECAAAAAAAAAAMAAAIBAQAAAAAAAgAAAQAAAAIAAAEAAQUAAAAAAQIAAQAAAAAAAAAAAQAAAgAAAQECAAABAwECAAUAAAEAAQABAAEBAAAAAAABAAMBAAAAAAAAAQIAAQAAAQMAAAAAAQABAAAEAAAFAAAAAAEAAQUAAAAAAAAAAAAAAAACAQAAAAUAAAABAAAAAQEAAAEAAAAAAgAAAgAAAAMDAgAFAAACAAIAAQAAAAAAAgAAAQAEAQEAAAAAAAADAQEAAAEBAAEAAAAAAAEAAQABBQEBAAAAAAEBAAABAAAAAAAAAQAABgAAAAAAAgAAAAAAAAAAAQADAAAAAAAAAQIAAgECBAAABwAAAAAAAAAAAAAAAAIAAAAABAEAAQAAAAACBQACAAAAAAABAAABAAABAAEBAAMAAQAAAQABAQAAAAACAAAAAAAAAQQAAQABAQIAAAAAAAEAAQAAAAAAAAADAAAFAAEAAgABAAQAAAIAAQAAAAAAAAAAAAABAAMBAAAAAQAAAAMCAQAAAQIAAQAAAAAAAQADAQADAAAAAAEAAAYAAAAAAQABAAAAAAAGAAEAAQEAAAABAAAAAAAAAAEAAAAAAwAAAwABAAUCAQAHAAEBAQAAAQAAAAAAAAAAAgAEAAEAAAEAAAEDAAAAAAAAAAABAAEAAAAAAQAAAgABAAACAAAIAAABAAAAAAAAAAABBAAAAAACAQAAAAAAAAACAAADAAAAAAEBAQUAAgADAwAABQAAAQAAAAAAAgAAAAEAAAMAAwEAAQAAAAAAAwAAAAIAAAAAAAAAAAAAAAMAAAIAAAEAAwAABgAAAAAAAAAAAAAAAAIAAAAAAQEAAgAAAAAAAgMAAAAAAAABAAEBAAEBAwECAAQAAQEAAAAAAAEAAAABAAAAAAYCAgAAAAAAAAMAAAAAAAAAAAAAAAAAAAECAAEGAAAAAAIAAAIAAAEAAQEAAAAAAAAFAQABAAIBAAAAAAAAAAEAAAEAAAACAAACBAACAAIHAAADAAIBAAAAAAAAAAAAAQEAAQADAgEAAAEAAAAGAAAAAQACAAAAAAEAAAAAAgEBAAAAAAABAAAFAAABAAAAAAIAAAAAAwAAAAABAAAAAAAAAQEAAAAAAAAAAQEAAQQAAQAFBgAAAgAAAAABAAEAAAEAAAACAAAAAgABAAAAAAABBAEAAAIAAQAAAAABAAAAAQIBAAAAAQAAAwAAAQAAAgAAAAABAAAAAQYAAAAAAQEAAQEAAAEAAAAAAQAAAAECAAEDAAAAAAQAAAMAAAEAAAAAAAABAQAAAAAAAAQBAAAAAQAAAAkAAAABAQICAAAAAAAAAAACAAICAAEBAAEAAAMAAAIAAAAAAQAAAAIDAAABAQABAAABAAABAAEAAAEAAAABAQAAAQAAAAMEAAAEAAECAQAAAgACAQAAAAAAAQADAAEAAAAAAAADAAAAAQEAAAAAAAEAAAAABQIBBAACAAAAAAADAAACAAEBAAABAAAAAgAAAAABAAACAAAAAQAAAQABAAAAAQMAAQQAAAEFAgAAAgAAAQAAAAIAAQEAAAMAAAIABAABAAAAAAAAAgEAAAEBAQAAAAAAAAAAAAIAAAEAAAAAAQAABgAAAQAAAAEAAAAAAAUBAAEAAQEAAAAAAAIBAAAAAAAAAAAAAAABAAAAAgQAAAQAAQAAAgABAAIAAAACAAAAAAMBAAAAAAAAAQUAAAAEAAEBAAAAAAAAAAAEAAAFAAAAAAIAAAIAAAIAAQABAAAAAAADAAAAAAICAAEBAAABAAAAAAAAAAACAQABBgABAgYEAQABAAIDAAEAAAAAAAEAAAAAAAACAAABAAAAAAADAAAAAAMBAAAAAAAAAAEBAwAAAwEAAAEAAAACAAABAAEAAgAAAAACAgEAAAAAAAAAAAAAAQAAAAAAAAAAAAIAAAIAAQEEAwIAAwABAQIAAAAAAAAAAAABAAIABgACAAAAAAAAAgEAAAABAQAAAQAAAAEAAAQAAAUBAAAAAAAAAwAAAgAAAQAAAQAAAQMAAQAAAAEAAAAAAAAAAAEAAgAAAAIBAAEEAAIAAQQAAAUAAQAAAQAAAAEAAAABAAABAAMCAAAAAAAAAAIAAgABAQAAAQAAAAAAAAAFAQIDAAABAQAAAAMAAAAAAAACAAAAAAADAAAAAAEAAAEBAAAAAQAAAAEAAAAAAwABBQAAAAIAAAAGAAABAAMAAQAAAQAAAAAAAAADAAEAAAAAAAAHAAIAAQEAAAABAAAAAAEBAwAAAQAAAAABAAEDAAAAAAIAAQEBAAAABgAAAAABAAAAAAAAAAEAAAAAAAAAAQEAAQUAAQAEAgMAAgAEAgAAAAAAAAAAAAEAAAEABQIAAAAAAAAAAQAAAAABAAABAAAAAAAAAQQAAQQAAAABAQAAAAAAAQAAAAAAAAEAAAYBAAEAAQEAAQAAAAAAAAAAAgAAAQEAAgICAAABAQQAAAIAAAMAAQADAAAAAAAAAAAAAAUCAAEABAAAAAMBAAABAAEAAAAAAAAAAAACAAAHAAAAAAMAAQQAAAAAAAAAAAABAAECAAAAAAAAAAAAAAAAAQEAAAIAAAAAAgACBAABAAMCAgADAAIDAAAAAQAAAAAAAQAAAAAGAQAAAAIAAAACAAAAAQECAAAAAAEAAAAAAgAAAQAAAQAAAAEEAAABAAAAAAEBAAABBQAAAAAAAAAAAAAAAAABAAAAAAAAAAIBAgQAAAACBAAABAAAAgABAAIAAAAAAAAAAAIABwAAAAAAAAAABAABAAMAAAAAAAAAAAEAAAIAAAMBAQAAAQAAAgAAAgAAAAEAAQEAAQIAAAAAAAIAAQAAAAEAAAIAAAAAAAEAAgIEAAEAAQABAAAAAAEAAAACAAAAAAABAAABAAcAAAAAAgAAAAMAAQACAQAAAAAAAAAAAAEEAgEEAAAAAAAAAAQAAAAAAQEAAAAAAAEFAAEAAAEBAAEAAAAAAAAAAAIAAAAAAAAAAwABAAQDAAAEAAADAQAAAQABAAAAAQEAAAAEAAEAAAEAAAACAAAAAwEAAAACAAAAAAAABAAAAgEAAAAAAAEFAAAAAAABAgEAAAAAAgAAAgEBAQABAAAAAAAAAAAAAAAAAAEAAQEAAQEGAgAAAQABAgADAAAAAAAAAAEAAAAAAwEBAAAAAAAABQABAAMBAgAAAAAAAAAAAAUAAAQAAQABAQAABQAAAgAAAQAAAAAAAAEBAAABAQEAAQAAAAAAAAAAAwAAAAAAAgEHAAQABAIAAAcAAQAAAAAAAAEBAAAAAAAAAAMAAAAAAQAAAQMAAAABAQABAAEAAQAAAAECAgACAAAAAgAAAAMAAAAAAAAAAAABAAACAAAAAQEAAAABAAAAAAEAAAAAAAAAAAAEAgACAQQCAAAFAAEBAAAAAQACAAAAAQAAAAACAQEAAAEAAAAEAgAAAAAAAAAAAAAAAAEAAgACAQAAAAAAAAAIAAACAAAAAAAAAQAABgAAAAACAQAAAAAAAAAAAAABAAAAAQIAAQMAAAAFAQEABAAAAAABAAAAAAAAAAAAAAEAAQABAAABAAAAAwACAAEAAAAAAAAAAAAAAQkAAAAAAgAAAwACBAAAAQADAAAAAAEAAQQAAAAAAQEAAQAAAAAAAAAAAQAAAAACAAAEAAIBAgQAAAUAAwEAAQAAAAEAAAAAAAAAAAQAAQAAAAAAAAMCAAAAAwABAQAAAAAAAAADAgEFAAAAAAEAAAQAAAAAAQABAQEAAAABAAAAAAABAAAAAAAAAQABAAEAAAAAAwAABAADAAIGAAADAAADAAIAAAAAAQAAAQAAAQAEAQEAAAAAAAACAAAAAAACAQAAAAEAAAAACAAAAgABAgABAAACAAAAAAAAAAAAAAAAAQABAQAAAAAAAQAAAAABAAAAAAAAAwAAAQgAAQADBAAAAgABAwABAAAAAAAAAAAAAAEAAwIAAAABAAAAAwEBAAEBAAAAAgAAAAAAAQIAAAYAAAEBAAAAAgAAAgABAAAAAAAAAAAAAQAAAAIAAQAAAAABAAAAAQAAAAEAAQECAAAAAwUAAAEAAQEAAAAAAAAAAAAAAgAAAAIAAAAAAAAAAAMAAAAEAAEBAgAAAAAAAAAHAgAGAAAAAAEAAAMAAAIAAgABAAABAAACAQEAAAIAAAAAAAABAAAAAAEAAAABAQAABgABAQIBAAACAAABAAIAAAABAQAAAQAAAAADAQAAAAAAAAEDAAIAAgEAAQAAAAAAAAAABAAABwABAAABAAEDAAAAAAAAAQAAAAABBQAAAAAAAQABAQAAAAEBAAAAAAAAAAABAQQAAQADAgAAAwAAAAAAAAAAAAABAAIBAAAABQIAAgABAAAAAQECAAIAAAEAAAAAAAEBAgQAAAQBAAAAAAABBAAAAAAAAAABAAAAAAMAAAABAQEAAQAAAAAAAAAAAAAAAAECAAABAAIBAgMAAAMAAQMAAQACAAABAAAAAAAAAAUAAAIAAQAAAAQAAAAAAQEAAAAAAAAAAQEGAwECAAAAAAAAAAQAAAIAAAABAQAAAAACAAABAQABAAAAAAABAAABAAIAAAAAAQABAgAAAAMHAAAEAAEDAgAAAAAAAAEAAQAAAAAEAAAAAAAAAAADAAEAAQEAAQEAAAEAAAAAAAEAAwAAAAABAAAFAAAAAAEAAQAAAAAABQABAAEBAQAAAAAAAAABAAABAAAAAQAAAgQAAQACAgIAAwAAAAEDAAAAAAAAAAABAAAABAICAQABAAAAAwAAAAAAAAAAAAAAAAAAAAIBAAIBAQAAAAAABQAAAwAAAAABAAAAAAkAAgAAAAAAAAAAAAABAAAAAgAAAAAFAAADAAAAAgIAAAUAAgMAAAAAAAABAAAAAAAAAAIBAQAAAAAAAQYAAQACAQAAAAAAAAAAAAADAAADAAABAAAAAAUAAAAAAQAAAAAAAAAEAQAAAgEBAAEAAAACAAEAAAAAAAEAAQAAAQACAAMEAAAGAAECAAEAAAAAAAAAAgAAAQACAAAAAAAAAAADAQAAAQEAAAEAAAAAAAAAAwEBCAEAAAACAAABAAABAAAAAAAAAQAAAQEAAAABAgACAQAAAAAAAQAAAAAAAQEAAAIAAAEEBAEABwACAgAAAAAAAAAAAAABAAAAAwAAAQABAAAABgAAAAIBAAABAAAAAAEBAQAAAAEAAAEAAAAAAwAAAAACAQAAAQEAAQUAAAABAAAAAQEAAAAAAAAAAQAAAAAAAAAEAAIABAIBAAMAAAEAAAABAAABAAAAAQAAAAUAAAEAAAAAAAEBAQABAQIAAAAAAAAAAAAFAQADAAEAAwEAAAQAAAIAAAABAQABAAAEAAAAAAEBAAEAAAABAAAAAAAAAAEBAQEAAwAAAAcEAAACAAECAAEAAQABAAEAAAAAAQADAgAAAAIAAAADAAAAAQIBAAEAAAAAAAABBAEBAgAAAQABAAAFAAAAAAAAAgABAAAAAQAAAAAAAAAAAAAAAAAAAAACAAAAAAAAAAkAAQAHAwAABQAAAgADAAEAAAEBAAIAAAAAAwAAAAAAAAAAAQICAAAAAAAAAAAAAAABAAAAAAMAAAACAQAAAwAAAQAAAAAAAAAAAAQAAQABAQAAAQAAAAABAAAAAQAAAAAAAAIDAAEBBAIAAAMAAAIAAQABAAEAAAAAAAAAAAYAAQAAAAAAAQQAAAACAQABAAEAAQAAAAAEAAEAAAABAAAAAQEAAAAAAAACAQAAAAMIAAAAAQAAAAAAAAAAAAAAAAAAAAAAAQAAAwACAAIDAQACAAEBAAEAAAABAAAAAgEAAAADAAAAAAAAAAABAAMAAQIBAAAAAAEAAQEBBQEBBwAAAAEBAAADAAACAAAAAAABAAABBAEAAAAAAAAAAAAAAAIAAAAAAAAAAAEAAAYAAAACAQEABAAAAwEBAAAAAQAAAAIAAAAABwABAAAAAAAAAgAAAAECAQAAAAAAAAAAAAMDAAMAAAIAAgAABAAAAAACAAABAAAAAgEAAAAAAAIAAAAAAAAAAAAAAQAAAAADAQAEAAEABAEAAAQAAgIAAAABAAAAAAAAAAAAAAIAAQAAAQAAAAQAAAABAgEAAAAAAAABAAAEAAADAAABAAEAAAQAAAIAAAACAQIBAAAEAAAAAQAAAAEAAAAAAAAAAAIAAAIAAAACAAABAAQDAAAFAAEAAAAAAAAAAAEAAAAAAAAEAAEBAAEAAAAGAgAAAwEDAAAAAAAAAAAAAwEAAgECAAEAAAAFAAAAAAAAAAAAAAAAAwABAAAAAAABAQAAAAACAAACAAAAAAEBAAEAAAAFBAEAAgACAgABAAEAAAAAAAEAAAAAAgABAAABAAABAwEEAAEBAAEAAAAAAAAAAAYBAAUAAAIAAAAABAAAAQAAAAAAAAAAAQEBAAAAAAAAAAAAAAAAAQAAAwAAAQACAAIAAAIABQQAAAUAAQAAAAABAAAAAAACAAAAAAYCAAEAAQAAAAECAAABAQAAAAAAAAAAAAADAAEEAAABAQIAAAUAAAAAAAAAAAAAAAEBAAAAAQAAAAAAAAABAQAAAAEAAAABAQABAwAAAAcGAAACAAIBAAAAAgABAAAAAAEAAAAFAAEAAAEAAAABAAAAAQAAAAAAAAAAAAEBAAABBQABAAEAAAEEAAAAAAEAAgAAAAAAAwEAAQABAAAAAAAAAQEAAAAAAAABAAEBAgAEAQEBAAIAAAAAAwEBBQAAAQEBAwABAAAFAAIAAAEAAAAAAAABBgAAAAAAAAEAAAAAAAAAAAEBAAAAAAQAAAAAAAABAAEBAAACAAAAAQAAAAEAAQAAAQAAAQIAAQAAAQEBAQAAAwEAAAAAAAAAAQIAAQEBAAEAAAEBAAAAAQIBAQAEAAAAAQAAAAEAAAEAAQAHAAAAAAAAAAAAAAABAAICAAIAAAAAAAABAAAABgEAAAAAAAABAAEAAAYAAAABAAEAAAAAAgEBAAIAAAAAAAAAAAIAAAIDAQABAAADAQAAAAUAAgABBQEAAAEAAAECAAAAAQAAAQAAAAEAAAAAAAAAAAAAAwAAAAADAAABAAEBAAMBAQAAAgAAAQAAAAAFAAABAQABAAAAAAAAAQADAQAAAAAAAAADAQAABAAAAQIABAEAAAAEAAAAAAICAAABAAEABAIAAAEAAAMAAAIAAAAAAAAAAAAAAwIAAAAAAgABAAEAAAEDAAAAAQAAAQAAAAAAAwABAAAAAQAAAAACAAABAwEAAQAAAAAAAQIBAAMBAAAAAAIAAAACBAABAAEFAgAAAQAAAQUDAQEAAAACAAAAAAAAAAAAAAAAAAEEAAAAAAAAAAAAAAABAgEAAAEAAAECAAAAAAIAAAEAAAMAAAAAAQABAAMBAAAAAAAAAAQBAAEBAAAAAAEGAwEAAAEAAQEABAAAAAAAAAAFAAADAAAABAAAAAAAAAAAAAABAQAAAwAAAAACAAAAAAABAAIAAAAAAAECAAABAAADAAAAAQABAAAAAQEAAAECAAEAAAEAAAAAAQABAwEAAgABAQAAAAAGAQIAAQAAAAAAAAABAgEAAAABAAUAAAABAAAAAQABAAAAAgQAAQAAAgABAAAAAAAFAQAAAAAAAQAAAQAABAABAAAAAAAAAAABAQEAAAIAAAAAAAAAAAMBAgUBAAAAAAMBAAAABgEBAAAAAAAAAAABAAMCAQEAAAAEAAAAAAAAAAAAAgAAAAEDAAAAAAAAAAAAAQAAAwEAAAAAAAIDAAAAAAYAAQEAAAAAAAIBAAABAAUBAAAAAQAAAAEBAAQCAQABAAABAAAAAQQAAAAABAEAAAAAAAAEAQABAAABAQEAAQAAAAEBAQAAAAABAgAAAAAAAAAAAAABAAQAAAIAAAAAAQAAAQAFAAAAAAACAAAAAAAAAQAFAQAAAAMAAAABAAADAQAAAAAABAAAAAIHAAEAAQIBAAAAAAABAgABAAAAAAEAAAABAAAAAAAAAAAAAQQBAQAAAgAAAQABAAAEAAAAAAACAgAAAAEAAwEBAAAAAAAAAAEBAQABBAIAAgACAAAAAQEAAQUBAAEBAAUAAAAAAgAAAAADAAAAAQABAQAAAQABAAAEAAAAAAAAAAAAAAEAAAAGAAAAAAIAAAABAAAAAgIAAAAAAQAAAAAAAAMAAAEAAAEAAAAAAQAAAAMAAAAAAAAAAAEAAQAFAAABAAAEAAAAAAMAAAECBAAAAAAAAAAHBAEAAAAABAAAAAEAAAAAAAEBAQECAwIAAAADAAAAAAAAAAEBAAEAAAAAAAABAAABAAAAAAABAAAAAAAAAgADAAEAAAEAAAAAAAACAwAAAQAAAgABAAACAAAAAQUAAAAAAAABAwEBAgAAAgMAAAAAAQAAAAAAAAAAAwUAAAAAAwABAQAAAAEFAAABAQAAAQEAAAAAAgEAAAAAAQAAAAEAAAEAAgIAAAAAAAAAAgIAAAMAAAAAAAMAAAAABwAAAAECAAAAAQAAAAMBAQABAAACAAACAAEAAAAAAQIAAQAGAAEAAAEAAQAAAQAABQEAAAEAAAABAAAAAAIAAAAAAAAAAAABAAABAAUBAAAAAQACAAECAQEFAAAAAQEDAQAAAAQAAAEAAwAAAAAAAAECAQAAAAAAAwAAAAAAAAAAAQAAAAAABAADAAABAAAAAQAAAAEBAAIAAAEBAQACAAADAQAAAAABAAAAAQIAAAAEAQAAAAAAAAABAQABAwEAAgAACAABAAEEAQAAAAEAAAABAAEBBgIBAAAAAAIAAAEBAAAAAAAAAQEAAAEAAAAAAAABAAAAAQADAAAAAAAAAAEAAAAABAAAAAAAAAAAAAAAAAEACQEAAAABAAEAAAAAAQIAAAAAAAUBAgAAAgAAAgAEAQAAAAAAAAMBAQMAAAAEAQAAAQEAAAAAAAEAAAAEAQEAAAAAAAACAAAAAgAAAAACAAEAAAAAAAIAAQAAAAEAAAAAAQEBAQIBAAAAAAAAAAIBAAEDAAAAAAAEAAAAAAMAAgAAAAAAAAEAAAAFAQEAAAAAAwEAAAAAAAEBAQAAAAACBAACAAABAAEAAQEAAAYAAAAAAAAAAAAAAQAFAAEBAAAAAAABAAEBAQAFBAEAAAEAAgACAQAAAwAAAAAAAgABAAADAQAAAQMCAAAAAAAAAwABAAAAAAIAAAEAAAAAAAAAAAABAQEAAAAAAQAAAAIAAAAEAQABAAEAAAAAAAAABgEAAQAAAgAAAAABAQAABQAAAAABAAAAAwABAAQBAAABAAQBAAAAAgABAAACAAAAAAAAAAQAAQIAAAABAAAAAAEAAAEAAAIBAAAEAAEAAAAAAAABAAEABwEAAAABAAAAAAACAAEBAAAAAAIAAAEAAQAAAQQDAAAAAAAAAAABAQADAAADAAABAAEAAQQAAwEABAEAAAAAAAAFAQAAAAAABgAAAAAAAAEBAAAAAAABAAABAAABAAAAAQAAAAMAAAAAAQABAQAAAAADAAAAAQAAAAAAAAEAAgAFAQAAAAEAAAABAAEABAAAAAAAAgMAAAEEAAIAAAQAAAABAAEAAwMCAQEAAAEBAAAAAAAAAAAAAAAAAAIAAQAAAgACAAAAAAAGAAAAAAEAAAEAAAAAAgAAAAAAAQAAAAEBAAEAAwAAAAAAAAIAAAEAAQQAAAEAAAMAAAAABgACAgABAAAAAAAAAQQDAAEBAAABAAAAAAAAAAABAQABAQADAAEAAAIAAAAAAAAABwEBAAAAAAIAAAAAAAIBAQAAAAIAAAAAAQEAAAQCAAAAAAABAAEAAAIFAAAAAAABAAAAAAQAAAAAAwAAAAIAAAAGAQEBAAAABAEAAAAAAAABAQEAAQICAgAAAAABAAAAAQABAAIAAAAAAAAAAAABAAADAQAAAAACAAAAAAABAAEEAAAAAAEAAQACAAEBBQAAAQABBAEAAAAFAAABAAIBAAAAAAEAAwEBAQAAAAQBAAAAAAAAAAAAAAAAAgQCAQAAAQAAAAAAAAEBAQAAAAABAAAAAAAAAgEAAAAAAAAAAQACAAEAAwAAAAAEAAAAAAEAAAEAAAAAAQMAAQACAwABAgACAAAAAQAAAQQAAwEBAAAJAAABAQAAAAAAAAEAAAIDAAAAAAAAAAAAAAAAAgABAAAAAAAAAAEAAAMAAAAAAAIAAAAAAgECAAMAAAAAAAAAAAEDAQEFAQAAAAAEAAAAAQIBAAEBAAEAAAAAAAAEAAABAAABAgAAAAABAAABAAABAAAACAEAAAAAAAACAAAAAAMCAQAAAAAAAAAAAAAD",
          "dtype": "i1",
          "shape": "78, 100"
         }
        }
       ],
       "layout": {
        "coloraxis": {
         "colorbar": {
          "title": {
           "text": "Number of Instances"
          }
         },
         "colorscale": [
          [
           0,
           "#440154"
          ],
          [
           0.1111111111111111,
           "#482878"
          ],
          [
           0.2222222222222222,
           "#3e4989"
          ],
          [
           0.3333333333333333,
           "#31688e"
          ],
          [
           0.4444444444444444,
           "#26828e"
          ],
          [
           0.5555555555555556,
           "#1f9e89"
          ],
          [
           0.6666666666666666,
           "#35b779"
          ],
          [
           0.7777777777777778,
           "#6ece58"
          ],
          [
           0.8888888888888888,
           "#b5de2b"
          ],
          [
           1,
           "#fde725"
          ]
         ]
        },
        "height": 1000,
        "margin": {
         "t": 60
        },
        "template": {
         "data": {
          "bar": [
           {
            "error_x": {
             "color": "#2a3f5f"
            },
            "error_y": {
             "color": "#2a3f5f"
            },
            "marker": {
             "line": {
              "color": "#E5ECF6",
              "width": 0.5
             },
             "pattern": {
              "fillmode": "overlay",
              "size": 10,
              "solidity": 0.2
             }
            },
            "type": "bar"
           }
          ],
          "barpolar": [
           {
            "marker": {
             "line": {
              "color": "#E5ECF6",
              "width": 0.5
             },
             "pattern": {
              "fillmode": "overlay",
              "size": 10,
              "solidity": 0.2
             }
            },
            "type": "barpolar"
           }
          ],
          "carpet": [
           {
            "aaxis": {
             "endlinecolor": "#2a3f5f",
             "gridcolor": "white",
             "linecolor": "white",
             "minorgridcolor": "white",
             "startlinecolor": "#2a3f5f"
            },
            "baxis": {
             "endlinecolor": "#2a3f5f",
             "gridcolor": "white",
             "linecolor": "white",
             "minorgridcolor": "white",
             "startlinecolor": "#2a3f5f"
            },
            "type": "carpet"
           }
          ],
          "choropleth": [
           {
            "colorbar": {
             "outlinewidth": 0,
             "ticks": ""
            },
            "type": "choropleth"
           }
          ],
          "contour": [
           {
            "colorbar": {
             "outlinewidth": 0,
             "ticks": ""
            },
            "colorscale": [
             [
              0,
              "#0d0887"
             ],
             [
              0.1111111111111111,
              "#46039f"
             ],
             [
              0.2222222222222222,
              "#7201a8"
             ],
             [
              0.3333333333333333,
              "#9c179e"
             ],
             [
              0.4444444444444444,
              "#bd3786"
             ],
             [
              0.5555555555555556,
              "#d8576b"
             ],
             [
              0.6666666666666666,
              "#ed7953"
             ],
             [
              0.7777777777777778,
              "#fb9f3a"
             ],
             [
              0.8888888888888888,
              "#fdca26"
             ],
             [
              1,
              "#f0f921"
             ]
            ],
            "type": "contour"
           }
          ],
          "contourcarpet": [
           {
            "colorbar": {
             "outlinewidth": 0,
             "ticks": ""
            },
            "type": "contourcarpet"
           }
          ],
          "heatmap": [
           {
            "colorbar": {
             "outlinewidth": 0,
             "ticks": ""
            },
            "colorscale": [
             [
              0,
              "#0d0887"
             ],
             [
              0.1111111111111111,
              "#46039f"
             ],
             [
              0.2222222222222222,
              "#7201a8"
             ],
             [
              0.3333333333333333,
              "#9c179e"
             ],
             [
              0.4444444444444444,
              "#bd3786"
             ],
             [
              0.5555555555555556,
              "#d8576b"
             ],
             [
              0.6666666666666666,
              "#ed7953"
             ],
             [
              0.7777777777777778,
              "#fb9f3a"
             ],
             [
              0.8888888888888888,
              "#fdca26"
             ],
             [
              1,
              "#f0f921"
             ]
            ],
            "type": "heatmap"
           }
          ],
          "histogram": [
           {
            "marker": {
             "pattern": {
              "fillmode": "overlay",
              "size": 10,
              "solidity": 0.2
             }
            },
            "type": "histogram"
           }
          ],
          "histogram2d": [
           {
            "colorbar": {
             "outlinewidth": 0,
             "ticks": ""
            },
            "colorscale": [
             [
              0,
              "#0d0887"
             ],
             [
              0.1111111111111111,
              "#46039f"
             ],
             [
              0.2222222222222222,
              "#7201a8"
             ],
             [
              0.3333333333333333,
              "#9c179e"
             ],
             [
              0.4444444444444444,
              "#bd3786"
             ],
             [
              0.5555555555555556,
              "#d8576b"
             ],
             [
              0.6666666666666666,
              "#ed7953"
             ],
             [
              0.7777777777777778,
              "#fb9f3a"
             ],
             [
              0.8888888888888888,
              "#fdca26"
             ],
             [
              1,
              "#f0f921"
             ]
            ],
            "type": "histogram2d"
           }
          ],
          "histogram2dcontour": [
           {
            "colorbar": {
             "outlinewidth": 0,
             "ticks": ""
            },
            "colorscale": [
             [
              0,
              "#0d0887"
             ],
             [
              0.1111111111111111,
              "#46039f"
             ],
             [
              0.2222222222222222,
              "#7201a8"
             ],
             [
              0.3333333333333333,
              "#9c179e"
             ],
             [
              0.4444444444444444,
              "#bd3786"
             ],
             [
              0.5555555555555556,
              "#d8576b"
             ],
             [
              0.6666666666666666,
              "#ed7953"
             ],
             [
              0.7777777777777778,
              "#fb9f3a"
             ],
             [
              0.8888888888888888,
              "#fdca26"
             ],
             [
              1,
              "#f0f921"
             ]
            ],
            "type": "histogram2dcontour"
           }
          ],
          "mesh3d": [
           {
            "colorbar": {
             "outlinewidth": 0,
             "ticks": ""
            },
            "type": "mesh3d"
           }
          ],
          "parcoords": [
           {
            "line": {
             "colorbar": {
              "outlinewidth": 0,
              "ticks": ""
             }
            },
            "type": "parcoords"
           }
          ],
          "pie": [
           {
            "automargin": true,
            "type": "pie"
           }
          ],
          "scatter": [
           {
            "fillpattern": {
             "fillmode": "overlay",
             "size": 10,
             "solidity": 0.2
            },
            "type": "scatter"
           }
          ],
          "scatter3d": [
           {
            "line": {
             "colorbar": {
              "outlinewidth": 0,
              "ticks": ""
             }
            },
            "marker": {
             "colorbar": {
              "outlinewidth": 0,
              "ticks": ""
             }
            },
            "type": "scatter3d"
           }
          ],
          "scattercarpet": [
           {
            "marker": {
             "colorbar": {
              "outlinewidth": 0,
              "ticks": ""
             }
            },
            "type": "scattercarpet"
           }
          ],
          "scattergeo": [
           {
            "marker": {
             "colorbar": {
              "outlinewidth": 0,
              "ticks": ""
             }
            },
            "type": "scattergeo"
           }
          ],
          "scattergl": [
           {
            "marker": {
             "colorbar": {
              "outlinewidth": 0,
              "ticks": ""
             }
            },
            "type": "scattergl"
           }
          ],
          "scattermap": [
           {
            "marker": {
             "colorbar": {
              "outlinewidth": 0,
              "ticks": ""
             }
            },
            "type": "scattermap"
           }
          ],
          "scattermapbox": [
           {
            "marker": {
             "colorbar": {
              "outlinewidth": 0,
              "ticks": ""
             }
            },
            "type": "scattermapbox"
           }
          ],
          "scatterpolar": [
           {
            "marker": {
             "colorbar": {
              "outlinewidth": 0,
              "ticks": ""
             }
            },
            "type": "scatterpolar"
           }
          ],
          "scatterpolargl": [
           {
            "marker": {
             "colorbar": {
              "outlinewidth": 0,
              "ticks": ""
             }
            },
            "type": "scatterpolargl"
           }
          ],
          "scatterternary": [
           {
            "marker": {
             "colorbar": {
              "outlinewidth": 0,
              "ticks": ""
             }
            },
            "type": "scatterternary"
           }
          ],
          "surface": [
           {
            "colorbar": {
             "outlinewidth": 0,
             "ticks": ""
            },
            "colorscale": [
             [
              0,
              "#0d0887"
             ],
             [
              0.1111111111111111,
              "#46039f"
             ],
             [
              0.2222222222222222,
              "#7201a8"
             ],
             [
              0.3333333333333333,
              "#9c179e"
             ],
             [
              0.4444444444444444,
              "#bd3786"
             ],
             [
              0.5555555555555556,
              "#d8576b"
             ],
             [
              0.6666666666666666,
              "#ed7953"
             ],
             [
              0.7777777777777778,
              "#fb9f3a"
             ],
             [
              0.8888888888888888,
              "#fdca26"
             ],
             [
              1,
              "#f0f921"
             ]
            ],
            "type": "surface"
           }
          ],
          "table": [
           {
            "cells": {
             "fill": {
              "color": "#EBF0F8"
             },
             "line": {
              "color": "white"
             }
            },
            "header": {
             "fill": {
              "color": "#C8D4E3"
             },
             "line": {
              "color": "white"
             }
            },
            "type": "table"
           }
          ]
         },
         "layout": {
          "annotationdefaults": {
           "arrowcolor": "#2a3f5f",
           "arrowhead": 0,
           "arrowwidth": 1
          },
          "autotypenumbers": "strict",
          "coloraxis": {
           "colorbar": {
            "outlinewidth": 0,
            "ticks": ""
           }
          },
          "colorscale": {
           "diverging": [
            [
             0,
             "#8e0152"
            ],
            [
             0.1,
             "#c51b7d"
            ],
            [
             0.2,
             "#de77ae"
            ],
            [
             0.3,
             "#f1b6da"
            ],
            [
             0.4,
             "#fde0ef"
            ],
            [
             0.5,
             "#f7f7f7"
            ],
            [
             0.6,
             "#e6f5d0"
            ],
            [
             0.7,
             "#b8e186"
            ],
            [
             0.8,
             "#7fbc41"
            ],
            [
             0.9,
             "#4d9221"
            ],
            [
             1,
             "#276419"
            ]
           ],
           "sequential": [
            [
             0,
             "#0d0887"
            ],
            [
             0.1111111111111111,
             "#46039f"
            ],
            [
             0.2222222222222222,
             "#7201a8"
            ],
            [
             0.3333333333333333,
             "#9c179e"
            ],
            [
             0.4444444444444444,
             "#bd3786"
            ],
            [
             0.5555555555555556,
             "#d8576b"
            ],
            [
             0.6666666666666666,
             "#ed7953"
            ],
            [
             0.7777777777777778,
             "#fb9f3a"
            ],
            [
             0.8888888888888888,
             "#fdca26"
            ],
            [
             1,
             "#f0f921"
            ]
           ],
           "sequentialminus": [
            [
             0,
             "#0d0887"
            ],
            [
             0.1111111111111111,
             "#46039f"
            ],
            [
             0.2222222222222222,
             "#7201a8"
            ],
            [
             0.3333333333333333,
             "#9c179e"
            ],
            [
             0.4444444444444444,
             "#bd3786"
            ],
            [
             0.5555555555555556,
             "#d8576b"
            ],
            [
             0.6666666666666666,
             "#ed7953"
            ],
            [
             0.7777777777777778,
             "#fb9f3a"
            ],
            [
             0.8888888888888888,
             "#fdca26"
            ],
            [
             1,
             "#f0f921"
            ]
           ]
          },
          "colorway": [
           "#636efa",
           "#EF553B",
           "#00cc96",
           "#ab63fa",
           "#FFA15A",
           "#19d3f3",
           "#FF6692",
           "#B6E880",
           "#FF97FF",
           "#FECB52"
          ],
          "font": {
           "color": "#2a3f5f"
          },
          "geo": {
           "bgcolor": "white",
           "lakecolor": "white",
           "landcolor": "#E5ECF6",
           "showlakes": true,
           "showland": true,
           "subunitcolor": "white"
          },
          "hoverlabel": {
           "align": "left"
          },
          "hovermode": "closest",
          "mapbox": {
           "style": "light"
          },
          "paper_bgcolor": "white",
          "plot_bgcolor": "#E5ECF6",
          "polar": {
           "angularaxis": {
            "gridcolor": "white",
            "linecolor": "white",
            "ticks": ""
           },
           "bgcolor": "#E5ECF6",
           "radialaxis": {
            "gridcolor": "white",
            "linecolor": "white",
            "ticks": ""
           }
          },
          "scene": {
           "xaxis": {
            "backgroundcolor": "#E5ECF6",
            "gridcolor": "white",
            "gridwidth": 2,
            "linecolor": "white",
            "showbackground": true,
            "ticks": "",
            "zerolinecolor": "white"
           },
           "yaxis": {
            "backgroundcolor": "#E5ECF6",
            "gridcolor": "white",
            "gridwidth": 2,
            "linecolor": "white",
            "showbackground": true,
            "ticks": "",
            "zerolinecolor": "white"
           },
           "zaxis": {
            "backgroundcolor": "#E5ECF6",
            "gridcolor": "white",
            "gridwidth": 2,
            "linecolor": "white",
            "showbackground": true,
            "ticks": "",
            "zerolinecolor": "white"
           }
          },
          "shapedefaults": {
           "line": {
            "color": "#2a3f5f"
           }
          },
          "ternary": {
           "aaxis": {
            "gridcolor": "white",
            "linecolor": "white",
            "ticks": ""
           },
           "baxis": {
            "gridcolor": "white",
            "linecolor": "white",
            "ticks": ""
           },
           "bgcolor": "#E5ECF6",
           "caxis": {
            "gridcolor": "white",
            "linecolor": "white",
            "ticks": ""
           }
          },
          "title": {
           "x": 0.05
          },
          "xaxis": {
           "automargin": true,
           "gridcolor": "white",
           "linecolor": "white",
           "ticks": "",
           "title": {
            "standoff": 15
           },
           "zerolinecolor": "white",
           "zerolinewidth": 2
          },
          "yaxis": {
           "automargin": true,
           "gridcolor": "white",
           "linecolor": "white",
           "ticks": "",
           "title": {
            "standoff": 15
           },
           "zerolinecolor": "white",
           "zerolinewidth": 2
          }
         }
        },
        "title": {
         "text": "ER Class Distribution in Each Batch - Task ID 9"
        },
        "xaxis": {
         "anchor": "y",
         "domain": [
          0,
          1
         ],
         "title": {
          "text": "Classes"
         }
        },
        "yaxis": {
         "anchor": "x",
         "autorange": "reversed",
         "domain": [
          0,
          1
         ],
         "title": {
          "text": "Batches"
         }
        }
       }
      }
     },
     "metadata": {},
     "output_type": "display_data"
    }
   ],
   "source": [
    "import numpy as np\n",
    "import plotly.express as px\n",
    "\n",
    "task_id = 9\n",
    "\n",
    "df = pd.read_csv(\"../results_plot_SplitCIFAR100_['EDR', 'ER']_False_[]_32_10_0_50_2/train_batches_y_ExperienceReplay.log\", \n",
    "                 names=[\"task_id\", \"class_0\", \"class_1\", \"class_2\", \"class_3\", \"class_4\", \"class_5\", \"class_6\", \n",
    "                            \"class_7\", \"class_8\", \"class_9\", \"class_10\", \"class_11\", \"class_12\", \"class_13\", \"class_14\", \"class_15\", \"class_16\",\n",
    "                            \"class_17\", \"class_18\", \"class_19\", \"class_20\", \"class_21\", \"class_22\", \"class_23\", \"class_24\", \"class_25\", \"class_26\",\n",
    "                            \"class_27\", \"class_28\", \"class_29\", \"class_30\", \"class_31\", \"class_32\", \"class_33\", \"class_34\", \"class_35\", \"class_36\",\n",
    "                            \"class_37\", \"class_38\", \"class_39\", \"class_40\", \"class_41\", \"class_42\", \"class_43\", \"class_44\", \"class_45\", \"class_46\",\n",
    "                            \"class_47\", \"class_48\", \"class_49\", \"class_50\", \"class_51\", \"class_52\", \"class_53\", \"class_54\", \"class_55\", \"class_56\",\n",
    "                            \"class_57\", \"class_58\", \"class_59\", \"class_60\", \"class_61\", \"class_62\", \"class_63\", \"class_64\", \"class_65\", \"class_66\",\n",
    "                            \"class_67\", \"class_68\", \"class_69\", \"class_70\", \"class_71\", \"class_72\", \"class_73\", \"class_74\", \"class_75\", \"class_76\",\n",
    "                            \"class_77\", \"class_78\", \"class_79\", \"class_80\", \"class_81\", \"class_82\", \"class_83\", \"class_84\", \"class_85\", \"class_86\",\n",
    "                            \"class_87\", \"class_88\", \"class_89\", \"class_90\", \"class_91\", \"class_92\", \"class_93\", \"class_94\", \"class_95\", \"class_96\",\n",
    "                            \"class_97\", \"class_98\", \"class_99\"],)\n",
    "\n",
    "df_plot = df.loc[df.task_id == task_id].reset_index(drop=True).copy()\n",
    "df_plot.drop(columns=[\"task_id\"], inplace=True)\n",
    "\n",
    "# Criação do heatmap interativo (classe no eixo Y, batch no eixo X)\n",
    "fig = px.imshow(\n",
    "    df_plot,\n",
    "    labels=dict(x=\"Classes\", y=\"Batches\", color=\"Number of Instances\"),\n",
    "    # x=[f\"Batch {i}\" for i in range(1, num_batches+1)],\n",
    "    # y=[f\"Classe {i}\" for i in range(num_classes)],\n",
    "    aspect=\"auto\",\n",
    "    color_continuous_scale=\"Viridis\",\n",
    "    origin=\"upper\",  # garante que Classe 0 fique em cima\n",
    "    # text_auto=True\n",
    ")\n",
    "\n",
    "fig.update_layout(\n",
    "    title=\"ER Class Distribution in Each Batch - Task ID {}\".format(task_id),\n",
    "    xaxis_title=\"Classes\",\n",
    "    yaxis_title=\"Batches\",\n",
    "    height=1000,\n",
    ")\n",
    "\n",
    "fig.show()"
   ]
  }
 ],
 "metadata": {
  "kernelspec": {
   "display_name": "partially-delay-labeled-datastream (3.11.11)",
   "language": "python",
   "name": "python3"
  },
  "language_info": {
   "codemirror_mode": {
    "name": "ipython",
    "version": 3
   },
   "file_extension": ".py",
   "mimetype": "text/x-python",
   "name": "python",
   "nbconvert_exporter": "python",
   "pygments_lexer": "ipython3",
   "version": "3.11.11"
  }
 },
 "nbformat": 4,
 "nbformat_minor": 5
}
