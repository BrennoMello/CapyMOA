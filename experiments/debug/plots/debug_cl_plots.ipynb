{
 "cells": [
  {
   "cell_type": "code",
   "execution_count": 14,
   "id": "ab446b5d",
   "metadata": {},
   "outputs": [],
   "source": [
    "import numpy as np\n",
    "import pandas as pd\n",
    "import plotly.express as px"
   ]
  },
  {
   "cell_type": "markdown",
   "id": "38db5f4c",
   "metadata": {},
   "source": [
    "##### Batch_size: 32\n",
    "##### Delay: 100 batches\n",
    "##### Number of batches available for training after the delay: 2\n",
    "##### Prob 0.4 no delay batches"
   ]
  },
  {
   "cell_type": "markdown",
   "id": "7b68f3b3",
   "metadata": {},
   "source": [
    "<!-- results_plot_mnist_['EDR', 'ER']_False_[]_32_5_0_32_150_2/train_batches_y_ExperienceDelayReplay.log -->\n",
    "\n",
    "#### Task 0\n",
    "#### Real Classes 1, 4\n"
   ]
  },
  {
   "cell_type": "code",
   "execution_count": null,
   "id": "9c53dfb6",
   "metadata": {},
   "outputs": [
    {
     "data": {
      "application/vnd.plotly.v1+json": {
       "config": {
        "plotlyServerURL": "https://plot.ly"
       },
       "data": [
        {
         "coloraxis": "coloraxis",
         "hovertemplate": "Classes: %{x}<br>Batches: %{y}<br>Number of Instances: %{z}<extra></extra>",
         "name": "0",
         "type": "heatmap",
         "x": [
          "class_0",
          "class_1",
          "class_2",
          "class_3",
          "class_4",
          "class_5",
          "class_6",
          "class_7",
          "class_8",
          "class_9"
         ],
         "xaxis": "x",
         "y": {
          "bdata": "AAABAAIAAwAEAAUABgAHAAgACQAKAAsADAANAA4ADwAQABEAEgATABQAFQAWABcAGAAZABoAGwAcAB0AHgAfACAAIQAiACMAJAAlACYAJwAoACkAKgArACwALQAuAC8AMAAxADIAMwA0ADUANgA3ADgAOQA6ADsAPAA9AD4APwBAAEEAQgBDAEQARQBGAEcASABJAEoASwBMAE0ATgBPAFAAUQBSAFMAVABVAFYAVwBYAFkAWgBbAFwAXQBeAF8AYABhAGIAYwBkAGUAZgBnAGgAaQBqAGsAbABtAG4AbwBwAHEAcgBzAHQAdQB2AHcAeAB5AHoAewB8AH0AfgB/AIAAgQCCAIMAhACFAIYAhwCIAIkAigCLAIwAjQA=",
          "dtype": "i2"
         },
         "yaxis": "y",
         "z": {
          "bdata": "AAsAABUAAAAAAAARAAAPAAAAAAAAFAAADAAAAAAAABAAABAAAAAAAAAOAAASAAAAAAAAEgAADgAAAAAAABAAABAAAAAAAAANAAATAAAAAAAADAAAFAAAAAAAABUAAAsAAAAAAAAPAAARAAAAAAAADwAAEQAAAAAAABIAAA4AAAAAAAAOAAASAAAAAAAADwAAEQAAAAAAABAAABAAAAAAAAAOAAASAAAAAAAADAAAFAAAAAAAAA4AABIAAAAAAAAMAAAUAAAAAAAADwAAEQAAAAAAAA8AABEAAAAAAAASAAAOAAAAAAAADwAAEQAAAAAAAA0AABMAAAAAAAAPAAARAAAAAAAAEAAAEAAAAAAAAA8AABEAAAAAAAAQAAAQAAAAAAAACwAAFQAAAAAAAAwAABQAAAAAAAAMAAAUAAAAAAAAEAAAEAAAAAAAAA4AABIAAAAAAAARAAAPAAAAAAAADQAAEwAAAAAAAAkAABcAAAAAAAASAAAOAAAAAAAADQAAEwAAAAAAABMAAA0AAAAAAAAPAAARAAAAAAAACwAAFQAAAAAAABEAAA8AAAAAAAAQAAAQAAAAAAAAEQAADwAAAAAAABIAAA4AAAAAAAAQAAAQAAAAAAAAEgAADgAAAAAAABQAAAwAAAAAAAAOAAASAAAAAAAADwAAEQAAAAAAABUAAAsAAAAAAAANAAATAAAAAAAADwAAEQAAAAAAAA4AABIAAAAAAAARAAAPAAAAAAAAEQAADwAAAAAAABQAAAwAAAAAAAANAAATAAAAAAAAGAAACAAAAAAAAA4AABIAAAAAAAASAAAOAAAAAAAADgAAEgAAAAAAABMAAA0AAAAAAAAOAAASAAAAAAAAEAAAEAAAAAAAABUAAAsAAAAAAAANAAATAAAAAAAADwAAEQAAAAAAABAAABAAAAAAAAASAAAOAAAAAAAADgAAEgAAAAAAAAwAABQAAAAAAAANAAATAAAAAAAAEwAADQAAAAAAAAwAABQAAAAAAAAMAAAUAAAAAAAAEgAADgAAAAAAABMAAA0AAAAAAAARAAAPAAAAAAAADwAAEQAAAAAAABAAABAAAAAAAAAPAAARAAAAAAAAEAAAEAAAAAAAABMAAA0AAAAAAAATAAANAAAAAAAADQAAEwAAAAAAAA4AABIAAAAAAAANAAATAAAAAAAAEQAADwAAAAAAAA4AABIAAAAAAAAQAAAQAAAAAAAAFgAACgAAAAAAAA8AABEAAAAAAAAPAAARAAAAAAAAEAAAEAAAAAAAABUAAAsAAAAAAAAOAAASAAAAAAAAEAAAEAAAAAAAAA4AABIAAAAAAAASAAAOAAAAAAAADwAAEQAAAAAAAA4AABIAAAAAAAATAAANAAAAAAAADwAAEQAAAAAAAA8AABEAAAAAAAARAAAPAAAAAAAAEQAADwAAAAAAABIAAA4AAAAAAAAOAAASAAAAAAAAFAAADAAAAAAAAA8AABEAAAAAAAATAAANAAAAAAAAEAAAEAAAAAAAABIAAA4AAAAAAAAKAAAWAAAAAAAAEAAAEAAAAAAAAA4AABIAAAAAAAARAAAPAAAAAAAAEgAADgAAAAAAABQAAAwAAAAAAAAOAAASAAAAAAAAEAAAEAAAAAAAABEAAA8AAAAAAAARAAAPAAAAAAAADgAAEgAAAAAAABgAAAgAAAAAAAARAAAPAAAAAAAAFgAACgAAAAAAABEAAA8AAAAAAAASAAAOAAAAAAAAEAAAEAAAAAAAABAAABAAAAAAAAAUAAAMAAAAAAAAEQAADwAAAAAAAAoAABYAAAAAAAAUAAAMAAAAAAAADgAAEgAAAAAAABIAAA4AAAAAAAASAAAOAAAAAAAADgAAEgAAAAAAAA8AABEAAAAAAA==",
          "dtype": "i1",
          "shape": "142, 10"
         }
        }
       ],
       "layout": {
        "coloraxis": {
         "colorbar": {
          "title": {
           "text": "Number of Instances"
          }
         },
         "colorscale": [
          [
           0,
           "#440154"
          ],
          [
           0.1111111111111111,
           "#482878"
          ],
          [
           0.2222222222222222,
           "#3e4989"
          ],
          [
           0.3333333333333333,
           "#31688e"
          ],
          [
           0.4444444444444444,
           "#26828e"
          ],
          [
           0.5555555555555556,
           "#1f9e89"
          ],
          [
           0.6666666666666666,
           "#35b779"
          ],
          [
           0.7777777777777778,
           "#6ece58"
          ],
          [
           0.8888888888888888,
           "#b5de2b"
          ],
          [
           1,
           "#fde725"
          ]
         ]
        },
        "height": 900,
        "margin": {
         "t": 60
        },
        "template": {
         "data": {
          "bar": [
           {
            "error_x": {
             "color": "#2a3f5f"
            },
            "error_y": {
             "color": "#2a3f5f"
            },
            "marker": {
             "line": {
              "color": "#E5ECF6",
              "width": 0.5
             },
             "pattern": {
              "fillmode": "overlay",
              "size": 10,
              "solidity": 0.2
             }
            },
            "type": "bar"
           }
          ],
          "barpolar": [
           {
            "marker": {
             "line": {
              "color": "#E5ECF6",
              "width": 0.5
             },
             "pattern": {
              "fillmode": "overlay",
              "size": 10,
              "solidity": 0.2
             }
            },
            "type": "barpolar"
           }
          ],
          "carpet": [
           {
            "aaxis": {
             "endlinecolor": "#2a3f5f",
             "gridcolor": "white",
             "linecolor": "white",
             "minorgridcolor": "white",
             "startlinecolor": "#2a3f5f"
            },
            "baxis": {
             "endlinecolor": "#2a3f5f",
             "gridcolor": "white",
             "linecolor": "white",
             "minorgridcolor": "white",
             "startlinecolor": "#2a3f5f"
            },
            "type": "carpet"
           }
          ],
          "choropleth": [
           {
            "colorbar": {
             "outlinewidth": 0,
             "ticks": ""
            },
            "type": "choropleth"
           }
          ],
          "contour": [
           {
            "colorbar": {
             "outlinewidth": 0,
             "ticks": ""
            },
            "colorscale": [
             [
              0,
              "#0d0887"
             ],
             [
              0.1111111111111111,
              "#46039f"
             ],
             [
              0.2222222222222222,
              "#7201a8"
             ],
             [
              0.3333333333333333,
              "#9c179e"
             ],
             [
              0.4444444444444444,
              "#bd3786"
             ],
             [
              0.5555555555555556,
              "#d8576b"
             ],
             [
              0.6666666666666666,
              "#ed7953"
             ],
             [
              0.7777777777777778,
              "#fb9f3a"
             ],
             [
              0.8888888888888888,
              "#fdca26"
             ],
             [
              1,
              "#f0f921"
             ]
            ],
            "type": "contour"
           }
          ],
          "contourcarpet": [
           {
            "colorbar": {
             "outlinewidth": 0,
             "ticks": ""
            },
            "type": "contourcarpet"
           }
          ],
          "heatmap": [
           {
            "colorbar": {
             "outlinewidth": 0,
             "ticks": ""
            },
            "colorscale": [
             [
              0,
              "#0d0887"
             ],
             [
              0.1111111111111111,
              "#46039f"
             ],
             [
              0.2222222222222222,
              "#7201a8"
             ],
             [
              0.3333333333333333,
              "#9c179e"
             ],
             [
              0.4444444444444444,
              "#bd3786"
             ],
             [
              0.5555555555555556,
              "#d8576b"
             ],
             [
              0.6666666666666666,
              "#ed7953"
             ],
             [
              0.7777777777777778,
              "#fb9f3a"
             ],
             [
              0.8888888888888888,
              "#fdca26"
             ],
             [
              1,
              "#f0f921"
             ]
            ],
            "type": "heatmap"
           }
          ],
          "histogram": [
           {
            "marker": {
             "pattern": {
              "fillmode": "overlay",
              "size": 10,
              "solidity": 0.2
             }
            },
            "type": "histogram"
           }
          ],
          "histogram2d": [
           {
            "colorbar": {
             "outlinewidth": 0,
             "ticks": ""
            },
            "colorscale": [
             [
              0,
              "#0d0887"
             ],
             [
              0.1111111111111111,
              "#46039f"
             ],
             [
              0.2222222222222222,
              "#7201a8"
             ],
             [
              0.3333333333333333,
              "#9c179e"
             ],
             [
              0.4444444444444444,
              "#bd3786"
             ],
             [
              0.5555555555555556,
              "#d8576b"
             ],
             [
              0.6666666666666666,
              "#ed7953"
             ],
             [
              0.7777777777777778,
              "#fb9f3a"
             ],
             [
              0.8888888888888888,
              "#fdca26"
             ],
             [
              1,
              "#f0f921"
             ]
            ],
            "type": "histogram2d"
           }
          ],
          "histogram2dcontour": [
           {
            "colorbar": {
             "outlinewidth": 0,
             "ticks": ""
            },
            "colorscale": [
             [
              0,
              "#0d0887"
             ],
             [
              0.1111111111111111,
              "#46039f"
             ],
             [
              0.2222222222222222,
              "#7201a8"
             ],
             [
              0.3333333333333333,
              "#9c179e"
             ],
             [
              0.4444444444444444,
              "#bd3786"
             ],
             [
              0.5555555555555556,
              "#d8576b"
             ],
             [
              0.6666666666666666,
              "#ed7953"
             ],
             [
              0.7777777777777778,
              "#fb9f3a"
             ],
             [
              0.8888888888888888,
              "#fdca26"
             ],
             [
              1,
              "#f0f921"
             ]
            ],
            "type": "histogram2dcontour"
           }
          ],
          "mesh3d": [
           {
            "colorbar": {
             "outlinewidth": 0,
             "ticks": ""
            },
            "type": "mesh3d"
           }
          ],
          "parcoords": [
           {
            "line": {
             "colorbar": {
              "outlinewidth": 0,
              "ticks": ""
             }
            },
            "type": "parcoords"
           }
          ],
          "pie": [
           {
            "automargin": true,
            "type": "pie"
           }
          ],
          "scatter": [
           {
            "fillpattern": {
             "fillmode": "overlay",
             "size": 10,
             "solidity": 0.2
            },
            "type": "scatter"
           }
          ],
          "scatter3d": [
           {
            "line": {
             "colorbar": {
              "outlinewidth": 0,
              "ticks": ""
             }
            },
            "marker": {
             "colorbar": {
              "outlinewidth": 0,
              "ticks": ""
             }
            },
            "type": "scatter3d"
           }
          ],
          "scattercarpet": [
           {
            "marker": {
             "colorbar": {
              "outlinewidth": 0,
              "ticks": ""
             }
            },
            "type": "scattercarpet"
           }
          ],
          "scattergeo": [
           {
            "marker": {
             "colorbar": {
              "outlinewidth": 0,
              "ticks": ""
             }
            },
            "type": "scattergeo"
           }
          ],
          "scattergl": [
           {
            "marker": {
             "colorbar": {
              "outlinewidth": 0,
              "ticks": ""
             }
            },
            "type": "scattergl"
           }
          ],
          "scattermap": [
           {
            "marker": {
             "colorbar": {
              "outlinewidth": 0,
              "ticks": ""
             }
            },
            "type": "scattermap"
           }
          ],
          "scattermapbox": [
           {
            "marker": {
             "colorbar": {
              "outlinewidth": 0,
              "ticks": ""
             }
            },
            "type": "scattermapbox"
           }
          ],
          "scatterpolar": [
           {
            "marker": {
             "colorbar": {
              "outlinewidth": 0,
              "ticks": ""
             }
            },
            "type": "scatterpolar"
           }
          ],
          "scatterpolargl": [
           {
            "marker": {
             "colorbar": {
              "outlinewidth": 0,
              "ticks": ""
             }
            },
            "type": "scatterpolargl"
           }
          ],
          "scatterternary": [
           {
            "marker": {
             "colorbar": {
              "outlinewidth": 0,
              "ticks": ""
             }
            },
            "type": "scatterternary"
           }
          ],
          "surface": [
           {
            "colorbar": {
             "outlinewidth": 0,
             "ticks": ""
            },
            "colorscale": [
             [
              0,
              "#0d0887"
             ],
             [
              0.1111111111111111,
              "#46039f"
             ],
             [
              0.2222222222222222,
              "#7201a8"
             ],
             [
              0.3333333333333333,
              "#9c179e"
             ],
             [
              0.4444444444444444,
              "#bd3786"
             ],
             [
              0.5555555555555556,
              "#d8576b"
             ],
             [
              0.6666666666666666,
              "#ed7953"
             ],
             [
              0.7777777777777778,
              "#fb9f3a"
             ],
             [
              0.8888888888888888,
              "#fdca26"
             ],
             [
              1,
              "#f0f921"
             ]
            ],
            "type": "surface"
           }
          ],
          "table": [
           {
            "cells": {
             "fill": {
              "color": "#EBF0F8"
             },
             "line": {
              "color": "white"
             }
            },
            "header": {
             "fill": {
              "color": "#C8D4E3"
             },
             "line": {
              "color": "white"
             }
            },
            "type": "table"
           }
          ]
         },
         "layout": {
          "annotationdefaults": {
           "arrowcolor": "#2a3f5f",
           "arrowhead": 0,
           "arrowwidth": 1
          },
          "autotypenumbers": "strict",
          "coloraxis": {
           "colorbar": {
            "outlinewidth": 0,
            "ticks": ""
           }
          },
          "colorscale": {
           "diverging": [
            [
             0,
             "#8e0152"
            ],
            [
             0.1,
             "#c51b7d"
            ],
            [
             0.2,
             "#de77ae"
            ],
            [
             0.3,
             "#f1b6da"
            ],
            [
             0.4,
             "#fde0ef"
            ],
            [
             0.5,
             "#f7f7f7"
            ],
            [
             0.6,
             "#e6f5d0"
            ],
            [
             0.7,
             "#b8e186"
            ],
            [
             0.8,
             "#7fbc41"
            ],
            [
             0.9,
             "#4d9221"
            ],
            [
             1,
             "#276419"
            ]
           ],
           "sequential": [
            [
             0,
             "#0d0887"
            ],
            [
             0.1111111111111111,
             "#46039f"
            ],
            [
             0.2222222222222222,
             "#7201a8"
            ],
            [
             0.3333333333333333,
             "#9c179e"
            ],
            [
             0.4444444444444444,
             "#bd3786"
            ],
            [
             0.5555555555555556,
             "#d8576b"
            ],
            [
             0.6666666666666666,
             "#ed7953"
            ],
            [
             0.7777777777777778,
             "#fb9f3a"
            ],
            [
             0.8888888888888888,
             "#fdca26"
            ],
            [
             1,
             "#f0f921"
            ]
           ],
           "sequentialminus": [
            [
             0,
             "#0d0887"
            ],
            [
             0.1111111111111111,
             "#46039f"
            ],
            [
             0.2222222222222222,
             "#7201a8"
            ],
            [
             0.3333333333333333,
             "#9c179e"
            ],
            [
             0.4444444444444444,
             "#bd3786"
            ],
            [
             0.5555555555555556,
             "#d8576b"
            ],
            [
             0.6666666666666666,
             "#ed7953"
            ],
            [
             0.7777777777777778,
             "#fb9f3a"
            ],
            [
             0.8888888888888888,
             "#fdca26"
            ],
            [
             1,
             "#f0f921"
            ]
           ]
          },
          "colorway": [
           "#636efa",
           "#EF553B",
           "#00cc96",
           "#ab63fa",
           "#FFA15A",
           "#19d3f3",
           "#FF6692",
           "#B6E880",
           "#FF97FF",
           "#FECB52"
          ],
          "font": {
           "color": "#2a3f5f"
          },
          "geo": {
           "bgcolor": "white",
           "lakecolor": "white",
           "landcolor": "#E5ECF6",
           "showlakes": true,
           "showland": true,
           "subunitcolor": "white"
          },
          "hoverlabel": {
           "align": "left"
          },
          "hovermode": "closest",
          "mapbox": {
           "style": "light"
          },
          "paper_bgcolor": "white",
          "plot_bgcolor": "#E5ECF6",
          "polar": {
           "angularaxis": {
            "gridcolor": "white",
            "linecolor": "white",
            "ticks": ""
           },
           "bgcolor": "#E5ECF6",
           "radialaxis": {
            "gridcolor": "white",
            "linecolor": "white",
            "ticks": ""
           }
          },
          "scene": {
           "xaxis": {
            "backgroundcolor": "#E5ECF6",
            "gridcolor": "white",
            "gridwidth": 2,
            "linecolor": "white",
            "showbackground": true,
            "ticks": "",
            "zerolinecolor": "white"
           },
           "yaxis": {
            "backgroundcolor": "#E5ECF6",
            "gridcolor": "white",
            "gridwidth": 2,
            "linecolor": "white",
            "showbackground": true,
            "ticks": "",
            "zerolinecolor": "white"
           },
           "zaxis": {
            "backgroundcolor": "#E5ECF6",
            "gridcolor": "white",
            "gridwidth": 2,
            "linecolor": "white",
            "showbackground": true,
            "ticks": "",
            "zerolinecolor": "white"
           }
          },
          "shapedefaults": {
           "line": {
            "color": "#2a3f5f"
           }
          },
          "ternary": {
           "aaxis": {
            "gridcolor": "white",
            "linecolor": "white",
            "ticks": ""
           },
           "baxis": {
            "gridcolor": "white",
            "linecolor": "white",
            "ticks": ""
           },
           "bgcolor": "#E5ECF6",
           "caxis": {
            "gridcolor": "white",
            "linecolor": "white",
            "ticks": ""
           }
          },
          "title": {
           "x": 0.05
          },
          "xaxis": {
           "automargin": true,
           "gridcolor": "white",
           "linecolor": "white",
           "ticks": "",
           "title": {
            "standoff": 15
           },
           "zerolinecolor": "white",
           "zerolinewidth": 2
          },
          "yaxis": {
           "automargin": true,
           "gridcolor": "white",
           "linecolor": "white",
           "ticks": "",
           "title": {
            "standoff": 15
           },
           "zerolinecolor": "white",
           "zerolinewidth": 2
          }
         }
        },
        "title": {
         "text": "EDR Class Distribution in Each Batch - Task ID 0"
        },
        "xaxis": {
         "anchor": "y",
         "domain": [
          0,
          1
         ],
         "title": {
          "text": "Classes"
         }
        },
        "yaxis": {
         "anchor": "x",
         "autorange": "reversed",
         "domain": [
          0,
          1
         ],
         "title": {
          "text": "Batches"
         }
        }
       }
      }
     },
     "metadata": {},
     "output_type": "display_data"
    }
   ],
   "source": [
    "import numpy as np\n",
    "import plotly.express as px\n",
    "\n",
    "task_id = 0\n",
    "\n",
    "df = pd.read_csv(\"../_0.4_batch_size_32_buffer_size_128_num_tasks_5_hidden_size_64_eval_window_size_128_continual_evaluations_5_delay_label_100_start_delay_size_0_number_delayed_batches_1/cl_batches_y_ExperienceDelayReplay.log\", \n",
    "                 names=[\"task_id\", \"step\", \"class_0\", \"class_1\", \"class_2\", \"class_3\", \"class_4\", \"class_5\", \"class_6\", \n",
    "                            \"class_7\", \"class_8\", \"class_9\"])\n",
    "\n",
    "df = df.drop(columns=[\"step\"])\n",
    "df_plot = df.loc[df.task_id == task_id].reset_index(drop=True).copy()\n",
    "# df_plot = pd.concat([df_plot[:10], df_plot[80:90], df_plot[115:125]], ignore_index=True)\n",
    "df_plot.drop(columns=[\"task_id\"], inplace=True)\n",
    "\n",
    "# Criação do heatmap interativo (classe no eixo Y, batch no eixo X)\n",
    "fig = px.imshow(\n",
    "    df_plot,\n",
    "    labels=dict(x=\"Classes\", y=\"Batches\", color=\"Number of Instances\"),\n",
    "    # x=[f\"Batch {i}\" for i in range(1, num_batches+1)],\n",
    "    # y=[f\"Classe {i}\" for i in range(num_classes)],\n",
    "    aspect=\"auto\",\n",
    "    color_continuous_scale=\"Viridis\",\n",
    "    origin=\"upper\",  # garante que Classe 0 fique em cima\n",
    "    # text_auto=True\n",
    ")\n",
    "\n",
    "fig.update_layout(\n",
    "    title=\"EDR Class Distribution in Each Batch - Task ID {}\".format(task_id),\n",
    "    xaxis_title=\"Classes\",\n",
    "    yaxis_title=\"Batches\",\n",
    "    height=900,\n",
    ")\n",
    "\n",
    "fig.show()"
   ]
  },
  {
   "cell_type": "markdown",
   "id": "59297e75",
   "metadata": {},
   "source": [
    "<!-- ### results_plot_mnist_['EDR', 'ER']_False_[]_32_5_0_32_150_2/train_batches_y_ExperienceDelayReplay.log -->\n",
    "#### Task 1\n",
    "#### Classes 5, 7"
   ]
  },
  {
   "cell_type": "code",
   "execution_count": 16,
   "id": "9d4f2639",
   "metadata": {},
   "outputs": [
    {
     "data": {
      "application/vnd.plotly.v1+json": {
       "config": {
        "plotlyServerURL": "https://plot.ly"
       },
       "data": [
        {
         "coloraxis": "coloraxis",
         "hovertemplate": "Classes: %{x}<br>Batches: %{y}<br>Number of Instances: %{z}<extra></extra>",
         "name": "0",
         "type": "heatmap",
         "x": [
          "class_0",
          "class_1",
          "class_2",
          "class_3",
          "class_4",
          "class_5",
          "class_6",
          "class_7",
          "class_8",
          "class_9"
         ],
         "xaxis": "x",
         "y": {
          "bdata": "AAABAAIAAwAEAAUABgAHAAgACQAKAAsADAANAA4ADwAQABEAEgATABQAFQAWABcAGAAZABoAGwAcAB0AHgAfACAAIQAiACMAJAAlACYAJwAoACkAKgArACwALQAuAC8AMAAxADIAMwA0ADUANgA3ADgAOQA6ADsAPAA9AD4APwBAAEEAQgBDAEQARQBGAEcASABJAEoASwBMAE0ATgBPAFAAUQBSAFMAVABVAFYAVwBYAFkAWgBbAFwAXQBeAF8AYABhAGIAYwBkAGUAZgBnAGgAaQBqAGsAbABtAG4AbwBwAHEAcgBzAHQAdQB2AHcAeAB5AHoAewB8AH0AfgB/AIAAgQCCAIMAhACFAIYAhwCIAIkAigCLAIwAjQCOAI8AkACRAJIAkwCUAJUAlgCXAJgAmQCaAJsAnACdAJ4AnwCgAKEAogCjAKQApQCmAKcAqACpAKoAqwCsAK0ArgCvALAAsQCyALMAtAC1ALYAtwC4ALkAugC7ALwAvQC+AL8AwADBAMIAwwDEAMUAxgDHAMgAyQDKAMsAzADNAM4AzwDQANEA0gDTANQA1QDWANcA2ADZANoA2wDcAN0A3gDfAOAA4QDiAOMA5ADlAOYA5wDoAOkA6gDrAOwA7QDuAO8A8ADxAPIA8wD0APUA9gD3APgA+QD6APsA/AD9AP4A/wAAAQEBAgEDAQQBBQEGAQcBCAEJAQoBCwEMAQ0BDgEPARABEQESARMBFAEVARYBFwEYARkBGgEbARwBHQEeAR8BIAEhAQ==",
          "dtype": "i2"
         },
         "yaxis": "y",
         "z": {
          "bdata": "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",
          "dtype": "i1",
          "shape": "290, 10"
         }
        }
       ],
       "layout": {
        "coloraxis": {
         "colorbar": {
          "title": {
           "text": "Number of Instances"
          }
         },
         "colorscale": [
          [
           0,
           "#440154"
          ],
          [
           0.1111111111111111,
           "#482878"
          ],
          [
           0.2222222222222222,
           "#3e4989"
          ],
          [
           0.3333333333333333,
           "#31688e"
          ],
          [
           0.4444444444444444,
           "#26828e"
          ],
          [
           0.5555555555555556,
           "#1f9e89"
          ],
          [
           0.6666666666666666,
           "#35b779"
          ],
          [
           0.7777777777777778,
           "#6ece58"
          ],
          [
           0.8888888888888888,
           "#b5de2b"
          ],
          [
           1,
           "#fde725"
          ]
         ]
        },
        "height": 900,
        "margin": {
         "t": 60
        },
        "template": {
         "data": {
          "bar": [
           {
            "error_x": {
             "color": "#2a3f5f"
            },
            "error_y": {
             "color": "#2a3f5f"
            },
            "marker": {
             "line": {
              "color": "#E5ECF6",
              "width": 0.5
             },
             "pattern": {
              "fillmode": "overlay",
              "size": 10,
              "solidity": 0.2
             }
            },
            "type": "bar"
           }
          ],
          "barpolar": [
           {
            "marker": {
             "line": {
              "color": "#E5ECF6",
              "width": 0.5
             },
             "pattern": {
              "fillmode": "overlay",
              "size": 10,
              "solidity": 0.2
             }
            },
            "type": "barpolar"
           }
          ],
          "carpet": [
           {
            "aaxis": {
             "endlinecolor": "#2a3f5f",
             "gridcolor": "white",
             "linecolor": "white",
             "minorgridcolor": "white",
             "startlinecolor": "#2a3f5f"
            },
            "baxis": {
             "endlinecolor": "#2a3f5f",
             "gridcolor": "white",
             "linecolor": "white",
             "minorgridcolor": "white",
             "startlinecolor": "#2a3f5f"
            },
            "type": "carpet"
           }
          ],
          "choropleth": [
           {
            "colorbar": {
             "outlinewidth": 0,
             "ticks": ""
            },
            "type": "choropleth"
           }
          ],
          "contour": [
           {
            "colorbar": {
             "outlinewidth": 0,
             "ticks": ""
            },
            "colorscale": [
             [
              0,
              "#0d0887"
             ],
             [
              0.1111111111111111,
              "#46039f"
             ],
             [
              0.2222222222222222,
              "#7201a8"
             ],
             [
              0.3333333333333333,
              "#9c179e"
             ],
             [
              0.4444444444444444,
              "#bd3786"
             ],
             [
              0.5555555555555556,
              "#d8576b"
             ],
             [
              0.6666666666666666,
              "#ed7953"
             ],
             [
              0.7777777777777778,
              "#fb9f3a"
             ],
             [
              0.8888888888888888,
              "#fdca26"
             ],
             [
              1,
              "#f0f921"
             ]
            ],
            "type": "contour"
           }
          ],
          "contourcarpet": [
           {
            "colorbar": {
             "outlinewidth": 0,
             "ticks": ""
            },
            "type": "contourcarpet"
           }
          ],
          "heatmap": [
           {
            "colorbar": {
             "outlinewidth": 0,
             "ticks": ""
            },
            "colorscale": [
             [
              0,
              "#0d0887"
             ],
             [
              0.1111111111111111,
              "#46039f"
             ],
             [
              0.2222222222222222,
              "#7201a8"
             ],
             [
              0.3333333333333333,
              "#9c179e"
             ],
             [
              0.4444444444444444,
              "#bd3786"
             ],
             [
              0.5555555555555556,
              "#d8576b"
             ],
             [
              0.6666666666666666,
              "#ed7953"
             ],
             [
              0.7777777777777778,
              "#fb9f3a"
             ],
             [
              0.8888888888888888,
              "#fdca26"
             ],
             [
              1,
              "#f0f921"
             ]
            ],
            "type": "heatmap"
           }
          ],
          "histogram": [
           {
            "marker": {
             "pattern": {
              "fillmode": "overlay",
              "size": 10,
              "solidity": 0.2
             }
            },
            "type": "histogram"
           }
          ],
          "histogram2d": [
           {
            "colorbar": {
             "outlinewidth": 0,
             "ticks": ""
            },
            "colorscale": [
             [
              0,
              "#0d0887"
             ],
             [
              0.1111111111111111,
              "#46039f"
             ],
             [
              0.2222222222222222,
              "#7201a8"
             ],
             [
              0.3333333333333333,
              "#9c179e"
             ],
             [
              0.4444444444444444,
              "#bd3786"
             ],
             [
              0.5555555555555556,
              "#d8576b"
             ],
             [
              0.6666666666666666,
              "#ed7953"
             ],
             [
              0.7777777777777778,
              "#fb9f3a"
             ],
             [
              0.8888888888888888,
              "#fdca26"
             ],
             [
              1,
              "#f0f921"
             ]
            ],
            "type": "histogram2d"
           }
          ],
          "histogram2dcontour": [
           {
            "colorbar": {
             "outlinewidth": 0,
             "ticks": ""
            },
            "colorscale": [
             [
              0,
              "#0d0887"
             ],
             [
              0.1111111111111111,
              "#46039f"
             ],
             [
              0.2222222222222222,
              "#7201a8"
             ],
             [
              0.3333333333333333,
              "#9c179e"
             ],
             [
              0.4444444444444444,
              "#bd3786"
             ],
             [
              0.5555555555555556,
              "#d8576b"
             ],
             [
              0.6666666666666666,
              "#ed7953"
             ],
             [
              0.7777777777777778,
              "#fb9f3a"
             ],
             [
              0.8888888888888888,
              "#fdca26"
             ],
             [
              1,
              "#f0f921"
             ]
            ],
            "type": "histogram2dcontour"
           }
          ],
          "mesh3d": [
           {
            "colorbar": {
             "outlinewidth": 0,
             "ticks": ""
            },
            "type": "mesh3d"
           }
          ],
          "parcoords": [
           {
            "line": {
             "colorbar": {
              "outlinewidth": 0,
              "ticks": ""
             }
            },
            "type": "parcoords"
           }
          ],
          "pie": [
           {
            "automargin": true,
            "type": "pie"
           }
          ],
          "scatter": [
           {
            "fillpattern": {
             "fillmode": "overlay",
             "size": 10,
             "solidity": 0.2
            },
            "type": "scatter"
           }
          ],
          "scatter3d": [
           {
            "line": {
             "colorbar": {
              "outlinewidth": 0,
              "ticks": ""
             }
            },
            "marker": {
             "colorbar": {
              "outlinewidth": 0,
              "ticks": ""
             }
            },
            "type": "scatter3d"
           }
          ],
          "scattercarpet": [
           {
            "marker": {
             "colorbar": {
              "outlinewidth": 0,
              "ticks": ""
             }
            },
            "type": "scattercarpet"
           }
          ],
          "scattergeo": [
           {
            "marker": {
             "colorbar": {
              "outlinewidth": 0,
              "ticks": ""
             }
            },
            "type": "scattergeo"
           }
          ],
          "scattergl": [
           {
            "marker": {
             "colorbar": {
              "outlinewidth": 0,
              "ticks": ""
             }
            },
            "type": "scattergl"
           }
          ],
          "scattermap": [
           {
            "marker": {
             "colorbar": {
              "outlinewidth": 0,
              "ticks": ""
             }
            },
            "type": "scattermap"
           }
          ],
          "scattermapbox": [
           {
            "marker": {
             "colorbar": {
              "outlinewidth": 0,
              "ticks": ""
             }
            },
            "type": "scattermapbox"
           }
          ],
          "scatterpolar": [
           {
            "marker": {
             "colorbar": {
              "outlinewidth": 0,
              "ticks": ""
             }
            },
            "type": "scatterpolar"
           }
          ],
          "scatterpolargl": [
           {
            "marker": {
             "colorbar": {
              "outlinewidth": 0,
              "ticks": ""
             }
            },
            "type": "scatterpolargl"
           }
          ],
          "scatterternary": [
           {
            "marker": {
             "colorbar": {
              "outlinewidth": 0,
              "ticks": ""
             }
            },
            "type": "scatterternary"
           }
          ],
          "surface": [
           {
            "colorbar": {
             "outlinewidth": 0,
             "ticks": ""
            },
            "colorscale": [
             [
              0,
              "#0d0887"
             ],
             [
              0.1111111111111111,
              "#46039f"
             ],
             [
              0.2222222222222222,
              "#7201a8"
             ],
             [
              0.3333333333333333,
              "#9c179e"
             ],
             [
              0.4444444444444444,
              "#bd3786"
             ],
             [
              0.5555555555555556,
              "#d8576b"
             ],
             [
              0.6666666666666666,
              "#ed7953"
             ],
             [
              0.7777777777777778,
              "#fb9f3a"
             ],
             [
              0.8888888888888888,
              "#fdca26"
             ],
             [
              1,
              "#f0f921"
             ]
            ],
            "type": "surface"
           }
          ],
          "table": [
           {
            "cells": {
             "fill": {
              "color": "#EBF0F8"
             },
             "line": {
              "color": "white"
             }
            },
            "header": {
             "fill": {
              "color": "#C8D4E3"
             },
             "line": {
              "color": "white"
             }
            },
            "type": "table"
           }
          ]
         },
         "layout": {
          "annotationdefaults": {
           "arrowcolor": "#2a3f5f",
           "arrowhead": 0,
           "arrowwidth": 1
          },
          "autotypenumbers": "strict",
          "coloraxis": {
           "colorbar": {
            "outlinewidth": 0,
            "ticks": ""
           }
          },
          "colorscale": {
           "diverging": [
            [
             0,
             "#8e0152"
            ],
            [
             0.1,
             "#c51b7d"
            ],
            [
             0.2,
             "#de77ae"
            ],
            [
             0.3,
             "#f1b6da"
            ],
            [
             0.4,
             "#fde0ef"
            ],
            [
             0.5,
             "#f7f7f7"
            ],
            [
             0.6,
             "#e6f5d0"
            ],
            [
             0.7,
             "#b8e186"
            ],
            [
             0.8,
             "#7fbc41"
            ],
            [
             0.9,
             "#4d9221"
            ],
            [
             1,
             "#276419"
            ]
           ],
           "sequential": [
            [
             0,
             "#0d0887"
            ],
            [
             0.1111111111111111,
             "#46039f"
            ],
            [
             0.2222222222222222,
             "#7201a8"
            ],
            [
             0.3333333333333333,
             "#9c179e"
            ],
            [
             0.4444444444444444,
             "#bd3786"
            ],
            [
             0.5555555555555556,
             "#d8576b"
            ],
            [
             0.6666666666666666,
             "#ed7953"
            ],
            [
             0.7777777777777778,
             "#fb9f3a"
            ],
            [
             0.8888888888888888,
             "#fdca26"
            ],
            [
             1,
             "#f0f921"
            ]
           ],
           "sequentialminus": [
            [
             0,
             "#0d0887"
            ],
            [
             0.1111111111111111,
             "#46039f"
            ],
            [
             0.2222222222222222,
             "#7201a8"
            ],
            [
             0.3333333333333333,
             "#9c179e"
            ],
            [
             0.4444444444444444,
             "#bd3786"
            ],
            [
             0.5555555555555556,
             "#d8576b"
            ],
            [
             0.6666666666666666,
             "#ed7953"
            ],
            [
             0.7777777777777778,
             "#fb9f3a"
            ],
            [
             0.8888888888888888,
             "#fdca26"
            ],
            [
             1,
             "#f0f921"
            ]
           ]
          },
          "colorway": [
           "#636efa",
           "#EF553B",
           "#00cc96",
           "#ab63fa",
           "#FFA15A",
           "#19d3f3",
           "#FF6692",
           "#B6E880",
           "#FF97FF",
           "#FECB52"
          ],
          "font": {
           "color": "#2a3f5f"
          },
          "geo": {
           "bgcolor": "white",
           "lakecolor": "white",
           "landcolor": "#E5ECF6",
           "showlakes": true,
           "showland": true,
           "subunitcolor": "white"
          },
          "hoverlabel": {
           "align": "left"
          },
          "hovermode": "closest",
          "mapbox": {
           "style": "light"
          },
          "paper_bgcolor": "white",
          "plot_bgcolor": "#E5ECF6",
          "polar": {
           "angularaxis": {
            "gridcolor": "white",
            "linecolor": "white",
            "ticks": ""
           },
           "bgcolor": "#E5ECF6",
           "radialaxis": {
            "gridcolor": "white",
            "linecolor": "white",
            "ticks": ""
           }
          },
          "scene": {
           "xaxis": {
            "backgroundcolor": "#E5ECF6",
            "gridcolor": "white",
            "gridwidth": 2,
            "linecolor": "white",
            "showbackground": true,
            "ticks": "",
            "zerolinecolor": "white"
           },
           "yaxis": {
            "backgroundcolor": "#E5ECF6",
            "gridcolor": "white",
            "gridwidth": 2,
            "linecolor": "white",
            "showbackground": true,
            "ticks": "",
            "zerolinecolor": "white"
           },
           "zaxis": {
            "backgroundcolor": "#E5ECF6",
            "gridcolor": "white",
            "gridwidth": 2,
            "linecolor": "white",
            "showbackground": true,
            "ticks": "",
            "zerolinecolor": "white"
           }
          },
          "shapedefaults": {
           "line": {
            "color": "#2a3f5f"
           }
          },
          "ternary": {
           "aaxis": {
            "gridcolor": "white",
            "linecolor": "white",
            "ticks": ""
           },
           "baxis": {
            "gridcolor": "white",
            "linecolor": "white",
            "ticks": ""
           },
           "bgcolor": "#E5ECF6",
           "caxis": {
            "gridcolor": "white",
            "linecolor": "white",
            "ticks": ""
           }
          },
          "title": {
           "x": 0.05
          },
          "xaxis": {
           "automargin": true,
           "gridcolor": "white",
           "linecolor": "white",
           "ticks": "",
           "title": {
            "standoff": 15
           },
           "zerolinecolor": "white",
           "zerolinewidth": 2
          },
          "yaxis": {
           "automargin": true,
           "gridcolor": "white",
           "linecolor": "white",
           "ticks": "",
           "title": {
            "standoff": 15
           },
           "zerolinecolor": "white",
           "zerolinewidth": 2
          }
         }
        },
        "title": {
         "text": "EDR Class Distribution in Each Batch - Task ID 1"
        },
        "xaxis": {
         "anchor": "y",
         "domain": [
          0,
          1
         ],
         "title": {
          "text": "Classes"
         }
        },
        "yaxis": {
         "anchor": "x",
         "autorange": "reversed",
         "domain": [
          0,
          1
         ],
         "title": {
          "text": "Batches"
         }
        }
       }
      }
     },
     "metadata": {},
     "output_type": "display_data"
    }
   ],
   "source": [
    "import numpy as np\n",
    "import plotly.express as px\n",
    "\n",
    "task_id = 1\n",
    "\n",
    "df = pd.read_csv(\"../_0.4_batch_size_32_buffer_size_128_num_tasks_5_hidden_size_64_eval_window_size_128_continual_evaluations_5_delay_label_100_start_delay_size_0_number_delayed_batches_1/cl_batches_y_ExperienceDelayReplay.log\", \n",
    "                 names=[\"task_id\", \"step\", \"class_0\", \"class_1\", \"class_2\", \"class_3\", \"class_4\", \"class_5\", \"class_6\", \n",
    "                            \"class_7\", \"class_8\", \"class_9\"])\n",
    "\n",
    "df = df.drop(columns=[\"step\"])\n",
    "df_plot = df.loc[df.task_id == task_id].reset_index(drop=True).copy()\n",
    "# df_plot = pd.concat([df_plot[:10], df_plot[80:90], df_plot[115:125]], ignore_index=True)\n",
    "df_plot.drop(columns=[\"task_id\"], inplace=True)\n",
    "\n",
    "# Criação do heatmap interativo (classe no eixo Y, batch no eixo X)\n",
    "fig = px.imshow(\n",
    "    df_plot,\n",
    "    labels=dict(x=\"Classes\", y=\"Batches\", color=\"Number of Instances\"),\n",
    "    # x=[f\"Batch {i}\" for i in range(1, num_batches+1)],\n",
    "    # y=[f\"Classe {i}\" for i in range(num_classes)],\n",
    "    aspect=\"auto\",\n",
    "    color_continuous_scale=\"Viridis\",\n",
    "    origin=\"upper\",  # garante que Classe 0 fique em cima\n",
    "    # text_auto=True\n",
    ")\n",
    "\n",
    "fig.update_layout(\n",
    "    title=\"EDR Class Distribution in Each Batch - Task ID {}\".format(task_id),\n",
    "    xaxis_title=\"Classes\",\n",
    "    yaxis_title=\"Batches\",\n",
    "    height=900,\n",
    ")\n",
    "\n",
    "fig.show()"
   ]
  },
  {
   "cell_type": "markdown",
   "id": "775e0e20",
   "metadata": {},
   "source": [
    "<!--### results_plot_mnist_['EDR', 'ER']_False_[]_32_5_0_32_150_2/train_batches_y_ExperienceDelayReplay.log -->\n",
    "#### Task 2\n",
    "#### Classes 9, 3"
   ]
  },
  {
   "cell_type": "code",
   "execution_count": 20,
   "id": "2c8b3c5a",
   "metadata": {},
   "outputs": [
    {
     "data": {
      "application/vnd.plotly.v1+json": {
       "config": {
        "plotlyServerURL": "https://plot.ly"
       },
       "data": [
        {
         "coloraxis": "coloraxis",
         "hovertemplate": "Classes: %{x}<br>Batches: %{y}<br>Number of Instances: %{z}<extra></extra>",
         "name": "0",
         "type": "heatmap",
         "x": [
          "class_0",
          "class_1",
          "class_2",
          "class_3",
          "class_4",
          "class_5",
          "class_6",
          "class_7",
          "class_8",
          "class_9"
         ],
         "xaxis": "x",
         "y": {
          "bdata": "AAABAAIAAwAEAAUABgAHAAgACQAKAAsADAANAA4ADwAQABEAEgATABQAFQAWABcAGAAZABoAGwAcAB0AHgAfACAAIQAiACMAJAAlACYAJwAoACkAKgArACwALQAuAC8AMAAxADIAMwA0ADUANgA3ADgAOQA6ADsAPAA9AD4APwBAAEEAQgBDAEQARQBGAEcASABJAEoASwBMAE0ATgBPAFAAUQBSAFMAVABVAFYAVwBYAFkAWgBbAFwAXQBeAF8AYABhAGIAYwBkAGUAZgBnAGgAaQBqAGsAbABtAG4AbwBwAHEAcgBzAHQAdQB2AHcAeAB5AHoAewB8AH0AfgB/AIAAgQCCAIMAhACFAIYAhwCIAIkAigCLAIwAjQCOAI8AkACRAJIAkwCUAJUAlgCXAJgAmQCaAJsAnACdAJ4AnwCgAKEAogCjAKQApQCmAKcAqACpAKoAqwCsAK0ArgCvALAAsQCyALMAtAC1ALYAtwC4ALkAugC7ALwAvQC+AL8AwADBAMIAwwDEAMUAxgDHAMgAyQDKAMsAzADNAM4AzwDQANEA0gDTANQA1QDWANcA2ADZANoA2wDcAN0A3gDfAOAA4QDiAOMA5ADlAOYA5wDoAOkA6gDrAOwA7QDuAO8A8ADxAPIA8wD0APUA9gD3APgA+QD6APsA/AD9AP4A/wAAAQEBAgEDAQQBBQEGAQcBCAEJAQoBCwEMAQ0BDgEPARABEQESARMBFAEVARYBFwEYARkBGgEbARwBHQEeAR8BIAEhASIBIwEkASUBJgEnAQ==",
          "dtype": "i2"
         },
         "yaxis": "y",
         "z": {
          "bdata": "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",
          "dtype": "i1",
          "shape": "296, 10"
         }
        }
       ],
       "layout": {
        "coloraxis": {
         "colorbar": {
          "title": {
           "text": "Number of Instances"
          }
         },
         "colorscale": [
          [
           0,
           "#440154"
          ],
          [
           0.1111111111111111,
           "#482878"
          ],
          [
           0.2222222222222222,
           "#3e4989"
          ],
          [
           0.3333333333333333,
           "#31688e"
          ],
          [
           0.4444444444444444,
           "#26828e"
          ],
          [
           0.5555555555555556,
           "#1f9e89"
          ],
          [
           0.6666666666666666,
           "#35b779"
          ],
          [
           0.7777777777777778,
           "#6ece58"
          ],
          [
           0.8888888888888888,
           "#b5de2b"
          ],
          [
           1,
           "#fde725"
          ]
         ]
        },
        "height": 900,
        "margin": {
         "t": 60
        },
        "template": {
         "data": {
          "bar": [
           {
            "error_x": {
             "color": "#2a3f5f"
            },
            "error_y": {
             "color": "#2a3f5f"
            },
            "marker": {
             "line": {
              "color": "#E5ECF6",
              "width": 0.5
             },
             "pattern": {
              "fillmode": "overlay",
              "size": 10,
              "solidity": 0.2
             }
            },
            "type": "bar"
           }
          ],
          "barpolar": [
           {
            "marker": {
             "line": {
              "color": "#E5ECF6",
              "width": 0.5
             },
             "pattern": {
              "fillmode": "overlay",
              "size": 10,
              "solidity": 0.2
             }
            },
            "type": "barpolar"
           }
          ],
          "carpet": [
           {
            "aaxis": {
             "endlinecolor": "#2a3f5f",
             "gridcolor": "white",
             "linecolor": "white",
             "minorgridcolor": "white",
             "startlinecolor": "#2a3f5f"
            },
            "baxis": {
             "endlinecolor": "#2a3f5f",
             "gridcolor": "white",
             "linecolor": "white",
             "minorgridcolor": "white",
             "startlinecolor": "#2a3f5f"
            },
            "type": "carpet"
           }
          ],
          "choropleth": [
           {
            "colorbar": {
             "outlinewidth": 0,
             "ticks": ""
            },
            "type": "choropleth"
           }
          ],
          "contour": [
           {
            "colorbar": {
             "outlinewidth": 0,
             "ticks": ""
            },
            "colorscale": [
             [
              0,
              "#0d0887"
             ],
             [
              0.1111111111111111,
              "#46039f"
             ],
             [
              0.2222222222222222,
              "#7201a8"
             ],
             [
              0.3333333333333333,
              "#9c179e"
             ],
             [
              0.4444444444444444,
              "#bd3786"
             ],
             [
              0.5555555555555556,
              "#d8576b"
             ],
             [
              0.6666666666666666,
              "#ed7953"
             ],
             [
              0.7777777777777778,
              "#fb9f3a"
             ],
             [
              0.8888888888888888,
              "#fdca26"
             ],
             [
              1,
              "#f0f921"
             ]
            ],
            "type": "contour"
           }
          ],
          "contourcarpet": [
           {
            "colorbar": {
             "outlinewidth": 0,
             "ticks": ""
            },
            "type": "contourcarpet"
           }
          ],
          "heatmap": [
           {
            "colorbar": {
             "outlinewidth": 0,
             "ticks": ""
            },
            "colorscale": [
             [
              0,
              "#0d0887"
             ],
             [
              0.1111111111111111,
              "#46039f"
             ],
             [
              0.2222222222222222,
              "#7201a8"
             ],
             [
              0.3333333333333333,
              "#9c179e"
             ],
             [
              0.4444444444444444,
              "#bd3786"
             ],
             [
              0.5555555555555556,
              "#d8576b"
             ],
             [
              0.6666666666666666,
              "#ed7953"
             ],
             [
              0.7777777777777778,
              "#fb9f3a"
             ],
             [
              0.8888888888888888,
              "#fdca26"
             ],
             [
              1,
              "#f0f921"
             ]
            ],
            "type": "heatmap"
           }
          ],
          "histogram": [
           {
            "marker": {
             "pattern": {
              "fillmode": "overlay",
              "size": 10,
              "solidity": 0.2
             }
            },
            "type": "histogram"
           }
          ],
          "histogram2d": [
           {
            "colorbar": {
             "outlinewidth": 0,
             "ticks": ""
            },
            "colorscale": [
             [
              0,
              "#0d0887"
             ],
             [
              0.1111111111111111,
              "#46039f"
             ],
             [
              0.2222222222222222,
              "#7201a8"
             ],
             [
              0.3333333333333333,
              "#9c179e"
             ],
             [
              0.4444444444444444,
              "#bd3786"
             ],
             [
              0.5555555555555556,
              "#d8576b"
             ],
             [
              0.6666666666666666,
              "#ed7953"
             ],
             [
              0.7777777777777778,
              "#fb9f3a"
             ],
             [
              0.8888888888888888,
              "#fdca26"
             ],
             [
              1,
              "#f0f921"
             ]
            ],
            "type": "histogram2d"
           }
          ],
          "histogram2dcontour": [
           {
            "colorbar": {
             "outlinewidth": 0,
             "ticks": ""
            },
            "colorscale": [
             [
              0,
              "#0d0887"
             ],
             [
              0.1111111111111111,
              "#46039f"
             ],
             [
              0.2222222222222222,
              "#7201a8"
             ],
             [
              0.3333333333333333,
              "#9c179e"
             ],
             [
              0.4444444444444444,
              "#bd3786"
             ],
             [
              0.5555555555555556,
              "#d8576b"
             ],
             [
              0.6666666666666666,
              "#ed7953"
             ],
             [
              0.7777777777777778,
              "#fb9f3a"
             ],
             [
              0.8888888888888888,
              "#fdca26"
             ],
             [
              1,
              "#f0f921"
             ]
            ],
            "type": "histogram2dcontour"
           }
          ],
          "mesh3d": [
           {
            "colorbar": {
             "outlinewidth": 0,
             "ticks": ""
            },
            "type": "mesh3d"
           }
          ],
          "parcoords": [
           {
            "line": {
             "colorbar": {
              "outlinewidth": 0,
              "ticks": ""
             }
            },
            "type": "parcoords"
           }
          ],
          "pie": [
           {
            "automargin": true,
            "type": "pie"
           }
          ],
          "scatter": [
           {
            "fillpattern": {
             "fillmode": "overlay",
             "size": 10,
             "solidity": 0.2
            },
            "type": "scatter"
           }
          ],
          "scatter3d": [
           {
            "line": {
             "colorbar": {
              "outlinewidth": 0,
              "ticks": ""
             }
            },
            "marker": {
             "colorbar": {
              "outlinewidth": 0,
              "ticks": ""
             }
            },
            "type": "scatter3d"
           }
          ],
          "scattercarpet": [
           {
            "marker": {
             "colorbar": {
              "outlinewidth": 0,
              "ticks": ""
             }
            },
            "type": "scattercarpet"
           }
          ],
          "scattergeo": [
           {
            "marker": {
             "colorbar": {
              "outlinewidth": 0,
              "ticks": ""
             }
            },
            "type": "scattergeo"
           }
          ],
          "scattergl": [
           {
            "marker": {
             "colorbar": {
              "outlinewidth": 0,
              "ticks": ""
             }
            },
            "type": "scattergl"
           }
          ],
          "scattermap": [
           {
            "marker": {
             "colorbar": {
              "outlinewidth": 0,
              "ticks": ""
             }
            },
            "type": "scattermap"
           }
          ],
          "scattermapbox": [
           {
            "marker": {
             "colorbar": {
              "outlinewidth": 0,
              "ticks": ""
             }
            },
            "type": "scattermapbox"
           }
          ],
          "scatterpolar": [
           {
            "marker": {
             "colorbar": {
              "outlinewidth": 0,
              "ticks": ""
             }
            },
            "type": "scatterpolar"
           }
          ],
          "scatterpolargl": [
           {
            "marker": {
             "colorbar": {
              "outlinewidth": 0,
              "ticks": ""
             }
            },
            "type": "scatterpolargl"
           }
          ],
          "scatterternary": [
           {
            "marker": {
             "colorbar": {
              "outlinewidth": 0,
              "ticks": ""
             }
            },
            "type": "scatterternary"
           }
          ],
          "surface": [
           {
            "colorbar": {
             "outlinewidth": 0,
             "ticks": ""
            },
            "colorscale": [
             [
              0,
              "#0d0887"
             ],
             [
              0.1111111111111111,
              "#46039f"
             ],
             [
              0.2222222222222222,
              "#7201a8"
             ],
             [
              0.3333333333333333,
              "#9c179e"
             ],
             [
              0.4444444444444444,
              "#bd3786"
             ],
             [
              0.5555555555555556,
              "#d8576b"
             ],
             [
              0.6666666666666666,
              "#ed7953"
             ],
             [
              0.7777777777777778,
              "#fb9f3a"
             ],
             [
              0.8888888888888888,
              "#fdca26"
             ],
             [
              1,
              "#f0f921"
             ]
            ],
            "type": "surface"
           }
          ],
          "table": [
           {
            "cells": {
             "fill": {
              "color": "#EBF0F8"
             },
             "line": {
              "color": "white"
             }
            },
            "header": {
             "fill": {
              "color": "#C8D4E3"
             },
             "line": {
              "color": "white"
             }
            },
            "type": "table"
           }
          ]
         },
         "layout": {
          "annotationdefaults": {
           "arrowcolor": "#2a3f5f",
           "arrowhead": 0,
           "arrowwidth": 1
          },
          "autotypenumbers": "strict",
          "coloraxis": {
           "colorbar": {
            "outlinewidth": 0,
            "ticks": ""
           }
          },
          "colorscale": {
           "diverging": [
            [
             0,
             "#8e0152"
            ],
            [
             0.1,
             "#c51b7d"
            ],
            [
             0.2,
             "#de77ae"
            ],
            [
             0.3,
             "#f1b6da"
            ],
            [
             0.4,
             "#fde0ef"
            ],
            [
             0.5,
             "#f7f7f7"
            ],
            [
             0.6,
             "#e6f5d0"
            ],
            [
             0.7,
             "#b8e186"
            ],
            [
             0.8,
             "#7fbc41"
            ],
            [
             0.9,
             "#4d9221"
            ],
            [
             1,
             "#276419"
            ]
           ],
           "sequential": [
            [
             0,
             "#0d0887"
            ],
            [
             0.1111111111111111,
             "#46039f"
            ],
            [
             0.2222222222222222,
             "#7201a8"
            ],
            [
             0.3333333333333333,
             "#9c179e"
            ],
            [
             0.4444444444444444,
             "#bd3786"
            ],
            [
             0.5555555555555556,
             "#d8576b"
            ],
            [
             0.6666666666666666,
             "#ed7953"
            ],
            [
             0.7777777777777778,
             "#fb9f3a"
            ],
            [
             0.8888888888888888,
             "#fdca26"
            ],
            [
             1,
             "#f0f921"
            ]
           ],
           "sequentialminus": [
            [
             0,
             "#0d0887"
            ],
            [
             0.1111111111111111,
             "#46039f"
            ],
            [
             0.2222222222222222,
             "#7201a8"
            ],
            [
             0.3333333333333333,
             "#9c179e"
            ],
            [
             0.4444444444444444,
             "#bd3786"
            ],
            [
             0.5555555555555556,
             "#d8576b"
            ],
            [
             0.6666666666666666,
             "#ed7953"
            ],
            [
             0.7777777777777778,
             "#fb9f3a"
            ],
            [
             0.8888888888888888,
             "#fdca26"
            ],
            [
             1,
             "#f0f921"
            ]
           ]
          },
          "colorway": [
           "#636efa",
           "#EF553B",
           "#00cc96",
           "#ab63fa",
           "#FFA15A",
           "#19d3f3",
           "#FF6692",
           "#B6E880",
           "#FF97FF",
           "#FECB52"
          ],
          "font": {
           "color": "#2a3f5f"
          },
          "geo": {
           "bgcolor": "white",
           "lakecolor": "white",
           "landcolor": "#E5ECF6",
           "showlakes": true,
           "showland": true,
           "subunitcolor": "white"
          },
          "hoverlabel": {
           "align": "left"
          },
          "hovermode": "closest",
          "mapbox": {
           "style": "light"
          },
          "paper_bgcolor": "white",
          "plot_bgcolor": "#E5ECF6",
          "polar": {
           "angularaxis": {
            "gridcolor": "white",
            "linecolor": "white",
            "ticks": ""
           },
           "bgcolor": "#E5ECF6",
           "radialaxis": {
            "gridcolor": "white",
            "linecolor": "white",
            "ticks": ""
           }
          },
          "scene": {
           "xaxis": {
            "backgroundcolor": "#E5ECF6",
            "gridcolor": "white",
            "gridwidth": 2,
            "linecolor": "white",
            "showbackground": true,
            "ticks": "",
            "zerolinecolor": "white"
           },
           "yaxis": {
            "backgroundcolor": "#E5ECF6",
            "gridcolor": "white",
            "gridwidth": 2,
            "linecolor": "white",
            "showbackground": true,
            "ticks": "",
            "zerolinecolor": "white"
           },
           "zaxis": {
            "backgroundcolor": "#E5ECF6",
            "gridcolor": "white",
            "gridwidth": 2,
            "linecolor": "white",
            "showbackground": true,
            "ticks": "",
            "zerolinecolor": "white"
           }
          },
          "shapedefaults": {
           "line": {
            "color": "#2a3f5f"
           }
          },
          "ternary": {
           "aaxis": {
            "gridcolor": "white",
            "linecolor": "white",
            "ticks": ""
           },
           "baxis": {
            "gridcolor": "white",
            "linecolor": "white",
            "ticks": ""
           },
           "bgcolor": "#E5ECF6",
           "caxis": {
            "gridcolor": "white",
            "linecolor": "white",
            "ticks": ""
           }
          },
          "title": {
           "x": 0.05
          },
          "xaxis": {
           "automargin": true,
           "gridcolor": "white",
           "linecolor": "white",
           "ticks": "",
           "title": {
            "standoff": 15
           },
           "zerolinecolor": "white",
           "zerolinewidth": 2
          },
          "yaxis": {
           "automargin": true,
           "gridcolor": "white",
           "linecolor": "white",
           "ticks": "",
           "title": {
            "standoff": 15
           },
           "zerolinecolor": "white",
           "zerolinewidth": 2
          }
         }
        },
        "title": {
         "text": "EDR Class Distribution in Each Batch - Task ID 2"
        },
        "xaxis": {
         "anchor": "y",
         "domain": [
          0,
          1
         ],
         "title": {
          "text": "Classes"
         }
        },
        "yaxis": {
         "anchor": "x",
         "autorange": "reversed",
         "domain": [
          0,
          1
         ],
         "title": {
          "text": "Batches"
         }
        }
       }
      }
     },
     "metadata": {},
     "output_type": "display_data"
    }
   ],
   "source": [
    "import numpy as np\n",
    "import plotly.express as px\n",
    "\n",
    "task_id = 2\n",
    "\n",
    "df = pd.read_csv(\"../_0.4_batch_size_32_buffer_size_128_num_tasks_5_hidden_size_64_eval_window_size_128_continual_evaluations_5_delay_label_100_start_delay_size_0_number_delayed_batches_1/cl_batches_y_ExperienceDelayReplay.log\", \n",
    "                 names=[\"task_id\", \"step\", \"class_0\", \"class_1\", \"class_2\", \"class_3\", \"class_4\", \"class_5\", \"class_6\", \n",
    "                            \"class_7\", \"class_8\", \"class_9\"])\n",
    "\n",
    "df = df.drop(columns=[\"step\"])\n",
    "df_plot = df.loc[df.task_id == task_id].reset_index(drop=True).copy()\n",
    "# df_plot = pd.concat([df_plot[:10], df_plot[80:90], df_plot[115:125]], ignore_index=True)\n",
    "df_plot.drop(columns=[\"task_id\"], inplace=True)\n",
    "\n",
    "# Criação do heatmap interativo (classe no eixo Y, batch no eixo X)\n",
    "fig = px.imshow(\n",
    "    df_plot,\n",
    "    labels=dict(x=\"Classes\", y=\"Batches\", color=\"Number of Instances\"),\n",
    "    # x=[f\"Batch {i}\" for i in range(1, num_batches+1)],\n",
    "    # y=[f\"Classe {i}\" for i in range(num_classes)],\n",
    "    aspect=\"auto\",\n",
    "    color_continuous_scale=\"Viridis\",\n",
    "    origin=\"upper\",  # garante que Classe 0 fique em cima\n",
    "    # text_auto=True\n",
    ")\n",
    "\n",
    "fig.update_layout(\n",
    "    title=\"EDR Class Distribution in Each Batch - Task ID {}\".format(task_id),\n",
    "    xaxis_title=\"Classes\",\n",
    "    yaxis_title=\"Batches\",\n",
    "    height=900,\n",
    ")\n",
    "\n",
    "fig.show()"
   ]
  },
  {
   "cell_type": "markdown",
   "id": "0537c173",
   "metadata": {},
   "source": [
    "<!-- ### results_plot_mnist_['EDR', 'ER']_False_[]_32_5_0_32_150_2/train_batches_y_ExperienceDelayReplay.log -->\n",
    "#### Task 3\n",
    "#### Classes 0, 8"
   ]
  },
  {
   "cell_type": "code",
   "execution_count": 22,
   "id": "198a1721",
   "metadata": {},
   "outputs": [
    {
     "data": {
      "application/vnd.plotly.v1+json": {
       "config": {
        "plotlyServerURL": "https://plot.ly"
       },
       "data": [
        {
         "coloraxis": "coloraxis",
         "hovertemplate": "Classes: %{x}<br>Batches: %{y}<br>Number of Instances: %{z}<extra></extra>",
         "name": "0",
         "type": "heatmap",
         "x": [
          "class_0",
          "class_1",
          "class_2",
          "class_3",
          "class_4",
          "class_5",
          "class_6",
          "class_7",
          "class_8",
          "class_9"
         ],
         "xaxis": "x",
         "y": {
          "bdata": "AAABAAIAAwAEAAUABgAHAAgACQAKAAsADAANAA4ADwAQABEAEgATABQAFQAWABcAGAAZABoAGwAcAB0AHgAfACAAIQAiACMAJAAlACYAJwAoACkAKgArACwALQAuAC8AMAAxADIAMwA0ADUANgA3ADgAOQA6ADsAPAA9AD4APwBAAEEAQgBDAEQARQBGAEcASABJAEoASwBMAE0ATgBPAFAAUQBSAFMAVABVAFYAVwBYAFkAWgBbAFwAXQBeAF8AYABhAGIAYwBkAGUAZgBnAGgAaQBqAGsAbABtAG4AbwBwAHEAcgBzAHQAdQB2AHcAeAB5AHoAewB8AH0AfgB/AIAAgQCCAIMAhACFAIYAhwCIAIkAigCLAIwAjQCOAI8AkACRAJIAkwCUAJUAlgCXAJgAmQCaAJsAnACdAJ4AnwCgAKEAogCjAKQApQCmAKcAqACpAKoAqwCsAK0ArgCvALAAsQCyALMAtAC1ALYAtwC4ALkAugC7ALwAvQC+AL8AwADBAMIAwwDEAMUAxgDHAMgAyQDKAMsAzADNAM4AzwDQANEA0gDTANQA1QDWANcA2ADZANoA2wDcAN0A3gDfAOAA4QDiAOMA5ADlAOYA5wDoAOkA6gDrAOwA7QDuAO8A8ADxAPIA8wD0APUA9gD3APgA+QD6APsA/AD9AP4A/wAAAQEBAgEDAQQBBQEGAQcBCAEJAQoBCwEMAQ0BDgEPARABEQESARMBFAEVARYBFwEYARkBGgEbARwBHQEeAR8BIAEhASIBIwE=",
          "dtype": "i2"
         },
         "yaxis": "y",
         "z": {
          "bdata": "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",
          "dtype": "i1",
          "shape": "292, 10"
         }
        }
       ],
       "layout": {
        "coloraxis": {
         "colorbar": {
          "title": {
           "text": "Number of Instances"
          }
         },
         "colorscale": [
          [
           0,
           "#440154"
          ],
          [
           0.1111111111111111,
           "#482878"
          ],
          [
           0.2222222222222222,
           "#3e4989"
          ],
          [
           0.3333333333333333,
           "#31688e"
          ],
          [
           0.4444444444444444,
           "#26828e"
          ],
          [
           0.5555555555555556,
           "#1f9e89"
          ],
          [
           0.6666666666666666,
           "#35b779"
          ],
          [
           0.7777777777777778,
           "#6ece58"
          ],
          [
           0.8888888888888888,
           "#b5de2b"
          ],
          [
           1,
           "#fde725"
          ]
         ]
        },
        "height": 900,
        "margin": {
         "t": 60
        },
        "template": {
         "data": {
          "bar": [
           {
            "error_x": {
             "color": "#2a3f5f"
            },
            "error_y": {
             "color": "#2a3f5f"
            },
            "marker": {
             "line": {
              "color": "#E5ECF6",
              "width": 0.5
             },
             "pattern": {
              "fillmode": "overlay",
              "size": 10,
              "solidity": 0.2
             }
            },
            "type": "bar"
           }
          ],
          "barpolar": [
           {
            "marker": {
             "line": {
              "color": "#E5ECF6",
              "width": 0.5
             },
             "pattern": {
              "fillmode": "overlay",
              "size": 10,
              "solidity": 0.2
             }
            },
            "type": "barpolar"
           }
          ],
          "carpet": [
           {
            "aaxis": {
             "endlinecolor": "#2a3f5f",
             "gridcolor": "white",
             "linecolor": "white",
             "minorgridcolor": "white",
             "startlinecolor": "#2a3f5f"
            },
            "baxis": {
             "endlinecolor": "#2a3f5f",
             "gridcolor": "white",
             "linecolor": "white",
             "minorgridcolor": "white",
             "startlinecolor": "#2a3f5f"
            },
            "type": "carpet"
           }
          ],
          "choropleth": [
           {
            "colorbar": {
             "outlinewidth": 0,
             "ticks": ""
            },
            "type": "choropleth"
           }
          ],
          "contour": [
           {
            "colorbar": {
             "outlinewidth": 0,
             "ticks": ""
            },
            "colorscale": [
             [
              0,
              "#0d0887"
             ],
             [
              0.1111111111111111,
              "#46039f"
             ],
             [
              0.2222222222222222,
              "#7201a8"
             ],
             [
              0.3333333333333333,
              "#9c179e"
             ],
             [
              0.4444444444444444,
              "#bd3786"
             ],
             [
              0.5555555555555556,
              "#d8576b"
             ],
             [
              0.6666666666666666,
              "#ed7953"
             ],
             [
              0.7777777777777778,
              "#fb9f3a"
             ],
             [
              0.8888888888888888,
              "#fdca26"
             ],
             [
              1,
              "#f0f921"
             ]
            ],
            "type": "contour"
           }
          ],
          "contourcarpet": [
           {
            "colorbar": {
             "outlinewidth": 0,
             "ticks": ""
            },
            "type": "contourcarpet"
           }
          ],
          "heatmap": [
           {
            "colorbar": {
             "outlinewidth": 0,
             "ticks": ""
            },
            "colorscale": [
             [
              0,
              "#0d0887"
             ],
             [
              0.1111111111111111,
              "#46039f"
             ],
             [
              0.2222222222222222,
              "#7201a8"
             ],
             [
              0.3333333333333333,
              "#9c179e"
             ],
             [
              0.4444444444444444,
              "#bd3786"
             ],
             [
              0.5555555555555556,
              "#d8576b"
             ],
             [
              0.6666666666666666,
              "#ed7953"
             ],
             [
              0.7777777777777778,
              "#fb9f3a"
             ],
             [
              0.8888888888888888,
              "#fdca26"
             ],
             [
              1,
              "#f0f921"
             ]
            ],
            "type": "heatmap"
           }
          ],
          "histogram": [
           {
            "marker": {
             "pattern": {
              "fillmode": "overlay",
              "size": 10,
              "solidity": 0.2
             }
            },
            "type": "histogram"
           }
          ],
          "histogram2d": [
           {
            "colorbar": {
             "outlinewidth": 0,
             "ticks": ""
            },
            "colorscale": [
             [
              0,
              "#0d0887"
             ],
             [
              0.1111111111111111,
              "#46039f"
             ],
             [
              0.2222222222222222,
              "#7201a8"
             ],
             [
              0.3333333333333333,
              "#9c179e"
             ],
             [
              0.4444444444444444,
              "#bd3786"
             ],
             [
              0.5555555555555556,
              "#d8576b"
             ],
             [
              0.6666666666666666,
              "#ed7953"
             ],
             [
              0.7777777777777778,
              "#fb9f3a"
             ],
             [
              0.8888888888888888,
              "#fdca26"
             ],
             [
              1,
              "#f0f921"
             ]
            ],
            "type": "histogram2d"
           }
          ],
          "histogram2dcontour": [
           {
            "colorbar": {
             "outlinewidth": 0,
             "ticks": ""
            },
            "colorscale": [
             [
              0,
              "#0d0887"
             ],
             [
              0.1111111111111111,
              "#46039f"
             ],
             [
              0.2222222222222222,
              "#7201a8"
             ],
             [
              0.3333333333333333,
              "#9c179e"
             ],
             [
              0.4444444444444444,
              "#bd3786"
             ],
             [
              0.5555555555555556,
              "#d8576b"
             ],
             [
              0.6666666666666666,
              "#ed7953"
             ],
             [
              0.7777777777777778,
              "#fb9f3a"
             ],
             [
              0.8888888888888888,
              "#fdca26"
             ],
             [
              1,
              "#f0f921"
             ]
            ],
            "type": "histogram2dcontour"
           }
          ],
          "mesh3d": [
           {
            "colorbar": {
             "outlinewidth": 0,
             "ticks": ""
            },
            "type": "mesh3d"
           }
          ],
          "parcoords": [
           {
            "line": {
             "colorbar": {
              "outlinewidth": 0,
              "ticks": ""
             }
            },
            "type": "parcoords"
           }
          ],
          "pie": [
           {
            "automargin": true,
            "type": "pie"
           }
          ],
          "scatter": [
           {
            "fillpattern": {
             "fillmode": "overlay",
             "size": 10,
             "solidity": 0.2
            },
            "type": "scatter"
           }
          ],
          "scatter3d": [
           {
            "line": {
             "colorbar": {
              "outlinewidth": 0,
              "ticks": ""
             }
            },
            "marker": {
             "colorbar": {
              "outlinewidth": 0,
              "ticks": ""
             }
            },
            "type": "scatter3d"
           }
          ],
          "scattercarpet": [
           {
            "marker": {
             "colorbar": {
              "outlinewidth": 0,
              "ticks": ""
             }
            },
            "type": "scattercarpet"
           }
          ],
          "scattergeo": [
           {
            "marker": {
             "colorbar": {
              "outlinewidth": 0,
              "ticks": ""
             }
            },
            "type": "scattergeo"
           }
          ],
          "scattergl": [
           {
            "marker": {
             "colorbar": {
              "outlinewidth": 0,
              "ticks": ""
             }
            },
            "type": "scattergl"
           }
          ],
          "scattermap": [
           {
            "marker": {
             "colorbar": {
              "outlinewidth": 0,
              "ticks": ""
             }
            },
            "type": "scattermap"
           }
          ],
          "scattermapbox": [
           {
            "marker": {
             "colorbar": {
              "outlinewidth": 0,
              "ticks": ""
             }
            },
            "type": "scattermapbox"
           }
          ],
          "scatterpolar": [
           {
            "marker": {
             "colorbar": {
              "outlinewidth": 0,
              "ticks": ""
             }
            },
            "type": "scatterpolar"
           }
          ],
          "scatterpolargl": [
           {
            "marker": {
             "colorbar": {
              "outlinewidth": 0,
              "ticks": ""
             }
            },
            "type": "scatterpolargl"
           }
          ],
          "scatterternary": [
           {
            "marker": {
             "colorbar": {
              "outlinewidth": 0,
              "ticks": ""
             }
            },
            "type": "scatterternary"
           }
          ],
          "surface": [
           {
            "colorbar": {
             "outlinewidth": 0,
             "ticks": ""
            },
            "colorscale": [
             [
              0,
              "#0d0887"
             ],
             [
              0.1111111111111111,
              "#46039f"
             ],
             [
              0.2222222222222222,
              "#7201a8"
             ],
             [
              0.3333333333333333,
              "#9c179e"
             ],
             [
              0.4444444444444444,
              "#bd3786"
             ],
             [
              0.5555555555555556,
              "#d8576b"
             ],
             [
              0.6666666666666666,
              "#ed7953"
             ],
             [
              0.7777777777777778,
              "#fb9f3a"
             ],
             [
              0.8888888888888888,
              "#fdca26"
             ],
             [
              1,
              "#f0f921"
             ]
            ],
            "type": "surface"
           }
          ],
          "table": [
           {
            "cells": {
             "fill": {
              "color": "#EBF0F8"
             },
             "line": {
              "color": "white"
             }
            },
            "header": {
             "fill": {
              "color": "#C8D4E3"
             },
             "line": {
              "color": "white"
             }
            },
            "type": "table"
           }
          ]
         },
         "layout": {
          "annotationdefaults": {
           "arrowcolor": "#2a3f5f",
           "arrowhead": 0,
           "arrowwidth": 1
          },
          "autotypenumbers": "strict",
          "coloraxis": {
           "colorbar": {
            "outlinewidth": 0,
            "ticks": ""
           }
          },
          "colorscale": {
           "diverging": [
            [
             0,
             "#8e0152"
            ],
            [
             0.1,
             "#c51b7d"
            ],
            [
             0.2,
             "#de77ae"
            ],
            [
             0.3,
             "#f1b6da"
            ],
            [
             0.4,
             "#fde0ef"
            ],
            [
             0.5,
             "#f7f7f7"
            ],
            [
             0.6,
             "#e6f5d0"
            ],
            [
             0.7,
             "#b8e186"
            ],
            [
             0.8,
             "#7fbc41"
            ],
            [
             0.9,
             "#4d9221"
            ],
            [
             1,
             "#276419"
            ]
           ],
           "sequential": [
            [
             0,
             "#0d0887"
            ],
            [
             0.1111111111111111,
             "#46039f"
            ],
            [
             0.2222222222222222,
             "#7201a8"
            ],
            [
             0.3333333333333333,
             "#9c179e"
            ],
            [
             0.4444444444444444,
             "#bd3786"
            ],
            [
             0.5555555555555556,
             "#d8576b"
            ],
            [
             0.6666666666666666,
             "#ed7953"
            ],
            [
             0.7777777777777778,
             "#fb9f3a"
            ],
            [
             0.8888888888888888,
             "#fdca26"
            ],
            [
             1,
             "#f0f921"
            ]
           ],
           "sequentialminus": [
            [
             0,
             "#0d0887"
            ],
            [
             0.1111111111111111,
             "#46039f"
            ],
            [
             0.2222222222222222,
             "#7201a8"
            ],
            [
             0.3333333333333333,
             "#9c179e"
            ],
            [
             0.4444444444444444,
             "#bd3786"
            ],
            [
             0.5555555555555556,
             "#d8576b"
            ],
            [
             0.6666666666666666,
             "#ed7953"
            ],
            [
             0.7777777777777778,
             "#fb9f3a"
            ],
            [
             0.8888888888888888,
             "#fdca26"
            ],
            [
             1,
             "#f0f921"
            ]
           ]
          },
          "colorway": [
           "#636efa",
           "#EF553B",
           "#00cc96",
           "#ab63fa",
           "#FFA15A",
           "#19d3f3",
           "#FF6692",
           "#B6E880",
           "#FF97FF",
           "#FECB52"
          ],
          "font": {
           "color": "#2a3f5f"
          },
          "geo": {
           "bgcolor": "white",
           "lakecolor": "white",
           "landcolor": "#E5ECF6",
           "showlakes": true,
           "showland": true,
           "subunitcolor": "white"
          },
          "hoverlabel": {
           "align": "left"
          },
          "hovermode": "closest",
          "mapbox": {
           "style": "light"
          },
          "paper_bgcolor": "white",
          "plot_bgcolor": "#E5ECF6",
          "polar": {
           "angularaxis": {
            "gridcolor": "white",
            "linecolor": "white",
            "ticks": ""
           },
           "bgcolor": "#E5ECF6",
           "radialaxis": {
            "gridcolor": "white",
            "linecolor": "white",
            "ticks": ""
           }
          },
          "scene": {
           "xaxis": {
            "backgroundcolor": "#E5ECF6",
            "gridcolor": "white",
            "gridwidth": 2,
            "linecolor": "white",
            "showbackground": true,
            "ticks": "",
            "zerolinecolor": "white"
           },
           "yaxis": {
            "backgroundcolor": "#E5ECF6",
            "gridcolor": "white",
            "gridwidth": 2,
            "linecolor": "white",
            "showbackground": true,
            "ticks": "",
            "zerolinecolor": "white"
           },
           "zaxis": {
            "backgroundcolor": "#E5ECF6",
            "gridcolor": "white",
            "gridwidth": 2,
            "linecolor": "white",
            "showbackground": true,
            "ticks": "",
            "zerolinecolor": "white"
           }
          },
          "shapedefaults": {
           "line": {
            "color": "#2a3f5f"
           }
          },
          "ternary": {
           "aaxis": {
            "gridcolor": "white",
            "linecolor": "white",
            "ticks": ""
           },
           "baxis": {
            "gridcolor": "white",
            "linecolor": "white",
            "ticks": ""
           },
           "bgcolor": "#E5ECF6",
           "caxis": {
            "gridcolor": "white",
            "linecolor": "white",
            "ticks": ""
           }
          },
          "title": {
           "x": 0.05
          },
          "xaxis": {
           "automargin": true,
           "gridcolor": "white",
           "linecolor": "white",
           "ticks": "",
           "title": {
            "standoff": 15
           },
           "zerolinecolor": "white",
           "zerolinewidth": 2
          },
          "yaxis": {
           "automargin": true,
           "gridcolor": "white",
           "linecolor": "white",
           "ticks": "",
           "title": {
            "standoff": 15
           },
           "zerolinecolor": "white",
           "zerolinewidth": 2
          }
         }
        },
        "title": {
         "text": "EDR Class Distribution in Each Batch - Task ID 3"
        },
        "xaxis": {
         "anchor": "y",
         "domain": [
          0,
          1
         ],
         "title": {
          "text": "Classes"
         }
        },
        "yaxis": {
         "anchor": "x",
         "autorange": "reversed",
         "domain": [
          0,
          1
         ],
         "title": {
          "text": "Batches"
         }
        }
       }
      }
     },
     "metadata": {},
     "output_type": "display_data"
    }
   ],
   "source": [
    "import numpy as np\n",
    "import plotly.express as px\n",
    "\n",
    "task_id = 3\n",
    "\n",
    "df = pd.read_csv(\"../_0.4_batch_size_32_buffer_size_128_num_tasks_5_hidden_size_64_eval_window_size_128_continual_evaluations_5_delay_label_100_start_delay_size_0_number_delayed_batches_1/cl_batches_y_ExperienceDelayReplay.log\", \n",
    "                 names=[\"task_id\", \"step\", \"class_0\", \"class_1\", \"class_2\", \"class_3\", \"class_4\", \"class_5\", \"class_6\", \n",
    "                            \"class_7\", \"class_8\", \"class_9\"])\n",
    "\n",
    "df = df.drop(columns=[\"step\"])\n",
    "df_plot = df.loc[df.task_id == task_id].reset_index(drop=True).copy()\n",
    "# df_plot = pd.concat([df_plot[:10], df_plot[80:90], df_plot[115:125]], ignore_index=True)\n",
    "df_plot.drop(columns=[\"task_id\"], inplace=True)\n",
    "\n",
    "# Criação do heatmap interativo (classe no eixo Y, batch no eixo X)\n",
    "fig = px.imshow(\n",
    "    df_plot,\n",
    "    labels=dict(x=\"Classes\", y=\"Batches\", color=\"Number of Instances\"),\n",
    "    # x=[f\"Batch {i}\" for i in range(1, num_batches+1)],\n",
    "    # y=[f\"Classe {i}\" for i in range(num_classes)],\n",
    "    aspect=\"auto\",\n",
    "    color_continuous_scale=\"Viridis\",\n",
    "    origin=\"upper\",  # garante que Classe 0 fique em cima\n",
    "    # text_auto=True\n",
    ")\n",
    "\n",
    "fig.update_layout(\n",
    "    title=\"EDR Class Distribution in Each Batch - Task ID {}\".format(task_id),\n",
    "    xaxis_title=\"Classes\",\n",
    "    yaxis_title=\"Batches\",\n",
    "    height=900,\n",
    ")\n",
    "\n",
    "fig.show()"
   ]
  },
  {
   "cell_type": "markdown",
   "id": "8d18c752",
   "metadata": {},
   "source": [
    "<!-- ### results_plot_mnist_['EDR', 'ER']_False_[]_32_5_0_32_150_2/train_batches_y_ExperienceDelayReplay.log -->\n",
    "#### Task 4\n",
    "#### Classes 2, 6"
   ]
  },
  {
   "cell_type": "code",
   "execution_count": 23,
   "id": "59e0dccc",
   "metadata": {},
   "outputs": [
    {
     "data": {
      "application/vnd.plotly.v1+json": {
       "config": {
        "plotlyServerURL": "https://plot.ly"
       },
       "data": [
        {
         "coloraxis": "coloraxis",
         "hovertemplate": "Classes: %{x}<br>Batches: %{y}<br>Number of Instances: %{z}<extra></extra>",
         "name": "0",
         "type": "heatmap",
         "x": [
          "class_0",
          "class_1",
          "class_2",
          "class_3",
          "class_4",
          "class_5",
          "class_6",
          "class_7",
          "class_8",
          "class_9"
         ],
         "xaxis": "x",
         "y": {
          "bdata": "AAABAAIAAwAEAAUABgAHAAgACQAKAAsADAANAA4ADwAQABEAEgATABQAFQAWABcAGAAZABoAGwAcAB0AHgAfACAAIQAiACMAJAAlACYAJwAoACkAKgArACwALQAuAC8AMAAxADIAMwA0ADUANgA3ADgAOQA6ADsAPAA9AD4APwBAAEEAQgBDAEQARQBGAEcASABJAEoASwBMAE0ATgBPAFAAUQBSAFMAVABVAFYAVwBYAFkAWgBbAFwAXQBeAF8AYABhAGIAYwBkAGUAZgBnAGgAaQBqAGsAbABtAG4AbwBwAHEAcgBzAHQAdQB2AHcAeAB5AHoAewB8AH0AfgB/AIAAgQCCAIMAhACFAIYAhwCIAIkAigCLAIwAjQCOAI8AkACRAJIAkwCUAJUAlgCXAJgAmQCaAJsAnACdAJ4AnwCgAKEAogCjAKQApQCmAKcAqACpAKoAqwCsAK0ArgCvALAAsQCyALMAtAC1ALYAtwC4ALkAugC7ALwAvQC+AL8AwADBAMIAwwDEAMUAxgDHAMgAyQDKAMsAzADNAM4AzwDQANEA0gDTANQA1QDWANcA2ADZANoA2wDcAN0A3gDfAOAA4QDiAOMA5ADlAOYA5wDoAOkA6gDrAOwA7QDuAO8A8ADxAPIA8wD0APUA9gD3APgA+QD6APsA/AD9AP4A/wAAAQEBAgEDAQQBBQEGAQcBCAEJAQoBCwEMAQ0BDgEPARABEQESARMBFAEVARYBFwEYARkBGgEbAQ==",
          "dtype": "i2"
         },
         "yaxis": "y",
         "z": {
          "bdata": "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",
          "dtype": "i1",
          "shape": "284, 10"
         }
        }
       ],
       "layout": {
        "coloraxis": {
         "colorbar": {
          "title": {
           "text": "Number of Instances"
          }
         },
         "colorscale": [
          [
           0,
           "#440154"
          ],
          [
           0.1111111111111111,
           "#482878"
          ],
          [
           0.2222222222222222,
           "#3e4989"
          ],
          [
           0.3333333333333333,
           "#31688e"
          ],
          [
           0.4444444444444444,
           "#26828e"
          ],
          [
           0.5555555555555556,
           "#1f9e89"
          ],
          [
           0.6666666666666666,
           "#35b779"
          ],
          [
           0.7777777777777778,
           "#6ece58"
          ],
          [
           0.8888888888888888,
           "#b5de2b"
          ],
          [
           1,
           "#fde725"
          ]
         ]
        },
        "height": 900,
        "margin": {
         "t": 60
        },
        "template": {
         "data": {
          "bar": [
           {
            "error_x": {
             "color": "#2a3f5f"
            },
            "error_y": {
             "color": "#2a3f5f"
            },
            "marker": {
             "line": {
              "color": "#E5ECF6",
              "width": 0.5
             },
             "pattern": {
              "fillmode": "overlay",
              "size": 10,
              "solidity": 0.2
             }
            },
            "type": "bar"
           }
          ],
          "barpolar": [
           {
            "marker": {
             "line": {
              "color": "#E5ECF6",
              "width": 0.5
             },
             "pattern": {
              "fillmode": "overlay",
              "size": 10,
              "solidity": 0.2
             }
            },
            "type": "barpolar"
           }
          ],
          "carpet": [
           {
            "aaxis": {
             "endlinecolor": "#2a3f5f",
             "gridcolor": "white",
             "linecolor": "white",
             "minorgridcolor": "white",
             "startlinecolor": "#2a3f5f"
            },
            "baxis": {
             "endlinecolor": "#2a3f5f",
             "gridcolor": "white",
             "linecolor": "white",
             "minorgridcolor": "white",
             "startlinecolor": "#2a3f5f"
            },
            "type": "carpet"
           }
          ],
          "choropleth": [
           {
            "colorbar": {
             "outlinewidth": 0,
             "ticks": ""
            },
            "type": "choropleth"
           }
          ],
          "contour": [
           {
            "colorbar": {
             "outlinewidth": 0,
             "ticks": ""
            },
            "colorscale": [
             [
              0,
              "#0d0887"
             ],
             [
              0.1111111111111111,
              "#46039f"
             ],
             [
              0.2222222222222222,
              "#7201a8"
             ],
             [
              0.3333333333333333,
              "#9c179e"
             ],
             [
              0.4444444444444444,
              "#bd3786"
             ],
             [
              0.5555555555555556,
              "#d8576b"
             ],
             [
              0.6666666666666666,
              "#ed7953"
             ],
             [
              0.7777777777777778,
              "#fb9f3a"
             ],
             [
              0.8888888888888888,
              "#fdca26"
             ],
             [
              1,
              "#f0f921"
             ]
            ],
            "type": "contour"
           }
          ],
          "contourcarpet": [
           {
            "colorbar": {
             "outlinewidth": 0,
             "ticks": ""
            },
            "type": "contourcarpet"
           }
          ],
          "heatmap": [
           {
            "colorbar": {
             "outlinewidth": 0,
             "ticks": ""
            },
            "colorscale": [
             [
              0,
              "#0d0887"
             ],
             [
              0.1111111111111111,
              "#46039f"
             ],
             [
              0.2222222222222222,
              "#7201a8"
             ],
             [
              0.3333333333333333,
              "#9c179e"
             ],
             [
              0.4444444444444444,
              "#bd3786"
             ],
             [
              0.5555555555555556,
              "#d8576b"
             ],
             [
              0.6666666666666666,
              "#ed7953"
             ],
             [
              0.7777777777777778,
              "#fb9f3a"
             ],
             [
              0.8888888888888888,
              "#fdca26"
             ],
             [
              1,
              "#f0f921"
             ]
            ],
            "type": "heatmap"
           }
          ],
          "histogram": [
           {
            "marker": {
             "pattern": {
              "fillmode": "overlay",
              "size": 10,
              "solidity": 0.2
             }
            },
            "type": "histogram"
           }
          ],
          "histogram2d": [
           {
            "colorbar": {
             "outlinewidth": 0,
             "ticks": ""
            },
            "colorscale": [
             [
              0,
              "#0d0887"
             ],
             [
              0.1111111111111111,
              "#46039f"
             ],
             [
              0.2222222222222222,
              "#7201a8"
             ],
             [
              0.3333333333333333,
              "#9c179e"
             ],
             [
              0.4444444444444444,
              "#bd3786"
             ],
             [
              0.5555555555555556,
              "#d8576b"
             ],
             [
              0.6666666666666666,
              "#ed7953"
             ],
             [
              0.7777777777777778,
              "#fb9f3a"
             ],
             [
              0.8888888888888888,
              "#fdca26"
             ],
             [
              1,
              "#f0f921"
             ]
            ],
            "type": "histogram2d"
           }
          ],
          "histogram2dcontour": [
           {
            "colorbar": {
             "outlinewidth": 0,
             "ticks": ""
            },
            "colorscale": [
             [
              0,
              "#0d0887"
             ],
             [
              0.1111111111111111,
              "#46039f"
             ],
             [
              0.2222222222222222,
              "#7201a8"
             ],
             [
              0.3333333333333333,
              "#9c179e"
             ],
             [
              0.4444444444444444,
              "#bd3786"
             ],
             [
              0.5555555555555556,
              "#d8576b"
             ],
             [
              0.6666666666666666,
              "#ed7953"
             ],
             [
              0.7777777777777778,
              "#fb9f3a"
             ],
             [
              0.8888888888888888,
              "#fdca26"
             ],
             [
              1,
              "#f0f921"
             ]
            ],
            "type": "histogram2dcontour"
           }
          ],
          "mesh3d": [
           {
            "colorbar": {
             "outlinewidth": 0,
             "ticks": ""
            },
            "type": "mesh3d"
           }
          ],
          "parcoords": [
           {
            "line": {
             "colorbar": {
              "outlinewidth": 0,
              "ticks": ""
             }
            },
            "type": "parcoords"
           }
          ],
          "pie": [
           {
            "automargin": true,
            "type": "pie"
           }
          ],
          "scatter": [
           {
            "fillpattern": {
             "fillmode": "overlay",
             "size": 10,
             "solidity": 0.2
            },
            "type": "scatter"
           }
          ],
          "scatter3d": [
           {
            "line": {
             "colorbar": {
              "outlinewidth": 0,
              "ticks": ""
             }
            },
            "marker": {
             "colorbar": {
              "outlinewidth": 0,
              "ticks": ""
             }
            },
            "type": "scatter3d"
           }
          ],
          "scattercarpet": [
           {
            "marker": {
             "colorbar": {
              "outlinewidth": 0,
              "ticks": ""
             }
            },
            "type": "scattercarpet"
           }
          ],
          "scattergeo": [
           {
            "marker": {
             "colorbar": {
              "outlinewidth": 0,
              "ticks": ""
             }
            },
            "type": "scattergeo"
           }
          ],
          "scattergl": [
           {
            "marker": {
             "colorbar": {
              "outlinewidth": 0,
              "ticks": ""
             }
            },
            "type": "scattergl"
           }
          ],
          "scattermap": [
           {
            "marker": {
             "colorbar": {
              "outlinewidth": 0,
              "ticks": ""
             }
            },
            "type": "scattermap"
           }
          ],
          "scattermapbox": [
           {
            "marker": {
             "colorbar": {
              "outlinewidth": 0,
              "ticks": ""
             }
            },
            "type": "scattermapbox"
           }
          ],
          "scatterpolar": [
           {
            "marker": {
             "colorbar": {
              "outlinewidth": 0,
              "ticks": ""
             }
            },
            "type": "scatterpolar"
           }
          ],
          "scatterpolargl": [
           {
            "marker": {
             "colorbar": {
              "outlinewidth": 0,
              "ticks": ""
             }
            },
            "type": "scatterpolargl"
           }
          ],
          "scatterternary": [
           {
            "marker": {
             "colorbar": {
              "outlinewidth": 0,
              "ticks": ""
             }
            },
            "type": "scatterternary"
           }
          ],
          "surface": [
           {
            "colorbar": {
             "outlinewidth": 0,
             "ticks": ""
            },
            "colorscale": [
             [
              0,
              "#0d0887"
             ],
             [
              0.1111111111111111,
              "#46039f"
             ],
             [
              0.2222222222222222,
              "#7201a8"
             ],
             [
              0.3333333333333333,
              "#9c179e"
             ],
             [
              0.4444444444444444,
              "#bd3786"
             ],
             [
              0.5555555555555556,
              "#d8576b"
             ],
             [
              0.6666666666666666,
              "#ed7953"
             ],
             [
              0.7777777777777778,
              "#fb9f3a"
             ],
             [
              0.8888888888888888,
              "#fdca26"
             ],
             [
              1,
              "#f0f921"
             ]
            ],
            "type": "surface"
           }
          ],
          "table": [
           {
            "cells": {
             "fill": {
              "color": "#EBF0F8"
             },
             "line": {
              "color": "white"
             }
            },
            "header": {
             "fill": {
              "color": "#C8D4E3"
             },
             "line": {
              "color": "white"
             }
            },
            "type": "table"
           }
          ]
         },
         "layout": {
          "annotationdefaults": {
           "arrowcolor": "#2a3f5f",
           "arrowhead": 0,
           "arrowwidth": 1
          },
          "autotypenumbers": "strict",
          "coloraxis": {
           "colorbar": {
            "outlinewidth": 0,
            "ticks": ""
           }
          },
          "colorscale": {
           "diverging": [
            [
             0,
             "#8e0152"
            ],
            [
             0.1,
             "#c51b7d"
            ],
            [
             0.2,
             "#de77ae"
            ],
            [
             0.3,
             "#f1b6da"
            ],
            [
             0.4,
             "#fde0ef"
            ],
            [
             0.5,
             "#f7f7f7"
            ],
            [
             0.6,
             "#e6f5d0"
            ],
            [
             0.7,
             "#b8e186"
            ],
            [
             0.8,
             "#7fbc41"
            ],
            [
             0.9,
             "#4d9221"
            ],
            [
             1,
             "#276419"
            ]
           ],
           "sequential": [
            [
             0,
             "#0d0887"
            ],
            [
             0.1111111111111111,
             "#46039f"
            ],
            [
             0.2222222222222222,
             "#7201a8"
            ],
            [
             0.3333333333333333,
             "#9c179e"
            ],
            [
             0.4444444444444444,
             "#bd3786"
            ],
            [
             0.5555555555555556,
             "#d8576b"
            ],
            [
             0.6666666666666666,
             "#ed7953"
            ],
            [
             0.7777777777777778,
             "#fb9f3a"
            ],
            [
             0.8888888888888888,
             "#fdca26"
            ],
            [
             1,
             "#f0f921"
            ]
           ],
           "sequentialminus": [
            [
             0,
             "#0d0887"
            ],
            [
             0.1111111111111111,
             "#46039f"
            ],
            [
             0.2222222222222222,
             "#7201a8"
            ],
            [
             0.3333333333333333,
             "#9c179e"
            ],
            [
             0.4444444444444444,
             "#bd3786"
            ],
            [
             0.5555555555555556,
             "#d8576b"
            ],
            [
             0.6666666666666666,
             "#ed7953"
            ],
            [
             0.7777777777777778,
             "#fb9f3a"
            ],
            [
             0.8888888888888888,
             "#fdca26"
            ],
            [
             1,
             "#f0f921"
            ]
           ]
          },
          "colorway": [
           "#636efa",
           "#EF553B",
           "#00cc96",
           "#ab63fa",
           "#FFA15A",
           "#19d3f3",
           "#FF6692",
           "#B6E880",
           "#FF97FF",
           "#FECB52"
          ],
          "font": {
           "color": "#2a3f5f"
          },
          "geo": {
           "bgcolor": "white",
           "lakecolor": "white",
           "landcolor": "#E5ECF6",
           "showlakes": true,
           "showland": true,
           "subunitcolor": "white"
          },
          "hoverlabel": {
           "align": "left"
          },
          "hovermode": "closest",
          "mapbox": {
           "style": "light"
          },
          "paper_bgcolor": "white",
          "plot_bgcolor": "#E5ECF6",
          "polar": {
           "angularaxis": {
            "gridcolor": "white",
            "linecolor": "white",
            "ticks": ""
           },
           "bgcolor": "#E5ECF6",
           "radialaxis": {
            "gridcolor": "white",
            "linecolor": "white",
            "ticks": ""
           }
          },
          "scene": {
           "xaxis": {
            "backgroundcolor": "#E5ECF6",
            "gridcolor": "white",
            "gridwidth": 2,
            "linecolor": "white",
            "showbackground": true,
            "ticks": "",
            "zerolinecolor": "white"
           },
           "yaxis": {
            "backgroundcolor": "#E5ECF6",
            "gridcolor": "white",
            "gridwidth": 2,
            "linecolor": "white",
            "showbackground": true,
            "ticks": "",
            "zerolinecolor": "white"
           },
           "zaxis": {
            "backgroundcolor": "#E5ECF6",
            "gridcolor": "white",
            "gridwidth": 2,
            "linecolor": "white",
            "showbackground": true,
            "ticks": "",
            "zerolinecolor": "white"
           }
          },
          "shapedefaults": {
           "line": {
            "color": "#2a3f5f"
           }
          },
          "ternary": {
           "aaxis": {
            "gridcolor": "white",
            "linecolor": "white",
            "ticks": ""
           },
           "baxis": {
            "gridcolor": "white",
            "linecolor": "white",
            "ticks": ""
           },
           "bgcolor": "#E5ECF6",
           "caxis": {
            "gridcolor": "white",
            "linecolor": "white",
            "ticks": ""
           }
          },
          "title": {
           "x": 0.05
          },
          "xaxis": {
           "automargin": true,
           "gridcolor": "white",
           "linecolor": "white",
           "ticks": "",
           "title": {
            "standoff": 15
           },
           "zerolinecolor": "white",
           "zerolinewidth": 2
          },
          "yaxis": {
           "automargin": true,
           "gridcolor": "white",
           "linecolor": "white",
           "ticks": "",
           "title": {
            "standoff": 15
           },
           "zerolinecolor": "white",
           "zerolinewidth": 2
          }
         }
        },
        "title": {
         "text": "EDR Class Distribution in Each Batch - Task ID 4"
        },
        "xaxis": {
         "anchor": "y",
         "domain": [
          0,
          1
         ],
         "title": {
          "text": "Classes"
         }
        },
        "yaxis": {
         "anchor": "x",
         "autorange": "reversed",
         "domain": [
          0,
          1
         ],
         "title": {
          "text": "Batches"
         }
        }
       }
      }
     },
     "metadata": {},
     "output_type": "display_data"
    }
   ],
   "source": [
    "import numpy as np\n",
    "import plotly.express as px\n",
    "\n",
    "task_id = 4\n",
    "\n",
    "df = pd.read_csv(\"../_0.4_batch_size_32_buffer_size_128_num_tasks_5_hidden_size_64_eval_window_size_128_continual_evaluations_5_delay_label_100_start_delay_size_0_number_delayed_batches_1/cl_batches_y_ExperienceDelayReplay.log\", \n",
    "                 names=[\"task_id\", \"step\", \"class_0\", \"class_1\", \"class_2\", \"class_3\", \"class_4\", \"class_5\", \"class_6\", \n",
    "                            \"class_7\", \"class_8\", \"class_9\"])\n",
    "\n",
    "df = df.drop(columns=[\"step\"])\n",
    "df_plot = df.loc[df.task_id == task_id].reset_index(drop=True).copy()\n",
    "# df_plot = pd.concat([df_plot[:10], df_plot[80:90], df_plot[115:125]], ignore_index=True)\n",
    "df_plot.drop(columns=[\"task_id\"], inplace=True)\n",
    "\n",
    "# Criação do heatmap interativo (classe no eixo Y, batch no eixo X)\n",
    "fig = px.imshow(\n",
    "    df_plot,\n",
    "    labels=dict(x=\"Classes\", y=\"Batches\", color=\"Number of Instances\"),\n",
    "    # x=[f\"Batch {i}\" for i in range(1, num_batches+1)],\n",
    "    # y=[f\"Classe {i}\" for i in range(num_classes)],\n",
    "    aspect=\"auto\",\n",
    "    color_continuous_scale=\"Viridis\",\n",
    "    origin=\"upper\",  # garante que Classe 0 fique em cima\n",
    "    # text_auto=True\n",
    ")\n",
    "\n",
    "fig.update_layout(\n",
    "    title=\"EDR Class Distribution in Each Batch - Task ID {}\".format(task_id),\n",
    "    xaxis_title=\"Classes\",\n",
    "    yaxis_title=\"Batches\",\n",
    "    height=900,\n",
    ")\n",
    "\n",
    "fig.show()\n"
   ]
  }
 ],
 "metadata": {
  "kernelspec": {
   "display_name": ".venv (3.10.12)",
   "language": "python",
   "name": "python3"
  },
  "language_info": {
   "codemirror_mode": {
    "name": "ipython",
    "version": 3
   },
   "file_extension": ".py",
   "mimetype": "text/x-python",
   "name": "python",
   "nbconvert_exporter": "python",
   "pygments_lexer": "ipython3",
   "version": "3.10.12"
  }
 },
 "nbformat": 4,
 "nbformat_minor": 5
}
