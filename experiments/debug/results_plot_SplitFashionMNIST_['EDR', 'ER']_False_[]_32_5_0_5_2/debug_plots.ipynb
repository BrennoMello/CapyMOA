{
 "cells": [
  {
   "cell_type": "code",
   "execution_count": 1,
   "id": "ab446b5d",
   "metadata": {},
   "outputs": [],
   "source": [
    "import numpy as np\n",
    "import pandas as pd\n",
    "import plotly.express as px"
   ]
  },
  {
   "cell_type": "markdown",
   "id": "38db5f4c",
   "metadata": {},
   "source": [
    "##### Batch_size: 32\n",
    "##### Delay: 5 batches\n",
    "##### Number of batches available for training after the delay: 2"
   ]
  },
  {
   "cell_type": "markdown",
   "id": "7b68f3b3",
   "metadata": {},
   "source": [
    "<!-- results_plot_mnist_['EDR', 'ER']_False_[]_32_5_0_32_150_2/train_batches_y_ExperienceDelayReplay.log -->\n",
    "\n",
    "#### Task 0\n",
    "#### Real Classes 1, 4\n"
   ]
  },
  {
   "cell_type": "code",
   "execution_count": 2,
   "id": "9c53dfb6",
   "metadata": {},
   "outputs": [
    {
     "data": {
      "application/vnd.plotly.v1+json": {
       "config": {
        "plotlyServerURL": "https://plot.ly"
       },
       "data": [
        {
         "coloraxis": "coloraxis",
         "hovertemplate": "Classes: %{x}<br>Batches: %{y}<br>Number of Instances: %{z}<extra></extra>",
         "name": "0",
         "type": "heatmap",
         "x": [
          "class_0",
          "class_1",
          "class_2",
          "class_3",
          "class_4",
          "class_5",
          "class_6",
          "class_7",
          "class_8",
          "class_9"
         ],
         "xaxis": "x",
         "y": {
          "bdata": "AAECAwQFBgcICQoLDA0ODxAREhMUFRYXGBkaGxwdHh8gISIjJCUmJygpKissLS4vMDEyMzQ1Njc4OTo7PD0+P0BBQkNERUZHSElKS0xNTk9QUVJTVFVWV1hZWltcXV5fYGFiY2RlZmdoaWprbG1ub3BxcnN0dXZ3eHl6",
          "dtype": "i1"
         },
         "yaxis": "y",
         "z": {
          "bdata": "ADEAAA8AAAAAAAA1AAALAAAAAAAAJgAAGgAAAAAAABkAACcAAAAAAAAeAAAiAAAAAAAAHgAAIgAAAAAAABkAACcAAAAAAAAeAAAiAAAAAAAAHwAAIQAAAAAAACMAAB0AAAAAAAAqAAAWAAAAAAAAJwAAGQAAAAAAADEAAA8AAAAAAAAgAAAgAAAAAAAALQAAEwAAAAAAACoAABYAAAAAAAAnAAAZAAAAAAAAJwAAGQAAAAAAACkAABcAAAAAAAAlAAAbAAAAAAAAJAAAHAAAAAAAACMAAB0AAAAAAAAoAAAYAAAAAAAAIwAAHQAAAAAAACQAABwAAAAAAAAmAAAaAAAAAAAAJgAAGgAAAAAAACQAABwAAAAAAAAoAAAYAAAAAAAAHAAAJAAAAAAAACMAAB0AAAAAAAAmAAAaAAAAAAAAJQAAGwAAAAAAACgAABgAAAAAAAAlAAAbAAAAAAAAJQAAGwAAAAAAAC0AABMAAAAAAAAoAAAYAAAAAAAAIgAAHgAAAAAAACMAAB0AAAAAAAAlAAAbAAAAAAAAIgAAHgAAAAAAACYAABoAAAAAAAAgAAAgAAAAAAAAGQAAJwAAAAAAABgAACgAAAAAAAAgAAAgAAAAAAAAHwAAIQAAAAAAAB0AACMAAAAAAAAhAAAfAAAAAAAAGgAAJgAAAAAAABwAACQAAAAAAAAeAAAiAAAAAAAAHQAAIwAAAAAAABYAACoAAAAAAAAgAAAgAAAAAAAAHgAAIgAAAAAAABgAACgAAAAAAAAdAAAjAAAAAAAAHwAAIQAAAAAAAB8AACEAAAAAAAAcAAAkAAAAAAAAIQAAHwAAAAAAACEAAB8AAAAAAAAhAAAfAAAAAAAAIQAAHwAAAAAAACcAABkAAAAAAAAjAAAdAAAAAAAAJQAAGwAAAAAAAB8AACEAAAAAAAAfAAAhAAAAAAAAGAAAKAAAAAAAACEAAB8AAAAAAAAUAAAsAAAAAAAAIAAAIAAAAAAAABgAACgAAAAAAAAaAAAmAAAAAAAAIgAAHgAAAAAAACMAAB0AAAAAAAAlAAAbAAAAAAAAGgAAJgAAAAAAACIAAB4AAAAAAAAeAAAiAAAAAAAAIgAAHgAAAAAAACQAABwAAAAAAAAnAAAZAAAAAAAAJwAAGQAAAAAAACIAAB4AAAAAAAAfAAAhAAAAAAAAIQAAHwAAAAAAACkAABcAAAAAAAAkAAAcAAAAAAAAJwAAGQAAAAAAAB4AACIAAAAAAAAeAAAiAAAAAAAAGwAAJQAAAAAAAB0AACMAAAAAAAAmAAAaAAAAAAAAGgAAJgAAAAAAAB4AACIAAAAAAAAmAAAaAAAAAAAAJAAAHAAAAAAAACUAABsAAAAAAAAkAAAcAAAAAAAAHwAAIQAAAAAAACIAAB4AAAAAAAAbAAAlAAAAAAAAIAAAIAAAAAAAACUAABsAAAAAAAAkAAAcAAAAAAAAHAAAJAAAAAAAACYAABoAAAAAAAAjAAAdAAAAAAAAHwAAIQAAAAAAACAAACAAAAAAAAAZAAAnAAAAAAAAIAAAIAAAAAAAACUAABsAAAAAAAAiAAAeAAAAAAAAHwAAIQAAAAAAACAAACAAAAAAAAAgAAAgAAAAAAAAHAAAJAAAAAAA",
          "dtype": "i1",
          "shape": "123, 10"
         }
        }
       ],
       "layout": {
        "coloraxis": {
         "colorbar": {
          "title": {
           "text": "Number of Instances"
          }
         },
         "colorscale": [
          [
           0,
           "#440154"
          ],
          [
           0.1111111111111111,
           "#482878"
          ],
          [
           0.2222222222222222,
           "#3e4989"
          ],
          [
           0.3333333333333333,
           "#31688e"
          ],
          [
           0.4444444444444444,
           "#26828e"
          ],
          [
           0.5555555555555556,
           "#1f9e89"
          ],
          [
           0.6666666666666666,
           "#35b779"
          ],
          [
           0.7777777777777778,
           "#6ece58"
          ],
          [
           0.8888888888888888,
           "#b5de2b"
          ],
          [
           1,
           "#fde725"
          ]
         ]
        },
        "height": 900,
        "margin": {
         "t": 60
        },
        "template": {
         "data": {
          "bar": [
           {
            "error_x": {
             "color": "#2a3f5f"
            },
            "error_y": {
             "color": "#2a3f5f"
            },
            "marker": {
             "line": {
              "color": "#E5ECF6",
              "width": 0.5
             },
             "pattern": {
              "fillmode": "overlay",
              "size": 10,
              "solidity": 0.2
             }
            },
            "type": "bar"
           }
          ],
          "barpolar": [
           {
            "marker": {
             "line": {
              "color": "#E5ECF6",
              "width": 0.5
             },
             "pattern": {
              "fillmode": "overlay",
              "size": 10,
              "solidity": 0.2
             }
            },
            "type": "barpolar"
           }
          ],
          "carpet": [
           {
            "aaxis": {
             "endlinecolor": "#2a3f5f",
             "gridcolor": "white",
             "linecolor": "white",
             "minorgridcolor": "white",
             "startlinecolor": "#2a3f5f"
            },
            "baxis": {
             "endlinecolor": "#2a3f5f",
             "gridcolor": "white",
             "linecolor": "white",
             "minorgridcolor": "white",
             "startlinecolor": "#2a3f5f"
            },
            "type": "carpet"
           }
          ],
          "choropleth": [
           {
            "colorbar": {
             "outlinewidth": 0,
             "ticks": ""
            },
            "type": "choropleth"
           }
          ],
          "contour": [
           {
            "colorbar": {
             "outlinewidth": 0,
             "ticks": ""
            },
            "colorscale": [
             [
              0,
              "#0d0887"
             ],
             [
              0.1111111111111111,
              "#46039f"
             ],
             [
              0.2222222222222222,
              "#7201a8"
             ],
             [
              0.3333333333333333,
              "#9c179e"
             ],
             [
              0.4444444444444444,
              "#bd3786"
             ],
             [
              0.5555555555555556,
              "#d8576b"
             ],
             [
              0.6666666666666666,
              "#ed7953"
             ],
             [
              0.7777777777777778,
              "#fb9f3a"
             ],
             [
              0.8888888888888888,
              "#fdca26"
             ],
             [
              1,
              "#f0f921"
             ]
            ],
            "type": "contour"
           }
          ],
          "contourcarpet": [
           {
            "colorbar": {
             "outlinewidth": 0,
             "ticks": ""
            },
            "type": "contourcarpet"
           }
          ],
          "heatmap": [
           {
            "colorbar": {
             "outlinewidth": 0,
             "ticks": ""
            },
            "colorscale": [
             [
              0,
              "#0d0887"
             ],
             [
              0.1111111111111111,
              "#46039f"
             ],
             [
              0.2222222222222222,
              "#7201a8"
             ],
             [
              0.3333333333333333,
              "#9c179e"
             ],
             [
              0.4444444444444444,
              "#bd3786"
             ],
             [
              0.5555555555555556,
              "#d8576b"
             ],
             [
              0.6666666666666666,
              "#ed7953"
             ],
             [
              0.7777777777777778,
              "#fb9f3a"
             ],
             [
              0.8888888888888888,
              "#fdca26"
             ],
             [
              1,
              "#f0f921"
             ]
            ],
            "type": "heatmap"
           }
          ],
          "histogram": [
           {
            "marker": {
             "pattern": {
              "fillmode": "overlay",
              "size": 10,
              "solidity": 0.2
             }
            },
            "type": "histogram"
           }
          ],
          "histogram2d": [
           {
            "colorbar": {
             "outlinewidth": 0,
             "ticks": ""
            },
            "colorscale": [
             [
              0,
              "#0d0887"
             ],
             [
              0.1111111111111111,
              "#46039f"
             ],
             [
              0.2222222222222222,
              "#7201a8"
             ],
             [
              0.3333333333333333,
              "#9c179e"
             ],
             [
              0.4444444444444444,
              "#bd3786"
             ],
             [
              0.5555555555555556,
              "#d8576b"
             ],
             [
              0.6666666666666666,
              "#ed7953"
             ],
             [
              0.7777777777777778,
              "#fb9f3a"
             ],
             [
              0.8888888888888888,
              "#fdca26"
             ],
             [
              1,
              "#f0f921"
             ]
            ],
            "type": "histogram2d"
           }
          ],
          "histogram2dcontour": [
           {
            "colorbar": {
             "outlinewidth": 0,
             "ticks": ""
            },
            "colorscale": [
             [
              0,
              "#0d0887"
             ],
             [
              0.1111111111111111,
              "#46039f"
             ],
             [
              0.2222222222222222,
              "#7201a8"
             ],
             [
              0.3333333333333333,
              "#9c179e"
             ],
             [
              0.4444444444444444,
              "#bd3786"
             ],
             [
              0.5555555555555556,
              "#d8576b"
             ],
             [
              0.6666666666666666,
              "#ed7953"
             ],
             [
              0.7777777777777778,
              "#fb9f3a"
             ],
             [
              0.8888888888888888,
              "#fdca26"
             ],
             [
              1,
              "#f0f921"
             ]
            ],
            "type": "histogram2dcontour"
           }
          ],
          "mesh3d": [
           {
            "colorbar": {
             "outlinewidth": 0,
             "ticks": ""
            },
            "type": "mesh3d"
           }
          ],
          "parcoords": [
           {
            "line": {
             "colorbar": {
              "outlinewidth": 0,
              "ticks": ""
             }
            },
            "type": "parcoords"
           }
          ],
          "pie": [
           {
            "automargin": true,
            "type": "pie"
           }
          ],
          "scatter": [
           {
            "fillpattern": {
             "fillmode": "overlay",
             "size": 10,
             "solidity": 0.2
            },
            "type": "scatter"
           }
          ],
          "scatter3d": [
           {
            "line": {
             "colorbar": {
              "outlinewidth": 0,
              "ticks": ""
             }
            },
            "marker": {
             "colorbar": {
              "outlinewidth": 0,
              "ticks": ""
             }
            },
            "type": "scatter3d"
           }
          ],
          "scattercarpet": [
           {
            "marker": {
             "colorbar": {
              "outlinewidth": 0,
              "ticks": ""
             }
            },
            "type": "scattercarpet"
           }
          ],
          "scattergeo": [
           {
            "marker": {
             "colorbar": {
              "outlinewidth": 0,
              "ticks": ""
             }
            },
            "type": "scattergeo"
           }
          ],
          "scattergl": [
           {
            "marker": {
             "colorbar": {
              "outlinewidth": 0,
              "ticks": ""
             }
            },
            "type": "scattergl"
           }
          ],
          "scattermap": [
           {
            "marker": {
             "colorbar": {
              "outlinewidth": 0,
              "ticks": ""
             }
            },
            "type": "scattermap"
           }
          ],
          "scattermapbox": [
           {
            "marker": {
             "colorbar": {
              "outlinewidth": 0,
              "ticks": ""
             }
            },
            "type": "scattermapbox"
           }
          ],
          "scatterpolar": [
           {
            "marker": {
             "colorbar": {
              "outlinewidth": 0,
              "ticks": ""
             }
            },
            "type": "scatterpolar"
           }
          ],
          "scatterpolargl": [
           {
            "marker": {
             "colorbar": {
              "outlinewidth": 0,
              "ticks": ""
             }
            },
            "type": "scatterpolargl"
           }
          ],
          "scatterternary": [
           {
            "marker": {
             "colorbar": {
              "outlinewidth": 0,
              "ticks": ""
             }
            },
            "type": "scatterternary"
           }
          ],
          "surface": [
           {
            "colorbar": {
             "outlinewidth": 0,
             "ticks": ""
            },
            "colorscale": [
             [
              0,
              "#0d0887"
             ],
             [
              0.1111111111111111,
              "#46039f"
             ],
             [
              0.2222222222222222,
              "#7201a8"
             ],
             [
              0.3333333333333333,
              "#9c179e"
             ],
             [
              0.4444444444444444,
              "#bd3786"
             ],
             [
              0.5555555555555556,
              "#d8576b"
             ],
             [
              0.6666666666666666,
              "#ed7953"
             ],
             [
              0.7777777777777778,
              "#fb9f3a"
             ],
             [
              0.8888888888888888,
              "#fdca26"
             ],
             [
              1,
              "#f0f921"
             ]
            ],
            "type": "surface"
           }
          ],
          "table": [
           {
            "cells": {
             "fill": {
              "color": "#EBF0F8"
             },
             "line": {
              "color": "white"
             }
            },
            "header": {
             "fill": {
              "color": "#C8D4E3"
             },
             "line": {
              "color": "white"
             }
            },
            "type": "table"
           }
          ]
         },
         "layout": {
          "annotationdefaults": {
           "arrowcolor": "#2a3f5f",
           "arrowhead": 0,
           "arrowwidth": 1
          },
          "autotypenumbers": "strict",
          "coloraxis": {
           "colorbar": {
            "outlinewidth": 0,
            "ticks": ""
           }
          },
          "colorscale": {
           "diverging": [
            [
             0,
             "#8e0152"
            ],
            [
             0.1,
             "#c51b7d"
            ],
            [
             0.2,
             "#de77ae"
            ],
            [
             0.3,
             "#f1b6da"
            ],
            [
             0.4,
             "#fde0ef"
            ],
            [
             0.5,
             "#f7f7f7"
            ],
            [
             0.6,
             "#e6f5d0"
            ],
            [
             0.7,
             "#b8e186"
            ],
            [
             0.8,
             "#7fbc41"
            ],
            [
             0.9,
             "#4d9221"
            ],
            [
             1,
             "#276419"
            ]
           ],
           "sequential": [
            [
             0,
             "#0d0887"
            ],
            [
             0.1111111111111111,
             "#46039f"
            ],
            [
             0.2222222222222222,
             "#7201a8"
            ],
            [
             0.3333333333333333,
             "#9c179e"
            ],
            [
             0.4444444444444444,
             "#bd3786"
            ],
            [
             0.5555555555555556,
             "#d8576b"
            ],
            [
             0.6666666666666666,
             "#ed7953"
            ],
            [
             0.7777777777777778,
             "#fb9f3a"
            ],
            [
             0.8888888888888888,
             "#fdca26"
            ],
            [
             1,
             "#f0f921"
            ]
           ],
           "sequentialminus": [
            [
             0,
             "#0d0887"
            ],
            [
             0.1111111111111111,
             "#46039f"
            ],
            [
             0.2222222222222222,
             "#7201a8"
            ],
            [
             0.3333333333333333,
             "#9c179e"
            ],
            [
             0.4444444444444444,
             "#bd3786"
            ],
            [
             0.5555555555555556,
             "#d8576b"
            ],
            [
             0.6666666666666666,
             "#ed7953"
            ],
            [
             0.7777777777777778,
             "#fb9f3a"
            ],
            [
             0.8888888888888888,
             "#fdca26"
            ],
            [
             1,
             "#f0f921"
            ]
           ]
          },
          "colorway": [
           "#636efa",
           "#EF553B",
           "#00cc96",
           "#ab63fa",
           "#FFA15A",
           "#19d3f3",
           "#FF6692",
           "#B6E880",
           "#FF97FF",
           "#FECB52"
          ],
          "font": {
           "color": "#2a3f5f"
          },
          "geo": {
           "bgcolor": "white",
           "lakecolor": "white",
           "landcolor": "#E5ECF6",
           "showlakes": true,
           "showland": true,
           "subunitcolor": "white"
          },
          "hoverlabel": {
           "align": "left"
          },
          "hovermode": "closest",
          "mapbox": {
           "style": "light"
          },
          "paper_bgcolor": "white",
          "plot_bgcolor": "#E5ECF6",
          "polar": {
           "angularaxis": {
            "gridcolor": "white",
            "linecolor": "white",
            "ticks": ""
           },
           "bgcolor": "#E5ECF6",
           "radialaxis": {
            "gridcolor": "white",
            "linecolor": "white",
            "ticks": ""
           }
          },
          "scene": {
           "xaxis": {
            "backgroundcolor": "#E5ECF6",
            "gridcolor": "white",
            "gridwidth": 2,
            "linecolor": "white",
            "showbackground": true,
            "ticks": "",
            "zerolinecolor": "white"
           },
           "yaxis": {
            "backgroundcolor": "#E5ECF6",
            "gridcolor": "white",
            "gridwidth": 2,
            "linecolor": "white",
            "showbackground": true,
            "ticks": "",
            "zerolinecolor": "white"
           },
           "zaxis": {
            "backgroundcolor": "#E5ECF6",
            "gridcolor": "white",
            "gridwidth": 2,
            "linecolor": "white",
            "showbackground": true,
            "ticks": "",
            "zerolinecolor": "white"
           }
          },
          "shapedefaults": {
           "line": {
            "color": "#2a3f5f"
           }
          },
          "ternary": {
           "aaxis": {
            "gridcolor": "white",
            "linecolor": "white",
            "ticks": ""
           },
           "baxis": {
            "gridcolor": "white",
            "linecolor": "white",
            "ticks": ""
           },
           "bgcolor": "#E5ECF6",
           "caxis": {
            "gridcolor": "white",
            "linecolor": "white",
            "ticks": ""
           }
          },
          "title": {
           "x": 0.05
          },
          "xaxis": {
           "automargin": true,
           "gridcolor": "white",
           "linecolor": "white",
           "ticks": "",
           "title": {
            "standoff": 15
           },
           "zerolinecolor": "white",
           "zerolinewidth": 2
          },
          "yaxis": {
           "automargin": true,
           "gridcolor": "white",
           "linecolor": "white",
           "ticks": "",
           "title": {
            "standoff": 15
           },
           "zerolinecolor": "white",
           "zerolinewidth": 2
          }
         }
        },
        "title": {
         "text": "EDR Class Distribution in Each Batch - Task ID 0"
        },
        "xaxis": {
         "anchor": "y",
         "domain": [
          0,
          1
         ],
         "title": {
          "text": "Classes"
         }
        },
        "yaxis": {
         "anchor": "x",
         "autorange": "reversed",
         "domain": [
          0,
          1
         ],
         "title": {
          "text": "Batches"
         }
        }
       }
      }
     },
     "metadata": {},
     "output_type": "display_data"
    }
   ],
   "source": [
    "import numpy as np\n",
    "import plotly.express as px\n",
    "\n",
    "task_id = 0\n",
    "\n",
    "df = pd.read_csv(\"../results_plot_SplitFashionMNIST_['EDR', 'ER']_False_[]_32_5_0_5_2/train_batches_y_ExperienceDelayReplay.log\", \n",
    "                 names=[\"task_id\", \"class_0\", \"class_1\", \"class_2\", \"class_3\", \"class_4\", \"class_5\", \"class_6\", \n",
    "                            \"class_7\", \"class_8\", \"class_9\"])\n",
    "\n",
    "\n",
    "df_plot = df.loc[df.task_id == task_id].reset_index(drop=True).copy()\n",
    "# df_plot = pd.concat([df_plot[:10], df_plot[80:90], df_plot[115:125]], ignore_index=True)\n",
    "df_plot.drop(columns=[\"task_id\"], inplace=True)\n",
    "\n",
    "# Criação do heatmap interativo (classe no eixo Y, batch no eixo X)\n",
    "fig = px.imshow(\n",
    "    df_plot,\n",
    "    labels=dict(x=\"Classes\", y=\"Batches\", color=\"Number of Instances\"),\n",
    "    # x=[f\"Batch {i}\" for i in range(1, num_batches+1)],\n",
    "    # y=[f\"Classe {i}\" for i in range(num_classes)],\n",
    "    aspect=\"auto\",\n",
    "    color_continuous_scale=\"Viridis\",\n",
    "    origin=\"upper\",  # garante que Classe 0 fique em cima\n",
    "    # text_auto=True\n",
    ")\n",
    "\n",
    "fig.update_layout(\n",
    "    title=\"EDR Class Distribution in Each Batch - Task ID {}\".format(task_id),\n",
    "    xaxis_title=\"Classes\",\n",
    "    yaxis_title=\"Batches\",\n",
    "    height=900,\n",
    ")\n",
    "\n",
    "fig.show()"
   ]
  },
  {
   "cell_type": "code",
   "execution_count": 3,
   "id": "37b10e21",
   "metadata": {},
   "outputs": [
    {
     "data": {
      "application/vnd.plotly.v1+json": {
       "config": {
        "plotlyServerURL": "https://plot.ly"
       },
       "data": [
        {
         "coloraxis": "coloraxis",
         "hovertemplate": "Classes: %{x}<br>Batches: %{y}<br>Number of Instances: %{z}<extra></extra>",
         "name": "0",
         "type": "heatmap",
         "x": [
          "class_0",
          "class_1",
          "class_2",
          "class_3",
          "class_4",
          "class_5",
          "class_6",
          "class_7",
          "class_8",
          "class_9"
         ],
         "xaxis": "x",
         "y": {
          "bdata": "AAABAAIAAwAEAAUABgAHAAgACQAKAAsADAANAA4ADwAQABEAEgATABQAFQAWABcAGAAZABoAGwAcAB0AHgAfACAAIQAiACMAJAAlACYAJwAoACkAKgArACwALQAuAC8AMAAxADIAMwA0ADUANgA3ADgAOQA6ADsAPAA9AD4APwBAAEEAQgBDAEQARQBGAEcASABJAEoASwBMAE0ATgBPAFAAUQBSAFMAVABVAFYAVwBYAFkAWgBbAFwAXQBeAF8AYABhAGIAYwBkAGUAZgBnAGgAaQBqAGsAbABtAG4AbwBwAHEAcgBzAHQAdQB2AHcAeAB5AHoAewB8AH0AfgB/AIAAgQCCAIMAhACFAIYAhwCIAIkAigCLAIwAjQCOAI8AkACRAJIAkwCUAJUAlgCXAJgAmQCaAJsAnACdAJ4AnwCgAKEAogCjAKQApQCmAKcAqACpAKoAqwCsAK0ArgCvALAAsQCyALMAtAC1ALYAtwA=",
          "dtype": "i2"
         },
         "yaxis": "y",
         "z": {
          "bdata": "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",
          "dtype": "i1",
          "shape": "184, 10"
         }
        }
       ],
       "layout": {
        "coloraxis": {
         "colorbar": {
          "title": {
           "text": "Number of Instances"
          }
         },
         "colorscale": [
          [
           0,
           "#440154"
          ],
          [
           0.1111111111111111,
           "#482878"
          ],
          [
           0.2222222222222222,
           "#3e4989"
          ],
          [
           0.3333333333333333,
           "#31688e"
          ],
          [
           0.4444444444444444,
           "#26828e"
          ],
          [
           0.5555555555555556,
           "#1f9e89"
          ],
          [
           0.6666666666666666,
           "#35b779"
          ],
          [
           0.7777777777777778,
           "#6ece58"
          ],
          [
           0.8888888888888888,
           "#b5de2b"
          ],
          [
           1,
           "#fde725"
          ]
         ]
        },
        "height": 900,
        "margin": {
         "t": 60
        },
        "template": {
         "data": {
          "bar": [
           {
            "error_x": {
             "color": "#2a3f5f"
            },
            "error_y": {
             "color": "#2a3f5f"
            },
            "marker": {
             "line": {
              "color": "#E5ECF6",
              "width": 0.5
             },
             "pattern": {
              "fillmode": "overlay",
              "size": 10,
              "solidity": 0.2
             }
            },
            "type": "bar"
           }
          ],
          "barpolar": [
           {
            "marker": {
             "line": {
              "color": "#E5ECF6",
              "width": 0.5
             },
             "pattern": {
              "fillmode": "overlay",
              "size": 10,
              "solidity": 0.2
             }
            },
            "type": "barpolar"
           }
          ],
          "carpet": [
           {
            "aaxis": {
             "endlinecolor": "#2a3f5f",
             "gridcolor": "white",
             "linecolor": "white",
             "minorgridcolor": "white",
             "startlinecolor": "#2a3f5f"
            },
            "baxis": {
             "endlinecolor": "#2a3f5f",
             "gridcolor": "white",
             "linecolor": "white",
             "minorgridcolor": "white",
             "startlinecolor": "#2a3f5f"
            },
            "type": "carpet"
           }
          ],
          "choropleth": [
           {
            "colorbar": {
             "outlinewidth": 0,
             "ticks": ""
            },
            "type": "choropleth"
           }
          ],
          "contour": [
           {
            "colorbar": {
             "outlinewidth": 0,
             "ticks": ""
            },
            "colorscale": [
             [
              0,
              "#0d0887"
             ],
             [
              0.1111111111111111,
              "#46039f"
             ],
             [
              0.2222222222222222,
              "#7201a8"
             ],
             [
              0.3333333333333333,
              "#9c179e"
             ],
             [
              0.4444444444444444,
              "#bd3786"
             ],
             [
              0.5555555555555556,
              "#d8576b"
             ],
             [
              0.6666666666666666,
              "#ed7953"
             ],
             [
              0.7777777777777778,
              "#fb9f3a"
             ],
             [
              0.8888888888888888,
              "#fdca26"
             ],
             [
              1,
              "#f0f921"
             ]
            ],
            "type": "contour"
           }
          ],
          "contourcarpet": [
           {
            "colorbar": {
             "outlinewidth": 0,
             "ticks": ""
            },
            "type": "contourcarpet"
           }
          ],
          "heatmap": [
           {
            "colorbar": {
             "outlinewidth": 0,
             "ticks": ""
            },
            "colorscale": [
             [
              0,
              "#0d0887"
             ],
             [
              0.1111111111111111,
              "#46039f"
             ],
             [
              0.2222222222222222,
              "#7201a8"
             ],
             [
              0.3333333333333333,
              "#9c179e"
             ],
             [
              0.4444444444444444,
              "#bd3786"
             ],
             [
              0.5555555555555556,
              "#d8576b"
             ],
             [
              0.6666666666666666,
              "#ed7953"
             ],
             [
              0.7777777777777778,
              "#fb9f3a"
             ],
             [
              0.8888888888888888,
              "#fdca26"
             ],
             [
              1,
              "#f0f921"
             ]
            ],
            "type": "heatmap"
           }
          ],
          "histogram": [
           {
            "marker": {
             "pattern": {
              "fillmode": "overlay",
              "size": 10,
              "solidity": 0.2
             }
            },
            "type": "histogram"
           }
          ],
          "histogram2d": [
           {
            "colorbar": {
             "outlinewidth": 0,
             "ticks": ""
            },
            "colorscale": [
             [
              0,
              "#0d0887"
             ],
             [
              0.1111111111111111,
              "#46039f"
             ],
             [
              0.2222222222222222,
              "#7201a8"
             ],
             [
              0.3333333333333333,
              "#9c179e"
             ],
             [
              0.4444444444444444,
              "#bd3786"
             ],
             [
              0.5555555555555556,
              "#d8576b"
             ],
             [
              0.6666666666666666,
              "#ed7953"
             ],
             [
              0.7777777777777778,
              "#fb9f3a"
             ],
             [
              0.8888888888888888,
              "#fdca26"
             ],
             [
              1,
              "#f0f921"
             ]
            ],
            "type": "histogram2d"
           }
          ],
          "histogram2dcontour": [
           {
            "colorbar": {
             "outlinewidth": 0,
             "ticks": ""
            },
            "colorscale": [
             [
              0,
              "#0d0887"
             ],
             [
              0.1111111111111111,
              "#46039f"
             ],
             [
              0.2222222222222222,
              "#7201a8"
             ],
             [
              0.3333333333333333,
              "#9c179e"
             ],
             [
              0.4444444444444444,
              "#bd3786"
             ],
             [
              0.5555555555555556,
              "#d8576b"
             ],
             [
              0.6666666666666666,
              "#ed7953"
             ],
             [
              0.7777777777777778,
              "#fb9f3a"
             ],
             [
              0.8888888888888888,
              "#fdca26"
             ],
             [
              1,
              "#f0f921"
             ]
            ],
            "type": "histogram2dcontour"
           }
          ],
          "mesh3d": [
           {
            "colorbar": {
             "outlinewidth": 0,
             "ticks": ""
            },
            "type": "mesh3d"
           }
          ],
          "parcoords": [
           {
            "line": {
             "colorbar": {
              "outlinewidth": 0,
              "ticks": ""
             }
            },
            "type": "parcoords"
           }
          ],
          "pie": [
           {
            "automargin": true,
            "type": "pie"
           }
          ],
          "scatter": [
           {
            "fillpattern": {
             "fillmode": "overlay",
             "size": 10,
             "solidity": 0.2
            },
            "type": "scatter"
           }
          ],
          "scatter3d": [
           {
            "line": {
             "colorbar": {
              "outlinewidth": 0,
              "ticks": ""
             }
            },
            "marker": {
             "colorbar": {
              "outlinewidth": 0,
              "ticks": ""
             }
            },
            "type": "scatter3d"
           }
          ],
          "scattercarpet": [
           {
            "marker": {
             "colorbar": {
              "outlinewidth": 0,
              "ticks": ""
             }
            },
            "type": "scattercarpet"
           }
          ],
          "scattergeo": [
           {
            "marker": {
             "colorbar": {
              "outlinewidth": 0,
              "ticks": ""
             }
            },
            "type": "scattergeo"
           }
          ],
          "scattergl": [
           {
            "marker": {
             "colorbar": {
              "outlinewidth": 0,
              "ticks": ""
             }
            },
            "type": "scattergl"
           }
          ],
          "scattermap": [
           {
            "marker": {
             "colorbar": {
              "outlinewidth": 0,
              "ticks": ""
             }
            },
            "type": "scattermap"
           }
          ],
          "scattermapbox": [
           {
            "marker": {
             "colorbar": {
              "outlinewidth": 0,
              "ticks": ""
             }
            },
            "type": "scattermapbox"
           }
          ],
          "scatterpolar": [
           {
            "marker": {
             "colorbar": {
              "outlinewidth": 0,
              "ticks": ""
             }
            },
            "type": "scatterpolar"
           }
          ],
          "scatterpolargl": [
           {
            "marker": {
             "colorbar": {
              "outlinewidth": 0,
              "ticks": ""
             }
            },
            "type": "scatterpolargl"
           }
          ],
          "scatterternary": [
           {
            "marker": {
             "colorbar": {
              "outlinewidth": 0,
              "ticks": ""
             }
            },
            "type": "scatterternary"
           }
          ],
          "surface": [
           {
            "colorbar": {
             "outlinewidth": 0,
             "ticks": ""
            },
            "colorscale": [
             [
              0,
              "#0d0887"
             ],
             [
              0.1111111111111111,
              "#46039f"
             ],
             [
              0.2222222222222222,
              "#7201a8"
             ],
             [
              0.3333333333333333,
              "#9c179e"
             ],
             [
              0.4444444444444444,
              "#bd3786"
             ],
             [
              0.5555555555555556,
              "#d8576b"
             ],
             [
              0.6666666666666666,
              "#ed7953"
             ],
             [
              0.7777777777777778,
              "#fb9f3a"
             ],
             [
              0.8888888888888888,
              "#fdca26"
             ],
             [
              1,
              "#f0f921"
             ]
            ],
            "type": "surface"
           }
          ],
          "table": [
           {
            "cells": {
             "fill": {
              "color": "#EBF0F8"
             },
             "line": {
              "color": "white"
             }
            },
            "header": {
             "fill": {
              "color": "#C8D4E3"
             },
             "line": {
              "color": "white"
             }
            },
            "type": "table"
           }
          ]
         },
         "layout": {
          "annotationdefaults": {
           "arrowcolor": "#2a3f5f",
           "arrowhead": 0,
           "arrowwidth": 1
          },
          "autotypenumbers": "strict",
          "coloraxis": {
           "colorbar": {
            "outlinewidth": 0,
            "ticks": ""
           }
          },
          "colorscale": {
           "diverging": [
            [
             0,
             "#8e0152"
            ],
            [
             0.1,
             "#c51b7d"
            ],
            [
             0.2,
             "#de77ae"
            ],
            [
             0.3,
             "#f1b6da"
            ],
            [
             0.4,
             "#fde0ef"
            ],
            [
             0.5,
             "#f7f7f7"
            ],
            [
             0.6,
             "#e6f5d0"
            ],
            [
             0.7,
             "#b8e186"
            ],
            [
             0.8,
             "#7fbc41"
            ],
            [
             0.9,
             "#4d9221"
            ],
            [
             1,
             "#276419"
            ]
           ],
           "sequential": [
            [
             0,
             "#0d0887"
            ],
            [
             0.1111111111111111,
             "#46039f"
            ],
            [
             0.2222222222222222,
             "#7201a8"
            ],
            [
             0.3333333333333333,
             "#9c179e"
            ],
            [
             0.4444444444444444,
             "#bd3786"
            ],
            [
             0.5555555555555556,
             "#d8576b"
            ],
            [
             0.6666666666666666,
             "#ed7953"
            ],
            [
             0.7777777777777778,
             "#fb9f3a"
            ],
            [
             0.8888888888888888,
             "#fdca26"
            ],
            [
             1,
             "#f0f921"
            ]
           ],
           "sequentialminus": [
            [
             0,
             "#0d0887"
            ],
            [
             0.1111111111111111,
             "#46039f"
            ],
            [
             0.2222222222222222,
             "#7201a8"
            ],
            [
             0.3333333333333333,
             "#9c179e"
            ],
            [
             0.4444444444444444,
             "#bd3786"
            ],
            [
             0.5555555555555556,
             "#d8576b"
            ],
            [
             0.6666666666666666,
             "#ed7953"
            ],
            [
             0.7777777777777778,
             "#fb9f3a"
            ],
            [
             0.8888888888888888,
             "#fdca26"
            ],
            [
             1,
             "#f0f921"
            ]
           ]
          },
          "colorway": [
           "#636efa",
           "#EF553B",
           "#00cc96",
           "#ab63fa",
           "#FFA15A",
           "#19d3f3",
           "#FF6692",
           "#B6E880",
           "#FF97FF",
           "#FECB52"
          ],
          "font": {
           "color": "#2a3f5f"
          },
          "geo": {
           "bgcolor": "white",
           "lakecolor": "white",
           "landcolor": "#E5ECF6",
           "showlakes": true,
           "showland": true,
           "subunitcolor": "white"
          },
          "hoverlabel": {
           "align": "left"
          },
          "hovermode": "closest",
          "mapbox": {
           "style": "light"
          },
          "paper_bgcolor": "white",
          "plot_bgcolor": "#E5ECF6",
          "polar": {
           "angularaxis": {
            "gridcolor": "white",
            "linecolor": "white",
            "ticks": ""
           },
           "bgcolor": "#E5ECF6",
           "radialaxis": {
            "gridcolor": "white",
            "linecolor": "white",
            "ticks": ""
           }
          },
          "scene": {
           "xaxis": {
            "backgroundcolor": "#E5ECF6",
            "gridcolor": "white",
            "gridwidth": 2,
            "linecolor": "white",
            "showbackground": true,
            "ticks": "",
            "zerolinecolor": "white"
           },
           "yaxis": {
            "backgroundcolor": "#E5ECF6",
            "gridcolor": "white",
            "gridwidth": 2,
            "linecolor": "white",
            "showbackground": true,
            "ticks": "",
            "zerolinecolor": "white"
           },
           "zaxis": {
            "backgroundcolor": "#E5ECF6",
            "gridcolor": "white",
            "gridwidth": 2,
            "linecolor": "white",
            "showbackground": true,
            "ticks": "",
            "zerolinecolor": "white"
           }
          },
          "shapedefaults": {
           "line": {
            "color": "#2a3f5f"
           }
          },
          "ternary": {
           "aaxis": {
            "gridcolor": "white",
            "linecolor": "white",
            "ticks": ""
           },
           "baxis": {
            "gridcolor": "white",
            "linecolor": "white",
            "ticks": ""
           },
           "bgcolor": "#E5ECF6",
           "caxis": {
            "gridcolor": "white",
            "linecolor": "white",
            "ticks": ""
           }
          },
          "title": {
           "x": 0.05
          },
          "xaxis": {
           "automargin": true,
           "gridcolor": "white",
           "linecolor": "white",
           "ticks": "",
           "title": {
            "standoff": 15
           },
           "zerolinecolor": "white",
           "zerolinewidth": 2
          },
          "yaxis": {
           "automargin": true,
           "gridcolor": "white",
           "linecolor": "white",
           "ticks": "",
           "title": {
            "standoff": 15
           },
           "zerolinecolor": "white",
           "zerolinewidth": 2
          }
         }
        },
        "title": {
         "text": "ER Class Distribution in Each Batch - Task ID 0"
        },
        "xaxis": {
         "anchor": "y",
         "domain": [
          0,
          1
         ],
         "title": {
          "text": "Classes"
         }
        },
        "yaxis": {
         "anchor": "x",
         "autorange": "reversed",
         "domain": [
          0,
          1
         ],
         "title": {
          "text": "Batches"
         }
        }
       }
      }
     },
     "metadata": {},
     "output_type": "display_data"
    }
   ],
   "source": [
    "import numpy as np\n",
    "import plotly.express as px\n",
    "\n",
    "task_id = 0\n",
    "\n",
    "df = pd.read_csv(\"../results_plot_SplitFashionMNIST_['EDR', 'ER']_False_[]_32_5_0_5_2/train_batches_y_ExperienceReplay.log\", \n",
    "                 names=[\"task_id\", \"class_0\", \"class_1\", \"class_2\", \"class_3\", \"class_4\", \"class_5\", \"class_6\", \n",
    "                            \"class_7\", \"class_8\", \"class_9\"])\n",
    "\n",
    "\n",
    "df_plot = df.loc[df.task_id == task_id].reset_index(drop=True).copy()\n",
    "# df_plot = pd.concat([df_plot[:10], df_plot[80:90], df_plot[115:125]], ignore_index=True)\n",
    "df_plot.drop(columns=[\"task_id\"], inplace=True)\n",
    "\n",
    "# Criação do heatmap interativo (classe no eixo Y, batch no eixo X)\n",
    "fig = px.imshow(\n",
    "    df_plot,\n",
    "    labels=dict(x=\"Classes\", y=\"Batches\", color=\"Number of Instances\"),\n",
    "    # x=[f\"Batch {i}\" for i in range(1, num_batches+1)],\n",
    "    # y=[f\"Classe {i}\" for i in range(num_classes)],\n",
    "    aspect=\"auto\",\n",
    "    color_continuous_scale=\"Viridis\",\n",
    "    origin=\"upper\",  # garante que Classe 0 fique em cima\n",
    "    # text_auto=True\n",
    ")\n",
    "\n",
    "fig.update_layout(\n",
    "    title=\"ER Class Distribution in Each Batch - Task ID {}\".format(task_id),\n",
    "    xaxis_title=\"Classes\",\n",
    "    yaxis_title=\"Batches\",\n",
    "    height=900,\n",
    ")\n",
    "\n",
    "fig.show()"
   ]
  },
  {
   "cell_type": "markdown",
   "id": "59297e75",
   "metadata": {},
   "source": [
    "<!-- ### results_plot_SplitFashionMNIST_['EDR', 'ER']_False_[]_32_5_0_5_2/train_batches_y_ExperienceDelayReplay.log -->\n",
    "#### Task 1\n",
    "#### Classes 5, 7"
   ]
  },
  {
   "cell_type": "code",
   "execution_count": 4,
   "id": "9d4f2639",
   "metadata": {},
   "outputs": [
    {
     "data": {
      "application/vnd.plotly.v1+json": {
       "config": {
        "plotlyServerURL": "https://plot.ly"
       },
       "data": [
        {
         "coloraxis": "coloraxis",
         "hovertemplate": "Classes: %{x}<br>Batches: %{y}<br>Number of Instances: %{z}<extra></extra>",
         "name": "0",
         "type": "heatmap",
         "x": [
          "class_0",
          "class_1",
          "class_2",
          "class_3",
          "class_4",
          "class_5",
          "class_6",
          "class_7",
          "class_8",
          "class_9"
         ],
         "xaxis": "x",
         "y": {
          "bdata": "AAECAwQFBgcICQoLDA0ODxAREhMUFRYXGBkaGxwdHh8gISIjJCUmJygpKissLS4vMDEyMzQ1Njc4OTo7PD0+P0BBQkNERUZHSElKS0xNTk9QUVJTVFVWV1hZWltcXV5fYGFiY2RlZmdoaWprbG1ub3BxcnN0dXZ3eHl6e3w=",
          "dtype": "i1"
         },
         "yaxis": "y",
         "z": {
          "bdata": "AB8AACEAAAAAAAAcAAAkAAAAAAAAIAAAIAAAAAAAABQAAAwKABYAAAATAAAMDAAVAAAADgAAEgoAFgAAAA0AABIJABgAAAARAAAPCgAWAAAAFQAACggAGQAAAA8AAA8MABYAAAAOAAARCgAXAAAAEgAADQ4AEwAAABIAAAoQABQAAAAMAAAQEQATAAAADQAAEhQADQAAABAAAAkjAAQAAAANAAAOIAAFAAAACgAAEiQAAAAAABMAAAgiAAMAAAARAAANHwADAAAAEAAADRsACAAAAA0AAA8hAAMAAAAHAAASIQAGAAAADAAAERwABwAAABAAAAodAAkAAAALAAAPFgAQAAAADAAADhoADAAAAA0AAAsTABUAAAAQAAAMGAAMAAAAEgAACRgADQAAAAgAABEZAA4AAAAOAAALEgAVAAAADgAADAwAGgAAAA0AAA4OABcAAAAPAAAKEAAXAAAAEgAAChAAFAAAABAAAAoLABsAAAAPAAAIEQAYAAAABwAAERMAFQAAAAoAAAwOABwAAAAMAAALIAAJAAAAEgAABh4ACgAAAAoAAAooAAQAAAAMAAAPGwAKAAAAEgAACB4ACAAAAAgAAA0aABEAAAALAAALJAAGAAAACwAADR4ACgAAAAkAAAogAA0AAAAJAAANHgAMAAAACQAACyAADAAAAA4AAAsdAAoAAAAKAAAIHwAPAAAACwAAChcAFAAAAAgAAAoPAB8AAAAPAAAJCAAgAAAACwAACgoAIQAAAAYAAAsKACUAAAALAAAJCAAkAAAACwAACQYAJgAAAAoAAAgRAB0AAAAKAAANEgAXAAAACQAADRUAFQAAAAsAAAkbABEAAAAMAAAKIgAIAAAACQAADSIACAAAAAwAAAoaABAAAAAOAAAGIgAKAAAACQAADCAACwAAAAsAAAYpAAYAAAAEAAAMKAAIAAAACAAACSIADQAAAAgAAAwbABEAAAAHAAALJwAHAAAACgAACRwAEQAAAAUAAAYlABAAAAAIAAANHQAOAAAACwAABx4AEAAAAAoAAAkeAA8AAAAMAAAIDgAeAAAADQAACA0AHgAAAAoAAAgLACMAAAAJAAAJDAAiAAAABwAACA8AIgAAAAkAAAwIACMAAAAIAAALEAAdAAAACQAACBIAHQAAAAkAAAYUAB0AAAAJAAAMEgAZAAAADQAABxsAEQAAAAkAAAcdABMAAAAMAAAHIAANAAAADAAAByMACgAAAA4AAAgZABEAAAAFAAAIKwAIAAAACAAACicABwAAAAsAAAgjAAoAAAALAAAJHgAOAAAACAAACB8AEQAAAAoAAAkhAAwAAAAIAAAKGwATAAAABQAABh8AFgAAAAUAAAkcABYAAAAMAAAKEAAaAAAABgAAChEAHwAAAAoAAAkTABoAAAAGAAAOEwAZAAAABwAACg4AIQAAAAMAAAgWAB8AAAAHAAAGGAAbAAAADAAABw8AHgAAAAsAAAYWABkAAAAJAAAFFwAbAAAABQAACxQAHAAAAAcAAAkeABIAAAAHAAAJHQATAAAABgAACRgAGQAAAAoAAAQdABUAAAALAAAIGAAVAAAADAAACB0ADwAAAAYAAAUhABQAAAALAAALIgAIAAAABQAACSIAEAAAAAoAAAceABEAAAAKAAAHGwAUAAA=",
          "dtype": "i1",
          "shape": "125, 10"
         }
        }
       ],
       "layout": {
        "coloraxis": {
         "colorbar": {
          "title": {
           "text": "Number of Instances"
          }
         },
         "colorscale": [
          [
           0,
           "#440154"
          ],
          [
           0.1111111111111111,
           "#482878"
          ],
          [
           0.2222222222222222,
           "#3e4989"
          ],
          [
           0.3333333333333333,
           "#31688e"
          ],
          [
           0.4444444444444444,
           "#26828e"
          ],
          [
           0.5555555555555556,
           "#1f9e89"
          ],
          [
           0.6666666666666666,
           "#35b779"
          ],
          [
           0.7777777777777778,
           "#6ece58"
          ],
          [
           0.8888888888888888,
           "#b5de2b"
          ],
          [
           1,
           "#fde725"
          ]
         ]
        },
        "height": 900,
        "margin": {
         "t": 60
        },
        "template": {
         "data": {
          "bar": [
           {
            "error_x": {
             "color": "#2a3f5f"
            },
            "error_y": {
             "color": "#2a3f5f"
            },
            "marker": {
             "line": {
              "color": "#E5ECF6",
              "width": 0.5
             },
             "pattern": {
              "fillmode": "overlay",
              "size": 10,
              "solidity": 0.2
             }
            },
            "type": "bar"
           }
          ],
          "barpolar": [
           {
            "marker": {
             "line": {
              "color": "#E5ECF6",
              "width": 0.5
             },
             "pattern": {
              "fillmode": "overlay",
              "size": 10,
              "solidity": 0.2
             }
            },
            "type": "barpolar"
           }
          ],
          "carpet": [
           {
            "aaxis": {
             "endlinecolor": "#2a3f5f",
             "gridcolor": "white",
             "linecolor": "white",
             "minorgridcolor": "white",
             "startlinecolor": "#2a3f5f"
            },
            "baxis": {
             "endlinecolor": "#2a3f5f",
             "gridcolor": "white",
             "linecolor": "white",
             "minorgridcolor": "white",
             "startlinecolor": "#2a3f5f"
            },
            "type": "carpet"
           }
          ],
          "choropleth": [
           {
            "colorbar": {
             "outlinewidth": 0,
             "ticks": ""
            },
            "type": "choropleth"
           }
          ],
          "contour": [
           {
            "colorbar": {
             "outlinewidth": 0,
             "ticks": ""
            },
            "colorscale": [
             [
              0,
              "#0d0887"
             ],
             [
              0.1111111111111111,
              "#46039f"
             ],
             [
              0.2222222222222222,
              "#7201a8"
             ],
             [
              0.3333333333333333,
              "#9c179e"
             ],
             [
              0.4444444444444444,
              "#bd3786"
             ],
             [
              0.5555555555555556,
              "#d8576b"
             ],
             [
              0.6666666666666666,
              "#ed7953"
             ],
             [
              0.7777777777777778,
              "#fb9f3a"
             ],
             [
              0.8888888888888888,
              "#fdca26"
             ],
             [
              1,
              "#f0f921"
             ]
            ],
            "type": "contour"
           }
          ],
          "contourcarpet": [
           {
            "colorbar": {
             "outlinewidth": 0,
             "ticks": ""
            },
            "type": "contourcarpet"
           }
          ],
          "heatmap": [
           {
            "colorbar": {
             "outlinewidth": 0,
             "ticks": ""
            },
            "colorscale": [
             [
              0,
              "#0d0887"
             ],
             [
              0.1111111111111111,
              "#46039f"
             ],
             [
              0.2222222222222222,
              "#7201a8"
             ],
             [
              0.3333333333333333,
              "#9c179e"
             ],
             [
              0.4444444444444444,
              "#bd3786"
             ],
             [
              0.5555555555555556,
              "#d8576b"
             ],
             [
              0.6666666666666666,
              "#ed7953"
             ],
             [
              0.7777777777777778,
              "#fb9f3a"
             ],
             [
              0.8888888888888888,
              "#fdca26"
             ],
             [
              1,
              "#f0f921"
             ]
            ],
            "type": "heatmap"
           }
          ],
          "histogram": [
           {
            "marker": {
             "pattern": {
              "fillmode": "overlay",
              "size": 10,
              "solidity": 0.2
             }
            },
            "type": "histogram"
           }
          ],
          "histogram2d": [
           {
            "colorbar": {
             "outlinewidth": 0,
             "ticks": ""
            },
            "colorscale": [
             [
              0,
              "#0d0887"
             ],
             [
              0.1111111111111111,
              "#46039f"
             ],
             [
              0.2222222222222222,
              "#7201a8"
             ],
             [
              0.3333333333333333,
              "#9c179e"
             ],
             [
              0.4444444444444444,
              "#bd3786"
             ],
             [
              0.5555555555555556,
              "#d8576b"
             ],
             [
              0.6666666666666666,
              "#ed7953"
             ],
             [
              0.7777777777777778,
              "#fb9f3a"
             ],
             [
              0.8888888888888888,
              "#fdca26"
             ],
             [
              1,
              "#f0f921"
             ]
            ],
            "type": "histogram2d"
           }
          ],
          "histogram2dcontour": [
           {
            "colorbar": {
             "outlinewidth": 0,
             "ticks": ""
            },
            "colorscale": [
             [
              0,
              "#0d0887"
             ],
             [
              0.1111111111111111,
              "#46039f"
             ],
             [
              0.2222222222222222,
              "#7201a8"
             ],
             [
              0.3333333333333333,
              "#9c179e"
             ],
             [
              0.4444444444444444,
              "#bd3786"
             ],
             [
              0.5555555555555556,
              "#d8576b"
             ],
             [
              0.6666666666666666,
              "#ed7953"
             ],
             [
              0.7777777777777778,
              "#fb9f3a"
             ],
             [
              0.8888888888888888,
              "#fdca26"
             ],
             [
              1,
              "#f0f921"
             ]
            ],
            "type": "histogram2dcontour"
           }
          ],
          "mesh3d": [
           {
            "colorbar": {
             "outlinewidth": 0,
             "ticks": ""
            },
            "type": "mesh3d"
           }
          ],
          "parcoords": [
           {
            "line": {
             "colorbar": {
              "outlinewidth": 0,
              "ticks": ""
             }
            },
            "type": "parcoords"
           }
          ],
          "pie": [
           {
            "automargin": true,
            "type": "pie"
           }
          ],
          "scatter": [
           {
            "fillpattern": {
             "fillmode": "overlay",
             "size": 10,
             "solidity": 0.2
            },
            "type": "scatter"
           }
          ],
          "scatter3d": [
           {
            "line": {
             "colorbar": {
              "outlinewidth": 0,
              "ticks": ""
             }
            },
            "marker": {
             "colorbar": {
              "outlinewidth": 0,
              "ticks": ""
             }
            },
            "type": "scatter3d"
           }
          ],
          "scattercarpet": [
           {
            "marker": {
             "colorbar": {
              "outlinewidth": 0,
              "ticks": ""
             }
            },
            "type": "scattercarpet"
           }
          ],
          "scattergeo": [
           {
            "marker": {
             "colorbar": {
              "outlinewidth": 0,
              "ticks": ""
             }
            },
            "type": "scattergeo"
           }
          ],
          "scattergl": [
           {
            "marker": {
             "colorbar": {
              "outlinewidth": 0,
              "ticks": ""
             }
            },
            "type": "scattergl"
           }
          ],
          "scattermap": [
           {
            "marker": {
             "colorbar": {
              "outlinewidth": 0,
              "ticks": ""
             }
            },
            "type": "scattermap"
           }
          ],
          "scattermapbox": [
           {
            "marker": {
             "colorbar": {
              "outlinewidth": 0,
              "ticks": ""
             }
            },
            "type": "scattermapbox"
           }
          ],
          "scatterpolar": [
           {
            "marker": {
             "colorbar": {
              "outlinewidth": 0,
              "ticks": ""
             }
            },
            "type": "scatterpolar"
           }
          ],
          "scatterpolargl": [
           {
            "marker": {
             "colorbar": {
              "outlinewidth": 0,
              "ticks": ""
             }
            },
            "type": "scatterpolargl"
           }
          ],
          "scatterternary": [
           {
            "marker": {
             "colorbar": {
              "outlinewidth": 0,
              "ticks": ""
             }
            },
            "type": "scatterternary"
           }
          ],
          "surface": [
           {
            "colorbar": {
             "outlinewidth": 0,
             "ticks": ""
            },
            "colorscale": [
             [
              0,
              "#0d0887"
             ],
             [
              0.1111111111111111,
              "#46039f"
             ],
             [
              0.2222222222222222,
              "#7201a8"
             ],
             [
              0.3333333333333333,
              "#9c179e"
             ],
             [
              0.4444444444444444,
              "#bd3786"
             ],
             [
              0.5555555555555556,
              "#d8576b"
             ],
             [
              0.6666666666666666,
              "#ed7953"
             ],
             [
              0.7777777777777778,
              "#fb9f3a"
             ],
             [
              0.8888888888888888,
              "#fdca26"
             ],
             [
              1,
              "#f0f921"
             ]
            ],
            "type": "surface"
           }
          ],
          "table": [
           {
            "cells": {
             "fill": {
              "color": "#EBF0F8"
             },
             "line": {
              "color": "white"
             }
            },
            "header": {
             "fill": {
              "color": "#C8D4E3"
             },
             "line": {
              "color": "white"
             }
            },
            "type": "table"
           }
          ]
         },
         "layout": {
          "annotationdefaults": {
           "arrowcolor": "#2a3f5f",
           "arrowhead": 0,
           "arrowwidth": 1
          },
          "autotypenumbers": "strict",
          "coloraxis": {
           "colorbar": {
            "outlinewidth": 0,
            "ticks": ""
           }
          },
          "colorscale": {
           "diverging": [
            [
             0,
             "#8e0152"
            ],
            [
             0.1,
             "#c51b7d"
            ],
            [
             0.2,
             "#de77ae"
            ],
            [
             0.3,
             "#f1b6da"
            ],
            [
             0.4,
             "#fde0ef"
            ],
            [
             0.5,
             "#f7f7f7"
            ],
            [
             0.6,
             "#e6f5d0"
            ],
            [
             0.7,
             "#b8e186"
            ],
            [
             0.8,
             "#7fbc41"
            ],
            [
             0.9,
             "#4d9221"
            ],
            [
             1,
             "#276419"
            ]
           ],
           "sequential": [
            [
             0,
             "#0d0887"
            ],
            [
             0.1111111111111111,
             "#46039f"
            ],
            [
             0.2222222222222222,
             "#7201a8"
            ],
            [
             0.3333333333333333,
             "#9c179e"
            ],
            [
             0.4444444444444444,
             "#bd3786"
            ],
            [
             0.5555555555555556,
             "#d8576b"
            ],
            [
             0.6666666666666666,
             "#ed7953"
            ],
            [
             0.7777777777777778,
             "#fb9f3a"
            ],
            [
             0.8888888888888888,
             "#fdca26"
            ],
            [
             1,
             "#f0f921"
            ]
           ],
           "sequentialminus": [
            [
             0,
             "#0d0887"
            ],
            [
             0.1111111111111111,
             "#46039f"
            ],
            [
             0.2222222222222222,
             "#7201a8"
            ],
            [
             0.3333333333333333,
             "#9c179e"
            ],
            [
             0.4444444444444444,
             "#bd3786"
            ],
            [
             0.5555555555555556,
             "#d8576b"
            ],
            [
             0.6666666666666666,
             "#ed7953"
            ],
            [
             0.7777777777777778,
             "#fb9f3a"
            ],
            [
             0.8888888888888888,
             "#fdca26"
            ],
            [
             1,
             "#f0f921"
            ]
           ]
          },
          "colorway": [
           "#636efa",
           "#EF553B",
           "#00cc96",
           "#ab63fa",
           "#FFA15A",
           "#19d3f3",
           "#FF6692",
           "#B6E880",
           "#FF97FF",
           "#FECB52"
          ],
          "font": {
           "color": "#2a3f5f"
          },
          "geo": {
           "bgcolor": "white",
           "lakecolor": "white",
           "landcolor": "#E5ECF6",
           "showlakes": true,
           "showland": true,
           "subunitcolor": "white"
          },
          "hoverlabel": {
           "align": "left"
          },
          "hovermode": "closest",
          "mapbox": {
           "style": "light"
          },
          "paper_bgcolor": "white",
          "plot_bgcolor": "#E5ECF6",
          "polar": {
           "angularaxis": {
            "gridcolor": "white",
            "linecolor": "white",
            "ticks": ""
           },
           "bgcolor": "#E5ECF6",
           "radialaxis": {
            "gridcolor": "white",
            "linecolor": "white",
            "ticks": ""
           }
          },
          "scene": {
           "xaxis": {
            "backgroundcolor": "#E5ECF6",
            "gridcolor": "white",
            "gridwidth": 2,
            "linecolor": "white",
            "showbackground": true,
            "ticks": "",
            "zerolinecolor": "white"
           },
           "yaxis": {
            "backgroundcolor": "#E5ECF6",
            "gridcolor": "white",
            "gridwidth": 2,
            "linecolor": "white",
            "showbackground": true,
            "ticks": "",
            "zerolinecolor": "white"
           },
           "zaxis": {
            "backgroundcolor": "#E5ECF6",
            "gridcolor": "white",
            "gridwidth": 2,
            "linecolor": "white",
            "showbackground": true,
            "ticks": "",
            "zerolinecolor": "white"
           }
          },
          "shapedefaults": {
           "line": {
            "color": "#2a3f5f"
           }
          },
          "ternary": {
           "aaxis": {
            "gridcolor": "white",
            "linecolor": "white",
            "ticks": ""
           },
           "baxis": {
            "gridcolor": "white",
            "linecolor": "white",
            "ticks": ""
           },
           "bgcolor": "#E5ECF6",
           "caxis": {
            "gridcolor": "white",
            "linecolor": "white",
            "ticks": ""
           }
          },
          "title": {
           "x": 0.05
          },
          "xaxis": {
           "automargin": true,
           "gridcolor": "white",
           "linecolor": "white",
           "ticks": "",
           "title": {
            "standoff": 15
           },
           "zerolinecolor": "white",
           "zerolinewidth": 2
          },
          "yaxis": {
           "automargin": true,
           "gridcolor": "white",
           "linecolor": "white",
           "ticks": "",
           "title": {
            "standoff": 15
           },
           "zerolinecolor": "white",
           "zerolinewidth": 2
          }
         }
        },
        "title": {
         "text": "EDR Class Distribution in Each Batch - Task ID 1"
        },
        "xaxis": {
         "anchor": "y",
         "domain": [
          0,
          1
         ],
         "title": {
          "text": "Classes"
         }
        },
        "yaxis": {
         "anchor": "x",
         "autorange": "reversed",
         "domain": [
          0,
          1
         ],
         "title": {
          "text": "Batches"
         }
        }
       }
      }
     },
     "metadata": {},
     "output_type": "display_data"
    }
   ],
   "source": [
    "import numpy as np\n",
    "import plotly.express as px\n",
    "\n",
    "task_id = 1\n",
    "\n",
    "df = pd.read_csv(\"../results_plot_SplitFashionMNIST_['EDR', 'ER']_False_[]_32_5_0_5_2/train_batches_y_ExperienceDelayReplay.log\", \n",
    "                 names=[\"task_id\", \"class_0\", \"class_1\", \"class_2\", \"class_3\", \"class_4\", \"class_5\", \"class_6\", \n",
    "                            \"class_7\", \"class_8\", \"class_9\"])\n",
    "\n",
    "\n",
    "df_plot = df.loc[df.task_id == task_id].reset_index(drop=True).copy()\n",
    "# df_plot = pd.concat([df_plot[:10], df_plot[80:90], df_plot[115:125]], ignore_index=True)\n",
    "df_plot.drop(columns=[\"task_id\"], inplace=True)\n",
    "\n",
    "# Criação do heatmap interativo (classe no eixo Y, batch no eixo X)\n",
    "fig = px.imshow(\n",
    "    df_plot,\n",
    "    labels=dict(x=\"Classes\", y=\"Batches\", color=\"Number of Instances\"),\n",
    "    # x=[f\"Batch {i}\" for i in range(1, num_batches+1)],\n",
    "    # y=[f\"Classe {i}\" for i in range(num_classes)],\n",
    "    aspect=\"auto\",\n",
    "    color_continuous_scale=\"Viridis\",\n",
    "    origin=\"upper\",  # garante que Classe 0 fique em cima\n",
    "    # text_auto=True\n",
    ")\n",
    "\n",
    "fig.update_layout(\n",
    "    title=\"EDR Class Distribution in Each Batch - Task ID {}\".format(task_id),\n",
    "    xaxis_title=\"Classes\",\n",
    "    yaxis_title=\"Batches\",\n",
    "    height=900,\n",
    ")\n",
    "\n",
    "fig.show()"
   ]
  },
  {
   "cell_type": "code",
   "execution_count": 5,
   "id": "a03ea372",
   "metadata": {},
   "outputs": [
    {
     "data": {
      "application/vnd.plotly.v1+json": {
       "config": {
        "plotlyServerURL": "https://plot.ly"
       },
       "data": [
        {
         "coloraxis": "coloraxis",
         "hovertemplate": "Classes: %{x}<br>Batches: %{y}<br>Number of Instances: %{z}<extra></extra>",
         "name": "0",
         "type": "heatmap",
         "x": [
          "class_0",
          "class_1",
          "class_2",
          "class_3",
          "class_4",
          "class_5",
          "class_6",
          "class_7",
          "class_8",
          "class_9"
         ],
         "xaxis": "x",
         "y": {
          "bdata": "AAABAAIAAwAEAAUABgAHAAgACQAKAAsADAANAA4ADwAQABEAEgATABQAFQAWABcAGAAZABoAGwAcAB0AHgAfACAAIQAiACMAJAAlACYAJwAoACkAKgArACwALQAuAC8AMAAxADIAMwA0ADUANgA3ADgAOQA6ADsAPAA9AD4APwBAAEEAQgBDAEQARQBGAEcASABJAEoASwBMAE0ATgBPAFAAUQBSAFMAVABVAFYAVwBYAFkAWgBbAFwAXQBeAF8AYABhAGIAYwBkAGUAZgBnAGgAaQBqAGsAbABtAG4AbwBwAHEAcgBzAHQAdQB2AHcAeAB5AHoAewB8AH0AfgB/AIAAgQCCAIMAhACFAIYAhwCIAIkAigCLAIwAjQCOAI8AkACRAJIAkwCUAJUAlgCXAJgAmQCaAJsAnACdAJ4AnwCgAKEAogCjAKQApQCmAKcAqACpAKoAqwCsAK0ArgCvALAAsQCyALMAtAC1ALYAtwC4ALkAugC7AA==",
          "dtype": "i2"
         },
         "yaxis": "y",
         "z": {
          "bdata": "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",
          "dtype": "i1",
          "shape": "188, 10"
         }
        }
       ],
       "layout": {
        "coloraxis": {
         "colorbar": {
          "title": {
           "text": "Number of Instances"
          }
         },
         "colorscale": [
          [
           0,
           "#440154"
          ],
          [
           0.1111111111111111,
           "#482878"
          ],
          [
           0.2222222222222222,
           "#3e4989"
          ],
          [
           0.3333333333333333,
           "#31688e"
          ],
          [
           0.4444444444444444,
           "#26828e"
          ],
          [
           0.5555555555555556,
           "#1f9e89"
          ],
          [
           0.6666666666666666,
           "#35b779"
          ],
          [
           0.7777777777777778,
           "#6ece58"
          ],
          [
           0.8888888888888888,
           "#b5de2b"
          ],
          [
           1,
           "#fde725"
          ]
         ]
        },
        "height": 900,
        "margin": {
         "t": 60
        },
        "template": {
         "data": {
          "bar": [
           {
            "error_x": {
             "color": "#2a3f5f"
            },
            "error_y": {
             "color": "#2a3f5f"
            },
            "marker": {
             "line": {
              "color": "#E5ECF6",
              "width": 0.5
             },
             "pattern": {
              "fillmode": "overlay",
              "size": 10,
              "solidity": 0.2
             }
            },
            "type": "bar"
           }
          ],
          "barpolar": [
           {
            "marker": {
             "line": {
              "color": "#E5ECF6",
              "width": 0.5
             },
             "pattern": {
              "fillmode": "overlay",
              "size": 10,
              "solidity": 0.2
             }
            },
            "type": "barpolar"
           }
          ],
          "carpet": [
           {
            "aaxis": {
             "endlinecolor": "#2a3f5f",
             "gridcolor": "white",
             "linecolor": "white",
             "minorgridcolor": "white",
             "startlinecolor": "#2a3f5f"
            },
            "baxis": {
             "endlinecolor": "#2a3f5f",
             "gridcolor": "white",
             "linecolor": "white",
             "minorgridcolor": "white",
             "startlinecolor": "#2a3f5f"
            },
            "type": "carpet"
           }
          ],
          "choropleth": [
           {
            "colorbar": {
             "outlinewidth": 0,
             "ticks": ""
            },
            "type": "choropleth"
           }
          ],
          "contour": [
           {
            "colorbar": {
             "outlinewidth": 0,
             "ticks": ""
            },
            "colorscale": [
             [
              0,
              "#0d0887"
             ],
             [
              0.1111111111111111,
              "#46039f"
             ],
             [
              0.2222222222222222,
              "#7201a8"
             ],
             [
              0.3333333333333333,
              "#9c179e"
             ],
             [
              0.4444444444444444,
              "#bd3786"
             ],
             [
              0.5555555555555556,
              "#d8576b"
             ],
             [
              0.6666666666666666,
              "#ed7953"
             ],
             [
              0.7777777777777778,
              "#fb9f3a"
             ],
             [
              0.8888888888888888,
              "#fdca26"
             ],
             [
              1,
              "#f0f921"
             ]
            ],
            "type": "contour"
           }
          ],
          "contourcarpet": [
           {
            "colorbar": {
             "outlinewidth": 0,
             "ticks": ""
            },
            "type": "contourcarpet"
           }
          ],
          "heatmap": [
           {
            "colorbar": {
             "outlinewidth": 0,
             "ticks": ""
            },
            "colorscale": [
             [
              0,
              "#0d0887"
             ],
             [
              0.1111111111111111,
              "#46039f"
             ],
             [
              0.2222222222222222,
              "#7201a8"
             ],
             [
              0.3333333333333333,
              "#9c179e"
             ],
             [
              0.4444444444444444,
              "#bd3786"
             ],
             [
              0.5555555555555556,
              "#d8576b"
             ],
             [
              0.6666666666666666,
              "#ed7953"
             ],
             [
              0.7777777777777778,
              "#fb9f3a"
             ],
             [
              0.8888888888888888,
              "#fdca26"
             ],
             [
              1,
              "#f0f921"
             ]
            ],
            "type": "heatmap"
           }
          ],
          "histogram": [
           {
            "marker": {
             "pattern": {
              "fillmode": "overlay",
              "size": 10,
              "solidity": 0.2
             }
            },
            "type": "histogram"
           }
          ],
          "histogram2d": [
           {
            "colorbar": {
             "outlinewidth": 0,
             "ticks": ""
            },
            "colorscale": [
             [
              0,
              "#0d0887"
             ],
             [
              0.1111111111111111,
              "#46039f"
             ],
             [
              0.2222222222222222,
              "#7201a8"
             ],
             [
              0.3333333333333333,
              "#9c179e"
             ],
             [
              0.4444444444444444,
              "#bd3786"
             ],
             [
              0.5555555555555556,
              "#d8576b"
             ],
             [
              0.6666666666666666,
              "#ed7953"
             ],
             [
              0.7777777777777778,
              "#fb9f3a"
             ],
             [
              0.8888888888888888,
              "#fdca26"
             ],
             [
              1,
              "#f0f921"
             ]
            ],
            "type": "histogram2d"
           }
          ],
          "histogram2dcontour": [
           {
            "colorbar": {
             "outlinewidth": 0,
             "ticks": ""
            },
            "colorscale": [
             [
              0,
              "#0d0887"
             ],
             [
              0.1111111111111111,
              "#46039f"
             ],
             [
              0.2222222222222222,
              "#7201a8"
             ],
             [
              0.3333333333333333,
              "#9c179e"
             ],
             [
              0.4444444444444444,
              "#bd3786"
             ],
             [
              0.5555555555555556,
              "#d8576b"
             ],
             [
              0.6666666666666666,
              "#ed7953"
             ],
             [
              0.7777777777777778,
              "#fb9f3a"
             ],
             [
              0.8888888888888888,
              "#fdca26"
             ],
             [
              1,
              "#f0f921"
             ]
            ],
            "type": "histogram2dcontour"
           }
          ],
          "mesh3d": [
           {
            "colorbar": {
             "outlinewidth": 0,
             "ticks": ""
            },
            "type": "mesh3d"
           }
          ],
          "parcoords": [
           {
            "line": {
             "colorbar": {
              "outlinewidth": 0,
              "ticks": ""
             }
            },
            "type": "parcoords"
           }
          ],
          "pie": [
           {
            "automargin": true,
            "type": "pie"
           }
          ],
          "scatter": [
           {
            "fillpattern": {
             "fillmode": "overlay",
             "size": 10,
             "solidity": 0.2
            },
            "type": "scatter"
           }
          ],
          "scatter3d": [
           {
            "line": {
             "colorbar": {
              "outlinewidth": 0,
              "ticks": ""
             }
            },
            "marker": {
             "colorbar": {
              "outlinewidth": 0,
              "ticks": ""
             }
            },
            "type": "scatter3d"
           }
          ],
          "scattercarpet": [
           {
            "marker": {
             "colorbar": {
              "outlinewidth": 0,
              "ticks": ""
             }
            },
            "type": "scattercarpet"
           }
          ],
          "scattergeo": [
           {
            "marker": {
             "colorbar": {
              "outlinewidth": 0,
              "ticks": ""
             }
            },
            "type": "scattergeo"
           }
          ],
          "scattergl": [
           {
            "marker": {
             "colorbar": {
              "outlinewidth": 0,
              "ticks": ""
             }
            },
            "type": "scattergl"
           }
          ],
          "scattermap": [
           {
            "marker": {
             "colorbar": {
              "outlinewidth": 0,
              "ticks": ""
             }
            },
            "type": "scattermap"
           }
          ],
          "scattermapbox": [
           {
            "marker": {
             "colorbar": {
              "outlinewidth": 0,
              "ticks": ""
             }
            },
            "type": "scattermapbox"
           }
          ],
          "scatterpolar": [
           {
            "marker": {
             "colorbar": {
              "outlinewidth": 0,
              "ticks": ""
             }
            },
            "type": "scatterpolar"
           }
          ],
          "scatterpolargl": [
           {
            "marker": {
             "colorbar": {
              "outlinewidth": 0,
              "ticks": ""
             }
            },
            "type": "scatterpolargl"
           }
          ],
          "scatterternary": [
           {
            "marker": {
             "colorbar": {
              "outlinewidth": 0,
              "ticks": ""
             }
            },
            "type": "scatterternary"
           }
          ],
          "surface": [
           {
            "colorbar": {
             "outlinewidth": 0,
             "ticks": ""
            },
            "colorscale": [
             [
              0,
              "#0d0887"
             ],
             [
              0.1111111111111111,
              "#46039f"
             ],
             [
              0.2222222222222222,
              "#7201a8"
             ],
             [
              0.3333333333333333,
              "#9c179e"
             ],
             [
              0.4444444444444444,
              "#bd3786"
             ],
             [
              0.5555555555555556,
              "#d8576b"
             ],
             [
              0.6666666666666666,
              "#ed7953"
             ],
             [
              0.7777777777777778,
              "#fb9f3a"
             ],
             [
              0.8888888888888888,
              "#fdca26"
             ],
             [
              1,
              "#f0f921"
             ]
            ],
            "type": "surface"
           }
          ],
          "table": [
           {
            "cells": {
             "fill": {
              "color": "#EBF0F8"
             },
             "line": {
              "color": "white"
             }
            },
            "header": {
             "fill": {
              "color": "#C8D4E3"
             },
             "line": {
              "color": "white"
             }
            },
            "type": "table"
           }
          ]
         },
         "layout": {
          "annotationdefaults": {
           "arrowcolor": "#2a3f5f",
           "arrowhead": 0,
           "arrowwidth": 1
          },
          "autotypenumbers": "strict",
          "coloraxis": {
           "colorbar": {
            "outlinewidth": 0,
            "ticks": ""
           }
          },
          "colorscale": {
           "diverging": [
            [
             0,
             "#8e0152"
            ],
            [
             0.1,
             "#c51b7d"
            ],
            [
             0.2,
             "#de77ae"
            ],
            [
             0.3,
             "#f1b6da"
            ],
            [
             0.4,
             "#fde0ef"
            ],
            [
             0.5,
             "#f7f7f7"
            ],
            [
             0.6,
             "#e6f5d0"
            ],
            [
             0.7,
             "#b8e186"
            ],
            [
             0.8,
             "#7fbc41"
            ],
            [
             0.9,
             "#4d9221"
            ],
            [
             1,
             "#276419"
            ]
           ],
           "sequential": [
            [
             0,
             "#0d0887"
            ],
            [
             0.1111111111111111,
             "#46039f"
            ],
            [
             0.2222222222222222,
             "#7201a8"
            ],
            [
             0.3333333333333333,
             "#9c179e"
            ],
            [
             0.4444444444444444,
             "#bd3786"
            ],
            [
             0.5555555555555556,
             "#d8576b"
            ],
            [
             0.6666666666666666,
             "#ed7953"
            ],
            [
             0.7777777777777778,
             "#fb9f3a"
            ],
            [
             0.8888888888888888,
             "#fdca26"
            ],
            [
             1,
             "#f0f921"
            ]
           ],
           "sequentialminus": [
            [
             0,
             "#0d0887"
            ],
            [
             0.1111111111111111,
             "#46039f"
            ],
            [
             0.2222222222222222,
             "#7201a8"
            ],
            [
             0.3333333333333333,
             "#9c179e"
            ],
            [
             0.4444444444444444,
             "#bd3786"
            ],
            [
             0.5555555555555556,
             "#d8576b"
            ],
            [
             0.6666666666666666,
             "#ed7953"
            ],
            [
             0.7777777777777778,
             "#fb9f3a"
            ],
            [
             0.8888888888888888,
             "#fdca26"
            ],
            [
             1,
             "#f0f921"
            ]
           ]
          },
          "colorway": [
           "#636efa",
           "#EF553B",
           "#00cc96",
           "#ab63fa",
           "#FFA15A",
           "#19d3f3",
           "#FF6692",
           "#B6E880",
           "#FF97FF",
           "#FECB52"
          ],
          "font": {
           "color": "#2a3f5f"
          },
          "geo": {
           "bgcolor": "white",
           "lakecolor": "white",
           "landcolor": "#E5ECF6",
           "showlakes": true,
           "showland": true,
           "subunitcolor": "white"
          },
          "hoverlabel": {
           "align": "left"
          },
          "hovermode": "closest",
          "mapbox": {
           "style": "light"
          },
          "paper_bgcolor": "white",
          "plot_bgcolor": "#E5ECF6",
          "polar": {
           "angularaxis": {
            "gridcolor": "white",
            "linecolor": "white",
            "ticks": ""
           },
           "bgcolor": "#E5ECF6",
           "radialaxis": {
            "gridcolor": "white",
            "linecolor": "white",
            "ticks": ""
           }
          },
          "scene": {
           "xaxis": {
            "backgroundcolor": "#E5ECF6",
            "gridcolor": "white",
            "gridwidth": 2,
            "linecolor": "white",
            "showbackground": true,
            "ticks": "",
            "zerolinecolor": "white"
           },
           "yaxis": {
            "backgroundcolor": "#E5ECF6",
            "gridcolor": "white",
            "gridwidth": 2,
            "linecolor": "white",
            "showbackground": true,
            "ticks": "",
            "zerolinecolor": "white"
           },
           "zaxis": {
            "backgroundcolor": "#E5ECF6",
            "gridcolor": "white",
            "gridwidth": 2,
            "linecolor": "white",
            "showbackground": true,
            "ticks": "",
            "zerolinecolor": "white"
           }
          },
          "shapedefaults": {
           "line": {
            "color": "#2a3f5f"
           }
          },
          "ternary": {
           "aaxis": {
            "gridcolor": "white",
            "linecolor": "white",
            "ticks": ""
           },
           "baxis": {
            "gridcolor": "white",
            "linecolor": "white",
            "ticks": ""
           },
           "bgcolor": "#E5ECF6",
           "caxis": {
            "gridcolor": "white",
            "linecolor": "white",
            "ticks": ""
           }
          },
          "title": {
           "x": 0.05
          },
          "xaxis": {
           "automargin": true,
           "gridcolor": "white",
           "linecolor": "white",
           "ticks": "",
           "title": {
            "standoff": 15
           },
           "zerolinecolor": "white",
           "zerolinewidth": 2
          },
          "yaxis": {
           "automargin": true,
           "gridcolor": "white",
           "linecolor": "white",
           "ticks": "",
           "title": {
            "standoff": 15
           },
           "zerolinecolor": "white",
           "zerolinewidth": 2
          }
         }
        },
        "title": {
         "text": "ER Class Distribution in Each Batch - Task ID 1"
        },
        "xaxis": {
         "anchor": "y",
         "domain": [
          0,
          1
         ],
         "title": {
          "text": "Classes"
         }
        },
        "yaxis": {
         "anchor": "x",
         "autorange": "reversed",
         "domain": [
          0,
          1
         ],
         "title": {
          "text": "Batches"
         }
        }
       }
      }
     },
     "metadata": {},
     "output_type": "display_data"
    }
   ],
   "source": [
    "import numpy as np\n",
    "import plotly.express as px\n",
    "\n",
    "task_id = 1\n",
    "\n",
    "df = pd.read_csv(\"../results_plot_SplitFashionMNIST_['EDR', 'ER']_False_[]_32_5_0_5_2/train_batches_y_ExperienceReplay.log\", \n",
    "                 names=[\"task_id\", \"class_0\", \"class_1\", \"class_2\", \"class_3\", \"class_4\", \"class_5\", \"class_6\", \n",
    "                            \"class_7\", \"class_8\", \"class_9\"])\n",
    "\n",
    "\n",
    "df_plot = df.loc[df.task_id == task_id].reset_index(drop=True).copy()\n",
    "# df_plot = pd.concat([df_plot[:10], df_plot[80:90], df_plot[115:125]], ignore_index=True)\n",
    "df_plot.drop(columns=[\"task_id\"], inplace=True)\n",
    "\n",
    "# Criação do heatmap interativo (classe no eixo Y, batch no eixo X)\n",
    "fig = px.imshow(\n",
    "    df_plot,\n",
    "    labels=dict(x=\"Classes\", y=\"Batches\", color=\"Number of Instances\"),\n",
    "    # x=[f\"Batch {i}\" for i in range(1, num_batches+1)],\n",
    "    # y=[f\"Classe {i}\" for i in range(num_classes)],\n",
    "    aspect=\"auto\",\n",
    "    color_continuous_scale=\"Viridis\",\n",
    "    origin=\"upper\",  # garante que Classe 0 fique em cima\n",
    "    # text_auto=True\n",
    ")\n",
    "\n",
    "fig.update_layout(\n",
    "    title=\"ER Class Distribution in Each Batch - Task ID {}\".format(task_id),\n",
    "    xaxis_title=\"Classes\",\n",
    "    yaxis_title=\"Batches\",\n",
    "    height=900,\n",
    ")\n",
    "\n",
    "fig.show()"
   ]
  },
  {
   "cell_type": "markdown",
   "id": "775e0e20",
   "metadata": {},
   "source": [
    "<!--### results_plot_SplitFashionMNIST_['EDR', 'ER']_False_[]_32_5_0_5_2/train_batches_y_ExperienceDelayReplay.log -->\n",
    "#### Task 2\n",
    "#### Classes 9, 3"
   ]
  },
  {
   "cell_type": "code",
   "execution_count": 6,
   "id": "2c8b3c5a",
   "metadata": {},
   "outputs": [
    {
     "data": {
      "application/vnd.plotly.v1+json": {
       "config": {
        "plotlyServerURL": "https://plot.ly"
       },
       "data": [
        {
         "coloraxis": "coloraxis",
         "hovertemplate": "Classes: %{x}<br>Batches: %{y}<br>Number of Instances: %{z}<extra></extra>",
         "name": "0",
         "type": "heatmap",
         "x": [
          "class_0",
          "class_1",
          "class_2",
          "class_3",
          "class_4",
          "class_5",
          "class_6",
          "class_7",
          "class_8",
          "class_9"
         ],
         "xaxis": "x",
         "y": {
          "bdata": "AAECAwQFBgcICQoLDA0ODxAREhMUFRYXGBkaGxwdHh8gISIjJCUmJygpKissLS4vMDEyMzQ1Njc4OTo7PD0+P0BBQkNERUZHSElKS0xNTk9QUVJTVFVWV1hZWltcXV5fYGFiY2RlZmdoaWprbG1ub3BxcnN0dXZ3eHl6e3w=",
          "dtype": "i1"
         },
         "yaxis": "y",
         "z": {
          "bdata": "AA0AAAUhAA0AAAAMAAAHFgAXAAAACAAABhUAHQAAAAwADQYFAAkAEwAJAAUCCgALABsABgALCAoACAAVAAYADQgIAAkAFAAEAAQICgAKABwACQANCQgABAAVAAYACgcMAAYAFwAIAAUGCAAKABsACQAIBgoABwAYAAgAAggHAAcAIAAHAAIHCwAHAB4ABwAGDAUACAAaAAkAAgkIAAUAHwAGAAUEBwANAB0ACAAECAcABwAeAAUAAwYHAAwAHwAMAAYDCAAIABsABQAICQgABwAbAAUADQkIAAkAFAAIABEHCQAEABMACQASBgUACwAPAAgAGQcIAAkABwAKABgGAgALAAsACAAeCAgABwADAAgAHQYLAAYABAAMACAFBgAFAAQACAAeBwcACQADAAcAGwcIAAkABgAIABoJBgAHAAgACgAZBgcABwAJAA0AFgQJAAMADQAOABAIAwAFABIABwAUCAcABwAPAAYAEQkGAAcAEwAIABMHBwAJAA4ABwASBgcABgAUAAYAFAgFAAoADwAFABUHCAALAAwABQAZBQkACAAMAAgAFAgFAAoADQAJABcDCQAHAA0ABAAPDAgABwASAAQAHAgHAAcACgAHAB0FBgALAAYACgATBAoABQAQAAcAFAgGAAoADQAGABAHDQAGABAADAARAgcACAASAAQAGAYHAAsADAAKAA4EBwAIABUABwAUBgcACAAQAAkAFQYIAAYADgAEABMIAwAPAA8ACgARBgYABAAVAAgAEAkDAAcAFQAIABADCQAHABUACAAZBQYABgAOAAkAEQUHAAYAFAADABgECgAHABAACAAYBgYABQAPAAQAGAgEAAoADgAIABkJBgADAA0ABQATCQcABwARAAcAEQYJAAYAEwAJABUECAAEABIACgAYCAMABgANAAcAFQkHAAEAEwAIABYHBAAJAA4ACQATBgUACAARAAUAFgcDAAgAEwAJAA8GCAAGABQACQAYBQcABAAPAAwAFwMGAAcADQAHABEICAADABUACAARBQkABQAUAAQAGAkIAAUADgALABYDBwAHAA4ABgAYBwcACgAKAAUAEAgJAAYAFAAHABUGBAAGABQABAATAwkABQAYAAcAFwcEAAgADwAIAA4FBwAJABUABgAPBgcABgAYAAkAEgUGAAQAFgADABMHBgAGABcACAAXAwIACgASAAwADwkEAAUAEwAJAAsDCQAIABgABwAIBgsABQAbAAMADQYGAAcAHQAFAA4GBQAKABgACAASBgQACgASAAkAEAUGAAMAGQAGABIJBwAFABMABgAOBAgABwAZAAkAFQMFAAQAFgAHABAEAwAJABkAAwATCQgABwASAAYAEwYFAAgAFAAFABIEBQAJABcAAwAcBAcACAAOAAYAEwUFAAYAFwAEABMCCAAMABMABQARBQYACgAVAAcAGAcEAAgADgAJABYGBgAEABEACAAUBAMABwAWAAYAEgYDAAcAGAAGAA0ECAAFABwACAANBAcABwAZAAUABwMIAAkAIAADABEDCQAGABoABAAPBQYABwAbAAQADwoEAAQAGwAGABQFAwAHABcABgAQBgQABQAbAAoADgYDAAMAHAAFAA4EBQAHAB0ABQAQBAYACAAZAAcADgcHAAMAGgAFABYEBQAGABY=",
          "dtype": "i1",
          "shape": "125, 10"
         }
        }
       ],
       "layout": {
        "coloraxis": {
         "colorbar": {
          "title": {
           "text": "Number of Instances"
          }
         },
         "colorscale": [
          [
           0,
           "#440154"
          ],
          [
           0.1111111111111111,
           "#482878"
          ],
          [
           0.2222222222222222,
           "#3e4989"
          ],
          [
           0.3333333333333333,
           "#31688e"
          ],
          [
           0.4444444444444444,
           "#26828e"
          ],
          [
           0.5555555555555556,
           "#1f9e89"
          ],
          [
           0.6666666666666666,
           "#35b779"
          ],
          [
           0.7777777777777778,
           "#6ece58"
          ],
          [
           0.8888888888888888,
           "#b5de2b"
          ],
          [
           1,
           "#fde725"
          ]
         ]
        },
        "height": 900,
        "margin": {
         "t": 60
        },
        "template": {
         "data": {
          "bar": [
           {
            "error_x": {
             "color": "#2a3f5f"
            },
            "error_y": {
             "color": "#2a3f5f"
            },
            "marker": {
             "line": {
              "color": "#E5ECF6",
              "width": 0.5
             },
             "pattern": {
              "fillmode": "overlay",
              "size": 10,
              "solidity": 0.2
             }
            },
            "type": "bar"
           }
          ],
          "barpolar": [
           {
            "marker": {
             "line": {
              "color": "#E5ECF6",
              "width": 0.5
             },
             "pattern": {
              "fillmode": "overlay",
              "size": 10,
              "solidity": 0.2
             }
            },
            "type": "barpolar"
           }
          ],
          "carpet": [
           {
            "aaxis": {
             "endlinecolor": "#2a3f5f",
             "gridcolor": "white",
             "linecolor": "white",
             "minorgridcolor": "white",
             "startlinecolor": "#2a3f5f"
            },
            "baxis": {
             "endlinecolor": "#2a3f5f",
             "gridcolor": "white",
             "linecolor": "white",
             "minorgridcolor": "white",
             "startlinecolor": "#2a3f5f"
            },
            "type": "carpet"
           }
          ],
          "choropleth": [
           {
            "colorbar": {
             "outlinewidth": 0,
             "ticks": ""
            },
            "type": "choropleth"
           }
          ],
          "contour": [
           {
            "colorbar": {
             "outlinewidth": 0,
             "ticks": ""
            },
            "colorscale": [
             [
              0,
              "#0d0887"
             ],
             [
              0.1111111111111111,
              "#46039f"
             ],
             [
              0.2222222222222222,
              "#7201a8"
             ],
             [
              0.3333333333333333,
              "#9c179e"
             ],
             [
              0.4444444444444444,
              "#bd3786"
             ],
             [
              0.5555555555555556,
              "#d8576b"
             ],
             [
              0.6666666666666666,
              "#ed7953"
             ],
             [
              0.7777777777777778,
              "#fb9f3a"
             ],
             [
              0.8888888888888888,
              "#fdca26"
             ],
             [
              1,
              "#f0f921"
             ]
            ],
            "type": "contour"
           }
          ],
          "contourcarpet": [
           {
            "colorbar": {
             "outlinewidth": 0,
             "ticks": ""
            },
            "type": "contourcarpet"
           }
          ],
          "heatmap": [
           {
            "colorbar": {
             "outlinewidth": 0,
             "ticks": ""
            },
            "colorscale": [
             [
              0,
              "#0d0887"
             ],
             [
              0.1111111111111111,
              "#46039f"
             ],
             [
              0.2222222222222222,
              "#7201a8"
             ],
             [
              0.3333333333333333,
              "#9c179e"
             ],
             [
              0.4444444444444444,
              "#bd3786"
             ],
             [
              0.5555555555555556,
              "#d8576b"
             ],
             [
              0.6666666666666666,
              "#ed7953"
             ],
             [
              0.7777777777777778,
              "#fb9f3a"
             ],
             [
              0.8888888888888888,
              "#fdca26"
             ],
             [
              1,
              "#f0f921"
             ]
            ],
            "type": "heatmap"
           }
          ],
          "histogram": [
           {
            "marker": {
             "pattern": {
              "fillmode": "overlay",
              "size": 10,
              "solidity": 0.2
             }
            },
            "type": "histogram"
           }
          ],
          "histogram2d": [
           {
            "colorbar": {
             "outlinewidth": 0,
             "ticks": ""
            },
            "colorscale": [
             [
              0,
              "#0d0887"
             ],
             [
              0.1111111111111111,
              "#46039f"
             ],
             [
              0.2222222222222222,
              "#7201a8"
             ],
             [
              0.3333333333333333,
              "#9c179e"
             ],
             [
              0.4444444444444444,
              "#bd3786"
             ],
             [
              0.5555555555555556,
              "#d8576b"
             ],
             [
              0.6666666666666666,
              "#ed7953"
             ],
             [
              0.7777777777777778,
              "#fb9f3a"
             ],
             [
              0.8888888888888888,
              "#fdca26"
             ],
             [
              1,
              "#f0f921"
             ]
            ],
            "type": "histogram2d"
           }
          ],
          "histogram2dcontour": [
           {
            "colorbar": {
             "outlinewidth": 0,
             "ticks": ""
            },
            "colorscale": [
             [
              0,
              "#0d0887"
             ],
             [
              0.1111111111111111,
              "#46039f"
             ],
             [
              0.2222222222222222,
              "#7201a8"
             ],
             [
              0.3333333333333333,
              "#9c179e"
             ],
             [
              0.4444444444444444,
              "#bd3786"
             ],
             [
              0.5555555555555556,
              "#d8576b"
             ],
             [
              0.6666666666666666,
              "#ed7953"
             ],
             [
              0.7777777777777778,
              "#fb9f3a"
             ],
             [
              0.8888888888888888,
              "#fdca26"
             ],
             [
              1,
              "#f0f921"
             ]
            ],
            "type": "histogram2dcontour"
           }
          ],
          "mesh3d": [
           {
            "colorbar": {
             "outlinewidth": 0,
             "ticks": ""
            },
            "type": "mesh3d"
           }
          ],
          "parcoords": [
           {
            "line": {
             "colorbar": {
              "outlinewidth": 0,
              "ticks": ""
             }
            },
            "type": "parcoords"
           }
          ],
          "pie": [
           {
            "automargin": true,
            "type": "pie"
           }
          ],
          "scatter": [
           {
            "fillpattern": {
             "fillmode": "overlay",
             "size": 10,
             "solidity": 0.2
            },
            "type": "scatter"
           }
          ],
          "scatter3d": [
           {
            "line": {
             "colorbar": {
              "outlinewidth": 0,
              "ticks": ""
             }
            },
            "marker": {
             "colorbar": {
              "outlinewidth": 0,
              "ticks": ""
             }
            },
            "type": "scatter3d"
           }
          ],
          "scattercarpet": [
           {
            "marker": {
             "colorbar": {
              "outlinewidth": 0,
              "ticks": ""
             }
            },
            "type": "scattercarpet"
           }
          ],
          "scattergeo": [
           {
            "marker": {
             "colorbar": {
              "outlinewidth": 0,
              "ticks": ""
             }
            },
            "type": "scattergeo"
           }
          ],
          "scattergl": [
           {
            "marker": {
             "colorbar": {
              "outlinewidth": 0,
              "ticks": ""
             }
            },
            "type": "scattergl"
           }
          ],
          "scattermap": [
           {
            "marker": {
             "colorbar": {
              "outlinewidth": 0,
              "ticks": ""
             }
            },
            "type": "scattermap"
           }
          ],
          "scattermapbox": [
           {
            "marker": {
             "colorbar": {
              "outlinewidth": 0,
              "ticks": ""
             }
            },
            "type": "scattermapbox"
           }
          ],
          "scatterpolar": [
           {
            "marker": {
             "colorbar": {
              "outlinewidth": 0,
              "ticks": ""
             }
            },
            "type": "scatterpolar"
           }
          ],
          "scatterpolargl": [
           {
            "marker": {
             "colorbar": {
              "outlinewidth": 0,
              "ticks": ""
             }
            },
            "type": "scatterpolargl"
           }
          ],
          "scatterternary": [
           {
            "marker": {
             "colorbar": {
              "outlinewidth": 0,
              "ticks": ""
             }
            },
            "type": "scatterternary"
           }
          ],
          "surface": [
           {
            "colorbar": {
             "outlinewidth": 0,
             "ticks": ""
            },
            "colorscale": [
             [
              0,
              "#0d0887"
             ],
             [
              0.1111111111111111,
              "#46039f"
             ],
             [
              0.2222222222222222,
              "#7201a8"
             ],
             [
              0.3333333333333333,
              "#9c179e"
             ],
             [
              0.4444444444444444,
              "#bd3786"
             ],
             [
              0.5555555555555556,
              "#d8576b"
             ],
             [
              0.6666666666666666,
              "#ed7953"
             ],
             [
              0.7777777777777778,
              "#fb9f3a"
             ],
             [
              0.8888888888888888,
              "#fdca26"
             ],
             [
              1,
              "#f0f921"
             ]
            ],
            "type": "surface"
           }
          ],
          "table": [
           {
            "cells": {
             "fill": {
              "color": "#EBF0F8"
             },
             "line": {
              "color": "white"
             }
            },
            "header": {
             "fill": {
              "color": "#C8D4E3"
             },
             "line": {
              "color": "white"
             }
            },
            "type": "table"
           }
          ]
         },
         "layout": {
          "annotationdefaults": {
           "arrowcolor": "#2a3f5f",
           "arrowhead": 0,
           "arrowwidth": 1
          },
          "autotypenumbers": "strict",
          "coloraxis": {
           "colorbar": {
            "outlinewidth": 0,
            "ticks": ""
           }
          },
          "colorscale": {
           "diverging": [
            [
             0,
             "#8e0152"
            ],
            [
             0.1,
             "#c51b7d"
            ],
            [
             0.2,
             "#de77ae"
            ],
            [
             0.3,
             "#f1b6da"
            ],
            [
             0.4,
             "#fde0ef"
            ],
            [
             0.5,
             "#f7f7f7"
            ],
            [
             0.6,
             "#e6f5d0"
            ],
            [
             0.7,
             "#b8e186"
            ],
            [
             0.8,
             "#7fbc41"
            ],
            [
             0.9,
             "#4d9221"
            ],
            [
             1,
             "#276419"
            ]
           ],
           "sequential": [
            [
             0,
             "#0d0887"
            ],
            [
             0.1111111111111111,
             "#46039f"
            ],
            [
             0.2222222222222222,
             "#7201a8"
            ],
            [
             0.3333333333333333,
             "#9c179e"
            ],
            [
             0.4444444444444444,
             "#bd3786"
            ],
            [
             0.5555555555555556,
             "#d8576b"
            ],
            [
             0.6666666666666666,
             "#ed7953"
            ],
            [
             0.7777777777777778,
             "#fb9f3a"
            ],
            [
             0.8888888888888888,
             "#fdca26"
            ],
            [
             1,
             "#f0f921"
            ]
           ],
           "sequentialminus": [
            [
             0,
             "#0d0887"
            ],
            [
             0.1111111111111111,
             "#46039f"
            ],
            [
             0.2222222222222222,
             "#7201a8"
            ],
            [
             0.3333333333333333,
             "#9c179e"
            ],
            [
             0.4444444444444444,
             "#bd3786"
            ],
            [
             0.5555555555555556,
             "#d8576b"
            ],
            [
             0.6666666666666666,
             "#ed7953"
            ],
            [
             0.7777777777777778,
             "#fb9f3a"
            ],
            [
             0.8888888888888888,
             "#fdca26"
            ],
            [
             1,
             "#f0f921"
            ]
           ]
          },
          "colorway": [
           "#636efa",
           "#EF553B",
           "#00cc96",
           "#ab63fa",
           "#FFA15A",
           "#19d3f3",
           "#FF6692",
           "#B6E880",
           "#FF97FF",
           "#FECB52"
          ],
          "font": {
           "color": "#2a3f5f"
          },
          "geo": {
           "bgcolor": "white",
           "lakecolor": "white",
           "landcolor": "#E5ECF6",
           "showlakes": true,
           "showland": true,
           "subunitcolor": "white"
          },
          "hoverlabel": {
           "align": "left"
          },
          "hovermode": "closest",
          "mapbox": {
           "style": "light"
          },
          "paper_bgcolor": "white",
          "plot_bgcolor": "#E5ECF6",
          "polar": {
           "angularaxis": {
            "gridcolor": "white",
            "linecolor": "white",
            "ticks": ""
           },
           "bgcolor": "#E5ECF6",
           "radialaxis": {
            "gridcolor": "white",
            "linecolor": "white",
            "ticks": ""
           }
          },
          "scene": {
           "xaxis": {
            "backgroundcolor": "#E5ECF6",
            "gridcolor": "white",
            "gridwidth": 2,
            "linecolor": "white",
            "showbackground": true,
            "ticks": "",
            "zerolinecolor": "white"
           },
           "yaxis": {
            "backgroundcolor": "#E5ECF6",
            "gridcolor": "white",
            "gridwidth": 2,
            "linecolor": "white",
            "showbackground": true,
            "ticks": "",
            "zerolinecolor": "white"
           },
           "zaxis": {
            "backgroundcolor": "#E5ECF6",
            "gridcolor": "white",
            "gridwidth": 2,
            "linecolor": "white",
            "showbackground": true,
            "ticks": "",
            "zerolinecolor": "white"
           }
          },
          "shapedefaults": {
           "line": {
            "color": "#2a3f5f"
           }
          },
          "ternary": {
           "aaxis": {
            "gridcolor": "white",
            "linecolor": "white",
            "ticks": ""
           },
           "baxis": {
            "gridcolor": "white",
            "linecolor": "white",
            "ticks": ""
           },
           "bgcolor": "#E5ECF6",
           "caxis": {
            "gridcolor": "white",
            "linecolor": "white",
            "ticks": ""
           }
          },
          "title": {
           "x": 0.05
          },
          "xaxis": {
           "automargin": true,
           "gridcolor": "white",
           "linecolor": "white",
           "ticks": "",
           "title": {
            "standoff": 15
           },
           "zerolinecolor": "white",
           "zerolinewidth": 2
          },
          "yaxis": {
           "automargin": true,
           "gridcolor": "white",
           "linecolor": "white",
           "ticks": "",
           "title": {
            "standoff": 15
           },
           "zerolinecolor": "white",
           "zerolinewidth": 2
          }
         }
        },
        "title": {
         "text": "EDR Class Distribution in Each Batch - Task ID 2"
        },
        "xaxis": {
         "anchor": "y",
         "domain": [
          0,
          1
         ],
         "title": {
          "text": "Classes"
         }
        },
        "yaxis": {
         "anchor": "x",
         "autorange": "reversed",
         "domain": [
          0,
          1
         ],
         "title": {
          "text": "Batches"
         }
        }
       }
      }
     },
     "metadata": {},
     "output_type": "display_data"
    }
   ],
   "source": [
    "import numpy as np\n",
    "import plotly.express as px\n",
    "\n",
    "task_id = 2\n",
    "\n",
    "df = pd.read_csv(\"../results_plot_SplitFashionMNIST_['EDR', 'ER']_False_[]_32_5_0_5_2/train_batches_y_ExperienceDelayReplay.log\", \n",
    "                 names=[\"task_id\", \"class_0\", \"class_1\", \"class_2\", \"class_3\", \"class_4\", \"class_5\", \"class_6\", \n",
    "                            \"class_7\", \"class_8\", \"class_9\"])\n",
    "\n",
    "\n",
    "df_plot = df.loc[df.task_id == task_id].reset_index(drop=True).copy()\n",
    "# df_plot = pd.concat([df_plot[:10], df_plot[80:90], df_plot[115:125]], ignore_index=True)\n",
    "df_plot.drop(columns=[\"task_id\"], inplace=True)\n",
    "\n",
    "# Criação do heatmap interativo (classe no eixo Y, batch no eixo X)\n",
    "fig = px.imshow(\n",
    "    df_plot,\n",
    "    labels=dict(x=\"Classes\", y=\"Batches\", color=\"Number of Instances\"),\n",
    "    # x=[f\"Batch {i}\" for i in range(1, num_batches+1)],\n",
    "    # y=[f\"Classe {i}\" for i in range(num_classes)],\n",
    "    aspect=\"auto\",\n",
    "    color_continuous_scale=\"Viridis\",\n",
    "    origin=\"upper\",  # garante que Classe 0 fique em cima\n",
    "    # text_auto=True\n",
    ")\n",
    "\n",
    "fig.update_layout(\n",
    "    title=\"EDR Class Distribution in Each Batch - Task ID {}\".format(task_id),\n",
    "    xaxis_title=\"Classes\",\n",
    "    yaxis_title=\"Batches\",\n",
    "    height=900,\n",
    ")\n",
    "\n",
    "fig.show()"
   ]
  },
  {
   "cell_type": "code",
   "execution_count": 7,
   "id": "b5b6cbc0",
   "metadata": {},
   "outputs": [
    {
     "data": {
      "application/vnd.plotly.v1+json": {
       "config": {
        "plotlyServerURL": "https://plot.ly"
       },
       "data": [
        {
         "coloraxis": "coloraxis",
         "hovertemplate": "Classes: %{x}<br>Batches: %{y}<br>Number of Instances: %{z}<extra></extra>",
         "name": "0",
         "type": "heatmap",
         "x": [
          "class_0",
          "class_1",
          "class_2",
          "class_3",
          "class_4",
          "class_5",
          "class_6",
          "class_7",
          "class_8",
          "class_9"
         ],
         "xaxis": "x",
         "y": {
          "bdata": "AAABAAIAAwAEAAUABgAHAAgACQAKAAsADAANAA4ADwAQABEAEgATABQAFQAWABcAGAAZABoAGwAcAB0AHgAfACAAIQAiACMAJAAlACYAJwAoACkAKgArACwALQAuAC8AMAAxADIAMwA0ADUANgA3ADgAOQA6ADsAPAA9AD4APwBAAEEAQgBDAEQARQBGAEcASABJAEoASwBMAE0ATgBPAFAAUQBSAFMAVABVAFYAVwBYAFkAWgBbAFwAXQBeAF8AYABhAGIAYwBkAGUAZgBnAGgAaQBqAGsAbABtAG4AbwBwAHEAcgBzAHQAdQB2AHcAeAB5AHoAewB8AH0AfgB/AIAAgQCCAIMAhACFAIYAhwCIAIkAigCLAIwAjQCOAI8AkACRAJIAkwCUAJUAlgCXAJgAmQCaAJsAnACdAJ4AnwCgAKEAogCjAKQApQCmAKcAqACpAKoAqwCsAK0ArgCvALAAsQCyALMAtAC1ALYAtwC4ALkAugA=",
          "dtype": "i2"
         },
         "yaxis": "y",
         "z": {
          "bdata": "AAUAAAgZABoAAAAKAAAHGgAVAAAADQAABxoAEgAAAAsAAAIbABgAAAAKAAAIFAAaAAAABAAACRgAGwAAAAcAFQQGAA8ACwAHAA8DBwAPABEABwARCgUACQAQAAgAEgYIAAkADwAGABMIBwALAA0ACgASCgMACAAPAA4ADwQFAAkAEQAIAA4FCQAIABQACQAPCQcABwARAAcAEQkHAAkADwAHABQHCAAJAA0ABQARBQcADQARAA4AEwQGAAcADgAIABIGBgAKABAACAARCAcABwARAAkAEwUIAAgADwAIAA8JBAAJABMACQAQBAwABgARAAYAEAYFAAwAEwAKABMDCQAJAA4ACgANBQQACgAWAAYAEQMLAAoAEQAGABQHBwALAA0ABgAUCAUADAANAAcAEgcIAAYAEgAIABMIBwAIAA4ABwAUBQkACAAPAAYAEAUKAAgAEwAMABIGAgAIABIACgAPBgQACgATAAYAEgQGAA0AEQAJABEHBQAFABUACgAWAwUACAAQAAcAEAUHAAoAEwADAA8HBgAMABUABAAYCA0ABAALAAcAEAoGAAcAEgAHABQFCAAGABIACAARBQMACgAVAAcAEgYIAAcAEgAHABgHBwAHAAwACAAPBgIACwAWAAcAEwIGAAsAEwALABEGBQAFABQABQAWCQYACgAMAAcAFAUEAAkAEwAJABgDBAAHABEAAQAcBgcACAAOAAQAEAYKAAkAEwAGABYIBQAIAA8ABQARBwUACgAUAAYAFgYGAAsADQADAAwIBgAKABkACgASBwQABQAUAAkACwcDAAsAFwAHABkGAgAIABAACgARBQQABgAWAAgAGQoGAAQACwAKABYFBgAGAA8ABQAZBwgACAALAAQAEAkGAAoAEwADABUDCgAMAA8ABwAWBgUACAAQAAkAFwUGAAYADwAEABgJBQAHAA8ABwAWBAcABAAUAAgAEQUGAAUAFwAGAA0HBAALABcABQAVBgYACAASAAYAFAYBAAcAGAAHABQDBgAKABIACAASBAcABgAVAAQAFwUIAAkADwAEABQECAAHABUABQATBwQADAARAAkAFQcDAAgAEAAIABUGCAAEABEABgAUCgMACAARAAMAEQkKAAMAFgAJABIDBAAIABYABQATBwUACQATAAYAEQgHAAQAFgAFABQFBgAGABYAAwAZBQoABwAOAAMAEwkEAAcAFgAFABEECQALABIACQAWCAYAAwAQAAUAFgUIAAYAEgAFABMHCQAFABMACQAUBwUABgARAAUAGQkFAAgADAAFAA0HBQALABcABgASBAgABwAVAAIAGAYFAAcAFAAEABYGBwAKAA8ACAAZBgUAAwARAAUAFAQFAAsAEwAJAA4HAgAHABkABgAXBQkAAwASAAIAFQYMAAYAEQAFABMICwABABQABQASAwkACAAVAAYAEQYEAAgAFwAHABQDBwAJABIABAAVCAYABgATAAQAEgYKAAUAFQAIABEGBAAGABcACAARAwgACAAUAAQAEgkIAAYAEwAGABkHBgAFAA8ACgATBwQAAwAVAAYAEAUFAAoAFgAEAA4HBgAHABoABwAVAwcABQAVAAcAFwUJAAYADgADABEFCAAJABYACwAPBAMACAAXAAcADgYFAAgAGAAFABIFBwAGABcABQASCAUABAAYAAMADAkJAAYAGQAIABAHAwALABMABQAQBQIACgAaAAsAFAQHAAUAEQAIABYDCAAHABAABwAWBQoAAgASAAQAFAYHAAYAFQAHABIEBAAHABgABwASBAQACgAVAAMAFgYDAAYAGAACABIGBwAIABcABQAVAwUACQAVAAIAEAkGAAoAFQACABICCAAKABgAAwAWAgkACwARAAoAEgUFAAQAFgAEABMEBgAIABcACAATAwUACAAVAAYAEQYIAAQAFwAIABQGBQAGABMABgAPCAQABQAaAAgAFQMEAAcAFQAFABkEBwAFABIABAAUBQUABgAYAAYAFQMJAAcAEgAJAA8FBgAJABQABQAbBgQABQARAAUAEwcDAAYAGAAGABIGAwAEABsAAwATCAQABwAXAAkAEwUHAAQAFAAEABUECgAGABMABgAbAwYABgAQAAUAFQUEAAgAFQAIAA8GBgAFABgABwARBAgABAAYAAgAFQYFAAcAEQADABEEBQAJABoABAAWBwQABQAWAAMAEwgEAAUAGQAFABoECAAIAA0ACAATCgIAAwAWAAQAFwcGAAIAFgAGABcECAAGABEABwAVBgMABAAXAAQADggKAAgAFAAEABEGBQAHABkAAwAaBQYABgASAAgAFAYDAAkAEgAIAAwFAAAIAB8ABwAZBAUAAwAUAAYAFQQDAAgAFgAEAA4GCgADABsABgARAwcABwAYAAQAEgkHAAUAFQAEABYEBAAHABcABgAaBgYABQAPAAIAGwMGAAYAFAAGABIFBAAEABsABAAYBQQABAAXAAUAFAUIAAMAFw==",
          "dtype": "i1",
          "shape": "187, 10"
         }
        }
       ],
       "layout": {
        "coloraxis": {
         "colorbar": {
          "title": {
           "text": "Number of Instances"
          }
         },
         "colorscale": [
          [
           0,
           "#440154"
          ],
          [
           0.1111111111111111,
           "#482878"
          ],
          [
           0.2222222222222222,
           "#3e4989"
          ],
          [
           0.3333333333333333,
           "#31688e"
          ],
          [
           0.4444444444444444,
           "#26828e"
          ],
          [
           0.5555555555555556,
           "#1f9e89"
          ],
          [
           0.6666666666666666,
           "#35b779"
          ],
          [
           0.7777777777777778,
           "#6ece58"
          ],
          [
           0.8888888888888888,
           "#b5de2b"
          ],
          [
           1,
           "#fde725"
          ]
         ]
        },
        "height": 900,
        "margin": {
         "t": 60
        },
        "template": {
         "data": {
          "bar": [
           {
            "error_x": {
             "color": "#2a3f5f"
            },
            "error_y": {
             "color": "#2a3f5f"
            },
            "marker": {
             "line": {
              "color": "#E5ECF6",
              "width": 0.5
             },
             "pattern": {
              "fillmode": "overlay",
              "size": 10,
              "solidity": 0.2
             }
            },
            "type": "bar"
           }
          ],
          "barpolar": [
           {
            "marker": {
             "line": {
              "color": "#E5ECF6",
              "width": 0.5
             },
             "pattern": {
              "fillmode": "overlay",
              "size": 10,
              "solidity": 0.2
             }
            },
            "type": "barpolar"
           }
          ],
          "carpet": [
           {
            "aaxis": {
             "endlinecolor": "#2a3f5f",
             "gridcolor": "white",
             "linecolor": "white",
             "minorgridcolor": "white",
             "startlinecolor": "#2a3f5f"
            },
            "baxis": {
             "endlinecolor": "#2a3f5f",
             "gridcolor": "white",
             "linecolor": "white",
             "minorgridcolor": "white",
             "startlinecolor": "#2a3f5f"
            },
            "type": "carpet"
           }
          ],
          "choropleth": [
           {
            "colorbar": {
             "outlinewidth": 0,
             "ticks": ""
            },
            "type": "choropleth"
           }
          ],
          "contour": [
           {
            "colorbar": {
             "outlinewidth": 0,
             "ticks": ""
            },
            "colorscale": [
             [
              0,
              "#0d0887"
             ],
             [
              0.1111111111111111,
              "#46039f"
             ],
             [
              0.2222222222222222,
              "#7201a8"
             ],
             [
              0.3333333333333333,
              "#9c179e"
             ],
             [
              0.4444444444444444,
              "#bd3786"
             ],
             [
              0.5555555555555556,
              "#d8576b"
             ],
             [
              0.6666666666666666,
              "#ed7953"
             ],
             [
              0.7777777777777778,
              "#fb9f3a"
             ],
             [
              0.8888888888888888,
              "#fdca26"
             ],
             [
              1,
              "#f0f921"
             ]
            ],
            "type": "contour"
           }
          ],
          "contourcarpet": [
           {
            "colorbar": {
             "outlinewidth": 0,
             "ticks": ""
            },
            "type": "contourcarpet"
           }
          ],
          "heatmap": [
           {
            "colorbar": {
             "outlinewidth": 0,
             "ticks": ""
            },
            "colorscale": [
             [
              0,
              "#0d0887"
             ],
             [
              0.1111111111111111,
              "#46039f"
             ],
             [
              0.2222222222222222,
              "#7201a8"
             ],
             [
              0.3333333333333333,
              "#9c179e"
             ],
             [
              0.4444444444444444,
              "#bd3786"
             ],
             [
              0.5555555555555556,
              "#d8576b"
             ],
             [
              0.6666666666666666,
              "#ed7953"
             ],
             [
              0.7777777777777778,
              "#fb9f3a"
             ],
             [
              0.8888888888888888,
              "#fdca26"
             ],
             [
              1,
              "#f0f921"
             ]
            ],
            "type": "heatmap"
           }
          ],
          "histogram": [
           {
            "marker": {
             "pattern": {
              "fillmode": "overlay",
              "size": 10,
              "solidity": 0.2
             }
            },
            "type": "histogram"
           }
          ],
          "histogram2d": [
           {
            "colorbar": {
             "outlinewidth": 0,
             "ticks": ""
            },
            "colorscale": [
             [
              0,
              "#0d0887"
             ],
             [
              0.1111111111111111,
              "#46039f"
             ],
             [
              0.2222222222222222,
              "#7201a8"
             ],
             [
              0.3333333333333333,
              "#9c179e"
             ],
             [
              0.4444444444444444,
              "#bd3786"
             ],
             [
              0.5555555555555556,
              "#d8576b"
             ],
             [
              0.6666666666666666,
              "#ed7953"
             ],
             [
              0.7777777777777778,
              "#fb9f3a"
             ],
             [
              0.8888888888888888,
              "#fdca26"
             ],
             [
              1,
              "#f0f921"
             ]
            ],
            "type": "histogram2d"
           }
          ],
          "histogram2dcontour": [
           {
            "colorbar": {
             "outlinewidth": 0,
             "ticks": ""
            },
            "colorscale": [
             [
              0,
              "#0d0887"
             ],
             [
              0.1111111111111111,
              "#46039f"
             ],
             [
              0.2222222222222222,
              "#7201a8"
             ],
             [
              0.3333333333333333,
              "#9c179e"
             ],
             [
              0.4444444444444444,
              "#bd3786"
             ],
             [
              0.5555555555555556,
              "#d8576b"
             ],
             [
              0.6666666666666666,
              "#ed7953"
             ],
             [
              0.7777777777777778,
              "#fb9f3a"
             ],
             [
              0.8888888888888888,
              "#fdca26"
             ],
             [
              1,
              "#f0f921"
             ]
            ],
            "type": "histogram2dcontour"
           }
          ],
          "mesh3d": [
           {
            "colorbar": {
             "outlinewidth": 0,
             "ticks": ""
            },
            "type": "mesh3d"
           }
          ],
          "parcoords": [
           {
            "line": {
             "colorbar": {
              "outlinewidth": 0,
              "ticks": ""
             }
            },
            "type": "parcoords"
           }
          ],
          "pie": [
           {
            "automargin": true,
            "type": "pie"
           }
          ],
          "scatter": [
           {
            "fillpattern": {
             "fillmode": "overlay",
             "size": 10,
             "solidity": 0.2
            },
            "type": "scatter"
           }
          ],
          "scatter3d": [
           {
            "line": {
             "colorbar": {
              "outlinewidth": 0,
              "ticks": ""
             }
            },
            "marker": {
             "colorbar": {
              "outlinewidth": 0,
              "ticks": ""
             }
            },
            "type": "scatter3d"
           }
          ],
          "scattercarpet": [
           {
            "marker": {
             "colorbar": {
              "outlinewidth": 0,
              "ticks": ""
             }
            },
            "type": "scattercarpet"
           }
          ],
          "scattergeo": [
           {
            "marker": {
             "colorbar": {
              "outlinewidth": 0,
              "ticks": ""
             }
            },
            "type": "scattergeo"
           }
          ],
          "scattergl": [
           {
            "marker": {
             "colorbar": {
              "outlinewidth": 0,
              "ticks": ""
             }
            },
            "type": "scattergl"
           }
          ],
          "scattermap": [
           {
            "marker": {
             "colorbar": {
              "outlinewidth": 0,
              "ticks": ""
             }
            },
            "type": "scattermap"
           }
          ],
          "scattermapbox": [
           {
            "marker": {
             "colorbar": {
              "outlinewidth": 0,
              "ticks": ""
             }
            },
            "type": "scattermapbox"
           }
          ],
          "scatterpolar": [
           {
            "marker": {
             "colorbar": {
              "outlinewidth": 0,
              "ticks": ""
             }
            },
            "type": "scatterpolar"
           }
          ],
          "scatterpolargl": [
           {
            "marker": {
             "colorbar": {
              "outlinewidth": 0,
              "ticks": ""
             }
            },
            "type": "scatterpolargl"
           }
          ],
          "scatterternary": [
           {
            "marker": {
             "colorbar": {
              "outlinewidth": 0,
              "ticks": ""
             }
            },
            "type": "scatterternary"
           }
          ],
          "surface": [
           {
            "colorbar": {
             "outlinewidth": 0,
             "ticks": ""
            },
            "colorscale": [
             [
              0,
              "#0d0887"
             ],
             [
              0.1111111111111111,
              "#46039f"
             ],
             [
              0.2222222222222222,
              "#7201a8"
             ],
             [
              0.3333333333333333,
              "#9c179e"
             ],
             [
              0.4444444444444444,
              "#bd3786"
             ],
             [
              0.5555555555555556,
              "#d8576b"
             ],
             [
              0.6666666666666666,
              "#ed7953"
             ],
             [
              0.7777777777777778,
              "#fb9f3a"
             ],
             [
              0.8888888888888888,
              "#fdca26"
             ],
             [
              1,
              "#f0f921"
             ]
            ],
            "type": "surface"
           }
          ],
          "table": [
           {
            "cells": {
             "fill": {
              "color": "#EBF0F8"
             },
             "line": {
              "color": "white"
             }
            },
            "header": {
             "fill": {
              "color": "#C8D4E3"
             },
             "line": {
              "color": "white"
             }
            },
            "type": "table"
           }
          ]
         },
         "layout": {
          "annotationdefaults": {
           "arrowcolor": "#2a3f5f",
           "arrowhead": 0,
           "arrowwidth": 1
          },
          "autotypenumbers": "strict",
          "coloraxis": {
           "colorbar": {
            "outlinewidth": 0,
            "ticks": ""
           }
          },
          "colorscale": {
           "diverging": [
            [
             0,
             "#8e0152"
            ],
            [
             0.1,
             "#c51b7d"
            ],
            [
             0.2,
             "#de77ae"
            ],
            [
             0.3,
             "#f1b6da"
            ],
            [
             0.4,
             "#fde0ef"
            ],
            [
             0.5,
             "#f7f7f7"
            ],
            [
             0.6,
             "#e6f5d0"
            ],
            [
             0.7,
             "#b8e186"
            ],
            [
             0.8,
             "#7fbc41"
            ],
            [
             0.9,
             "#4d9221"
            ],
            [
             1,
             "#276419"
            ]
           ],
           "sequential": [
            [
             0,
             "#0d0887"
            ],
            [
             0.1111111111111111,
             "#46039f"
            ],
            [
             0.2222222222222222,
             "#7201a8"
            ],
            [
             0.3333333333333333,
             "#9c179e"
            ],
            [
             0.4444444444444444,
             "#bd3786"
            ],
            [
             0.5555555555555556,
             "#d8576b"
            ],
            [
             0.6666666666666666,
             "#ed7953"
            ],
            [
             0.7777777777777778,
             "#fb9f3a"
            ],
            [
             0.8888888888888888,
             "#fdca26"
            ],
            [
             1,
             "#f0f921"
            ]
           ],
           "sequentialminus": [
            [
             0,
             "#0d0887"
            ],
            [
             0.1111111111111111,
             "#46039f"
            ],
            [
             0.2222222222222222,
             "#7201a8"
            ],
            [
             0.3333333333333333,
             "#9c179e"
            ],
            [
             0.4444444444444444,
             "#bd3786"
            ],
            [
             0.5555555555555556,
             "#d8576b"
            ],
            [
             0.6666666666666666,
             "#ed7953"
            ],
            [
             0.7777777777777778,
             "#fb9f3a"
            ],
            [
             0.8888888888888888,
             "#fdca26"
            ],
            [
             1,
             "#f0f921"
            ]
           ]
          },
          "colorway": [
           "#636efa",
           "#EF553B",
           "#00cc96",
           "#ab63fa",
           "#FFA15A",
           "#19d3f3",
           "#FF6692",
           "#B6E880",
           "#FF97FF",
           "#FECB52"
          ],
          "font": {
           "color": "#2a3f5f"
          },
          "geo": {
           "bgcolor": "white",
           "lakecolor": "white",
           "landcolor": "#E5ECF6",
           "showlakes": true,
           "showland": true,
           "subunitcolor": "white"
          },
          "hoverlabel": {
           "align": "left"
          },
          "hovermode": "closest",
          "mapbox": {
           "style": "light"
          },
          "paper_bgcolor": "white",
          "plot_bgcolor": "#E5ECF6",
          "polar": {
           "angularaxis": {
            "gridcolor": "white",
            "linecolor": "white",
            "ticks": ""
           },
           "bgcolor": "#E5ECF6",
           "radialaxis": {
            "gridcolor": "white",
            "linecolor": "white",
            "ticks": ""
           }
          },
          "scene": {
           "xaxis": {
            "backgroundcolor": "#E5ECF6",
            "gridcolor": "white",
            "gridwidth": 2,
            "linecolor": "white",
            "showbackground": true,
            "ticks": "",
            "zerolinecolor": "white"
           },
           "yaxis": {
            "backgroundcolor": "#E5ECF6",
            "gridcolor": "white",
            "gridwidth": 2,
            "linecolor": "white",
            "showbackground": true,
            "ticks": "",
            "zerolinecolor": "white"
           },
           "zaxis": {
            "backgroundcolor": "#E5ECF6",
            "gridcolor": "white",
            "gridwidth": 2,
            "linecolor": "white",
            "showbackground": true,
            "ticks": "",
            "zerolinecolor": "white"
           }
          },
          "shapedefaults": {
           "line": {
            "color": "#2a3f5f"
           }
          },
          "ternary": {
           "aaxis": {
            "gridcolor": "white",
            "linecolor": "white",
            "ticks": ""
           },
           "baxis": {
            "gridcolor": "white",
            "linecolor": "white",
            "ticks": ""
           },
           "bgcolor": "#E5ECF6",
           "caxis": {
            "gridcolor": "white",
            "linecolor": "white",
            "ticks": ""
           }
          },
          "title": {
           "x": 0.05
          },
          "xaxis": {
           "automargin": true,
           "gridcolor": "white",
           "linecolor": "white",
           "ticks": "",
           "title": {
            "standoff": 15
           },
           "zerolinecolor": "white",
           "zerolinewidth": 2
          },
          "yaxis": {
           "automargin": true,
           "gridcolor": "white",
           "linecolor": "white",
           "ticks": "",
           "title": {
            "standoff": 15
           },
           "zerolinecolor": "white",
           "zerolinewidth": 2
          }
         }
        },
        "title": {
         "text": "ER Class Distribution in Each Batch - Task ID 2"
        },
        "xaxis": {
         "anchor": "y",
         "domain": [
          0,
          1
         ],
         "title": {
          "text": "Classes"
         }
        },
        "yaxis": {
         "anchor": "x",
         "autorange": "reversed",
         "domain": [
          0,
          1
         ],
         "title": {
          "text": "Batches"
         }
        }
       }
      }
     },
     "metadata": {},
     "output_type": "display_data"
    }
   ],
   "source": [
    "import numpy as np\n",
    "import plotly.express as px\n",
    "\n",
    "task_id = 2\n",
    "\n",
    "df = pd.read_csv(\"../results_plot_SplitFashionMNIST_['EDR', 'ER']_False_[]_32_5_0_5_2/train_batches_y_ExperienceReplay.log\", \n",
    "                 names=[\"task_id\", \"class_0\", \"class_1\", \"class_2\", \"class_3\", \"class_4\", \"class_5\", \"class_6\", \n",
    "                            \"class_7\", \"class_8\", \"class_9\"])\n",
    "\n",
    "\n",
    "df_plot = df.loc[df.task_id == task_id].reset_index(drop=True).copy()\n",
    "# df_plot = pd.concat([df_plot[:10], df_plot[80:90], df_plot[115:125]], ignore_index=True)\n",
    "df_plot.drop(columns=[\"task_id\"], inplace=True)\n",
    "\n",
    "# Criação do heatmap interativo (classe no eixo Y, batch no eixo X)\n",
    "fig = px.imshow(\n",
    "    df_plot,\n",
    "    labels=dict(x=\"Classes\", y=\"Batches\", color=\"Number of Instances\"),\n",
    "    # x=[f\"Batch {i}\" for i in range(1, num_batches+1)],\n",
    "    # y=[f\"Classe {i}\" for i in range(num_classes)],\n",
    "    aspect=\"auto\",\n",
    "    color_continuous_scale=\"Viridis\",\n",
    "    origin=\"upper\",  # garante que Classe 0 fique em cima\n",
    "    # text_auto=True\n",
    ")\n",
    "\n",
    "fig.update_layout(\n",
    "    title=\"ER Class Distribution in Each Batch - Task ID {}\".format(task_id),\n",
    "    xaxis_title=\"Classes\",\n",
    "    yaxis_title=\"Batches\",\n",
    "    height=900,\n",
    ")\n",
    "\n",
    "fig.show()"
   ]
  },
  {
   "cell_type": "markdown",
   "id": "0537c173",
   "metadata": {},
   "source": [
    "<!-- ### results_plot_SplitFashionMNIST_['EDR', 'ER']_False_[]_32_5_0_5_2/train_batches_y_ExperienceDelayReplay.log -->\n",
    "#### Task 3\n",
    "#### Classes 0, 8"
   ]
  },
  {
   "cell_type": "code",
   "execution_count": 8,
   "id": "198a1721",
   "metadata": {},
   "outputs": [
    {
     "data": {
      "application/vnd.plotly.v1+json": {
       "config": {
        "plotlyServerURL": "https://plot.ly"
       },
       "data": [
        {
         "coloraxis": "coloraxis",
         "hovertemplate": "Classes: %{x}<br>Batches: %{y}<br>Number of Instances: %{z}<extra></extra>",
         "name": "0",
         "type": "heatmap",
         "x": [
          "class_0",
          "class_1",
          "class_2",
          "class_3",
          "class_4",
          "class_5",
          "class_6",
          "class_7",
          "class_8",
          "class_9"
         ],
         "xaxis": "x",
         "y": {
          "bdata": "AAECAwQFBgcICQoLDA0ODxAREhMUFRYXGBkaGxwdHh8gISIjJCUmJygpKissLS4vMDEyMzQ1Njc4OTo7PD0+P0BBQkNERUZHSElKS0xNTk9QUVJTVFVWV1hZWltcXV5fYGFiY2RlZmdoaWprbG1ub3BxcnN0dXZ3eHl6e3w=",
          "dtype": "i1"
         },
         "yaxis": "y",
         "z": {
          "bdata": "AAQAFQQJAAkAEQAHABYFAwAJABIACAAWAwYABwASFAkAAQMJAAcMAxUEAAIKBQAFCwYaCAAEBgEACQYEFQQAAQUIAAYLCBUGAAQDBwAHCwUUBQABAggABg0JEgMAAgkJAAcOAhEDAAIHBQAIEAYYBAADBwQACQkEEwcABwQEAAMPBRgDAAIFCgAGCgQPAwADAAgAChEIDwcAAgcHAAMTBAwJAAEFBgAJFAIIAwAIBgMABRgHCQcAAgYHAAUXBQQHAAYEAwADHAkHCAAEBQcAAxkFBgMABAYHAAUaBwUGAAUEBAAGHgQKAwADBAcABxoECAMABQUFAAcaBQsDAAMDCwAGFwQOBAADAggABRQIFAYAAwUFAAYPBBMGAAUDBAAHEAQRBgACCAQACA8EFgYAAwcFAAMLBxcEAAQFBgAFCQgbAwAHBQYABAcFGAQABgUGAAYIBRQGAAQGBQAIDAMXCAABAgQABQ8GFwIAAwkHAAYKBA8FAAUECAAEEwQOBgAFBwYAAxMEEAYABQQIAAESBg8EAAEIAgAFFAkOBgADBAQABRQICgEABwMGAAcYBggIAAEDCAAFGgUOAQAEBgcABBkDCQMAAwIJAAcbBAsGAAQJAwACGQQWCQABBQUAAw4FEwUAAQUHAAYPBg0FAAQEBAAEGAYTBAAEAgUABxIFEAYABAYEAAUTBBQDAAQDBwAGDwYSBgACBQcAAhAIDgYABAUHAAUTBBYIAAQCBgAECwcUBAACBQMABhEHEwQABAkFAAETAxUDAAUFBwADDwUQCQADAwMABxMEEQIAAwoEAAgPBRICAAMFCQAEFAMQBwAFBQAABRUFFAgABAMKAAMNAw8HAAADDQAFEwISBAADBgMABxEGEQUAAwkFAAYRAhMHAAIHBgAFEQEUBgAEAwUABQ8GDAMAAgYHAAQZBRAHAAUFBAACFQQRBQAFAwQABhYCDQQABAUIAAMYAw4GAAYBBgADFwUNCQADAgcAAhcFEwUABQMHAAQQBQ4CAAYEBgAGFQURBAADBQcABRQDFAMAAgYFAAYUAhMEAAIDBgAGFgITBgAFBQMABBIEEggAAwICAAYWAxUCAAUEBgAGEAQYBQAFBAQAAxECFwQAAwcDAAMQBRQEAAEEBwAGDggRBgAEAggACBECFAUAAwIJAAMRBRUDAAMDCAAEEQURBgADBQUABhAGFAkAAgMDAAUSBBcFAAEEAwAGDggQBwADBwUAARUEFwcAAwUEAAAQBhoFAAQEBQACDwMQBQACBQQABRgDDwYABAQFAAYXARAEAAQCAgALFwISAwAGAgMABxUEEQUABAQGAAIUBgwGAAEHBAAEHAITBgADAgYABREGDgUAAwMFAAgXAw8DAAICBAAHGgUVBQACBQQAAxIGEggAAAUGAAUUAg8DAAEDBAAFGgcRBAAGBQMAAhQHEgYAAQMGAAMYAxYEAAUFAwAFEQMRBQADBAYABREHGAoABAUDAAAOBBIEAAMFAQAJEQcUBgABBQMABRYCFgMAAgIDAAcWAxQFAAQFBAACEwUYAgAEBQIABhMCDgQAAQQIAAMXBxUHAAICAwAGEwQTBAAEBwUABBEEEwYABQYDAAUUABIGAAIFBgAFFAITBQAGAwIABBMGEQEABAQDAAQZBhMJAAIDBwABEwQ=",
          "dtype": "i1",
          "shape": "125, 10"
         }
        }
       ],
       "layout": {
        "coloraxis": {
         "colorbar": {
          "title": {
           "text": "Number of Instances"
          }
         },
         "colorscale": [
          [
           0,
           "#440154"
          ],
          [
           0.1111111111111111,
           "#482878"
          ],
          [
           0.2222222222222222,
           "#3e4989"
          ],
          [
           0.3333333333333333,
           "#31688e"
          ],
          [
           0.4444444444444444,
           "#26828e"
          ],
          [
           0.5555555555555556,
           "#1f9e89"
          ],
          [
           0.6666666666666666,
           "#35b779"
          ],
          [
           0.7777777777777778,
           "#6ece58"
          ],
          [
           0.8888888888888888,
           "#b5de2b"
          ],
          [
           1,
           "#fde725"
          ]
         ]
        },
        "height": 900,
        "margin": {
         "t": 60
        },
        "template": {
         "data": {
          "bar": [
           {
            "error_x": {
             "color": "#2a3f5f"
            },
            "error_y": {
             "color": "#2a3f5f"
            },
            "marker": {
             "line": {
              "color": "#E5ECF6",
              "width": 0.5
             },
             "pattern": {
              "fillmode": "overlay",
              "size": 10,
              "solidity": 0.2
             }
            },
            "type": "bar"
           }
          ],
          "barpolar": [
           {
            "marker": {
             "line": {
              "color": "#E5ECF6",
              "width": 0.5
             },
             "pattern": {
              "fillmode": "overlay",
              "size": 10,
              "solidity": 0.2
             }
            },
            "type": "barpolar"
           }
          ],
          "carpet": [
           {
            "aaxis": {
             "endlinecolor": "#2a3f5f",
             "gridcolor": "white",
             "linecolor": "white",
             "minorgridcolor": "white",
             "startlinecolor": "#2a3f5f"
            },
            "baxis": {
             "endlinecolor": "#2a3f5f",
             "gridcolor": "white",
             "linecolor": "white",
             "minorgridcolor": "white",
             "startlinecolor": "#2a3f5f"
            },
            "type": "carpet"
           }
          ],
          "choropleth": [
           {
            "colorbar": {
             "outlinewidth": 0,
             "ticks": ""
            },
            "type": "choropleth"
           }
          ],
          "contour": [
           {
            "colorbar": {
             "outlinewidth": 0,
             "ticks": ""
            },
            "colorscale": [
             [
              0,
              "#0d0887"
             ],
             [
              0.1111111111111111,
              "#46039f"
             ],
             [
              0.2222222222222222,
              "#7201a8"
             ],
             [
              0.3333333333333333,
              "#9c179e"
             ],
             [
              0.4444444444444444,
              "#bd3786"
             ],
             [
              0.5555555555555556,
              "#d8576b"
             ],
             [
              0.6666666666666666,
              "#ed7953"
             ],
             [
              0.7777777777777778,
              "#fb9f3a"
             ],
             [
              0.8888888888888888,
              "#fdca26"
             ],
             [
              1,
              "#f0f921"
             ]
            ],
            "type": "contour"
           }
          ],
          "contourcarpet": [
           {
            "colorbar": {
             "outlinewidth": 0,
             "ticks": ""
            },
            "type": "contourcarpet"
           }
          ],
          "heatmap": [
           {
            "colorbar": {
             "outlinewidth": 0,
             "ticks": ""
            },
            "colorscale": [
             [
              0,
              "#0d0887"
             ],
             [
              0.1111111111111111,
              "#46039f"
             ],
             [
              0.2222222222222222,
              "#7201a8"
             ],
             [
              0.3333333333333333,
              "#9c179e"
             ],
             [
              0.4444444444444444,
              "#bd3786"
             ],
             [
              0.5555555555555556,
              "#d8576b"
             ],
             [
              0.6666666666666666,
              "#ed7953"
             ],
             [
              0.7777777777777778,
              "#fb9f3a"
             ],
             [
              0.8888888888888888,
              "#fdca26"
             ],
             [
              1,
              "#f0f921"
             ]
            ],
            "type": "heatmap"
           }
          ],
          "histogram": [
           {
            "marker": {
             "pattern": {
              "fillmode": "overlay",
              "size": 10,
              "solidity": 0.2
             }
            },
            "type": "histogram"
           }
          ],
          "histogram2d": [
           {
            "colorbar": {
             "outlinewidth": 0,
             "ticks": ""
            },
            "colorscale": [
             [
              0,
              "#0d0887"
             ],
             [
              0.1111111111111111,
              "#46039f"
             ],
             [
              0.2222222222222222,
              "#7201a8"
             ],
             [
              0.3333333333333333,
              "#9c179e"
             ],
             [
              0.4444444444444444,
              "#bd3786"
             ],
             [
              0.5555555555555556,
              "#d8576b"
             ],
             [
              0.6666666666666666,
              "#ed7953"
             ],
             [
              0.7777777777777778,
              "#fb9f3a"
             ],
             [
              0.8888888888888888,
              "#fdca26"
             ],
             [
              1,
              "#f0f921"
             ]
            ],
            "type": "histogram2d"
           }
          ],
          "histogram2dcontour": [
           {
            "colorbar": {
             "outlinewidth": 0,
             "ticks": ""
            },
            "colorscale": [
             [
              0,
              "#0d0887"
             ],
             [
              0.1111111111111111,
              "#46039f"
             ],
             [
              0.2222222222222222,
              "#7201a8"
             ],
             [
              0.3333333333333333,
              "#9c179e"
             ],
             [
              0.4444444444444444,
              "#bd3786"
             ],
             [
              0.5555555555555556,
              "#d8576b"
             ],
             [
              0.6666666666666666,
              "#ed7953"
             ],
             [
              0.7777777777777778,
              "#fb9f3a"
             ],
             [
              0.8888888888888888,
              "#fdca26"
             ],
             [
              1,
              "#f0f921"
             ]
            ],
            "type": "histogram2dcontour"
           }
          ],
          "mesh3d": [
           {
            "colorbar": {
             "outlinewidth": 0,
             "ticks": ""
            },
            "type": "mesh3d"
           }
          ],
          "parcoords": [
           {
            "line": {
             "colorbar": {
              "outlinewidth": 0,
              "ticks": ""
             }
            },
            "type": "parcoords"
           }
          ],
          "pie": [
           {
            "automargin": true,
            "type": "pie"
           }
          ],
          "scatter": [
           {
            "fillpattern": {
             "fillmode": "overlay",
             "size": 10,
             "solidity": 0.2
            },
            "type": "scatter"
           }
          ],
          "scatter3d": [
           {
            "line": {
             "colorbar": {
              "outlinewidth": 0,
              "ticks": ""
             }
            },
            "marker": {
             "colorbar": {
              "outlinewidth": 0,
              "ticks": ""
             }
            },
            "type": "scatter3d"
           }
          ],
          "scattercarpet": [
           {
            "marker": {
             "colorbar": {
              "outlinewidth": 0,
              "ticks": ""
             }
            },
            "type": "scattercarpet"
           }
          ],
          "scattergeo": [
           {
            "marker": {
             "colorbar": {
              "outlinewidth": 0,
              "ticks": ""
             }
            },
            "type": "scattergeo"
           }
          ],
          "scattergl": [
           {
            "marker": {
             "colorbar": {
              "outlinewidth": 0,
              "ticks": ""
             }
            },
            "type": "scattergl"
           }
          ],
          "scattermap": [
           {
            "marker": {
             "colorbar": {
              "outlinewidth": 0,
              "ticks": ""
             }
            },
            "type": "scattermap"
           }
          ],
          "scattermapbox": [
           {
            "marker": {
             "colorbar": {
              "outlinewidth": 0,
              "ticks": ""
             }
            },
            "type": "scattermapbox"
           }
          ],
          "scatterpolar": [
           {
            "marker": {
             "colorbar": {
              "outlinewidth": 0,
              "ticks": ""
             }
            },
            "type": "scatterpolar"
           }
          ],
          "scatterpolargl": [
           {
            "marker": {
             "colorbar": {
              "outlinewidth": 0,
              "ticks": ""
             }
            },
            "type": "scatterpolargl"
           }
          ],
          "scatterternary": [
           {
            "marker": {
             "colorbar": {
              "outlinewidth": 0,
              "ticks": ""
             }
            },
            "type": "scatterternary"
           }
          ],
          "surface": [
           {
            "colorbar": {
             "outlinewidth": 0,
             "ticks": ""
            },
            "colorscale": [
             [
              0,
              "#0d0887"
             ],
             [
              0.1111111111111111,
              "#46039f"
             ],
             [
              0.2222222222222222,
              "#7201a8"
             ],
             [
              0.3333333333333333,
              "#9c179e"
             ],
             [
              0.4444444444444444,
              "#bd3786"
             ],
             [
              0.5555555555555556,
              "#d8576b"
             ],
             [
              0.6666666666666666,
              "#ed7953"
             ],
             [
              0.7777777777777778,
              "#fb9f3a"
             ],
             [
              0.8888888888888888,
              "#fdca26"
             ],
             [
              1,
              "#f0f921"
             ]
            ],
            "type": "surface"
           }
          ],
          "table": [
           {
            "cells": {
             "fill": {
              "color": "#EBF0F8"
             },
             "line": {
              "color": "white"
             }
            },
            "header": {
             "fill": {
              "color": "#C8D4E3"
             },
             "line": {
              "color": "white"
             }
            },
            "type": "table"
           }
          ]
         },
         "layout": {
          "annotationdefaults": {
           "arrowcolor": "#2a3f5f",
           "arrowhead": 0,
           "arrowwidth": 1
          },
          "autotypenumbers": "strict",
          "coloraxis": {
           "colorbar": {
            "outlinewidth": 0,
            "ticks": ""
           }
          },
          "colorscale": {
           "diverging": [
            [
             0,
             "#8e0152"
            ],
            [
             0.1,
             "#c51b7d"
            ],
            [
             0.2,
             "#de77ae"
            ],
            [
             0.3,
             "#f1b6da"
            ],
            [
             0.4,
             "#fde0ef"
            ],
            [
             0.5,
             "#f7f7f7"
            ],
            [
             0.6,
             "#e6f5d0"
            ],
            [
             0.7,
             "#b8e186"
            ],
            [
             0.8,
             "#7fbc41"
            ],
            [
             0.9,
             "#4d9221"
            ],
            [
             1,
             "#276419"
            ]
           ],
           "sequential": [
            [
             0,
             "#0d0887"
            ],
            [
             0.1111111111111111,
             "#46039f"
            ],
            [
             0.2222222222222222,
             "#7201a8"
            ],
            [
             0.3333333333333333,
             "#9c179e"
            ],
            [
             0.4444444444444444,
             "#bd3786"
            ],
            [
             0.5555555555555556,
             "#d8576b"
            ],
            [
             0.6666666666666666,
             "#ed7953"
            ],
            [
             0.7777777777777778,
             "#fb9f3a"
            ],
            [
             0.8888888888888888,
             "#fdca26"
            ],
            [
             1,
             "#f0f921"
            ]
           ],
           "sequentialminus": [
            [
             0,
             "#0d0887"
            ],
            [
             0.1111111111111111,
             "#46039f"
            ],
            [
             0.2222222222222222,
             "#7201a8"
            ],
            [
             0.3333333333333333,
             "#9c179e"
            ],
            [
             0.4444444444444444,
             "#bd3786"
            ],
            [
             0.5555555555555556,
             "#d8576b"
            ],
            [
             0.6666666666666666,
             "#ed7953"
            ],
            [
             0.7777777777777778,
             "#fb9f3a"
            ],
            [
             0.8888888888888888,
             "#fdca26"
            ],
            [
             1,
             "#f0f921"
            ]
           ]
          },
          "colorway": [
           "#636efa",
           "#EF553B",
           "#00cc96",
           "#ab63fa",
           "#FFA15A",
           "#19d3f3",
           "#FF6692",
           "#B6E880",
           "#FF97FF",
           "#FECB52"
          ],
          "font": {
           "color": "#2a3f5f"
          },
          "geo": {
           "bgcolor": "white",
           "lakecolor": "white",
           "landcolor": "#E5ECF6",
           "showlakes": true,
           "showland": true,
           "subunitcolor": "white"
          },
          "hoverlabel": {
           "align": "left"
          },
          "hovermode": "closest",
          "mapbox": {
           "style": "light"
          },
          "paper_bgcolor": "white",
          "plot_bgcolor": "#E5ECF6",
          "polar": {
           "angularaxis": {
            "gridcolor": "white",
            "linecolor": "white",
            "ticks": ""
           },
           "bgcolor": "#E5ECF6",
           "radialaxis": {
            "gridcolor": "white",
            "linecolor": "white",
            "ticks": ""
           }
          },
          "scene": {
           "xaxis": {
            "backgroundcolor": "#E5ECF6",
            "gridcolor": "white",
            "gridwidth": 2,
            "linecolor": "white",
            "showbackground": true,
            "ticks": "",
            "zerolinecolor": "white"
           },
           "yaxis": {
            "backgroundcolor": "#E5ECF6",
            "gridcolor": "white",
            "gridwidth": 2,
            "linecolor": "white",
            "showbackground": true,
            "ticks": "",
            "zerolinecolor": "white"
           },
           "zaxis": {
            "backgroundcolor": "#E5ECF6",
            "gridcolor": "white",
            "gridwidth": 2,
            "linecolor": "white",
            "showbackground": true,
            "ticks": "",
            "zerolinecolor": "white"
           }
          },
          "shapedefaults": {
           "line": {
            "color": "#2a3f5f"
           }
          },
          "ternary": {
           "aaxis": {
            "gridcolor": "white",
            "linecolor": "white",
            "ticks": ""
           },
           "baxis": {
            "gridcolor": "white",
            "linecolor": "white",
            "ticks": ""
           },
           "bgcolor": "#E5ECF6",
           "caxis": {
            "gridcolor": "white",
            "linecolor": "white",
            "ticks": ""
           }
          },
          "title": {
           "x": 0.05
          },
          "xaxis": {
           "automargin": true,
           "gridcolor": "white",
           "linecolor": "white",
           "ticks": "",
           "title": {
            "standoff": 15
           },
           "zerolinecolor": "white",
           "zerolinewidth": 2
          },
          "yaxis": {
           "automargin": true,
           "gridcolor": "white",
           "linecolor": "white",
           "ticks": "",
           "title": {
            "standoff": 15
           },
           "zerolinecolor": "white",
           "zerolinewidth": 2
          }
         }
        },
        "title": {
         "text": "EDR Class Distribution in Each Batch - Task ID 3"
        },
        "xaxis": {
         "anchor": "y",
         "domain": [
          0,
          1
         ],
         "title": {
          "text": "Classes"
         }
        },
        "yaxis": {
         "anchor": "x",
         "autorange": "reversed",
         "domain": [
          0,
          1
         ],
         "title": {
          "text": "Batches"
         }
        }
       }
      }
     },
     "metadata": {},
     "output_type": "display_data"
    }
   ],
   "source": [
    "import numpy as np\n",
    "import plotly.express as px\n",
    "\n",
    "task_id = 3\n",
    "\n",
    "df = pd.read_csv(\"../results_plot_SplitFashionMNIST_['EDR', 'ER']_False_[]_32_5_0_5_2/train_batches_y_ExperienceDelayReplay.log\", \n",
    "                 names=[\"task_id\", \"class_0\", \"class_1\", \"class_2\", \"class_3\", \"class_4\", \"class_5\", \"class_6\", \n",
    "                            \"class_7\", \"class_8\", \"class_9\"])\n",
    "\n",
    "\n",
    "df_plot = df.loc[df.task_id == task_id].reset_index(drop=True).copy()\n",
    "# df_plot = pd.concat([df_plot[:10], df_plot[80:90], df_plot[115:125]], ignore_index=True)\n",
    "df_plot.drop(columns=[\"task_id\"], inplace=True)\n",
    "\n",
    "# Criação do heatmap interativo (classe no eixo Y, batch no eixo X)\n",
    "fig = px.imshow(\n",
    "    df_plot,\n",
    "    labels=dict(x=\"Classes\", y=\"Batches\", color=\"Number of Instances\"),\n",
    "    # x=[f\"Batch {i}\" for i in range(1, num_batches+1)],\n",
    "    # y=[f\"Classe {i}\" for i in range(num_classes)],\n",
    "    aspect=\"auto\",\n",
    "    color_continuous_scale=\"Viridis\",\n",
    "    origin=\"upper\",  # garante que Classe 0 fique em cima\n",
    "    # text_auto=True\n",
    ")\n",
    "\n",
    "fig.update_layout(\n",
    "    title=\"EDR Class Distribution in Each Batch - Task ID {}\".format(task_id),\n",
    "    xaxis_title=\"Classes\",\n",
    "    yaxis_title=\"Batches\",\n",
    "    height=900,\n",
    ")\n",
    "\n",
    "fig.show()"
   ]
  },
  {
   "cell_type": "code",
   "execution_count": 9,
   "id": "37aa02b7",
   "metadata": {},
   "outputs": [
    {
     "data": {
      "application/vnd.plotly.v1+json": {
       "config": {
        "plotlyServerURL": "https://plot.ly"
       },
       "data": [
        {
         "coloraxis": "coloraxis",
         "hovertemplate": "Classes: %{x}<br>Batches: %{y}<br>Number of Instances: %{z}<extra></extra>",
         "name": "0",
         "type": "heatmap",
         "x": [
          "class_0",
          "class_1",
          "class_2",
          "class_3",
          "class_4",
          "class_5",
          "class_6",
          "class_7",
          "class_8",
          "class_9"
         ],
         "xaxis": "x",
         "y": {
          "bdata": "AAABAAIAAwAEAAUABgAHAAgACQAKAAsADAANAA4ADwAQABEAEgATABQAFQAWABcAGAAZABoAGwAcAB0AHgAfACAAIQAiACMAJAAlACYAJwAoACkAKgArACwALQAuAC8AMAAxADIAMwA0ADUANgA3ADgAOQA6ADsAPAA9AD4APwBAAEEAQgBDAEQARQBGAEcASABJAEoASwBMAE0ATgBPAFAAUQBSAFMAVABVAFYAVwBYAFkAWgBbAFwAXQBeAF8AYABhAGIAYwBkAGUAZgBnAGgAaQBqAGsAbABtAG4AbwBwAHEAcgBzAHQAdQB2AHcAeAB5AHoAewB8AH0AfgB/AIAAgQCCAIMAhACFAIYAhwCIAIkAigCLAIwAjQCOAI8AkACRAJIAkwCUAJUAlgCXAJgAmQCaAJsAnACdAJ4AnwCgAKEAogCjAKQApQCmAKcAqACpAKoAqwCsAK0ArgCvALAAsQCyALMAtAC1ALYAtwC4ALkAugC7AA==",
          "dtype": "i2"
         },
         "yaxis": "y",
         "z": {
          "bdata": "AAUAEgUDAAcAGgAFABMFBwAGABYABwAZBQQABwAQAAUAEQIJAAoAFQADABoHAwADABYAAgASAwYACAAbAAMAGgYCAAcAFA8GAAQEBgAEEQgQBQADAwQACBAJEAcAAwQHAAYQBRAEAAUGBgAJEAIPBgADCQQACBECDwMACAcEAAYRBBMHAAUDBgAFDQYSCQADBQcABA4EEAUAAwYFAAURBw0JAAQHBAAFEwMKBgAFCAUABhYCFQgAAwcEAAQLBgoFAAoCAwAFFgcOAgAECAoABBIEEQoAAwUDAAUPBg8GAAYFAwAFEQcPBAACAwMACxEJEAMACQMHAAQQBhAFAAQCBQAGEAoQAwAIAwgABhEDEAYABQYEAAMSBgwEAAcEBwADFgURDAAFBQQABQ8BFgcABgUJAAMLARMKAAQCBAAIDQQOBgAFBwUAAhIHEwQACAYDAAcOAxMDAAgFBAADDggOBAAHBgYAAxQEDwMACAkFAAURAhAEAAYEBQAEEQgRAQAFCQYAAxEGEQMABwQEAAkQBBEEAAMIAwAJEAQTBAAFBQYABRICDQMABwUGAAYTBRAHAAcHBAACEgMOBAAGBQQABxQEDwUABQYFAAYRBQ4FAAMGBgAHFQIPAgACBAkABxEIDwQABwYEAAQSBhQFAAQDCAAGDgQRBQACBwAACA8KEgMABgMJAAUPBRIGAAYGBAACEQUOAwAFBwQACBUCFAYAAgoDAAUQAhIFAAEDBQAGEwcWBAAIAwQABA4FEQUAAgUEAAQRChEFAAcGAwAEEgQQAgAEBwUABhIGEQYAAwMFAAYWAg8EAAcFBQAGFQETAwAEBQQACg8EEwQABAUIAAUPBBUCAAYGBwAEDwMTBgAFBAYABA4GEwYABgUFAAQSAQ0FAAQDBQAGGQMTCQAGBgIABQ8CDgcABAUFAAMUBhMCAAUBBwAFDwoSBgAGBgEABBUCEwUACAEGAAUPBRYIAAICAwALDQMPBQAECAQABxMCEwUAAwkFAAQQAxUGAAMDAwAHDgcRBwACAwQACRIEFgUABgQFAAUMBQ8EAAYFBgAIEwEOCgADBgQAAhMGFAQAAgMKAAYRAhEGAAkEBQAEDwQVBwAHBAIAAg4HCwQABAcEAAYYBA8FAAYEAwAGFAUPBgAIBAIABRQEEwEABgUFAAkPBBUEAAUFBAAHDQURAQACBwMACBQGFgMABQYEAAISBBICAAIHBgAKEAMSCgACAwUABhICEAMABQQDAAcUBhYBAAQCCwAHDwIRAAAEBAcACRQDFAYACAEEAAgPAg8HAAIEBwACEwgaAQAFBAQABw0EEAIAAwQEAAUWCBMCAAUDBQACEwkTBAABBQgABBAHFAUABgkCAAUPAhIFAAUCBgAEEgYRAwADBQcACBIDFQUAAwcGAAIQBBAGAAQBBwAGFQMSBwAFAQEACBIGEAgAAwQIAAMVARQFAAMDBwAJDgMQBwADBAYABREGDAQABQYFAAQYBBIFAAUFCQACEQMRBwAEBgIABBMFEwMAAgUIAAYRBBQDAAkFBgADDwMTBAAEAgcABRIFDQYACAUEAAYUAhAEAAMEAwAIFwMRAgACAggACBQFFAYABAEEAAkOBhMFAAMFBQAIDwQRBgADBAMABxIGDwQAAwUGAAQXBA8EAAQGBQAEFQUSBwAEBgEABBQEFQUAAwUHAAQQAxUDAAUEBQADDwgQAgACAgMAChQJFgUAAgQEAAYQBREFAAYCAwAIEwQNAQAGBQQACBgDEwYABQMJAAETAhgDAAYEAgAFDgYPBAAEBAMABhYGFwQABAIEAAgNBg4DAAMEAgAGFgoOAgAFBQcAAhgFDwYABAEHAAcUBBYFAAIDBQAFEQUPBwADBQEABBUIEQUACAEBAAUVBhUFAAIFAwAEFAQPBAAGBgcABhMBDgUABwUBAAQXBRQEAAUEAgADFAYOBgACBgQABBgEFAMABQMDAAUWAxQFAAQCBAACFAcPAAACCQYABhMHEQIABQMDAAMZBhAAAAYGBgAFEwYUAgADAgUAChIEEAMABAQDAAkVBAoEAAgCBAAGGQUMAwACBgMABhcJEQMAAgMGAAkVAxQEAAQEBAAEFAQTBAACBAQABBUGFAMAAwYEAAUWAQ4EAAMHBAAHFgMQBQAKBAYABBECEQMABAcDAAQSCBcCAAcBAwAGEgQXAQAHBgQABQ4EDQMABwMEAAYXBRIGAAIGBgAGEAQRBAADAwUABxQFDQQACAMDAAQXBg4IAAMFAwAEGQIRBAACAgYABxUFEAQAAwMGAAQSChcFAAYCBAAFDwQVBQAEBQYABQ8DEQYABwUDAAQUAhgDAAMDBAAEEQYRAwAFBwQAAhQGFAMABAUDAAgRBBgDAAQCBAAFEAYTAgABBgMABhUGEwQABQIDAAcUBBYFAAcCBAADEAUSBAABBwUABxQCEgUABwQBAAcVAREFAAEDBgAGFwMSBQAFAAIAAxkGGgEAAQIHAAYQBRMFAAcCBAAEEgU=",
          "dtype": "i1",
          "shape": "188, 10"
         }
        }
       ],
       "layout": {
        "coloraxis": {
         "colorbar": {
          "title": {
           "text": "Number of Instances"
          }
         },
         "colorscale": [
          [
           0,
           "#440154"
          ],
          [
           0.1111111111111111,
           "#482878"
          ],
          [
           0.2222222222222222,
           "#3e4989"
          ],
          [
           0.3333333333333333,
           "#31688e"
          ],
          [
           0.4444444444444444,
           "#26828e"
          ],
          [
           0.5555555555555556,
           "#1f9e89"
          ],
          [
           0.6666666666666666,
           "#35b779"
          ],
          [
           0.7777777777777778,
           "#6ece58"
          ],
          [
           0.8888888888888888,
           "#b5de2b"
          ],
          [
           1,
           "#fde725"
          ]
         ]
        },
        "height": 900,
        "margin": {
         "t": 60
        },
        "template": {
         "data": {
          "bar": [
           {
            "error_x": {
             "color": "#2a3f5f"
            },
            "error_y": {
             "color": "#2a3f5f"
            },
            "marker": {
             "line": {
              "color": "#E5ECF6",
              "width": 0.5
             },
             "pattern": {
              "fillmode": "overlay",
              "size": 10,
              "solidity": 0.2
             }
            },
            "type": "bar"
           }
          ],
          "barpolar": [
           {
            "marker": {
             "line": {
              "color": "#E5ECF6",
              "width": 0.5
             },
             "pattern": {
              "fillmode": "overlay",
              "size": 10,
              "solidity": 0.2
             }
            },
            "type": "barpolar"
           }
          ],
          "carpet": [
           {
            "aaxis": {
             "endlinecolor": "#2a3f5f",
             "gridcolor": "white",
             "linecolor": "white",
             "minorgridcolor": "white",
             "startlinecolor": "#2a3f5f"
            },
            "baxis": {
             "endlinecolor": "#2a3f5f",
             "gridcolor": "white",
             "linecolor": "white",
             "minorgridcolor": "white",
             "startlinecolor": "#2a3f5f"
            },
            "type": "carpet"
           }
          ],
          "choropleth": [
           {
            "colorbar": {
             "outlinewidth": 0,
             "ticks": ""
            },
            "type": "choropleth"
           }
          ],
          "contour": [
           {
            "colorbar": {
             "outlinewidth": 0,
             "ticks": ""
            },
            "colorscale": [
             [
              0,
              "#0d0887"
             ],
             [
              0.1111111111111111,
              "#46039f"
             ],
             [
              0.2222222222222222,
              "#7201a8"
             ],
             [
              0.3333333333333333,
              "#9c179e"
             ],
             [
              0.4444444444444444,
              "#bd3786"
             ],
             [
              0.5555555555555556,
              "#d8576b"
             ],
             [
              0.6666666666666666,
              "#ed7953"
             ],
             [
              0.7777777777777778,
              "#fb9f3a"
             ],
             [
              0.8888888888888888,
              "#fdca26"
             ],
             [
              1,
              "#f0f921"
             ]
            ],
            "type": "contour"
           }
          ],
          "contourcarpet": [
           {
            "colorbar": {
             "outlinewidth": 0,
             "ticks": ""
            },
            "type": "contourcarpet"
           }
          ],
          "heatmap": [
           {
            "colorbar": {
             "outlinewidth": 0,
             "ticks": ""
            },
            "colorscale": [
             [
              0,
              "#0d0887"
             ],
             [
              0.1111111111111111,
              "#46039f"
             ],
             [
              0.2222222222222222,
              "#7201a8"
             ],
             [
              0.3333333333333333,
              "#9c179e"
             ],
             [
              0.4444444444444444,
              "#bd3786"
             ],
             [
              0.5555555555555556,
              "#d8576b"
             ],
             [
              0.6666666666666666,
              "#ed7953"
             ],
             [
              0.7777777777777778,
              "#fb9f3a"
             ],
             [
              0.8888888888888888,
              "#fdca26"
             ],
             [
              1,
              "#f0f921"
             ]
            ],
            "type": "heatmap"
           }
          ],
          "histogram": [
           {
            "marker": {
             "pattern": {
              "fillmode": "overlay",
              "size": 10,
              "solidity": 0.2
             }
            },
            "type": "histogram"
           }
          ],
          "histogram2d": [
           {
            "colorbar": {
             "outlinewidth": 0,
             "ticks": ""
            },
            "colorscale": [
             [
              0,
              "#0d0887"
             ],
             [
              0.1111111111111111,
              "#46039f"
             ],
             [
              0.2222222222222222,
              "#7201a8"
             ],
             [
              0.3333333333333333,
              "#9c179e"
             ],
             [
              0.4444444444444444,
              "#bd3786"
             ],
             [
              0.5555555555555556,
              "#d8576b"
             ],
             [
              0.6666666666666666,
              "#ed7953"
             ],
             [
              0.7777777777777778,
              "#fb9f3a"
             ],
             [
              0.8888888888888888,
              "#fdca26"
             ],
             [
              1,
              "#f0f921"
             ]
            ],
            "type": "histogram2d"
           }
          ],
          "histogram2dcontour": [
           {
            "colorbar": {
             "outlinewidth": 0,
             "ticks": ""
            },
            "colorscale": [
             [
              0,
              "#0d0887"
             ],
             [
              0.1111111111111111,
              "#46039f"
             ],
             [
              0.2222222222222222,
              "#7201a8"
             ],
             [
              0.3333333333333333,
              "#9c179e"
             ],
             [
              0.4444444444444444,
              "#bd3786"
             ],
             [
              0.5555555555555556,
              "#d8576b"
             ],
             [
              0.6666666666666666,
              "#ed7953"
             ],
             [
              0.7777777777777778,
              "#fb9f3a"
             ],
             [
              0.8888888888888888,
              "#fdca26"
             ],
             [
              1,
              "#f0f921"
             ]
            ],
            "type": "histogram2dcontour"
           }
          ],
          "mesh3d": [
           {
            "colorbar": {
             "outlinewidth": 0,
             "ticks": ""
            },
            "type": "mesh3d"
           }
          ],
          "parcoords": [
           {
            "line": {
             "colorbar": {
              "outlinewidth": 0,
              "ticks": ""
             }
            },
            "type": "parcoords"
           }
          ],
          "pie": [
           {
            "automargin": true,
            "type": "pie"
           }
          ],
          "scatter": [
           {
            "fillpattern": {
             "fillmode": "overlay",
             "size": 10,
             "solidity": 0.2
            },
            "type": "scatter"
           }
          ],
          "scatter3d": [
           {
            "line": {
             "colorbar": {
              "outlinewidth": 0,
              "ticks": ""
             }
            },
            "marker": {
             "colorbar": {
              "outlinewidth": 0,
              "ticks": ""
             }
            },
            "type": "scatter3d"
           }
          ],
          "scattercarpet": [
           {
            "marker": {
             "colorbar": {
              "outlinewidth": 0,
              "ticks": ""
             }
            },
            "type": "scattercarpet"
           }
          ],
          "scattergeo": [
           {
            "marker": {
             "colorbar": {
              "outlinewidth": 0,
              "ticks": ""
             }
            },
            "type": "scattergeo"
           }
          ],
          "scattergl": [
           {
            "marker": {
             "colorbar": {
              "outlinewidth": 0,
              "ticks": ""
             }
            },
            "type": "scattergl"
           }
          ],
          "scattermap": [
           {
            "marker": {
             "colorbar": {
              "outlinewidth": 0,
              "ticks": ""
             }
            },
            "type": "scattermap"
           }
          ],
          "scattermapbox": [
           {
            "marker": {
             "colorbar": {
              "outlinewidth": 0,
              "ticks": ""
             }
            },
            "type": "scattermapbox"
           }
          ],
          "scatterpolar": [
           {
            "marker": {
             "colorbar": {
              "outlinewidth": 0,
              "ticks": ""
             }
            },
            "type": "scatterpolar"
           }
          ],
          "scatterpolargl": [
           {
            "marker": {
             "colorbar": {
              "outlinewidth": 0,
              "ticks": ""
             }
            },
            "type": "scatterpolargl"
           }
          ],
          "scatterternary": [
           {
            "marker": {
             "colorbar": {
              "outlinewidth": 0,
              "ticks": ""
             }
            },
            "type": "scatterternary"
           }
          ],
          "surface": [
           {
            "colorbar": {
             "outlinewidth": 0,
             "ticks": ""
            },
            "colorscale": [
             [
              0,
              "#0d0887"
             ],
             [
              0.1111111111111111,
              "#46039f"
             ],
             [
              0.2222222222222222,
              "#7201a8"
             ],
             [
              0.3333333333333333,
              "#9c179e"
             ],
             [
              0.4444444444444444,
              "#bd3786"
             ],
             [
              0.5555555555555556,
              "#d8576b"
             ],
             [
              0.6666666666666666,
              "#ed7953"
             ],
             [
              0.7777777777777778,
              "#fb9f3a"
             ],
             [
              0.8888888888888888,
              "#fdca26"
             ],
             [
              1,
              "#f0f921"
             ]
            ],
            "type": "surface"
           }
          ],
          "table": [
           {
            "cells": {
             "fill": {
              "color": "#EBF0F8"
             },
             "line": {
              "color": "white"
             }
            },
            "header": {
             "fill": {
              "color": "#C8D4E3"
             },
             "line": {
              "color": "white"
             }
            },
            "type": "table"
           }
          ]
         },
         "layout": {
          "annotationdefaults": {
           "arrowcolor": "#2a3f5f",
           "arrowhead": 0,
           "arrowwidth": 1
          },
          "autotypenumbers": "strict",
          "coloraxis": {
           "colorbar": {
            "outlinewidth": 0,
            "ticks": ""
           }
          },
          "colorscale": {
           "diverging": [
            [
             0,
             "#8e0152"
            ],
            [
             0.1,
             "#c51b7d"
            ],
            [
             0.2,
             "#de77ae"
            ],
            [
             0.3,
             "#f1b6da"
            ],
            [
             0.4,
             "#fde0ef"
            ],
            [
             0.5,
             "#f7f7f7"
            ],
            [
             0.6,
             "#e6f5d0"
            ],
            [
             0.7,
             "#b8e186"
            ],
            [
             0.8,
             "#7fbc41"
            ],
            [
             0.9,
             "#4d9221"
            ],
            [
             1,
             "#276419"
            ]
           ],
           "sequential": [
            [
             0,
             "#0d0887"
            ],
            [
             0.1111111111111111,
             "#46039f"
            ],
            [
             0.2222222222222222,
             "#7201a8"
            ],
            [
             0.3333333333333333,
             "#9c179e"
            ],
            [
             0.4444444444444444,
             "#bd3786"
            ],
            [
             0.5555555555555556,
             "#d8576b"
            ],
            [
             0.6666666666666666,
             "#ed7953"
            ],
            [
             0.7777777777777778,
             "#fb9f3a"
            ],
            [
             0.8888888888888888,
             "#fdca26"
            ],
            [
             1,
             "#f0f921"
            ]
           ],
           "sequentialminus": [
            [
             0,
             "#0d0887"
            ],
            [
             0.1111111111111111,
             "#46039f"
            ],
            [
             0.2222222222222222,
             "#7201a8"
            ],
            [
             0.3333333333333333,
             "#9c179e"
            ],
            [
             0.4444444444444444,
             "#bd3786"
            ],
            [
             0.5555555555555556,
             "#d8576b"
            ],
            [
             0.6666666666666666,
             "#ed7953"
            ],
            [
             0.7777777777777778,
             "#fb9f3a"
            ],
            [
             0.8888888888888888,
             "#fdca26"
            ],
            [
             1,
             "#f0f921"
            ]
           ]
          },
          "colorway": [
           "#636efa",
           "#EF553B",
           "#00cc96",
           "#ab63fa",
           "#FFA15A",
           "#19d3f3",
           "#FF6692",
           "#B6E880",
           "#FF97FF",
           "#FECB52"
          ],
          "font": {
           "color": "#2a3f5f"
          },
          "geo": {
           "bgcolor": "white",
           "lakecolor": "white",
           "landcolor": "#E5ECF6",
           "showlakes": true,
           "showland": true,
           "subunitcolor": "white"
          },
          "hoverlabel": {
           "align": "left"
          },
          "hovermode": "closest",
          "mapbox": {
           "style": "light"
          },
          "paper_bgcolor": "white",
          "plot_bgcolor": "#E5ECF6",
          "polar": {
           "angularaxis": {
            "gridcolor": "white",
            "linecolor": "white",
            "ticks": ""
           },
           "bgcolor": "#E5ECF6",
           "radialaxis": {
            "gridcolor": "white",
            "linecolor": "white",
            "ticks": ""
           }
          },
          "scene": {
           "xaxis": {
            "backgroundcolor": "#E5ECF6",
            "gridcolor": "white",
            "gridwidth": 2,
            "linecolor": "white",
            "showbackground": true,
            "ticks": "",
            "zerolinecolor": "white"
           },
           "yaxis": {
            "backgroundcolor": "#E5ECF6",
            "gridcolor": "white",
            "gridwidth": 2,
            "linecolor": "white",
            "showbackground": true,
            "ticks": "",
            "zerolinecolor": "white"
           },
           "zaxis": {
            "backgroundcolor": "#E5ECF6",
            "gridcolor": "white",
            "gridwidth": 2,
            "linecolor": "white",
            "showbackground": true,
            "ticks": "",
            "zerolinecolor": "white"
           }
          },
          "shapedefaults": {
           "line": {
            "color": "#2a3f5f"
           }
          },
          "ternary": {
           "aaxis": {
            "gridcolor": "white",
            "linecolor": "white",
            "ticks": ""
           },
           "baxis": {
            "gridcolor": "white",
            "linecolor": "white",
            "ticks": ""
           },
           "bgcolor": "#E5ECF6",
           "caxis": {
            "gridcolor": "white",
            "linecolor": "white",
            "ticks": ""
           }
          },
          "title": {
           "x": 0.05
          },
          "xaxis": {
           "automargin": true,
           "gridcolor": "white",
           "linecolor": "white",
           "ticks": "",
           "title": {
            "standoff": 15
           },
           "zerolinecolor": "white",
           "zerolinewidth": 2
          },
          "yaxis": {
           "automargin": true,
           "gridcolor": "white",
           "linecolor": "white",
           "ticks": "",
           "title": {
            "standoff": 15
           },
           "zerolinecolor": "white",
           "zerolinewidth": 2
          }
         }
        },
        "title": {
         "text": "ER Class Distribution in Each Batch - Task ID 3"
        },
        "xaxis": {
         "anchor": "y",
         "domain": [
          0,
          1
         ],
         "title": {
          "text": "Classes"
         }
        },
        "yaxis": {
         "anchor": "x",
         "autorange": "reversed",
         "domain": [
          0,
          1
         ],
         "title": {
          "text": "Batches"
         }
        }
       }
      }
     },
     "metadata": {},
     "output_type": "display_data"
    }
   ],
   "source": [
    "import numpy as np\n",
    "import plotly.express as px\n",
    "\n",
    "task_id = 3\n",
    "\n",
    "df = pd.read_csv(\"../results_plot_SplitFashionMNIST_['EDR', 'ER']_False_[]_32_5_0_5_2/train_batches_y_ExperienceReplay.log\", \n",
    "                 names=[\"task_id\", \"class_0\", \"class_1\", \"class_2\", \"class_3\", \"class_4\", \"class_5\", \"class_6\", \n",
    "                            \"class_7\", \"class_8\", \"class_9\"])\n",
    "\n",
    "\n",
    "df_plot = df.loc[df.task_id == task_id].reset_index(drop=True).copy()\n",
    "# df_plot = pd.concat([df_plot[:10], df_plot[80:90], df_plot[115:125]], ignore_index=True)\n",
    "df_plot.drop(columns=[\"task_id\"], inplace=True)\n",
    "\n",
    "# Criação do heatmap interativo (classe no eixo Y, batch no eixo X)\n",
    "fig = px.imshow(\n",
    "    df_plot,\n",
    "    labels=dict(x=\"Classes\", y=\"Batches\", color=\"Number of Instances\"),\n",
    "    # x=[f\"Batch {i}\" for i in range(1, num_batches+1)],\n",
    "    # y=[f\"Classe {i}\" for i in range(num_classes)],\n",
    "    aspect=\"auto\",\n",
    "    color_continuous_scale=\"Viridis\",\n",
    "    origin=\"upper\",  # garante que Classe 0 fique em cima\n",
    "    # text_auto=True\n",
    ")\n",
    "\n",
    "fig.update_layout(\n",
    "    title=\"ER Class Distribution in Each Batch - Task ID {}\".format(task_id),\n",
    "    xaxis_title=\"Classes\",\n",
    "    yaxis_title=\"Batches\",\n",
    "    height=900,\n",
    ")\n",
    "\n",
    "fig.show()"
   ]
  },
  {
   "cell_type": "markdown",
   "id": "8d18c752",
   "metadata": {},
   "source": [
    "<!-- ### results_plot_SplitFashionMNIST_['EDR', 'ER']_False_[]_32_5_0_5_2/train_batches_y_ExperienceDelayReplay.log -->\n",
    "#### Task 4\n",
    "#### Classes 2, 6"
   ]
  },
  {
   "cell_type": "code",
   "execution_count": 10,
   "id": "59e0dccc",
   "metadata": {},
   "outputs": [
    {
     "data": {
      "application/vnd.plotly.v1+json": {
       "config": {
        "plotlyServerURL": "https://plot.ly"
       },
       "data": [
        {
         "coloraxis": "coloraxis",
         "hovertemplate": "Classes: %{x}<br>Batches: %{y}<br>Number of Instances: %{z}<extra></extra>",
         "name": "0",
         "type": "heatmap",
         "x": [
          "class_0",
          "class_1",
          "class_2",
          "class_3",
          "class_4",
          "class_5",
          "class_6",
          "class_7",
          "class_8",
          "class_9"
         ],
         "xaxis": "x",
         "y": {
          "bdata": "AAECAwQFBgcICQoLDA0ODxAREhMUFRYXGBkaGxwdHh8gISIjJCUmJygpKissLS4vMDEyMzQ1Njc4OTo7PD0+P0BBQkNERUZHSElKS0xNTk9QUVJTVFVWV1hZWltcXV5fYGFiY2RlZmdoaWprbG1ub3BxcnN0dXZ3eHl6e3w=",
          "dtype": "i1"
         },
         "yaxis": "y",
         "z": {
          "bdata": "EwYAAgMEAAUTBhIHAAIFBAAEFwEXBQABBQUABA8GBQYWAgICCgYDBgAFFQMECAsCBwMCBRIDAwIOBAQJBgESAgYEDgcFAQMDFAMEBQ4FBAMEAxcBBQULAgcDAwISAgUEEgQEBAMDEwIFBhAEAwMCAhADBQcRBQQDAwYRAQMEEQYEAwAEDwEGBhEGBgMCAw4BBAQUCAIGAgMJAgUJFwQEAwEFCAIFBhoEBAMCBAYEBQMcBAIGAgQGBQUEGgQCBgMEBQUEAh0GBAIABQYDBgIcBgcBBAEGAwMEGwQIBAQCDAIEBhUGBAMCBRIACAcQAQMEAQEbAwgFBQUHAgMCGwIDBQYHBwIGAh4DBQUDBgQAAAQgAggHAAQGAQIEHQMGAgQEBQUBAh4BAgMDBgkHAgUYAQUECAUGBAIFGwICBQYFBAYCBBsCCAMKAQUCAQIXAQMECwcGBgMFEgEGBxADAwIBAhEDBwUPBAcDAwMNBAUFFQQCBAQFAgMGBR4DBQECBQcEAwgZBQAFAgUKAgcCGgQFAQEDAAECBCEECAgAAQUBBgccBwYDAQUFAQYCHgUDBgEDCgAFBRoEBwMCBgMDAQQeBAYFAgMIAggDHAMFAgEDBwEDBRwEBAgBBQMFBAYgAwMCAAMDAAMIHwUFBgMDCAYDAhsDBwICAwUCBQUeAwMGAAEJAQUGGQQGBwQDCQMEBBoFBAIBBA8DBgUTAwMFAgIIAgQFGgIJBAAEDQUFBhUEAwMEARQBAQMVBgUCAgMUAgIEEAIJBAIDGAAJBQgGBAMCBR8BBAcGBAMBAgUdAgMEBgYEAwEBGwECBwcDCAcCAhoEBAULAwYBAwQYAQEBDAgGBAEDGQIDBQsDBgUBBBoDBAcHBQQDAgMaAAQFCwQFBAEEFAADCA8CBAcBBg8EAgUWAgYBAgMRBAEIEQMEBQIEEQMEBRUBBAMCAQ4DAgIXCAQFAgMMAgUCHAIEBAMDBgMDBBwGAwUBBQwDBAIYAwYEAQIOAgYJFgEEAwAGCgEFBR4CAQQDAQsDAgUdBAAGAwMKAQQEGwMEBQIDDQAIARoFAgQEAwgFBgMaAQEHBwIGAQQHHQMBBAQEEQICBRUEAwIBAQwDAQYXAwcHAgMOAQMJFgIGAgIEDAIECBgBAgUEAxQCAAMSAwQHAgIWAQQEEQMHAgQDGQEDAg4GAgQBAhsBBAcPAwEDBQUWAQIDDQEHBQEGGwUBBQkDBAMCARUDBQcQBgIBBgMYAgYCCgIFBAEEGgUBBA8DAgMDAxcDAQEPBAgDAwMVBAAGFAMBAwIEEgEFBBEDBgQBAxcDBAYQBQMABAINAgMFGwIFAQEEDgIDBhgBBwIABQ4BAwYWAQgEBQQMAwIGFwIDBAQBDgIEBBkEAwMBAwkDAgQaBQkCAwQQAgcEGAEBAgICDQMGCBcBAwMEBQ0BAgMaAgYCBQIPAgMGGAIEAQAGBwMEBhwEBQEEAwoDBQIcBAIDBgIOAQQDFwQCBQEJEQEBBRQCBQMBBhEABgMWAgQDAgQTAQECFAYGAwMHDwMEAhICBwMCARMDAwUTAwMGAgMZAgAFDAMHBQACHAIEBg0CAgUBAh4DBAQKAwMEAQQZAwIDDgYEAgEDGwADAw0EBAYDBB8AAQMHBQYEBAMaAAEHCwUCBQADHgICAgwGBAM=",
          "dtype": "i1",
          "shape": "125, 10"
         }
        }
       ],
       "layout": {
        "coloraxis": {
         "colorbar": {
          "title": {
           "text": "Number of Instances"
          }
         },
         "colorscale": [
          [
           0,
           "#440154"
          ],
          [
           0.1111111111111111,
           "#482878"
          ],
          [
           0.2222222222222222,
           "#3e4989"
          ],
          [
           0.3333333333333333,
           "#31688e"
          ],
          [
           0.4444444444444444,
           "#26828e"
          ],
          [
           0.5555555555555556,
           "#1f9e89"
          ],
          [
           0.6666666666666666,
           "#35b779"
          ],
          [
           0.7777777777777778,
           "#6ece58"
          ],
          [
           0.8888888888888888,
           "#b5de2b"
          ],
          [
           1,
           "#fde725"
          ]
         ]
        },
        "height": 900,
        "margin": {
         "t": 60
        },
        "template": {
         "data": {
          "bar": [
           {
            "error_x": {
             "color": "#2a3f5f"
            },
            "error_y": {
             "color": "#2a3f5f"
            },
            "marker": {
             "line": {
              "color": "#E5ECF6",
              "width": 0.5
             },
             "pattern": {
              "fillmode": "overlay",
              "size": 10,
              "solidity": 0.2
             }
            },
            "type": "bar"
           }
          ],
          "barpolar": [
           {
            "marker": {
             "line": {
              "color": "#E5ECF6",
              "width": 0.5
             },
             "pattern": {
              "fillmode": "overlay",
              "size": 10,
              "solidity": 0.2
             }
            },
            "type": "barpolar"
           }
          ],
          "carpet": [
           {
            "aaxis": {
             "endlinecolor": "#2a3f5f",
             "gridcolor": "white",
             "linecolor": "white",
             "minorgridcolor": "white",
             "startlinecolor": "#2a3f5f"
            },
            "baxis": {
             "endlinecolor": "#2a3f5f",
             "gridcolor": "white",
             "linecolor": "white",
             "minorgridcolor": "white",
             "startlinecolor": "#2a3f5f"
            },
            "type": "carpet"
           }
          ],
          "choropleth": [
           {
            "colorbar": {
             "outlinewidth": 0,
             "ticks": ""
            },
            "type": "choropleth"
           }
          ],
          "contour": [
           {
            "colorbar": {
             "outlinewidth": 0,
             "ticks": ""
            },
            "colorscale": [
             [
              0,
              "#0d0887"
             ],
             [
              0.1111111111111111,
              "#46039f"
             ],
             [
              0.2222222222222222,
              "#7201a8"
             ],
             [
              0.3333333333333333,
              "#9c179e"
             ],
             [
              0.4444444444444444,
              "#bd3786"
             ],
             [
              0.5555555555555556,
              "#d8576b"
             ],
             [
              0.6666666666666666,
              "#ed7953"
             ],
             [
              0.7777777777777778,
              "#fb9f3a"
             ],
             [
              0.8888888888888888,
              "#fdca26"
             ],
             [
              1,
              "#f0f921"
             ]
            ],
            "type": "contour"
           }
          ],
          "contourcarpet": [
           {
            "colorbar": {
             "outlinewidth": 0,
             "ticks": ""
            },
            "type": "contourcarpet"
           }
          ],
          "heatmap": [
           {
            "colorbar": {
             "outlinewidth": 0,
             "ticks": ""
            },
            "colorscale": [
             [
              0,
              "#0d0887"
             ],
             [
              0.1111111111111111,
              "#46039f"
             ],
             [
              0.2222222222222222,
              "#7201a8"
             ],
             [
              0.3333333333333333,
              "#9c179e"
             ],
             [
              0.4444444444444444,
              "#bd3786"
             ],
             [
              0.5555555555555556,
              "#d8576b"
             ],
             [
              0.6666666666666666,
              "#ed7953"
             ],
             [
              0.7777777777777778,
              "#fb9f3a"
             ],
             [
              0.8888888888888888,
              "#fdca26"
             ],
             [
              1,
              "#f0f921"
             ]
            ],
            "type": "heatmap"
           }
          ],
          "histogram": [
           {
            "marker": {
             "pattern": {
              "fillmode": "overlay",
              "size": 10,
              "solidity": 0.2
             }
            },
            "type": "histogram"
           }
          ],
          "histogram2d": [
           {
            "colorbar": {
             "outlinewidth": 0,
             "ticks": ""
            },
            "colorscale": [
             [
              0,
              "#0d0887"
             ],
             [
              0.1111111111111111,
              "#46039f"
             ],
             [
              0.2222222222222222,
              "#7201a8"
             ],
             [
              0.3333333333333333,
              "#9c179e"
             ],
             [
              0.4444444444444444,
              "#bd3786"
             ],
             [
              0.5555555555555556,
              "#d8576b"
             ],
             [
              0.6666666666666666,
              "#ed7953"
             ],
             [
              0.7777777777777778,
              "#fb9f3a"
             ],
             [
              0.8888888888888888,
              "#fdca26"
             ],
             [
              1,
              "#f0f921"
             ]
            ],
            "type": "histogram2d"
           }
          ],
          "histogram2dcontour": [
           {
            "colorbar": {
             "outlinewidth": 0,
             "ticks": ""
            },
            "colorscale": [
             [
              0,
              "#0d0887"
             ],
             [
              0.1111111111111111,
              "#46039f"
             ],
             [
              0.2222222222222222,
              "#7201a8"
             ],
             [
              0.3333333333333333,
              "#9c179e"
             ],
             [
              0.4444444444444444,
              "#bd3786"
             ],
             [
              0.5555555555555556,
              "#d8576b"
             ],
             [
              0.6666666666666666,
              "#ed7953"
             ],
             [
              0.7777777777777778,
              "#fb9f3a"
             ],
             [
              0.8888888888888888,
              "#fdca26"
             ],
             [
              1,
              "#f0f921"
             ]
            ],
            "type": "histogram2dcontour"
           }
          ],
          "mesh3d": [
           {
            "colorbar": {
             "outlinewidth": 0,
             "ticks": ""
            },
            "type": "mesh3d"
           }
          ],
          "parcoords": [
           {
            "line": {
             "colorbar": {
              "outlinewidth": 0,
              "ticks": ""
             }
            },
            "type": "parcoords"
           }
          ],
          "pie": [
           {
            "automargin": true,
            "type": "pie"
           }
          ],
          "scatter": [
           {
            "fillpattern": {
             "fillmode": "overlay",
             "size": 10,
             "solidity": 0.2
            },
            "type": "scatter"
           }
          ],
          "scatter3d": [
           {
            "line": {
             "colorbar": {
              "outlinewidth": 0,
              "ticks": ""
             }
            },
            "marker": {
             "colorbar": {
              "outlinewidth": 0,
              "ticks": ""
             }
            },
            "type": "scatter3d"
           }
          ],
          "scattercarpet": [
           {
            "marker": {
             "colorbar": {
              "outlinewidth": 0,
              "ticks": ""
             }
            },
            "type": "scattercarpet"
           }
          ],
          "scattergeo": [
           {
            "marker": {
             "colorbar": {
              "outlinewidth": 0,
              "ticks": ""
             }
            },
            "type": "scattergeo"
           }
          ],
          "scattergl": [
           {
            "marker": {
             "colorbar": {
              "outlinewidth": 0,
              "ticks": ""
             }
            },
            "type": "scattergl"
           }
          ],
          "scattermap": [
           {
            "marker": {
             "colorbar": {
              "outlinewidth": 0,
              "ticks": ""
             }
            },
            "type": "scattermap"
           }
          ],
          "scattermapbox": [
           {
            "marker": {
             "colorbar": {
              "outlinewidth": 0,
              "ticks": ""
             }
            },
            "type": "scattermapbox"
           }
          ],
          "scatterpolar": [
           {
            "marker": {
             "colorbar": {
              "outlinewidth": 0,
              "ticks": ""
             }
            },
            "type": "scatterpolar"
           }
          ],
          "scatterpolargl": [
           {
            "marker": {
             "colorbar": {
              "outlinewidth": 0,
              "ticks": ""
             }
            },
            "type": "scatterpolargl"
           }
          ],
          "scatterternary": [
           {
            "marker": {
             "colorbar": {
              "outlinewidth": 0,
              "ticks": ""
             }
            },
            "type": "scatterternary"
           }
          ],
          "surface": [
           {
            "colorbar": {
             "outlinewidth": 0,
             "ticks": ""
            },
            "colorscale": [
             [
              0,
              "#0d0887"
             ],
             [
              0.1111111111111111,
              "#46039f"
             ],
             [
              0.2222222222222222,
              "#7201a8"
             ],
             [
              0.3333333333333333,
              "#9c179e"
             ],
             [
              0.4444444444444444,
              "#bd3786"
             ],
             [
              0.5555555555555556,
              "#d8576b"
             ],
             [
              0.6666666666666666,
              "#ed7953"
             ],
             [
              0.7777777777777778,
              "#fb9f3a"
             ],
             [
              0.8888888888888888,
              "#fdca26"
             ],
             [
              1,
              "#f0f921"
             ]
            ],
            "type": "surface"
           }
          ],
          "table": [
           {
            "cells": {
             "fill": {
              "color": "#EBF0F8"
             },
             "line": {
              "color": "white"
             }
            },
            "header": {
             "fill": {
              "color": "#C8D4E3"
             },
             "line": {
              "color": "white"
             }
            },
            "type": "table"
           }
          ]
         },
         "layout": {
          "annotationdefaults": {
           "arrowcolor": "#2a3f5f",
           "arrowhead": 0,
           "arrowwidth": 1
          },
          "autotypenumbers": "strict",
          "coloraxis": {
           "colorbar": {
            "outlinewidth": 0,
            "ticks": ""
           }
          },
          "colorscale": {
           "diverging": [
            [
             0,
             "#8e0152"
            ],
            [
             0.1,
             "#c51b7d"
            ],
            [
             0.2,
             "#de77ae"
            ],
            [
             0.3,
             "#f1b6da"
            ],
            [
             0.4,
             "#fde0ef"
            ],
            [
             0.5,
             "#f7f7f7"
            ],
            [
             0.6,
             "#e6f5d0"
            ],
            [
             0.7,
             "#b8e186"
            ],
            [
             0.8,
             "#7fbc41"
            ],
            [
             0.9,
             "#4d9221"
            ],
            [
             1,
             "#276419"
            ]
           ],
           "sequential": [
            [
             0,
             "#0d0887"
            ],
            [
             0.1111111111111111,
             "#46039f"
            ],
            [
             0.2222222222222222,
             "#7201a8"
            ],
            [
             0.3333333333333333,
             "#9c179e"
            ],
            [
             0.4444444444444444,
             "#bd3786"
            ],
            [
             0.5555555555555556,
             "#d8576b"
            ],
            [
             0.6666666666666666,
             "#ed7953"
            ],
            [
             0.7777777777777778,
             "#fb9f3a"
            ],
            [
             0.8888888888888888,
             "#fdca26"
            ],
            [
             1,
             "#f0f921"
            ]
           ],
           "sequentialminus": [
            [
             0,
             "#0d0887"
            ],
            [
             0.1111111111111111,
             "#46039f"
            ],
            [
             0.2222222222222222,
             "#7201a8"
            ],
            [
             0.3333333333333333,
             "#9c179e"
            ],
            [
             0.4444444444444444,
             "#bd3786"
            ],
            [
             0.5555555555555556,
             "#d8576b"
            ],
            [
             0.6666666666666666,
             "#ed7953"
            ],
            [
             0.7777777777777778,
             "#fb9f3a"
            ],
            [
             0.8888888888888888,
             "#fdca26"
            ],
            [
             1,
             "#f0f921"
            ]
           ]
          },
          "colorway": [
           "#636efa",
           "#EF553B",
           "#00cc96",
           "#ab63fa",
           "#FFA15A",
           "#19d3f3",
           "#FF6692",
           "#B6E880",
           "#FF97FF",
           "#FECB52"
          ],
          "font": {
           "color": "#2a3f5f"
          },
          "geo": {
           "bgcolor": "white",
           "lakecolor": "white",
           "landcolor": "#E5ECF6",
           "showlakes": true,
           "showland": true,
           "subunitcolor": "white"
          },
          "hoverlabel": {
           "align": "left"
          },
          "hovermode": "closest",
          "mapbox": {
           "style": "light"
          },
          "paper_bgcolor": "white",
          "plot_bgcolor": "#E5ECF6",
          "polar": {
           "angularaxis": {
            "gridcolor": "white",
            "linecolor": "white",
            "ticks": ""
           },
           "bgcolor": "#E5ECF6",
           "radialaxis": {
            "gridcolor": "white",
            "linecolor": "white",
            "ticks": ""
           }
          },
          "scene": {
           "xaxis": {
            "backgroundcolor": "#E5ECF6",
            "gridcolor": "white",
            "gridwidth": 2,
            "linecolor": "white",
            "showbackground": true,
            "ticks": "",
            "zerolinecolor": "white"
           },
           "yaxis": {
            "backgroundcolor": "#E5ECF6",
            "gridcolor": "white",
            "gridwidth": 2,
            "linecolor": "white",
            "showbackground": true,
            "ticks": "",
            "zerolinecolor": "white"
           },
           "zaxis": {
            "backgroundcolor": "#E5ECF6",
            "gridcolor": "white",
            "gridwidth": 2,
            "linecolor": "white",
            "showbackground": true,
            "ticks": "",
            "zerolinecolor": "white"
           }
          },
          "shapedefaults": {
           "line": {
            "color": "#2a3f5f"
           }
          },
          "ternary": {
           "aaxis": {
            "gridcolor": "white",
            "linecolor": "white",
            "ticks": ""
           },
           "baxis": {
            "gridcolor": "white",
            "linecolor": "white",
            "ticks": ""
           },
           "bgcolor": "#E5ECF6",
           "caxis": {
            "gridcolor": "white",
            "linecolor": "white",
            "ticks": ""
           }
          },
          "title": {
           "x": 0.05
          },
          "xaxis": {
           "automargin": true,
           "gridcolor": "white",
           "linecolor": "white",
           "ticks": "",
           "title": {
            "standoff": 15
           },
           "zerolinecolor": "white",
           "zerolinewidth": 2
          },
          "yaxis": {
           "automargin": true,
           "gridcolor": "white",
           "linecolor": "white",
           "ticks": "",
           "title": {
            "standoff": 15
           },
           "zerolinecolor": "white",
           "zerolinewidth": 2
          }
         }
        },
        "title": {
         "text": "EDR Class Distribution in Each Batch - Task ID 4"
        },
        "xaxis": {
         "anchor": "y",
         "domain": [
          0,
          1
         ],
         "title": {
          "text": "Classes"
         }
        },
        "yaxis": {
         "anchor": "x",
         "autorange": "reversed",
         "domain": [
          0,
          1
         ],
         "title": {
          "text": "Batches"
         }
        }
       }
      }
     },
     "metadata": {},
     "output_type": "display_data"
    }
   ],
   "source": [
    "import numpy as np\n",
    "import plotly.express as px\n",
    "\n",
    "task_id = 4\n",
    "\n",
    "df = pd.read_csv(\"../results_plot_SplitFashionMNIST_['EDR', 'ER']_False_[]_32_5_0_5_2/train_batches_y_ExperienceDelayReplay.log\", \n",
    "                 names=[\"task_id\", \"class_0\", \"class_1\", \"class_2\", \"class_3\", \"class_4\", \"class_5\", \"class_6\", \n",
    "                            \"class_7\", \"class_8\", \"class_9\"])\n",
    "\n",
    "\n",
    "df_plot = df.loc[df.task_id == task_id].reset_index(drop=True).copy()\n",
    "# df_plot = pd.concat([df_plot[:10], df_plot[80:90], df_plot[115:125]], ignore_index=True)\n",
    "df_plot.drop(columns=[\"task_id\"], inplace=True)\n",
    "\n",
    "# Criação do heatmap interativo (classe no eixo Y, batch no eixo X)\n",
    "fig = px.imshow(\n",
    "    df_plot,\n",
    "    labels=dict(x=\"Classes\", y=\"Batches\", color=\"Number of Instances\"),\n",
    "    # x=[f\"Batch {i}\" for i in range(1, num_batches+1)],\n",
    "    # y=[f\"Classe {i}\" for i in range(num_classes)],\n",
    "    aspect=\"auto\",\n",
    "    color_continuous_scale=\"Viridis\",\n",
    "    origin=\"upper\",  # garante que Classe 0 fique em cima\n",
    "    # text_auto=True\n",
    ")\n",
    "\n",
    "fig.update_layout(\n",
    "    title=\"EDR Class Distribution in Each Batch - Task ID {}\".format(task_id),\n",
    "    xaxis_title=\"Classes\",\n",
    "    yaxis_title=\"Batches\",\n",
    "    height=900,\n",
    ")\n",
    "\n",
    "fig.show()\n"
   ]
  },
  {
   "cell_type": "code",
   "execution_count": 11,
   "id": "65f2c510",
   "metadata": {},
   "outputs": [
    {
     "data": {
      "application/vnd.plotly.v1+json": {
       "config": {
        "plotlyServerURL": "https://plot.ly"
       },
       "data": [
        {
         "coloraxis": "coloraxis",
         "hovertemplate": "Classes: %{x}<br>Batches: %{y}<br>Number of Instances: %{z}<extra></extra>",
         "name": "0",
         "type": "heatmap",
         "x": [
          "class_0",
          "class_1",
          "class_2",
          "class_3",
          "class_4",
          "class_5",
          "class_6",
          "class_7",
          "class_8",
          "class_9"
         ],
         "xaxis": "x",
         "y": {
          "bdata": "AAABAAIAAwAEAAUABgAHAAgACQAKAAsADAANAA4ADwAQABEAEgATABQAFQAWABcAGAAZABoAGwAcAB0AHgAfACAAIQAiACMAJAAlACYAJwAoACkAKgArACwALQAuAC8AMAAxADIAMwA0ADUANgA3ADgAOQA6ADsAPAA9AD4APwBAAEEAQgBDAEQARQBGAEcASABJAEoASwBMAE0ATgBPAFAAUQBSAFMAVABVAFYAVwBYAFkAWgBbAFwAXQBeAF8AYABhAGIAYwBkAGUAZgBnAGgAaQBqAGsAbABtAG4AbwBwAHEAcgBzAHQAdQB2AHcAeAB5AHoAewB8AH0AfgB/AIAAgQCCAIMAhACFAIYAhwCIAIkAigCLAIwAjQCOAI8AkACRAJIAkwCUAJUAlgCXAJgAmQCaAJsAnACdAJ4AnwCgAKEAogCjAKQApQCmAKcAqACpAKoAqwCsAK0ArgCvALAAsQCyALMAtAC1ALYAtwC4ALkAugA=",
          "dtype": "i2"
         },
         "yaxis": "y",
         "z": {
          "bdata": "DwEABgQHAAQWBRQDAAYDAgAHFAMUAwAIAwUABRAEFQQABgIFAAQQBhQDAAUDBQACEggUAgAEBwQABBMEAwMPAwQEEQYDBgUBEQYCAw8DBQcCAA8FBgMRBQcEAQISCQYADgkBBAMGDQcDAhMEAwQDAg0GAwQTCAEFAwIRAgQGEAMFBgMDEQgBAg8GAgcCARQFAwcNBgMEAgQPAgkCEQcDAwICDAQEAxQDCQUDBQ0EBQEVBQQDBgMOBgQGEgMBAwAICwYCBBcFAgMEAw0FBAMTBAUEBQEWBAEGCgMIBAQEDQIDCRMCBQMDAQ4CCAMSBwYCBAEQAgUEEAQFBwIDFAUIBwwDAQMEAxEECAIQBQIDAAISBQYGDgMEBgQGCwMABRYHAgQCBBAEAgQQBQUGBwQSBAIFDgADBwIHDwUBAxEHBAMDAhMCBgMOBwMFAwIPAQcEEwUEBAMHDwEAAxIGBAcGBBMDAwENAgYHAwQNBwUDEwQEAgIDEwQCBQ4FAQkFAhIEAwMOBwQEAgMVAwcCDQUBBwMDEQcDAxAEBQMBBBEDBAIPBQcGAwgSBAIBEAcDAgYCEQAEBxACAwcEAhQGBAQNBQQCAgMPBgMFEQgBBAEDEQMDBBEIBAQCBA8CAgoTAwMEAgMOBQQDEwgCBAMFDwYEABIEAwYCBQ4CBAQUBgMEBAQOAwQEEgMGBAQAEQYDAxMFAwQBAhIHAwIPBgMHAgQTAQECDw4CBAMAEAYFAxEGAwUBBg8GBQMSBAMDBgIOAwECFQYGAwIDDwEHABMHBgQDBAwHBQMWAQIFAwUOAgUCFAYDBAYCEwQEAw4HAQQDBhEDAwIPCQEFAwEPAwUEEQYCCAIDEQQEABAFBwYBAhADBgQQCgIEAQMSBAYBEwYEAgMCEgIEBA8EBQcDBhAFAgQQBAEHBQMTAgUEEQECBgAGEQQHAw8FAgUBBRQABAYOBgQEAQENBAQEFwUDBgIDDwIGAxUCAggEAxMCBgIQCQECAQkOBAUCEgYFAAAEFAYCBREGAAQDAhEFAwISBQYDAgYOBQQEFAMDAwIAFAYFAhIHAQMEAwwEBgMZAgIDAgMPAgUHEwIEBQQBFgUEBA8CAwQCAg0FCAAVAwYEAAEKAgUFGAYEBwMGEAIHARMHAAMBAhAEBAURBgcCBAIOAQIGGAUDAwMFDgAHAhMCBwUCAxADBAQUBQEGAgIVBQcEDQMCBQQDEAIDAhMGAwYCBQ8FBAISBQcBAwUQBAEDEwUDBQMEFQAGAA0HBgQBARIFBwISBQMEAQQOAwQDFQYDBQADCQIHARkFBwUEBRgDBQMMAwIDBAQOAgEEFwcDAgIEEwQGAw8DAwUEBREFAQEVBQQBBAMVAwMDDQQDBwEFDgEGARcIBAEEAxIEAwISBQMEBAESAgUDEAYCBwMEDwQDAxMDBQUDAw4FBgITBQQDAgISBQQCEQgCBAIGFAACBw4IAgMCBRUDCAIOAwEFAgMQBAQAEwQGBgMDDQQCABYGAwgDAxEDBgUSBAEEAwMTAwYBEgUEAgIEFQQBAw0GBAYDBQ0DAgEUCgIFAwYTAQUDEQQEAgAEEQUEAhMHBQEAAREEBQEVBwUDAgQUAgMAEwUEBQMIDwIEAhQDAwQEBBcEAQEQBAEGAwYQBAIBFgUCAwQFDwQDAxMEAgUCBg0GBAQVBAMBBAIQAwQDFgQDAwEGEgUEAw8GAwMDBhMDBQMQBAIDBQIPAgQCFgYEAgAKDwAEARYFAwQCBBEGBgERBQIEBQIXBAADEgUCAgEEEAUHAxMFAwECAxYBAgESBAIJAAwQAwQCEwIEAgMCDwQEAhIIAwUAAxcGBwQMBQEDAQQSAAUEEgQFBQAFEAADBBYDBAcACQ8GAQQTBwADAgMXBAMBDgQFBQMEDAEDBBgHAAYFBRQGAwIQBAADAQIPAgIHFAQEBwEGEgQFBBADBAMAAxUCBgQSBQQBAwUNAgQBFwUFAwIIFwEDBQsGAwIAAxMBBgETBgUEAgISBAQFEgYBBAIFFQYDBBABAgQGAhIDBAIUBgECAgMPBQQFEwUABgMGEQMFARMCBwECAxkHAwMPAwADAQUPBAECFgcCBQUDFQAFAhAFAgUDARcDAwcPBAEEAQQWAgMFEwEDBAUCEwEGAxAEAgYBBhQCAQMSAwMHAQEVBAICEwUEBQIFFAYCAhIFAQMCAxkCAgIPBwAGAAITBAQBFQYDBAICDQIFAxgEBAUDAxQCAwEUBgIEAAITAQUEFAQDBgADGQQCBQwFAgYEBBkDAQIOBQQCAQETBAQFEwcBAwMDEwEBBRIGAwUABxQBBQITAgYCAggSAgQCFQMCAgIDFQMCBhADAwUCAxYFAwMTAgMCAQQSBQMFEgMFAgEEGAQBBA0GAQYCAxYBBAUSAwAGAAQNBAEFGQYDAwMDEwEDAhMGAwUEBRADAwATBAUFAgESAgQCFgUDBQECDwkDARgDBAIEAhEGAgIVBAIEAgQZAwMBDAUEBQ==",
          "dtype": "i1",
          "shape": "187, 10"
         }
        }
       ],
       "layout": {
        "coloraxis": {
         "colorbar": {
          "title": {
           "text": "Number of Instances"
          }
         },
         "colorscale": [
          [
           0,
           "#440154"
          ],
          [
           0.1111111111111111,
           "#482878"
          ],
          [
           0.2222222222222222,
           "#3e4989"
          ],
          [
           0.3333333333333333,
           "#31688e"
          ],
          [
           0.4444444444444444,
           "#26828e"
          ],
          [
           0.5555555555555556,
           "#1f9e89"
          ],
          [
           0.6666666666666666,
           "#35b779"
          ],
          [
           0.7777777777777778,
           "#6ece58"
          ],
          [
           0.8888888888888888,
           "#b5de2b"
          ],
          [
           1,
           "#fde725"
          ]
         ]
        },
        "height": 1000,
        "margin": {
         "t": 60
        },
        "template": {
         "data": {
          "bar": [
           {
            "error_x": {
             "color": "#2a3f5f"
            },
            "error_y": {
             "color": "#2a3f5f"
            },
            "marker": {
             "line": {
              "color": "#E5ECF6",
              "width": 0.5
             },
             "pattern": {
              "fillmode": "overlay",
              "size": 10,
              "solidity": 0.2
             }
            },
            "type": "bar"
           }
          ],
          "barpolar": [
           {
            "marker": {
             "line": {
              "color": "#E5ECF6",
              "width": 0.5
             },
             "pattern": {
              "fillmode": "overlay",
              "size": 10,
              "solidity": 0.2
             }
            },
            "type": "barpolar"
           }
          ],
          "carpet": [
           {
            "aaxis": {
             "endlinecolor": "#2a3f5f",
             "gridcolor": "white",
             "linecolor": "white",
             "minorgridcolor": "white",
             "startlinecolor": "#2a3f5f"
            },
            "baxis": {
             "endlinecolor": "#2a3f5f",
             "gridcolor": "white",
             "linecolor": "white",
             "minorgridcolor": "white",
             "startlinecolor": "#2a3f5f"
            },
            "type": "carpet"
           }
          ],
          "choropleth": [
           {
            "colorbar": {
             "outlinewidth": 0,
             "ticks": ""
            },
            "type": "choropleth"
           }
          ],
          "contour": [
           {
            "colorbar": {
             "outlinewidth": 0,
             "ticks": ""
            },
            "colorscale": [
             [
              0,
              "#0d0887"
             ],
             [
              0.1111111111111111,
              "#46039f"
             ],
             [
              0.2222222222222222,
              "#7201a8"
             ],
             [
              0.3333333333333333,
              "#9c179e"
             ],
             [
              0.4444444444444444,
              "#bd3786"
             ],
             [
              0.5555555555555556,
              "#d8576b"
             ],
             [
              0.6666666666666666,
              "#ed7953"
             ],
             [
              0.7777777777777778,
              "#fb9f3a"
             ],
             [
              0.8888888888888888,
              "#fdca26"
             ],
             [
              1,
              "#f0f921"
             ]
            ],
            "type": "contour"
           }
          ],
          "contourcarpet": [
           {
            "colorbar": {
             "outlinewidth": 0,
             "ticks": ""
            },
            "type": "contourcarpet"
           }
          ],
          "heatmap": [
           {
            "colorbar": {
             "outlinewidth": 0,
             "ticks": ""
            },
            "colorscale": [
             [
              0,
              "#0d0887"
             ],
             [
              0.1111111111111111,
              "#46039f"
             ],
             [
              0.2222222222222222,
              "#7201a8"
             ],
             [
              0.3333333333333333,
              "#9c179e"
             ],
             [
              0.4444444444444444,
              "#bd3786"
             ],
             [
              0.5555555555555556,
              "#d8576b"
             ],
             [
              0.6666666666666666,
              "#ed7953"
             ],
             [
              0.7777777777777778,
              "#fb9f3a"
             ],
             [
              0.8888888888888888,
              "#fdca26"
             ],
             [
              1,
              "#f0f921"
             ]
            ],
            "type": "heatmap"
           }
          ],
          "histogram": [
           {
            "marker": {
             "pattern": {
              "fillmode": "overlay",
              "size": 10,
              "solidity": 0.2
             }
            },
            "type": "histogram"
           }
          ],
          "histogram2d": [
           {
            "colorbar": {
             "outlinewidth": 0,
             "ticks": ""
            },
            "colorscale": [
             [
              0,
              "#0d0887"
             ],
             [
              0.1111111111111111,
              "#46039f"
             ],
             [
              0.2222222222222222,
              "#7201a8"
             ],
             [
              0.3333333333333333,
              "#9c179e"
             ],
             [
              0.4444444444444444,
              "#bd3786"
             ],
             [
              0.5555555555555556,
              "#d8576b"
             ],
             [
              0.6666666666666666,
              "#ed7953"
             ],
             [
              0.7777777777777778,
              "#fb9f3a"
             ],
             [
              0.8888888888888888,
              "#fdca26"
             ],
             [
              1,
              "#f0f921"
             ]
            ],
            "type": "histogram2d"
           }
          ],
          "histogram2dcontour": [
           {
            "colorbar": {
             "outlinewidth": 0,
             "ticks": ""
            },
            "colorscale": [
             [
              0,
              "#0d0887"
             ],
             [
              0.1111111111111111,
              "#46039f"
             ],
             [
              0.2222222222222222,
              "#7201a8"
             ],
             [
              0.3333333333333333,
              "#9c179e"
             ],
             [
              0.4444444444444444,
              "#bd3786"
             ],
             [
              0.5555555555555556,
              "#d8576b"
             ],
             [
              0.6666666666666666,
              "#ed7953"
             ],
             [
              0.7777777777777778,
              "#fb9f3a"
             ],
             [
              0.8888888888888888,
              "#fdca26"
             ],
             [
              1,
              "#f0f921"
             ]
            ],
            "type": "histogram2dcontour"
           }
          ],
          "mesh3d": [
           {
            "colorbar": {
             "outlinewidth": 0,
             "ticks": ""
            },
            "type": "mesh3d"
           }
          ],
          "parcoords": [
           {
            "line": {
             "colorbar": {
              "outlinewidth": 0,
              "ticks": ""
             }
            },
            "type": "parcoords"
           }
          ],
          "pie": [
           {
            "automargin": true,
            "type": "pie"
           }
          ],
          "scatter": [
           {
            "fillpattern": {
             "fillmode": "overlay",
             "size": 10,
             "solidity": 0.2
            },
            "type": "scatter"
           }
          ],
          "scatter3d": [
           {
            "line": {
             "colorbar": {
              "outlinewidth": 0,
              "ticks": ""
             }
            },
            "marker": {
             "colorbar": {
              "outlinewidth": 0,
              "ticks": ""
             }
            },
            "type": "scatter3d"
           }
          ],
          "scattercarpet": [
           {
            "marker": {
             "colorbar": {
              "outlinewidth": 0,
              "ticks": ""
             }
            },
            "type": "scattercarpet"
           }
          ],
          "scattergeo": [
           {
            "marker": {
             "colorbar": {
              "outlinewidth": 0,
              "ticks": ""
             }
            },
            "type": "scattergeo"
           }
          ],
          "scattergl": [
           {
            "marker": {
             "colorbar": {
              "outlinewidth": 0,
              "ticks": ""
             }
            },
            "type": "scattergl"
           }
          ],
          "scattermap": [
           {
            "marker": {
             "colorbar": {
              "outlinewidth": 0,
              "ticks": ""
             }
            },
            "type": "scattermap"
           }
          ],
          "scattermapbox": [
           {
            "marker": {
             "colorbar": {
              "outlinewidth": 0,
              "ticks": ""
             }
            },
            "type": "scattermapbox"
           }
          ],
          "scatterpolar": [
           {
            "marker": {
             "colorbar": {
              "outlinewidth": 0,
              "ticks": ""
             }
            },
            "type": "scatterpolar"
           }
          ],
          "scatterpolargl": [
           {
            "marker": {
             "colorbar": {
              "outlinewidth": 0,
              "ticks": ""
             }
            },
            "type": "scatterpolargl"
           }
          ],
          "scatterternary": [
           {
            "marker": {
             "colorbar": {
              "outlinewidth": 0,
              "ticks": ""
             }
            },
            "type": "scatterternary"
           }
          ],
          "surface": [
           {
            "colorbar": {
             "outlinewidth": 0,
             "ticks": ""
            },
            "colorscale": [
             [
              0,
              "#0d0887"
             ],
             [
              0.1111111111111111,
              "#46039f"
             ],
             [
              0.2222222222222222,
              "#7201a8"
             ],
             [
              0.3333333333333333,
              "#9c179e"
             ],
             [
              0.4444444444444444,
              "#bd3786"
             ],
             [
              0.5555555555555556,
              "#d8576b"
             ],
             [
              0.6666666666666666,
              "#ed7953"
             ],
             [
              0.7777777777777778,
              "#fb9f3a"
             ],
             [
              0.8888888888888888,
              "#fdca26"
             ],
             [
              1,
              "#f0f921"
             ]
            ],
            "type": "surface"
           }
          ],
          "table": [
           {
            "cells": {
             "fill": {
              "color": "#EBF0F8"
             },
             "line": {
              "color": "white"
             }
            },
            "header": {
             "fill": {
              "color": "#C8D4E3"
             },
             "line": {
              "color": "white"
             }
            },
            "type": "table"
           }
          ]
         },
         "layout": {
          "annotationdefaults": {
           "arrowcolor": "#2a3f5f",
           "arrowhead": 0,
           "arrowwidth": 1
          },
          "autotypenumbers": "strict",
          "coloraxis": {
           "colorbar": {
            "outlinewidth": 0,
            "ticks": ""
           }
          },
          "colorscale": {
           "diverging": [
            [
             0,
             "#8e0152"
            ],
            [
             0.1,
             "#c51b7d"
            ],
            [
             0.2,
             "#de77ae"
            ],
            [
             0.3,
             "#f1b6da"
            ],
            [
             0.4,
             "#fde0ef"
            ],
            [
             0.5,
             "#f7f7f7"
            ],
            [
             0.6,
             "#e6f5d0"
            ],
            [
             0.7,
             "#b8e186"
            ],
            [
             0.8,
             "#7fbc41"
            ],
            [
             0.9,
             "#4d9221"
            ],
            [
             1,
             "#276419"
            ]
           ],
           "sequential": [
            [
             0,
             "#0d0887"
            ],
            [
             0.1111111111111111,
             "#46039f"
            ],
            [
             0.2222222222222222,
             "#7201a8"
            ],
            [
             0.3333333333333333,
             "#9c179e"
            ],
            [
             0.4444444444444444,
             "#bd3786"
            ],
            [
             0.5555555555555556,
             "#d8576b"
            ],
            [
             0.6666666666666666,
             "#ed7953"
            ],
            [
             0.7777777777777778,
             "#fb9f3a"
            ],
            [
             0.8888888888888888,
             "#fdca26"
            ],
            [
             1,
             "#f0f921"
            ]
           ],
           "sequentialminus": [
            [
             0,
             "#0d0887"
            ],
            [
             0.1111111111111111,
             "#46039f"
            ],
            [
             0.2222222222222222,
             "#7201a8"
            ],
            [
             0.3333333333333333,
             "#9c179e"
            ],
            [
             0.4444444444444444,
             "#bd3786"
            ],
            [
             0.5555555555555556,
             "#d8576b"
            ],
            [
             0.6666666666666666,
             "#ed7953"
            ],
            [
             0.7777777777777778,
             "#fb9f3a"
            ],
            [
             0.8888888888888888,
             "#fdca26"
            ],
            [
             1,
             "#f0f921"
            ]
           ]
          },
          "colorway": [
           "#636efa",
           "#EF553B",
           "#00cc96",
           "#ab63fa",
           "#FFA15A",
           "#19d3f3",
           "#FF6692",
           "#B6E880",
           "#FF97FF",
           "#FECB52"
          ],
          "font": {
           "color": "#2a3f5f"
          },
          "geo": {
           "bgcolor": "white",
           "lakecolor": "white",
           "landcolor": "#E5ECF6",
           "showlakes": true,
           "showland": true,
           "subunitcolor": "white"
          },
          "hoverlabel": {
           "align": "left"
          },
          "hovermode": "closest",
          "mapbox": {
           "style": "light"
          },
          "paper_bgcolor": "white",
          "plot_bgcolor": "#E5ECF6",
          "polar": {
           "angularaxis": {
            "gridcolor": "white",
            "linecolor": "white",
            "ticks": ""
           },
           "bgcolor": "#E5ECF6",
           "radialaxis": {
            "gridcolor": "white",
            "linecolor": "white",
            "ticks": ""
           }
          },
          "scene": {
           "xaxis": {
            "backgroundcolor": "#E5ECF6",
            "gridcolor": "white",
            "gridwidth": 2,
            "linecolor": "white",
            "showbackground": true,
            "ticks": "",
            "zerolinecolor": "white"
           },
           "yaxis": {
            "backgroundcolor": "#E5ECF6",
            "gridcolor": "white",
            "gridwidth": 2,
            "linecolor": "white",
            "showbackground": true,
            "ticks": "",
            "zerolinecolor": "white"
           },
           "zaxis": {
            "backgroundcolor": "#E5ECF6",
            "gridcolor": "white",
            "gridwidth": 2,
            "linecolor": "white",
            "showbackground": true,
            "ticks": "",
            "zerolinecolor": "white"
           }
          },
          "shapedefaults": {
           "line": {
            "color": "#2a3f5f"
           }
          },
          "ternary": {
           "aaxis": {
            "gridcolor": "white",
            "linecolor": "white",
            "ticks": ""
           },
           "baxis": {
            "gridcolor": "white",
            "linecolor": "white",
            "ticks": ""
           },
           "bgcolor": "#E5ECF6",
           "caxis": {
            "gridcolor": "white",
            "linecolor": "white",
            "ticks": ""
           }
          },
          "title": {
           "x": 0.05
          },
          "xaxis": {
           "automargin": true,
           "gridcolor": "white",
           "linecolor": "white",
           "ticks": "",
           "title": {
            "standoff": 15
           },
           "zerolinecolor": "white",
           "zerolinewidth": 2
          },
          "yaxis": {
           "automargin": true,
           "gridcolor": "white",
           "linecolor": "white",
           "ticks": "",
           "title": {
            "standoff": 15
           },
           "zerolinecolor": "white",
           "zerolinewidth": 2
          }
         }
        },
        "title": {
         "text": "ER Class Distribution in Each Batch - Task ID 4"
        },
        "xaxis": {
         "anchor": "y",
         "domain": [
          0,
          1
         ],
         "title": {
          "text": "Classes"
         }
        },
        "yaxis": {
         "anchor": "x",
         "autorange": "reversed",
         "domain": [
          0,
          1
         ],
         "title": {
          "text": "Batches"
         }
        }
       }
      }
     },
     "metadata": {},
     "output_type": "display_data"
    }
   ],
   "source": [
    "import numpy as np\n",
    "import plotly.express as px\n",
    "\n",
    "task_id = 4\n",
    "\n",
    "df = pd.read_csv(\"../results_plot_SplitFashionMNIST_['EDR', 'ER']_False_[]_32_5_0_5_2/train_batches_y_ExperienceReplay.log\", \n",
    "                 names=[\"task_id\", \"class_0\", \"class_1\", \"class_2\", \"class_3\", \"class_4\", \"class_5\", \"class_6\", \n",
    "                        \"class_7\", \"class_8\", \"class_9\"])\n",
    "\n",
    "df_plot = df.loc[df.task_id == task_id].reset_index(drop=True).copy()\n",
    "df_plot.drop(columns=[\"task_id\"], inplace=True)\n",
    "\n",
    "# Criação do heatmap interativo (classe no eixo Y, batch no eixo X)\n",
    "fig = px.imshow(\n",
    "    df_plot,\n",
    "    labels=dict(x=\"Classes\", y=\"Batches\", color=\"Number of Instances\"),\n",
    "    # x=[f\"Batch {i}\" for i in range(1, num_batches+1)],\n",
    "    # y=[f\"Classe {i}\" for i in range(num_classes)],\n",
    "    aspect=\"auto\",\n",
    "    color_continuous_scale=\"Viridis\",\n",
    "    origin=\"upper\",  # garante que Classe 0 fique em cima\n",
    "    # text_auto=True\n",
    ")\n",
    "\n",
    "fig.update_layout(\n",
    "    title=\"ER Class Distribution in Each Batch - Task ID {}\".format(task_id),\n",
    "    xaxis_title=\"Classes\",\n",
    "    yaxis_title=\"Batches\",\n",
    "    height=1000,\n",
    ")\n",
    "\n",
    "fig.show()"
   ]
  }
 ],
 "metadata": {
  "kernelspec": {
   "display_name": "partially-delay-labeled-datastream (3.11.11)",
   "language": "python",
   "name": "python3"
  },
  "language_info": {
   "codemirror_mode": {
    "name": "ipython",
    "version": 3
   },
   "file_extension": ".py",
   "mimetype": "text/x-python",
   "name": "python",
   "nbconvert_exporter": "python",
   "pygments_lexer": "ipython3",
   "version": "3.11.11"
  }
 },
 "nbformat": 4,
 "nbformat_minor": 5
}
